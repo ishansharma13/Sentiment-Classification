{
  "nbformat": 4,
  "nbformat_minor": 0,
  "metadata": {
    "colab": {
      "name": "word_embeddings.ipynb",
      "provenance": []
    },
    "kernelspec": {
      "name": "python3",
      "display_name": "Python 3"
    },
    "language_info": {
      "name": "python"
    }
  },
  "cells": [
    {
      "cell_type": "code",
      "metadata": {
        "id": "DIovhyKdlRBK"
      },
      "source": [
        "from google.colab import drive"
      ],
      "execution_count": null,
      "outputs": []
    },
    {
      "cell_type": "code",
      "metadata": {
        "colab": {
          "base_uri": "https://localhost:8080/"
        },
        "id": "Ftm8iCkzlWvV",
        "outputId": "002ba8de-702e-4abb-ffb8-e51c60c03739"
      },
      "source": [
        "drive.mount('/content/drive')"
      ],
      "execution_count": null,
      "outputs": [
        {
          "output_type": "stream",
          "text": [
            "Drive already mounted at /content/drive; to attempt to forcibly remount, call drive.mount(\"/content/drive\", force_remount=True).\n"
          ],
          "name": "stdout"
        }
      ]
    },
    {
      "cell_type": "code",
      "metadata": {
        "id": "J12SFTEQlZG9"
      },
      "source": [
        "import pandas as pd\n",
        "df_vp = pd.read_csv('/content/drive/MyDrive/sentiment data/vpos_prep.csv')\n",
        "df_vn = pd.read_csv('/content/drive/MyDrive/sentiment data/vneg_prep.csv')\n",
        "df_tr = pd.read_csv('/content/drive/MyDrive/sentiment data/train_sent_wt_mod.csv')"
      ],
      "execution_count": null,
      "outputs": []
    },
    {
      "cell_type": "code",
      "metadata": {
        "id": "NHwGRmH1mDQ8"
      },
      "source": [
        "df_vp_tr = df_tr[df_tr['final_sent_class']=='VPos']\n",
        "df_vn_tr = df_tr[df_tr['final_sent_class']=='VNeg']"
      ],
      "execution_count": null,
      "outputs": []
    },
    {
      "cell_type": "code",
      "metadata": {
        "id": "VHkM-0wKmx8V"
      },
      "source": [
        "df_vp.rename(columns = {'id':'u_id'},inplace = True)\n",
        "df_vn.rename(columns = {'id':'u_id'},inplace = True)"
      ],
      "execution_count": null,
      "outputs": []
    },
    {
      "cell_type": "code",
      "metadata": {
        "colab": {
          "base_uri": "https://localhost:8080/"
        },
        "id": "RFtDsUAFsh4e",
        "outputId": "bde8b7bb-5287-4bcc-835c-87a85aff74b9"
      },
      "source": [
        "df_vp.columns"
      ],
      "execution_count": null,
      "outputs": [
        {
          "output_type": "execute_result",
          "data": {
            "text/plain": [
              "Index(['u_id', 'final_sent_class', 'preprocessed'], dtype='object')"
            ]
          },
          "metadata": {
            "tags": []
          },
          "execution_count": 12
        }
      ]
    },
    {
      "cell_type": "code",
      "metadata": {
        "id": "s1213RTLmTIT"
      },
      "source": [
        "to_add = df_vp[df_vp.preprocessed.isin(df_vp_tr.preprocessed) == False]\n",
        "# len(df_vp)"
      ],
      "execution_count": null,
      "outputs": []
    },
    {
      "cell_type": "code",
      "metadata": {
        "id": "CBUSuww7n7t7"
      },
      "source": [
        "vp_fin = df_vp_tr.append(to_add,ignore_index = True)"
      ],
      "execution_count": null,
      "outputs": []
    },
    {
      "cell_type": "code",
      "metadata": {
        "id": "v26-OLZ8oFne"
      },
      "source": [
        "vp_fin = vp_fin.drop_duplicates('preprocessed')\n",
        "df_vp_fin_new_tr = vp_fin.sample(n=140000,random_state = 1)"
      ],
      "execution_count": null,
      "outputs": []
    },
    {
      "cell_type": "code",
      "metadata": {
        "id": "iL7TO_0en8h3"
      },
      "source": [
        "to_add_vn = df_vn[df_vn.preprocessed.isin(df_vn_tr.preprocessed) == False]"
      ],
      "execution_count": null,
      "outputs": []
    },
    {
      "cell_type": "code",
      "metadata": {
        "id": "IbuGAIezpVHw"
      },
      "source": [
        "vn_fin = df_vn_tr.append(to_add_vn,ignore_index = True)\n",
        "vn_fin = vn_fin.drop_duplicates('preprocessed')\n",
        "df_vn_fin_new_tr = vn_fin.sample(n=140000,random_state = 1)"
      ],
      "execution_count": null,
      "outputs": []
    },
    {
      "cell_type": "code",
      "metadata": {
        "id": "p9cKISbepnoR"
      },
      "source": [
        "df_p_tr = df_tr[df_tr['final_sent_class']=='Pos']\n",
        "df_n_tr = df_tr[df_tr['final_sent_class']=='Neg']\n",
        "df_neu_tr = df_tr[df_tr['final_sent_class']=='Neu']"
      ],
      "execution_count": null,
      "outputs": []
    },
    {
      "cell_type": "code",
      "metadata": {
        "id": "VQywapiLp81j"
      },
      "source": [
        "df_p_tr = df_p_tr.drop_duplicates('preprocessed')\n",
        "df_n_tr = df_n_tr.drop_duplicates('preprocessed')\n",
        "df_neu_tr = df_neu_tr.drop_duplicates('preprocessed')"
      ],
      "execution_count": null,
      "outputs": []
    },
    {
      "cell_type": "code",
      "metadata": {
        "id": "cpc3d-xIqtCp"
      },
      "source": [
        "df_p_fin_new_tr = df_p_tr.sample(n=140000,random_state = 1)\n",
        "df_n_fin_new_tr = df_n_tr.sample(n=140000,random_state = 1)\n",
        "df_neu_fin_new_tr = df_neu_tr.sample(n=140000,random_state = 1)"
      ],
      "execution_count": null,
      "outputs": []
    },
    {
      "cell_type": "code",
      "metadata": {
        "colab": {
          "base_uri": "https://localhost:8080/"
        },
        "id": "qWHCEpWmrBFU",
        "outputId": "d48ff06b-b3d7-4a1a-edef-f3bdeb60f7b9"
      },
      "source": [
        "len(df_neu_fin_new_tr.drop_duplicates('preprocessed'))"
      ],
      "execution_count": null,
      "outputs": [
        {
          "output_type": "execute_result",
          "data": {
            "text/plain": [
              "140000"
            ]
          },
          "metadata": {
            "tags": []
          },
          "execution_count": 25
        }
      ]
    },
    {
      "cell_type": "code",
      "metadata": {
        "id": "PJGArQqvrV4g"
      },
      "source": [
        "df_fin_new_tr = pd.concat([df_vp_fin_new_tr,df_p_fin_new_tr,df_neu_fin_new_tr,df_n_fin_new_tr,df_vn_fin_new_tr],ignore_index=True)"
      ],
      "execution_count": null,
      "outputs": []
    },
    {
      "cell_type": "code",
      "metadata": {
        "id": "J3Osgaw7rmwv"
      },
      "source": [
        "df_fin = df_fin_new_tr.sample(frac=1).reset_index(drop=True)"
      ],
      "execution_count": null,
      "outputs": []
    },
    {
      "cell_type": "code",
      "metadata": {
        "id": "YnbbmPzXr0ZV"
      },
      "source": [
        "vpos = df_fin.drop_duplicates('preprocessed')[df_fin.drop_duplicates('preprocessed')['final_sent_class']=='VPos']\n",
        "pos = df_fin.drop_duplicates('preprocessed')[df_fin.drop_duplicates('preprocessed')['final_sent_class']=='Pos']\n",
        "neu = df_fin.drop_duplicates('preprocessed')[df_fin.drop_duplicates('preprocessed')['final_sent_class']=='Neu']\n",
        "neg = df_fin.drop_duplicates('preprocessed')[df_fin.drop_duplicates('preprocessed')['final_sent_class']=='Neg']\n",
        "vneg = df_fin.drop_duplicates('preprocessed')[df_fin.drop_duplicates('preprocessed')['final_sent_class']=='VNeg']"
      ],
      "execution_count": null,
      "outputs": []
    },
    {
      "cell_type": "code",
      "metadata": {
        "id": "f5zKxd9Sum3o"
      },
      "source": [
        "# Neu     139945\n",
        "# Neg     139922\n",
        "# VNeg    139907\n",
        "# VPos    139829\n",
        "# Pos     139814"
      ],
      "execution_count": null,
      "outputs": []
    },
    {
      "cell_type": "code",
      "metadata": {
        "id": "P2XoBTrfuq1g"
      },
      "source": [
        "neu_red = neu.sample(n=139000,random_state = 1)\n",
        "neg_red = neg.sample(n=139000,random_state = 1)\n",
        "pos_red = pos.sample(n=139000,random_state = 1)\n",
        "vpos_red = vpos.sample(n=139000,random_state = 1)\n",
        "vneg_red = vneg.sample(n=139000,random_state = 1)"
      ],
      "execution_count": null,
      "outputs": []
    },
    {
      "cell_type": "code",
      "metadata": {
        "colab": {
          "base_uri": "https://localhost:8080/"
        },
        "id": "mmlNIm3Qvjwu",
        "outputId": "3f55eac6-3671-4e19-f47d-ff75cf29d818"
      },
      "source": [
        "len(vneg_red.drop_duplicates('preprocessed'))"
      ],
      "execution_count": null,
      "outputs": [
        {
          "output_type": "execute_result",
          "data": {
            "text/plain": [
              "139000"
            ]
          },
          "metadata": {
            "tags": []
          },
          "execution_count": 57
        }
      ]
    },
    {
      "cell_type": "code",
      "metadata": {
        "id": "p_Rzw_Ilv9J8"
      },
      "source": [
        "df_fin_new = pd.concat([neu_red,vpos_red,pos_red,neg_red,vneg_red],ignore_index=True)"
      ],
      "execution_count": null,
      "outputs": []
    },
    {
      "cell_type": "code",
      "metadata": {
        "id": "HeJBVxOLwE3y"
      },
      "source": [
        "df_fin_res.to_csv('/content/drive/MyDrive/sentiment data/train_sent_final.csv',index=False,header=True)"
      ],
      "execution_count": null,
      "outputs": []
    },
    {
      "cell_type": "code",
      "metadata": {
        "colab": {
          "base_uri": "https://localhost:8080/",
          "height": 407
        },
        "id": "dGypXXA5wR6r",
        "outputId": "f83e4cde-fec2-45e7-fbcb-fe35e27fd8b6"
      },
      "source": [
        "df_fin_res"
      ],
      "execution_count": null,
      "outputs": [
        {
          "output_type": "execute_result",
          "data": {
            "text/html": [
              "<div>\n",
              "<style scoped>\n",
              "    .dataframe tbody tr th:only-of-type {\n",
              "        vertical-align: middle;\n",
              "    }\n",
              "\n",
              "    .dataframe tbody tr th {\n",
              "        vertical-align: top;\n",
              "    }\n",
              "\n",
              "    .dataframe thead th {\n",
              "        text-align: right;\n",
              "    }\n",
              "</style>\n",
              "<table border=\"1\" class=\"dataframe\">\n",
              "  <thead>\n",
              "    <tr style=\"text-align: right;\">\n",
              "      <th></th>\n",
              "      <th>u_id</th>\n",
              "      <th>preprocessed</th>\n",
              "      <th>final_sent_class</th>\n",
              "    </tr>\n",
              "  </thead>\n",
              "  <tbody>\n",
              "    <tr>\n",
              "      <th>0</th>\n",
              "      <td>06ca4d2e6186f61d42370cd142d679d0330b92e320b304...</td>\n",
              "      <td>workin about my legs and to hate it my balls a...</td>\n",
              "      <td>VNeg</td>\n",
              "    </tr>\n",
              "    <tr>\n",
              "      <th>1</th>\n",
              "      <td>c8c80a68e9ca14150d4cd2c0838ad23ff5bd1f7bac676f...</td>\n",
              "      <td>good morning everyone driver's ed soon should ...</td>\n",
              "      <td>VPos</td>\n",
              "    </tr>\n",
              "    <tr>\n",
              "      <th>2</th>\n",
              "      <td>582f39cad92e94adcfadc97dc4546d5d344befbdd7403c...</td>\n",
              "      <td>probably sunburnt but i think i have gas poiso...</td>\n",
              "      <td>VNeg</td>\n",
              "    </tr>\n",
              "    <tr>\n",
              "      <th>3</th>\n",
              "      <td>65d906b634bc88f9a2199ec91046225be951716d98e8f4...</td>\n",
              "      <td>happy mother's day hope you are all enjoying t...</td>\n",
              "      <td>VPos</td>\n",
              "    </tr>\n",
              "    <tr>\n",
              "      <th>4</th>\n",
              "      <td>270135be87541ee20b0592d9d35d2bf2665ec2e908b644...</td>\n",
              "      <td>i am stunned and really quite mainly highly di...</td>\n",
              "      <td>VNeg</td>\n",
              "    </tr>\n",
              "    <tr>\n",
              "      <th>...</th>\n",
              "      <td>...</td>\n",
              "      <td>...</td>\n",
              "      <td>...</td>\n",
              "    </tr>\n",
              "    <tr>\n",
              "      <th>694995</th>\n",
              "      <td>61e25fb303ad97705614e5be613ce50d34dd7865809800...</td>\n",
              "      <td>be careful with it though since their jewelry ...</td>\n",
              "      <td>Pos</td>\n",
              "    </tr>\n",
              "    <tr>\n",
              "      <th>694996</th>\n",
              "      <td>04a668af336ee76e1f59522e7612c54f8058008da88016...</td>\n",
              "      <td>having a fav one is impossible i have played t...</td>\n",
              "      <td>Pos</td>\n",
              "    </tr>\n",
              "    <tr>\n",
              "      <th>694997</th>\n",
              "      <td>4fe1571245aac646ad1f919b27c420f17f705dda61a3be...</td>\n",
              "      <td>thank a f you i hate thee</td>\n",
              "      <td>VNeg</td>\n",
              "    </tr>\n",
              "    <tr>\n",
              "      <th>694998</th>\n",
              "      <td>3b0841ee030b28f6eef280e77957f4e0f9bd1becb5ee05...</td>\n",
              "      <td>late nite at the hair salon brick breaker kils...</td>\n",
              "      <td>Neg</td>\n",
              "    </tr>\n",
              "    <tr>\n",
              "      <th>694999</th>\n",
              "      <td>e48086f72399467f50d3d6483f5d9f0f849ed60bbf5706...</td>\n",
              "      <td>we should go tooooooo lakeline</td>\n",
              "      <td>Neu</td>\n",
              "    </tr>\n",
              "  </tbody>\n",
              "</table>\n",
              "<p>695000 rows × 3 columns</p>\n",
              "</div>"
            ],
            "text/plain": [
              "                                                     u_id  ... final_sent_class\n",
              "0       06ca4d2e6186f61d42370cd142d679d0330b92e320b304...  ...             VNeg\n",
              "1       c8c80a68e9ca14150d4cd2c0838ad23ff5bd1f7bac676f...  ...             VPos\n",
              "2       582f39cad92e94adcfadc97dc4546d5d344befbdd7403c...  ...             VNeg\n",
              "3       65d906b634bc88f9a2199ec91046225be951716d98e8f4...  ...             VPos\n",
              "4       270135be87541ee20b0592d9d35d2bf2665ec2e908b644...  ...             VNeg\n",
              "...                                                   ...  ...              ...\n",
              "694995  61e25fb303ad97705614e5be613ce50d34dd7865809800...  ...              Pos\n",
              "694996  04a668af336ee76e1f59522e7612c54f8058008da88016...  ...              Pos\n",
              "694997  4fe1571245aac646ad1f919b27c420f17f705dda61a3be...  ...             VNeg\n",
              "694998  3b0841ee030b28f6eef280e77957f4e0f9bd1becb5ee05...  ...              Neg\n",
              "694999  e48086f72399467f50d3d6483f5d9f0f849ed60bbf5706...  ...              Neu\n",
              "\n",
              "[695000 rows x 3 columns]"
            ]
          },
          "metadata": {
            "tags": []
          },
          "execution_count": 67
        }
      ]
    }
  ]
}