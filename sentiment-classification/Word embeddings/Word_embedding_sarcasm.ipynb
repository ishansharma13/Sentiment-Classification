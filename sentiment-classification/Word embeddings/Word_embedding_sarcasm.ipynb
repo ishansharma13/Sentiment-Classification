{
  "nbformat": 4,
  "nbformat_minor": 0,
  "metadata": {
    "colab": {
      "name": "Word embedding sarcasm.ipynb",
      "provenance": [],
      "collapsed_sections": []
    },
    "kernelspec": {
      "name": "python3",
      "display_name": "Python 3"
    },
    "language_info": {
      "name": "python"
    },
    "accelerator": "TPU"
  },
  "cells": [
    {
      "cell_type": "code",
      "metadata": {
        "colab": {
          "base_uri": "https://localhost:8080/"
        },
        "id": "qeb-HQmwbqh3",
        "outputId": "7fa99973-44f6-440c-aa53-cbfc1e3e60c1"
      },
      "source": [
        "from google.colab import drive\n",
        "from tensorflow import keras\n",
        "from keras.preprocessing.text import Tokenizer\n",
        "from keras.preprocessing.sequence import pad_sequences\n",
        "import tensorflow as tf\n",
        "import numpy as np\n",
        "import pandas as pd\n",
        "from sklearn.preprocessing import LabelEncoder\n",
        "from keras.utils import np_utils\n",
        "from keras.callbacks import EarlyStopping\n",
        "from sklearn import model_selection\n",
        "from nltk.tokenize import word_tokenize\n",
        "import nltk\n",
        "from sklearn.metrics import accuracy_score\n",
        "nltk.download('punkt')"
      ],
      "execution_count": null,
      "outputs": [
        {
          "output_type": "stream",
          "text": [
            "[nltk_data] Downloading package punkt to /root/nltk_data...\n",
            "[nltk_data]   Unzipping tokenizers/punkt.zip.\n"
          ],
          "name": "stdout"
        },
        {
          "output_type": "execute_result",
          "data": {
            "text/plain": [
              "True"
            ]
          },
          "metadata": {
            "tags": []
          },
          "execution_count": 1
        }
      ]
    },
    {
      "cell_type": "code",
      "metadata": {
        "colab": {
          "base_uri": "https://localhost:8080/"
        },
        "id": "2FhobPh9b3Pe",
        "outputId": "c55e012e-4973-41b8-ef29-3fa4bb528571"
      },
      "source": [
        "drive.mount('/content/drive')"
      ],
      "execution_count": null,
      "outputs": [
        {
          "output_type": "stream",
          "text": [
            "Mounted at /content/drive\n"
          ],
          "name": "stdout"
        }
      ]
    },
    {
      "cell_type": "code",
      "metadata": {
        "id": "sM5DPO5LnRX2"
      },
      "source": [
        "df = pd.read_csv('/content/drive/MyDrive/sarcasm data/train_sarc_final_with_folds.csv')"
      ],
      "execution_count": null,
      "outputs": []
    },
    {
      "cell_type": "code",
      "metadata": {
        "colab": {
          "base_uri": "https://localhost:8080/"
        },
        "id": "YIP9blCLnc3-",
        "outputId": "5c49f24c-a8af-4941-ff88-1ce4050104d1"
      },
      "source": [
        "df.columns"
      ],
      "execution_count": null,
      "outputs": [
        {
          "output_type": "execute_result",
          "data": {
            "text/plain": [
              "Index(['u_id', 'text', 'label', 'kfold'], dtype='object')"
            ]
          },
          "metadata": {
            "tags": []
          },
          "execution_count": 16
        }
      ]
    },
    {
      "cell_type": "code",
      "metadata": {
        "colab": {
          "base_uri": "https://localhost:8080/"
        },
        "id": "StQpXlw5c7I4",
        "outputId": "485cd394-c346-41d7-872f-9fbf87c2954c"
      },
      "source": [
        "import os\n",
        "import pprint # for pretty printing our device stats\n",
        "\n",
        "if 'COLAB_TPU_ADDR' not in os.environ:\n",
        "    print('ERROR: Not connected to a TPU runtime; please see the first cell in this notebook for instructions!')\n",
        "else:\n",
        "    tpu_address = 'grpc://' + os.environ['COLAB_TPU_ADDR']\n",
        "    print ('TPU address is', tpu_address)\n",
        "\n",
        "    with tf.compat.v1.Session(tpu_address) as session:\n",
        "      devices = session.list_devices()\n",
        "\n",
        "    print('TPU devices:')\n",
        "    pprint.pprint(devices)"
      ],
      "execution_count": null,
      "outputs": [
        {
          "output_type": "stream",
          "text": [
            "TPU address is grpc://10.120.80.250:8470\n",
            "TPU devices:\n",
            "[_DeviceAttributes(/job:tpu_worker/replica:0/task:0/device:CPU:0, CPU, -1, -1235049511574629023),\n",
            " _DeviceAttributes(/job:tpu_worker/replica:0/task:0/device:TPU_SYSTEM:0, TPU_SYSTEM, 8589934592, 3270617424615803401),\n",
            " _DeviceAttributes(/job:tpu_worker/replica:0/task:0/device:XLA_CPU:0, XLA_CPU, 17179869184, 6363795656227373967),\n",
            " _DeviceAttributes(/job:tpu_worker/replica:0/task:0/device:TPU:0, TPU, 17179869184, 6627799007367399243),\n",
            " _DeviceAttributes(/job:tpu_worker/replica:0/task:0/device:TPU:1, TPU, 17179869184, 2545353775020938820),\n",
            " _DeviceAttributes(/job:tpu_worker/replica:0/task:0/device:TPU:2, TPU, 17179869184, 8593318471858648222),\n",
            " _DeviceAttributes(/job:tpu_worker/replica:0/task:0/device:TPU:3, TPU, 17179869184, -8459165018216510505),\n",
            " _DeviceAttributes(/job:tpu_worker/replica:0/task:0/device:TPU:4, TPU, 17179869184, 637770225132272834),\n",
            " _DeviceAttributes(/job:tpu_worker/replica:0/task:0/device:TPU:5, TPU, 17179869184, -8665823876839930998),\n",
            " _DeviceAttributes(/job:tpu_worker/replica:0/task:0/device:TPU:6, TPU, 17179869184, 6204502330366222453),\n",
            " _DeviceAttributes(/job:tpu_worker/replica:0/task:0/device:TPU:7, TPU, 17179869184, -4049008942613913036)]\n"
          ],
          "name": "stdout"
        }
      ]
    },
    {
      "cell_type": "code",
      "metadata": {
        "colab": {
          "base_uri": "https://localhost:8080/"
        },
        "id": "1QOOYqtG8uay",
        "outputId": "7c553d3b-a49b-46d2-cab7-eeac665b4b7e"
      },
      "source": [
        "resolver = tf.distribute.cluster_resolver.TPUClusterResolver(tpu='')\n",
        "tf.config.experimental_connect_to_cluster(resolver)\n",
        "# This is the TPU initialization code that has to be at the beginning.\n",
        "tf.tpu.experimental.initialize_tpu_system(resolver)\n",
        "print(\"All devices: \", tf.config.list_logical_devices('TPU'))\n",
        "strategy = tf.distribute.TPUStrategy(resolver)"
      ],
      "execution_count": null,
      "outputs": [
        {
          "output_type": "stream",
          "text": [
            "INFO:tensorflow:Initializing the TPU system: grpc://10.120.80.250:8470\n"
          ],
          "name": "stdout"
        },
        {
          "output_type": "stream",
          "text": [
            "INFO:tensorflow:Initializing the TPU system: grpc://10.120.80.250:8470\n"
          ],
          "name": "stderr"
        },
        {
          "output_type": "stream",
          "text": [
            "INFO:tensorflow:Clearing out eager caches\n"
          ],
          "name": "stdout"
        },
        {
          "output_type": "stream",
          "text": [
            "INFO:tensorflow:Clearing out eager caches\n"
          ],
          "name": "stderr"
        },
        {
          "output_type": "stream",
          "text": [
            "INFO:tensorflow:Finished initializing TPU system.\n"
          ],
          "name": "stdout"
        },
        {
          "output_type": "stream",
          "text": [
            "INFO:tensorflow:Finished initializing TPU system.\n"
          ],
          "name": "stderr"
        },
        {
          "output_type": "stream",
          "text": [
            "All devices:  [LogicalDevice(name='/job:worker/replica:0/task:0/device:TPU:7', device_type='TPU'), LogicalDevice(name='/job:worker/replica:0/task:0/device:TPU:6', device_type='TPU'), LogicalDevice(name='/job:worker/replica:0/task:0/device:TPU:5', device_type='TPU'), LogicalDevice(name='/job:worker/replica:0/task:0/device:TPU:4', device_type='TPU'), LogicalDevice(name='/job:worker/replica:0/task:0/device:TPU:3', device_type='TPU'), LogicalDevice(name='/job:worker/replica:0/task:0/device:TPU:0', device_type='TPU'), LogicalDevice(name='/job:worker/replica:0/task:0/device:TPU:1', device_type='TPU'), LogicalDevice(name='/job:worker/replica:0/task:0/device:TPU:2', device_type='TPU')]\n",
            "INFO:tensorflow:Found TPU system:\n"
          ],
          "name": "stdout"
        },
        {
          "output_type": "stream",
          "text": [
            "INFO:tensorflow:Found TPU system:\n"
          ],
          "name": "stderr"
        },
        {
          "output_type": "stream",
          "text": [
            "INFO:tensorflow:*** Num TPU Cores: 8\n"
          ],
          "name": "stdout"
        },
        {
          "output_type": "stream",
          "text": [
            "INFO:tensorflow:*** Num TPU Cores: 8\n"
          ],
          "name": "stderr"
        },
        {
          "output_type": "stream",
          "text": [
            "INFO:tensorflow:*** Num TPU Workers: 1\n"
          ],
          "name": "stdout"
        },
        {
          "output_type": "stream",
          "text": [
            "INFO:tensorflow:*** Num TPU Workers: 1\n"
          ],
          "name": "stderr"
        },
        {
          "output_type": "stream",
          "text": [
            "INFO:tensorflow:*** Num TPU Cores Per Worker: 8\n"
          ],
          "name": "stdout"
        },
        {
          "output_type": "stream",
          "text": [
            "INFO:tensorflow:*** Num TPU Cores Per Worker: 8\n"
          ],
          "name": "stderr"
        },
        {
          "output_type": "stream",
          "text": [
            "INFO:tensorflow:*** Available Device: _DeviceAttributes(/job:localhost/replica:0/task:0/device:CPU:0, CPU, 0, 0)\n"
          ],
          "name": "stdout"
        },
        {
          "output_type": "stream",
          "text": [
            "INFO:tensorflow:*** Available Device: _DeviceAttributes(/job:localhost/replica:0/task:0/device:CPU:0, CPU, 0, 0)\n"
          ],
          "name": "stderr"
        },
        {
          "output_type": "stream",
          "text": [
            "INFO:tensorflow:*** Available Device: _DeviceAttributes(/job:worker/replica:0/task:0/device:CPU:0, CPU, 0, 0)\n"
          ],
          "name": "stdout"
        },
        {
          "output_type": "stream",
          "text": [
            "INFO:tensorflow:*** Available Device: _DeviceAttributes(/job:worker/replica:0/task:0/device:CPU:0, CPU, 0, 0)\n"
          ],
          "name": "stderr"
        },
        {
          "output_type": "stream",
          "text": [
            "INFO:tensorflow:*** Available Device: _DeviceAttributes(/job:worker/replica:0/task:0/device:TPU:0, TPU, 0, 0)\n"
          ],
          "name": "stdout"
        },
        {
          "output_type": "stream",
          "text": [
            "INFO:tensorflow:*** Available Device: _DeviceAttributes(/job:worker/replica:0/task:0/device:TPU:0, TPU, 0, 0)\n"
          ],
          "name": "stderr"
        },
        {
          "output_type": "stream",
          "text": [
            "INFO:tensorflow:*** Available Device: _DeviceAttributes(/job:worker/replica:0/task:0/device:TPU:1, TPU, 0, 0)\n"
          ],
          "name": "stdout"
        },
        {
          "output_type": "stream",
          "text": [
            "INFO:tensorflow:*** Available Device: _DeviceAttributes(/job:worker/replica:0/task:0/device:TPU:1, TPU, 0, 0)\n"
          ],
          "name": "stderr"
        },
        {
          "output_type": "stream",
          "text": [
            "INFO:tensorflow:*** Available Device: _DeviceAttributes(/job:worker/replica:0/task:0/device:TPU:2, TPU, 0, 0)\n"
          ],
          "name": "stdout"
        },
        {
          "output_type": "stream",
          "text": [
            "INFO:tensorflow:*** Available Device: _DeviceAttributes(/job:worker/replica:0/task:0/device:TPU:2, TPU, 0, 0)\n"
          ],
          "name": "stderr"
        },
        {
          "output_type": "stream",
          "text": [
            "INFO:tensorflow:*** Available Device: _DeviceAttributes(/job:worker/replica:0/task:0/device:TPU:3, TPU, 0, 0)\n"
          ],
          "name": "stdout"
        },
        {
          "output_type": "stream",
          "text": [
            "INFO:tensorflow:*** Available Device: _DeviceAttributes(/job:worker/replica:0/task:0/device:TPU:3, TPU, 0, 0)\n"
          ],
          "name": "stderr"
        },
        {
          "output_type": "stream",
          "text": [
            "INFO:tensorflow:*** Available Device: _DeviceAttributes(/job:worker/replica:0/task:0/device:TPU:4, TPU, 0, 0)\n"
          ],
          "name": "stdout"
        },
        {
          "output_type": "stream",
          "text": [
            "INFO:tensorflow:*** Available Device: _DeviceAttributes(/job:worker/replica:0/task:0/device:TPU:4, TPU, 0, 0)\n"
          ],
          "name": "stderr"
        },
        {
          "output_type": "stream",
          "text": [
            "INFO:tensorflow:*** Available Device: _DeviceAttributes(/job:worker/replica:0/task:0/device:TPU:5, TPU, 0, 0)\n"
          ],
          "name": "stdout"
        },
        {
          "output_type": "stream",
          "text": [
            "INFO:tensorflow:*** Available Device: _DeviceAttributes(/job:worker/replica:0/task:0/device:TPU:5, TPU, 0, 0)\n"
          ],
          "name": "stderr"
        },
        {
          "output_type": "stream",
          "text": [
            "INFO:tensorflow:*** Available Device: _DeviceAttributes(/job:worker/replica:0/task:0/device:TPU:6, TPU, 0, 0)\n"
          ],
          "name": "stdout"
        },
        {
          "output_type": "stream",
          "text": [
            "INFO:tensorflow:*** Available Device: _DeviceAttributes(/job:worker/replica:0/task:0/device:TPU:6, TPU, 0, 0)\n"
          ],
          "name": "stderr"
        },
        {
          "output_type": "stream",
          "text": [
            "INFO:tensorflow:*** Available Device: _DeviceAttributes(/job:worker/replica:0/task:0/device:TPU:7, TPU, 0, 0)\n"
          ],
          "name": "stdout"
        },
        {
          "output_type": "stream",
          "text": [
            "INFO:tensorflow:*** Available Device: _DeviceAttributes(/job:worker/replica:0/task:0/device:TPU:7, TPU, 0, 0)\n"
          ],
          "name": "stderr"
        },
        {
          "output_type": "stream",
          "text": [
            "INFO:tensorflow:*** Available Device: _DeviceAttributes(/job:worker/replica:0/task:0/device:TPU_SYSTEM:0, TPU_SYSTEM, 0, 0)\n"
          ],
          "name": "stdout"
        },
        {
          "output_type": "stream",
          "text": [
            "INFO:tensorflow:*** Available Device: _DeviceAttributes(/job:worker/replica:0/task:0/device:TPU_SYSTEM:0, TPU_SYSTEM, 0, 0)\n"
          ],
          "name": "stderr"
        },
        {
          "output_type": "stream",
          "text": [
            "INFO:tensorflow:*** Available Device: _DeviceAttributes(/job:worker/replica:0/task:0/device:XLA_CPU:0, XLA_CPU, 0, 0)\n"
          ],
          "name": "stdout"
        },
        {
          "output_type": "stream",
          "text": [
            "INFO:tensorflow:*** Available Device: _DeviceAttributes(/job:worker/replica:0/task:0/device:XLA_CPU:0, XLA_CPU, 0, 0)\n"
          ],
          "name": "stderr"
        }
      ]
    },
    {
      "cell_type": "code",
      "metadata": {
        "colab": {
          "base_uri": "https://localhost:8080/"
        },
        "id": "n6OmysRUePei",
        "outputId": "77ba9a12-6082-4035-fc8e-1d837f17a829"
      },
      "source": [
        "!wget http://nlp.stanford.edu/data/glove.twitter.27B.zip"
      ],
      "execution_count": null,
      "outputs": [
        {
          "output_type": "stream",
          "text": [
            "--2021-04-27 14:00:32--  http://nlp.stanford.edu/data/glove.twitter.27B.zip\n",
            "Resolving nlp.stanford.edu (nlp.stanford.edu)... 171.64.67.140\n",
            "Connecting to nlp.stanford.edu (nlp.stanford.edu)|171.64.67.140|:80... connected.\n",
            "HTTP request sent, awaiting response... 302 Found\n",
            "Location: https://nlp.stanford.edu/data/glove.twitter.27B.zip [following]\n",
            "--2021-04-27 14:00:32--  https://nlp.stanford.edu/data/glove.twitter.27B.zip\n",
            "Connecting to nlp.stanford.edu (nlp.stanford.edu)|171.64.67.140|:443... connected.\n",
            "HTTP request sent, awaiting response... 301 Moved Permanently\n",
            "Location: http://downloads.cs.stanford.edu/nlp/data/glove.twitter.27B.zip [following]\n",
            "--2021-04-27 14:00:33--  http://downloads.cs.stanford.edu/nlp/data/glove.twitter.27B.zip\n",
            "Resolving downloads.cs.stanford.edu (downloads.cs.stanford.edu)... 171.64.64.22\n",
            "Connecting to downloads.cs.stanford.edu (downloads.cs.stanford.edu)|171.64.64.22|:80... connected.\n",
            "HTTP request sent, awaiting response... 200 OK\n",
            "Length: 1520408563 (1.4G) [application/zip]\n",
            "Saving to: ‘glove.twitter.27B.zip’\n",
            "\n",
            "glove.twitter.27B.z 100%[===================>]   1.42G  4.83MB/s    in 4m 54s  \n",
            "\n",
            "2021-04-27 14:05:28 (4.93 MB/s) - ‘glove.twitter.27B.zip’ saved [1520408563/1520408563]\n",
            "\n"
          ],
          "name": "stdout"
        }
      ]
    },
    {
      "cell_type": "code",
      "metadata": {
        "colab": {
          "base_uri": "https://localhost:8080/"
        },
        "id": "jiJYzjzRoBYV",
        "outputId": "e64e2964-5754-4712-db99-647506ae3068"
      },
      "source": [
        "!unzip glove.twitter.27B.zip"
      ],
      "execution_count": null,
      "outputs": [
        {
          "output_type": "stream",
          "text": [
            "Archive:  glove.twitter.27B.zip\n",
            "  inflating: glove.twitter.27B.25d.txt  \n",
            "  inflating: glove.twitter.27B.50d.txt  \n",
            "  inflating: glove.twitter.27B.100d.txt  \n",
            "  inflating: glove.twitter.27B.200d.txt  \n"
          ],
          "name": "stdout"
        }
      ]
    },
    {
      "cell_type": "code",
      "metadata": {
        "id": "O4ecaoGCbHrC"
      },
      "source": [
        "class word_emb_model:\n",
        "  def __init__(self,path):\n",
        "      df = pd.read_csv(path)\n",
        "      self.encoder = LabelEncoder()\n",
        "      self.models_glove = {}\n",
        "      self.history_glove = {}\n",
        "      # self.accuracy_glove ={}\n",
        "      df['text'] = df['text'].apply(lambda x: str(x))\n",
        "      self.dfs_train = df[df['kfold']!=0]\n",
        "      self.dfs_valid = df[df['kfold']==0]\n",
        "      self.read_glove()\n",
        "      self.data_per_fold_glove()\n",
        "\n",
        "  def read_glove(self):\n",
        "      embeddings_index = {}\n",
        "      f = open('glove.twitter.27B.100d.txt')\n",
        "      for line in f:\n",
        "          values = line.split()\n",
        "          word = values[0]\n",
        "          coefs = np.asarray(values[1:], dtype='float32')\n",
        "          embeddings_index[word] = coefs\n",
        "      f.close()\n",
        "\n",
        "      print('Found %s word vectors.' % len(embeddings_index))\n",
        "      self.glove_embeddings_index = embeddings_index\n",
        "\n",
        "  # def read_fasttext(self):\n",
        "  #     embeddings_index = {}\n",
        "  #     f = open('../input/fasttext/wiki.simple.vec', encoding='utf-8')\n",
        "  #     for line in f:\n",
        "  #         values = line.rstrip().rsplit(' ')\n",
        "  #         word = values[0]\n",
        "  #         coefs = np.asarray(values[1:], dtype='float32')\n",
        "  #         embeddings_index[word] = coefs\n",
        "  #     f.close()\n",
        "  #     print('found %s word vectors' % len(embeddings_index))\n",
        "  #     self.fasttext_embeddings_index = embeddings_index\n",
        "\n",
        "  def create_glove_embedding_matrix(self,embed_dim):\n",
        "      train = self.dfs_train\n",
        "      test = self.dfs_valid\n",
        "      x_train = train.text.values\n",
        "      y_train = train.label.values\n",
        "      x_test = test.text.values\n",
        "      y_test = test.label.values\n",
        "      word_tokenizer = Tokenizer()\n",
        "      word_tokenizer.fit_on_texts(x_train)\n",
        "      vocab_length = len(word_tokenizer.word_index) + 1\n",
        "      x_train_emb = word_tokenizer.texts_to_sequences(x_train)\n",
        "      x_test_emb = word_tokenizer.texts_to_sequences(x_test)\n",
        "      \n",
        "      word_count = lambda sentence: len(word_tokenize(sentence))\n",
        "      longest_sentence = max(np.concatenate((x_train,x_test),axis = 0), key=word_count)\n",
        "      length_long_sentence = len(word_tokenize(longest_sentence))\n",
        "\n",
        "      x_train_padded = pad_sequences(x_train_emb, length_long_sentence, padding='post',truncating = 'post')\n",
        "      x_test_padded = pad_sequences(x_test_emb, length_long_sentence, padding='post',truncating = 'post')\n",
        "\n",
        "      encoded_Y_tr = self.encoder.fit_transform(y_train)\n",
        "      encoded_Y_ts = self.encoder.fit_transform(y_test)\n",
        "      dummy_y_tr = np_utils.to_categorical(encoded_Y_tr)\n",
        "      dummy_y_ts = np_utils.to_categorical(encoded_Y_ts)\n",
        "\n",
        "      embedding_matrix = np.zeros((vocab_length, embed_dim))\n",
        "      for word, index in word_tokenizer.word_index.items():\n",
        "          embedding_vector = self.glove_embeddings_index.get(word)\n",
        "          if embedding_vector is not None:\n",
        "              embedding_matrix[index] = embedding_vector\n",
        "\n",
        "      # print(x_train_padded)\n",
        "      # print(x_test_padded)\n",
        "      return ((tf.convert_to_tensor(x_train_padded,np.int32),tf.convert_to_tensor(dummy_y_tr,np.float32)),(tf.convert_to_tensor(x_test_padded,np.int32),tf.convert_to_tensor(dummy_y_ts,np.float32)),(vocab_length,embedding_matrix,embed_dim,length_long_sentence))\n",
        "\n",
        "  # def create_fasttext_embedding_matrix(self,i,embed_dim):\n",
        "  #     train = self.dfs_train[i]\n",
        "  #     test = self.dfs_valid[i]\n",
        "  #     x_train = train.text.values\n",
        "  #     y_train = train.label.values\n",
        "  #     x_test = test.text.values\n",
        "  #     y_test = test.label.values\n",
        "  #     word_tokenizer = Tokenizer()\n",
        "  #     word_tokenizer.fit_on_texts(x_train)\n",
        "  #     vocab_length = len(word_tokenizer.word_index) + 1\n",
        "  #     x_train_emb = word_tokenizer.texts_to_sequences(x_train)\n",
        "  #     x_test_emb = word_tokenizer.texts_to_sequences(x_test)\n",
        "      \n",
        "  #     word_count = lambda sentence: len(word_tokenize(sentence))\n",
        "  #     longest_sentence = max(np.concatenate((x_train,x_test),axis = 0), key=word_count)\n",
        "  #     length_long_sentence = len(word_tokenize(longest_sentence))\n",
        "\n",
        "  #     x_train_padded = pad_sequences(x_train_emb, length_long_sentence, padding='post',truncating = 'post')\n",
        "  #     x_test_padded = pad_sequences(x_test_emb, length_long_sentence, padding='post',truncating = 'post')\n",
        "\n",
        "  #     encoded_Y_tr = self.encoder.fit_transform(y_train)\n",
        "  #     encoded_Y_ts = self.encoder.fit_transform(y_test)\n",
        "  #     dummy_y_tr = np_utils.to_categorical(encoded_Y_tr)\n",
        "  #     dummy_y_ts = np_utils.to_categorical(encoded_Y_ts)\n",
        "\n",
        "  #     embedding_matrix = np.zeros((vocab_length, embed_dim))\n",
        "  #     for word, index in word_tokenizer.word_index.items():\n",
        "  #         embedding_vector = self.fasttext_embeddings_index.get(word)\n",
        "  #         if embedding_vector is not None:\n",
        "  #             embedding_matrix[index] = embedding_vector\n",
        "\n",
        "  #     return ((x_train_padded,dummy_y_tr),(x_test_padded,dummy_y_ts),(vocab_length,embedding_matrix,embed_dim,length_long_sentence))\n",
        "\n",
        "\n",
        "  def data_per_fold_glove(self):\n",
        "      # self.data_glove = {}\n",
        "      embed_dim = 100\n",
        "      self.data_glove = self.create_glove_embedding_matrix(embed_dim)\n",
        "\n",
        "  def data_per_fold_fasttext(self):\n",
        "      self.data_fasttext = {}\n",
        "      embed_dim = '<dimension>'\n",
        "      for i in range(5):\n",
        "          self.data_fasttext[i] = self.create_fasttext_embedding_matrix(i,embed_dim)\n",
        "\n",
        "\n",
        "  def process_glove(self):\n",
        "      models = [self.CONV1D,self.SEP_CONV1D,self.CONV1D_BiLSTM,self.CONV1D_BiRNN,self.CONV1D_BiGRU,self.SEP_CONV1D_BiLSTM,self.SEP_CONV1D_BiRNN,self.SEP_CONV1D_BiGRU,self.BiGRU,self.BiLSTM,self.BiRNN]\n",
        "      for mod in models:\n",
        "          name = str(mod)\n",
        "          name = name.replace('self.','')\n",
        "          m,h = self.run_training(mod)\n",
        "          self.models_glove[name] = m\n",
        "          self.history_glove[name] = h\n",
        "          # self.accuracy_glove['Test accuracy score for '+name] = acc\n",
        "    \n",
        "  def get_models_glove(self):\n",
        "    return self.models_glove\n",
        "\n",
        "  def get_history_glove(self):\n",
        "    return self.history_glove\n",
        "\n",
        "\n",
        "  def run_training(self,model):\n",
        "      mod = []\n",
        "      his = []\n",
        "      x,h= model()\n",
        "      mod.append(x)\n",
        "      his.append(h)\n",
        "    \n",
        "      \n",
        "      return mod,his\n",
        "\n",
        "  def SEP_CONV1D(self):\n",
        "      data = self.data_glove\n",
        "      x_tr,y_tr = data[0]\n",
        "      x_ts,y_ts = data[1]\n",
        "      vl,mat,dim,len_sen = data[2]\n",
        "      \n",
        "      with strategy.scope():\n",
        "          model = tf.keras.models.Sequential([\n",
        "              tf.keras.layers.Embedding(vl,dim,weights=[mat],input_length=len_sen,trainable=False),\n",
        "              tf.keras.layers.SeparableConv1D(32,3,activation='relu'),\n",
        "              tf.keras.layers.MaxPool1D(),\n",
        "              tf.keras.layers.SeparableConv1D(32,3,activation='relu'),\n",
        "              tf.keras.layers.MaxPool1D(),\n",
        "              tf.keras.layers.SeparableConv1D(32,3,activation='relu'),\n",
        "              tf.keras.layers.MaxPool1D(),\n",
        "              tf.keras.layers.Dropout(0.5),\n",
        "              tf.keras.layers.GlobalMaxPooling1D(),\n",
        "              tf.keras.layers.Dense(512, activation='sigmoid'),\n",
        "              tf.keras.layers.Dense(256, activation='sigmoid'),\n",
        "              tf.keras.layers.Dense(128, activation='sigmoid'),\n",
        "              tf.keras.layers.Dense(64, activation='sigmoid'),\n",
        "              tf.keras.layers.Dense(2, activation='softmax')])\n",
        "\n",
        "          model.compile(loss='categorical_crossentropy',\n",
        "          optimizer=tf.keras.optimizers.Adam(),\n",
        "          metrics=['accuracy'])\n",
        "      x = model.to_json()\n",
        "      print(\"\\n SEPERABLE CONV1D \\n\")\n",
        "      model.summary()\n",
        "      his = model.fit(x = x_tr,y=y_tr,validation_data=(x_ts,y_ts),epochs=100,callbacks=[EarlyStopping()])\n",
        "      # y_pred = model.predict(x_ts)\n",
        "      return x,his\n",
        "\n",
        "\n",
        "\n",
        "\n",
        "\n",
        "  def CONV1D(self):\n",
        "      data = self.data_glove\n",
        "      x_tr,y_tr = data[0]\n",
        "      x_ts,y_ts = data[1]\n",
        "      vl,mat,dim,len_sen = data[2]\n",
        "      \n",
        "      with strategy.scope():\n",
        "          model = tf.keras.models.Sequential([\n",
        "              tf.keras.layers.Embedding(vl,dim,weights=[mat],input_length=len_sen,trainable=False),\n",
        "              tf.keras.layers.Conv1D(32,3,activation='relu'),\n",
        "              tf.keras.layers.MaxPool1D(),\n",
        "              tf.keras.layers.Conv1D(32,3,activation='relu'),\n",
        "              tf.keras.layers.MaxPool1D(),\n",
        "              tf.keras.layers.Conv1D(32,3,activation='relu'),\n",
        "              tf.keras.layers.MaxPool1D(),\n",
        "              tf.keras.layers.Dropout(0.5),\n",
        "              tf.keras.layers.Flatten(),\n",
        "              tf.keras.layers.Dense(512, activation='sigmoid'),\n",
        "              tf.keras.layers.Dense(256, activation='sigmoid'),\n",
        "              tf.keras.layers.Dense(128, activation='sigmoid'),\n",
        "              tf.keras.layers.Dense(64, activation='sigmoid'),\n",
        "              tf.keras.layers.Dense(2, activation='softmax')])\n",
        "\n",
        "          model.compile(loss='categorical_crossentropy',\n",
        "          optimizer=tf.keras.optimizers.Adam(),\n",
        "          metrics=['accuracy'])\n",
        "      x = model.to_json()\n",
        "      print(\"\\n CONV1D \\n\")\n",
        "      model.summary()\n",
        "      his = model.fit(x = x_tr,y=y_tr,validation_data=(x_ts,y_ts),epochs=100,callbacks=[EarlyStopping()])\n",
        "      # y_pred = model.predict(x_ts)\n",
        "      return x,his#,accuracy_score(y_ts,y_pred)\n",
        "\n",
        "  def BiLSTM(self):\n",
        "      data = self.data_glove\n",
        "      x_tr,y_tr = data[0]\n",
        "      x_ts,y_ts = data[1]\n",
        "      vl,mat,dim,len_sen = data[2]\n",
        "      \n",
        "      with strategy.scope():\n",
        "          model = tf.keras.models.Sequential([\n",
        "              tf.keras.layers.Embedding(vl,dim,weights=[mat],input_length=len_sen,trainable=False),\n",
        "              # tf.keras.layers.SeparableConv1D(32,3,activation='relu'),\n",
        "              # tf.keras.layers.MaxPool1D(),\n",
        "              # tf.keras.layers.SeparableConv1D(32,3,activation='relu'),\n",
        "              # tf.keras.layers.MaxPool1D(),\n",
        "              # tf.keras.layers.SeparableConv1D(32,3,activation='relu'),\n",
        "              # tf.keras.layers.MaxPool1D(),\n",
        "              # tf.keras.layers.Dropout(0.5),\n",
        "              tf.keras.layers.Bidirectional(tf.keras.layers.LSTM(16,return_sequences=True, dropout=0.2, recurrent_dropout=0.3)),\n",
        "              tf.keras.layers.Flatten(),\n",
        "              tf.keras.layers.Dense(512, activation='sigmoid'),\n",
        "              tf.keras.layers.Dense(256, activation='sigmoid'),\n",
        "              tf.keras.layers.Dense(128, activation='sigmoid'),\n",
        "              tf.keras.layers.Dense(64, activation='sigmoid'),\n",
        "              tf.keras.layers.Dense(2, activation='softmax')])\n",
        "\n",
        "          model.compile(loss='categorical_crossentropy',\n",
        "          optimizer=tf.keras.optimizers.Adam(),\n",
        "          metrics=['accuracy'])\n",
        "      x = model.to_json()\n",
        "      print(\"\\n BiLSTM \\n\")\n",
        "      model.summary()\n",
        "      his = model.fit(x = x_tr,y=y_tr,validation_data=(x_ts,y_ts),epochs=100,callbacks=[EarlyStopping()])\n",
        "      # y_pred = model.predict(x_ts)\n",
        "      return x,his #,accuracy_score(y_ts,y_pred)\n",
        "\n",
        "  def SEP_CONV1D_BiLSTM(self):\n",
        "      data = self.data_glove\n",
        "      x_tr,y_tr = data[0]\n",
        "      x_ts,y_ts = data[1]\n",
        "      vl,mat,dim,len_sen = data[2]\n",
        "      \n",
        "      with strategy.scope():\n",
        "          model = tf.keras.models.Sequential([\n",
        "              tf.keras.layers.Embedding(vl,dim,weights=[mat],input_length=len_sen,trainable=False),\n",
        "              tf.keras.layers.SeparableConv1D(32,3,activation='relu'),\n",
        "              tf.keras.layers.MaxPool1D(),\n",
        "              tf.keras.layers.SeparableConv1D(32,3,activation='relu'),\n",
        "              tf.keras.layers.MaxPool1D(),\n",
        "              tf.keras.layers.SeparableConv1D(32,3,activation='relu'),\n",
        "              tf.keras.layers.MaxPool1D(),\n",
        "              # tf.keras.layers.Dropout(0.5),\n",
        "              tf.keras.layers.Bidirectional(tf.keras.layers.LSTM(16,return_sequences=True, dropout=0.2, recurrent_dropout=0.3)),\n",
        "              tf.keras.layers.Flatten(),\n",
        "              tf.keras.layers.Dense(512, activation='sigmoid'),\n",
        "              tf.keras.layers.Dense(256, activation='sigmoid'),\n",
        "              tf.keras.layers.Dense(128, activation='sigmoid'),\n",
        "              tf.keras.layers.Dense(64, activation='sigmoid'),\n",
        "              tf.keras.layers.Dense(2, activation='softmax')])\n",
        "\n",
        "          model.compile(loss='categorical_crossentropy',\n",
        "          optimizer=tf.keras.optimizers.Adam(),\n",
        "          metrics=['accuracy'])\n",
        "      x = model.to_json()\n",
        "      print(\"\\n SEPARABLE CONV1D BiLSTM \\n\")\n",
        "      model.summary()\n",
        "      his = model.fit(x = x_tr,y=y_tr,validation_data=(x_ts,y_ts),epochs=100,callbacks=[EarlyStopping()])\n",
        "      # y_pred = model.predict(x_ts)\n",
        "      return x,his #,accuracy_score(y_ts,y_pred)\n",
        "\n",
        "\n",
        "  def CONV1D_BiLSTM(self):\n",
        "      data = self.data_glove\n",
        "      x_tr,y_tr = data[0]\n",
        "      x_ts,y_ts = data[1]\n",
        "      vl,mat,dim,len_sen = data[2]\n",
        "      \n",
        "      with strategy.scope():\n",
        "          model = tf.keras.models.Sequential([\n",
        "              tf.keras.layers.Embedding(vl,dim,weights=[mat],input_length=len_sen,trainable=False),\n",
        "              tf.keras.layers.Conv1D(32,3,activation='relu'),\n",
        "              tf.keras.layers.MaxPool1D(),\n",
        "              tf.keras.layers.Conv1D(32,3,activation='relu'),\n",
        "              tf.keras.layers.MaxPool1D(),\n",
        "              tf.keras.layers.Conv1D(32,3,activation='relu'),\n",
        "              tf.keras.layers.MaxPool1D(),\n",
        "              # tf.keras.layers.Dropout(0.5),\n",
        "              tf.keras.layers.Bidirectional(tf.keras.layers.LSTM(16,return_sequences=True, dropout=0.2, recurrent_dropout=0.3)),\n",
        "              tf.keras.layers.Flatten(),\n",
        "              tf.keras.layers.Dense(512, activation='sigmoid'),\n",
        "              tf.keras.layers.Dense(256, activation='sigmoid'),\n",
        "              tf.keras.layers.Dense(128, activation='sigmoid'),\n",
        "              tf.keras.layers.Dense(64, activation='sigmoid'),\n",
        "              tf.keras.layers.Dense(2, activation='softmax')])\n",
        "\n",
        "          model.compile(loss='categorical_crossentropy',\n",
        "          optimizer=tf.keras.optimizers.Adam(),\n",
        "          metrics=['accuracy'])\n",
        "      x = model.to_json()\n",
        "      print(\"\\n CONV1D BiLSTM \\n\")\n",
        "      model.summary()\n",
        "      his = model.fit(x = x_tr,y=y_tr,validation_data=(x_ts,y_ts),epochs=100,callbacks=[EarlyStopping()])\n",
        "      # y_pred = model.predict(x_ts)\n",
        "      return x,his #,accuracy_score(y_ts,y_pred)\n",
        "\n",
        "\n",
        "  def BiRNN(self):\n",
        "      data = self.data_glove\n",
        "      x_tr,y_tr = data[0]\n",
        "      x_ts,y_ts = data[1]\n",
        "      vl,mat,dim,len_sen = data[2]\n",
        "      \n",
        "      with strategy.scope():\n",
        "          model = tf.keras.models.Sequential([\n",
        "              tf.keras.layers.Embedding(vl,dim,weights=[mat],input_length=len_sen,trainable=False),\n",
        "              # tf.keras.layers.SeparableConv1D(32,3,activation='relu'),\n",
        "              # tf.keras.layers.MaxPool1D(),\n",
        "              # tf.keras.layers.SeparableConv1D(32,3,activation='relu'),\n",
        "              # tf.keras.layers.MaxPool1D(),\n",
        "              # tf.keras.layers.SeparableConv1D(32,3,activation='relu'),\n",
        "              # tf.keras.layers.MaxPool1D(),\n",
        "              # tf.keras.layers.Dropout(0.5),\n",
        "              tf.keras.layers.Bidirectional(tf.keras.layers.SimpleRNN(16,return_sequences=True, dropout=0.2, recurrent_dropout=0.3)),\n",
        "              tf.keras.layers.Flatten(),\n",
        "              tf.keras.layers.Dense(512, activation='sigmoid'),\n",
        "              tf.keras.layers.Dense(256, activation='sigmoid'),\n",
        "              tf.keras.layers.Dense(128, activation='sigmoid'),\n",
        "              tf.keras.layers.Dense(64, activation='sigmoid'),\n",
        "              tf.keras.layers.Dense(2, activation='softmax')])\n",
        "\n",
        "          model.compile(loss='categorical_crossentropy',\n",
        "          optimizer=tf.keras.optimizers.Adam(),\n",
        "          metrics=['accuracy'])\n",
        "      x = model.to_json()\n",
        "      print(\"\\n BiRNN \\n\")\n",
        "      model.summary()\n",
        "      his = model.fit(x = x_tr,y=y_tr,validation_data=(x_ts,y_ts),epochs=100,callbacks=[EarlyStopping()])\n",
        "      # y_pred = model.predict(x_ts)\n",
        "      return x,his #,accuracy_score(y_ts,y_pred)\n",
        "\n",
        "  def SEP_CONV1D_BiRNN(self):\n",
        "      data = self.data_glove\n",
        "      x_tr,y_tr = data[0]\n",
        "      x_ts,y_ts = data[1]\n",
        "      vl,mat,dim,len_sen = data[2]\n",
        "      \n",
        "      with strategy.scope():\n",
        "          model = tf.keras.models.Sequential([\n",
        "              tf.keras.layers.Embedding(vl,dim,weights=[mat],input_length=len_sen,trainable=False),\n",
        "              tf.keras.layers.SeparableConv1D(32,3,activation='relu'),\n",
        "              tf.keras.layers.MaxPool1D(),\n",
        "              tf.keras.layers.SeparableConv1D(32,3,activation='relu'),\n",
        "              tf.keras.layers.MaxPool1D(),\n",
        "              tf.keras.layers.SeparableConv1D(32,3,activation='relu'),\n",
        "              tf.keras.layers.MaxPool1D(),\n",
        "              # tf.keras.layers.Dropout(0.5),\n",
        "              tf.keras.layers.Bidirectional(tf.keras.layers.SimpleRNN(16,return_sequences=True, dropout=0.2, recurrent_dropout=0.3)),\n",
        "              tf.keras.layers.Flatten(),\n",
        "              tf.keras.layers.Dense(512, activation='sigmoid'),\n",
        "              tf.keras.layers.Dense(256, activation='sigmoid'),\n",
        "              tf.keras.layers.Dense(128, activation='sigmoid'),\n",
        "              tf.keras.layers.Dense(64, activation='sigmoid'),\n",
        "              tf.keras.layers.Dense(2, activation='softmax')])\n",
        "\n",
        "          model.compile(loss='categorical_crossentropy',\n",
        "          optimizer=tf.keras.optimizers.Adam(),\n",
        "          metrics=['accuracy'])\n",
        "      x = model.to_json()\n",
        "      print(\"\\n SEPARABLE CONV1D BiRNN \\n\")\n",
        "      model.summary()\n",
        "      his = model.fit(x = x_tr,y=y_tr,validation_data=(x_ts,y_ts),epochs=100,callbacks=[EarlyStopping()])\n",
        "      # y_pred = model.predict(x_ts)\n",
        "      return x,his #,accuracy_score(y_ts,y_pred)\n",
        "\n",
        "  \n",
        "  def CONV1D_BiRNN(self):\n",
        "      data = self.data_glove\n",
        "      x_tr,y_tr = data[0]\n",
        "      x_ts,y_ts = data[1]\n",
        "      vl,mat,dim,len_sen = data[2]\n",
        "      \n",
        "      with strategy.scope():\n",
        "          model = tf.keras.models.Sequential([\n",
        "              tf.keras.layers.Embedding(vl,dim,weights=[mat],input_length=len_sen,trainable=False),\n",
        "              tf.keras.layers.Conv1D(32,3,activation='relu'),\n",
        "              tf.keras.layers.MaxPool1D(),\n",
        "              tf.keras.layers.Conv1D(32,3,activation='relu'),\n",
        "              tf.keras.layers.MaxPool1D(),\n",
        "              tf.keras.layers.Conv1D(32,3,activation='relu'),\n",
        "              tf.keras.layers.MaxPool1D(),\n",
        "              # tf.keras.layers.Dropout(0.5),\n",
        "              tf.keras.layers.Bidirectional(tf.keras.layers.SimpleRNN(16,return_sequences=True, dropout=0.2, recurrent_dropout=0.3)),\n",
        "              tf.keras.layers.Flatten(),\n",
        "              tf.keras.layers.Dense(512, activation='sigmoid'),\n",
        "              tf.keras.layers.Dense(256, activation='sigmoid'),\n",
        "              tf.keras.layers.Dense(128, activation='sigmoid'),\n",
        "              tf.keras.layers.Dense(64, activation='sigmoid'),\n",
        "              tf.keras.layers.Dense(2, activation='softmax')])\n",
        "\n",
        "          model.compile(loss='categorical_crossentropy',\n",
        "          optimizer=tf.keras.optimizers.Adam(),\n",
        "          metrics=['accuracy'])\n",
        "      x = model.to_json()\n",
        "      print(\"\\n CONV1D BiRNN \\n\")\n",
        "      model.summary()\n",
        "      his = model.fit(x = x_tr,y=y_tr,validation_data=(x_ts,y_ts),epochs=100,callbacks=[EarlyStopping()])\n",
        "      # y_pred = model.predict(x_ts)\n",
        "      return x,his #,accuracy_score(y_ts,y_pred)\n",
        "\n",
        "  def BiGRU(self):\n",
        "      data = self.data_glove\n",
        "      x_tr,y_tr = data[0]\n",
        "      x_ts,y_ts = data[1]\n",
        "      vl,mat,dim,len_sen = data[2]\n",
        "      \n",
        "      with strategy.scope():\n",
        "          model = tf.keras.models.Sequential([\n",
        "              tf.keras.layers.Embedding(vl,dim,weights=[mat],input_length=len_sen,trainable=False),\n",
        "              # tf.keras.layers.SeparableConv1D(32,3,activation='relu'),\n",
        "              # tf.keras.layers.MaxPool1D(),\n",
        "              # tf.keras.layers.SeparableConv1D(32,3,activation='relu'),\n",
        "              # tf.keras.layers.MaxPool1D(),\n",
        "              # tf.keras.layers.SeparableConv1D(32,3,activation='relu'),\n",
        "              # tf.keras.layers.MaxPool1D(),\n",
        "              # tf.keras.layers.Dropout(0.5),\n",
        "              tf.keras.layers.Bidirectional(tf.keras.layers.GRU(16,return_sequences=True, dropout=0.2, recurrent_dropout=0.3)),\n",
        "              tf.keras.layers.Flatten(),\n",
        "              tf.keras.layers.Dense(512, activation='sigmoid'),\n",
        "              tf.keras.layers.Dense(256, activation='sigmoid'),\n",
        "              tf.keras.layers.Dense(128, activation='sigmoid'),\n",
        "              tf.keras.layers.Dense(64, activation='sigmoid'),\n",
        "              tf.keras.layers.Dense(2, activation='softmax')])\n",
        "\n",
        "          model.compile(loss='categorical_crossentropy',\n",
        "          optimizer=tf.keras.optimizers.Adam(),\n",
        "          metrics=['accuracy'])\n",
        "      x = model.to_json()\n",
        "      print(\"\\n BiGRU \\n\")\n",
        "      model.summary()\n",
        "      his = model.fit(x = x_tr,y=y_tr,validation_data=(x_ts,y_ts),epochs=100,callbacks=[EarlyStopping()])\n",
        "      # y_pred = model.predict(x_ts)\n",
        "      return x,his #,accuracy_score(y_ts,y_pred)\n",
        "      \n",
        "  def CONV1D_BiGRU(self):\n",
        "      data = self.data_glove\n",
        "      x_tr,y_tr = data[0]\n",
        "      x_ts,y_ts = data[1]\n",
        "      vl,mat,dim,len_sen = data[2]\n",
        "      \n",
        "      with strategy.scope():\n",
        "          model = tf.keras.models.Sequential([\n",
        "              tf.keras.layers.Embedding(vl,dim,weights=[mat],input_length=len_sen,trainable=False),\n",
        "              tf.keras.layers.Conv1D(32,3,activation='relu'),\n",
        "              tf.keras.layers.MaxPool1D(),\n",
        "              tf.keras.layers.Conv1D(32,3,activation='relu'),\n",
        "              tf.keras.layers.MaxPool1D(),\n",
        "              tf.keras.layers.Conv1D(32,3,activation='relu'),\n",
        "              tf.keras.layers.MaxPool1D(),\n",
        "              # tf.keras.layers.Dropout(0.5),\n",
        "              tf.keras.layers.Bidirectional(tf.keras.layers.GRU(16,return_sequences=True, dropout=0.2, recurrent_dropout=0.3)),\n",
        "              tf.keras.layers.Flatten(),\n",
        "              tf.keras.layers.Dense(512, activation='sigmoid'),\n",
        "              tf.keras.layers.Dense(256, activation='sigmoid'),\n",
        "              tf.keras.layers.Dense(128, activation='sigmoid'),\n",
        "              tf.keras.layers.Dense(64, activation='sigmoid'),\n",
        "              tf.keras.layers.Dense(2, activation='softmax')])\n",
        "\n",
        "          model.compile(loss='categorical_crossentropy',\n",
        "          optimizer=tf.keras.optimizers.Adam(),\n",
        "          metrics=['accuracy'])\n",
        "      x = model.to_json()\n",
        "      print(\"\\n CONV1D BiGRU \\n\")\n",
        "      model.summary()\n",
        "      his = model.fit(x = x_tr,y=y_tr,validation_data=(x_ts,y_ts),epochs=100,callbacks=[EarlyStopping()])\n",
        "      # y_pred = model.predict(x_ts)\n",
        "      return x,his #,accuracy_score(y_ts,y_pred)\n",
        "      \n",
        "  def SEP_CONV1D_BiGRU(self):\n",
        "      data = self.data_glove\n",
        "      x_tr,y_tr = data[0]\n",
        "      x_ts,y_ts = data[1]\n",
        "      vl,mat,dim,len_sen = data[2]\n",
        "      \n",
        "      with strategy.scope():\n",
        "          model = tf.keras.models.Sequential([\n",
        "              tf.keras.layers.Embedding(vl,dim,weights=[mat],input_length=len_sen,trainable=False),\n",
        "              tf.keras.layers.SeparableConv1D(32,3,activation='relu'),\n",
        "              tf.keras.layers.MaxPool1D(),\n",
        "              tf.keras.layers.SeparableConv1D(32,3,activation='relu'),\n",
        "              tf.keras.layers.MaxPool1D(),\n",
        "              tf.keras.layers.SeparableConv1D(32,3,activation='relu'),\n",
        "              tf.keras.layers.MaxPool1D(),\n",
        "              # tf.keras.layers.Dropout(0.5),\n",
        "              tf.keras.layers.Bidirectional(tf.keras.layers.GRU(16,return_sequences=True, dropout=0.2, recurrent_dropout=0.3)),\n",
        "              tf.keras.layers.Flatten(),\n",
        "              tf.keras.layers.Dense(512, activation='sigmoid'),\n",
        "              tf.keras.layers.Dense(256, activation='sigmoid'),\n",
        "              tf.keras.layers.Dense(128, activation='sigmoid'),\n",
        "              tf.keras.layers.Dense(64, activation='sigmoid'),\n",
        "              tf.keras.layers.Dense(2, activation='softmax')])\n",
        "\n",
        "          model.compile(loss='categorical_crossentropy',\n",
        "          optimizer=tf.keras.optimizers.Adam(),\n",
        "          metrics=['accuracy'])\n",
        "      x = model.to_json()\n",
        "      print(\"\\n SEPARABLE CONV1D BiGRU \\n\")\n",
        "      model.summary()\n",
        "      his = model.fit(x = x_tr,y=y_tr,validation_data=(x_ts,y_ts),epochs=100,callbacks=[EarlyStopping()])\n",
        "      # y_pred = model.predict(x_ts)\n",
        "      return x,his #,accuracy_score(y_ts,y_pred)\n",
        "      \n",
        "    "
      ],
      "execution_count": null,
      "outputs": []
    },
    {
      "cell_type": "code",
      "metadata": {
        "colab": {
          "base_uri": "https://localhost:8080/"
        },
        "id": "4HXH556aoPHN",
        "outputId": "6c129584-67dc-4ead-a1c3-80147892e19b"
      },
      "source": [
        "wem = word_emb_model('/content/drive/MyDrive/sarcasm data/train_sarc_final_with_folds.csv')"
      ],
      "execution_count": null,
      "outputs": [
        {
          "output_type": "stream",
          "text": [
            "Found 1193514 word vectors.\n"
          ],
          "name": "stdout"
        }
      ]
    },
    {
      "cell_type": "code",
      "metadata": {
        "colab": {
          "base_uri": "https://localhost:8080/"
        },
        "id": "ivVgbve3aA0q",
        "outputId": "cae7e0ac-7cba-43f8-ee9d-98a3c0b0ed93"
      },
      "source": [
        "wem.process_glove()"
      ],
      "execution_count": null,
      "outputs": [
        {
          "output_type": "stream",
          "text": [
            "\n",
            " CONV1D \n",
            "\n",
            "Model: \"sequential\"\n",
            "_________________________________________________________________\n",
            "Layer (type)                 Output Shape              Param #   \n",
            "=================================================================\n",
            "embedding (Embedding)        (None, 163, 100)          8445700   \n",
            "_________________________________________________________________\n",
            "conv1d (Conv1D)              (None, 161, 32)           9632      \n",
            "_________________________________________________________________\n",
            "max_pooling1d (MaxPooling1D) (None, 80, 32)            0         \n",
            "_________________________________________________________________\n",
            "conv1d_1 (Conv1D)            (None, 78, 32)            3104      \n",
            "_________________________________________________________________\n",
            "max_pooling1d_1 (MaxPooling1 (None, 39, 32)            0         \n",
            "_________________________________________________________________\n",
            "conv1d_2 (Conv1D)            (None, 37, 32)            3104      \n",
            "_________________________________________________________________\n",
            "max_pooling1d_2 (MaxPooling1 (None, 18, 32)            0         \n",
            "_________________________________________________________________\n",
            "dropout (Dropout)            (None, 18, 32)            0         \n",
            "_________________________________________________________________\n",
            "flatten (Flatten)            (None, 576)               0         \n",
            "_________________________________________________________________\n",
            "dense (Dense)                (None, 512)               295424    \n",
            "_________________________________________________________________\n",
            "dense_1 (Dense)              (None, 256)               131328    \n",
            "_________________________________________________________________\n",
            "dense_2 (Dense)              (None, 128)               32896     \n",
            "_________________________________________________________________\n",
            "dense_3 (Dense)              (None, 64)                8256      \n",
            "_________________________________________________________________\n",
            "dense_4 (Dense)              (None, 2)                 130       \n",
            "=================================================================\n",
            "Total params: 8,929,574\n",
            "Trainable params: 483,874\n",
            "Non-trainable params: 8,445,700\n",
            "_________________________________________________________________\n",
            "Epoch 1/100\n",
            "7350/7350 [==============================] - 122s 16ms/step - loss: 0.4373 - accuracy: 0.7903 - val_loss: 0.3774 - val_accuracy: 0.8163\n",
            "Epoch 2/100\n",
            "7350/7350 [==============================] - 120s 16ms/step - loss: 0.3508 - accuracy: 0.8463 - val_loss: 0.3543 - val_accuracy: 0.8437\n",
            "Epoch 3/100\n",
            "7350/7350 [==============================] - 120s 16ms/step - loss: 0.3327 - accuracy: 0.8547 - val_loss: 0.3318 - val_accuracy: 0.8523\n",
            "Epoch 4/100\n",
            "7350/7350 [==============================] - 118s 16ms/step - loss: 0.3224 - accuracy: 0.8589 - val_loss: 0.3397 - val_accuracy: 0.8535\n",
            "\n",
            " SEPERABLE CONV1D \n",
            "\n",
            "Model: \"sequential_1\"\n",
            "_________________________________________________________________\n",
            "Layer (type)                 Output Shape              Param #   \n",
            "=================================================================\n",
            "embedding_1 (Embedding)      (None, 163, 100)          8445700   \n",
            "_________________________________________________________________\n",
            "separable_conv1d (SeparableC (None, 161, 32)           3532      \n",
            "_________________________________________________________________\n",
            "max_pooling1d_3 (MaxPooling1 (None, 80, 32)            0         \n",
            "_________________________________________________________________\n",
            "separable_conv1d_1 (Separabl (None, 78, 32)            1152      \n",
            "_________________________________________________________________\n",
            "max_pooling1d_4 (MaxPooling1 (None, 39, 32)            0         \n",
            "_________________________________________________________________\n",
            "separable_conv1d_2 (Separabl (None, 37, 32)            1152      \n",
            "_________________________________________________________________\n",
            "max_pooling1d_5 (MaxPooling1 (None, 18, 32)            0         \n",
            "_________________________________________________________________\n",
            "dropout_1 (Dropout)          (None, 18, 32)            0         \n",
            "_________________________________________________________________\n",
            "global_max_pooling1d (Global (None, 32)                0         \n",
            "_________________________________________________________________\n",
            "dense_5 (Dense)              (None, 512)               16896     \n",
            "_________________________________________________________________\n",
            "dense_6 (Dense)              (None, 256)               131328    \n",
            "_________________________________________________________________\n",
            "dense_7 (Dense)              (None, 128)               32896     \n",
            "_________________________________________________________________\n",
            "dense_8 (Dense)              (None, 64)                8256      \n",
            "_________________________________________________________________\n",
            "dense_9 (Dense)              (None, 2)                 130       \n",
            "=================================================================\n",
            "Total params: 8,641,042\n",
            "Trainable params: 195,342\n",
            "Non-trainable params: 8,445,700\n",
            "_________________________________________________________________\n",
            "Epoch 1/100\n",
            "7350/7350 [==============================] - 126s 17ms/step - loss: 0.4815 - accuracy: 0.7514 - val_loss: 0.3815 - val_accuracy: 0.8256\n",
            "Epoch 2/100\n",
            "7350/7350 [==============================] - 118s 16ms/step - loss: 0.3774 - accuracy: 0.8297 - val_loss: 0.3615 - val_accuracy: 0.8339\n",
            "Epoch 3/100\n",
            "7350/7350 [==============================] - 120s 16ms/step - loss: 0.3589 - accuracy: 0.8412 - val_loss: 0.3645 - val_accuracy: 0.8308\n",
            "\n",
            " CONV1D BiLSTM \n",
            "\n",
            "Model: \"sequential_2\"\n",
            "_________________________________________________________________\n",
            "Layer (type)                 Output Shape              Param #   \n",
            "=================================================================\n",
            "embedding_2 (Embedding)      (None, 163, 100)          8445700   \n",
            "_________________________________________________________________\n",
            "conv1d_3 (Conv1D)            (None, 161, 32)           9632      \n",
            "_________________________________________________________________\n",
            "max_pooling1d_6 (MaxPooling1 (None, 80, 32)            0         \n",
            "_________________________________________________________________\n",
            "conv1d_4 (Conv1D)            (None, 78, 32)            3104      \n",
            "_________________________________________________________________\n",
            "max_pooling1d_7 (MaxPooling1 (None, 39, 32)            0         \n",
            "_________________________________________________________________\n",
            "conv1d_5 (Conv1D)            (None, 37, 32)            3104      \n",
            "_________________________________________________________________\n",
            "max_pooling1d_8 (MaxPooling1 (None, 18, 32)            0         \n",
            "_________________________________________________________________\n",
            "bidirectional (Bidirectional (None, 18, 32)            6272      \n",
            "_________________________________________________________________\n",
            "flatten_1 (Flatten)          (None, 576)               0         \n",
            "_________________________________________________________________\n",
            "dense_10 (Dense)             (None, 512)               295424    \n",
            "_________________________________________________________________\n",
            "dense_11 (Dense)             (None, 256)               131328    \n",
            "_________________________________________________________________\n",
            "dense_12 (Dense)             (None, 128)               32896     \n",
            "_________________________________________________________________\n",
            "dense_13 (Dense)             (None, 64)                8256      \n",
            "_________________________________________________________________\n",
            "dense_14 (Dense)             (None, 2)                 130       \n",
            "=================================================================\n",
            "Total params: 8,935,846\n",
            "Trainable params: 490,146\n",
            "Non-trainable params: 8,445,700\n",
            "_________________________________________________________________\n",
            "Epoch 1/100\n",
            "7350/7350 [==============================] - 144s 19ms/step - loss: 0.4283 - accuracy: 0.7963 - val_loss: 0.3679 - val_accuracy: 0.8295\n",
            "Epoch 2/100\n",
            "7350/7350 [==============================] - 134s 18ms/step - loss: 0.3371 - accuracy: 0.8522 - val_loss: 0.3300 - val_accuracy: 0.8545\n",
            "Epoch 3/100\n",
            "7350/7350 [==============================] - 138s 19ms/step - loss: 0.3200 - accuracy: 0.8598 - val_loss: 0.3329 - val_accuracy: 0.8476\n",
            "\n",
            " CONV1D BiRNN \n",
            "\n",
            "Model: \"sequential_3\"\n",
            "_________________________________________________________________\n",
            "Layer (type)                 Output Shape              Param #   \n",
            "=================================================================\n",
            "embedding_3 (Embedding)      (None, 163, 100)          8445700   \n",
            "_________________________________________________________________\n",
            "conv1d_6 (Conv1D)            (None, 161, 32)           9632      \n",
            "_________________________________________________________________\n",
            "max_pooling1d_9 (MaxPooling1 (None, 80, 32)            0         \n",
            "_________________________________________________________________\n",
            "conv1d_7 (Conv1D)            (None, 78, 32)            3104      \n",
            "_________________________________________________________________\n",
            "max_pooling1d_10 (MaxPooling (None, 39, 32)            0         \n",
            "_________________________________________________________________\n",
            "conv1d_8 (Conv1D)            (None, 37, 32)            3104      \n",
            "_________________________________________________________________\n",
            "max_pooling1d_11 (MaxPooling (None, 18, 32)            0         \n",
            "_________________________________________________________________\n",
            "bidirectional_1 (Bidirection (None, 18, 32)            1568      \n",
            "_________________________________________________________________\n",
            "flatten_2 (Flatten)          (None, 576)               0         \n",
            "_________________________________________________________________\n",
            "dense_15 (Dense)             (None, 512)               295424    \n",
            "_________________________________________________________________\n",
            "dense_16 (Dense)             (None, 256)               131328    \n",
            "_________________________________________________________________\n",
            "dense_17 (Dense)             (None, 128)               32896     \n",
            "_________________________________________________________________\n",
            "dense_18 (Dense)             (None, 64)                8256      \n",
            "_________________________________________________________________\n",
            "dense_19 (Dense)             (None, 2)                 130       \n",
            "=================================================================\n",
            "Total params: 8,931,142\n",
            "Trainable params: 485,442\n",
            "Non-trainable params: 8,445,700\n",
            "_________________________________________________________________\n",
            "Epoch 1/100\n",
            "7350/7350 [==============================] - 135s 18ms/step - loss: 0.4387 - accuracy: 0.7887 - val_loss: 0.3481 - val_accuracy: 0.8446\n",
            "Epoch 2/100\n",
            "7350/7350 [==============================] - 133s 18ms/step - loss: 0.3408 - accuracy: 0.8501 - val_loss: 0.3613 - val_accuracy: 0.8381\n",
            "\n",
            " CONV1D BiGRU \n",
            "\n",
            "Model: \"sequential_4\"\n",
            "_________________________________________________________________\n",
            "Layer (type)                 Output Shape              Param #   \n",
            "=================================================================\n",
            "embedding_4 (Embedding)      (None, 163, 100)          8445700   \n",
            "_________________________________________________________________\n",
            "conv1d_9 (Conv1D)            (None, 161, 32)           9632      \n",
            "_________________________________________________________________\n",
            "max_pooling1d_12 (MaxPooling (None, 80, 32)            0         \n",
            "_________________________________________________________________\n",
            "conv1d_10 (Conv1D)           (None, 78, 32)            3104      \n",
            "_________________________________________________________________\n",
            "max_pooling1d_13 (MaxPooling (None, 39, 32)            0         \n",
            "_________________________________________________________________\n",
            "conv1d_11 (Conv1D)           (None, 37, 32)            3104      \n",
            "_________________________________________________________________\n",
            "max_pooling1d_14 (MaxPooling (None, 18, 32)            0         \n",
            "_________________________________________________________________\n",
            "bidirectional_2 (Bidirection (None, 18, 32)            4800      \n",
            "_________________________________________________________________\n",
            "flatten_3 (Flatten)          (None, 576)               0         \n",
            "_________________________________________________________________\n",
            "dense_20 (Dense)             (None, 512)               295424    \n",
            "_________________________________________________________________\n",
            "dense_21 (Dense)             (None, 256)               131328    \n",
            "_________________________________________________________________\n",
            "dense_22 (Dense)             (None, 128)               32896     \n",
            "_________________________________________________________________\n",
            "dense_23 (Dense)             (None, 64)                8256      \n",
            "_________________________________________________________________\n",
            "dense_24 (Dense)             (None, 2)                 130       \n",
            "=================================================================\n",
            "Total params: 8,934,374\n",
            "Trainable params: 488,674\n",
            "Non-trainable params: 8,445,700\n",
            "_________________________________________________________________\n",
            "Epoch 1/100\n",
            "7350/7350 [==============================] - 154s 20ms/step - loss: 0.4225 - accuracy: 0.8020 - val_loss: 0.3593 - val_accuracy: 0.8407\n",
            "Epoch 2/100\n",
            "7350/7350 [==============================] - 140s 19ms/step - loss: 0.3370 - accuracy: 0.8502 - val_loss: 0.3313 - val_accuracy: 0.8534\n",
            "Epoch 3/100\n",
            "7350/7350 [==============================] - 156s 21ms/step - loss: 0.3206 - accuracy: 0.8584 - val_loss: 0.3262 - val_accuracy: 0.8573\n",
            "Epoch 4/100\n",
            "7350/7350 [==============================] - 163s 22ms/step - loss: 0.3104 - accuracy: 0.8637 - val_loss: 0.3369 - val_accuracy: 0.8515\n",
            "\n",
            " SEPARABLE CONV1D BiLSTM \n",
            "\n",
            "Model: \"sequential_5\"\n",
            "_________________________________________________________________\n",
            "Layer (type)                 Output Shape              Param #   \n",
            "=================================================================\n",
            "embedding_5 (Embedding)      (None, 163, 100)          8445700   \n",
            "_________________________________________________________________\n",
            "separable_conv1d_3 (Separabl (None, 161, 32)           3532      \n",
            "_________________________________________________________________\n",
            "max_pooling1d_15 (MaxPooling (None, 80, 32)            0         \n",
            "_________________________________________________________________\n",
            "separable_conv1d_4 (Separabl (None, 78, 32)            1152      \n",
            "_________________________________________________________________\n",
            "max_pooling1d_16 (MaxPooling (None, 39, 32)            0         \n",
            "_________________________________________________________________\n",
            "separable_conv1d_5 (Separabl (None, 37, 32)            1152      \n",
            "_________________________________________________________________\n",
            "max_pooling1d_17 (MaxPooling (None, 18, 32)            0         \n",
            "_________________________________________________________________\n",
            "bidirectional_3 (Bidirection (None, 18, 32)            6272      \n",
            "_________________________________________________________________\n",
            "flatten_4 (Flatten)          (None, 576)               0         \n",
            "_________________________________________________________________\n",
            "dense_25 (Dense)             (None, 512)               295424    \n",
            "_________________________________________________________________\n",
            "dense_26 (Dense)             (None, 256)               131328    \n",
            "_________________________________________________________________\n",
            "dense_27 (Dense)             (None, 128)               32896     \n",
            "_________________________________________________________________\n",
            "dense_28 (Dense)             (None, 64)                8256      \n",
            "_________________________________________________________________\n",
            "dense_29 (Dense)             (None, 2)                 130       \n",
            "=================================================================\n",
            "Total params: 8,925,842\n",
            "Trainable params: 480,142\n",
            "Non-trainable params: 8,445,700\n",
            "_________________________________________________________________\n",
            "Epoch 1/100\n",
            "7350/7350 [==============================] - 186s 24ms/step - loss: 0.4910 - accuracy: 0.7328 - val_loss: 0.3618 - val_accuracy: 0.8368\n",
            "Epoch 2/100\n",
            "7350/7350 [==============================] - 162s 22ms/step - loss: 0.3615 - accuracy: 0.8385 - val_loss: 0.3525 - val_accuracy: 0.8434\n",
            "Epoch 3/100\n",
            "7350/7350 [==============================] - 147s 20ms/step - loss: 0.3436 - accuracy: 0.8481 - val_loss: 0.3609 - val_accuracy: 0.8312\n",
            "\n",
            " SEPARABLE CONV1D BiRNN \n",
            "\n",
            "Model: \"sequential_6\"\n",
            "_________________________________________________________________\n",
            "Layer (type)                 Output Shape              Param #   \n",
            "=================================================================\n",
            "embedding_6 (Embedding)      (None, 163, 100)          8445700   \n",
            "_________________________________________________________________\n",
            "separable_conv1d_6 (Separabl (None, 161, 32)           3532      \n",
            "_________________________________________________________________\n",
            "max_pooling1d_18 (MaxPooling (None, 80, 32)            0         \n",
            "_________________________________________________________________\n",
            "separable_conv1d_7 (Separabl (None, 78, 32)            1152      \n",
            "_________________________________________________________________\n",
            "max_pooling1d_19 (MaxPooling (None, 39, 32)            0         \n",
            "_________________________________________________________________\n",
            "separable_conv1d_8 (Separabl (None, 37, 32)            1152      \n",
            "_________________________________________________________________\n",
            "max_pooling1d_20 (MaxPooling (None, 18, 32)            0         \n",
            "_________________________________________________________________\n",
            "bidirectional_4 (Bidirection (None, 18, 32)            1568      \n",
            "_________________________________________________________________\n",
            "flatten_5 (Flatten)          (None, 576)               0         \n",
            "_________________________________________________________________\n",
            "dense_30 (Dense)             (None, 512)               295424    \n",
            "_________________________________________________________________\n",
            "dense_31 (Dense)             (None, 256)               131328    \n",
            "_________________________________________________________________\n",
            "dense_32 (Dense)             (None, 128)               32896     \n",
            "_________________________________________________________________\n",
            "dense_33 (Dense)             (None, 64)                8256      \n",
            "_________________________________________________________________\n",
            "dense_34 (Dense)             (None, 2)                 130       \n",
            "=================================================================\n",
            "Total params: 8,921,138\n",
            "Trainable params: 475,438\n",
            "Non-trainable params: 8,445,700\n",
            "_________________________________________________________________\n",
            "Epoch 1/100\n",
            "7350/7350 [==============================] - 142s 19ms/step - loss: 0.4864 - accuracy: 0.7436 - val_loss: 0.3660 - val_accuracy: 0.8371\n",
            "Epoch 2/100\n",
            "7350/7350 [==============================] - 132s 18ms/step - loss: 0.3630 - accuracy: 0.8379 - val_loss: 0.3460 - val_accuracy: 0.8454\n",
            "Epoch 3/100\n",
            "7350/7350 [==============================] - 137s 19ms/step - loss: 0.3441 - accuracy: 0.8467 - val_loss: 0.3419 - val_accuracy: 0.8470\n",
            "Epoch 4/100\n",
            "7350/7350 [==============================] - 141s 19ms/step - loss: 0.3361 - accuracy: 0.8512 - val_loss: 0.3379 - val_accuracy: 0.8521\n",
            "Epoch 5/100\n",
            "7350/7350 [==============================] - 142s 19ms/step - loss: 0.3287 - accuracy: 0.8543 - val_loss: 0.3557 - val_accuracy: 0.8453\n",
            "\n",
            " SEPARABLE CONV1D BiGRU \n",
            "\n",
            "Model: \"sequential_7\"\n",
            "_________________________________________________________________\n",
            "Layer (type)                 Output Shape              Param #   \n",
            "=================================================================\n",
            "embedding_7 (Embedding)      (None, 163, 100)          8445700   \n",
            "_________________________________________________________________\n",
            "separable_conv1d_9 (Separabl (None, 161, 32)           3532      \n",
            "_________________________________________________________________\n",
            "max_pooling1d_21 (MaxPooling (None, 80, 32)            0         \n",
            "_________________________________________________________________\n",
            "separable_conv1d_10 (Separab (None, 78, 32)            1152      \n",
            "_________________________________________________________________\n",
            "max_pooling1d_22 (MaxPooling (None, 39, 32)            0         \n",
            "_________________________________________________________________\n",
            "separable_conv1d_11 (Separab (None, 37, 32)            1152      \n",
            "_________________________________________________________________\n",
            "max_pooling1d_23 (MaxPooling (None, 18, 32)            0         \n",
            "_________________________________________________________________\n",
            "bidirectional_5 (Bidirection (None, 18, 32)            4800      \n",
            "_________________________________________________________________\n",
            "flatten_6 (Flatten)          (None, 576)               0         \n",
            "_________________________________________________________________\n",
            "dense_35 (Dense)             (None, 512)               295424    \n",
            "_________________________________________________________________\n",
            "dense_36 (Dense)             (None, 256)               131328    \n",
            "_________________________________________________________________\n",
            "dense_37 (Dense)             (None, 128)               32896     \n",
            "_________________________________________________________________\n",
            "dense_38 (Dense)             (None, 64)                8256      \n",
            "_________________________________________________________________\n",
            "dense_39 (Dense)             (None, 2)                 130       \n",
            "=================================================================\n",
            "Total params: 8,924,370\n",
            "Trainable params: 478,670\n",
            "Non-trainable params: 8,445,700\n",
            "_________________________________________________________________\n",
            "Epoch 1/100\n",
            "7350/7350 [==============================] - 158s 20ms/step - loss: 0.4675 - accuracy: 0.7570 - val_loss: 0.3666 - val_accuracy: 0.8375\n",
            "Epoch 2/100\n",
            "7350/7350 [==============================] - 143s 19ms/step - loss: 0.3602 - accuracy: 0.8394 - val_loss: 0.3480 - val_accuracy: 0.8466\n",
            "Epoch 3/100\n",
            "7350/7350 [==============================] - 149s 20ms/step - loss: 0.3437 - accuracy: 0.8476 - val_loss: 0.3559 - val_accuracy: 0.8380\n",
            "\n",
            " BiGRU \n",
            "\n",
            "Model: \"sequential_8\"\n",
            "_________________________________________________________________\n",
            "Layer (type)                 Output Shape              Param #   \n",
            "=================================================================\n",
            "embedding_8 (Embedding)      (None, 163, 100)          8445700   \n",
            "_________________________________________________________________\n",
            "bidirectional_6 (Bidirection (None, 163, 32)           11328     \n",
            "_________________________________________________________________\n",
            "flatten_7 (Flatten)          (None, 5216)              0         \n",
            "_________________________________________________________________\n",
            "dense_40 (Dense)             (None, 512)               2671104   \n",
            "_________________________________________________________________\n",
            "dense_41 (Dense)             (None, 256)               131328    \n",
            "_________________________________________________________________\n",
            "dense_42 (Dense)             (None, 128)               32896     \n",
            "_________________________________________________________________\n",
            "dense_43 (Dense)             (None, 64)                8256      \n",
            "_________________________________________________________________\n",
            "dense_44 (Dense)             (None, 2)                 130       \n",
            "=================================================================\n",
            "Total params: 11,300,742\n",
            "Trainable params: 2,855,042\n",
            "Non-trainable params: 8,445,700\n",
            "_________________________________________________________________\n",
            "Epoch 1/100\n",
            "7350/7350 [==============================] - 217s 29ms/step - loss: 0.4246 - accuracy: 0.7971 - val_loss: 0.3396 - val_accuracy: 0.8485\n",
            "Epoch 2/100\n",
            "7350/7350 [==============================] - 212s 29ms/step - loss: 0.3499 - accuracy: 0.8442 - val_loss: 0.3246 - val_accuracy: 0.8584\n",
            "Epoch 3/100\n",
            "7350/7350 [==============================] - 208s 28ms/step - loss: 0.3345 - accuracy: 0.8496 - val_loss: 0.3159 - val_accuracy: 0.8603\n",
            "Epoch 4/100\n",
            "7350/7350 [==============================] - 206s 28ms/step - loss: 0.3235 - accuracy: 0.8578 - val_loss: 0.3120 - val_accuracy: 0.8625\n",
            "Epoch 5/100\n",
            "7350/7350 [==============================] - 213s 29ms/step - loss: 0.3160 - accuracy: 0.8611 - val_loss: 0.3170 - val_accuracy: 0.8592\n",
            "\n",
            " BiLSTM \n",
            "\n",
            "Model: \"sequential_9\"\n",
            "_________________________________________________________________\n",
            "Layer (type)                 Output Shape              Param #   \n",
            "=================================================================\n",
            "embedding_9 (Embedding)      (None, 163, 100)          8445700   \n",
            "_________________________________________________________________\n",
            "bidirectional_7 (Bidirection (None, 163, 32)           14976     \n",
            "_________________________________________________________________\n",
            "flatten_8 (Flatten)          (None, 5216)              0         \n",
            "_________________________________________________________________\n",
            "dense_45 (Dense)             (None, 512)               2671104   \n",
            "_________________________________________________________________\n",
            "dense_46 (Dense)             (None, 256)               131328    \n",
            "_________________________________________________________________\n",
            "dense_47 (Dense)             (None, 128)               32896     \n",
            "_________________________________________________________________\n",
            "dense_48 (Dense)             (None, 64)                8256      \n",
            "_________________________________________________________________\n",
            "dense_49 (Dense)             (None, 2)                 130       \n",
            "=================================================================\n",
            "Total params: 11,304,390\n",
            "Trainable params: 2,858,690\n",
            "Non-trainable params: 8,445,700\n",
            "_________________________________________________________________\n",
            "Epoch 1/100\n",
            "7350/7350 [==============================] - 227s 30ms/step - loss: 0.4232 - accuracy: 0.7994 - val_loss: 0.3467 - val_accuracy: 0.8482\n",
            "Epoch 2/100\n",
            "7350/7350 [==============================] - 226s 31ms/step - loss: 0.3400 - accuracy: 0.8482 - val_loss: 0.3167 - val_accuracy: 0.8615\n",
            "Epoch 3/100\n",
            "7350/7350 [==============================] - 220s 30ms/step - loss: 0.3210 - accuracy: 0.8584 - val_loss: 0.3191 - val_accuracy: 0.8600\n",
            "\n",
            " BiRNN \n",
            "\n",
            "Model: \"sequential_10\"\n",
            "_________________________________________________________________\n",
            "Layer (type)                 Output Shape              Param #   \n",
            "=================================================================\n",
            "embedding_10 (Embedding)     (None, 163, 100)          8445700   \n",
            "_________________________________________________________________\n",
            "bidirectional_8 (Bidirection (None, 163, 32)           3744      \n",
            "_________________________________________________________________\n",
            "flatten_9 (Flatten)          (None, 5216)              0         \n",
            "_________________________________________________________________\n",
            "dense_50 (Dense)             (None, 512)               2671104   \n",
            "_________________________________________________________________\n",
            "dense_51 (Dense)             (None, 256)               131328    \n",
            "_________________________________________________________________\n",
            "dense_52 (Dense)             (None, 128)               32896     \n",
            "_________________________________________________________________\n",
            "dense_53 (Dense)             (None, 64)                8256      \n",
            "_________________________________________________________________\n",
            "dense_54 (Dense)             (None, 2)                 130       \n",
            "=================================================================\n",
            "Total params: 11,293,158\n",
            "Trainable params: 2,847,458\n",
            "Non-trainable params: 8,445,700\n",
            "_________________________________________________________________\n",
            "Epoch 1/100\n",
            "7350/7350 [==============================] - 179s 24ms/step - loss: 0.5041 - accuracy: 0.7456 - val_loss: 0.4243 - val_accuracy: 0.8025\n",
            "Epoch 2/100\n",
            "7350/7350 [==============================] - 174s 24ms/step - loss: 0.4293 - accuracy: 0.8012 - val_loss: 0.4424 - val_accuracy: 0.7955\n"
          ],
          "name": "stdout"
        }
      ]
    },
    {
      "cell_type": "code",
      "metadata": {
        "id": "vnGIprVs5t6a"
      },
      "source": [
        "y = wem.get_history_glove()"
      ],
      "execution_count": null,
      "outputs": []
    },
    {
      "cell_type": "code",
      "metadata": {
        "colab": {
          "base_uri": "https://localhost:8080/"
        },
        "id": "0nQnGQuN17bK",
        "outputId": "afc180cb-2cd9-4981-d891-722d2631708e"
      },
      "source": [
        "dfs = []\n",
        "for k in y.keys():\n",
        "  print(k)\n",
        "  z = y[k][0].history\n",
        "  df = pd.DataFrame.from_dict(z)\n",
        "  df['epoch'] = [i+1 for i in range(len(df))]\n",
        "  dfs.append(df)"
      ],
      "execution_count": null,
      "outputs": [
        {
          "output_type": "stream",
          "text": [
            "<bound method word_emb_model.CONV1D of <__main__.word_emb_model object at 0x7f62bf4f8d90>>\n",
            "<bound method word_emb_model.SEP_CONV1D of <__main__.word_emb_model object at 0x7f62bf4f8d90>>\n",
            "<bound method word_emb_model.CONV1D_BiLSTM of <__main__.word_emb_model object at 0x7f62bf4f8d90>>\n",
            "<bound method word_emb_model.CONV1D_BiRNN of <__main__.word_emb_model object at 0x7f62bf4f8d90>>\n",
            "<bound method word_emb_model.CONV1D_BiGRU of <__main__.word_emb_model object at 0x7f62bf4f8d90>>\n",
            "<bound method word_emb_model.SEP_CONV1D_BiLSTM of <__main__.word_emb_model object at 0x7f62bf4f8d90>>\n",
            "<bound method word_emb_model.SEP_CONV1D_BiRNN of <__main__.word_emb_model object at 0x7f62bf4f8d90>>\n",
            "<bound method word_emb_model.SEP_CONV1D_BiGRU of <__main__.word_emb_model object at 0x7f62bf4f8d90>>\n",
            "<bound method word_emb_model.BiGRU of <__main__.word_emb_model object at 0x7f62bf4f8d90>>\n",
            "<bound method word_emb_model.BiLSTM of <__main__.word_emb_model object at 0x7f62bf4f8d90>>\n",
            "<bound method word_emb_model.BiRNN of <__main__.word_emb_model object at 0x7f62bf4f8d90>>\n"
          ],
          "name": "stdout"
        }
      ]
    },
    {
      "cell_type": "code",
      "metadata": {
        "id": "O_jpLlGT2obA"
      },
      "source": [
        "k = ['CONV1D','SEP_CONV1D','CONV1D_BiLSTM','CONV1D_BiRNN','CONV1D_BiGRU','SEP_CONV1D_BiLSTM','SEP_CONV1D_BiRNN','SEP_CONV1D_BiGRU','BiGRU','BiLSTM','BiRNN']"
      ],
      "execution_count": null,
      "outputs": []
    },
    {
      "cell_type": "code",
      "metadata": {
        "colab": {
          "base_uri": "https://localhost:8080/"
        },
        "id": "s302fuLi2Ie5",
        "outputId": "d96ed2bd-84ea-4e6e-c4f8-2b655bbbc268"
      },
      "source": [
        "len(k)"
      ],
      "execution_count": null,
      "outputs": [
        {
          "output_type": "execute_result",
          "data": {
            "text/plain": [
              "11"
            ]
          },
          "metadata": {
            "tags": []
          },
          "execution_count": 28
        }
      ]
    },
    {
      "cell_type": "code",
      "metadata": {
        "id": "ccb8WMb63Nfe"
      },
      "source": [
        "for i in range(len(dfs)):\n",
        "  dfs[i].to_csv('/content/drive/MyDrive/sar_glove_100_'+k[i]+'.csv',index = False,header = True)"
      ],
      "execution_count": null,
      "outputs": []
    },
    {
      "cell_type": "code",
      "metadata": {
        "id": "kTyMq4EsaR_V"
      },
      "source": [
        "df = df.rename({'preprocessed':'text','final_sent_class':'label'},axis = 1)"
      ],
      "execution_count": null,
      "outputs": []
    },
    {
      "cell_type": "code",
      "metadata": {
        "id": "56DX05VGacu0"
      },
      "source": [
        "from sklearn import model_selection\n",
        "skf = model_selection.StratifiedKFold(n_splits = 5)\n",
        "\n",
        "for f, (t_,v_) in enumerate(skf.split(X=df,y=df.label.values)):\n",
        "    df.loc[v_,\"kfold\"] = f"
      ],
      "execution_count": null,
      "outputs": []
    },
    {
      "cell_type": "code",
      "metadata": {
        "id": "-EFajhaca2VG"
      },
      "source": [
        "df.to_csv('/content/drive/MyDrive/sentiment data/tr_sen_fin.csv',index = False,header = True)"
      ],
      "execution_count": null,
      "outputs": []
    },
    {
      "cell_type": "code",
      "metadata": {
        "id": "WgqNWCzhoIc5"
      },
      "source": [
        "from sklearn.model_selection import train_test_split\n",
        "X_train, X_test , y_train, y_test = train_test_split(X, y , test_size = 0.20,stratify = y)"
      ],
      "execution_count": null,
      "outputs": []
    },
    {
      "cell_type": "code",
      "metadata": {
        "id": "e_x666p2oWAz"
      },
      "source": [
        "x_tr = glove.transform(X_train)\n",
        "x_ts = glove.transform(X_test)"
      ],
      "execution_count": null,
      "outputs": []
    },
    {
      "cell_type": "code",
      "metadata": {
        "colab": {
          "base_uri": "https://localhost:8080/"
        },
        "id": "bIgQi-zRoomH",
        "outputId": "ff5a1f7f-4565-4f79-fbd0-bf4765153083"
      },
      "source": [
        "from sklearn.linear_model import LogisticRegression\n",
        "clf = LogisticRegression()\n",
        "clf.fit(x_tr,y_train)"
      ],
      "execution_count": null,
      "outputs": [
        {
          "output_type": "stream",
          "text": [
            "/usr/local/lib/python3.7/dist-packages/sklearn/linear_model/_logistic.py:940: ConvergenceWarning: lbfgs failed to converge (status=1):\n",
            "STOP: TOTAL NO. of ITERATIONS REACHED LIMIT.\n",
            "\n",
            "Increase the number of iterations (max_iter) or scale the data as shown in:\n",
            "    https://scikit-learn.org/stable/modules/preprocessing.html\n",
            "Please also refer to the documentation for alternative solver options:\n",
            "    https://scikit-learn.org/stable/modules/linear_model.html#logistic-regression\n",
            "  extra_warning_msg=_LOGISTIC_SOLVER_CONVERGENCE_MSG)\n"
          ],
          "name": "stderr"
        },
        {
          "output_type": "execute_result",
          "data": {
            "text/plain": [
              "LogisticRegression(C=1.0, class_weight=None, dual=False, fit_intercept=True,\n",
              "                   intercept_scaling=1, l1_ratio=None, max_iter=100,\n",
              "                   multi_class='auto', n_jobs=None, penalty='l2',\n",
              "                   random_state=None, solver='lbfgs', tol=0.0001, verbose=0,\n",
              "                   warm_start=False)"
            ]
          },
          "metadata": {
            "tags": []
          },
          "execution_count": 33
        }
      ]
    },
    {
      "cell_type": "code",
      "metadata": {
        "id": "aq4noPwlqGOX"
      },
      "source": [
        "y_pred = clf.predict(x_ts)"
      ],
      "execution_count": null,
      "outputs": []
    },
    {
      "cell_type": "code",
      "metadata": {
        "colab": {
          "base_uri": "https://localhost:8080/"
        },
        "id": "tpYLjibSqUpe",
        "outputId": "f6efb2a0-c424-4550-9c51-7c0fb9c7167b"
      },
      "source": [
        "from sklearn.metrics import accuracy_score\n",
        "print(accuracy_score(y_test,y_pred))"
      ],
      "execution_count": null,
      "outputs": [
        {
          "output_type": "stream",
          "text": [
            "0.5946304347826087\n"
          ],
          "name": "stdout"
        }
      ]
    }
  ]
}