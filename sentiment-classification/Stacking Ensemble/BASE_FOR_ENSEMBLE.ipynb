{
  "nbformat": 4,
  "nbformat_minor": 0,
  "metadata": {
    "colab": {
      "name": "BASE FOR ENSEMBLE.ipynb",
      "provenance": [],
      "machine_shape": "hm"
    },
    "kernelspec": {
      "name": "python3",
      "display_name": "Python 3"
    },
    "language_info": {
      "name": "python"
    },
    "accelerator": "TPU"
  },
  "cells": [
    {
      "cell_type": "code",
      "metadata": {
        "colab": {
          "base_uri": "https://localhost:8080/"
        },
        "id": "qrKi4tYiwEAr",
        "outputId": "6dfc5fb6-5266-41b7-d88b-2178ce5c1686"
      },
      "source": [
        "from google.colab import drive\n",
        "from tensorflow import keras\n",
        "from keras.preprocessing.text import Tokenizer\n",
        "from keras.preprocessing.sequence import pad_sequences\n",
        "import tensorflow as tf\n",
        "import numpy as np\n",
        "import pandas as pd\n",
        "from sklearn.preprocessing import LabelEncoder\n",
        "from keras.utils import np_utils\n",
        "from keras.callbacks import EarlyStopping\n",
        "from sklearn import model_selection\n",
        "from nltk.tokenize import word_tokenize\n",
        "import nltk\n",
        "from sklearn.metrics import accuracy_score\n",
        "nltk.download('punkt')\n",
        "import codecs"
      ],
      "execution_count": null,
      "outputs": [
        {
          "output_type": "stream",
          "text": [
            "[nltk_data] Downloading package punkt to /root/nltk_data...\n",
            "[nltk_data]   Unzipping tokenizers/punkt.zip.\n"
          ],
          "name": "stdout"
        }
      ]
    },
    {
      "cell_type": "code",
      "metadata": {
        "colab": {
          "base_uri": "https://localhost:8080/"
        },
        "id": "snnq7Ds9wVFG",
        "outputId": "b87d4895-6fa8-4e56-d542-891067212bdd"
      },
      "source": [
        "drive.mount('/content/drive')"
      ],
      "execution_count": null,
      "outputs": [
        {
          "output_type": "stream",
          "text": [
            "Mounted at /content/drive\n"
          ],
          "name": "stdout"
        }
      ]
    },
    {
      "cell_type": "code",
      "metadata": {
        "colab": {
          "base_uri": "https://localhost:8080/"
        },
        "id": "qjdSNXPLwYrp",
        "outputId": "d1a2e16f-5381-4780-a658-d2bbb9ed4f37"
      },
      "source": [
        "import os\n",
        "import pprint # for pretty printing our device stats\n",
        "\n",
        "if 'COLAB_TPU_ADDR' not in os.environ:\n",
        "    print('ERROR: Not connected to a TPU runtime; please see the first cell in this notebook for instructions!')\n",
        "else:\n",
        "    tpu_address = 'grpc://' + os.environ['COLAB_TPU_ADDR']\n",
        "    print ('TPU address is', tpu_address)\n",
        "\n",
        "    with tf.compat.v1.Session(tpu_address) as session:\n",
        "      devices = session.list_devices()\n",
        "\n",
        "    print('TPU devices:')\n",
        "    pprint.pprint(devices)"
      ],
      "execution_count": null,
      "outputs": [
        {
          "output_type": "stream",
          "text": [
            "TPU address is grpc://10.76.186.210:8470\n",
            "TPU devices:\n",
            "[_DeviceAttributes(/job:tpu_worker/replica:0/task:0/device:CPU:0, CPU, -1, 27977471625426638),\n",
            " _DeviceAttributes(/job:tpu_worker/replica:0/task:0/device:TPU_SYSTEM:0, TPU_SYSTEM, 8589934592, -4948639327698615341),\n",
            " _DeviceAttributes(/job:tpu_worker/replica:0/task:0/device:XLA_CPU:0, XLA_CPU, 17179869184, 9124782786937714842),\n",
            " _DeviceAttributes(/job:tpu_worker/replica:0/task:0/device:TPU:0, TPU, 17179869184, -2338562851466915965),\n",
            " _DeviceAttributes(/job:tpu_worker/replica:0/task:0/device:TPU:1, TPU, 17179869184, -7036378374104742356),\n",
            " _DeviceAttributes(/job:tpu_worker/replica:0/task:0/device:TPU:2, TPU, 17179869184, 4755702993681094860),\n",
            " _DeviceAttributes(/job:tpu_worker/replica:0/task:0/device:TPU:3, TPU, 17179869184, 1295291329063128586),\n",
            " _DeviceAttributes(/job:tpu_worker/replica:0/task:0/device:TPU:4, TPU, 17179869184, 5786615148161536655),\n",
            " _DeviceAttributes(/job:tpu_worker/replica:0/task:0/device:TPU:5, TPU, 17179869184, -2331037332389505061),\n",
            " _DeviceAttributes(/job:tpu_worker/replica:0/task:0/device:TPU:6, TPU, 17179869184, 6292596423204015517),\n",
            " _DeviceAttributes(/job:tpu_worker/replica:0/task:0/device:TPU:7, TPU, 17179869184, -2430122592812992088)]\n"
          ],
          "name": "stdout"
        }
      ]
    },
    {
      "cell_type": "code",
      "metadata": {
        "colab": {
          "base_uri": "https://localhost:8080/"
        },
        "id": "vQMw4A5AxyJj",
        "outputId": "b021fb7c-e124-486d-db68-33495dac7ecd"
      },
      "source": [
        "resolver = tf.distribute.cluster_resolver.TPUClusterResolver(tpu='')\n",
        "tf.config.experimental_connect_to_cluster(resolver)\n",
        "# This is the TPU initialization code that has to be at the beginning.\n",
        "tf.tpu.experimental.initialize_tpu_system(resolver)\n",
        "print(\"All devices: \", tf.config.list_logical_devices('TPU'))\n",
        "strategy = tf.distribute.TPUStrategy(resolver)"
      ],
      "execution_count": null,
      "outputs": [
        {
          "output_type": "stream",
          "text": [
            "INFO:tensorflow:Initializing the TPU system: grpc://10.76.186.210:8470\n"
          ],
          "name": "stdout"
        },
        {
          "output_type": "stream",
          "text": [
            "INFO:tensorflow:Initializing the TPU system: grpc://10.76.186.210:8470\n"
          ],
          "name": "stderr"
        },
        {
          "output_type": "stream",
          "text": [
            "INFO:tensorflow:Clearing out eager caches\n"
          ],
          "name": "stdout"
        },
        {
          "output_type": "stream",
          "text": [
            "INFO:tensorflow:Clearing out eager caches\n"
          ],
          "name": "stderr"
        },
        {
          "output_type": "stream",
          "text": [
            "INFO:tensorflow:Finished initializing TPU system.\n"
          ],
          "name": "stdout"
        },
        {
          "output_type": "stream",
          "text": [
            "INFO:tensorflow:Finished initializing TPU system.\n"
          ],
          "name": "stderr"
        },
        {
          "output_type": "stream",
          "text": [
            "All devices:  [LogicalDevice(name='/job:worker/replica:0/task:0/device:TPU:7', device_type='TPU'), LogicalDevice(name='/job:worker/replica:0/task:0/device:TPU:6', device_type='TPU'), LogicalDevice(name='/job:worker/replica:0/task:0/device:TPU:5', device_type='TPU'), LogicalDevice(name='/job:worker/replica:0/task:0/device:TPU:4', device_type='TPU'), LogicalDevice(name='/job:worker/replica:0/task:0/device:TPU:3', device_type='TPU'), LogicalDevice(name='/job:worker/replica:0/task:0/device:TPU:0', device_type='TPU'), LogicalDevice(name='/job:worker/replica:0/task:0/device:TPU:1', device_type='TPU'), LogicalDevice(name='/job:worker/replica:0/task:0/device:TPU:2', device_type='TPU')]\n",
            "INFO:tensorflow:Found TPU system:\n"
          ],
          "name": "stdout"
        },
        {
          "output_type": "stream",
          "text": [
            "INFO:tensorflow:Found TPU system:\n"
          ],
          "name": "stderr"
        },
        {
          "output_type": "stream",
          "text": [
            "INFO:tensorflow:*** Num TPU Cores: 8\n"
          ],
          "name": "stdout"
        },
        {
          "output_type": "stream",
          "text": [
            "INFO:tensorflow:*** Num TPU Cores: 8\n"
          ],
          "name": "stderr"
        },
        {
          "output_type": "stream",
          "text": [
            "INFO:tensorflow:*** Num TPU Workers: 1\n"
          ],
          "name": "stdout"
        },
        {
          "output_type": "stream",
          "text": [
            "INFO:tensorflow:*** Num TPU Workers: 1\n"
          ],
          "name": "stderr"
        },
        {
          "output_type": "stream",
          "text": [
            "INFO:tensorflow:*** Num TPU Cores Per Worker: 8\n"
          ],
          "name": "stdout"
        },
        {
          "output_type": "stream",
          "text": [
            "INFO:tensorflow:*** Num TPU Cores Per Worker: 8\n"
          ],
          "name": "stderr"
        },
        {
          "output_type": "stream",
          "text": [
            "INFO:tensorflow:*** Available Device: _DeviceAttributes(/job:localhost/replica:0/task:0/device:CPU:0, CPU, 0, 0)\n"
          ],
          "name": "stdout"
        },
        {
          "output_type": "stream",
          "text": [
            "INFO:tensorflow:*** Available Device: _DeviceAttributes(/job:localhost/replica:0/task:0/device:CPU:0, CPU, 0, 0)\n"
          ],
          "name": "stderr"
        },
        {
          "output_type": "stream",
          "text": [
            "INFO:tensorflow:*** Available Device: _DeviceAttributes(/job:worker/replica:0/task:0/device:CPU:0, CPU, 0, 0)\n"
          ],
          "name": "stdout"
        },
        {
          "output_type": "stream",
          "text": [
            "INFO:tensorflow:*** Available Device: _DeviceAttributes(/job:worker/replica:0/task:0/device:CPU:0, CPU, 0, 0)\n"
          ],
          "name": "stderr"
        },
        {
          "output_type": "stream",
          "text": [
            "INFO:tensorflow:*** Available Device: _DeviceAttributes(/job:worker/replica:0/task:0/device:TPU:0, TPU, 0, 0)\n"
          ],
          "name": "stdout"
        },
        {
          "output_type": "stream",
          "text": [
            "INFO:tensorflow:*** Available Device: _DeviceAttributes(/job:worker/replica:0/task:0/device:TPU:0, TPU, 0, 0)\n"
          ],
          "name": "stderr"
        },
        {
          "output_type": "stream",
          "text": [
            "INFO:tensorflow:*** Available Device: _DeviceAttributes(/job:worker/replica:0/task:0/device:TPU:1, TPU, 0, 0)\n"
          ],
          "name": "stdout"
        },
        {
          "output_type": "stream",
          "text": [
            "INFO:tensorflow:*** Available Device: _DeviceAttributes(/job:worker/replica:0/task:0/device:TPU:1, TPU, 0, 0)\n"
          ],
          "name": "stderr"
        },
        {
          "output_type": "stream",
          "text": [
            "INFO:tensorflow:*** Available Device: _DeviceAttributes(/job:worker/replica:0/task:0/device:TPU:2, TPU, 0, 0)\n"
          ],
          "name": "stdout"
        },
        {
          "output_type": "stream",
          "text": [
            "INFO:tensorflow:*** Available Device: _DeviceAttributes(/job:worker/replica:0/task:0/device:TPU:2, TPU, 0, 0)\n"
          ],
          "name": "stderr"
        },
        {
          "output_type": "stream",
          "text": [
            "INFO:tensorflow:*** Available Device: _DeviceAttributes(/job:worker/replica:0/task:0/device:TPU:3, TPU, 0, 0)\n"
          ],
          "name": "stdout"
        },
        {
          "output_type": "stream",
          "text": [
            "INFO:tensorflow:*** Available Device: _DeviceAttributes(/job:worker/replica:0/task:0/device:TPU:3, TPU, 0, 0)\n"
          ],
          "name": "stderr"
        },
        {
          "output_type": "stream",
          "text": [
            "INFO:tensorflow:*** Available Device: _DeviceAttributes(/job:worker/replica:0/task:0/device:TPU:4, TPU, 0, 0)\n"
          ],
          "name": "stdout"
        },
        {
          "output_type": "stream",
          "text": [
            "INFO:tensorflow:*** Available Device: _DeviceAttributes(/job:worker/replica:0/task:0/device:TPU:4, TPU, 0, 0)\n"
          ],
          "name": "stderr"
        },
        {
          "output_type": "stream",
          "text": [
            "INFO:tensorflow:*** Available Device: _DeviceAttributes(/job:worker/replica:0/task:0/device:TPU:5, TPU, 0, 0)\n"
          ],
          "name": "stdout"
        },
        {
          "output_type": "stream",
          "text": [
            "INFO:tensorflow:*** Available Device: _DeviceAttributes(/job:worker/replica:0/task:0/device:TPU:5, TPU, 0, 0)\n"
          ],
          "name": "stderr"
        },
        {
          "output_type": "stream",
          "text": [
            "INFO:tensorflow:*** Available Device: _DeviceAttributes(/job:worker/replica:0/task:0/device:TPU:6, TPU, 0, 0)\n"
          ],
          "name": "stdout"
        },
        {
          "output_type": "stream",
          "text": [
            "INFO:tensorflow:*** Available Device: _DeviceAttributes(/job:worker/replica:0/task:0/device:TPU:6, TPU, 0, 0)\n"
          ],
          "name": "stderr"
        },
        {
          "output_type": "stream",
          "text": [
            "INFO:tensorflow:*** Available Device: _DeviceAttributes(/job:worker/replica:0/task:0/device:TPU:7, TPU, 0, 0)\n"
          ],
          "name": "stdout"
        },
        {
          "output_type": "stream",
          "text": [
            "INFO:tensorflow:*** Available Device: _DeviceAttributes(/job:worker/replica:0/task:0/device:TPU:7, TPU, 0, 0)\n"
          ],
          "name": "stderr"
        },
        {
          "output_type": "stream",
          "text": [
            "INFO:tensorflow:*** Available Device: _DeviceAttributes(/job:worker/replica:0/task:0/device:TPU_SYSTEM:0, TPU_SYSTEM, 0, 0)\n"
          ],
          "name": "stdout"
        },
        {
          "output_type": "stream",
          "text": [
            "INFO:tensorflow:*** Available Device: _DeviceAttributes(/job:worker/replica:0/task:0/device:TPU_SYSTEM:0, TPU_SYSTEM, 0, 0)\n"
          ],
          "name": "stderr"
        },
        {
          "output_type": "stream",
          "text": [
            "INFO:tensorflow:*** Available Device: _DeviceAttributes(/job:worker/replica:0/task:0/device:XLA_CPU:0, XLA_CPU, 0, 0)\n"
          ],
          "name": "stdout"
        },
        {
          "output_type": "stream",
          "text": [
            "INFO:tensorflow:*** Available Device: _DeviceAttributes(/job:worker/replica:0/task:0/device:XLA_CPU:0, XLA_CPU, 0, 0)\n"
          ],
          "name": "stderr"
        }
      ]
    },
    {
      "cell_type": "code",
      "metadata": {
        "colab": {
          "base_uri": "https://localhost:8080/"
        },
        "id": "Nk5Z68zcyZmY",
        "outputId": "1a5d5068-e084-490c-c29c-90a7d2f8990e"
      },
      "source": [
        "!wget http://nlp.stanford.edu/data/glove.twitter.27B.zip\n",
        "# !wget https://dl.fbaipublicfiles.com/fasttext/vectors-english/wiki-news-300d-1M.vec.zip"
      ],
      "execution_count": null,
      "outputs": [
        {
          "output_type": "stream",
          "text": [
            "--2021-05-09 12:58:17--  http://nlp.stanford.edu/data/glove.twitter.27B.zip\n",
            "Resolving nlp.stanford.edu (nlp.stanford.edu)... 171.64.67.140\n",
            "Connecting to nlp.stanford.edu (nlp.stanford.edu)|171.64.67.140|:80... connected.\n",
            "HTTP request sent, awaiting response... 302 Found\n",
            "Location: https://nlp.stanford.edu/data/glove.twitter.27B.zip [following]\n",
            "--2021-05-09 12:58:17--  https://nlp.stanford.edu/data/glove.twitter.27B.zip\n",
            "Connecting to nlp.stanford.edu (nlp.stanford.edu)|171.64.67.140|:443... connected.\n",
            "HTTP request sent, awaiting response... 301 Moved Permanently\n",
            "Location: http://downloads.cs.stanford.edu/nlp/data/glove.twitter.27B.zip [following]\n",
            "--2021-05-09 12:58:17--  http://downloads.cs.stanford.edu/nlp/data/glove.twitter.27B.zip\n",
            "Resolving downloads.cs.stanford.edu (downloads.cs.stanford.edu)... 171.64.64.22\n",
            "Connecting to downloads.cs.stanford.edu (downloads.cs.stanford.edu)|171.64.64.22|:80... connected.\n",
            "HTTP request sent, awaiting response... 200 OK\n",
            "Length: 1520408563 (1.4G) [application/zip]\n",
            "Saving to: ‘glove.twitter.27B.zip’\n",
            "\n",
            "glove.twitter.27B.z 100%[===================>]   1.42G  4.94MB/s    in 4m 48s  \n",
            "\n",
            "2021-05-09 13:03:05 (5.04 MB/s) - ‘glove.twitter.27B.zip’ saved [1520408563/1520408563]\n",
            "\n"
          ],
          "name": "stdout"
        }
      ]
    },
    {
      "cell_type": "code",
      "metadata": {
        "colab": {
          "base_uri": "https://localhost:8080/"
        },
        "id": "fKiwdAPOzdPr",
        "outputId": "2077554d-c5ea-4640-89ed-b1f2984ca36b"
      },
      "source": [
        "!unzip glove.twitter.27B.zip\n",
        "# !unzip wiki-news-300d-1M.vec.zip"
      ],
      "execution_count": null,
      "outputs": [
        {
          "output_type": "stream",
          "text": [
            "Archive:  glove.twitter.27B.zip\n",
            "  inflating: glove.twitter.27B.25d.txt  \n",
            "  inflating: glove.twitter.27B.50d.txt  \n",
            "  inflating: glove.twitter.27B.100d.txt  \n",
            "  inflating: glove.twitter.27B.200d.txt  \n"
          ],
          "name": "stdout"
        }
      ]
    },
    {
      "cell_type": "code",
      "metadata": {
        "id": "HJZ2JQXSwFXT"
      },
      "source": [
        "class word_emb_model:\n",
        "  def __init__(self,path):\n",
        "      df = pd.read_csv(path)\n",
        "      # self.encoder = LabelEncoder()\n",
        "      self.models_glove = {}\n",
        "      self.history_glove = {}\n",
        "      \n",
        "      self.models_fasttext = {}\n",
        "      self.history_fasttext = {}\n",
        "      # self.accuracy_glove ={}\n",
        "      df['text'] = df['text'].apply(lambda x: str(x))\n",
        "      self.dfs_train = df[df['kfold']!=0]\n",
        "      self.dfs_valid = df[df['kfold']==0]\n",
        "      self.read_glove()\n",
        "      self.data_per_fold_glove()\n",
        "      # self.read_fasttext()\n",
        "      # self.data_per_fold_fasttext()\n",
        "\n",
        "  def read_glove(self):\n",
        "      embeddings_index = {}\n",
        "      f = open('glove.twitter.27B.200d.txt')\n",
        "      for line in f:\n",
        "          values = line.split()\n",
        "          word = values[0]\n",
        "          coefs = np.asarray(values[1:], dtype='float32')\n",
        "          embeddings_index[word] = coefs\n",
        "      f.close()\n",
        "\n",
        "      print('Found %s word vectors.' % len(embeddings_index))\n",
        "      self.glove_embeddings_index = embeddings_index\n",
        "\n",
        "  def read_fasttext(self):\n",
        "      embeddings_index = {}\n",
        "      f = codecs.open('wiki-news-300d-1M.vec', encoding='utf-8')\n",
        "      for line in f:\n",
        "          values = line.rstrip().rsplit(' ')\n",
        "          word = values[0]\n",
        "          coefs = np.asarray(values[1:], dtype='float32')\n",
        "          embeddings_index[word] = coefs\n",
        "      f.close()\n",
        "      print('found %s word vectors' % len(embeddings_index))\n",
        "      self.fasttext_embeddings_index = embeddings_index\n",
        "\n",
        "  def create_glove_embedding_matrix(self,embed_dim):\n",
        "      train = self.dfs_train\n",
        "      test = self.dfs_valid\n",
        "      x_train = train.text.values\n",
        "      y_train = train.lbl_num.values\n",
        "      x_test = test.text.values\n",
        "      y_test = test.lbl_num.values\n",
        "      word_tokenizer = Tokenizer()\n",
        "      word_tokenizer.fit_on_texts(x_train)\n",
        "      vocab_length = len(word_tokenizer.word_index) + 1\n",
        "      x_train_emb = word_tokenizer.texts_to_sequences(x_train)\n",
        "      x_test_emb = word_tokenizer.texts_to_sequences(x_test)\n",
        "      \n",
        "      word_count = lambda sentence: len(word_tokenize(sentence))\n",
        "      longest_sentence = max(np.concatenate((x_train,x_test),axis = 0), key=word_count)\n",
        "      length_long_sentence = len(word_tokenize(longest_sentence))\n",
        "      # print('length_long_sentence: '+str(length_long_sentence))\n",
        "      self.glove_wt = word_tokenizer\n",
        "      self.lls = length_long_sentence\n",
        "      x_train_padded = pad_sequences(x_train_emb, length_long_sentence, padding='post',truncating = 'post')\n",
        "      x_test_padded = pad_sequences(x_test_emb, length_long_sentence, padding='post',truncating = 'post')\n",
        "\n",
        "      # encoded_Y_tr = self.encoder.fit_transform(y_train)\n",
        "      # encoded_Y_ts = self.encoder.fit_transform(y_test)\n",
        "      dummy_y_tr = np_utils.to_categorical(y_train)\n",
        "      dummy_y_ts = np_utils.to_categorical(y_test)\n",
        "\n",
        "      embedding_matrix = np.zeros((vocab_length, embed_dim))\n",
        "      for word, index in word_tokenizer.word_index.items():\n",
        "          embedding_vector = self.glove_embeddings_index.get(word)\n",
        "          if embedding_vector is not None:\n",
        "              embedding_matrix[index] = embedding_vector\n",
        "\n",
        "      # print(x_train_padded)\n",
        "      # print(x_test_padded)\n",
        "      return ((tf.convert_to_tensor(x_train_padded,np.int32),tf.convert_to_tensor(dummy_y_tr,np.float32)),(tf.convert_to_tensor(x_test_padded,np.int32),tf.convert_to_tensor(dummy_y_ts,np.float32)),(vocab_length,embedding_matrix,embed_dim,length_long_sentence))\n",
        "\n",
        "  def create_fasttext_embedding_matrix(self,embed_dim):\n",
        "      train = self.dfs_train\n",
        "      test = self.dfs_valid\n",
        "      x_train = train.text.values\n",
        "      y_train = train.lbl_num.values\n",
        "      x_test = test.text.values\n",
        "      y_test = test.lbl_num.values\n",
        "      word_tokenizer = Tokenizer(num_words = 50000,oov_token=\"<OOV>\")\n",
        "      word_tokenizer.fit_on_texts(x_train)\n",
        "      vocab_length = len(word_tokenizer.word_index) + 1\n",
        "      x_train_emb = word_tokenizer.texts_to_sequences(x_train)\n",
        "      x_test_emb = word_tokenizer.texts_to_sequences(x_test)\n",
        "      \n",
        "      word_count = lambda sentence: len(word_tokenize(sentence))\n",
        "      longest_sentence = max(np.concatenate((x_train,x_test),axis = 0), key=word_count)\n",
        "      length_long_sentence = len(word_tokenize(longest_sentence))\n",
        "\n",
        "      self.fasttext_wt = word_tokenizer\n",
        "      self.lls = length_long_sentence\n",
        "      x_train_padded = pad_sequences(x_train_emb, length_long_sentence, padding='post',truncating = 'post')\n",
        "      x_test_padded = pad_sequences(x_test_emb, length_long_sentence, padding='post',truncating = 'post')\n",
        "\n",
        "      # encoded_Y_tr = self.encoder.fit_transform(y_train)\n",
        "      # encoded_Y_ts = self.encoder.fit_transform(y_test)\n",
        "      dummy_y_tr = np_utils.to_categorical(y_train)\n",
        "      dummy_y_ts = np_utils.to_categorical(y_test)\n",
        "      # self.df_labels = pd.DataFrame.from_dict({'y_train':y_train,'y_test':y_test,'dummy_tr':dummy_y_tr,'dummy_y_ts':dummy_y_ts})\n",
        "\n",
        "      embedding_matrix = np.zeros((vocab_length, embed_dim))\n",
        "      for word, index in word_tokenizer.word_index.items():\n",
        "          embedding_vector = self.fasttext_embeddings_index.get(word)\n",
        "          if embedding_vector is not None:\n",
        "              embedding_matrix[index] = embedding_vector\n",
        "\n",
        "      # print(x_train_padded)\n",
        "      # print(x_test_padded)\n",
        "      return ((tf.convert_to_tensor(x_train_padded,np.int32),tf.convert_to_tensor(dummy_y_tr,np.float32)),(tf.convert_to_tensor(x_test_padded,np.int32),tf.convert_to_tensor(dummy_y_ts,np.float32)),(vocab_length,embedding_matrix,embed_dim,length_long_sentence))\n",
        "\n",
        "\n",
        "  def get_glove_preprocessing_params(self):\n",
        "      return self.glove_wt,self.lls\n",
        "\n",
        "  def get_fasttext_preprocessing_params(self):\n",
        "      return self.fasttext_wt,self.lls\n",
        "\n",
        "  def get_labels_df(self):\n",
        "      return self.df_labels\n",
        "  \n",
        "  def data_per_fold_glove(self):\n",
        "      # self.data_glove = {}\n",
        "      embed_dim = 200\n",
        "      self.data_glove = self.create_glove_embedding_matrix(embed_dim)\n",
        "\n",
        "  def data_per_fold_fasttext(self):\n",
        "      # self.data_fasttext = {}\n",
        "      embed_dim = 300\n",
        "      self.data_fasttext = self.create_fasttext_embedding_matrix(embed_dim)\n",
        "\n",
        "\n",
        "  def process_glove(self):\n",
        "      models = [self.CONV1D_BiLSTM]#self.SEP_CONV1D_BiRNN,self.SEP_CONV1D_BiGRU,self.BiGRU,self.BiLSTM,self.BiRNN]\n",
        "      for mod in models:\n",
        "          name = str(mod)\n",
        "          name = name.replace('self.','')\n",
        "          m,h = self.run_training(mod)\n",
        "          self.models_glove[name] = m\n",
        "          self.history_glove[name] = h\n",
        "          # self.accuracy_glove['Test accuracy score for '+name] = acc\n",
        "\n",
        "  def process_fasttext(self):\n",
        "      models = [self.CONV1D]\n",
        "      for mod in models:\n",
        "          name = str(mod)\n",
        "          name = name.replace('self.','')\n",
        "          m,h = self.run_training(mod)\n",
        "          self.models_fasttext[name] = m\n",
        "          self.history_fasttext[name] = h\n",
        "          # self.accuracy_glove['Test accuracy score for '+name] = acc\n",
        "    \n",
        "  def get_models_glove(self):\n",
        "    return self.models_glove\n",
        "\n",
        "  def get_history_glove(self):\n",
        "    return self.history_glove\n",
        "\n",
        "  def get_models_fasttext(self):\n",
        "    return self.models_fasttext\n",
        "\n",
        "  def get_history_fasttext(self):\n",
        "    return self.history_fasttext\n",
        "\n",
        "\n",
        "  def run_training(self,model):\n",
        "      mod = []\n",
        "      his = []\n",
        "      x,h= model()\n",
        "      mod.append(x)\n",
        "      his.append(h)\n",
        "    \n",
        "      \n",
        "      return mod,his\n",
        "\n",
        "  def SEP_CONV1D(self):\n",
        "      data = self.data_fasttext\n",
        "      x_tr,y_tr = data[0]\n",
        "      x_ts,y_ts = data[1]\n",
        "      vl,mat,dim,len_sen = data[2]\n",
        "      \n",
        "      with strategy.scope():\n",
        "          model = tf.keras.models.Sequential([\n",
        "              tf.keras.layers.Embedding(vl,dim,weights=[mat],input_length=len_sen,trainable=False,name=\"GL_100_SEP_CONV1D_embedding\"),\n",
        "              # tf.keras.layers.Embedding(vl,dim,weights=[mat],input_length=len_sen,trainable=False,name=\"GL_200_SEP_CONV1D_embedding\"),\n",
        "              # tf.keras.layers.Embedding(vl,dim,weights=[mat],input_length=len_sen,trainable=False,name=\"FT_300_SEP_CONV1D_embedding\"),\n",
        "              tf.keras.layers.SeparableConv1D(32,3,activation='relu'),\n",
        "              tf.keras.layers.MaxPool1D(),\n",
        "              tf.keras.layers.SeparableConv1D(32,3,activation='relu'),\n",
        "              tf.keras.layers.MaxPool1D(),\n",
        "              tf.keras.layers.SeparableConv1D(32,3,activation='relu'),\n",
        "              tf.keras.layers.MaxPool1D(),\n",
        "              tf.keras.layers.Dropout(0.5),\n",
        "              tf.keras.layers.Flatten(),\n",
        "              tf.keras.layers.Dense(512, activation='sigmoid'),\n",
        "              tf.keras.layers.Dense(256, activation='sigmoid'),\n",
        "              tf.keras.layers.Dense(128, activation='sigmoid'),\n",
        "              tf.keras.layers.Dense(64, activation='sigmoid'),\n",
        "              tf.keras.layers.Dense(5, activation='softmax')])\n",
        "\n",
        "          model.compile(loss='categorical_crossentropy',\n",
        "          optimizer=tf.keras.optimizers.Adam(),\n",
        "          metrics=['accuracy'])\n",
        "      x = model.to_json()\n",
        "      print(\"\\n SEPERABLE CONV1D \\n\")\n",
        "      model.summary()\n",
        "      his = model.fit(x = x_tr,y=y_tr,validation_data=(x_ts,y_ts),epochs=100,callbacks=[EarlyStopping()])\n",
        "      # y_pred = model.predict(x_ts)\n",
        "      return x,his\n",
        "\n",
        "\n",
        "\n",
        "\n",
        "\n",
        "  def CONV1D(self):\n",
        "      data = self.data_glove\n",
        "      x_tr,y_tr = data[0]\n",
        "      x_ts,y_ts = data[1]\n",
        "      vl,mat,dim,len_sen = data[2]\n",
        "      \n",
        "      with strategy.scope():\n",
        "          model = tf.keras.models.Sequential([\n",
        "              tf.keras.layers.Embedding(vl,dim,weights=[mat],input_length=len_sen,trainable=False,name=\"GL_100_CONV1D_embedding\"),\n",
        "              # tf.keras.layers.Embedding(vl,dim,weights=[mat],input_length=len_sen,trainable=False,name=\"GL_200_CONV1D_embedding\"),\n",
        "              # tf.keras.layers.Embedding(vl,dim,weights=[mat],input_length=len_sen,trainable=False,name=\"FT_300_CONV1D_embedding\"),\n",
        "              tf.keras.layers.Conv1D(32,3,activation='relu'),\n",
        "              tf.keras.layers.MaxPool1D(),\n",
        "              tf.keras.layers.Conv1D(32,3,activation='relu'),\n",
        "              tf.keras.layers.MaxPool1D(),\n",
        "              tf.keras.layers.Conv1D(32,3,activation='relu'),\n",
        "              tf.keras.layers.MaxPool1D(),\n",
        "              tf.keras.layers.Dropout(0.5),\n",
        "              tf.keras.layers.Flatten(),\n",
        "              tf.keras.layers.Dense(512, activation='sigmoid'),\n",
        "              tf.keras.layers.Dense(256, activation='sigmoid'),\n",
        "              tf.keras.layers.Dense(128, activation='sigmoid'),\n",
        "              tf.keras.layers.Dense(64, activation='sigmoid'),\n",
        "              tf.keras.layers.Dense(5, activation='softmax')])\n",
        "\n",
        "          model.compile(loss='categorical_crossentropy',\n",
        "          optimizer=tf.keras.optimizers.Adam(),\n",
        "          metrics=['accuracy'])\n",
        "      x = model.to_json()\n",
        "      print(\"\\n CONV1D \\n\")\n",
        "      model.summary()\n",
        "      his = model.fit(x = x_tr,y=y_tr,validation_data=(x_ts,y_ts),epochs=100,callbacks=[EarlyStopping()])\n",
        "      # y_pred = model.predict(x_ts)\n",
        "      return model,his#,accuracy_score(y_ts,y_pred)\n",
        "\n",
        "  def BiLSTM(self):\n",
        "      data = self.data_glove\n",
        "      x_tr,y_tr = data[0]\n",
        "      x_ts,y_ts = data[1]\n",
        "      vl,mat,dim,len_sen = data[2]\n",
        "      \n",
        "      with strategy.scope():\n",
        "          model = tf.keras.models.Sequential([\n",
        "              tf.keras.layers.Embedding(vl,dim,weights=[mat],input_length=len_sen,trainable=False,name=\"GL_100_BiLSTM_embedding\"),\n",
        "              # tf.keras.layers.Embedding(vl,dim,weights=[mat],input_length=len_sen,trainable=False,name=\"GL_200_BiLSTM_embedding\"),\n",
        "              # tf.keras.layers.Embedding(vl,dim,weights=[mat],input_length=len_sen,trainable=False,name=\"FT_300_BiLSTM_embedding\"),\n",
        "              # tf.keras.layers.SeparableConv1D(32,3,activation='relu'),\n",
        "              # tf.keras.layers.MaxPool1D(),\n",
        "              # tf.keras.layers.SeparableConv1D(32,3,activation='relu'),\n",
        "              # tf.keras.layers.MaxPool1D(),\n",
        "              # tf.keras.layers.SeparableConv1D(32,3,activation='relu'),\n",
        "              # tf.keras.layers.MaxPool1D(),\n",
        "              # tf.keras.layers.Dropout(0.5),\n",
        "              tf.keras.layers.Bidirectional(tf.keras.layers.LSTM(16,return_sequences=True, dropout=0.2, recurrent_dropout=0.3)),\n",
        "              tf.keras.layers.Flatten(),\n",
        "              tf.keras.layers.Dense(512, activation='sigmoid'),\n",
        "              tf.keras.layers.Dense(256, activation='sigmoid'),\n",
        "              tf.keras.layers.Dense(128, activation='sigmoid'),\n",
        "              tf.keras.layers.Dense(64, activation='sigmoid'),\n",
        "              # tf.keras.layers.Dense(5, activation='softmax')\n",
        "              tf.keras.layers.Dense(2, activation='softmax')])\n",
        "\n",
        "          model.compile(loss='categorical_crossentropy',\n",
        "          optimizer=tf.keras.optimizers.Adam(),\n",
        "          metrics=['accuracy'])\n",
        "      x = model.to_json()\n",
        "      print(\"\\n BiLSTM \\n\")\n",
        "      model.summary()\n",
        "      his = model.fit(x = x_tr,y=y_tr,validation_data=(x_ts,y_ts),epochs=100,callbacks=[EarlyStopping()])\n",
        "      # y_pred = model.predict(x_ts)\n",
        "      return model,his#,accuracy_score(y_ts,y_pred)\n",
        "\n",
        "  def SEP_CONV1D_BiLSTM(self):\n",
        "      data = self.data_fasttext\n",
        "      x_tr,y_tr = data[0]\n",
        "      x_ts,y_ts = data[1]\n",
        "      vl,mat,dim,len_sen = data[2]\n",
        "      \n",
        "      with strategy.scope():\n",
        "          model = tf.keras.models.Sequential([\n",
        "              tf.keras.layers.Embedding(vl,dim,weights=[mat],input_length=len_sen,trainable=False,name=\"GL_100_SEP_CONV1D_BiLSTM_embedding\"),\n",
        "              # tf.keras.layers.Embedding(vl,dim,weights=[mat],input_length=len_sen,trainable=False,name=\"GL_200_SEP_CONV1D_BiLSTM_embedding\"),\n",
        "              # tf.keras.layers.Embedding(vl,dim,weights=[mat],input_length=len_sen,trainable=False,name=\"FT_300_SEP_CONV1D_BiLSTM_embedding\"),\n",
        "              tf.keras.layers.SeparableConv1D(32,3,activation='relu'),\n",
        "              tf.keras.layers.MaxPool1D(),\n",
        "              tf.keras.layers.SeparableConv1D(32,3,activation='relu'),\n",
        "              tf.keras.layers.MaxPool1D(),\n",
        "              tf.keras.layers.SeparableConv1D(32,3,activation='relu'),\n",
        "              tf.keras.layers.MaxPool1D(),\n",
        "              # tf.keras.layers.Dropout(0.5),\n",
        "              tf.keras.layers.Bidirectional(tf.keras.layers.LSTM(16,return_sequences=True, dropout=0.2, recurrent_dropout=0.3)),\n",
        "              tf.keras.layers.Flatten(),\n",
        "              tf.keras.layers.Dense(512, activation='sigmoid'),\n",
        "              tf.keras.layers.Dense(256, activation='sigmoid'),\n",
        "              tf.keras.layers.Dense(128, activation='sigmoid'),\n",
        "              tf.keras.layers.Dense(64, activation='sigmoid'),\n",
        "              tf.keras.layers.Dense(5, activation='softmax')])\n",
        "\n",
        "          model.compile(loss='categorical_crossentropy',\n",
        "          optimizer=tf.keras.optimizers.Adam(),\n",
        "          metrics=['accuracy'])\n",
        "      x = model.to_json()\n",
        "      print(\"\\n SEPARABLE CONV1D BiLSTM \\n\")\n",
        "      model.summary()\n",
        "      his = model.fit(x = x_tr,y=y_tr,validation_data=(x_ts,y_ts),epochs=100,callbacks=[EarlyStopping()])\n",
        "      # y_pred = model.predict(x_ts)\n",
        "      return x,his #,accuracy_score(y_ts,y_pred)\n",
        "\n",
        "\n",
        "  def CONV1D_BiLSTM(self):\n",
        "      data = self.data_glove\n",
        "      x_tr,y_tr = data[0]\n",
        "      x_ts,y_ts = data[1]\n",
        "      vl,mat,dim,len_sen = data[2]\n",
        "      \n",
        "      with strategy.scope():\n",
        "          model = tf.keras.models.Sequential([\n",
        "              # tf.keras.layers.Embedding(vl,dim,weights=[mat],input_length=len_sen,trainable=False,name=\"GL_100_CONV1D_BiLSTM_embedding\"),\n",
        "              tf.keras.layers.Embedding(vl,dim,weights=[mat],input_length=len_sen,trainable=False,name=\"GL_200_CONV1D_BiLSTM_embedding\"),\n",
        "              # tf.keras.layers.Embedding(vl,dim,weights=[mat],input_length=len_sen,trainable=False,name=\"FT_300_CONV1D_BiLSTM_embedding\"),\n",
        "              tf.keras.layers.Conv1D(32,3,activation='relu'),\n",
        "              tf.keras.layers.MaxPool1D(),\n",
        "              tf.keras.layers.Conv1D(32,3,activation='relu'),\n",
        "              tf.keras.layers.MaxPool1D(),\n",
        "              tf.keras.layers.Conv1D(32,3,activation='relu'),\n",
        "              tf.keras.layers.MaxPool1D(),\n",
        "              # tf.keras.layers.Dropout(0.5),\n",
        "              tf.keras.layers.Bidirectional(tf.keras.layers.LSTM(16,return_sequences=True, dropout=0.2, recurrent_dropout=0.3)),\n",
        "              tf.keras.layers.Flatten(),\n",
        "              tf.keras.layers.Dense(512, activation='sigmoid'),\n",
        "              tf.keras.layers.Dense(256, activation='sigmoid'),\n",
        "              tf.keras.layers.Dense(128, activation='sigmoid'),\n",
        "              tf.keras.layers.Dense(64, activation='sigmoid'),\n",
        "              tf.keras.layers.Dense(5, activation='softmax')])\n",
        "\n",
        "          model.compile(loss='categorical_crossentropy',\n",
        "          optimizer=tf.keras.optimizers.Adam(),\n",
        "          metrics=['accuracy'])\n",
        "      x = model.to_json()\n",
        "      print(\"\\n CONV1D BiLSTM \\n\")\n",
        "      model.summary()\n",
        "      his = model.fit(x = x_tr,y=y_tr,validation_data=(x_ts,y_ts),epochs=100,callbacks=[EarlyStopping()])\n",
        "      # y_pred = model.predict(x_ts)\n",
        "      return model,his #,accuracy_score(y_ts,y_pred)\n",
        "\n",
        "\n",
        "  def BiRNN(self):\n",
        "      data = self.data_fasttext\n",
        "      x_tr,y_tr = data[0]\n",
        "      x_ts,y_ts = data[1]\n",
        "      vl,mat,dim,len_sen = data[2]\n",
        "      \n",
        "      with strategy.scope():\n",
        "          model = tf.keras.models.Sequential([\n",
        "              tf.keras.layers.Embedding(vl,dim,weights=[mat],input_length=len_sen,trainable=False,name=\"GL_100_BiRNN_embedding\"),\n",
        "              # tf.keras.layers.Embedding(vl,dim,weights=[mat],input_length=len_sen,trainable=False,name=\"GL_200_BiRNN_embedding\"),\n",
        "              # tf.keras.layers.Embedding(vl,dim,weights=[mat],input_length=len_sen,trainable=False,name=\"FT_300_BiRNN_embedding\"),\n",
        "              # tf.keras.layers.SeparableConv1D(32,3,activation='relu'),\n",
        "              # tf.keras.layers.MaxPool1D(),\n",
        "              # tf.keras.layers.SeparableConv1D(32,3,activation='relu'),\n",
        "              # tf.keras.layers.MaxPool1D(),\n",
        "              # tf.keras.layers.SeparableConv1D(32,3,activation='relu'),\n",
        "              # tf.keras.layers.MaxPool1D(),\n",
        "              # tf.keras.layers.Dropout(0.5),\n",
        "              tf.keras.layers.Bidirectional(tf.keras.layers.SimpleRNN(16,return_sequences=True, dropout=0.2, recurrent_dropout=0.3)),\n",
        "              tf.keras.layers.Flatten(),\n",
        "              tf.keras.layers.Dense(512, activation='sigmoid'),\n",
        "              tf.keras.layers.Dense(256, activation='sigmoid'),\n",
        "              tf.keras.layers.Dense(128, activation='sigmoid'),\n",
        "              tf.keras.layers.Dense(64, activation='sigmoid'),\n",
        "              tf.keras.layers.Dense(5, activation='softmax')])\n",
        "\n",
        "          model.compile(loss='categorical_crossentropy',\n",
        "          optimizer=tf.keras.optimizers.Adam(),\n",
        "          metrics=['accuracy'])\n",
        "      x = model.to_json()\n",
        "      print(\"\\n BiRNN \\n\")\n",
        "      model.summary()\n",
        "      his = model.fit(x = x_tr,y=y_tr,validation_data=(x_ts,y_ts),epochs=100,callbacks=[EarlyStopping()])\n",
        "      # y_pred = model.predict(x_ts)\n",
        "      return x,his #,accuracy_score(y_ts,y_pred)\n",
        "\n",
        "  def SEP_CONV1D_BiRNN(self):\n",
        "      data = self.data_fasttext\n",
        "      x_tr,y_tr = data[0]\n",
        "      x_ts,y_ts = data[1]\n",
        "      vl,mat,dim,len_sen = data[2]\n",
        "      \n",
        "      with strategy.scope():\n",
        "          model = tf.keras.models.Sequential([\n",
        "              tf.keras.layers.Embedding(vl,dim,weights=[mat],input_length=len_sen,trainable=False,name=\"GL_100_SEP_CONV1D_BiRNN_embedding\"),\n",
        "              # tf.keras.layers.Embedding(vl,dim,weights=[mat],input_length=len_sen,trainable=False,name=\"GL_200_SEP_CONV1D_BiRNN_embedding\"),\n",
        "              # tf.keras.layers.Embedding(vl,dim,weights=[mat],input_length=len_sen,trainable=False,name=\"FT_300_SEP_CONV1D_BiRNN_embedding\"),\n",
        "              tf.keras.layers.SeparableConv1D(32,3,activation='relu'),\n",
        "              tf.keras.layers.MaxPool1D(),\n",
        "              tf.keras.layers.SeparableConv1D(32,3,activation='relu'),\n",
        "              tf.keras.layers.MaxPool1D(),\n",
        "              tf.keras.layers.SeparableConv1D(32,3,activation='relu'),\n",
        "              tf.keras.layers.MaxPool1D(),\n",
        "              # tf.keras.layers.Dropout(0.5),\n",
        "              tf.keras.layers.Bidirectional(tf.keras.layers.SimpleRNN(16,return_sequences=True, dropout=0.2, recurrent_dropout=0.3)),\n",
        "              tf.keras.layers.Flatten(),\n",
        "              tf.keras.layers.Dense(512, activation='sigmoid'),\n",
        "              tf.keras.layers.Dense(256, activation='sigmoid'),\n",
        "              tf.keras.layers.Dense(128, activation='sigmoid'),\n",
        "              tf.keras.layers.Dense(64, activation='sigmoid'),\n",
        "              tf.keras.layers.Dense(5, activation='softmax')])\n",
        "\n",
        "          model.compile(loss='categorical_crossentropy',\n",
        "          optimizer=tf.keras.optimizers.Adam(),\n",
        "          metrics=['accuracy'])\n",
        "      x = model.to_json()\n",
        "      print(\"\\n SEPARABLE CONV1D BiRNN \\n\")\n",
        "      model.summary()\n",
        "      his = model.fit(x = x_tr,y=y_tr,validation_data=(x_ts,y_ts),epochs=100,callbacks=[EarlyStopping()])\n",
        "      # y_pred = model.predict(x_ts)\n",
        "      return model,his #,accuracy_score(y_ts,y_pred)\n",
        "\n",
        "  \n",
        "  def CONV1D_BiRNN(self):\n",
        "      data = self.data_fasttext\n",
        "      x_tr,y_tr = data[0]\n",
        "      x_ts,y_ts = data[1]\n",
        "      vl,mat,dim,len_sen = data[2]\n",
        "      \n",
        "      with strategy.scope():\n",
        "          model = tf.keras.models.Sequential([\n",
        "              tf.keras.layers.Embedding(vl,dim,weights=[mat],input_length=len_sen,trainable=False,name=\"GL_100_CONV1D_BiRNN_embedding\"),\n",
        "              # tf.keras.layers.Embedding(vl,dim,weights=[mat],input_length=len_sen,trainable=False,name=\"GL_200_CONV1D_BiRNN_embedding\"),\n",
        "              # tf.keras.layers.Embedding(vl,dim,weights=[mat],input_length=len_sen,trainable=False,name=\"FT_300_CONV1D_BiRNN_embedding\"),\n",
        "              tf.keras.layers.Conv1D(32,3,activation='relu'),\n",
        "              tf.keras.layers.MaxPool1D(),\n",
        "              tf.keras.layers.Conv1D(32,3,activation='relu'),\n",
        "              tf.keras.layers.MaxPool1D(),\n",
        "              tf.keras.layers.Conv1D(32,3,activation='relu'),\n",
        "              tf.keras.layers.MaxPool1D(),\n",
        "              # tf.keras.layers.Dropout(0.5),\n",
        "              tf.keras.layers.Bidirectional(tf.keras.layers.SimpleRNN(16,return_sequences=True, dropout=0.2, recurrent_dropout=0.3)),\n",
        "              tf.keras.layers.Flatten(),\n",
        "              tf.keras.layers.Dense(512, activation='sigmoid'),\n",
        "              tf.keras.layers.Dense(256, activation='sigmoid'),\n",
        "              tf.keras.layers.Dense(128, activation='sigmoid'),\n",
        "              tf.keras.layers.Dense(64, activation='sigmoid'),\n",
        "              tf.keras.layers.Dense(5, activation='softmax')])\n",
        "\n",
        "          model.compile(loss='categorical_crossentropy',\n",
        "          optimizer=tf.keras.optimizers.Adam(),\n",
        "          metrics=['accuracy'])\n",
        "      x = model.to_json()\n",
        "      print(\"\\n CONV1D BiRNN \\n\")\n",
        "      model.summary()\n",
        "      his = model.fit(x = x_tr,y=y_tr,validation_data=(x_ts,y_ts),epochs=100,callbacks=[EarlyStopping()])\n",
        "      # y_pred = model.predict(x_ts)\n",
        "      return x,his #,accuracy_score(y_ts,y_pred)\n",
        "\n",
        "  def BiGRU(self):\n",
        "      data = self.data_fasttext\n",
        "      x_tr,y_tr = data[0]\n",
        "      x_ts,y_ts = data[1]\n",
        "      vl,mat,dim,len_sen = data[2]\n",
        "      \n",
        "      with strategy.scope():\n",
        "          model = tf.keras.models.Sequential([\n",
        "              tf.keras.layers.Embedding(vl,dim,weights=[mat],input_length=len_sen,trainable=False,name=\"GL_100_BiGRU_embedding\"),\n",
        "              # tf.keras.layers.Embedding(vl,dim,weights=[mat],input_length=len_sen,trainable=False,name=\"GL_200_BiGRU_embedding\"),\n",
        "              # tf.keras.layers.Embedding(vl,dim,weights=[mat],input_length=len_sen,trainable=False,name=\"FT_300_BiGRU_embedding\"),\n",
        "              # tf.keras.layers.SeparableConv1D(32,3,activation='relu'),\n",
        "              # tf.keras.layers.MaxPool1D(),\n",
        "              # tf.keras.layers.SeparableConv1D(32,3,activation='relu'),\n",
        "              # tf.keras.layers.MaxPool1D(),\n",
        "              # tf.keras.layers.SeparableConv1D(32,3,activation='relu'),\n",
        "              # tf.keras.layers.MaxPool1D(),\n",
        "              # tf.keras.layers.Dropout(0.5),\n",
        "              tf.keras.layers.Bidirectional(tf.keras.layers.GRU(16,return_sequences=True, dropout=0.2, recurrent_dropout=0.3)),\n",
        "              tf.keras.layers.Flatten(),\n",
        "              tf.keras.layers.Dense(512, activation='sigmoid'),\n",
        "              tf.keras.layers.Dense(256, activation='sigmoid'),\n",
        "              tf.keras.layers.Dense(128, activation='sigmoid'),\n",
        "              tf.keras.layers.Dense(64, activation='sigmoid'),\n",
        "              tf.keras.layers.Dense(5, activation='softmax')])\n",
        "\n",
        "          model.compile(loss='categorical_crossentropy',\n",
        "          optimizer=tf.keras.optimizers.Adam(),\n",
        "          metrics=['accuracy'])\n",
        "      x = model.to_json()\n",
        "      print(\"\\n BiGRU \\n\")\n",
        "      model.summary()\n",
        "      his = model.fit(x = x_tr,y=y_tr,validation_data=(x_ts,y_ts),epochs=100,callbacks=[EarlyStopping()])\n",
        "      # y_pred = model.predict(x_ts)\n",
        "      return x,his #,accuracy_score(y_ts,y_pred)\n",
        "      \n",
        "  def CONV1D_BiGRU(self):\n",
        "      data = self.data_glove\n",
        "      x_tr,y_tr = data[0]\n",
        "      x_ts,y_ts = data[1]\n",
        "      vl,mat,dim,len_sen = data[2]\n",
        "      \n",
        "      with strategy.scope():\n",
        "          model = tf.keras.models.Sequential([\n",
        "              tf.keras.layers.Embedding(vl,dim,weights=[mat],input_length=len_sen,trainable=False,name=\"GL_100_CONV1D_BiGRU_embedding\"),\n",
        "              # tf.keras.layers.Embedding(vl,dim,weights=[mat],input_length=len_sen,trainable=False,name=\"GL_200_CONV1D_BiGRU_embedding\"),\n",
        "              # tf.keras.layers.Embedding(vl,dim,weights=[mat],input_length=len_sen,trainable=False,name=\"FT_300_CONV1D_BiGRU_embedding\"),\n",
        "              tf.keras.layers.Conv1D(32,3,activation='relu'),\n",
        "              tf.keras.layers.MaxPool1D(),\n",
        "              tf.keras.layers.Conv1D(32,3,activation='relu'),\n",
        "              tf.keras.layers.MaxPool1D(),\n",
        "              tf.keras.layers.Conv1D(32,3,activation='relu'),\n",
        "              tf.keras.layers.MaxPool1D(),\n",
        "              # tf.keras.layers.Dropout(0.5),\n",
        "              tf.keras.layers.Bidirectional(tf.keras.layers.GRU(16,return_sequences=True, dropout=0.2, recurrent_dropout=0.3)),\n",
        "              tf.keras.layers.Flatten(),\n",
        "              tf.keras.layers.Dense(512, activation='sigmoid'),\n",
        "              tf.keras.layers.Dense(256, activation='sigmoid'),\n",
        "              tf.keras.layers.Dense(128, activation='sigmoid'),\n",
        "              tf.keras.layers.Dense(64, activation='sigmoid'),\n",
        "              tf.keras.layers.Dense(2, activation='softmax')])\n",
        "\n",
        "          model.compile(loss='categorical_crossentropy',\n",
        "          optimizer=tf.keras.optimizers.Adam(),\n",
        "          metrics=['accuracy'])\n",
        "      x = model.to_json()\n",
        "      print(\"\\n CONV1D BiGRU \\n\")\n",
        "      model.summary()\n",
        "      his = model.fit(x = x_tr,y=y_tr,validation_data=(x_ts,y_ts),epochs=100,callbacks=[EarlyStopping()])\n",
        "      # y_pred = model.predict(x_ts)\n",
        "      return model,his #,accuracy_score(y_ts,y_pred)\n",
        "      \n",
        "  def SEP_CONV1D_BiGRU(self):\n",
        "      data = self.data_fasttext\n",
        "      x_tr,y_tr = data[0]\n",
        "      x_ts,y_ts = data[1]\n",
        "      vl,mat,dim,len_sen = data[2]\n",
        "      \n",
        "      with strategy.scope():\n",
        "          model = tf.keras.models.Sequential([\n",
        "              tf.keras.layers.Embedding(vl,dim,weights=[mat],input_length=len_sen,trainable=False,name=\"GL_100_SEP_CONV1D_BiGRU_embedding\"),\n",
        "              # tf.keras.layers.Embedding(vl,dim,weights=[mat],input_length=len_sen,trainable=False,name=\"GL_200_SEP_CONV1D_BiGRU_embedding\"),\n",
        "              # tf.keras.layers.Embedding(vl,dim,weights=[mat],input_length=len_sen,trainable=False,name=\"FT_300_SEP_CONV1D_BiGRU_embedding\"),\n",
        "              tf.keras.layers.SeparableConv1D(32,3,activation='relu'),\n",
        "              tf.keras.layers.MaxPool1D(),\n",
        "              tf.keras.layers.SeparableConv1D(32,3,activation='relu'),\n",
        "              tf.keras.layers.MaxPool1D(),\n",
        "              tf.keras.layers.SeparableConv1D(32,3,activation='relu'),\n",
        "              tf.keras.layers.MaxPool1D(),\n",
        "              # tf.keras.layers.Dropout(0.5),\n",
        "              tf.keras.layers.Bidirectional(tf.keras.layers.GRU(16,return_sequences=True, dropout=0.2, recurrent_dropout=0.3)),\n",
        "              tf.keras.layers.Flatten(),\n",
        "              tf.keras.layers.Dense(512, activation='sigmoid'),\n",
        "              tf.keras.layers.Dense(256, activation='sigmoid'),\n",
        "              tf.keras.layers.Dense(128, activation='sigmoid'),\n",
        "              tf.keras.layers.Dense(64, activation='sigmoid'),\n",
        "              tf.keras.layers.Dense(5, activation='softmax')])\n",
        "\n",
        "          model.compile(loss='categorical_crossentropy',\n",
        "          optimizer=tf.keras.optimizers.Adam(),\n",
        "          metrics=['accuracy'])\n",
        "      x = model.to_json()\n",
        "      print(\"\\n SEPARABLE CONV1D BiGRU \\n\")\n",
        "      model.summary()\n",
        "      his = model.fit(x = x_tr,y=y_tr,validation_data=(x_ts,y_ts),epochs=100,callbacks=[EarlyStopping()])\n",
        "      # y_pred = model.predict(x_ts)\n",
        "      return x,his #,accuracy_score(y_ts,y_pred)"
      ],
      "execution_count": null,
      "outputs": []
    },
    {
      "cell_type": "code",
      "metadata": {
        "colab": {
          "base_uri": "https://localhost:8080/"
        },
        "id": "zinI_16Gzvr8",
        "outputId": "658154c3-40f9-4e0a-9786-2b27dbd4bd94"
      },
      "source": [
        "wem = word_emb_model('/content/drive/MyDrive/sentiment data/tr_sen_fin.csv')\n",
        "# wem = word_emb_model('/content/drive/MyDrive/sarcasm data/train_sarc_final_with_folds.csv')"
      ],
      "execution_count": null,
      "outputs": [
        {
          "output_type": "stream",
          "text": [
            "Found 1193514 word vectors.\n"
          ],
          "name": "stdout"
        }
      ]
    },
    {
      "cell_type": "code",
      "metadata": {
        "colab": {
          "base_uri": "https://localhost:8080/",
          "height": 406
        },
        "id": "jfpFwhc9x-KK",
        "outputId": "688677f3-06a9-4291-e2d9-157a4d76afc6"
      },
      "source": [
        ""
      ],
      "execution_count": null,
      "outputs": [
        {
          "output_type": "execute_result",
          "data": {
            "text/html": [
              "<div>\n",
              "<style scoped>\n",
              "    .dataframe tbody tr th:only-of-type {\n",
              "        vertical-align: middle;\n",
              "    }\n",
              "\n",
              "    .dataframe tbody tr th {\n",
              "        vertical-align: top;\n",
              "    }\n",
              "\n",
              "    .dataframe thead th {\n",
              "        text-align: right;\n",
              "    }\n",
              "</style>\n",
              "<table border=\"1\" class=\"dataframe\">\n",
              "  <thead>\n",
              "    <tr style=\"text-align: right;\">\n",
              "      <th></th>\n",
              "      <th>u_id</th>\n",
              "      <th>text</th>\n",
              "      <th>label</th>\n",
              "      <th>kfold</th>\n",
              "      <th>lbl_num</th>\n",
              "    </tr>\n",
              "  </thead>\n",
              "  <tbody>\n",
              "    <tr>\n",
              "      <th>0</th>\n",
              "      <td>30c09bb7414411eefe6dee09a33bdf15ae380d0a00e15a...</td>\n",
              "      <td>spent weekend being plagued by hayfever my sid...</td>\n",
              "      <td>sarcasm</td>\n",
              "      <td>0.0</td>\n",
              "      <td>1</td>\n",
              "    </tr>\n",
              "    <tr>\n",
              "      <th>1</th>\n",
              "      <td>44f44cc82c659219433181641314753aecff83a5e842ae...</td>\n",
              "      <td>oh no i had strep five times in a row once med...</td>\n",
              "      <td>sarcasm</td>\n",
              "      <td>0.0</td>\n",
              "      <td>1</td>\n",
              "    </tr>\n",
              "    <tr>\n",
              "      <th>2</th>\n",
              "      <td>6474df6d3bbbc4c5c61ef273dd2c7bd345c5ef12422697...</td>\n",
              "      <td>i wish we had something amazing to do for spri...</td>\n",
              "      <td>sarcasm</td>\n",
              "      <td>0.0</td>\n",
              "      <td>1</td>\n",
              "    </tr>\n",
              "    <tr>\n",
              "      <th>3</th>\n",
              "      <td>11903b6d411ab0790f7d82598ab6b4419c545628414a4d...</td>\n",
              "      <td>sometimes i just wished breakfast would cook i...</td>\n",
              "      <td>sarcasm</td>\n",
              "      <td>0.0</td>\n",
              "      <td>1</td>\n",
              "    </tr>\n",
              "    <tr>\n",
              "      <th>4</th>\n",
              "      <td>5afc61ff8dba0dd2066ef12716c075e1d6fec4ea8e1155...</td>\n",
              "      <td>recovering from my crazy family i love them bu...</td>\n",
              "      <td>sarcasm</td>\n",
              "      <td>0.0</td>\n",
              "      <td>1</td>\n",
              "    </tr>\n",
              "    <tr>\n",
              "      <th>...</th>\n",
              "      <td>...</td>\n",
              "      <td>...</td>\n",
              "      <td>...</td>\n",
              "      <td>...</td>\n",
              "      <td>...</td>\n",
              "    </tr>\n",
              "    <tr>\n",
              "      <th>293995</th>\n",
              "      <td>ffbffcc7e1e638709d88851edf89027a6521da93d8108e...</td>\n",
              "      <td>the ball does not touch the ground over the tr...</td>\n",
              "      <td>normal</td>\n",
              "      <td>4.0</td>\n",
              "      <td>0</td>\n",
              "    </tr>\n",
              "    <tr>\n",
              "      <th>293996</th>\n",
              "      <td>3361180b3bc4ef682f12371a79a4681df6b19257324f9f...</td>\n",
              "      <td>twitter seems empty today</td>\n",
              "      <td>normal</td>\n",
              "      <td>4.0</td>\n",
              "      <td>0</td>\n",
              "    </tr>\n",
              "    <tr>\n",
              "      <th>293997</th>\n",
              "      <td>90b2b11a0218559513d973697aeab27cb92fb5e83081fc...</td>\n",
              "      <td>that is evil</td>\n",
              "      <td>normal</td>\n",
              "      <td>4.0</td>\n",
              "      <td>0</td>\n",
              "    </tr>\n",
              "    <tr>\n",
              "      <th>293998</th>\n",
              "      <td>d50afb07f428fb519a1c85a1d84acc5f269360b1b7555a...</td>\n",
              "      <td>i love chasing pavements on my ipod too actual...</td>\n",
              "      <td>normal</td>\n",
              "      <td>4.0</td>\n",
              "      <td>0</td>\n",
              "    </tr>\n",
              "    <tr>\n",
              "      <th>293999</th>\n",
              "      <td>62eecfd1f6c7e74480a27b07ddd25fe7d0ac83de427aa3...</td>\n",
              "      <td>grrr are you saying that steve mcqueen never m...</td>\n",
              "      <td>normal</td>\n",
              "      <td>4.0</td>\n",
              "      <td>0</td>\n",
              "    </tr>\n",
              "  </tbody>\n",
              "</table>\n",
              "<p>294000 rows × 5 columns</p>\n",
              "</div>"
            ],
            "text/plain": [
              "                                                     u_id  ... lbl_num\n",
              "0       30c09bb7414411eefe6dee09a33bdf15ae380d0a00e15a...  ...       1\n",
              "1       44f44cc82c659219433181641314753aecff83a5e842ae...  ...       1\n",
              "2       6474df6d3bbbc4c5c61ef273dd2c7bd345c5ef12422697...  ...       1\n",
              "3       11903b6d411ab0790f7d82598ab6b4419c545628414a4d...  ...       1\n",
              "4       5afc61ff8dba0dd2066ef12716c075e1d6fec4ea8e1155...  ...       1\n",
              "...                                                   ...  ...     ...\n",
              "293995  ffbffcc7e1e638709d88851edf89027a6521da93d8108e...  ...       0\n",
              "293996  3361180b3bc4ef682f12371a79a4681df6b19257324f9f...  ...       0\n",
              "293997  90b2b11a0218559513d973697aeab27cb92fb5e83081fc...  ...       0\n",
              "293998  d50afb07f428fb519a1c85a1d84acc5f269360b1b7555a...  ...       0\n",
              "293999  62eecfd1f6c7e74480a27b07ddd25fe7d0ac83de427aa3...  ...       0\n",
              "\n",
              "[294000 rows x 5 columns]"
            ]
          },
          "metadata": {
            "tags": []
          },
          "execution_count": 32
        }
      ]
    },
    {
      "cell_type": "code",
      "metadata": {
        "id": "6Ry8SeghqqPj"
      },
      "source": [
        "ft_prep_params = wem.get_fasttext_preprocessing_params()"
      ],
      "execution_count": null,
      "outputs": []
    },
    {
      "cell_type": "code",
      "metadata": {
        "colab": {
          "base_uri": "https://localhost:8080/"
        },
        "id": "dA3hB6ui0Baa",
        "outputId": "11772cf3-9a83-4c31-96de-cba584167149"
      },
      "source": [
        "wem.process_glove()"
      ],
      "execution_count": null,
      "outputs": [
        {
          "output_type": "stream",
          "text": [
            "\n",
            " CONV1D BiLSTM \n",
            "\n",
            "Model: \"sequential_5\"\n",
            "_________________________________________________________________\n",
            "Layer (type)                 Output Shape              Param #   \n",
            "=================================================================\n",
            "GL_200_CONV1D_BiLSTM_embeddi (None, 163, 200)          27423200  \n",
            "_________________________________________________________________\n",
            "conv1d_15 (Conv1D)           (None, 161, 32)           19232     \n",
            "_________________________________________________________________\n",
            "max_pooling1d_15 (MaxPooling (None, 80, 32)            0         \n",
            "_________________________________________________________________\n",
            "conv1d_16 (Conv1D)           (None, 78, 32)            3104      \n",
            "_________________________________________________________________\n",
            "max_pooling1d_16 (MaxPooling (None, 39, 32)            0         \n",
            "_________________________________________________________________\n",
            "conv1d_17 (Conv1D)           (None, 37, 32)            3104      \n",
            "_________________________________________________________________\n",
            "max_pooling1d_17 (MaxPooling (None, 18, 32)            0         \n",
            "_________________________________________________________________\n",
            "bidirectional_1 (Bidirection (None, 18, 32)            6272      \n",
            "_________________________________________________________________\n",
            "flatten_5 (Flatten)          (None, 576)               0         \n",
            "_________________________________________________________________\n",
            "dense_25 (Dense)             (None, 512)               295424    \n",
            "_________________________________________________________________\n",
            "dense_26 (Dense)             (None, 256)               131328    \n",
            "_________________________________________________________________\n",
            "dense_27 (Dense)             (None, 128)               32896     \n",
            "_________________________________________________________________\n",
            "dense_28 (Dense)             (None, 64)                8256      \n",
            "_________________________________________________________________\n",
            "dense_29 (Dense)             (None, 5)                 325       \n",
            "=================================================================\n",
            "Total params: 27,923,141\n",
            "Trainable params: 499,941\n",
            "Non-trainable params: 27,423,200\n",
            "_________________________________________________________________\n",
            "Epoch 1/100\n",
            "17250/17250 [==============================] - 280s 16ms/step - loss: 0.8966 - accuracy: 0.6501 - val_loss: 0.6641 - val_accuracy: 0.7585\n",
            "Epoch 2/100\n",
            "17250/17250 [==============================] - 271s 16ms/step - loss: 0.6434 - accuracy: 0.7691 - val_loss: 0.6232 - val_accuracy: 0.7752\n",
            "Epoch 3/100\n",
            "17250/17250 [==============================] - 273s 16ms/step - loss: 0.6052 - accuracy: 0.7828 - val_loss: 0.6092 - val_accuracy: 0.7797\n",
            "Epoch 4/100\n",
            "17250/17250 [==============================] - 273s 16ms/step - loss: 0.5834 - accuracy: 0.7914 - val_loss: 0.6013 - val_accuracy: 0.7837\n",
            "Epoch 5/100\n",
            "17250/17250 [==============================] - 271s 16ms/step - loss: 0.5695 - accuracy: 0.7968 - val_loss: 0.5820 - val_accuracy: 0.7916\n",
            "Epoch 6/100\n",
            "17250/17250 [==============================] - 271s 16ms/step - loss: 0.5595 - accuracy: 0.8006 - val_loss: 0.5831 - val_accuracy: 0.7917\n"
          ],
          "name": "stdout"
        }
      ]
    },
    {
      "cell_type": "code",
      "metadata": {
        "colab": {
          "base_uri": "https://localhost:8080/"
        },
        "id": "mSoOkoKnqzCx",
        "outputId": "84495595-5c05-48f4-94b1-91981ba0fc94"
      },
      "source": [
        "# (<keras_preprocessing.text.Tokenizer at 0x7f324e88b0d0>, 163)\n",
        "# (<keras_preprocessing.text.Tokenizer at 0x7f3237291510>, 163)\n",
        "ft_prep_params"
      ],
      "execution_count": null,
      "outputs": [
        {
          "output_type": "execute_result",
          "data": {
            "text/plain": [
              "(<keras_preprocessing.text.Tokenizer at 0x7f3240ffbf10>, 163)"
            ]
          },
          "metadata": {
            "tags": []
          },
          "execution_count": 73
        }
      ]
    },
    {
      "cell_type": "code",
      "metadata": {
        "id": "dNmUBeSzri8l"
      },
      "source": [
        "import pickle\n",
        "\n",
        "with open('/content/drive/MyDrive/sarcasm models/ft_300_prep_params.pkl', 'wb') as file:\n",
        "    pickle.dump(ft_prep_params, file)"
      ],
      "execution_count": null,
      "outputs": []
    },
    {
      "cell_type": "code",
      "metadata": {
        "id": "oV6eYWKt_D1m"
      },
      "source": [
        "# d = {'VNeg':0,'Neg':1,'Neu':2,'Pos':3,'VPos':4}\n",
        "d = {'sarcasm':1,'normal':0}\n",
        "df['lbl_num'] = df['label'].apply(lambda x: d[x])"
      ],
      "execution_count": null,
      "outputs": []
    },
    {
      "cell_type": "code",
      "metadata": {
        "id": "YEfz0SsB_XjU"
      },
      "source": [
        "df.to_csv('/content/drive/MyDrive/sarcasm data/train_sarc_final_with_folds.csv',index = False,header = True)"
      ],
      "execution_count": null,
      "outputs": []
    },
    {
      "cell_type": "code",
      "metadata": {
        "colab": {
          "base_uri": "https://localhost:8080/"
        },
        "id": "OXBtHEyKHOrM",
        "outputId": "2144ca0b-f0d1-4855-a69e-b6f9f8e20112"
      },
      "source": [
        "x = wem.get_models_glove()\n",
        "print(x)"
      ],
      "execution_count": null,
      "outputs": [
        {
          "output_type": "stream",
          "text": [
            "{'<bound method word_emb_model.CONV1D_BiLSTM of <__main__.word_emb_model object at 0x7f7a194e8f50>>': [<tensorflow.python.keras.engine.sequential.Sequential object at 0x7f7a21818290>]}\n"
          ],
          "name": "stdout"
        }
      ]
    },
    {
      "cell_type": "code",
      "metadata": {
        "id": "Hn1mai2x37dd"
      },
      "source": [
        "mod = x['<bound method word_emb_model.CONV1D_BiLSTM of <__main__.word_emb_model object at 0x7f7a194e8f50>>'][0]"
      ],
      "execution_count": null,
      "outputs": []
    },
    {
      "cell_type": "code",
      "metadata": {
        "id": "lQEaLJVegFRo"
      },
      "source": [
        ""
      ],
      "execution_count": null,
      "outputs": []
    },
    {
      "cell_type": "code",
      "metadata": {
        "id": "KFGCUZrk29ZC"
      },
      "source": [
        ""
      ],
      "execution_count": null,
      "outputs": []
    },
    {
      "cell_type": "code",
      "metadata": {
        "id": "ei8cMqdK4Cz6"
      },
      "source": [
        "k = wem.create_fasttext_embedding_matrix(300)"
      ],
      "execution_count": null,
      "outputs": []
    },
    {
      "cell_type": "code",
      "metadata": {
        "id": "t84gbiRX4Zba"
      },
      "source": [
        "x_tr,y_tr = k[0]\n",
        "x_ts,y_ts = k[1]"
      ],
      "execution_count": null,
      "outputs": []
    },
    {
      "cell_type": "code",
      "metadata": {
        "id": "7tUgtBpc5Alo"
      },
      "source": [
        "# ypred = mod.predict_classes(x_ts)\n",
        "y_pred =(mod.predict(x_ts) > 0.5).astype(\"float32\")"
      ],
      "execution_count": null,
      "outputs": []
    },
    {
      "cell_type": "code",
      "metadata": {
        "id": "XXSAMHXXMSLE"
      },
      "source": [
        "labels_pred = np.argmax(y_pred, 1)"
      ],
      "execution_count": null,
      "outputs": []
    },
    {
      "cell_type": "code",
      "metadata": {
        "id": "12gIB4TIMnHU"
      },
      "source": [
        "from sklearn.metrics import accuracy_score\n",
        "z = accuracy_score(y_ts,y_pred)"
      ],
      "execution_count": null,
      "outputs": []
    },
    {
      "cell_type": "code",
      "metadata": {
        "id": "Sx7qbHUDOXwG"
      },
      "source": [
        "y_classes = np.array([np.argmax(y, axis=None, out=None) for y in (mod_l.predict(x_ts) > 0.5).astype(\"float32\")])"
      ],
      "execution_count": null,
      "outputs": []
    },
    {
      "cell_type": "code",
      "metadata": {
        "colab": {
          "base_uri": "https://localhost:8080/"
        },
        "id": "3x7pUcabO8Gr",
        "outputId": "b49131b5-c3c8-4fb6-f679-beeea9fd6ed9"
      },
      "source": [
        "np.unique(y_classes)"
      ],
      "execution_count": null,
      "outputs": [
        {
          "output_type": "execute_result",
          "data": {
            "text/plain": [
              "array([0, 1, 2, 3, 4])"
            ]
          },
          "metadata": {
            "tags": []
          },
          "execution_count": 101
        }
      ]
    },
    {
      "cell_type": "code",
      "metadata": {
        "id": "e1dVtyAe5LTZ"
      },
      "source": [
        "from collections import Counter\n",
        "c = Counter(list(ypred))"
      ],
      "execution_count": null,
      "outputs": []
    },
    {
      "cell_type": "code",
      "metadata": {
        "colab": {
          "base_uri": "https://localhost:8080/"
        },
        "id": "o-yMyPMP5-Zm",
        "outputId": "fda4b42e-e068-41cf-d9f3-e2b54fb04d45"
      },
      "source": [
        "# c1 = Counter(\n",
        "y_ts"
      ],
      "execution_count": null,
      "outputs": [
        {
          "output_type": "execute_result",
          "data": {
            "text/plain": [
              "<tf.Tensor: shape=(138000, 5), dtype=float32, numpy=\n",
              "array([[0., 0., 0., 1., 0.],\n",
              "       [0., 0., 0., 1., 0.],\n",
              "       [0., 0., 0., 1., 0.],\n",
              "       ...,\n",
              "       [0., 0., 0., 0., 1.],\n",
              "       [0., 0., 0., 0., 1.],\n",
              "       [0., 0., 0., 0., 1.]], dtype=float32)>"
            ]
          },
          "metadata": {
            "tags": []
          },
          "execution_count": 53
        }
      ]
    },
    {
      "cell_type": "code",
      "metadata": {
        "id": "UMdGRC-X85oF"
      },
      "source": [
        "mod.save('/content/drive/MyDrive/sentiment models/GLOVE_200D_CONV1D_BiLSTM.h5')"
      ],
      "execution_count": null,
      "outputs": []
    },
    {
      "cell_type": "code",
      "metadata": {
        "id": "83Prl7_y8v65"
      },
      "source": [
        "from keras.models import load_model\n",
        "mod_l = load_model('/content/drive/MyDrive/sarcasm models/GLOVE_100D_CONV1D_BiGRU.h5')"
      ],
      "execution_count": null,
      "outputs": []
    },
    {
      "cell_type": "code",
      "metadata": {
        "colab": {
          "base_uri": "https://localhost:8080/"
        },
        "id": "OWOH5EjHT7wP",
        "outputId": "f15ba812-b839-4e70-8f17-ee3500ac0ce0"
      },
      "source": [
        "mod_l.summary()"
      ],
      "execution_count": null,
      "outputs": [
        {
          "output_type": "stream",
          "text": [
            "Model: \"sequential_2\"\n",
            "_________________________________________________________________\n",
            "Layer (type)                 Output Shape              Param #   \n",
            "=================================================================\n",
            "embedding_2 (Embedding)      (None, 163, 100)          8445700   \n",
            "_________________________________________________________________\n",
            "conv1d_3 (Conv1D)            (None, 161, 32)           9632      \n",
            "_________________________________________________________________\n",
            "max_pooling1d_3 (MaxPooling1 (None, 80, 32)            0         \n",
            "_________________________________________________________________\n",
            "conv1d_4 (Conv1D)            (None, 78, 32)            3104      \n",
            "_________________________________________________________________\n",
            "max_pooling1d_4 (MaxPooling1 (None, 39, 32)            0         \n",
            "_________________________________________________________________\n",
            "conv1d_5 (Conv1D)            (None, 37, 32)            3104      \n",
            "_________________________________________________________________\n",
            "max_pooling1d_5 (MaxPooling1 (None, 18, 32)            0         \n",
            "_________________________________________________________________\n",
            "bidirectional_2 (Bidirection (None, 18, 32)            4800      \n",
            "_________________________________________________________________\n",
            "flatten_2 (Flatten)          (None, 576)               0         \n",
            "_________________________________________________________________\n",
            "dense_10 (Dense)             (None, 512)               295424    \n",
            "_________________________________________________________________\n",
            "dense_11 (Dense)             (None, 256)               131328    \n",
            "_________________________________________________________________\n",
            "dense_12 (Dense)             (None, 128)               32896     \n",
            "_________________________________________________________________\n",
            "dense_13 (Dense)             (None, 64)                8256      \n",
            "_________________________________________________________________\n",
            "dense_14 (Dense)             (None, 2)                 130       \n",
            "=================================================================\n",
            "Total params: 8,934,374\n",
            "Trainable params: 488,674\n",
            "Non-trainable params: 8,445,700\n",
            "_________________________________________________________________\n"
          ],
          "name": "stdout"
        }
      ]
    },
    {
      "cell_type": "code",
      "metadata": {
        "id": "Reu54n5P8qTp"
      },
      "source": [
        ""
      ],
      "execution_count": null,
      "outputs": []
    },
    {
      "cell_type": "code",
      "metadata": {
        "id": "KJuBxnWEHbJl"
      },
      "source": [
        "# import pickle\n",
        "y = wem.get_history_fasttext()\n",
        "# with open('/content/drive/MyDrive/sent_fasttext_300_acc.pickle', 'wb') as handle:\n",
        "#     pickle.dump(y, handle, protocol=pickle.HIGHEST_PROTOCOL)\n",
        "\n",
        "\n",
        "\n",
        "\n",
        "\n",
        "\n",
        "# z = y['<bound method word_emb_model.CONV1D of <__main__.word_emb_model object at 0x7fa8481759d0>>'][0].history"
      ],
      "execution_count": null,
      "outputs": []
    },
    {
      "cell_type": "code",
      "metadata": {
        "id": "ndm3AYpGLCyx"
      },
      "source": [
        "k = ['SEPARABLE CONV1D BiRNN','SEPARABLE CONV1D BiGRU','BiGRU','BiLSTM','BiRNN']"
      ],
      "execution_count": null,
      "outputs": []
    },
    {
      "cell_type": "code",
      "metadata": {
        "id": "Nwz4nC-iRQjP"
      },
      "source": [
        "dfs = []\n",
        "for k in y.keys():\n",
        "  z = y[k][0].history\n",
        "  df = pd.DataFrame.from_dict(z)\n",
        "  df['epoch'] = [i+1 for i in range(len(df))]\n",
        "  dfs.append(df)"
      ],
      "execution_count": null,
      "outputs": []
    },
    {
      "cell_type": "code",
      "metadata": {
        "colab": {
          "base_uri": "https://localhost:8080/"
        },
        "id": "3R_Wd4DFjcJJ",
        "outputId": "9f9ca624-fc86-4382-ed4d-40f697e61495"
      },
      "source": [
        "len(dfs)"
      ],
      "execution_count": null,
      "outputs": [
        {
          "output_type": "execute_result",
          "data": {
            "text/plain": [
              "5"
            ]
          },
          "metadata": {
            "tags": []
          },
          "execution_count": 17
        }
      ]
    },
    {
      "cell_type": "code",
      "metadata": {
        "colab": {
          "base_uri": "https://localhost:8080/"
        },
        "id": "zNmCRXa78EQ4",
        "outputId": "95ff380b-4c94-49c7-9f31-1a435ea931fa"
      },
      "source": [
        "for i in y.keys():\n",
        "  print(i)"
      ],
      "execution_count": null,
      "outputs": [
        {
          "output_type": "stream",
          "text": [
            "<bound method word_emb_model.SEP_CONV1D_BiRNN of <__main__.word_emb_model object at 0x7f690e05b7d0>>\n",
            "<bound method word_emb_model.SEP_CONV1D_BiGRU of <__main__.word_emb_model object at 0x7f690e05b7d0>>\n",
            "<bound method word_emb_model.BiGRU of <__main__.word_emb_model object at 0x7f690e05b7d0>>\n",
            "<bound method word_emb_model.BiLSTM of <__main__.word_emb_model object at 0x7f690e05b7d0>>\n",
            "<bound method word_emb_model.BiRNN of <__main__.word_emb_model object at 0x7f690e05b7d0>>\n"
          ],
          "name": "stdout"
        }
      ]
    },
    {
      "cell_type": "code",
      "metadata": {
        "id": "PHt-TvTUieKI"
      },
      "source": [
        "k = ['CONV1D','SEP_CONV1D','CONV1D_BiLSTM','CONV1D_BiRNN','CONV1D_BiGRU']"
      ],
      "execution_count": null,
      "outputs": []
    },
    {
      "cell_type": "code",
      "metadata": {
        "id": "YrcfjdJ4jOal"
      },
      "source": [
        "for i in range(len(dfs)):\n",
        "  dfs[i].to_csv('/content/drive/MyDrive/sent_fasttext_300_'+k[i]+'.csv',index = False,header = True)"
      ],
      "execution_count": null,
      "outputs": []
    },
    {
      "cell_type": "code",
      "metadata": {
        "id": "xpQtYFu0FJvb"
      },
      "source": [
        "df = pd.read_csv('/content/drive/MyDrive/sarcasm data/train_sarc_final.csv')"
      ],
      "execution_count": null,
      "outputs": []
    },
    {
      "cell_type": "code",
      "metadata": {
        "id": "0XI3QlgHTzqv"
      },
      "source": [
        "def check(x):\n",
        "  if type(x) == str:\n",
        "    return True\n",
        "  return False"
      ],
      "execution_count": null,
      "outputs": []
    },
    {
      "cell_type": "code",
      "metadata": {
        "id": "nCHDydnsWSQB"
      },
      "source": [
        "df['inv'] = df['text'].apply(lambda x: check(x))"
      ],
      "execution_count": null,
      "outputs": []
    },
    {
      "cell_type": "code",
      "metadata": {
        "id": "iCShKvuSWYVw"
      },
      "source": [
        "df = df.drop('inv',axis = 1)"
      ],
      "execution_count": null,
      "outputs": []
    },
    {
      "cell_type": "code",
      "metadata": {
        "id": "i-wMll2BXJAo"
      },
      "source": [
        "num_words = [len(s.split()) for s in df['preprocessed']]\n",
        "# df.columns"
      ],
      "execution_count": null,
      "outputs": []
    },
    {
      "cell_type": "code",
      "metadata": {
        "colab": {
          "base_uri": "https://localhost:8080/",
          "height": 168
        },
        "id": "KbWvsZnPcIDS",
        "outputId": "f085b704-6cae-478f-8817-ceca87ad3f9b"
      },
      "source": [
        "val_ds[1]"
      ],
      "execution_count": null,
      "outputs": [
        {
          "output_type": "error",
          "ename": "NameError",
          "evalue": "ignored",
          "traceback": [
            "\u001b[0;31m---------------------------------------------------------------------------\u001b[0m",
            "\u001b[0;31mNameError\u001b[0m                                 Traceback (most recent call last)",
            "\u001b[0;32m<ipython-input-1-4ca57cd449c9>\u001b[0m in \u001b[0;36m<module>\u001b[0;34m()\u001b[0m\n\u001b[0;32m----> 1\u001b[0;31m \u001b[0mval_ds\u001b[0m\u001b[0;34m[\u001b[0m\u001b[0;36m1\u001b[0m\u001b[0;34m]\u001b[0m\u001b[0;34m\u001b[0m\u001b[0;34m\u001b[0m\u001b[0m\n\u001b[0m",
            "\u001b[0;31mNameError\u001b[0m: name 'val_ds' is not defined"
          ]
        }
      ]
    },
    {
      "cell_type": "code",
      "metadata": {
        "id": "LCIFu-313yOV"
      },
      "source": [
        ""
      ],
      "execution_count": null,
      "outputs": []
    }
  ]
}