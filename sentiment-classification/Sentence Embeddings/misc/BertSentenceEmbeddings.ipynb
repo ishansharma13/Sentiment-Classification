{
  "nbformat": 4,
  "nbformat_minor": 0,
  "metadata": {
    "colab": {
      "name": "BertSentenceEmbeddings.ipynb",
      "provenance": []
    },
    "kernelspec": {
      "name": "python3",
      "display_name": "Python 3"
    },
    "language_info": {
      "name": "python"
    }
  },
  "cells": [
    {
      "cell_type": "code",
      "metadata": {
        "colab": {
          "base_uri": "https://localhost:8080/"
        },
        "id": "MPlFIDrcOhHI",
        "outputId": "c1bb1056-f346-4e4f-f1e0-030014b54bf0"
      },
      "source": [
        "from google.colab import drive\n",
        "drive.mount('/content/drive')"
      ],
      "execution_count": null,
      "outputs": [
        {
          "output_type": "stream",
          "text": [
            "Mounted at /content/drive\n"
          ],
          "name": "stdout"
        }
      ]
    },
    {
      "cell_type": "code",
      "metadata": {
        "id": "EETdBgPJOwRH"
      },
      "source": [
        "import pandas as pd\n",
        "df = pd.read_csv('/content/drive/MyDrive/sentiment data/tr_sen_fin.csv')"
      ],
      "execution_count": null,
      "outputs": []
    },
    {
      "cell_type": "code",
      "metadata": {
        "id": "Ey6XBth4Ow6w"
      },
      "source": [
        "df = df.drop(['sentiment', 'kfold','len'],axis = 1)"
      ],
      "execution_count": null,
      "outputs": []
    },
    {
      "cell_type": "code",
      "metadata": {
        "colab": {
          "base_uri": "https://localhost:8080/"
        },
        "id": "79RYhzgeO1ML",
        "outputId": "4a8345b0-7eac-46f8-e9c5-06778826d680"
      },
      "source": [
        "!wget http://setup.johnsnowlabs.com/colab.sh -O - | bash"
      ],
      "execution_count": null,
      "outputs": [
        {
          "output_type": "stream",
          "text": [
            "--2021-04-21 06:37:17--  http://setup.johnsnowlabs.com/colab.sh\n",
            "Resolving setup.johnsnowlabs.com (setup.johnsnowlabs.com)... 51.158.130.26\n",
            "Connecting to setup.johnsnowlabs.com (setup.johnsnowlabs.com)|51.158.130.26|:80... connected.\n",
            "HTTP request sent, awaiting response... 302 Moved Temporarily\n",
            "Location: https://raw.githubusercontent.com/JohnSnowLabs/spark-nlp/master/scripts/colab_setup.sh [following]\n",
            "--2021-04-21 06:37:18--  https://raw.githubusercontent.com/JohnSnowLabs/spark-nlp/master/scripts/colab_setup.sh\n",
            "Resolving raw.githubusercontent.com (raw.githubusercontent.com)... 185.199.108.133, 185.199.111.133, 185.199.109.133, ...\n",
            "Connecting to raw.githubusercontent.com (raw.githubusercontent.com)|185.199.108.133|:443... connected.\n",
            "HTTP request sent, awaiting response... 200 OK\n",
            "Length: 1594 (1.6K) [text/plain]\n",
            "Saving to: ‘STDOUT’\n",
            "\n",
            "-                   100%[===================>]   1.56K  --.-KB/s    in 0s      \n",
            "\n",
            "2021-04-21 06:37:18 (34.9 MB/s) - written to stdout [1594/1594]\n",
            "\n",
            "setup Colab for PySpark 3.0.2 and Spark NLP 3.0.1\n",
            "\u001b[K     |████████████████████████████████| 204.8MB 74kB/s \n",
            "\u001b[K     |████████████████████████████████| 153kB 45.2MB/s \n",
            "\u001b[K     |████████████████████████████████| 204kB 22.4MB/s \n",
            "\u001b[?25h  Building wheel for pyspark (setup.py) ... \u001b[?25l\u001b[?25hdone\n"
          ],
          "name": "stdout"
        }
      ]
    },
    {
      "cell_type": "code",
      "metadata": {
        "colab": {
          "base_uri": "https://localhost:8080/"
        },
        "id": "i-X_SMIzPHVi",
        "outputId": "271377b3-aa6e-4bcb-dd77-3bbe67faad70"
      },
      "source": [
        "# from sklearn.model_selection import train_test_split\n",
        "import pyspark.sql.functions as F\n",
        "from pyspark.sql.types import StringType,StructType,StructField,IntegerType\n",
        "from pyspark.ml.evaluation import MulticlassClassificationEvaluator\n",
        "from pyspark.ml.classification import LogisticRegression\n",
        "from pyspark.ml.linalg import VectorUDT, DenseVector\n",
        "import sparknlp\n",
        "from sparknlp.base import *\n",
        "from sparknlp.annotator import *\n",
        "from pyspark.ml import Pipeline\n",
        "import pandas as pd\n",
        "import time\n",
        "prog_start_time = time.time()\n",
        "import json\n",
        "# sent_small_bert_L12_128\n",
        "# spark = ss.builder.master(\"local[*]\").getOrCreate()\n",
        "spark = sparknlp.start() \n",
        "schema_sarc = StructType([StructField('id', StringType(), True),                     \n",
        "                      StructField('text', StringType(), True),\n",
        "                      StructField('label', StringType(), True)])\n",
        "\n",
        "\n",
        "# df_pan = pd.read_csv('/Users/ishansharma/Desktop/train_sarc_final.csv')\n",
        "# df_src = df_pan[df_pan['sarcasm']=='sarcasm'].sample(n=500)\n",
        "# df_nsrc = df_pan[df_pan['sarcasm']=='normal'].sample(n=500)\n",
        "\n",
        "# df_pan = pd.concat([df_src,df_nsrc],ignore_index=True)\n",
        "# df_pan = df_pan.sample(frac=1).reset_index(drop=True)\n",
        "# d = {'sarcasm':1,'normal':0}\n",
        "# df_pan['label'] = df_pan['sarcasm'].apply(lambda x: d[x])\n",
        "# df_pan = df_pan.drop('sarcasm',axis = 1)\n",
        "# x_tr,x_ts,y_tr,y_ts = train_test_split(df_pan.drop('label',axis = 1),df_pan['label'],test_size=0.25,stratify=df_pan['label'])\n",
        "# # print(x_tr.columns)\n",
        "# x_tr['label'] = y_tr\n",
        "# x_ts['label'] = y_ts \n",
        "df_tr = spark.createDataFrame(df,schema_sarc)\n",
        "# df_ts = spark.createDataFrame(x_ts,schema_sarc)\n",
        "# \n",
        "# # df = spark.read.option(\"header\", True).option(\"inferSchema\",True).csv(\"/Users/ishansharma/Desktop/NLP/Model Selection/Imbalanced problem/train_sent\")\n",
        "# # df = df.withColumnRenamed(\"preprocessed\",\"text\")\n",
        "document = DocumentAssembler().setInputCol(\"text\").setOutputCol(\"document\")\n",
        "#use = UniversalSentenceEncoder.pretrained().setInputCols([\"document\"]).setOutputCol(\"USE_pre_text_all_upd_embed\")\n",
        "# tokenizer = Tokenizer().setInputCols([\"document\"]).setOutputCol(\"token\")\n",
        "# embeddings = UniversalSentenceEncoder.pretrained(\"tfhub_use\", \"en\") \\\n",
        "#       .setInputCols(\"sentence\") \\\n",
        "#       .setOutputCol(\"sentence_embeddings\")\n",
        "# spellModel = ContextSpellCheckerModel.pretrained().setInputCols(\"token\").setOutputCol(\"spell\")\n",
        "# # lemmatizer = LemmatizerModel.pretrained(name=\"lemma_antbnc\").setInputCols([\"spell\"]).setOutputCol(\"lemma\").setLazyAnnotator(False)\n",
        "sentenceDetector = SentenceDetector().setInputCols([\"document\"]).setOutputCol(\"sentence\")\n",
        "# use = UniversalSentenceEncoder.pretrained().setInputCols([\"sentence\",\"spell\"]).setOutputCol(\"embeddings\")\n",
        "embeddings = BertSentenceEmbeddings.pretrained(\"sent_electra_small_uncased\", \"en\").setInputCols(\"sentence\").setOutputCol(\"embeddings\")\n",
        "embeddings_finisher = EmbeddingsFinisher().setInputCols(\"embeddings\").setOutputCols(\"embeddings_vectors\").setCleanAnnotations(True).setOutputAsVector(True)\n",
        "# finisher = Finisher().setInputCols([\"token\"]).setIncludeMetadata(False)\n",
        "\n",
        "\n",
        "\n",
        "# # # bert = BertSentenceEmbeddings.pretrained(\"sent_electra_small_uncased\", \"en\").setInputCols(\"sentence\").setOutputCol(\"sentence_embeddings\")\n",
        "# # # # use_clf_pipeline = Pipeline(\n",
        "# # #     stages = [\n",
        "# # #         document,\n",
        "# # #         use\n",
        "# # #     ])\n",
        "# ml = LogisticRegression(featuresCol='input',labelCol='label')\n",
        "lemm_pipeline = Pipeline(\n",
        "    stages = [\n",
        "        document,\n",
        "#         tokenizer,\n",
        "#         # finisher\n",
        "#         spellModel,\n",
        "# #        #  lemmatizer,\n",
        "        sentenceDetector,\n",
        "        embeddings,\n",
        "\t\tembeddings_finisher\n",
        "#         # spell_checker,\n",
        "#         lemmatizer\n",
        "    ])\n",
        "\n",
        "\n",
        "\n",
        "df_lem = lemm_pipeline.fit(df_tr).transform(df_tr)\n",
        "# df.printSchema() \n",
        "# ml_pipeline = Pipeline(stages = [ml])\n",
        "# df_emb_tr = lemm_pipeline.fit(df_tr).transform(df_tr)\n",
        "# df_emb_ts = lemm_pipeline.fit(df_ts).transform(df_ts)\n",
        "df_emb = df_lem.select('id',F.explode('embeddings_vectors').alias('input'),'label')\n",
        "# df_emb_ts = df.select('id',F.explode('embeddings_vectors').alias('input'),'label')\n",
        "# \n",
        "# model = ml_pipeline.fit(df_emb_tr)\n",
        "# df_res = model.transform(df_emb_tr.drop('label'))\n",
        "# df_eval = df_res.join(df_emb_ts,on='id',how='inner').select('label','prediction')\n",
        "# evaluator = MulticlassClassificationEvaluator(labelCol=\"label\", predictionCol=\"prediction\")\n",
        "# \n",
        "# acc = evaluator.evaluate(df_eval, {evaluator.metricName: \"accuracy\"})\n",
        "# f1 = evaluator.evaluate(df_eval, {evaluator.metricName: \"f1\"})\n",
        "# weightedPrecision = evaluator.evaluate(df_eval, {evaluator.metricName: \"weightedPrecision\"})\n",
        "# weightedRecall = evaluator.evaluate(df_eval, {evaluator.metricName: \"weightedRecall\"})\n",
        "# # \n",
        "# # \n",
        "# smry = {'accuracy': acc,'f1':f1,'weighted precision': weightedPrecision,'weighted recall':weightedRecall}\n",
        "# print(smry)\n",
        "# # \n",
        "# # \n",
        "# \n",
        "# \n",
        "# \n",
        "# # print(\"TRANSFORMATIONS DONEEEEE!!!!! \\n\")\n",
        "# # # df_lem.printSchema()\n",
        "ud_f = F.udf(lambda r : DenseVector(r),F.StringType())\n",
        "# # res_df = df_lem.select(\"u_id\",F.explode(\"embeddings\").alias(\"embeddings_v\"))\n",
        "# # res_df = df_lem.select(\"id\",\"embeddings_vectors.embeddings\")\n",
        "res_df = df_emb.withColumn(\"ELEC_embed\",ud_f(F.col(\"input\")))\n",
        "res_df = res_df.drop(\"input\")\n",
        "# print(\"SAVING !!!!\")\n",
        "# df_lem.printSchema()\n",
        "# # conv_start_time = time.time()\n",
        "# # df_lem = df_lem.select(\"u_id\",\"embeddings_vectors\",\"sarcasm\")\n",
        "# # df_lem = df_lem.withColumn(\"embeddings_vectors\",df_lem.embeddings_vectors.cast('string'))\n",
        "# # df_lem.write.option('header','true').csv('/Users/ishansharma/Desktop/NLP/sarc_embed_final')\n",
        "# # toPandas().to_csv('/Users/ishansharma/Desktop/NLP/Model Selection/Imbalanced problem/train_sent_elec_embed/test.csv',index = False,header = True)\n",
        "# # print(\"CONVERSION END TIME: %d, PROGRAM END TIME: %d\"%(time.time()-conv_start_time,time.time()-prog_start_time))"
      ],
      "execution_count": null,
      "outputs": [
        {
          "output_type": "stream",
          "text": [
            "sent_electra_small_uncased download started this may take some time.\n",
            "Approximate size to download 48.7 MB\n",
            "[OK!]\n"
          ],
          "name": "stdout"
        }
      ]
    },
    {
      "cell_type": "code",
      "metadata": {
        "colab": {
          "base_uri": "https://localhost:8080/"
        },
        "id": "woh6TkPZKABu",
        "outputId": "447255ce-711b-4bee-a009-9bfccb76ba3d"
      },
      "source": [
        "res_df"
      ],
      "execution_count": null,
      "outputs": [
        {
          "output_type": "execute_result",
          "data": {
            "text/plain": [
              "DataFrame[id: string, label: string, ELEC_embed: string]"
            ]
          },
          "metadata": {
            "tags": []
          },
          "execution_count": 6
        }
      ]
    },
    {
      "cell_type": "code",
      "metadata": {
        "colab": {
          "base_uri": "https://localhost:8080/",
          "height": 345
        },
        "id": "xaDJ6KKBPNxS",
        "outputId": "c22d41eb-de21-49e5-b2c4-5bcad91a4958"
      },
      "source": [
        "# pred = res_df.withColumn(\"embeddings\",res_df[\"ELEC_embed\"].cast('string'))\n",
        "# pred = pred.drop('ELEC_embed')\n",
        "# pred.write.mode(\"overwrite\").option('header','true').csv('/content/sent_ekec_690k')\n",
        "res_df.write.option('header','true').csv('/content/sent_elec_690k')"
      ],
      "execution_count": null,
      "outputs": [
        {
          "output_type": "error",
          "ename": "KeyboardInterrupt",
          "evalue": "ignored",
          "traceback": [
            "\u001b[0;31m---------------------------------------------------------------------------\u001b[0m",
            "\u001b[0;31mKeyboardInterrupt\u001b[0m                         Traceback (most recent call last)",
            "\u001b[0;32m<ipython-input-7-5ebca333d619>\u001b[0m in \u001b[0;36m<module>\u001b[0;34m()\u001b[0m\n\u001b[1;32m      2\u001b[0m \u001b[0;31m# pred = pred.drop('ELEC_embed')\u001b[0m\u001b[0;34m\u001b[0m\u001b[0;34m\u001b[0m\u001b[0;34m\u001b[0m\u001b[0m\n\u001b[1;32m      3\u001b[0m \u001b[0;31m# pred.write.mode(\"overwrite\").option('header','true').csv('/content/sent_ekec_690k')\u001b[0m\u001b[0;34m\u001b[0m\u001b[0;34m\u001b[0m\u001b[0;34m\u001b[0m\u001b[0m\n\u001b[0;32m----> 4\u001b[0;31m \u001b[0mres_df\u001b[0m\u001b[0;34m.\u001b[0m\u001b[0mwrite\u001b[0m\u001b[0;34m.\u001b[0m\u001b[0moption\u001b[0m\u001b[0;34m(\u001b[0m\u001b[0;34m'header'\u001b[0m\u001b[0;34m,\u001b[0m\u001b[0;34m'true'\u001b[0m\u001b[0;34m)\u001b[0m\u001b[0;34m.\u001b[0m\u001b[0mcsv\u001b[0m\u001b[0;34m(\u001b[0m\u001b[0;34m'/content/sent_elec_690k'\u001b[0m\u001b[0;34m)\u001b[0m\u001b[0;34m\u001b[0m\u001b[0;34m\u001b[0m\u001b[0m\n\u001b[0m",
            "\u001b[0;32m/usr/local/lib/python3.7/dist-packages/pyspark/sql/readwriter.py\u001b[0m in \u001b[0;36mcsv\u001b[0;34m(self, path, mode, compression, sep, quote, escape, header, nullValue, escapeQuotes, quoteAll, dateFormat, timestampFormat, ignoreLeadingWhiteSpace, ignoreTrailingWhiteSpace, charToEscapeQuoteEscaping, encoding, emptyValue, lineSep)\u001b[0m\n\u001b[1;32m   1028\u001b[0m                        \u001b[0mcharToEscapeQuoteEscaping\u001b[0m\u001b[0;34m=\u001b[0m\u001b[0mcharToEscapeQuoteEscaping\u001b[0m\u001b[0;34m,\u001b[0m\u001b[0;34m\u001b[0m\u001b[0;34m\u001b[0m\u001b[0m\n\u001b[1;32m   1029\u001b[0m                        encoding=encoding, emptyValue=emptyValue, lineSep=lineSep)\n\u001b[0;32m-> 1030\u001b[0;31m         \u001b[0mself\u001b[0m\u001b[0;34m.\u001b[0m\u001b[0m_jwrite\u001b[0m\u001b[0;34m.\u001b[0m\u001b[0mcsv\u001b[0m\u001b[0;34m(\u001b[0m\u001b[0mpath\u001b[0m\u001b[0;34m)\u001b[0m\u001b[0;34m\u001b[0m\u001b[0;34m\u001b[0m\u001b[0m\n\u001b[0m\u001b[1;32m   1031\u001b[0m \u001b[0;34m\u001b[0m\u001b[0m\n\u001b[1;32m   1032\u001b[0m     \u001b[0;34m@\u001b[0m\u001b[0msince\u001b[0m\u001b[0;34m(\u001b[0m\u001b[0;36m1.5\u001b[0m\u001b[0;34m)\u001b[0m\u001b[0;34m\u001b[0m\u001b[0;34m\u001b[0m\u001b[0m\n",
            "\u001b[0;32m/usr/local/lib/python3.7/dist-packages/py4j/java_gateway.py\u001b[0m in \u001b[0;36m__call__\u001b[0;34m(self, *args)\u001b[0m\n\u001b[1;32m   1301\u001b[0m             \u001b[0mproto\u001b[0m\u001b[0;34m.\u001b[0m\u001b[0mEND_COMMAND_PART\u001b[0m\u001b[0;34m\u001b[0m\u001b[0;34m\u001b[0m\u001b[0m\n\u001b[1;32m   1302\u001b[0m \u001b[0;34m\u001b[0m\u001b[0m\n\u001b[0;32m-> 1303\u001b[0;31m         \u001b[0manswer\u001b[0m \u001b[0;34m=\u001b[0m \u001b[0mself\u001b[0m\u001b[0;34m.\u001b[0m\u001b[0mgateway_client\u001b[0m\u001b[0;34m.\u001b[0m\u001b[0msend_command\u001b[0m\u001b[0;34m(\u001b[0m\u001b[0mcommand\u001b[0m\u001b[0;34m)\u001b[0m\u001b[0;34m\u001b[0m\u001b[0;34m\u001b[0m\u001b[0m\n\u001b[0m\u001b[1;32m   1304\u001b[0m         return_value = get_return_value(\n\u001b[1;32m   1305\u001b[0m             answer, self.gateway_client, self.target_id, self.name)\n",
            "\u001b[0;32m/usr/local/lib/python3.7/dist-packages/py4j/java_gateway.py\u001b[0m in \u001b[0;36msend_command\u001b[0;34m(self, command, retry, binary)\u001b[0m\n\u001b[1;32m   1031\u001b[0m         \u001b[0mconnection\u001b[0m \u001b[0;34m=\u001b[0m \u001b[0mself\u001b[0m\u001b[0;34m.\u001b[0m\u001b[0m_get_connection\u001b[0m\u001b[0;34m(\u001b[0m\u001b[0;34m)\u001b[0m\u001b[0;34m\u001b[0m\u001b[0;34m\u001b[0m\u001b[0m\n\u001b[1;32m   1032\u001b[0m         \u001b[0;32mtry\u001b[0m\u001b[0;34m:\u001b[0m\u001b[0;34m\u001b[0m\u001b[0;34m\u001b[0m\u001b[0m\n\u001b[0;32m-> 1033\u001b[0;31m             \u001b[0mresponse\u001b[0m \u001b[0;34m=\u001b[0m \u001b[0mconnection\u001b[0m\u001b[0;34m.\u001b[0m\u001b[0msend_command\u001b[0m\u001b[0;34m(\u001b[0m\u001b[0mcommand\u001b[0m\u001b[0;34m)\u001b[0m\u001b[0;34m\u001b[0m\u001b[0;34m\u001b[0m\u001b[0m\n\u001b[0m\u001b[1;32m   1034\u001b[0m             \u001b[0;32mif\u001b[0m \u001b[0mbinary\u001b[0m\u001b[0;34m:\u001b[0m\u001b[0;34m\u001b[0m\u001b[0;34m\u001b[0m\u001b[0m\n\u001b[1;32m   1035\u001b[0m                 \u001b[0;32mreturn\u001b[0m \u001b[0mresponse\u001b[0m\u001b[0;34m,\u001b[0m \u001b[0mself\u001b[0m\u001b[0;34m.\u001b[0m\u001b[0m_create_connection_guard\u001b[0m\u001b[0;34m(\u001b[0m\u001b[0mconnection\u001b[0m\u001b[0;34m)\u001b[0m\u001b[0;34m\u001b[0m\u001b[0;34m\u001b[0m\u001b[0m\n",
            "\u001b[0;32m/usr/local/lib/python3.7/dist-packages/py4j/java_gateway.py\u001b[0m in \u001b[0;36msend_command\u001b[0;34m(self, command)\u001b[0m\n\u001b[1;32m   1198\u001b[0m \u001b[0;34m\u001b[0m\u001b[0m\n\u001b[1;32m   1199\u001b[0m         \u001b[0;32mtry\u001b[0m\u001b[0;34m:\u001b[0m\u001b[0;34m\u001b[0m\u001b[0;34m\u001b[0m\u001b[0m\n\u001b[0;32m-> 1200\u001b[0;31m             \u001b[0manswer\u001b[0m \u001b[0;34m=\u001b[0m \u001b[0msmart_decode\u001b[0m\u001b[0;34m(\u001b[0m\u001b[0mself\u001b[0m\u001b[0;34m.\u001b[0m\u001b[0mstream\u001b[0m\u001b[0;34m.\u001b[0m\u001b[0mreadline\u001b[0m\u001b[0;34m(\u001b[0m\u001b[0;34m)\u001b[0m\u001b[0;34m[\u001b[0m\u001b[0;34m:\u001b[0m\u001b[0;34m-\u001b[0m\u001b[0;36m1\u001b[0m\u001b[0;34m]\u001b[0m\u001b[0;34m)\u001b[0m\u001b[0;34m\u001b[0m\u001b[0;34m\u001b[0m\u001b[0m\n\u001b[0m\u001b[1;32m   1201\u001b[0m             \u001b[0mlogger\u001b[0m\u001b[0;34m.\u001b[0m\u001b[0mdebug\u001b[0m\u001b[0;34m(\u001b[0m\u001b[0;34m\"Answer received: {0}\"\u001b[0m\u001b[0;34m.\u001b[0m\u001b[0mformat\u001b[0m\u001b[0;34m(\u001b[0m\u001b[0manswer\u001b[0m\u001b[0;34m)\u001b[0m\u001b[0;34m)\u001b[0m\u001b[0;34m\u001b[0m\u001b[0;34m\u001b[0m\u001b[0m\n\u001b[1;32m   1202\u001b[0m             \u001b[0;32mif\u001b[0m \u001b[0manswer\u001b[0m\u001b[0;34m.\u001b[0m\u001b[0mstartswith\u001b[0m\u001b[0;34m(\u001b[0m\u001b[0mproto\u001b[0m\u001b[0;34m.\u001b[0m\u001b[0mRETURN_MESSAGE\u001b[0m\u001b[0;34m)\u001b[0m\u001b[0;34m:\u001b[0m\u001b[0;34m\u001b[0m\u001b[0;34m\u001b[0m\u001b[0m\n",
            "\u001b[0;32m/usr/lib/python3.7/socket.py\u001b[0m in \u001b[0;36mreadinto\u001b[0;34m(self, b)\u001b[0m\n\u001b[1;32m    587\u001b[0m         \u001b[0;32mwhile\u001b[0m \u001b[0;32mTrue\u001b[0m\u001b[0;34m:\u001b[0m\u001b[0;34m\u001b[0m\u001b[0;34m\u001b[0m\u001b[0m\n\u001b[1;32m    588\u001b[0m             \u001b[0;32mtry\u001b[0m\u001b[0;34m:\u001b[0m\u001b[0;34m\u001b[0m\u001b[0;34m\u001b[0m\u001b[0m\n\u001b[0;32m--> 589\u001b[0;31m                 \u001b[0;32mreturn\u001b[0m \u001b[0mself\u001b[0m\u001b[0;34m.\u001b[0m\u001b[0m_sock\u001b[0m\u001b[0;34m.\u001b[0m\u001b[0mrecv_into\u001b[0m\u001b[0;34m(\u001b[0m\u001b[0mb\u001b[0m\u001b[0;34m)\u001b[0m\u001b[0;34m\u001b[0m\u001b[0;34m\u001b[0m\u001b[0m\n\u001b[0m\u001b[1;32m    590\u001b[0m             \u001b[0;32mexcept\u001b[0m \u001b[0mtimeout\u001b[0m\u001b[0;34m:\u001b[0m\u001b[0;34m\u001b[0m\u001b[0;34m\u001b[0m\u001b[0m\n\u001b[1;32m    591\u001b[0m                 \u001b[0mself\u001b[0m\u001b[0;34m.\u001b[0m\u001b[0m_timeout_occurred\u001b[0m \u001b[0;34m=\u001b[0m \u001b[0;32mTrue\u001b[0m\u001b[0;34m\u001b[0m\u001b[0;34m\u001b[0m\u001b[0m\n",
            "\u001b[0;31mKeyboardInterrupt\u001b[0m: "
          ]
        }
      ]
    },
    {
      "cell_type": "code",
      "metadata": {
        "id": "W2rtpAXlwV6p"
      },
      "source": [
        "!zip -r sent_elec_690k.zip /content/sent_elec_690k/"
      ],
      "execution_count": null,
      "outputs": []
    },
    {
      "cell_type": "code",
      "metadata": {
        "id": "ynG1FsvxxLYd"
      },
      "source": [
        "!cp sent_elec_690k.zip /content/drive/MyDrive/sent_elec_690k.zip"
      ],
      "execution_count": null,
      "outputs": []
    }
  ]
}