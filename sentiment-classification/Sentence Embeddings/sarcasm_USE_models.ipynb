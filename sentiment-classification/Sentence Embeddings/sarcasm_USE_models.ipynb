{
  "nbformat": 4,
  "nbformat_minor": 0,
  "metadata": {
    "colab": {
      "name": "sarcasm USE models.ipynb",
      "provenance": [],
      "machine_shape": "hm"
    },
    "kernelspec": {
      "name": "python3",
      "display_name": "Python 3"
    },
    "language_info": {
      "name": "python"
    }
  },
  "cells": [
    {
      "cell_type": "code",
      "metadata": {
        "id": "i3klwo3rSOly"
      },
      "source": [
        "import pandas as pd\n",
        "# from sklearn import model_selection as ms\n",
        "import json\n",
        "from sklearn.model_selection import StratifiedKFold\n",
        "from sklearn.metrics import accuracy_score\n",
        "from sklearn.ensemble import RandomForestClassifier\n",
        "from sklearn.linear_model import RidgeClassifier,LogisticRegression\n",
        "from sklearn.naive_bayes import GaussianNB\n",
        "from sklearn.neural_network import MLPClassifier\n",
        "import numpy as np\n",
        "from sklearn.multiclass import OneVsRestClassifier\n",
        "from sklearn.svm import LinearSVC"
      ],
      "execution_count": null,
      "outputs": []
    },
    {
      "cell_type": "code",
      "metadata": {
        "colab": {
          "base_uri": "https://localhost:8080/"
        },
        "id": "jFU3IQgwScR_",
        "outputId": "9e8e1e1b-d934-4dda-8f08-cbec7063d680"
      },
      "source": [
        "from google.colab import drive\n",
        "drive.mount('/content/drive')"
      ],
      "execution_count": null,
      "outputs": [
        {
          "output_type": "stream",
          "text": [
            "Drive already mounted at /content/drive; to attempt to forcibly remount, call drive.mount(\"/content/drive\", force_remount=True).\n"
          ],
          "name": "stdout"
        }
      ]
    },
    {
      "cell_type": "code",
      "metadata": {
        "id": "CKSkBq8fTURq"
      },
      "source": [
        "df = pd.read_csv('/content/drive/MyDrive/sent_use_690k.csv')"
      ],
      "execution_count": null,
      "outputs": []
    },
    {
      "cell_type": "code",
      "metadata": {
        "id": "jt3eYdDMEFct"
      },
      "source": [
        "df_vp = df[df['label'] == 5].sample(1000).reset_index(drop=True)\n",
        "df_p = df[df['label'] == 4].sample(1000).reset_index(drop=True)\n",
        "df_ne = df[df['label'] == 3].sample(1000).reset_index(drop=True)\n",
        "df_n = df[df['label'] == 2].sample(1000).reset_index(drop=True)\n",
        "df_vn = df[df['label'] == 1].sample(1000).reset_index(drop=True)"
      ],
      "execution_count": null,
      "outputs": []
    },
    {
      "cell_type": "code",
      "metadata": {
        "id": "W1tI8Rm67j0m"
      },
      "source": [
        "df = pd.concat([df_vp,df_p,df_ne,df_n,df_vn],ignore_index=True).sample(frac=1).reset_index(drop=True)"
      ],
      "execution_count": null,
      "outputs": []
    },
    {
      "cell_type": "code",
      "metadata": {
        "colab": {
          "base_uri": "https://localhost:8080/",
          "height": 444
        },
        "id": "T_qJ7kFc7vLO",
        "outputId": "3c09b8f9-304a-42eb-d2e7-39236b4c5f74"
      },
      "source": [
        "df"
      ],
      "execution_count": null,
      "outputs": [
        {
          "output_type": "execute_result",
          "data": {
            "text/html": [
              "<div>\n",
              "<style scoped>\n",
              "    .dataframe tbody tr th:only-of-type {\n",
              "        vertical-align: middle;\n",
              "    }\n",
              "\n",
              "    .dataframe tbody tr th {\n",
              "        vertical-align: top;\n",
              "    }\n",
              "\n",
              "    .dataframe thead th {\n",
              "        text-align: right;\n",
              "    }\n",
              "</style>\n",
              "<table border=\"1\" class=\"dataframe\">\n",
              "  <thead>\n",
              "    <tr style=\"text-align: right;\">\n",
              "      <th></th>\n",
              "      <th>id</th>\n",
              "      <th>label</th>\n",
              "      <th>embeddings</th>\n",
              "      <th>kfold</th>\n",
              "    </tr>\n",
              "  </thead>\n",
              "  <tbody>\n",
              "    <tr>\n",
              "      <th>0</th>\n",
              "      <td>eed774e7dfc383e8c00f7c49f64cb5fd9ae08f64f6c1ee...</td>\n",
              "      <td>5.0</td>\n",
              "      <td>[-0.009865188971161842,-0.0048142122104763985,...</td>\n",
              "      <td>46.0</td>\n",
              "    </tr>\n",
              "    <tr>\n",
              "      <th>1</th>\n",
              "      <td>7ea38247a240d90bf87a9cf0cad74de42c117a617d4e6c...</td>\n",
              "      <td>3.0</td>\n",
              "      <td>[0.004865941125899553,0.010130273178219795,-0....</td>\n",
              "      <td>48.0</td>\n",
              "    </tr>\n",
              "    <tr>\n",
              "      <th>2</th>\n",
              "      <td>93aabf958a39e1736e8151083a21b1c040fd83fb410dcf...</td>\n",
              "      <td>1.0</td>\n",
              "      <td>[0.062471870332956314,0.06932082772254944,-0.0...</td>\n",
              "      <td>48.0</td>\n",
              "    </tr>\n",
              "    <tr>\n",
              "      <th>3</th>\n",
              "      <td>60276591fcd54b589a4d972b359f26735fbd0ab29a67d6...</td>\n",
              "      <td>2.0</td>\n",
              "      <td>[0.04490180313587189,0.04536549374461174,-0.03...</td>\n",
              "      <td>45.0</td>\n",
              "    </tr>\n",
              "    <tr>\n",
              "      <th>4</th>\n",
              "      <td>4934aca5afba6e85e13d7f5e09222d8ee8fec0770f01fe...</td>\n",
              "      <td>5.0</td>\n",
              "      <td>[0.007310839835554361,0.0029883820097893476,0....</td>\n",
              "      <td>45.0</td>\n",
              "    </tr>\n",
              "    <tr>\n",
              "      <th>...</th>\n",
              "      <td>...</td>\n",
              "      <td>...</td>\n",
              "      <td>...</td>\n",
              "      <td>...</td>\n",
              "    </tr>\n",
              "    <tr>\n",
              "      <th>4995</th>\n",
              "      <td>ad7f09c8df1a306228ef996d398e50d70382b645aa6ac0...</td>\n",
              "      <td>5.0</td>\n",
              "      <td>[-0.012337270192801952,0.022855741903185844,-0...</td>\n",
              "      <td>46.0</td>\n",
              "    </tr>\n",
              "    <tr>\n",
              "      <th>4996</th>\n",
              "      <td>cd74de741185b0b5b74248a86f11b2ef8b4463f4f74878...</td>\n",
              "      <td>5.0</td>\n",
              "      <td>[-0.01864706352353096,-0.010123437270522118,0....</td>\n",
              "      <td>48.0</td>\n",
              "    </tr>\n",
              "    <tr>\n",
              "      <th>4997</th>\n",
              "      <td>fd0e6efcda9f51d5d1273fba36f2d8ef8d02dd942df574...</td>\n",
              "      <td>5.0</td>\n",
              "      <td>[-0.013296646066009998,-0.04930303618311882,-0...</td>\n",
              "      <td>48.0</td>\n",
              "    </tr>\n",
              "    <tr>\n",
              "      <th>4998</th>\n",
              "      <td>e0566c8e0d14386425b089eae8efe23a34a7a3312cb8dc...</td>\n",
              "      <td>1.0</td>\n",
              "      <td>[-0.08055581897497177,0.01832742802798748,0.01...</td>\n",
              "      <td>46.0</td>\n",
              "    </tr>\n",
              "    <tr>\n",
              "      <th>4999</th>\n",
              "      <td>e2d2cd37e7e8d34a4e08fff198f0e74c98aa52ec261f65...</td>\n",
              "      <td>3.0</td>\n",
              "      <td>[0.04877820611000061,0.03788718953728676,-0.03...</td>\n",
              "      <td>48.0</td>\n",
              "    </tr>\n",
              "  </tbody>\n",
              "</table>\n",
              "<p>5000 rows × 4 columns</p>\n",
              "</div>"
            ],
            "text/plain": [
              "                                                     id  ...  kfold\n",
              "0     eed774e7dfc383e8c00f7c49f64cb5fd9ae08f64f6c1ee...  ...   46.0\n",
              "1     7ea38247a240d90bf87a9cf0cad74de42c117a617d4e6c...  ...   48.0\n",
              "2     93aabf958a39e1736e8151083a21b1c040fd83fb410dcf...  ...   48.0\n",
              "3     60276591fcd54b589a4d972b359f26735fbd0ab29a67d6...  ...   45.0\n",
              "4     4934aca5afba6e85e13d7f5e09222d8ee8fec0770f01fe...  ...   45.0\n",
              "...                                                 ...  ...    ...\n",
              "4995  ad7f09c8df1a306228ef996d398e50d70382b645aa6ac0...  ...   46.0\n",
              "4996  cd74de741185b0b5b74248a86f11b2ef8b4463f4f74878...  ...   48.0\n",
              "4997  fd0e6efcda9f51d5d1273fba36f2d8ef8d02dd942df574...  ...   48.0\n",
              "4998  e0566c8e0d14386425b089eae8efe23a34a7a3312cb8dc...  ...   46.0\n",
              "4999  e2d2cd37e7e8d34a4e08fff198f0e74c98aa52ec261f65...  ...   48.0\n",
              "\n",
              "[5000 rows x 4 columns]"
            ]
          },
          "metadata": {
            "tags": []
          },
          "execution_count": 42
        }
      ]
    },
    {
      "cell_type": "code",
      "metadata": {
        "colab": {
          "base_uri": "https://localhost:8080/"
        },
        "id": "v_YACcqgS6ic",
        "outputId": "94223f26-c784-402e-d2a9-1298b4d85bf5"
      },
      "source": [
        "skf = RepeatedStratifiedKFold(n_splits=2)\n",
        "for f,(t_,v_) in enumerate(skf.split(X=df,y=df.label.values)):\n",
        "    print(f)"
      ],
      "execution_count": null,
      "outputs": [
        {
          "output_type": "stream",
          "text": [
            "0\n",
            "1\n",
            "2\n",
            "3\n",
            "4\n",
            "5\n",
            "6\n",
            "7\n",
            "8\n",
            "9\n",
            "10\n",
            "11\n",
            "12\n",
            "13\n",
            "14\n",
            "15\n",
            "16\n",
            "17\n",
            "18\n",
            "19\n"
          ],
          "name": "stdout"
        }
      ]
    },
    {
      "cell_type": "code",
      "metadata": {
        "id": "bI6GYJGjTO3k"
      },
      "source": [
        "df = df.drop('Unnamed: 0',axis = 1)\n",
        "df = df.rename({'USE_embed':'embeddings'},axis=1)"
      ],
      "execution_count": null,
      "outputs": []
    },
    {
      "cell_type": "code",
      "metadata": {
        "id": "Z3ZS053dTY-w"
      },
      "source": [
        "df_train = []\n",
        "df_val = []\n",
        "for i in range(5):\n",
        "  df_train.append(df[df['kfold']!=i].reset_index(drop=True))\n",
        "  df_val.append(df[df['kfold']==i].reset_index(drop=True))"
      ],
      "execution_count": null,
      "outputs": []
    },
    {
      "cell_type": "code",
      "metadata": {
        "id": "kjmuT5X5THv-"
      },
      "source": [
        "def prepare_data(i):\n",
        "    \n",
        "    mat_tr = np.matrix([x for x in  df_train[i]['embeddings'].apply(lambda x: json.loads(x))])\n",
        "    mat_ts = np.matrix([x for x in  df_val[i]['embeddings'].apply(lambda x: json.loads(x))])\n",
        "    x_tr= np.squeeze(np.asarray(mat_tr))\n",
        "    x_ts= np.squeeze(np.asarray(mat_ts))\n",
        "    y_tr = df_train[i].label.values\n",
        "    y_ts = df_val[i].label.values\n",
        "    return x_tr,y_tr,x_ts,y_ts"
      ],
      "execution_count": null,
      "outputs": []
    },
    {
      "cell_type": "code",
      "metadata": {
        "id": "aXgXB15_Tgwh"
      },
      "source": [
        "x = df.iloc[0]['embeddings']"
      ],
      "execution_count": null,
      "outputs": []
    },
    {
      "cell_type": "code",
      "metadata": {
        "colab": {
          "base_uri": "https://localhost:8080/"
        },
        "id": "jwtj95-hUYxy",
        "outputId": "37c90387-e7fa-4f4a-dca0-3b8d8a6b7878"
      },
      "source": [
        "type(json.loads(x)[0])"
      ],
      "execution_count": null,
      "outputs": [
        {
          "output_type": "execute_result",
          "data": {
            "text/plain": [
              "list"
            ]
          },
          "metadata": {
            "tags": []
          },
          "execution_count": 12
        }
      ]
    },
    {
      "cell_type": "code",
      "metadata": {
        "id": "43N6nuSWSJoD"
      },
      "source": [
        "class Model:\n",
        "  def __init__(self,file,models):\n",
        "    self.models = models\n",
        "    df = pd.read_csv(file)\n",
        "    df = df.drop('Unnamed: 0',axis = 1)\n",
        "    df = df.rename({'USE_embed':'embeddings'},axis=1)\n",
        "    df_vp = df[df['label'] == 5].sample(1000).reset_index(drop=True)\n",
        "    df_p = df[df['label'] == 4].sample(1000).reset_index(drop=True)\n",
        "    df_ne = df[df['label'] == 3].sample(1000).reset_index(drop=True)\n",
        "    df_n = df[df['label'] == 2].sample(1000).reset_index(drop=True)\n",
        "    df_vn = df[df['label'] == 1].sample(1000).reset_index(drop=True)\n",
        "    df = pd.concat([df_vp,df_p,df_ne,df_n,df_vn],ignore_index=True).sample(frac=1).reset_index(drop=True)\n",
        "    skf = StratifiedKFold(n_splits=5)\n",
        "    for f,(t_,v_) in enumerate(skf.split(X=df,y=df.label.values)):\n",
        "       df.loc[v_,'kfold'] =f\n",
        "    self.dfs_train = [df[df.kfold != f].reset_index(drop=True) for f in range(0,5)]\n",
        "    self.dfs_valid = [df[df.kfold == f].reset_index(drop=True) for f in range(0,5)]\n",
        "  \n",
        "\n",
        "  def prepare_data(self,i):\n",
        "    \n",
        "    mat_tr = np.matrix([x for x in  self.dfs_train[i]['embeddings'].apply(lambda x: json.loads(x))])\n",
        "    mat_ts = np.matrix([x for x in  self.dfs_valid[i]['embeddings'].apply(lambda x: json.loads(x))])\n",
        "    x_tr= np.squeeze(np.asarray(mat_tr))\n",
        "    x_ts= np.squeeze(np.asarray(mat_ts))\n",
        "    y_tr = self.dfs_train[i].label.values\n",
        "    y_ts = self.dfs_valid[i].label.values\n",
        "    return x_tr,y_tr,x_ts,y_ts\n",
        "  \n",
        "  def run_models(self):\n",
        "    self.all = {}\n",
        "    for mod in self.models:\n",
        "      self.all[str(mod)] = self.pass_model(mod)\n",
        "    \n",
        "  def get_all(self):\n",
        "    return self.all\n",
        "    \n",
        "  def pass_model(self,mod):\n",
        "    acc = []\n",
        "    for i in range(0,len(self.dfs_train)):\n",
        "      x_tr,y_tr,x_ts,y_ts = self.prepare_data(i)\n",
        "      acc.append(self.train(mod,x_tr,y_tr,x_ts,y_ts))\n",
        "    return acc\n",
        "\n",
        "  def train(self,model,x_tr,y_tr,x_ts,y_ts):\n",
        "    if model == MLPClassifier:\n",
        "      mod = model(early_stopping =True)\n",
        "    else:\n",
        "      mod = model()\n",
        "\n",
        "    mod = OneVsRestClassifier(mod)\n",
        "    mod.fit(x_tr,y_tr)\n",
        "    return accuracy_score(y_ts,mod.predict(x_ts))\n"
      ],
      "execution_count": null,
      "outputs": []
    },
    {
      "cell_type": "code",
      "metadata": {
        "id": "s7fDB10YSxN_"
      },
      "source": [
        "m = Model('/content/drive/MyDrive/sent_use_690k.csv',[LogisticRegression,GaussianNB,MLPClassifier,RidgeClassifier])"
      ],
      "execution_count": null,
      "outputs": []
    },
    {
      "cell_type": "code",
      "metadata": {
        "id": "Dwev5qSTVkHu"
      },
      "source": [
        "m.run_models()"
      ],
      "execution_count": null,
      "outputs": []
    },
    {
      "cell_type": "code",
      "metadata": {
        "id": "4JQn08wYVtYV"
      },
      "source": [
        "x = m.get_all()"
      ],
      "execution_count": null,
      "outputs": []
    },
    {
      "cell_type": "code",
      "metadata": {
        "id": "DwM9LR1ZZ-8l"
      },
      "source": [
        "with open('/content/drive/MyDrive/sent_use_ovr_accuracy.txt','w') as f:\n",
        "  f.write(str(x))"
      ],
      "execution_count": null,
      "outputs": []
    },
    {
      "cell_type": "code",
      "metadata": {
        "id": "sAJF4k1j9Gqm"
      },
      "source": [
        "dfs_train = [df[df.kfold != f].reset_index(drop=True) for f in range(0,5)]\n",
        "dfs_valid = [df[df.kfold == f].reset_index(drop=True) for f in range(0,5)]\n",
        "  "
      ],
      "execution_count": null,
      "outputs": []
    },
    {
      "cell_type": "code",
      "metadata": {
        "id": "IbcQ8zxLS81R"
      },
      "source": [
        "skf = RepeatedStratifiedKFold(n_splits=5)\n",
        "for f,(t_,v_) in enumerate(skf.split(X=df,y=df.label.values)):\n",
        "    df.loc[v_,'kfold'] =f"
      ],
      "execution_count": null,
      "outputs": []
    },
    {
      "cell_type": "code",
      "metadata": {
        "id": "Hu8ODy1N8_xR"
      },
      "source": [
        ""
      ],
      "execution_count": null,
      "outputs": []
    },
    {
      "cell_type": "code",
      "metadata": {
        "colab": {
          "base_uri": "https://localhost:8080/",
          "height": 382
        },
        "id": "naKfpdxrdyS2",
        "outputId": "032c2e1c-8dea-4689-d730-7b8312e0352a"
      },
      "source": [
        "m = Model('/content/drive/MyDrive/sar_use_data.csv',[GaussianNB,MLPClassifier])"
      ],
      "execution_count": null,
      "outputs": [
        {
          "output_type": "error",
          "ename": "FileNotFoundError",
          "evalue": "ignored",
          "traceback": [
            "\u001b[0;31m---------------------------------------------------------------------------\u001b[0m",
            "\u001b[0;31mFileNotFoundError\u001b[0m                         Traceback (most recent call last)",
            "\u001b[0;32m<ipython-input-48-e921ce3be80c>\u001b[0m in \u001b[0;36m<module>\u001b[0;34m()\u001b[0m\n\u001b[0;32m----> 1\u001b[0;31m \u001b[0mm\u001b[0m \u001b[0;34m=\u001b[0m \u001b[0mModel\u001b[0m\u001b[0;34m(\u001b[0m\u001b[0;34m'/content/drive/MyDrive/sar_use_data.csv'\u001b[0m\u001b[0;34m,\u001b[0m\u001b[0;34m[\u001b[0m\u001b[0mGaussianNB\u001b[0m\u001b[0;34m,\u001b[0m\u001b[0mMLPClassifier\u001b[0m\u001b[0;34m]\u001b[0m\u001b[0;34m)\u001b[0m\u001b[0;34m\u001b[0m\u001b[0;34m\u001b[0m\u001b[0m\n\u001b[0m",
            "\u001b[0;32m<ipython-input-47-03cbf2f50684>\u001b[0m in \u001b[0;36m__init__\u001b[0;34m(self, file, models)\u001b[0m\n\u001b[1;32m      2\u001b[0m   \u001b[0;32mdef\u001b[0m \u001b[0m__init__\u001b[0m\u001b[0;34m(\u001b[0m\u001b[0mself\u001b[0m\u001b[0;34m,\u001b[0m\u001b[0mfile\u001b[0m\u001b[0;34m,\u001b[0m\u001b[0mmodels\u001b[0m\u001b[0;34m)\u001b[0m\u001b[0;34m:\u001b[0m\u001b[0;34m\u001b[0m\u001b[0;34m\u001b[0m\u001b[0m\n\u001b[1;32m      3\u001b[0m     \u001b[0mself\u001b[0m\u001b[0;34m.\u001b[0m\u001b[0mmodels\u001b[0m \u001b[0;34m=\u001b[0m \u001b[0mmodels\u001b[0m\u001b[0;34m\u001b[0m\u001b[0;34m\u001b[0m\u001b[0m\n\u001b[0;32m----> 4\u001b[0;31m     \u001b[0mdf\u001b[0m \u001b[0;34m=\u001b[0m \u001b[0mpd\u001b[0m\u001b[0;34m.\u001b[0m\u001b[0mread_csv\u001b[0m\u001b[0;34m(\u001b[0m\u001b[0mfile\u001b[0m\u001b[0;34m)\u001b[0m\u001b[0;34m\u001b[0m\u001b[0;34m\u001b[0m\u001b[0m\n\u001b[0m\u001b[1;32m      5\u001b[0m     \u001b[0mdf\u001b[0m \u001b[0;34m=\u001b[0m \u001b[0mdf\u001b[0m\u001b[0;34m.\u001b[0m\u001b[0mdrop\u001b[0m\u001b[0;34m(\u001b[0m\u001b[0;34m'Unnamed: 0'\u001b[0m\u001b[0;34m,\u001b[0m\u001b[0maxis\u001b[0m \u001b[0;34m=\u001b[0m \u001b[0;36m1\u001b[0m\u001b[0;34m)\u001b[0m\u001b[0;34m\u001b[0m\u001b[0;34m\u001b[0m\u001b[0m\n\u001b[1;32m      6\u001b[0m     \u001b[0mdf\u001b[0m \u001b[0;34m=\u001b[0m \u001b[0mdf\u001b[0m\u001b[0;34m.\u001b[0m\u001b[0mrename\u001b[0m\u001b[0;34m(\u001b[0m\u001b[0;34m{\u001b[0m\u001b[0;34m'USE_embed'\u001b[0m\u001b[0;34m:\u001b[0m\u001b[0;34m'embeddings'\u001b[0m\u001b[0;34m}\u001b[0m\u001b[0;34m,\u001b[0m\u001b[0maxis\u001b[0m\u001b[0;34m=\u001b[0m\u001b[0;36m1\u001b[0m\u001b[0;34m)\u001b[0m\u001b[0;34m\u001b[0m\u001b[0;34m\u001b[0m\u001b[0m\n",
            "\u001b[0;32m/usr/local/lib/python3.7/dist-packages/pandas/io/parsers.py\u001b[0m in \u001b[0;36mread_csv\u001b[0;34m(filepath_or_buffer, sep, delimiter, header, names, index_col, usecols, squeeze, prefix, mangle_dupe_cols, dtype, engine, converters, true_values, false_values, skipinitialspace, skiprows, skipfooter, nrows, na_values, keep_default_na, na_filter, verbose, skip_blank_lines, parse_dates, infer_datetime_format, keep_date_col, date_parser, dayfirst, cache_dates, iterator, chunksize, compression, thousands, decimal, lineterminator, quotechar, quoting, doublequote, escapechar, comment, encoding, dialect, error_bad_lines, warn_bad_lines, delim_whitespace, low_memory, memory_map, float_precision)\u001b[0m\n\u001b[1;32m    686\u001b[0m     )\n\u001b[1;32m    687\u001b[0m \u001b[0;34m\u001b[0m\u001b[0m\n\u001b[0;32m--> 688\u001b[0;31m     \u001b[0;32mreturn\u001b[0m \u001b[0m_read\u001b[0m\u001b[0;34m(\u001b[0m\u001b[0mfilepath_or_buffer\u001b[0m\u001b[0;34m,\u001b[0m \u001b[0mkwds\u001b[0m\u001b[0;34m)\u001b[0m\u001b[0;34m\u001b[0m\u001b[0;34m\u001b[0m\u001b[0m\n\u001b[0m\u001b[1;32m    689\u001b[0m \u001b[0;34m\u001b[0m\u001b[0m\n\u001b[1;32m    690\u001b[0m \u001b[0;34m\u001b[0m\u001b[0m\n",
            "\u001b[0;32m/usr/local/lib/python3.7/dist-packages/pandas/io/parsers.py\u001b[0m in \u001b[0;36m_read\u001b[0;34m(filepath_or_buffer, kwds)\u001b[0m\n\u001b[1;32m    452\u001b[0m \u001b[0;34m\u001b[0m\u001b[0m\n\u001b[1;32m    453\u001b[0m     \u001b[0;31m# Create the parser.\u001b[0m\u001b[0;34m\u001b[0m\u001b[0;34m\u001b[0m\u001b[0;34m\u001b[0m\u001b[0m\n\u001b[0;32m--> 454\u001b[0;31m     \u001b[0mparser\u001b[0m \u001b[0;34m=\u001b[0m \u001b[0mTextFileReader\u001b[0m\u001b[0;34m(\u001b[0m\u001b[0mfp_or_buf\u001b[0m\u001b[0;34m,\u001b[0m \u001b[0;34m**\u001b[0m\u001b[0mkwds\u001b[0m\u001b[0;34m)\u001b[0m\u001b[0;34m\u001b[0m\u001b[0;34m\u001b[0m\u001b[0m\n\u001b[0m\u001b[1;32m    455\u001b[0m \u001b[0;34m\u001b[0m\u001b[0m\n\u001b[1;32m    456\u001b[0m     \u001b[0;32mif\u001b[0m \u001b[0mchunksize\u001b[0m \u001b[0;32mor\u001b[0m \u001b[0miterator\u001b[0m\u001b[0;34m:\u001b[0m\u001b[0;34m\u001b[0m\u001b[0;34m\u001b[0m\u001b[0m\n",
            "\u001b[0;32m/usr/local/lib/python3.7/dist-packages/pandas/io/parsers.py\u001b[0m in \u001b[0;36m__init__\u001b[0;34m(self, f, engine, **kwds)\u001b[0m\n\u001b[1;32m    946\u001b[0m             \u001b[0mself\u001b[0m\u001b[0;34m.\u001b[0m\u001b[0moptions\u001b[0m\u001b[0;34m[\u001b[0m\u001b[0;34m\"has_index_names\"\u001b[0m\u001b[0;34m]\u001b[0m \u001b[0;34m=\u001b[0m \u001b[0mkwds\u001b[0m\u001b[0;34m[\u001b[0m\u001b[0;34m\"has_index_names\"\u001b[0m\u001b[0;34m]\u001b[0m\u001b[0;34m\u001b[0m\u001b[0;34m\u001b[0m\u001b[0m\n\u001b[1;32m    947\u001b[0m \u001b[0;34m\u001b[0m\u001b[0m\n\u001b[0;32m--> 948\u001b[0;31m         \u001b[0mself\u001b[0m\u001b[0;34m.\u001b[0m\u001b[0m_make_engine\u001b[0m\u001b[0;34m(\u001b[0m\u001b[0mself\u001b[0m\u001b[0;34m.\u001b[0m\u001b[0mengine\u001b[0m\u001b[0;34m)\u001b[0m\u001b[0;34m\u001b[0m\u001b[0;34m\u001b[0m\u001b[0m\n\u001b[0m\u001b[1;32m    949\u001b[0m \u001b[0;34m\u001b[0m\u001b[0m\n\u001b[1;32m    950\u001b[0m     \u001b[0;32mdef\u001b[0m \u001b[0mclose\u001b[0m\u001b[0;34m(\u001b[0m\u001b[0mself\u001b[0m\u001b[0;34m)\u001b[0m\u001b[0;34m:\u001b[0m\u001b[0;34m\u001b[0m\u001b[0;34m\u001b[0m\u001b[0m\n",
            "\u001b[0;32m/usr/local/lib/python3.7/dist-packages/pandas/io/parsers.py\u001b[0m in \u001b[0;36m_make_engine\u001b[0;34m(self, engine)\u001b[0m\n\u001b[1;32m   1178\u001b[0m     \u001b[0;32mdef\u001b[0m \u001b[0m_make_engine\u001b[0m\u001b[0;34m(\u001b[0m\u001b[0mself\u001b[0m\u001b[0;34m,\u001b[0m \u001b[0mengine\u001b[0m\u001b[0;34m=\u001b[0m\u001b[0;34m\"c\"\u001b[0m\u001b[0;34m)\u001b[0m\u001b[0;34m:\u001b[0m\u001b[0;34m\u001b[0m\u001b[0;34m\u001b[0m\u001b[0m\n\u001b[1;32m   1179\u001b[0m         \u001b[0;32mif\u001b[0m \u001b[0mengine\u001b[0m \u001b[0;34m==\u001b[0m \u001b[0;34m\"c\"\u001b[0m\u001b[0;34m:\u001b[0m\u001b[0;34m\u001b[0m\u001b[0;34m\u001b[0m\u001b[0m\n\u001b[0;32m-> 1180\u001b[0;31m             \u001b[0mself\u001b[0m\u001b[0;34m.\u001b[0m\u001b[0m_engine\u001b[0m \u001b[0;34m=\u001b[0m \u001b[0mCParserWrapper\u001b[0m\u001b[0;34m(\u001b[0m\u001b[0mself\u001b[0m\u001b[0;34m.\u001b[0m\u001b[0mf\u001b[0m\u001b[0;34m,\u001b[0m \u001b[0;34m**\u001b[0m\u001b[0mself\u001b[0m\u001b[0;34m.\u001b[0m\u001b[0moptions\u001b[0m\u001b[0;34m)\u001b[0m\u001b[0;34m\u001b[0m\u001b[0;34m\u001b[0m\u001b[0m\n\u001b[0m\u001b[1;32m   1181\u001b[0m         \u001b[0;32melse\u001b[0m\u001b[0;34m:\u001b[0m\u001b[0;34m\u001b[0m\u001b[0;34m\u001b[0m\u001b[0m\n\u001b[1;32m   1182\u001b[0m             \u001b[0;32mif\u001b[0m \u001b[0mengine\u001b[0m \u001b[0;34m==\u001b[0m \u001b[0;34m\"python\"\u001b[0m\u001b[0;34m:\u001b[0m\u001b[0;34m\u001b[0m\u001b[0;34m\u001b[0m\u001b[0m\n",
            "\u001b[0;32m/usr/local/lib/python3.7/dist-packages/pandas/io/parsers.py\u001b[0m in \u001b[0;36m__init__\u001b[0;34m(self, src, **kwds)\u001b[0m\n\u001b[1;32m   2008\u001b[0m         \u001b[0mkwds\u001b[0m\u001b[0;34m[\u001b[0m\u001b[0;34m\"usecols\"\u001b[0m\u001b[0;34m]\u001b[0m \u001b[0;34m=\u001b[0m \u001b[0mself\u001b[0m\u001b[0;34m.\u001b[0m\u001b[0musecols\u001b[0m\u001b[0;34m\u001b[0m\u001b[0;34m\u001b[0m\u001b[0m\n\u001b[1;32m   2009\u001b[0m \u001b[0;34m\u001b[0m\u001b[0m\n\u001b[0;32m-> 2010\u001b[0;31m         \u001b[0mself\u001b[0m\u001b[0;34m.\u001b[0m\u001b[0m_reader\u001b[0m \u001b[0;34m=\u001b[0m \u001b[0mparsers\u001b[0m\u001b[0;34m.\u001b[0m\u001b[0mTextReader\u001b[0m\u001b[0;34m(\u001b[0m\u001b[0msrc\u001b[0m\u001b[0;34m,\u001b[0m \u001b[0;34m**\u001b[0m\u001b[0mkwds\u001b[0m\u001b[0;34m)\u001b[0m\u001b[0;34m\u001b[0m\u001b[0;34m\u001b[0m\u001b[0m\n\u001b[0m\u001b[1;32m   2011\u001b[0m         \u001b[0mself\u001b[0m\u001b[0;34m.\u001b[0m\u001b[0munnamed_cols\u001b[0m \u001b[0;34m=\u001b[0m \u001b[0mself\u001b[0m\u001b[0;34m.\u001b[0m\u001b[0m_reader\u001b[0m\u001b[0;34m.\u001b[0m\u001b[0munnamed_cols\u001b[0m\u001b[0;34m\u001b[0m\u001b[0;34m\u001b[0m\u001b[0m\n\u001b[1;32m   2012\u001b[0m \u001b[0;34m\u001b[0m\u001b[0m\n",
            "\u001b[0;32mpandas/_libs/parsers.pyx\u001b[0m in \u001b[0;36mpandas._libs.parsers.TextReader.__cinit__\u001b[0;34m()\u001b[0m\n",
            "\u001b[0;32mpandas/_libs/parsers.pyx\u001b[0m in \u001b[0;36mpandas._libs.parsers.TextReader._setup_parser_source\u001b[0;34m()\u001b[0m\n",
            "\u001b[0;31mFileNotFoundError\u001b[0m: [Errno 2] No such file or directory: '/content/drive/MyDrive/sar_use_data.csv'"
          ]
        }
      ]
    },
    {
      "cell_type": "code",
      "metadata": {
        "id": "U7lB7NwtTAVg"
      },
      "source": [
        "with open('/content/drive/MyDrive/sarcasm_use_accuracy.txt') as f:\n",
        "  f.write(m.get_all())"
      ],
      "execution_count": null,
      "outputs": []
    },
    {
      "cell_type": "code",
      "metadata": {
        "id": "OgDQ0SJtlmFt"
      },
      "source": [
        "x = prepare_data(0)"
      ],
      "execution_count": null,
      "outputs": []
    },
    {
      "cell_type": "code",
      "metadata": {
        "id": "9RSRRDr78omt"
      },
      "source": [
        "x1,y1,x2,y2 = x"
      ],
      "execution_count": null,
      "outputs": []
    },
    {
      "cell_type": "code",
      "metadata": {
        "colab": {
          "base_uri": "https://localhost:8080/"
        },
        "id": "HXun3zMq8uEE",
        "outputId": "737908dd-ab9d-41a2-ef4e-9d17a50bdc0d"
      },
      "source": [
        "x2.shape"
      ],
      "execution_count": null,
      "outputs": [
        {
          "output_type": "execute_result",
          "data": {
            "text/plain": [
              "(0,)"
            ]
          },
          "metadata": {
            "tags": []
          },
          "execution_count": 41
        }
      ]
    }
  ]
}