{
  "nbformat": 4,
  "nbformat_minor": 0,
  "metadata": {
    "colab": {
      "name": "sentiment USE models.ipynb",
      "provenance": [],
      "collapsed_sections": []
    },
    "kernelspec": {
      "name": "python3",
      "display_name": "Python 3"
    },
    "language_info": {
      "name": "python"
    },
    "accelerator": "TPU"
  },
  "cells": [
    {
      "cell_type": "code",
      "metadata": {
        "colab": {
          "base_uri": "https://localhost:8080/"
        },
        "id": "w1SX2iPRwR8m",
        "outputId": "8e072d89-cfe1-430e-bf04-40d22f20ae94"
      },
      "source": [
        "import tensorflow as tf\n",
        "from google.colab import drive\n",
        "drive.mount('/content/drive',force_remount=True)\n",
        "import json\n",
        "import numpy as np\n",
        "import pandas as pd\n",
        "from sklearn.preprocessing import LabelEncoder\n",
        "from keras.utils import np_utils\n",
        "from keras.callbacks import EarlyStopping\n",
        "from sklearn import model_selection"
      ],
      "execution_count": null,
      "outputs": [
        {
          "output_type": "stream",
          "text": [
            "Mounted at /content/drive\n"
          ],
          "name": "stdout"
        }
      ]
    },
    {
      "cell_type": "code",
      "metadata": {
        "colab": {
          "base_uri": "https://localhost:8080/"
        },
        "id": "DT1--51ywkk1",
        "outputId": "038f747e-0e65-4b32-d373-71ba5703ab3f"
      },
      "source": [
        "import os\n",
        "import pprint # for pretty printing our device stats\n",
        "\n",
        "if 'COLAB_TPU_ADDR' not in os.environ:\n",
        "    print('ERROR: Not connected to a TPU runtime; please see the first cell in this notebook for instructions!')\n",
        "else:\n",
        "    tpu_address = 'grpc://' + os.environ['COLAB_TPU_ADDR']\n",
        "    print ('TPU address is', tpu_address)\n",
        "\n",
        "    with tf.compat.v1.Session(tpu_address) as session:\n",
        "      devices = session.list_devices()\n",
        "\n",
        "    print('TPU devices:')\n",
        "    pprint.pprint(devices)"
      ],
      "execution_count": null,
      "outputs": [
        {
          "output_type": "stream",
          "text": [
            "TPU address is grpc://10.78.232.154:8470\n",
            "TPU devices:\n",
            "[_DeviceAttributes(/job:tpu_worker/replica:0/task:0/device:CPU:0, CPU, -1, 1542202596935461652),\n",
            " _DeviceAttributes(/job:tpu_worker/replica:0/task:0/device:TPU_SYSTEM:0, TPU_SYSTEM, 8589934592, -6114406200993403526),\n",
            " _DeviceAttributes(/job:tpu_worker/replica:0/task:0/device:XLA_CPU:0, XLA_CPU, 17179869184, 8976644292709141067),\n",
            " _DeviceAttributes(/job:tpu_worker/replica:0/task:0/device:TPU:0, TPU, 17179869184, 2157412342804441065),\n",
            " _DeviceAttributes(/job:tpu_worker/replica:0/task:0/device:TPU:1, TPU, 17179869184, 8643903737883183801),\n",
            " _DeviceAttributes(/job:tpu_worker/replica:0/task:0/device:TPU:2, TPU, 17179869184, 5266192964091606080),\n",
            " _DeviceAttributes(/job:tpu_worker/replica:0/task:0/device:TPU:3, TPU, 17179869184, -132196482446260716),\n",
            " _DeviceAttributes(/job:tpu_worker/replica:0/task:0/device:TPU:4, TPU, 17179869184, 5136533433435178530),\n",
            " _DeviceAttributes(/job:tpu_worker/replica:0/task:0/device:TPU:5, TPU, 17179869184, -4149936642035943164),\n",
            " _DeviceAttributes(/job:tpu_worker/replica:0/task:0/device:TPU:6, TPU, 17179869184, -8296849552279224557),\n",
            " _DeviceAttributes(/job:tpu_worker/replica:0/task:0/device:TPU:7, TPU, 17179869184, 1714737747053098809)]\n"
          ],
          "name": "stdout"
        }
      ]
    },
    {
      "cell_type": "code",
      "metadata": {
        "colab": {
          "base_uri": "https://localhost:8080/"
        },
        "id": "dWBG-REKwmAl",
        "outputId": "35fe5f1f-54c5-4897-c1eb-aa4426bd113e"
      },
      "source": [
        "resolver = tf.distribute.cluster_resolver.TPUClusterResolver(tpu='')\n",
        "tf.config.experimental_connect_to_cluster(resolver)\n",
        "# This is the TPU initialization code that has to be at the beginning.\n",
        "tf.tpu.experimental.initialize_tpu_system(resolver)\n",
        "print(\"All devices: \", tf.config.list_logical_devices('TPU'))\n",
        "strategy = tf.distribute.TPUStrategy(resolver)"
      ],
      "execution_count": null,
      "outputs": [
        {
          "output_type": "stream",
          "text": [
            "INFO:tensorflow:Initializing the TPU system: grpc://10.78.232.154:8470\n"
          ],
          "name": "stdout"
        },
        {
          "output_type": "stream",
          "text": [
            "INFO:tensorflow:Initializing the TPU system: grpc://10.78.232.154:8470\n"
          ],
          "name": "stderr"
        },
        {
          "output_type": "stream",
          "text": [
            "INFO:tensorflow:Clearing out eager caches\n"
          ],
          "name": "stdout"
        },
        {
          "output_type": "stream",
          "text": [
            "INFO:tensorflow:Clearing out eager caches\n"
          ],
          "name": "stderr"
        },
        {
          "output_type": "stream",
          "text": [
            "INFO:tensorflow:Finished initializing TPU system.\n"
          ],
          "name": "stdout"
        },
        {
          "output_type": "stream",
          "text": [
            "INFO:tensorflow:Finished initializing TPU system.\n"
          ],
          "name": "stderr"
        },
        {
          "output_type": "stream",
          "text": [
            "All devices:  [LogicalDevice(name='/job:worker/replica:0/task:0/device:TPU:7', device_type='TPU'), LogicalDevice(name='/job:worker/replica:0/task:0/device:TPU:6', device_type='TPU'), LogicalDevice(name='/job:worker/replica:0/task:0/device:TPU:5', device_type='TPU'), LogicalDevice(name='/job:worker/replica:0/task:0/device:TPU:4', device_type='TPU'), LogicalDevice(name='/job:worker/replica:0/task:0/device:TPU:3', device_type='TPU'), LogicalDevice(name='/job:worker/replica:0/task:0/device:TPU:0', device_type='TPU'), LogicalDevice(name='/job:worker/replica:0/task:0/device:TPU:1', device_type='TPU'), LogicalDevice(name='/job:worker/replica:0/task:0/device:TPU:2', device_type='TPU')]\n",
            "INFO:tensorflow:Found TPU system:\n"
          ],
          "name": "stdout"
        },
        {
          "output_type": "stream",
          "text": [
            "INFO:tensorflow:Found TPU system:\n"
          ],
          "name": "stderr"
        },
        {
          "output_type": "stream",
          "text": [
            "INFO:tensorflow:*** Num TPU Cores: 8\n"
          ],
          "name": "stdout"
        },
        {
          "output_type": "stream",
          "text": [
            "INFO:tensorflow:*** Num TPU Cores: 8\n"
          ],
          "name": "stderr"
        },
        {
          "output_type": "stream",
          "text": [
            "INFO:tensorflow:*** Num TPU Workers: 1\n"
          ],
          "name": "stdout"
        },
        {
          "output_type": "stream",
          "text": [
            "INFO:tensorflow:*** Num TPU Workers: 1\n"
          ],
          "name": "stderr"
        },
        {
          "output_type": "stream",
          "text": [
            "INFO:tensorflow:*** Num TPU Cores Per Worker: 8\n"
          ],
          "name": "stdout"
        },
        {
          "output_type": "stream",
          "text": [
            "INFO:tensorflow:*** Num TPU Cores Per Worker: 8\n"
          ],
          "name": "stderr"
        },
        {
          "output_type": "stream",
          "text": [
            "INFO:tensorflow:*** Available Device: _DeviceAttributes(/job:localhost/replica:0/task:0/device:CPU:0, CPU, 0, 0)\n"
          ],
          "name": "stdout"
        },
        {
          "output_type": "stream",
          "text": [
            "INFO:tensorflow:*** Available Device: _DeviceAttributes(/job:localhost/replica:0/task:0/device:CPU:0, CPU, 0, 0)\n"
          ],
          "name": "stderr"
        },
        {
          "output_type": "stream",
          "text": [
            "INFO:tensorflow:*** Available Device: _DeviceAttributes(/job:worker/replica:0/task:0/device:CPU:0, CPU, 0, 0)\n"
          ],
          "name": "stdout"
        },
        {
          "output_type": "stream",
          "text": [
            "INFO:tensorflow:*** Available Device: _DeviceAttributes(/job:worker/replica:0/task:0/device:CPU:0, CPU, 0, 0)\n"
          ],
          "name": "stderr"
        },
        {
          "output_type": "stream",
          "text": [
            "INFO:tensorflow:*** Available Device: _DeviceAttributes(/job:worker/replica:0/task:0/device:TPU:0, TPU, 0, 0)\n"
          ],
          "name": "stdout"
        },
        {
          "output_type": "stream",
          "text": [
            "INFO:tensorflow:*** Available Device: _DeviceAttributes(/job:worker/replica:0/task:0/device:TPU:0, TPU, 0, 0)\n"
          ],
          "name": "stderr"
        },
        {
          "output_type": "stream",
          "text": [
            "INFO:tensorflow:*** Available Device: _DeviceAttributes(/job:worker/replica:0/task:0/device:TPU:1, TPU, 0, 0)\n"
          ],
          "name": "stdout"
        },
        {
          "output_type": "stream",
          "text": [
            "INFO:tensorflow:*** Available Device: _DeviceAttributes(/job:worker/replica:0/task:0/device:TPU:1, TPU, 0, 0)\n"
          ],
          "name": "stderr"
        },
        {
          "output_type": "stream",
          "text": [
            "INFO:tensorflow:*** Available Device: _DeviceAttributes(/job:worker/replica:0/task:0/device:TPU:2, TPU, 0, 0)\n"
          ],
          "name": "stdout"
        },
        {
          "output_type": "stream",
          "text": [
            "INFO:tensorflow:*** Available Device: _DeviceAttributes(/job:worker/replica:0/task:0/device:TPU:2, TPU, 0, 0)\n"
          ],
          "name": "stderr"
        },
        {
          "output_type": "stream",
          "text": [
            "INFO:tensorflow:*** Available Device: _DeviceAttributes(/job:worker/replica:0/task:0/device:TPU:3, TPU, 0, 0)\n"
          ],
          "name": "stdout"
        },
        {
          "output_type": "stream",
          "text": [
            "INFO:tensorflow:*** Available Device: _DeviceAttributes(/job:worker/replica:0/task:0/device:TPU:3, TPU, 0, 0)\n"
          ],
          "name": "stderr"
        },
        {
          "output_type": "stream",
          "text": [
            "INFO:tensorflow:*** Available Device: _DeviceAttributes(/job:worker/replica:0/task:0/device:TPU:4, TPU, 0, 0)\n"
          ],
          "name": "stdout"
        },
        {
          "output_type": "stream",
          "text": [
            "INFO:tensorflow:*** Available Device: _DeviceAttributes(/job:worker/replica:0/task:0/device:TPU:4, TPU, 0, 0)\n"
          ],
          "name": "stderr"
        },
        {
          "output_type": "stream",
          "text": [
            "INFO:tensorflow:*** Available Device: _DeviceAttributes(/job:worker/replica:0/task:0/device:TPU:5, TPU, 0, 0)\n"
          ],
          "name": "stdout"
        },
        {
          "output_type": "stream",
          "text": [
            "INFO:tensorflow:*** Available Device: _DeviceAttributes(/job:worker/replica:0/task:0/device:TPU:5, TPU, 0, 0)\n"
          ],
          "name": "stderr"
        },
        {
          "output_type": "stream",
          "text": [
            "INFO:tensorflow:*** Available Device: _DeviceAttributes(/job:worker/replica:0/task:0/device:TPU:6, TPU, 0, 0)\n"
          ],
          "name": "stdout"
        },
        {
          "output_type": "stream",
          "text": [
            "INFO:tensorflow:*** Available Device: _DeviceAttributes(/job:worker/replica:0/task:0/device:TPU:6, TPU, 0, 0)\n"
          ],
          "name": "stderr"
        },
        {
          "output_type": "stream",
          "text": [
            "INFO:tensorflow:*** Available Device: _DeviceAttributes(/job:worker/replica:0/task:0/device:TPU:7, TPU, 0, 0)\n"
          ],
          "name": "stdout"
        },
        {
          "output_type": "stream",
          "text": [
            "INFO:tensorflow:*** Available Device: _DeviceAttributes(/job:worker/replica:0/task:0/device:TPU:7, TPU, 0, 0)\n"
          ],
          "name": "stderr"
        },
        {
          "output_type": "stream",
          "text": [
            "INFO:tensorflow:*** Available Device: _DeviceAttributes(/job:worker/replica:0/task:0/device:TPU_SYSTEM:0, TPU_SYSTEM, 0, 0)\n"
          ],
          "name": "stdout"
        },
        {
          "output_type": "stream",
          "text": [
            "INFO:tensorflow:*** Available Device: _DeviceAttributes(/job:worker/replica:0/task:0/device:TPU_SYSTEM:0, TPU_SYSTEM, 0, 0)\n"
          ],
          "name": "stderr"
        },
        {
          "output_type": "stream",
          "text": [
            "INFO:tensorflow:*** Available Device: _DeviceAttributes(/job:worker/replica:0/task:0/device:XLA_CPU:0, XLA_CPU, 0, 0)\n"
          ],
          "name": "stdout"
        },
        {
          "output_type": "stream",
          "text": [
            "INFO:tensorflow:*** Available Device: _DeviceAttributes(/job:worker/replica:0/task:0/device:XLA_CPU:0, XLA_CPU, 0, 0)\n"
          ],
          "name": "stderr"
        }
      ]
    },
    {
      "cell_type": "code",
      "metadata": {
        "id": "nqNchlQtwpRr"
      },
      "source": [
        "class Conv1D:\n",
        "  def __init__(self):\n",
        "    \n",
        "    self.encoder = LabelEncoder()\n",
        "    self.summary = []\n",
        "\n",
        "  def read_dataset(self,path):\n",
        "    df = pd.read_csv(path)\n",
        "    if 'USE_embed' in list(df.columns):\n",
        "      df = df.drop('Unnamed: 0',axis = 1)\n",
        "      df = df.rename({'USE_embed':'embeddings'},axis = 1)\n",
        "    elif 'ELEC_embed' in list(df.columns):\n",
        "      df = df.rename({'ELEC_embed':'embeddings'},axis = 1)\n",
        "    \n",
        "    d = {1:'VNeg',2:'Neg',3:'Neu',4:'Pos',5:'VPos'}\n",
        "    df['label'] = df['label'].apply(lambda x: d[x])\n",
        "\n",
        "    skf = model_selection.StratifiedKFold(n_splits = 5)\n",
        "\n",
        "    for f, (t_,v_) in enumerate(skf.split(X=df,y=df.label.values)):\n",
        "        df.loc[v_,\"kfold\"] = f\n",
        "\n",
        "    self.dfs_train = [df[df['kfold']!=f] for f in range(0,5)]\n",
        "    self.dfs_valid = [df[df['kfold']==f] for f in range(0,5)]\n",
        "    \n",
        "  def process(self,model):\n",
        "    self.history = self.run_train(model)\n",
        "    return {'summary':self.summary,'history':self.history}\n",
        "  \n",
        "  def get_history(self):\n",
        "    return self.history  \n",
        "\n",
        "  def prepare_data(self,i):\n",
        "    mat_tr = np.matrix([x for x in  self.dfs_train[i]['embeddings'].apply(lambda x: json.loads(x))])\n",
        "    mat_ts = np.matrix([x for x in  self.dfs_valid[i]['embeddings'].apply(lambda x: json.loads(x))])\n",
        "    y_tr = self.dfs_train[i].label.values\n",
        "    y_ts = self.dfs_valid[i].label.values\n",
        "    x_tr = np.squeeze(np.asarray(mat_tr))\n",
        "    x_ts = np.squeeze(np.asarray(mat_ts))\n",
        "    x_tr = x_tr.reshape((x_tr.shape[0],x_tr.shape[1],1))\n",
        "    x_ts = x_ts.reshape((x_ts.shape[0],x_ts.shape[1],1))\n",
        "    encoded_Y_tr = self.encoder.fit_transform(y_tr)\n",
        "    encoded_Y_ts = self.encoder.fit_transform(y_ts)\n",
        "    y_tr = np_utils.to_categorical(encoded_Y_tr)\n",
        "    y_ts = np_utils.to_categorical(encoded_Y_ts)\n",
        "    x_tr = tf.convert_to_tensor(x_tr, np.float32)\n",
        "    y_tr = tf.convert_to_tensor(y_tr, np.float32)\n",
        "    x_ts = tf.convert_to_tensor(x_ts, np.float32)\n",
        "    y_ts = tf.convert_to_tensor(y_ts, np.float32)\n",
        "    # train_ds = tf.data.Dataset.from_tensor_slices((x_tr, y_tr))\n",
        "    # # print(train_ds)\n",
        "    # test_ds = tf.data.Dataset.from_tensor_slices((x_ts, y_ts))\n",
        "    return x_tr,y_tr,x_ts,y_ts\n",
        "\n",
        "  def get_summary(self):\n",
        "    return self.summary\n",
        "\n",
        "\n",
        "  def Conv1D_model(self,sh):\n",
        "    with strategy.scope():\n",
        "      model = tf.keras.models.Sequential([\n",
        "        tf.keras.layers.Input(shape=(sh,1)),\n",
        "        tf.keras.layers.Conv1D(32,3, activation='relu',padding='valid'),\n",
        "        tf.keras.layers.MaxPooling1D(pool_size=3),\n",
        "        tf.keras.layers.Conv1D(32,3, activation='relu',padding='valid'),\n",
        "        tf.keras.layers.MaxPooling1D(pool_size=3),\n",
        "        tf.keras.layers.Dropout(0.5),\n",
        "        tf.keras.layers.Flatten(),\n",
        "        tf.keras.layers.Dense(512, activation='sigmoid'),\n",
        "        tf.keras.layers.Dense(256, activation='sigmoid'),\n",
        "        tf.keras.layers.Dense(128, activation='sigmoid'),\n",
        "        tf.keras.layers.Dense(64, activation='sigmoid'),\n",
        "        tf.keras.layers.Dense(5, activation='softmax')        \n",
        "        ])\n",
        "      model.compile(loss='categorical_crossentropy',\n",
        "                optimizer=tf.keras.optimizers.Adam(),\n",
        "                metrics=['accuracy'])\n",
        "      model.summary()\n",
        "    return model\n",
        "\n",
        "  def Conv1D_BiRNN_model(self,sh):\n",
        "    with strategy.scope():\n",
        "      model = tf.keras.models.Sequential([\n",
        "        tf.keras.layers.Input(shape=(sh,1)),\n",
        "        # tf.keras.layers.Conv1D(32,3, activation='relu',padding='valid'),\n",
        "        # tf.keras.layers.MaxPooling1D(pool_size=3),\n",
        "        # tf.keras.layers.Conv1D(32,3, activation='relu',padding='valid'),\n",
        "        # tf.keras.layers.MaxPooling1D(pool_size=3),\n",
        "        # tf.keras.layers.Dropout(0.5),\n",
        "        tf.keras.layers.Bidirectional(tf.keras.layers.SimpleRNN(16,return_sequences=True, dropout=0.2, recurrent_dropout=0.3)),\n",
        "        tf.keras.layers.Flatten(),\n",
        "        tf.keras.layers.Dense(512, activation='sigmoid'),\n",
        "        tf.keras.layers.Dense(256, activation='sigmoid'),\n",
        "        tf.keras.layers.Dense(128, activation='sigmoid'),\n",
        "        tf.keras.layers.Dense(64, activation='sigmoid'),\n",
        "        tf.keras.layers.Dense(5, activation='softmax')        \n",
        "        ])\n",
        "      model.compile(loss='categorical_crossentropy',\n",
        "                optimizer=tf.keras.optimizers.Adam(),\n",
        "                metrics=['accuracy'])\n",
        "      model.summary()\n",
        "    return model\n",
        "  \n",
        "  def Conv1D_BiLSTM_model(self,sh):\n",
        "    with strategy.scope():\n",
        "      model = tf.keras.models.Sequential([\n",
        "        tf.keras.layers.Input(shape=(sh,1)),\n",
        "        # tf.keras.layers.Conv1D(32,3, activation='relu',padding='valid'),\n",
        "        # tf.keras.layers.MaxPooling1D(pool_size=3),\n",
        "        # tf.keras.layers.Conv1D(32,3, activation='relu',padding='valid'),\n",
        "        # tf.keras.layers.MaxPooling1D(pool_size=3),\n",
        "        # tf.keras.layers.Dropout(0.5),\n",
        "        tf.keras.layers.Bidirectional(tf.keras.layers.LSTM(16,return_sequences=True, dropout=0.2, recurrent_dropout=0.3)),\n",
        "        tf.keras.layers.Flatten(),\n",
        "        tf.keras.layers.Dense(512, activation='sigmoid'),\n",
        "        tf.keras.layers.Dense(256, activation='sigmoid'),\n",
        "        tf.keras.layers.Dense(128, activation='sigmoid'),\n",
        "        tf.keras.layers.Dense(64, activation='sigmoid'),\n",
        "        tf.keras.layers.Dense(5, activation='softmax')        \n",
        "        ])\n",
        "      model.compile(loss='categorical_crossentropy',\n",
        "                optimizer=tf.keras.optimizers.Adam(),\n",
        "                metrics=['accuracy'])\n",
        "      model.summary()\n",
        "    return model\n",
        "  \n",
        "  def Conv1D_BiGRU_model(self,sh):\n",
        "    with strategy.scope():\n",
        "      model = tf.keras.models.Sequential([\n",
        "        tf.keras.layers.Input(shape=(sh,1)),\n",
        "        # tf.keras.layers.Conv1D(32,3, activation='relu',padding='valid'),\n",
        "        # tf.keras.layers.MaxPooling1D(pool_size=3),\n",
        "        # tf.keras.layers.Conv1D(32,3, activation='relu',padding='valid'),\n",
        "        # tf.keras.layers.MaxPooling1D(pool_size=3),\n",
        "        # tf.keras.layers.Dropout(0.5),\n",
        "        tf.keras.layers.Bidirectional(tf.keras.layers.GRU(16,return_sequences=True, dropout=0.2, recurrent_dropout=0.3)),\n",
        "        tf.keras.layers.Flatten(),\n",
        "        tf.keras.layers.Dense(512, activation='sigmoid'),\n",
        "        tf.keras.layers.Dense(256, activation='sigmoid'),\n",
        "        tf.keras.layers.Dense(128, activation='sigmoid'),\n",
        "        tf.keras.layers.Dense(64, activation='sigmoid'),\n",
        "        tf.keras.layers.Dense(5, activation='softmax')        \n",
        "        ])\n",
        "      model.compile(loss='categorical_crossentropy',\n",
        "                optimizer=tf.keras.optimizers.Adam(),\n",
        "                metrics=['accuracy'])\n",
        "      model.summary()\n",
        "    return model\n",
        "\n",
        "  def run_train(self,model):\n",
        "    his = []\n",
        "    for i in range(5):\n",
        "      x_tr,y_tr,x_ts,y_ts = self.prepare_data(i)\n",
        "      # print(train_ds.shape)\n",
        "      # print(test_ds.shape)\n",
        "      his.append(model.fit(x = x_tr,y=y_tr,validation_data=(x_ts,y_ts),epochs=100,callbacks=[EarlyStopping()]))\n",
        "      # eval_loss, eval_acc = model.evaluate(x_ts,y_ts)\n",
        "      # his.append((eval_loss,eval_acc))\n",
        "      \n",
        "    return his\n"
      ],
      "execution_count": null,
      "outputs": []
    },
    {
      "cell_type": "code",
      "metadata": {
        "id": "c2WHf8u4wyrp"
      },
      "source": [
        "c = Conv1D()\n",
        "c.read_dataset('/content/drive/MyDrive/sent_use_690k.csv')"
      ],
      "execution_count": null,
      "outputs": []
    },
    {
      "cell_type": "code",
      "metadata": {
        "colab": {
          "base_uri": "https://localhost:8080/"
        },
        "id": "v47_9Xj_w9z_",
        "outputId": "3e3139f4-0197-46c5-9264-dd562d795872"
      },
      "source": [
        "x = c.Conv1D_BiGRU_model(512)"
      ],
      "execution_count": null,
      "outputs": [
        {
          "output_type": "stream",
          "text": [
            "Model: \"sequential\"\n",
            "_________________________________________________________________\n",
            "Layer (type)                 Output Shape              Param #   \n",
            "=================================================================\n",
            "bidirectional (Bidirectional (None, 512, 32)           1824      \n",
            "_________________________________________________________________\n",
            "flatten (Flatten)            (None, 16384)             0         \n",
            "_________________________________________________________________\n",
            "dense (Dense)                (None, 512)               8389120   \n",
            "_________________________________________________________________\n",
            "dense_1 (Dense)              (None, 256)               131328    \n",
            "_________________________________________________________________\n",
            "dense_2 (Dense)              (None, 128)               32896     \n",
            "_________________________________________________________________\n",
            "dense_3 (Dense)              (None, 64)                8256      \n",
            "_________________________________________________________________\n",
            "dense_4 (Dense)              (None, 5)                 325       \n",
            "=================================================================\n",
            "Total params: 8,563,749\n",
            "Trainable params: 8,563,749\n",
            "Non-trainable params: 0\n",
            "_________________________________________________________________\n"
          ],
          "name": "stdout"
        }
      ]
    },
    {
      "cell_type": "code",
      "metadata": {
        "id": "Hswb-Y60xD_I"
      },
      "source": [
        "y = c.process(x)"
      ],
      "execution_count": null,
      "outputs": []
    },
    {
      "cell_type": "code",
      "metadata": {
        "id": "T_1N9ugWCK04"
      },
      "source": [
        "dfs = []\n",
        "for i in range(len(y['history'])):\n",
        "  df = pd.DataFrame.from_dict(y['history'][i].history)\n",
        "  df['fold'] = i+1\n",
        "  df['epoch'] = [i+1 for i in range(len(df))]\n",
        "  dfs.append(df)"
      ],
      "execution_count": null,
      "outputs": []
    },
    {
      "cell_type": "code",
      "metadata": {
        "id": "TfQui2NACP9p"
      },
      "source": [
        "df_fin = pd.concat(dfs,ignore_index=True)\n",
        "df_fin.to_csv('/content/drive/MyDrive/sent_use_BiGRU.csv',index = False,header = True)"
      ],
      "execution_count": null,
      "outputs": []
    }
  ]
}