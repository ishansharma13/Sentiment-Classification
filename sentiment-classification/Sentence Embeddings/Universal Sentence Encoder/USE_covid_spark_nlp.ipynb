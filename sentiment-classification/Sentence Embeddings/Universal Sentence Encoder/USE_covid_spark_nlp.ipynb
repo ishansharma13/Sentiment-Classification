{
  "nbformat": 4,
  "nbformat_minor": 0,
  "metadata": {
    "colab": {
      "name": "USE_covid_spark-nlp.ipynb",
      "provenance": []
    },
    "kernelspec": {
      "name": "python3",
      "display_name": "Python 3"
    },
    "language_info": {
      "name": "python"
    }
  },
  "cells": [
    {
      "cell_type": "code",
      "metadata": {
        "colab": {
          "base_uri": "https://localhost:8080/"
        },
        "id": "33SS37KYMU_y",
        "outputId": "ff84869d-1246-4e7c-e065-f0132b417a11"
      },
      "source": [
        "!pip install spark-nlp==2.4.5 pyspark==2.4.4"
      ],
      "execution_count": null,
      "outputs": [
        {
          "output_type": "stream",
          "text": [
            "Collecting spark-nlp==2.4.5\n",
            "\u001b[?25l  Downloading https://files.pythonhosted.org/packages/31/46/5c5a2bda407f693126386da5378f132e5e163fa6dfa46109548270348786/spark_nlp-2.4.5-py2.py3-none-any.whl (110kB)\n",
            "\u001b[K     |████████████████████████████████| 112kB 10.0MB/s \n",
            "\u001b[?25hCollecting pyspark==2.4.4\n",
            "\u001b[?25l  Downloading https://files.pythonhosted.org/packages/87/21/f05c186f4ddb01d15d0ddc36ef4b7e3cedbeb6412274a41f26b55a650ee5/pyspark-2.4.4.tar.gz (215.7MB)\n",
            "\u001b[K     |████████████████████████████████| 215.7MB 70kB/s \n",
            "\u001b[?25hCollecting py4j==0.10.7\n",
            "\u001b[?25l  Downloading https://files.pythonhosted.org/packages/e3/53/c737818eb9a7dc32a7cd4f1396e787bd94200c3997c72c1dbe028587bd76/py4j-0.10.7-py2.py3-none-any.whl (197kB)\n",
            "\u001b[K     |████████████████████████████████| 204kB 41.0MB/s \n",
            "\u001b[?25hBuilding wheels for collected packages: pyspark\n",
            "  Building wheel for pyspark (setup.py) ... \u001b[?25l\u001b[?25hdone\n",
            "  Created wheel for pyspark: filename=pyspark-2.4.4-py2.py3-none-any.whl size=216130389 sha256=ff57c96af213106706a07a50dee7a4e46474b968a37615e23f97dcc16cb87f1e\n",
            "  Stored in directory: /root/.cache/pip/wheels/ab/09/4d/0d184230058e654eb1b04467dbc1292f00eaa186544604b471\n",
            "Successfully built pyspark\n",
            "Installing collected packages: spark-nlp, py4j, pyspark\n",
            "Successfully installed py4j-0.10.7 pyspark-2.4.4 spark-nlp-2.4.5\n"
          ],
          "name": "stdout"
        }
      ]
    },
    {
      "cell_type": "code",
      "metadata": {
        "colab": {
          "base_uri": "https://localhost:8080/"
        },
        "id": "-VeTzx1lM3rI",
        "outputId": "6ef74b9f-e52d-4eba-eb94-df7b379d3500"
      },
      "source": [
        "!apt install openjdk-8-jdk"
      ],
      "execution_count": null,
      "outputs": [
        {
          "output_type": "stream",
          "text": [
            "Reading package lists... Done\n",
            "Building dependency tree       \n",
            "Reading state information... Done\n",
            "openjdk-8-jdk is already the newest version (8u282-b08-0ubuntu1~18.04).\n",
            "0 upgraded, 0 newly installed, 0 to remove and 30 not upgraded.\n"
          ],
          "name": "stdout"
        }
      ]
    },
    {
      "cell_type": "code",
      "metadata": {
        "colab": {
          "base_uri": "https://localhost:8080/"
        },
        "id": "fsSrVy4-M8Kp",
        "outputId": "11a69f5b-3ba9-4832-e9dc-a5f244945b9c"
      },
      "source": [
        "!update-alternatives --config java"
      ],
      "execution_count": null,
      "outputs": [
        {
          "output_type": "stream",
          "text": [
            "There are 2 choices for the alternative java (providing /usr/bin/java).\n",
            "\n",
            "  Selection    Path                                            Priority   Status\n",
            "------------------------------------------------------------\n",
            "* 0            /usr/lib/jvm/java-11-openjdk-amd64/bin/java      1111      auto mode\n",
            "  1            /usr/lib/jvm/java-11-openjdk-amd64/bin/java      1111      manual mode\n",
            "  2            /usr/lib/jvm/java-8-openjdk-amd64/jre/bin/java   1081      manual mode\n",
            "\n",
            "Press <enter> to keep the current choice[*], or type selection number: 2\n",
            "update-alternatives: using /usr/lib/jvm/java-8-openjdk-amd64/jre/bin/java to provide /usr/bin/java (java) in manual mode\n"
          ],
          "name": "stdout"
        }
      ]
    },
    {
      "cell_type": "code",
      "metadata": {
        "colab": {
          "base_uri": "https://localhost:8080/"
        },
        "id": "PrUn9BJsM_1M",
        "outputId": "62ba0197-263e-46b1-9467-33f13bbc3e35"
      },
      "source": [
        "!java -version"
      ],
      "execution_count": null,
      "outputs": [
        {
          "output_type": "stream",
          "text": [
            "openjdk version \"1.8.0_282\"\n",
            "OpenJDK Runtime Environment (build 1.8.0_282-8u282-b08-0ubuntu1~18.04-b08)\n",
            "OpenJDK 64-Bit Server VM (build 25.282-b08, mixed mode)\n"
          ],
          "name": "stdout"
        }
      ]
    },
    {
      "cell_type": "code",
      "metadata": {
        "colab": {
          "base_uri": "https://localhost:8080/"
        },
        "id": "z3cH_P5eNH8q",
        "outputId": "8eebea52-5afe-491d-c8d7-98cc069d920d"
      },
      "source": [
        "from google.colab import drive\n",
        "drive.mount('/content/drive')"
      ],
      "execution_count": null,
      "outputs": [
        {
          "output_type": "stream",
          "text": [
            "Mounted at /content/drive\n"
          ],
          "name": "stdout"
        }
      ]
    },
    {
      "cell_type": "code",
      "metadata": {
        "id": "QxW1PBsNNj9h"
      },
      "source": [
        "import sparknlp\n",
        "from sparknlp.base import *\n",
        "from sparknlp.annotator import *\n",
        "from pyspark.ml import Pipeline\n",
        "spark = sparknlp.start() "
      ],
      "execution_count": null,
      "outputs": []
    },
    {
      "cell_type": "code",
      "metadata": {
        "id": "BVeCQEkwNrol"
      },
      "source": [
        "df = spark.read.option(\"header\", True).option(\"multiLine\",True).option(\"inferSchema\",True).csv(\"/content/drive/MyDrive/Sentence Embeddings/dataset_final_with_uid\")\n",
        "df1 = spark.read.option(\"header\", True).option(\"multiLine\",True).option(\"inferSchema\",True).csv(\"/content/drive/MyDrive/Sentence Embeddings/covid_dataset_with_ids\")\n",
        "df2 = spark.read.option(\"header\", True).option(\"multiLine\",True).option(\"inferSchema\",True).csv(\"/content/drive/MyDrive/Sentence Embeddings/all_combined_final\")"
      ],
      "execution_count": null,
      "outputs": []
    },
    {
      "cell_type": "code",
      "metadata": {
        "colab": {
          "base_uri": "https://localhost:8080/"
        },
        "id": "ofHMirpTN7fg",
        "outputId": "53403313-6f2d-4de5-d2e9-3b07423882c9"
      },
      "source": [
        "document = DocumentAssembler().setInputCol(\"pre_text_all_upd\").setOutputCol(\"document\")\n",
        "use = UniversalSentenceEncoder.pretrained().setInputCols([\"document\"]).setOutputCol(\"USE_pre_text_all_upd_embed\")\n",
        "\n",
        "use_clf_pipeline = Pipeline(\n",
        "    stages = [\n",
        "        document,\n",
        "        use\n",
        "    ])"
      ],
      "execution_count": null,
      "outputs": [
        {
          "output_type": "stream",
          "text": [
            "tfhub_use download started this may take some time.\n",
            "Approximate size to download 923.7 MB\n",
            "[OK!]\n"
          ],
          "name": "stdout"
        }
      ]
    },
    {
      "cell_type": "code",
      "metadata": {
        "id": "R9EqpZyeOE2A"
      },
      "source": [
        "df_USE = use_clf_pipeline.fit(df).transform(df)\n",
        "df1_USE = use_clf_pipeline.fit(df1).transform(df1)\n",
        "df2_USE = use_clf_pipeline.fit(df2).transform(df2)"
      ],
      "execution_count": null,
      "outputs": []
    },
    {
      "cell_type": "code",
      "metadata": {
        "id": "In86oG5sPruf"
      },
      "source": [
        "import pyspark.sql.functions as F\n",
        "import pyspark.sql.types as T\n",
        "from pyspark.ml.linalg import VectorUDT, DenseVector\n",
        "\n",
        "ud_f = F.udf(lambda r : DenseVector(r),VectorUDT())"
      ],
      "execution_count": null,
      "outputs": []
    },
    {
      "cell_type": "code",
      "metadata": {
        "id": "e1svqKHNPySm"
      },
      "source": [
        "res_df = df_USE.select(\"u_id\",F.explode(\"USE_pre_text_all_upd_embed\").alias(\"embeddings\"),\"mean_sent_score\",\"final_sent_class\")\n",
        "res_df = res_df.select(\"u_id\",\"embeddings.embeddings\",\"mean_sent_score\",\"final_sent_class\")"
      ],
      "execution_count": null,
      "outputs": []
    },
    {
      "cell_type": "code",
      "metadata": {
        "id": "twW0XnoVP8YU"
      },
      "source": [
        "res_df1 = df1_USE.select(\"id\",F.explode(\"USE_pre_text_all_upd_embed\").alias(\"embeddings\"),\"mean_sent_score\",\"final_sent_class\")\n",
        "res_df1 = res_df1.select(\"id\",\"embeddings.embeddings\",\"mean_sent_score\",\"final_sent_class\")"
      ],
      "execution_count": null,
      "outputs": []
    },
    {
      "cell_type": "code",
      "metadata": {
        "id": "QoxYtxBvOl6z"
      },
      "source": [
        "res_df2 = df2_USE.select(\"u_id\",F.explode(\"USE_pre_text_all_upd_embed\").alias(\"embeddings\"),\"mean_sent_score\",\"final_sent_class\")\n",
        "res_df2 = res_df2.select(\"u_id\",\"embeddings.embeddings\",\"mean_sent_score\",\"final_sent_class\")"
      ],
      "execution_count": null,
      "outputs": []
    },
    {
      "cell_type": "code",
      "metadata": {
        "id": "OR8WZ86aQCaz"
      },
      "source": [
        "res_df = res_df.withColumn(\"USE_embed\",ud_f(F.col(\"embeddings\")))\n",
        "res_df1 = res_df1.withColumn(\"USE_embed\",ud_f(F.col(\"embeddings\")))\n",
        "res_df2 = res_df2.withColumn(\"USE_embed\",ud_f(F.col(\"embeddings\")))"
      ],
      "execution_count": null,
      "outputs": []
    },
    {
      "cell_type": "code",
      "metadata": {
        "id": "_TIZMKqUQMMT"
      },
      "source": [
        "res_df = res_df.drop(\"embeddings\")\n",
        "res_df1 = res_df1.drop(\"embeddings\")\n",
        "res_df2 = res_df2.drop(\"embeddings\")"
      ],
      "execution_count": null,
      "outputs": []
    },
    {
      "cell_type": "code",
      "metadata": {
        "id": "j0-mMcEQQUjY"
      },
      "source": [
        "res_df = res_df.select(\"u_id\",\"USE_embed\",\"mean_sent_score\",\"final_sent_class\")\n",
        "res_df1 = res_df1.select(\"id\",\"USE_embed\",\"mean_sent_score\",\"final_sent_class\")\n",
        "res_df2 = res_df2.select(\"u_id\",\"USE_embed\",\"mean_sent_score\",\"final_sent_class\")"
      ],
      "execution_count": null,
      "outputs": []
    },
    {
      "cell_type": "code",
      "metadata": {
        "colab": {
          "base_uri": "https://localhost:8080/"
        },
        "id": "i2b2DJSmQm3m",
        "outputId": "89bccf36-7dad-4b3b-c0b8-64e007341241"
      },
      "source": [
        "res_df.printSchema()"
      ],
      "execution_count": null,
      "outputs": [
        {
          "output_type": "stream",
          "text": [
            "root\n",
            " |-- u_id: string (nullable = true)\n",
            " |-- USE_embed: vector (nullable = true)\n",
            " |-- mean_sent_score: double (nullable = true)\n",
            " |-- final_sent_class: string (nullable = true)\n",
            "\n"
          ],
          "name": "stdout"
        }
      ]
    },
    {
      "cell_type": "code",
      "metadata": {
        "id": "2YA8oCscQcWZ"
      },
      "source": [
        "res_df.write.option(\"header\",True).parquet('/content/drive/MyDrive/Sentence Embeddings/USE_EMBED_dataset_final_with_uid')\n",
        "res_df1.write.option(\"header\",True).parquet('/content/drive/MyDrive/Sentence Embeddings/USE_EMBED_covid_dataset_with_ids')\n",
        "res_df2.write.option(\"header\",True).parquet('/content/drive/MyDrive/Sentence Embeddings/USE_EMBED_all_combined_final')"
      ],
      "execution_count": null,
      "outputs": []
    },
    {
      "cell_type": "code",
      "metadata": {
        "id": "wxFspSA6THEZ"
      },
      "source": [
        "res_df1.cache()\n",
        "res_df1.count()"
      ],
      "execution_count": null,
      "outputs": []
    },
    {
      "cell_type": "code",
      "metadata": {
        "id": "_oADlxnhRK9x"
      },
      "source": [
        "x ='242d96767c62edb13ccae0b7708890a8adbf6ba1d18c08e51e8f47bfe4bc6679'"
      ],
      "execution_count": null,
      "outputs": []
    }
  ]
}