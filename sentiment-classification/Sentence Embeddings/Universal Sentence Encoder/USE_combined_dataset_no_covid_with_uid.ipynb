{
  "nbformat": 4,
  "nbformat_minor": 0,
  "metadata": {
    "colab": {
      "name": "USE_combined_dataset_no_covid_with_uid.ipynb",
      "provenance": [],
      "collapsed_sections": []
    },
    "kernelspec": {
      "name": "python3",
      "display_name": "Python 3"
    }
  },
  "cells": [
    {
      "cell_type": "code",
      "metadata": {
        "id": "VQwroCv2N2FX"
      },
      "source": [
        "from google.colab import drive\n",
        "drive.mount('/content/drive')"
      ],
      "execution_count": null,
      "outputs": []
    },
    {
      "cell_type": "code",
      "metadata": {
        "id": "-6p0GbjiLmbs"
      },
      "source": [
        "import tensorflow as tf\n",
        "import tensorflow_hub as hub"
      ],
      "execution_count": null,
      "outputs": []
    },
    {
      "cell_type": "code",
      "metadata": {
        "id": "o2JPIL4qL07e"
      },
      "source": [
        "module_url = \"https://tfhub.dev/google/universal-sentence-encoder/4\" \n",
        "model = hub.load(module_url)"
      ],
      "execution_count": null,
      "outputs": []
    },
    {
      "cell_type": "code",
      "metadata": {
        "id": "onWXgPvSL17e"
      },
      "source": [
        "from pyspark.sql import SparkSession as ss\n",
        "spark = ss.builder.getOrCreate()"
      ],
      "execution_count": null,
      "outputs": []
    },
    {
      "cell_type": "code",
      "metadata": {
        "id": "6tRsTK79N0Ni"
      },
      "source": [
        "df = spark.read.option(\"header\",\"true\").csv('/content/drive/My Drive/Combined Annotated/combined_dataset_with_uid',multiLine=True,inferSchema = True)"
      ],
      "execution_count": null,
      "outputs": []
    },
    {
      "cell_type": "code",
      "metadata": {
        "id": "Jr0yI4LPNQci"
      },
      "source": [
        "import json\n",
        "class generate_embeddings:\n",
        "  def __init__(self,df):\n",
        "      self.df = df.select(\"u_id\",\"text\",\"pre_text_vader\",\"pre_text_all_upd\",\"mean_sent_score\",\"final_sent_class\")\n",
        "  \n",
        "  @staticmethod\n",
        "  @udf(returnType = StringType())\n",
        "  def embeddings(text):\n",
        "    return json.dumps(model(text)[0].numpy().tolist().pop())\n",
        "\n",
        "  def process(self):\n",
        "    # self.df = self.df.withColumn(\"sb_text\",generate_embeddings.embeddings(\"text\"))\n",
        "    # self.df = self.df.withColumn(\"sb_pre_text_vader\",generate_embeddings.embeddings(\"pre_text_vader\"))\n",
        "    self.df = self.df.withColumn(\"sb_pre_text_all_upd\",generate_embeddings.embeddings(\"pre_text_all_upd\"))\n",
        "\n",
        "    # self.df1 = self.df1.withColumn(\"sb_text\",generate_embeddings.embeddings(\"text\"))\n",
        "    # self.df1 = self.df1.withColumn(\"sb_pre_text_vader\",generate_embeddings.embeddings(\"pre_text_vader\"))\n",
        "    # self.df1 = self.df1.withColumn(\"sb_pre_text_all_upd\",generate_embeddings.embeddings(\"pre_text_all_upd\"))\n",
        "\n",
        "    self.df.write.mode(\"overwrite\").option(\"header\",\"true\").csv('/content/drive/My Drive/Annotated/Combined Annotated/USE_combined_dataset_no_covid_with_uid')\n",
        "    # self.df1.write.mode(\"overwrite\").option(\"header\",\"true\").csv('/content/drive/My Drive/Annotated/mean_sent_lex/final_sent_class/Combined Annotated/sb_covid_dataset_final_with_uid')\n"
      ],
      "execution_count": null,
      "outputs": []
    },
    {
      "cell_type": "code",
      "metadata": {
        "id": "6pbPFen1M01q"
      },
      "source": [
        "g = generate_embeddings(df)\n",
        "g.process()"
      ],
      "execution_count": null,
      "outputs": []
    },
    {
      "cell_type": "code",
      "metadata": {
        "id": "SJ0B4P4VMdSC"
      },
      "source": [
        ""
      ],
      "execution_count": null,
      "outputs": []
    }
  ]
}