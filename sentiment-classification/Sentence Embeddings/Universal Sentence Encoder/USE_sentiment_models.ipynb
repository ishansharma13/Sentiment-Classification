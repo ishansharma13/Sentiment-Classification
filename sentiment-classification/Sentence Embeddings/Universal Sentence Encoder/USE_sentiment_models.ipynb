{
  "nbformat": 4,
  "nbformat_minor": 0,
  "metadata": {
    "colab": {
      "name": "USE sentiment models.ipynb",
      "provenance": [],
      "collapsed_sections": [],
      "machine_shape": "hm"
    },
    "kernelspec": {
      "name": "python3",
      "display_name": "Python 3"
    },
    "language_info": {
      "name": "python"
    },
    "accelerator": "TPU"
  },
  "cells": [
    {
      "cell_type": "code",
      "metadata": {
        "colab": {
          "base_uri": "https://localhost:8080/"
        },
        "id": "IAvEsqfU_apK",
        "outputId": "4b487b5e-4fe6-45d1-ed97-293e66cb544c"
      },
      "source": [
        "import tensorflow as tf\n",
        "from google.colab import drive\n",
        "drive.mount('/content/drive',force_remount=True)\n",
        "import json\n",
        "import numpy as np\n",
        "import pandas as pd\n",
        "from sklearn.preprocessing import LabelEncoder\n",
        "from keras.utils import np_utils\n",
        "from keras.callbacks import EarlyStopping\n",
        "from sklearn import model_selection"
      ],
      "execution_count": null,
      "outputs": [
        {
          "output_type": "stream",
          "text": [
            "Mounted at /content/drive\n"
          ],
          "name": "stdout"
        }
      ]
    },
    {
      "cell_type": "code",
      "metadata": {
        "id": "RB6gWNOoW3mU"
      },
      "source": [
        "df = pd.read_csv('/content/drive/MyDrive/sent_elec_690k.csv')"
      ],
      "execution_count": null,
      "outputs": []
    },
    {
      "cell_type": "code",
      "metadata": {
        "id": "1RnAumLiZAwu"
      },
      "source": [
        "df['lb_tx'] = df['label'].apply(lambda x: d[x])"
      ],
      "execution_count": null,
      "outputs": []
    },
    {
      "cell_type": "code",
      "metadata": {
        "colab": {
          "base_uri": "https://localhost:8080/",
          "height": 407
        },
        "id": "ro23rA-6ZX5h",
        "outputId": "1e447ec7-1a0d-46b3-d323-195ba2076048"
      },
      "source": [
        "df"
      ],
      "execution_count": null,
      "outputs": [
        {
          "output_type": "execute_result",
          "data": {
            "text/html": [
              "<div>\n",
              "<style scoped>\n",
              "    .dataframe tbody tr th:only-of-type {\n",
              "        vertical-align: middle;\n",
              "    }\n",
              "\n",
              "    .dataframe tbody tr th {\n",
              "        vertical-align: top;\n",
              "    }\n",
              "\n",
              "    .dataframe thead th {\n",
              "        text-align: right;\n",
              "    }\n",
              "</style>\n",
              "<table border=\"1\" class=\"dataframe\">\n",
              "  <thead>\n",
              "    <tr style=\"text-align: right;\">\n",
              "      <th></th>\n",
              "      <th>id</th>\n",
              "      <th>label</th>\n",
              "      <th>ELEC_embed</th>\n",
              "    </tr>\n",
              "  </thead>\n",
              "  <tbody>\n",
              "    <tr>\n",
              "      <th>0</th>\n",
              "      <td>8530d1a3aa5e5ccd4d43ff22a7ed2862ba47876eae1f27...</td>\n",
              "      <td>5</td>\n",
              "      <td>[0.16116242110729218,0.346066951751709,-0.5456...</td>\n",
              "    </tr>\n",
              "    <tr>\n",
              "      <th>1</th>\n",
              "      <td>96b3dda711f4fcc77b92e67415c85ad4946d7131511093...</td>\n",
              "      <td>3</td>\n",
              "      <td>[0.23341114819049835,-0.35323283076286316,-0.3...</td>\n",
              "    </tr>\n",
              "    <tr>\n",
              "      <th>2</th>\n",
              "      <td>a507fe3e403241317742d9023275b171dbb5fea9c75688...</td>\n",
              "      <td>3</td>\n",
              "      <td>[0.32536599040031433,0.46764475107192993,-0.39...</td>\n",
              "    </tr>\n",
              "    <tr>\n",
              "      <th>3</th>\n",
              "      <td>97bceefad10a38169e391550fc65ab3615f05b472e7e3a...</td>\n",
              "      <td>4</td>\n",
              "      <td>[-0.05524550750851631,1.0161899328231812,0.148...</td>\n",
              "    </tr>\n",
              "    <tr>\n",
              "      <th>4</th>\n",
              "      <td>bd002f05c526f2c44b9acd0327e382c5d3dcc60af5d235...</td>\n",
              "      <td>1</td>\n",
              "      <td>[0.16265755891799927,-0.06530703604221344,-0.3...</td>\n",
              "    </tr>\n",
              "    <tr>\n",
              "      <th>...</th>\n",
              "      <td>...</td>\n",
              "      <td>...</td>\n",
              "      <td>...</td>\n",
              "    </tr>\n",
              "    <tr>\n",
              "      <th>689995</th>\n",
              "      <td>5ba151805a88e495f0147bc758fb2ffce13f6b056b7308...</td>\n",
              "      <td>1</td>\n",
              "      <td>[-0.23610901832580566,0.40711456537246704,-0.0...</td>\n",
              "    </tr>\n",
              "    <tr>\n",
              "      <th>689996</th>\n",
              "      <td>8b6d273a77d76b6189551f887bd4ea13f551311607e252...</td>\n",
              "      <td>3</td>\n",
              "      <td>[-0.28899216651916504,-0.16886091232299805,-0....</td>\n",
              "    </tr>\n",
              "    <tr>\n",
              "      <th>689997</th>\n",
              "      <td>c5dbcee9557a7c96a86feb6d367e3b23d90f7c430865c0...</td>\n",
              "      <td>2</td>\n",
              "      <td>[-0.29754626750946045,0.3733755648136139,-0.38...</td>\n",
              "    </tr>\n",
              "    <tr>\n",
              "      <th>689998</th>\n",
              "      <td>84261b41aa6870f9c55849d7eb88134703d70cbf201f00...</td>\n",
              "      <td>5</td>\n",
              "      <td>[0.05187118798494339,0.2995358109474182,-0.055...</td>\n",
              "    </tr>\n",
              "    <tr>\n",
              "      <th>689999</th>\n",
              "      <td>c3f818e23a1c880e727c0f52103bb49e9070b1dc25e5bc...</td>\n",
              "      <td>4</td>\n",
              "      <td>[-0.3700336515903473,0.28687605261802673,0.003...</td>\n",
              "    </tr>\n",
              "  </tbody>\n",
              "</table>\n",
              "<p>690000 rows × 3 columns</p>\n",
              "</div>"
            ],
            "text/plain": [
              "                                                       id  ...                                         ELEC_embed\n",
              "0       8530d1a3aa5e5ccd4d43ff22a7ed2862ba47876eae1f27...  ...  [0.16116242110729218,0.346066951751709,-0.5456...\n",
              "1       96b3dda711f4fcc77b92e67415c85ad4946d7131511093...  ...  [0.23341114819049835,-0.35323283076286316,-0.3...\n",
              "2       a507fe3e403241317742d9023275b171dbb5fea9c75688...  ...  [0.32536599040031433,0.46764475107192993,-0.39...\n",
              "3       97bceefad10a38169e391550fc65ab3615f05b472e7e3a...  ...  [-0.05524550750851631,1.0161899328231812,0.148...\n",
              "4       bd002f05c526f2c44b9acd0327e382c5d3dcc60af5d235...  ...  [0.16265755891799927,-0.06530703604221344,-0.3...\n",
              "...                                                   ...  ...                                                ...\n",
              "689995  5ba151805a88e495f0147bc758fb2ffce13f6b056b7308...  ...  [-0.23610901832580566,0.40711456537246704,-0.0...\n",
              "689996  8b6d273a77d76b6189551f887bd4ea13f551311607e252...  ...  [-0.28899216651916504,-0.16886091232299805,-0....\n",
              "689997  c5dbcee9557a7c96a86feb6d367e3b23d90f7c430865c0...  ...  [-0.29754626750946045,0.3733755648136139,-0.38...\n",
              "689998  84261b41aa6870f9c55849d7eb88134703d70cbf201f00...  ...  [0.05187118798494339,0.2995358109474182,-0.055...\n",
              "689999  c3f818e23a1c880e727c0f52103bb49e9070b1dc25e5bc...  ...  [-0.3700336515903473,0.28687605261802673,0.003...\n",
              "\n",
              "[690000 rows x 3 columns]"
            ]
          },
          "metadata": {
            "tags": []
          },
          "execution_count": 3
        }
      ]
    },
    {
      "cell_type": "code",
      "metadata": {
        "id": "JEHjsqgoXUPh"
      },
      "source": [
        "d = {1:'VNeg',2:'Neg',3:'Neu',4:'Pos',5:'VPos'}"
      ],
      "execution_count": null,
      "outputs": []
    },
    {
      "cell_type": "code",
      "metadata": {
        "colab": {
          "base_uri": "https://localhost:8080/",
          "height": 310
        },
        "id": "89VxDJlnXnvw",
        "outputId": "e42ae1e8-edd3-48ba-b4c2-7b0200730ae7"
      },
      "source": [
        "df.to_csv('/content/drive/MyDrive/sent_elec_690k.csv',index=False,header=True)"
      ],
      "execution_count": null,
      "outputs": [
        {
          "output_type": "error",
          "ename": "KeyboardInterrupt",
          "evalue": "ignored",
          "traceback": [
            "\u001b[0;31m---------------------------------------------------------------------------\u001b[0m",
            "\u001b[0;31mKeyboardInterrupt\u001b[0m                         Traceback (most recent call last)",
            "\u001b[0;32m<ipython-input-11-f48e85a1eff0>\u001b[0m in \u001b[0;36m<module>\u001b[0;34m()\u001b[0m\n\u001b[0;32m----> 1\u001b[0;31m \u001b[0mdf\u001b[0m\u001b[0;34m.\u001b[0m\u001b[0mto_csv\u001b[0m\u001b[0;34m(\u001b[0m\u001b[0;34m'/content/drive/MyDrive/sent_elec_690k.csv'\u001b[0m\u001b[0;34m,\u001b[0m\u001b[0mindex\u001b[0m\u001b[0;34m=\u001b[0m\u001b[0;32mFalse\u001b[0m\u001b[0;34m,\u001b[0m\u001b[0mheader\u001b[0m\u001b[0;34m=\u001b[0m\u001b[0;32mTrue\u001b[0m\u001b[0;34m)\u001b[0m\u001b[0;34m\u001b[0m\u001b[0;34m\u001b[0m\u001b[0m\n\u001b[0m",
            "\u001b[0;32m/usr/local/lib/python3.7/dist-packages/pandas/core/generic.py\u001b[0m in \u001b[0;36mto_csv\u001b[0;34m(self, path_or_buf, sep, na_rep, float_format, columns, header, index, index_label, mode, encoding, compression, quoting, quotechar, line_terminator, chunksize, date_format, doublequote, escapechar, decimal, errors)\u001b[0m\n\u001b[1;32m   3168\u001b[0m             \u001b[0mdecimal\u001b[0m\u001b[0;34m=\u001b[0m\u001b[0mdecimal\u001b[0m\u001b[0;34m,\u001b[0m\u001b[0;34m\u001b[0m\u001b[0;34m\u001b[0m\u001b[0m\n\u001b[1;32m   3169\u001b[0m         )\n\u001b[0;32m-> 3170\u001b[0;31m         \u001b[0mformatter\u001b[0m\u001b[0;34m.\u001b[0m\u001b[0msave\u001b[0m\u001b[0;34m(\u001b[0m\u001b[0;34m)\u001b[0m\u001b[0;34m\u001b[0m\u001b[0;34m\u001b[0m\u001b[0m\n\u001b[0m\u001b[1;32m   3171\u001b[0m \u001b[0;34m\u001b[0m\u001b[0m\n\u001b[1;32m   3172\u001b[0m         \u001b[0;32mif\u001b[0m \u001b[0mpath_or_buf\u001b[0m \u001b[0;32mis\u001b[0m \u001b[0;32mNone\u001b[0m\u001b[0;34m:\u001b[0m\u001b[0;34m\u001b[0m\u001b[0;34m\u001b[0m\u001b[0m\n",
            "\u001b[0;32m/usr/local/lib/python3.7/dist-packages/pandas/io/formats/csvs.py\u001b[0m in \u001b[0;36msave\u001b[0;34m(self)\u001b[0m\n\u001b[1;32m    204\u001b[0m             )\n\u001b[1;32m    205\u001b[0m \u001b[0;34m\u001b[0m\u001b[0m\n\u001b[0;32m--> 206\u001b[0;31m             \u001b[0mself\u001b[0m\u001b[0;34m.\u001b[0m\u001b[0m_save\u001b[0m\u001b[0;34m(\u001b[0m\u001b[0;34m)\u001b[0m\u001b[0;34m\u001b[0m\u001b[0;34m\u001b[0m\u001b[0m\n\u001b[0m\u001b[1;32m    207\u001b[0m \u001b[0;34m\u001b[0m\u001b[0m\n\u001b[1;32m    208\u001b[0m         \u001b[0;32mfinally\u001b[0m\u001b[0;34m:\u001b[0m\u001b[0;34m\u001b[0m\u001b[0;34m\u001b[0m\u001b[0m\n",
            "\u001b[0;32m/usr/local/lib/python3.7/dist-packages/pandas/io/formats/csvs.py\u001b[0m in \u001b[0;36m_save\u001b[0;34m(self)\u001b[0m\n\u001b[1;32m    326\u001b[0m                 \u001b[0;32mbreak\u001b[0m\u001b[0;34m\u001b[0m\u001b[0;34m\u001b[0m\u001b[0m\n\u001b[1;32m    327\u001b[0m \u001b[0;34m\u001b[0m\u001b[0m\n\u001b[0;32m--> 328\u001b[0;31m             \u001b[0mself\u001b[0m\u001b[0;34m.\u001b[0m\u001b[0m_save_chunk\u001b[0m\u001b[0;34m(\u001b[0m\u001b[0mstart_i\u001b[0m\u001b[0;34m,\u001b[0m \u001b[0mend_i\u001b[0m\u001b[0;34m)\u001b[0m\u001b[0;34m\u001b[0m\u001b[0;34m\u001b[0m\u001b[0m\n\u001b[0m\u001b[1;32m    329\u001b[0m \u001b[0;34m\u001b[0m\u001b[0m\n\u001b[1;32m    330\u001b[0m     \u001b[0;32mdef\u001b[0m \u001b[0m_save_chunk\u001b[0m\u001b[0;34m(\u001b[0m\u001b[0mself\u001b[0m\u001b[0;34m,\u001b[0m \u001b[0mstart_i\u001b[0m\u001b[0;34m:\u001b[0m \u001b[0mint\u001b[0m\u001b[0;34m,\u001b[0m \u001b[0mend_i\u001b[0m\u001b[0;34m:\u001b[0m \u001b[0mint\u001b[0m\u001b[0;34m)\u001b[0m \u001b[0;34m->\u001b[0m \u001b[0;32mNone\u001b[0m\u001b[0;34m:\u001b[0m\u001b[0;34m\u001b[0m\u001b[0;34m\u001b[0m\u001b[0m\n",
            "\u001b[0;32m/usr/local/lib/python3.7/dist-packages/pandas/io/formats/csvs.py\u001b[0m in \u001b[0;36m_save_chunk\u001b[0;34m(self, start_i, end_i)\u001b[0m\n\u001b[1;32m    360\u001b[0m         )\n\u001b[1;32m    361\u001b[0m \u001b[0;34m\u001b[0m\u001b[0m\n\u001b[0;32m--> 362\u001b[0;31m         \u001b[0mlibwriters\u001b[0m\u001b[0;34m.\u001b[0m\u001b[0mwrite_csv_rows\u001b[0m\u001b[0;34m(\u001b[0m\u001b[0mself\u001b[0m\u001b[0;34m.\u001b[0m\u001b[0mdata\u001b[0m\u001b[0;34m,\u001b[0m \u001b[0mix\u001b[0m\u001b[0;34m,\u001b[0m \u001b[0mself\u001b[0m\u001b[0;34m.\u001b[0m\u001b[0mnlevels\u001b[0m\u001b[0;34m,\u001b[0m \u001b[0mself\u001b[0m\u001b[0;34m.\u001b[0m\u001b[0mcols\u001b[0m\u001b[0;34m,\u001b[0m \u001b[0mself\u001b[0m\u001b[0;34m.\u001b[0m\u001b[0mwriter\u001b[0m\u001b[0;34m)\u001b[0m\u001b[0;34m\u001b[0m\u001b[0;34m\u001b[0m\u001b[0m\n\u001b[0m",
            "\u001b[0;32mpandas/_libs/writers.pyx\u001b[0m in \u001b[0;36mpandas._libs.writers.write_csv_rows\u001b[0;34m()\u001b[0m\n",
            "\u001b[0;31mKeyboardInterrupt\u001b[0m: "
          ]
        }
      ]
    },
    {
      "cell_type": "code",
      "metadata": {
        "colab": {
          "base_uri": "https://localhost:8080/"
        },
        "id": "mCl0X1LUOBCa",
        "outputId": "7fcafd91-7b98-4a08-d794-0f08f454cd37"
      },
      "source": [
        "import os\n",
        "import pprint # for pretty printing our device stats\n",
        "\n",
        "if 'COLAB_TPU_ADDR' not in os.environ:\n",
        "    print('ERROR: Not connected to a TPU runtime; please see the first cell in this notebook for instructions!')\n",
        "else:\n",
        "    tpu_address = 'grpc://' + os.environ['COLAB_TPU_ADDR']\n",
        "    print ('TPU address is', tpu_address)\n",
        "\n",
        "    with tf.compat.v1.Session(tpu_address) as session:\n",
        "      devices = session.list_devices()\n",
        "\n",
        "    print('TPU devices:')\n",
        "    pprint.pprint(devices)"
      ],
      "execution_count": null,
      "outputs": [
        {
          "output_type": "stream",
          "text": [
            "TPU address is grpc://10.123.159.2:8470\n",
            "TPU devices:\n",
            "[_DeviceAttributes(/job:tpu_worker/replica:0/task:0/device:CPU:0, CPU, -1, 5638317769001297406),\n",
            " _DeviceAttributes(/job:tpu_worker/replica:0/task:0/device:TPU_SYSTEM:0, TPU_SYSTEM, 8589934592, 780662122501480870),\n",
            " _DeviceAttributes(/job:tpu_worker/replica:0/task:0/device:XLA_CPU:0, XLA_CPU, 17179869184, -2382485688248975737),\n",
            " _DeviceAttributes(/job:tpu_worker/replica:0/task:0/device:TPU:0, TPU, 17179869184, 7392657786892800931),\n",
            " _DeviceAttributes(/job:tpu_worker/replica:0/task:0/device:TPU:1, TPU, 17179869184, -7008953684433811567),\n",
            " _DeviceAttributes(/job:tpu_worker/replica:0/task:0/device:TPU:2, TPU, 17179869184, 4949624971601160325),\n",
            " _DeviceAttributes(/job:tpu_worker/replica:0/task:0/device:TPU:3, TPU, 17179869184, 7328373564422903026),\n",
            " _DeviceAttributes(/job:tpu_worker/replica:0/task:0/device:TPU:4, TPU, 17179869184, -395335631781626456),\n",
            " _DeviceAttributes(/job:tpu_worker/replica:0/task:0/device:TPU:5, TPU, 17179869184, 4744954270017267076),\n",
            " _DeviceAttributes(/job:tpu_worker/replica:0/task:0/device:TPU:6, TPU, 17179869184, -7244193771022578158),\n",
            " _DeviceAttributes(/job:tpu_worker/replica:0/task:0/device:TPU:7, TPU, 17179869184, -2759081489182284999)]\n"
          ],
          "name": "stdout"
        }
      ]
    },
    {
      "cell_type": "code",
      "metadata": {
        "colab": {
          "base_uri": "https://localhost:8080/"
        },
        "id": "34INB4dDOUtC",
        "outputId": "c9bc9af6-7f49-4e12-e26c-33610b7975c8"
      },
      "source": [
        "resolver = tf.distribute.cluster_resolver.TPUClusterResolver(tpu='')\n",
        "tf.config.experimental_connect_to_cluster(resolver)\n",
        "# This is the TPU initialization code that has to be at the beginning.\n",
        "tf.tpu.experimental.initialize_tpu_system(resolver)\n",
        "print(\"All devices: \", tf.config.list_logical_devices('TPU'))"
      ],
      "execution_count": null,
      "outputs": [
        {
          "output_type": "stream",
          "text": [
            "INFO:tensorflow:Initializing the TPU system: grpc://10.123.159.2:8470\n"
          ],
          "name": "stdout"
        },
        {
          "output_type": "stream",
          "text": [
            "INFO:tensorflow:Initializing the TPU system: grpc://10.123.159.2:8470\n"
          ],
          "name": "stderr"
        },
        {
          "output_type": "stream",
          "text": [
            "INFO:tensorflow:Clearing out eager caches\n"
          ],
          "name": "stdout"
        },
        {
          "output_type": "stream",
          "text": [
            "INFO:tensorflow:Clearing out eager caches\n"
          ],
          "name": "stderr"
        },
        {
          "output_type": "stream",
          "text": [
            "INFO:tensorflow:Finished initializing TPU system.\n"
          ],
          "name": "stdout"
        },
        {
          "output_type": "stream",
          "text": [
            "INFO:tensorflow:Finished initializing TPU system.\n"
          ],
          "name": "stderr"
        },
        {
          "output_type": "stream",
          "text": [
            "All devices:  [LogicalDevice(name='/job:worker/replica:0/task:0/device:TPU:7', device_type='TPU'), LogicalDevice(name='/job:worker/replica:0/task:0/device:TPU:6', device_type='TPU'), LogicalDevice(name='/job:worker/replica:0/task:0/device:TPU:5', device_type='TPU'), LogicalDevice(name='/job:worker/replica:0/task:0/device:TPU:4', device_type='TPU'), LogicalDevice(name='/job:worker/replica:0/task:0/device:TPU:3', device_type='TPU'), LogicalDevice(name='/job:worker/replica:0/task:0/device:TPU:0', device_type='TPU'), LogicalDevice(name='/job:worker/replica:0/task:0/device:TPU:1', device_type='TPU'), LogicalDevice(name='/job:worker/replica:0/task:0/device:TPU:2', device_type='TPU')]\n"
          ],
          "name": "stdout"
        }
      ]
    },
    {
      "cell_type": "code",
      "metadata": {
        "colab": {
          "base_uri": "https://localhost:8080/"
        },
        "id": "jsQ9pnNpO-oj",
        "outputId": "54e204b1-db6a-49ac-a272-ee9b2bb0dd87"
      },
      "source": [
        "strategy = tf.distribute.TPUStrategy(resolver)"
      ],
      "execution_count": null,
      "outputs": [
        {
          "output_type": "stream",
          "text": [
            "INFO:tensorflow:Found TPU system:\n"
          ],
          "name": "stdout"
        },
        {
          "output_type": "stream",
          "text": [
            "INFO:tensorflow:Found TPU system:\n"
          ],
          "name": "stderr"
        },
        {
          "output_type": "stream",
          "text": [
            "INFO:tensorflow:*** Num TPU Cores: 8\n"
          ],
          "name": "stdout"
        },
        {
          "output_type": "stream",
          "text": [
            "INFO:tensorflow:*** Num TPU Cores: 8\n"
          ],
          "name": "stderr"
        },
        {
          "output_type": "stream",
          "text": [
            "INFO:tensorflow:*** Num TPU Workers: 1\n"
          ],
          "name": "stdout"
        },
        {
          "output_type": "stream",
          "text": [
            "INFO:tensorflow:*** Num TPU Workers: 1\n"
          ],
          "name": "stderr"
        },
        {
          "output_type": "stream",
          "text": [
            "INFO:tensorflow:*** Num TPU Cores Per Worker: 8\n"
          ],
          "name": "stdout"
        },
        {
          "output_type": "stream",
          "text": [
            "INFO:tensorflow:*** Num TPU Cores Per Worker: 8\n"
          ],
          "name": "stderr"
        },
        {
          "output_type": "stream",
          "text": [
            "INFO:tensorflow:*** Available Device: _DeviceAttributes(/job:localhost/replica:0/task:0/device:CPU:0, CPU, 0, 0)\n"
          ],
          "name": "stdout"
        },
        {
          "output_type": "stream",
          "text": [
            "INFO:tensorflow:*** Available Device: _DeviceAttributes(/job:localhost/replica:0/task:0/device:CPU:0, CPU, 0, 0)\n"
          ],
          "name": "stderr"
        },
        {
          "output_type": "stream",
          "text": [
            "INFO:tensorflow:*** Available Device: _DeviceAttributes(/job:worker/replica:0/task:0/device:CPU:0, CPU, 0, 0)\n"
          ],
          "name": "stdout"
        },
        {
          "output_type": "stream",
          "text": [
            "INFO:tensorflow:*** Available Device: _DeviceAttributes(/job:worker/replica:0/task:0/device:CPU:0, CPU, 0, 0)\n"
          ],
          "name": "stderr"
        },
        {
          "output_type": "stream",
          "text": [
            "INFO:tensorflow:*** Available Device: _DeviceAttributes(/job:worker/replica:0/task:0/device:TPU:0, TPU, 0, 0)\n"
          ],
          "name": "stdout"
        },
        {
          "output_type": "stream",
          "text": [
            "INFO:tensorflow:*** Available Device: _DeviceAttributes(/job:worker/replica:0/task:0/device:TPU:0, TPU, 0, 0)\n"
          ],
          "name": "stderr"
        },
        {
          "output_type": "stream",
          "text": [
            "INFO:tensorflow:*** Available Device: _DeviceAttributes(/job:worker/replica:0/task:0/device:TPU:1, TPU, 0, 0)\n"
          ],
          "name": "stdout"
        },
        {
          "output_type": "stream",
          "text": [
            "INFO:tensorflow:*** Available Device: _DeviceAttributes(/job:worker/replica:0/task:0/device:TPU:1, TPU, 0, 0)\n"
          ],
          "name": "stderr"
        },
        {
          "output_type": "stream",
          "text": [
            "INFO:tensorflow:*** Available Device: _DeviceAttributes(/job:worker/replica:0/task:0/device:TPU:2, TPU, 0, 0)\n"
          ],
          "name": "stdout"
        },
        {
          "output_type": "stream",
          "text": [
            "INFO:tensorflow:*** Available Device: _DeviceAttributes(/job:worker/replica:0/task:0/device:TPU:2, TPU, 0, 0)\n"
          ],
          "name": "stderr"
        },
        {
          "output_type": "stream",
          "text": [
            "INFO:tensorflow:*** Available Device: _DeviceAttributes(/job:worker/replica:0/task:0/device:TPU:3, TPU, 0, 0)\n"
          ],
          "name": "stdout"
        },
        {
          "output_type": "stream",
          "text": [
            "INFO:tensorflow:*** Available Device: _DeviceAttributes(/job:worker/replica:0/task:0/device:TPU:3, TPU, 0, 0)\n"
          ],
          "name": "stderr"
        },
        {
          "output_type": "stream",
          "text": [
            "INFO:tensorflow:*** Available Device: _DeviceAttributes(/job:worker/replica:0/task:0/device:TPU:4, TPU, 0, 0)\n"
          ],
          "name": "stdout"
        },
        {
          "output_type": "stream",
          "text": [
            "INFO:tensorflow:*** Available Device: _DeviceAttributes(/job:worker/replica:0/task:0/device:TPU:4, TPU, 0, 0)\n"
          ],
          "name": "stderr"
        },
        {
          "output_type": "stream",
          "text": [
            "INFO:tensorflow:*** Available Device: _DeviceAttributes(/job:worker/replica:0/task:0/device:TPU:5, TPU, 0, 0)\n"
          ],
          "name": "stdout"
        },
        {
          "output_type": "stream",
          "text": [
            "INFO:tensorflow:*** Available Device: _DeviceAttributes(/job:worker/replica:0/task:0/device:TPU:5, TPU, 0, 0)\n"
          ],
          "name": "stderr"
        },
        {
          "output_type": "stream",
          "text": [
            "INFO:tensorflow:*** Available Device: _DeviceAttributes(/job:worker/replica:0/task:0/device:TPU:6, TPU, 0, 0)\n"
          ],
          "name": "stdout"
        },
        {
          "output_type": "stream",
          "text": [
            "INFO:tensorflow:*** Available Device: _DeviceAttributes(/job:worker/replica:0/task:0/device:TPU:6, TPU, 0, 0)\n"
          ],
          "name": "stderr"
        },
        {
          "output_type": "stream",
          "text": [
            "INFO:tensorflow:*** Available Device: _DeviceAttributes(/job:worker/replica:0/task:0/device:TPU:7, TPU, 0, 0)\n"
          ],
          "name": "stdout"
        },
        {
          "output_type": "stream",
          "text": [
            "INFO:tensorflow:*** Available Device: _DeviceAttributes(/job:worker/replica:0/task:0/device:TPU:7, TPU, 0, 0)\n"
          ],
          "name": "stderr"
        },
        {
          "output_type": "stream",
          "text": [
            "INFO:tensorflow:*** Available Device: _DeviceAttributes(/job:worker/replica:0/task:0/device:TPU_SYSTEM:0, TPU_SYSTEM, 0, 0)\n"
          ],
          "name": "stdout"
        },
        {
          "output_type": "stream",
          "text": [
            "INFO:tensorflow:*** Available Device: _DeviceAttributes(/job:worker/replica:0/task:0/device:TPU_SYSTEM:0, TPU_SYSTEM, 0, 0)\n"
          ],
          "name": "stderr"
        },
        {
          "output_type": "stream",
          "text": [
            "INFO:tensorflow:*** Available Device: _DeviceAttributes(/job:worker/replica:0/task:0/device:XLA_CPU:0, XLA_CPU, 0, 0)\n"
          ],
          "name": "stdout"
        },
        {
          "output_type": "stream",
          "text": [
            "INFO:tensorflow:*** Available Device: _DeviceAttributes(/job:worker/replica:0/task:0/device:XLA_CPU:0, XLA_CPU, 0, 0)\n"
          ],
          "name": "stderr"
        }
      ]
    },
    {
      "cell_type": "code",
      "metadata": {
        "id": "kSZU4pj2_p3a"
      },
      "source": [
        "class Conv1D:\n",
        "  def __init__(self):\n",
        "    \n",
        "    self.encoder = LabelEncoder()\n",
        "    self.summary = []\n",
        "\n",
        "  def read_dataset(self,path):\n",
        "    df = pd.read_csv(path)\n",
        "    if 'USE_embed' in list(df.columns):\n",
        "      df = df.drop('Unnamed: 0',axis = 1)\n",
        "      df = df.rename({'USE_embed':'embeddings'},axis = 1)\n",
        "    elif 'ELEC_embed' in list(df.columns):\n",
        "      df = df.rename({'ELEC_embed':'embeddings'},axis = 1)\n",
        "    \n",
        "    d = {1:'VNeg',2:'Neg',3:'Neu',4:'Pos',5:'VPos'}\n",
        "    df['label'] = df['label'].apply(lambda x: d[x])\n",
        "\n",
        "    skf = model_selection.StratifiedKFold(n_splits = 5)\n",
        "\n",
        "    for f, (t_,v_) in enumerate(skf.split(X=df,y=df.label.values)):\n",
        "        df.loc[v_,\"kfold\"] = f\n",
        "\n",
        "    self.dfs_train = [df[df['kfold']!=f] for f in range(0,5)]\n",
        "    self.dfs_valid = [df[df['kfold']==f] for f in range(0,5)]\n",
        "    \n",
        "  def process(self,model):\n",
        "    self.history = self.run_train(model)\n",
        "    return {'summary':self.summary,'history':self.history}\n",
        "  \n",
        "  def get_history(self):\n",
        "    return self.history  \n",
        "\n",
        "  def prepare_data(self,i):\n",
        "    mat_tr = np.matrix([x for x in  self.dfs_train[i]['embeddings'].apply(lambda x: json.loads(x))])\n",
        "    mat_ts = np.matrix([x for x in  self.dfs_valid[i]['embeddings'].apply(lambda x: json.loads(x))])\n",
        "    y_tr = self.dfs_train[i].label.values\n",
        "    y_ts = self.dfs_valid[i].label.values\n",
        "    x_tr = np.squeeze(np.asarray(mat_tr))\n",
        "    x_ts = np.squeeze(np.asarray(mat_ts))\n",
        "    x_tr = x_tr.reshape((x_tr.shape[0],x_tr.shape[1],1))\n",
        "    x_ts = x_ts.reshape((x_ts.shape[0],x_ts.shape[1],1))\n",
        "    encoded_Y_tr = self.encoder.fit_transform(y_tr)\n",
        "    encoded_Y_ts = self.encoder.fit_transform(y_ts)\n",
        "    y_tr = np_utils.to_categorical(encoded_Y_tr)\n",
        "    y_ts = np_utils.to_categorical(encoded_Y_ts)\n",
        "    x_tr = tf.convert_to_tensor(x_tr, np.float32)\n",
        "    y_tr = tf.convert_to_tensor(y_tr, np.float32)\n",
        "    x_ts = tf.convert_to_tensor(x_ts, np.float32)\n",
        "    y_ts = tf.convert_to_tensor(y_ts, np.float32)\n",
        "    # train_ds = tf.data.Dataset.from_tensor_slices((x_tr, y_tr))\n",
        "    # # print(train_ds)\n",
        "    # test_ds = tf.data.Dataset.from_tensor_slices((x_ts, y_ts))\n",
        "    return x_tr,y_tr,x_ts,y_ts\n",
        "\n",
        "  def get_summary(self):\n",
        "    return self.summary\n",
        "\n",
        "\n",
        "  def Conv1D_model(self,sh):\n",
        "    with strategy.scope():\n",
        "      model = tf.keras.models.Sequential([\n",
        "        tf.keras.layers.Input(shape=(sh,1)),\n",
        "        tf.keras.layers.Conv1D(32,3, activation='relu',padding='valid'),\n",
        "        tf.keras.layers.MaxPooling1D(pool_size=3),\n",
        "        tf.keras.layers.Conv1D(32,3, activation='relu',padding='valid'),\n",
        "        tf.keras.layers.MaxPooling1D(pool_size=3),\n",
        "        tf.keras.layers.Dropout(0.5),\n",
        "        tf.keras.layers.Flatten(),\n",
        "        tf.keras.layers.Dense(512, activation='sigmoid'),\n",
        "        tf.keras.layers.Dense(256, activation='sigmoid'),\n",
        "        tf.keras.layers.Dense(128, activation='sigmoid'),\n",
        "        tf.keras.layers.Dense(64, activation='sigmoid'),\n",
        "        tf.keras.layers.Dense(5, activation='softmax')        \n",
        "        ])\n",
        "      model.compile(loss='categorical_crossentropy',\n",
        "                optimizer=tf.keras.optimizers.Adam(),\n",
        "                metrics=['accuracy'])\n",
        "      model.summary()\n",
        "    return model\n",
        "\n",
        "  def Conv1D_BiRNN_model(self,sh):\n",
        "    with strategy.scope():\n",
        "      model = tf.keras.models.Sequential([\n",
        "        tf.keras.layers.Input(shape=(sh,1)),\n",
        "        # tf.keras.layers.Conv1D(32,3, activation='relu',padding='valid'),\n",
        "        # tf.keras.layers.MaxPooling1D(pool_size=3),\n",
        "        # tf.keras.layers.Conv1D(32,3, activation='relu',padding='valid'),\n",
        "        # tf.keras.layers.MaxPooling1D(pool_size=3),\n",
        "        # tf.keras.layers.Dropout(0.5),\n",
        "        tf.keras.layers.Bidirectional(tf.keras.layers.SimpleRNN(16,return_sequences=True, dropout=0.2, recurrent_dropout=0.3)),\n",
        "        tf.keras.layers.Flatten(),\n",
        "        tf.keras.layers.Dense(512, activation='sigmoid'),\n",
        "        tf.keras.layers.Dense(256, activation='sigmoid'),\n",
        "        tf.keras.layers.Dense(128, activation='sigmoid'),\n",
        "        tf.keras.layers.Dense(64, activation='sigmoid'),\n",
        "        tf.keras.layers.Dense(5, activation='softmax')        \n",
        "        ])\n",
        "      model.compile(loss='categorical_crossentropy',\n",
        "                optimizer=tf.keras.optimizers.Adam(),\n",
        "                metrics=['accuracy'])\n",
        "      model.summary()\n",
        "    return model\n",
        "  \n",
        "  def Conv1D_BiLSTM_model(self,sh):\n",
        "    with strategy.scope():\n",
        "      model = tf.keras.models.Sequential([\n",
        "        tf.keras.layers.Input(shape=(sh,1)),\n",
        "        # tf.keras.layers.Conv1D(32,3, activation='relu',padding='valid'),\n",
        "        # tf.keras.layers.MaxPooling1D(pool_size=3),\n",
        "        # tf.keras.layers.Conv1D(32,3, activation='relu',padding='valid'),\n",
        "        # tf.keras.layers.MaxPooling1D(pool_size=3),\n",
        "        # tf.keras.layers.Dropout(0.5),\n",
        "        tf.keras.layers.Bidirectional(tf.keras.layers.LSTM(16,return_sequences=True, dropout=0.2, recurrent_dropout=0.3)),\n",
        "        tf.keras.layers.Flatten(),\n",
        "        tf.keras.layers.Dense(512, activation='sigmoid'),\n",
        "        tf.keras.layers.Dense(256, activation='sigmoid'),\n",
        "        tf.keras.layers.Dense(128, activation='sigmoid'),\n",
        "        tf.keras.layers.Dense(64, activation='sigmoid'),\n",
        "        tf.keras.layers.Dense(5, activation='softmax')        \n",
        "        ])\n",
        "      model.compile(loss='categorical_crossentropy',\n",
        "                optimizer=tf.keras.optimizers.Adam(),\n",
        "                metrics=['accuracy'])\n",
        "      model.summary()\n",
        "    return model\n",
        "  \n",
        "  def Conv1D_BiGRU_model(self,sh):\n",
        "    with strategy.scope():\n",
        "      model = tf.keras.models.Sequential([\n",
        "        tf.keras.layers.Input(shape=(sh,1)),\n",
        "        # tf.keras.layers.Conv1D(32,3, activation='relu',padding='valid'),\n",
        "        # tf.keras.layers.MaxPooling1D(pool_size=3),\n",
        "        # tf.keras.layers.Conv1D(32,3, activation='relu',padding='valid'),\n",
        "        # tf.keras.layers.MaxPooling1D(pool_size=3),\n",
        "        # tf.keras.layers.Dropout(0.5),\n",
        "        tf.keras.layers.Bidirectional(tf.keras.layers.GRU(16,return_sequences=True, dropout=0.2, recurrent_dropout=0.3)),\n",
        "        tf.keras.layers.Flatten(),\n",
        "        tf.keras.layers.Dense(512, activation='sigmoid'),\n",
        "        tf.keras.layers.Dense(256, activation='sigmoid'),\n",
        "        tf.keras.layers.Dense(128, activation='sigmoid'),\n",
        "        tf.keras.layers.Dense(64, activation='sigmoid'),\n",
        "        tf.keras.layers.Dense(5, activation='softmax')        \n",
        "        ])\n",
        "      model.compile(loss='categorical_crossentropy',\n",
        "                optimizer=tf.keras.optimizers.Adam(),\n",
        "                metrics=['accuracy'])\n",
        "      model.summary()\n",
        "    return model\n",
        "\n",
        "  def run_train(self,model):\n",
        "    his = []\n",
        "    for i in range(5):\n",
        "      x_tr,y_tr,x_ts,y_ts = self.prepare_data(i)\n",
        "      # print(train_ds.shape)\n",
        "      # print(test_ds.shape)\n",
        "      his.append(model.fit(x = x_tr,y=y_tr,validation_data=(x_ts,y_ts),epochs=100,callbacks=[EarlyStopping()]))\n",
        "      # eval_loss, eval_acc = model.evaluate(x_ts,y_ts)\n",
        "      # his.append((eval_loss,eval_acc))\n",
        "      \n",
        "    return his\n"
      ],
      "execution_count": null,
      "outputs": []
    },
    {
      "cell_type": "code",
      "metadata": {
        "id": "SaAi83W2_uj4"
      },
      "source": [
        "c = Conv1D()\n",
        "c.read_dataset('/content/drive/MyDrive/sent_use_690k.csv')\n",
        "# c.process_tensor()\n",
        "# # x = c.prepare_data(0)\n",
        "# # df = pd.read_csv('/content/drive/MyDrive/sar_use_data.csv')\n",
        "# x = c.process(512)"
      ],
      "execution_count": null,
      "outputs": []
    },
    {
      "cell_type": "code",
      "metadata": {
        "colab": {
          "base_uri": "https://localhost:8080/"
        },
        "id": "9jToQHVBf3tU",
        "outputId": "e2ce7dc2-8ce4-4ab2-d537-14be447314a5"
      },
      "source": [
        "c1d = c.Conv1D_BiGRU_model(512)\n",
        "x_c1d = c.process(c1d)"
      ],
      "execution_count": null,
      "outputs": [
        {
          "output_type": "stream",
          "text": [
            "Model: \"sequential_2\"\n",
            "_________________________________________________________________\n",
            "Layer (type)                 Output Shape              Param #   \n",
            "=================================================================\n",
            "bidirectional_2 (Bidirection (None, 512, 32)           1824      \n",
            "_________________________________________________________________\n",
            "flatten_2 (Flatten)          (None, 16384)             0         \n",
            "_________________________________________________________________\n",
            "dense_10 (Dense)             (None, 512)               8389120   \n",
            "_________________________________________________________________\n",
            "dense_11 (Dense)             (None, 256)               131328    \n",
            "_________________________________________________________________\n",
            "dense_12 (Dense)             (None, 128)               32896     \n",
            "_________________________________________________________________\n",
            "dense_13 (Dense)             (None, 64)                8256      \n",
            "_________________________________________________________________\n",
            "dense_14 (Dense)             (None, 5)                 325       \n",
            "=================================================================\n",
            "Total params: 8,563,749\n",
            "Trainable params: 8,563,749\n",
            "Non-trainable params: 0\n",
            "_________________________________________________________________\n",
            "Epoch 1/100\n",
            "17250/17250 [==============================] - 771s 44ms/step - loss: 1.0791 - accuracy: 0.5501 - val_loss: 0.9447 - val_accuracy: 0.6150\n",
            "Epoch 2/100\n",
            "17250/17250 [==============================] - 762s 44ms/step - loss: 0.9428 - accuracy: 0.6172 - val_loss: 0.9191 - val_accuracy: 0.6292\n",
            "Epoch 3/100\n",
            "17250/17250 [==============================] - 762s 44ms/step - loss: 0.9069 - accuracy: 0.6328 - val_loss: 0.9068 - val_accuracy: 0.6346\n",
            "Epoch 4/100\n",
            "17250/17250 [==============================] - 760s 44ms/step - loss: 0.8851 - accuracy: 0.6418 - val_loss: 0.8990 - val_accuracy: 0.6377\n",
            "Epoch 5/100\n",
            "17250/17250 [==============================] - 759s 44ms/step - loss: 0.8626 - accuracy: 0.6509 - val_loss: 0.8972 - val_accuracy: 0.6397\n",
            "Epoch 6/100\n",
            "17250/17250 [==============================] - 760s 44ms/step - loss: 0.8441 - accuracy: 0.6594 - val_loss: 0.8915 - val_accuracy: 0.6424\n",
            "Epoch 7/100\n",
            "17250/17250 [==============================] - 758s 44ms/step - loss: 0.8237 - accuracy: 0.6687 - val_loss: 0.8924 - val_accuracy: 0.6418\n",
            "Epoch 1/100\n",
            "17250/17250 [==============================] - 764s 44ms/step - loss: 0.8396 - accuracy: 0.6626 - val_loss: 0.7950 - val_accuracy: 0.6798\n",
            "Epoch 2/100\n",
            "17250/17250 [==============================] - 762s 44ms/step - loss: 0.8178 - accuracy: 0.6718 - val_loss: 0.7990 - val_accuracy: 0.6793\n",
            "Epoch 1/100\n",
            "17250/17250 [==============================] - 764s 44ms/step - loss: 0.8107 - accuracy: 0.6745 - val_loss: 0.7613 - val_accuracy: 0.6976\n",
            "Epoch 2/100\n",
            "17250/17250 [==============================] - 764s 44ms/step - loss: 0.7890 - accuracy: 0.6837 - val_loss: 0.7727 - val_accuracy: 0.6914\n",
            "Epoch 1/100\n",
            "17250/17250 [==============================] - 763s 44ms/step - loss: 0.7858 - accuracy: 0.6858 - val_loss: 0.7247 - val_accuracy: 0.7147\n",
            "Epoch 2/100\n",
            "17250/17250 [==============================] - 762s 44ms/step - loss: 0.7647 - accuracy: 0.6942 - val_loss: 0.7325 - val_accuracy: 0.7079\n",
            "Epoch 1/100\n",
            "17250/17250 [==============================] - 763s 44ms/step - loss: 0.7629 - accuracy: 0.6949 - val_loss: 0.6947 - val_accuracy: 0.7243\n",
            "Epoch 2/100\n",
            "17250/17250 [==============================] - 763s 44ms/step - loss: 0.7421 - accuracy: 0.7033 - val_loss: 0.6971 - val_accuracy: 0.7239\n"
          ],
          "name": "stdout"
        }
      ]
    },
    {
      "cell_type": "code",
      "metadata": {
        "id": "-L-EAxK84fWQ"
      },
      "source": [
        "dfs = []\n",
        "for i in range(len(x_c1d['history'])):\n",
        "  df = pd.DataFrame.from_dict(x_c1d['history'][i].history)\n",
        "  df['fold'] = i+1\n",
        "  df['epoch'] = [i+1 for i in range(len(df))]\n",
        "  dfs.append(df)"
      ],
      "execution_count": null,
      "outputs": []
    },
    {
      "cell_type": "code",
      "metadata": {
        "id": "4Sev85bw4px5"
      },
      "source": [
        "df_fin = pd.concat(dfs,ignore_index=True)\n",
        "df_fin.to_csv('/content/drive/MyDrive/sent_use_BiGRU.csv',index = False,header = True)"
      ],
      "execution_count": null,
      "outputs": []
    },
    {
      "cell_type": "code",
      "metadata": {
        "id": "-rfW5gyUvoS1"
      },
      "source": [
        "dfs = []\n",
        "for i in range(len(x['history'])):\n",
        "  df = pd.DataFrame.from_dict(x['history'][i].history)\n",
        "  df['fold'] = i+1\n",
        "  df['epoch'] = [i+1 for i in range(len(df))]\n",
        "  dfs.append(df)"
      ],
      "execution_count": null,
      "outputs": []
    },
    {
      "cell_type": "code",
      "metadata": {
        "id": "zOPDQrrMvsKJ"
      },
      "source": [
        "df_fin = pd.concat(dfs,ignore_index=True)"
      ],
      "execution_count": null,
      "outputs": []
    },
    {
      "cell_type": "code",
      "metadata": {
        "id": "FSvnN6n1vzLg"
      },
      "source": [
        "df_fin.to_csv('/content/drive/MyDrive/sar_use_CONV-1D-2-BiGRU.csv',index = False,header = True)"
      ],
      "execution_count": null,
      "outputs": []
    },
    {
      "cell_type": "code",
      "metadata": {
        "id": "gSN-i9r0Xxvj"
      },
      "source": [
        "x_tr,y_tr,x_ts,y_ts = x"
      ],
      "execution_count": null,
      "outputs": []
    },
    {
      "cell_type": "code",
      "metadata": {
        "id": "62pGLTiBX_cB"
      },
      "source": [
        "x_tr = tf.convert_to_tensor(x_tr, np.float32)\n",
        "y_tr = tf.convert_to_tensor(y_tr, np.float32)"
      ],
      "execution_count": null,
      "outputs": []
    },
    {
      "cell_type": "code",
      "metadata": {
        "colab": {
          "base_uri": "https://localhost:8080/"
        },
        "id": "4NH0sycic8Dr",
        "outputId": "18a1b38d-dfa7-41f1-e9f4-be3b73ffc942"
      },
      "source": [
        "y_tr"
      ],
      "execution_count": null,
      "outputs": [
        {
          "output_type": "execute_result",
          "data": {
            "text/plain": [
              "<tf.Tensor: shape=(235200, 2), dtype=float32, numpy=\n",
              "array([[0., 1.],\n",
              "       [0., 1.],\n",
              "       [0., 1.],\n",
              "       ...,\n",
              "       [1., 0.],\n",
              "       [1., 0.],\n",
              "       [1., 0.]], dtype=float32)>"
            ]
          },
          "metadata": {
            "tags": []
          },
          "execution_count": 41
        }
      ]
    },
    {
      "cell_type": "code",
      "metadata": {
        "id": "Dk655qgpc9Gw"
      },
      "source": [
        ""
      ],
      "execution_count": null,
      "outputs": []
    },
    {
      "cell_type": "code",
      "metadata": {
        "id": "RniCo8iFZN41"
      },
      "source": [
        "train_ds = tf.data.Dataset.from_tensor_slices((x_tr, y_tr))"
      ],
      "execution_count": null,
      "outputs": []
    },
    {
      "cell_type": "code",
      "metadata": {
        "colab": {
          "base_uri": "https://localhost:8080/"
        },
        "id": "92uUrkhlZibN",
        "outputId": "d7ef1f97-5719-473f-c655-e1f3338c7db0"
      },
      "source": [
        "train_ds."
      ],
      "execution_count": null,
      "outputs": [
        {
          "output_type": "execute_result",
          "data": {
            "text/plain": [
              "<TensorSliceDataset shapes: ((512, 1), (2,)), types: (tf.float32, tf.float32)>"
            ]
          },
          "metadata": {
            "tags": []
          },
          "execution_count": 31
        }
      ]
    },
    {
      "cell_type": "code",
      "metadata": {
        "id": "d9ABhJUeGU8b"
      },
      "source": [
        "acc = []\n",
        "val_acc = []\n",
        "loss = []\n",
        "val_loss = []\n",
        "for i in range(len(x['history'])):\n",
        "  acc.append(x['history'][i].history['accuracy'][-1])\n",
        "  loss.append(x['history'][i].history['loss'][-1])\n",
        "  val_acc.append(x['history'][i].history['val_accuracy'][-1])\n",
        "  val_loss.append(x['history'][i].history['val_loss'][-1])"
      ],
      "execution_count": null,
      "outputs": []
    },
    {
      "cell_type": "code",
      "metadata": {
        "id": "hVOaltPUGX-t"
      },
      "source": [
        "res = {'Conv1D accuracy': acc,'Conv1D loss':loss,'Conv1D val_loss':val_loss,'Conv1D val_accuracy':val_acc}"
      ],
      "execution_count": null,
      "outputs": []
    },
    {
      "cell_type": "code",
      "metadata": {
        "id": "B0prh2jfGbTK"
      },
      "source": [
        "model = tf.keras.models.Sequential([\n",
        "        tf.keras.layers.Input(shape=(512,1)),\n",
        "        tf.keras.layers.Conv1D(32,3, activation='relu',padding='valid'),\n",
        "        tf.keras.layers.MaxPooling1D(pool_size=3),\n",
        "        tf.keras.layers.Conv1D(32,3, activation='relu',padding='valid'),\n",
        "        # tf.keras.layers.AveragePooling1D(pool_size=3, strides=1),\n",
        "        # tf.keras.layers.Dropout(0.25),\n",
        "        # tf.keras.layers.Conv1D(32,3,activation='relu',padding='same'),\n",
        "        # tf.keras.layers.Conv1D(32,3,activation='relu',padding='same'),\n",
        "        \n",
        "        # tf.keras.layers.Bidirectional(tf.keras.layers.LSTM(16,return_sequences=True, dropout=0.2, recurrent_dropout=0.3)),\n",
        "        \n",
        "        tf.keras.layers.MaxPooling1D(pool_size=3),\n",
        "        tf.keras.layers.Dropout(0.5),\n",
        "        # tf.keras.layers.Bidirectional(tf.keras.layers.GRU(16,return_sequences=True, dropout=0.2, recurrent_dropout=0.3)),\n",
        "        tf.keras.layers.Flatten(),\n",
        "        # tf.keras.layers.Dropout(0.5),\n",
        "        # tf.keras.layers.MaxPooling1D(pool_size=3),\n",
        "        # tf.keras.layers.Flatten(),\n",
        "        tf.keras.layers.Dense(512, activation='sigmoid'),\n",
        "        tf.keras.layers.Dense(256, activation='sigmoid'),\n",
        "        tf.keras.layers.Dense(128, activation='sigmoid'),\n",
        "        tf.keras.layers.Dense(64, activation='sigmoid'),\n",
        "        tf.keras.layers.Dense(2, activation='softmax')        \n",
        "        ])"
      ],
      "execution_count": null,
      "outputs": []
    },
    {
      "cell_type": "code",
      "metadata": {
        "colab": {
          "base_uri": "https://localhost:8080/"
        },
        "id": "DNyQkH2LjMqE",
        "outputId": "df759539-6cb1-4523-dc07-d31d8c611844"
      },
      "source": [
        "model.summary()"
      ],
      "execution_count": null,
      "outputs": [
        {
          "output_type": "stream",
          "text": [
            "Model: \"sequential_2\"\n",
            "_________________________________________________________________\n",
            "Layer (type)                 Output Shape              Param #   \n",
            "=================================================================\n",
            "conv1d_4 (Conv1D)            (None, 510, 32)           128       \n",
            "_________________________________________________________________\n",
            "max_pooling1d_3 (MaxPooling1 (None, 170, 32)           0         \n",
            "_________________________________________________________________\n",
            "conv1d_5 (Conv1D)            (None, 168, 32)           3104      \n",
            "_________________________________________________________________\n",
            "max_pooling1d_4 (MaxPooling1 (None, 56, 32)            0         \n",
            "_________________________________________________________________\n",
            "dropout_2 (Dropout)          (None, 56, 32)            0         \n",
            "_________________________________________________________________\n",
            "flatten_2 (Flatten)          (None, 1792)              0         \n",
            "_________________________________________________________________\n",
            "dense_10 (Dense)             (None, 512)               918016    \n",
            "_________________________________________________________________\n",
            "dense_11 (Dense)             (None, 256)               131328    \n",
            "_________________________________________________________________\n",
            "dense_12 (Dense)             (None, 128)               32896     \n",
            "_________________________________________________________________\n",
            "dense_13 (Dense)             (None, 64)                8256      \n",
            "_________________________________________________________________\n",
            "dense_14 (Dense)             (None, 2)                 130       \n",
            "=================================================================\n",
            "Total params: 1,093,858\n",
            "Trainable params: 1,093,858\n",
            "Non-trainable params: 0\n",
            "_________________________________________________________________\n"
          ],
          "name": "stdout"
        }
      ]
    },
    {
      "cell_type": "code",
      "metadata": {
        "id": "3gjy3q8rjODP"
      },
      "source": [
        ""
      ],
      "execution_count": null,
      "outputs": []
    }
  ]
}