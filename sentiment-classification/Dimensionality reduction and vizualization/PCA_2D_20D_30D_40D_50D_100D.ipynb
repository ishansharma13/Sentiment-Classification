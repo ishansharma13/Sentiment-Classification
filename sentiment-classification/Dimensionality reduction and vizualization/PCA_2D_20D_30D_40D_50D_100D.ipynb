{
  "nbformat": 4,
  "nbformat_minor": 0,
  "metadata": {
    "colab": {
      "name": "PCA_2D_20D_30D_40D_50D_100D",
      "provenance": [],
      "collapsed_sections": []
    },
    "kernelspec": {
      "name": "python3",
      "display_name": "Python 3"
    },
    "language_info": {
      "name": "python"
    }
  },
  "cells": [
    {
      "cell_type": "code",
      "metadata": {
        "colab": {
          "base_uri": "https://localhost:8080/"
        },
        "id": "0WwGPgUnCUIB",
        "outputId": "f9f68d42-1875-4cca-befb-5f27a0c2e849"
      },
      "source": [
        "!pip install pyspark"
      ],
      "execution_count": null,
      "outputs": [
        {
          "output_type": "stream",
          "text": [
            "Collecting pyspark\n",
            "\u001b[?25l  Downloading https://files.pythonhosted.org/packages/45/b0/9d6860891ab14a39d4bddf80ba26ce51c2f9dc4805e5c6978ac0472c120a/pyspark-3.1.1.tar.gz (212.3MB)\n",
            "\u001b[K     |████████████████████████████████| 212.3MB 71kB/s \n",
            "\u001b[?25hCollecting py4j==0.10.9\n",
            "\u001b[?25l  Downloading https://files.pythonhosted.org/packages/9e/b6/6a4fb90cd235dc8e265a6a2067f2a2c99f0d91787f06aca4bcf7c23f3f80/py4j-0.10.9-py2.py3-none-any.whl (198kB)\n",
            "\u001b[K     |████████████████████████████████| 204kB 19.7MB/s \n",
            "\u001b[?25hBuilding wheels for collected packages: pyspark\n",
            "  Building wheel for pyspark (setup.py) ... \u001b[?25l\u001b[?25hdone\n",
            "  Created wheel for pyspark: filename=pyspark-3.1.1-py2.py3-none-any.whl size=212767604 sha256=39b2e3e39352a6ea8181159a779bb7b4e799d085a03a33c7b37ac1a18fb7dbb6\n",
            "  Stored in directory: /root/.cache/pip/wheels/0b/90/c0/01de724414ef122bd05f056541fb6a0ecf47c7ca655f8b3c0f\n",
            "Successfully built pyspark\n",
            "Installing collected packages: py4j, pyspark\n",
            "Successfully installed py4j-0.10.9 pyspark-3.1.1\n"
          ],
          "name": "stdout"
        }
      ]
    },
    {
      "cell_type": "code",
      "metadata": {
        "colab": {
          "base_uri": "https://localhost:8080/"
        },
        "id": "Z02e4wtjC1V6",
        "outputId": "487a2fe9-bf01-4e50-ebe7-0fddd2191bbc"
      },
      "source": [
        "from google.colab import drive\n",
        "drive.mount('/content/drive')"
      ],
      "execution_count": null,
      "outputs": [
        {
          "output_type": "stream",
          "text": [
            "Drive already mounted at /content/drive; to attempt to forcibly remount, call drive.mount(\"/content/drive\", force_remount=True).\n"
          ],
          "name": "stdout"
        }
      ]
    },
    {
      "cell_type": "code",
      "metadata": {
        "id": "_VQ30F5DDIyY"
      },
      "source": [
        "from pyspark.sql import SparkSession as ss\n",
        "\n",
        "spark = ss.builder.getOrCreate()"
      ],
      "execution_count": null,
      "outputs": []
    },
    {
      "cell_type": "code",
      "metadata": {
        "id": "MIiuOKWp4yLb"
      },
      "source": [
        "from pyspark.sql.types import StringType, DoubleType, StructType, StructField\n",
        "from pyspark.ml.linalg import VectorUDT\n",
        "# u_id: string (nullable = true)\n",
        "#  |-- USE_embed: vector (nullable = true)\n",
        "#  |-- mean_sent_score: double (nullable = true)\n",
        "#  |-- final_sent_class: string (nullable = true)\n",
        "#  |-- Train/Test: string (nullable = false)\n",
        "\n",
        "\n",
        "\n",
        "# schema = StructType([StructField('USE_embed', VectorUDT(), True),\n",
        "#                      StructField('mean_sent_score', DoubleType(), True),\n",
        "#                      StructField('final_sent_class', StringType(), True),\n",
        "#                      StructField('Train/Test',StringType(),True)])"
      ],
      "execution_count": null,
      "outputs": []
    },
    {
      "cell_type": "code",
      "metadata": {
        "id": "LBL1EtEmDV2g"
      },
      "source": [
        "df = spark.read.parquet('/content/drive/My Drive/Sentence Embeddings/USE_EMBED_mod_all_final',header = True,multiLine = True,inferSchema = True)"
      ],
      "execution_count": null,
      "outputs": []
    },
    {
      "cell_type": "code",
      "metadata": {
        "id": "jlPYpHN6D0JM"
      },
      "source": [
        "df1 = df.select(\"USE_embed\",\"Train/Test\",\"final_sent_class\")"
      ],
      "execution_count": null,
      "outputs": []
    },
    {
      "cell_type": "code",
      "metadata": {
        "colab": {
          "base_uri": "https://localhost:8080/"
        },
        "id": "op7o4VTRNzPh",
        "outputId": "c4995275-0f5b-4c5a-f04d-5ba8b72f09e5"
      },
      "source": [
        "df1.show()"
      ],
      "execution_count": null,
      "outputs": [
        {
          "output_type": "stream",
          "text": [
            "+--------------------+----------+----------------+\n",
            "|           USE_embed|Train/Test|final_sent_class|\n",
            "+--------------------+----------+----------------+\n",
            "|[-0.0447620600461...|Train_Data|             Pos|\n",
            "|[-0.0031811974477...|Train_Data|             Pos|\n",
            "|[0.02649729140102...|Train_Data|             Neg|\n",
            "|[0.00219017313793...|Train_Data|             Neg|\n",
            "|[0.03250433504581...|Train_Data|             Neg|\n",
            "|[-0.0042915488593...|Train_Data|             Neu|\n",
            "|[0.03137646242976...|Train_Data|            VPos|\n",
            "|[0.01750919222831...|Train_Data|             Neg|\n",
            "|[-0.0673646926879...|Train_Data|             Neu|\n",
            "|[-0.0862222686409...|Train_Data|             Pos|\n",
            "|[-0.0054600276052...|Train_Data|             Neu|\n",
            "|[0.05736451968550...|Train_Data|            VNeg|\n",
            "|[-0.0177575312554...|Train_Data|             Pos|\n",
            "|[0.05297778546810...|Train_Data|             Neg|\n",
            "|[0.01868452318012...|Train_Data|             Neu|\n",
            "|[0.01999289356172...|Train_Data|             Neu|\n",
            "|[0.03525874018669...|Train_Data|             Pos|\n",
            "|[0.04246117547154...|Train_Data|             Pos|\n",
            "|[0.00140560942236...|Train_Data|             Neg|\n",
            "|[0.06528464704751...|Train_Data|             Neu|\n",
            "+--------------------+----------+----------------+\n",
            "only showing top 20 rows\n",
            "\n"
          ],
          "name": "stdout"
        }
      ]
    },
    {
      "cell_type": "code",
      "metadata": {
        "id": "hBdB_W-fFWyw"
      },
      "source": [
        "from pyspark.ml.feature import PCA\n",
        "\n",
        "pca = PCA(k=200, inputCol=\"USE_embed\", outputCol=\"pcaFeatures\")\n",
        "model = pca.fit(df1)\n",
        "\n",
        "result = model.transform(df1).select(\"pcaFeatures\",\"Train/Test\",\"final_sent_class\")\n",
        "result.show(truncate=False)\n"
      ],
      "execution_count": null,
      "outputs": []
    },
    {
      "cell_type": "code",
      "metadata": {
        "colab": {
          "base_uri": "https://localhost:8080/"
        },
        "id": "EVzJwipmY8_d",
        "outputId": "8248fc06-4d7f-4a70-eeef-263d3e185da1"
      },
      "source": [
        "from pyspark.ml.feature import StringIndexer\n",
        "class_indexer = StringIndexer(inputCol=\"final_sent_class\", outputCol=\"target\")\n",
        "set_indexer = StringIndexer(inputCol=\"Train/Test\", outputCol=\"Train/Test_numeric\")\n",
        "res = class_indexer.fit(result).transform(result)\n",
        "res_f = set_indexer.fit(res).transform(res)\n",
        "res_f.show()"
      ],
      "execution_count": null,
      "outputs": [
        {
          "output_type": "stream",
          "text": [
            "+--------------------+----------+----------------+------+------------------+\n",
            "|         pcaFeatures|Train/Test|final_sent_class|target|Train/Test_numeric|\n",
            "+--------------------+----------+----------------+------+------------------+\n",
            "|[-0.0809263841557...|Train_Data|             Pos|   0.0|               0.0|\n",
            "|[0.25014448951087...|Train_Data|             Pos|   0.0|               0.0|\n",
            "|[-0.3692611182932...|Train_Data|             Neg|   1.0|               0.0|\n",
            "|[0.12337869379586...|Train_Data|             Neg|   1.0|               0.0|\n",
            "|[-0.0837672505061...|Train_Data|             Neg|   1.0|               0.0|\n",
            "|[-0.1148557734415...|Train_Data|             Neu|   2.0|               0.0|\n",
            "|[0.01599825095628...|Train_Data|            VPos|   3.0|               0.0|\n",
            "|[-0.0673015852529...|Train_Data|             Neg|   1.0|               0.0|\n",
            "|[-0.1048613737303...|Train_Data|             Neu|   2.0|               0.0|\n",
            "|[-0.4277537223995...|Train_Data|             Pos|   0.0|               0.0|\n",
            "|[0.38011820351664...|Train_Data|             Neu|   2.0|               0.0|\n",
            "|[0.03331494380431...|Train_Data|            VNeg|   4.0|               0.0|\n",
            "|[-0.3809252339953...|Train_Data|             Pos|   0.0|               0.0|\n",
            "|[0.13745586912565...|Train_Data|             Neg|   1.0|               0.0|\n",
            "|[-0.2490769047556...|Train_Data|             Neu|   2.0|               0.0|\n",
            "|[-0.0735334610167...|Train_Data|             Neu|   2.0|               0.0|\n",
            "|[0.01044573381607...|Train_Data|             Pos|   0.0|               0.0|\n",
            "|[-0.0357954577741...|Train_Data|             Pos|   0.0|               0.0|\n",
            "|[0.35012734324602...|Train_Data|             Neg|   1.0|               0.0|\n",
            "|[0.20610407825347...|Train_Data|             Neu|   2.0|               0.0|\n",
            "+--------------------+----------+----------------+------+------------------+\n",
            "only showing top 20 rows\n",
            "\n"
          ],
          "name": "stdout"
        }
      ]
    },
    {
      "cell_type": "code",
      "metadata": {
        "id": "6vxnLNqhYYvM"
      },
      "source": [
        "from pyspark.ml.feature import VectorAssembler\n",
        "inputCols = [\n",
        " \"pcaFeatures\",\n",
        " \"target\",\n",
        " \"Train/Test_numeric\"\n",
        "]\n",
        "outputCol = \"features\"\n",
        "df_va = VectorAssembler(inputCols = inputCols, outputCol = outputCol)\n",
        "df_new = df_va.transform(res_f)\n"
      ],
      "execution_count": null,
      "outputs": []
    },
    {
      "cell_type": "code",
      "metadata": {
        "colab": {
          "base_uri": "https://localhost:8080/"
        },
        "id": "8bFkcioy-2xO",
        "outputId": "dbe73edc-03a4-4e1e-ab1b-1850708e94d4"
      },
      "source": [
        "x = [-0.08092638415574055,0.15166664745191005,-0.17097584719393696,-0.10766566593892939,0.026162333740846214,0.21000998469263454,0.08406478458145886,-0.016787843365595363,-0.05281778973223864,-0.13561125657326442,-0.15784140174257139,-0.16491373638262397,-0.03649214928145408,0.20487370476842387,0.25484367282906517,-0.053793184809303035,0.12754842059188778,0.06362132507461153,0.0839338250384004,0.2418652592834569,0.0,0.0]\n",
        "len(x)\n",
        "# df_new.select(\"features\").show(truncate = False)"
      ],
      "execution_count": null,
      "outputs": [
        {
          "output_type": "execute_result",
          "data": {
            "text/plain": [
              "22"
            ]
          },
          "metadata": {
            "tags": []
          },
          "execution_count": 20
        }
      ]
    },
    {
      "cell_type": "code",
      "metadata": {
        "id": "aNUuF1BbOgDk"
      },
      "source": [
        "from pyspark.ml.functions import vector_to_array\n",
        "from pyspark.sql.functions import col\n",
        "\n",
        "df2_p1 = df_new.withColumn(\"xs\", vector_to_array(\"features\")).select([col(\"xs\")[i] for i in range(0,20)])\n",
        "df2_p2 = df_new.withColumn(\"xs\", vector_to_array(\"features\")).select([col(\"xs\")[i] for i in range(20,40)])\n",
        "df2_p3 = df_new.withColumn(\"xs\", vector_to_array(\"features\")).select([col(\"xs\")[i] for i in range(40,52)])\n",
        "# df2_p4 = df_new.withColumn(\"xs\",vector_to_array(\"features\")).select([col(\"xs\")[i] for i in range(75,101)])"
      ],
      "execution_count": null,
      "outputs": []
    },
    {
      "cell_type": "code",
      "metadata": {
        "colab": {
          "base_uri": "https://localhost:8080/"
        },
        "id": "ireAq7CUgtCM",
        "outputId": "c3b25506-55bf-4cf2-c7e6-9261a9274e32"
      },
      "source": [
        "df2_p3.show()"
      ],
      "execution_count": null,
      "outputs": [
        {
          "output_type": "stream",
          "text": [
            "+--------------------+--------------------+--------------------+--------------------+--------------------+--------------------+--------------------+--------------------+--------------------+--------------------+------+------+\n",
            "|              xs[40]|              xs[41]|              xs[42]|              xs[43]|              xs[44]|              xs[45]|              xs[46]|              xs[47]|              xs[48]|              xs[49]|xs[50]|xs[51]|\n",
            "+--------------------+--------------------+--------------------+--------------------+--------------------+--------------------+--------------------+--------------------+--------------------+--------------------+------+------+\n",
            "|-0.01440190177587...| 0.07327324695618691|-0.00857496204046...| 0.11785529309814458|-0.04738044870307...|0.004800771490565853| 0.07768097438331885|-0.05359218659177853|0.025458331815397712| 0.18578204504399076|   0.0|   0.0|\n",
            "| 0.10708381843017085|0.003108615194534934|-0.02438550753070579|-0.01679864423350...|0.001979718491303693|-0.07984980118691522|-0.01181956159647...|0.001839412835781...|-0.03577074048521...| 0.09757732316845745|   0.0|   0.0|\n",
            "| 0.03859616405441334|-0.02401298721707608|-0.06215762486673146| 0.06108520182234879|0.012385283090363117|-0.00444849083406...|-0.06752407554346347|-0.03910772062808...| 0.09401788541770115|0.027940840248055553|   1.0|   0.0|\n",
            "|-0.01082655068072...|0.030502560340041267|-0.10303573218279943|0.058966777008099054|-0.05009922412879089|0.025131594097799814|-0.01306418327551...|-0.04616292276326...| 0.04954236486430872|-0.08340508417997083|   1.0|   0.0|\n",
            "| -0.2013444023708884|0.010441232983525926| 0.04847762493248692|0.022356167603479898|-0.12901976259068063|-0.04929610068904...|0.034380722549457066|-0.02413810680822...| 0.03347482220769753|-0.00190518670769...|   1.0|   0.0|\n",
            "|-0.04337897617842263|  0.0863325056454543|-0.12872485234139294| 0.10711745451192421|0.040716590742813474|0.009098032050306184| 0.09116999793976913|0.049093989168853616|-0.05067414557444025|0.029200817709342283|   2.0|   0.0|\n",
            "|-0.10586675482112971| 0.14561012475176388|0.029067535066993923| 0.13174012042094518| 0.06540908753736979|-0.01393016977728982|-0.11489732078065643|0.003615297687494...| 0.04518561027328554| 0.12101327900249925|   3.0|   0.0|\n",
            "|-0.06917451629630653|-0.07244803493708657|-0.10164628945438033| 0.14074762148011252|0.050217882967902784|-0.05800075130303...|0.011622558590528378|-0.03530175239058556|-0.02736796511531...|0.003754288213432...|   1.0|   0.0|\n",
            "|-0.04003931540155264|-0.07833243778494865|-0.15710698733151937|  0.0580413799213183| 0.03725467102147088| 0.07054074059763545|  0.0632852196436032|0.014284313401741636| 0.07485301500165543| 0.02994636583674346|   2.0|   0.0|\n",
            "|-0.07989259574025996|-0.09783809168446347|0.038335737463933345|-0.09881545325155967|0.044253225881994394|-0.02639310487949...|0.022170075115391024| 0.10145095281913596|-0.07243676009531909|-0.05276643548689926|   0.0|   0.0|\n",
            "| 0.04443976422780507|-0.07631427894922098|-0.05471284204760517|-0.04306830554627051|-0.10772610125228493|-0.01469299860910...|-0.00765160627590...| 0.02486025974499149|0.014861412853232132| 4.77797089655125E-4|   2.0|   0.0|\n",
            "|-0.06829350810287176|0.028465132598526614|-0.07260283626205569|-0.00826249387748...|0.002496120334241...| 0.07231162926090569|-0.03371621742855...|0.012528871702284367|-0.06579965375609954|-0.05938697856929...|   4.0|   0.0|\n",
            "|-0.23765310670049944|-0.03136774218463513|-0.00383795639350...| 0.02342447117334398|-0.00100731895900...|-0.00375903927618...|-0.15851077755912976| 0.02496286548719735| 0.10005871901493947| 0.01360804840609679|   0.0|   0.0|\n",
            "|0.022252035159052542| 0.04868464766674928|0.047666091116073804|0.006597903491533...|-0.08161293366718608|-0.01733842554335582| 0.05929092325894508|0.049842778050050204| 0.05197809532620919|-0.03807301838812558|   1.0|   0.0|\n",
            "| 0.06410696099442038|-0.06584110516977341|-0.10936733193152774|-0.10631058422895402| 0.06862525834761064| 0.04994883964929427|  0.0160583821115069| 0.12190639905939424| 0.02930012867192895|  0.0623750733363338|   2.0|   0.0|\n",
            "| 0.01945705039113014|0.009145280862265522|-0.10932985671488982| 0.06873906179040945|-0.05584578206344026|-0.03192127936368626| 0.02928042946955727| 0.07111064389391027|-0.01571778402110...|-0.06981283067235718|   2.0|   0.0|\n",
            "|0.011059786256618015|-0.06581673201686593|-0.15238618731648648| 0.16715233579993632|  0.1521505680814169|-0.01300327561351...|  0.0764483308594863|-0.03273495988967215|0.056720099380291426|0.054108309217684364|   0.0|   0.0|\n",
            "| 0.10995178167730475|-0.05613264848360...| 0.08276170636377522| 0.07070314128874419| 0.09218031264671006|-0.03916713103656149|-0.08252020806769068| 0.17126116251615042| 0.07680545169926976|-0.06478127447894179|   0.0|   0.0|\n",
            "|0.001279581425545021|  0.1117255419194261|0.005973830133847991| 0.00956983926820982|-0.06289701516791353| 0.07919056972586293| -0.1661374526893875|-0.00166334884853...| 0.04982526317513934|  0.1203135397292204|   1.0|   0.0|\n",
            "|  0.0575672341884907|-0.03588571420917192|-0.02806668330180582| 0.03674148376259473| 0.09765144530432171|-0.07122215864959494| 0.02439321826944634| 0.06928514554476044|-0.05574239068655398|0.007255605101619431|   2.0|   0.0|\n",
            "+--------------------+--------------------+--------------------+--------------------+--------------------+--------------------+--------------------+--------------------+--------------------+--------------------+------+------+\n",
            "only showing top 20 rows\n",
            "\n"
          ],
          "name": "stdout"
        }
      ]
    },
    {
      "cell_type": "code",
      "metadata": {
        "id": "AX5dTC40qkDu"
      },
      "source": [
        "from pyspark.sql import *\n",
        "from pyspark.sql.functions import *\n",
        "\n",
        "w=Window.orderBy(lit(1))\n",
        "\n",
        "df4=df2_p1.withColumn(\"rn\",row_number().over(w)-1)\n",
        "df3=res.select(\"u_id\").withColumn(\"rn\",row_number().over(w)-1)\n",
        "\n",
        "df4 = df4.join(df3,[\"rn\"]).drop(\"rn\")"
      ],
      "execution_count": null,
      "outputs": []
    },
    {
      "cell_type": "code",
      "metadata": {
        "id": "B-vZsSncpj9S"
      },
      "source": [
        ""
      ],
      "execution_count": null,
      "outputs": []
    },
    {
      "cell_type": "code",
      "metadata": {
        "colab": {
          "base_uri": "https://localhost:8080/"
        },
        "id": "W_ASejo7ssEn",
        "outputId": "af00829e-b0d6-4e0f-f6a6-e63c5d11e71f"
      },
      "source": [
        "df2_p1.printSchema()"
      ],
      "execution_count": null,
      "outputs": [
        {
          "output_type": "stream",
          "text": [
            "root\n",
            " |-- xs[0]: double (nullable = true)\n",
            " |-- xs[1]: double (nullable = true)\n",
            " |-- xs[2]: double (nullable = true)\n",
            " |-- xs[3]: double (nullable = true)\n",
            " |-- xs[4]: double (nullable = true)\n",
            " |-- xs[5]: double (nullable = true)\n",
            " |-- xs[6]: double (nullable = true)\n",
            " |-- xs[7]: double (nullable = true)\n",
            " |-- xs[8]: double (nullable = true)\n",
            " |-- xs[9]: double (nullable = true)\n",
            " |-- xs[10]: double (nullable = true)\n",
            " |-- xs[11]: double (nullable = true)\n",
            " |-- xs[12]: double (nullable = true)\n",
            " |-- xs[13]: double (nullable = true)\n",
            " |-- xs[14]: double (nullable = true)\n",
            " |-- xs[15]: double (nullable = true)\n",
            " |-- xs[16]: double (nullable = true)\n",
            " |-- xs[17]: double (nullable = true)\n",
            " |-- xs[18]: double (nullable = true)\n",
            " |-- xs[19]: double (nullable = true)\n",
            " |-- xs[20]: double (nullable = true)\n",
            " |-- xs[21]: double (nullable = true)\n",
            "\n"
          ],
          "name": "stdout"
        }
      ]
    },
    {
      "cell_type": "code",
      "metadata": {
        "id": "TA6XW4hkgt7u"
      },
      "source": [
        "ls = [-0.11553205251181606,-0.2593063849344816,0.027018887690345657,0.04465626242613705,-0.04112241663777816,0.30816824322783715,-0.03322550047120177,-0.028026552667863663,0.06377391681507573,0.18872072350627198,0.28358594089314215,-0.030165726853164283,0.05466480366314219,0.13862864878824646,-0.02524396261542477,0.029972463495577157,0.025260833339073738,0.05123203109072145,-0.06768830240470275,-0.014843957126907292,-0.1518633817970781,-0.14506551263602793,0.04966831692644326,-0.08558779734547567,-0.22358904506305066,-0.1795291501647179,0.1834087777932504,-5.938075151134263E-4,-0.11224060962982435,0.1351318018269279,0.04108651459511949,-0.14776377189247633,-0.0055304397122846105,-0.00765802385691248,0.0982566855719619,-0.20320660747370964,-0.17247527923010275,-0.09491252370431198,-0.007219139957646644,0.08283062170689293]"
      ],
      "execution_count": null,
      "outputs": []
    },
    {
      "cell_type": "code",
      "metadata": {
        "id": "3R-PNVq7PfT3"
      },
      "source": [
        "import numpy as np\n",
        "num_p1 = np.array(df2_p1.select('*').collect())\n",
        "num_p2 = np.array(df2_p2.select(\"*\").collect())\n",
        "num_p3 = np.array(df2_p3.select(\"*\").collect())\n",
        "# num_p4 = np.array(df2_p4.select(\"*\").collect())"
      ],
      "execution_count": null,
      "outputs": []
    },
    {
      "cell_type": "code",
      "metadata": {
        "id": "FDFfTCwoQ3ve",
        "colab": {
          "base_uri": "https://localhost:8080/"
        },
        "outputId": "13704eed-f271-4774-abac-135a3a30eccd"
      },
      "source": [
        "num_p3.shape"
      ],
      "execution_count": null,
      "outputs": [
        {
          "output_type": "execute_result",
          "data": {
            "text/plain": [
              "(1700330, 12)"
            ]
          },
          "metadata": {
            "tags": []
          },
          "execution_count": 64
        }
      ]
    },
    {
      "cell_type": "code",
      "metadata": {
        "id": "2o3SPm7rRBdy"
      },
      "source": [
        "rs = np.concatenate((num_p1,num_p2,num_p3),axis = 1)"
      ],
      "execution_count": null,
      "outputs": []
    },
    {
      "cell_type": "code",
      "metadata": {
        "colab": {
          "base_uri": "https://localhost:8080/"
        },
        "id": "Fa2aytlsmPav",
        "outputId": "f43544b7-11ec-465d-ebdd-9ed325d3992d"
      },
      "source": [
        "rs.shape"
      ],
      "execution_count": null,
      "outputs": [
        {
          "output_type": "execute_result",
          "data": {
            "text/plain": [
              "(1700330, 52)"
            ]
          },
          "metadata": {
            "tags": []
          },
          "execution_count": 66
        }
      ]
    },
    {
      "cell_type": "code",
      "metadata": {
        "id": "ua937gvwmj55"
      },
      "source": [
        "x = np.array(ls)"
      ],
      "execution_count": null,
      "outputs": []
    },
    {
      "cell_type": "code",
      "metadata": {
        "colab": {
          "base_uri": "https://localhost:8080/"
        },
        "id": "hD2krE60nKGI",
        "outputId": "f0ff7ff8-cded-4981-b385-a3982f4797ad"
      },
      "source": [
        "x.reshape((8,5))"
      ],
      "execution_count": null,
      "outputs": [
        {
          "output_type": "execute_result",
          "data": {
            "text/plain": [
              "array([[-0.11553205, -0.25930638,  0.02701889,  0.04465626, -0.04112242],\n",
              "       [ 0.30816824, -0.0332255 , -0.02802655,  0.06377392,  0.18872072],\n",
              "       [ 0.28358594, -0.03016573,  0.0546648 ,  0.13862865, -0.02524396],\n",
              "       [ 0.02997246,  0.02526083,  0.05123203, -0.0676883 , -0.01484396],\n",
              "       [-0.15186338, -0.14506551,  0.04966832, -0.0855878 , -0.22358905],\n",
              "       [-0.17952915,  0.18340878, -0.00059381, -0.11224061,  0.1351318 ],\n",
              "       [ 0.04108651, -0.14776377, -0.00553044, -0.00765802,  0.09825669],\n",
              "       [-0.20320661, -0.17247528, -0.09491252, -0.00721914,  0.08283062]])"
            ]
          },
          "metadata": {
            "tags": []
          },
          "execution_count": 23
        }
      ]
    },
    {
      "cell_type": "code",
      "metadata": {
        "id": "su98DNOqTMVU"
      },
      "source": [
        "import pickle\n",
        "\n",
        "pickle_out = open(\"/content/drive/My Drive/Sentence Embeddings/numpy_50D_with_labels.pickle\",\"wb\")\n",
        "pickle.dump(rs, pickle_out)\n",
        "pickle_out.close()"
      ],
      "execution_count": null,
      "outputs": []
    },
    {
      "cell_type": "code",
      "metadata": {
        "id": "R2UzaSZ2Jzkd"
      },
      "source": [
        "import sklearn.datasets\n",
        "import pandas as pd\n",
        "import numpy as np\n",
        "import umap\n"
      ],
      "execution_count": null,
      "outputs": []
    },
    {
      "cell_type": "code",
      "metadata": {
        "id": "F4TSCEBNKFL8"
      },
      "source": [
        "# pendigits = sklearn.datasets.load_digits()\n",
        "# mnist = sklearn.datasets.fetch_openml('mnist_784')\n",
        "fmnist = sklearn.datasets.fetch_openml('Fashion-MNIST')"
      ],
      "execution_count": null,
      "outputs": []
    },
    {
      "cell_type": "code",
      "metadata": {
        "colab": {
          "base_uri": "https://localhost:8080/"
        },
        "id": "qp15_RTwKHxC",
        "outputId": "2bafe041-e290-4305-b9fe-0eeb6cce0b1d"
      },
      "source": [
        "type(fmnist.data)"
      ],
      "execution_count": null,
      "outputs": [
        {
          "output_type": "execute_result",
          "data": {
            "text/plain": [
              "numpy.ndarray"
            ]
          },
          "metadata": {
            "tags": []
          },
          "execution_count": 30
        }
      ]
    },
    {
      "cell_type": "code",
      "metadata": {
        "id": "4bn0bYi_M5yM"
      },
      "source": [
        "from sklearn.datasets import fetch_openml\n",
        "from sklearn.decomposition import PCA\n",
        "import numpy as np\n",
        "import matplotlib.pyplot as plt\n",
        "import seaborn as sns\n",
        "%matplotlib inline\n",
        "\n",
        "# Dimension reduction and clustering libraries\n",
        "import umap\n",
        "# import hdbscan\n",
        "import sklearn.cluster as cluster\n",
        "from sklearn.metrics import adjusted_rand_score, adjusted_mutual_info_score\n"
      ],
      "execution_count": null,
      "outputs": []
    },
    {
      "cell_type": "code",
      "metadata": {
        "id": "UaWxOoXnNF01"
      },
      "source": [
        "mnist = fetch_openml('Fashion-MNIST', version=1)\n",
        "mnist.target = mnist.target.astype(int)\n"
      ],
      "execution_count": null,
      "outputs": []
    },
    {
      "cell_type": "code",
      "metadata": {
        "colab": {
          "base_uri": "https://localhost:8080/"
        },
        "id": "kYcH9F01NOVG",
        "outputId": "f5024c62-b7e3-4b36-b8d9-7378797dc253"
      },
      "source": [
        "mnist"
      ],
      "execution_count": null,
      "outputs": [
        {
          "output_type": "execute_result",
          "data": {
            "text/plain": [
              "{'DESCR': \"**Author**: Han Xiao, Kashif Rasul, Roland Vollgraf  \\n**Source**: [Zalando Research](https://github.com/zalandoresearch/fashion-mnist)  \\n**Please cite**: Han Xiao and Kashif Rasul and Roland Vollgraf, Fashion-MNIST: a Novel Image Dataset for Benchmarking Machine Learning Algorithms, arXiv, cs.LG/1708.07747  \\n\\nFashion-MNIST is a dataset of Zalando's article images, consisting of a training set of 60,000 examples and a test set of 10,000 examples. Each example is a 28x28 grayscale image, associated with a label from 10 classes. Fashion-MNIST is intended to serve as a direct drop-in replacement for the original MNIST dataset for benchmarking machine learning algorithms. It shares the same image size and structure of training and testing splits. \\n\\nRaw data available at: https://github.com/zalandoresearch/fashion-mnist\\n\\n### Target classes\\nEach training and test example is assigned to one of the following labels:\\nLabel  Description  \\n0  T-shirt/top  \\n1  Trouser  \\n2  Pullover  \\n3  Dress  \\n4  Coat  \\n5  Sandal  \\n6  Shirt  \\n7  Sneaker  \\n8  Bag  \\n9  Ankle boot\\n\\nDownloaded from openml.org.\",\n",
              " 'categories': {},\n",
              " 'data': array([[0., 0., 0., ..., 0., 0., 0.],\n",
              "        [0., 0., 0., ..., 0., 0., 0.],\n",
              "        [0., 0., 0., ..., 0., 0., 0.],\n",
              "        ...,\n",
              "        [0., 0., 0., ..., 0., 0., 0.],\n",
              "        [0., 0., 0., ..., 0., 0., 0.],\n",
              "        [0., 0., 0., ..., 0., 0., 0.]]),\n",
              " 'details': {'citation': '@online{xiao2017/online,\\n  author       = {Han Xiao and Kashif Rasul and Roland Vollgraf},\\n  title        = {Fashion-MNIST: a Novel Image Dataset for Benchmarking Machine Learning Algorithms},\\n  date         = {2017-08-28},\\n  year         = {2017},\\n  eprintclass  = {cs.LG},\\n  eprinttype   = {arXiv},\\n  eprint       = {cs.LG/1708.07747},\\n}',\n",
              "  'creator': ['Han Xiao', 'Kashif Rasul', 'Roland Vollgraf'],\n",
              "  'default_target_attribute': 'class',\n",
              "  'file_id': '18238735',\n",
              "  'format': 'ARFF',\n",
              "  'id': '40996',\n",
              "  'licence': 'Public',\n",
              "  'md5_checksum': 'cdfc9c58cb9fe86ffaa76af247ae2ef2',\n",
              "  'name': 'Fashion-MNIST',\n",
              "  'original_data_url': 'https://github.com/zalandoresearch/fashion-mnist',\n",
              "  'paper_url': 'Fashion-MNIST: a Novel Image Dataset for Benchmarking Machine Learning Algorithms. Han Xiao, Kashif Rasul, Roland Vollgraf. arXiv:1708.07747',\n",
              "  'processing_date': '2018-10-04 07:21:31',\n",
              "  'status': 'active',\n",
              "  'tag': ['OpenML-CC18', 'study_218', 'study_99', 'vision'],\n",
              "  'upload_date': '2017-12-20T13:28:27',\n",
              "  'url': 'https://www.openml.org/data/v1/download/18238735/Fashion-MNIST.arff',\n",
              "  'version': '1',\n",
              "  'version_label': '1.0',\n",
              "  'visibility': 'public'},\n",
              " 'feature_names': ['pixel1',\n",
              "  'pixel2',\n",
              "  'pixel3',\n",
              "  'pixel4',\n",
              "  'pixel5',\n",
              "  'pixel6',\n",
              "  'pixel7',\n",
              "  'pixel8',\n",
              "  'pixel9',\n",
              "  'pixel10',\n",
              "  'pixel11',\n",
              "  'pixel12',\n",
              "  'pixel13',\n",
              "  'pixel14',\n",
              "  'pixel15',\n",
              "  'pixel16',\n",
              "  'pixel17',\n",
              "  'pixel18',\n",
              "  'pixel19',\n",
              "  'pixel20',\n",
              "  'pixel21',\n",
              "  'pixel22',\n",
              "  'pixel23',\n",
              "  'pixel24',\n",
              "  'pixel25',\n",
              "  'pixel26',\n",
              "  'pixel27',\n",
              "  'pixel28',\n",
              "  'pixel29',\n",
              "  'pixel30',\n",
              "  'pixel31',\n",
              "  'pixel32',\n",
              "  'pixel33',\n",
              "  'pixel34',\n",
              "  'pixel35',\n",
              "  'pixel36',\n",
              "  'pixel37',\n",
              "  'pixel38',\n",
              "  'pixel39',\n",
              "  'pixel40',\n",
              "  'pixel41',\n",
              "  'pixel42',\n",
              "  'pixel43',\n",
              "  'pixel44',\n",
              "  'pixel45',\n",
              "  'pixel46',\n",
              "  'pixel47',\n",
              "  'pixel48',\n",
              "  'pixel49',\n",
              "  'pixel50',\n",
              "  'pixel51',\n",
              "  'pixel52',\n",
              "  'pixel53',\n",
              "  'pixel54',\n",
              "  'pixel55',\n",
              "  'pixel56',\n",
              "  'pixel57',\n",
              "  'pixel58',\n",
              "  'pixel59',\n",
              "  'pixel60',\n",
              "  'pixel61',\n",
              "  'pixel62',\n",
              "  'pixel63',\n",
              "  'pixel64',\n",
              "  'pixel65',\n",
              "  'pixel66',\n",
              "  'pixel67',\n",
              "  'pixel68',\n",
              "  'pixel69',\n",
              "  'pixel70',\n",
              "  'pixel71',\n",
              "  'pixel72',\n",
              "  'pixel73',\n",
              "  'pixel74',\n",
              "  'pixel75',\n",
              "  'pixel76',\n",
              "  'pixel77',\n",
              "  'pixel78',\n",
              "  'pixel79',\n",
              "  'pixel80',\n",
              "  'pixel81',\n",
              "  'pixel82',\n",
              "  'pixel83',\n",
              "  'pixel84',\n",
              "  'pixel85',\n",
              "  'pixel86',\n",
              "  'pixel87',\n",
              "  'pixel88',\n",
              "  'pixel89',\n",
              "  'pixel90',\n",
              "  'pixel91',\n",
              "  'pixel92',\n",
              "  'pixel93',\n",
              "  'pixel94',\n",
              "  'pixel95',\n",
              "  'pixel96',\n",
              "  'pixel97',\n",
              "  'pixel98',\n",
              "  'pixel99',\n",
              "  'pixel100',\n",
              "  'pixel101',\n",
              "  'pixel102',\n",
              "  'pixel103',\n",
              "  'pixel104',\n",
              "  'pixel105',\n",
              "  'pixel106',\n",
              "  'pixel107',\n",
              "  'pixel108',\n",
              "  'pixel109',\n",
              "  'pixel110',\n",
              "  'pixel111',\n",
              "  'pixel112',\n",
              "  'pixel113',\n",
              "  'pixel114',\n",
              "  'pixel115',\n",
              "  'pixel116',\n",
              "  'pixel117',\n",
              "  'pixel118',\n",
              "  'pixel119',\n",
              "  'pixel120',\n",
              "  'pixel121',\n",
              "  'pixel122',\n",
              "  'pixel123',\n",
              "  'pixel124',\n",
              "  'pixel125',\n",
              "  'pixel126',\n",
              "  'pixel127',\n",
              "  'pixel128',\n",
              "  'pixel129',\n",
              "  'pixel130',\n",
              "  'pixel131',\n",
              "  'pixel132',\n",
              "  'pixel133',\n",
              "  'pixel134',\n",
              "  'pixel135',\n",
              "  'pixel136',\n",
              "  'pixel137',\n",
              "  'pixel138',\n",
              "  'pixel139',\n",
              "  'pixel140',\n",
              "  'pixel141',\n",
              "  'pixel142',\n",
              "  'pixel143',\n",
              "  'pixel144',\n",
              "  'pixel145',\n",
              "  'pixel146',\n",
              "  'pixel147',\n",
              "  'pixel148',\n",
              "  'pixel149',\n",
              "  'pixel150',\n",
              "  'pixel151',\n",
              "  'pixel152',\n",
              "  'pixel153',\n",
              "  'pixel154',\n",
              "  'pixel155',\n",
              "  'pixel156',\n",
              "  'pixel157',\n",
              "  'pixel158',\n",
              "  'pixel159',\n",
              "  'pixel160',\n",
              "  'pixel161',\n",
              "  'pixel162',\n",
              "  'pixel163',\n",
              "  'pixel164',\n",
              "  'pixel165',\n",
              "  'pixel166',\n",
              "  'pixel167',\n",
              "  'pixel168',\n",
              "  'pixel169',\n",
              "  'pixel170',\n",
              "  'pixel171',\n",
              "  'pixel172',\n",
              "  'pixel173',\n",
              "  'pixel174',\n",
              "  'pixel175',\n",
              "  'pixel176',\n",
              "  'pixel177',\n",
              "  'pixel178',\n",
              "  'pixel179',\n",
              "  'pixel180',\n",
              "  'pixel181',\n",
              "  'pixel182',\n",
              "  'pixel183',\n",
              "  'pixel184',\n",
              "  'pixel185',\n",
              "  'pixel186',\n",
              "  'pixel187',\n",
              "  'pixel188',\n",
              "  'pixel189',\n",
              "  'pixel190',\n",
              "  'pixel191',\n",
              "  'pixel192',\n",
              "  'pixel193',\n",
              "  'pixel194',\n",
              "  'pixel195',\n",
              "  'pixel196',\n",
              "  'pixel197',\n",
              "  'pixel198',\n",
              "  'pixel199',\n",
              "  'pixel200',\n",
              "  'pixel201',\n",
              "  'pixel202',\n",
              "  'pixel203',\n",
              "  'pixel204',\n",
              "  'pixel205',\n",
              "  'pixel206',\n",
              "  'pixel207',\n",
              "  'pixel208',\n",
              "  'pixel209',\n",
              "  'pixel210',\n",
              "  'pixel211',\n",
              "  'pixel212',\n",
              "  'pixel213',\n",
              "  'pixel214',\n",
              "  'pixel215',\n",
              "  'pixel216',\n",
              "  'pixel217',\n",
              "  'pixel218',\n",
              "  'pixel219',\n",
              "  'pixel220',\n",
              "  'pixel221',\n",
              "  'pixel222',\n",
              "  'pixel223',\n",
              "  'pixel224',\n",
              "  'pixel225',\n",
              "  'pixel226',\n",
              "  'pixel227',\n",
              "  'pixel228',\n",
              "  'pixel229',\n",
              "  'pixel230',\n",
              "  'pixel231',\n",
              "  'pixel232',\n",
              "  'pixel233',\n",
              "  'pixel234',\n",
              "  'pixel235',\n",
              "  'pixel236',\n",
              "  'pixel237',\n",
              "  'pixel238',\n",
              "  'pixel239',\n",
              "  'pixel240',\n",
              "  'pixel241',\n",
              "  'pixel242',\n",
              "  'pixel243',\n",
              "  'pixel244',\n",
              "  'pixel245',\n",
              "  'pixel246',\n",
              "  'pixel247',\n",
              "  'pixel248',\n",
              "  'pixel249',\n",
              "  'pixel250',\n",
              "  'pixel251',\n",
              "  'pixel252',\n",
              "  'pixel253',\n",
              "  'pixel254',\n",
              "  'pixel255',\n",
              "  'pixel256',\n",
              "  'pixel257',\n",
              "  'pixel258',\n",
              "  'pixel259',\n",
              "  'pixel260',\n",
              "  'pixel261',\n",
              "  'pixel262',\n",
              "  'pixel263',\n",
              "  'pixel264',\n",
              "  'pixel265',\n",
              "  'pixel266',\n",
              "  'pixel267',\n",
              "  'pixel268',\n",
              "  'pixel269',\n",
              "  'pixel270',\n",
              "  'pixel271',\n",
              "  'pixel272',\n",
              "  'pixel273',\n",
              "  'pixel274',\n",
              "  'pixel275',\n",
              "  'pixel276',\n",
              "  'pixel277',\n",
              "  'pixel278',\n",
              "  'pixel279',\n",
              "  'pixel280',\n",
              "  'pixel281',\n",
              "  'pixel282',\n",
              "  'pixel283',\n",
              "  'pixel284',\n",
              "  'pixel285',\n",
              "  'pixel286',\n",
              "  'pixel287',\n",
              "  'pixel288',\n",
              "  'pixel289',\n",
              "  'pixel290',\n",
              "  'pixel291',\n",
              "  'pixel292',\n",
              "  'pixel293',\n",
              "  'pixel294',\n",
              "  'pixel295',\n",
              "  'pixel296',\n",
              "  'pixel297',\n",
              "  'pixel298',\n",
              "  'pixel299',\n",
              "  'pixel300',\n",
              "  'pixel301',\n",
              "  'pixel302',\n",
              "  'pixel303',\n",
              "  'pixel304',\n",
              "  'pixel305',\n",
              "  'pixel306',\n",
              "  'pixel307',\n",
              "  'pixel308',\n",
              "  'pixel309',\n",
              "  'pixel310',\n",
              "  'pixel311',\n",
              "  'pixel312',\n",
              "  'pixel313',\n",
              "  'pixel314',\n",
              "  'pixel315',\n",
              "  'pixel316',\n",
              "  'pixel317',\n",
              "  'pixel318',\n",
              "  'pixel319',\n",
              "  'pixel320',\n",
              "  'pixel321',\n",
              "  'pixel322',\n",
              "  'pixel323',\n",
              "  'pixel324',\n",
              "  'pixel325',\n",
              "  'pixel326',\n",
              "  'pixel327',\n",
              "  'pixel328',\n",
              "  'pixel329',\n",
              "  'pixel330',\n",
              "  'pixel331',\n",
              "  'pixel332',\n",
              "  'pixel333',\n",
              "  'pixel334',\n",
              "  'pixel335',\n",
              "  'pixel336',\n",
              "  'pixel337',\n",
              "  'pixel338',\n",
              "  'pixel339',\n",
              "  'pixel340',\n",
              "  'pixel341',\n",
              "  'pixel342',\n",
              "  'pixel343',\n",
              "  'pixel344',\n",
              "  'pixel345',\n",
              "  'pixel346',\n",
              "  'pixel347',\n",
              "  'pixel348',\n",
              "  'pixel349',\n",
              "  'pixel350',\n",
              "  'pixel351',\n",
              "  'pixel352',\n",
              "  'pixel353',\n",
              "  'pixel354',\n",
              "  'pixel355',\n",
              "  'pixel356',\n",
              "  'pixel357',\n",
              "  'pixel358',\n",
              "  'pixel359',\n",
              "  'pixel360',\n",
              "  'pixel361',\n",
              "  'pixel362',\n",
              "  'pixel363',\n",
              "  'pixel364',\n",
              "  'pixel365',\n",
              "  'pixel366',\n",
              "  'pixel367',\n",
              "  'pixel368',\n",
              "  'pixel369',\n",
              "  'pixel370',\n",
              "  'pixel371',\n",
              "  'pixel372',\n",
              "  'pixel373',\n",
              "  'pixel374',\n",
              "  'pixel375',\n",
              "  'pixel376',\n",
              "  'pixel377',\n",
              "  'pixel378',\n",
              "  'pixel379',\n",
              "  'pixel380',\n",
              "  'pixel381',\n",
              "  'pixel382',\n",
              "  'pixel383',\n",
              "  'pixel384',\n",
              "  'pixel385',\n",
              "  'pixel386',\n",
              "  'pixel387',\n",
              "  'pixel388',\n",
              "  'pixel389',\n",
              "  'pixel390',\n",
              "  'pixel391',\n",
              "  'pixel392',\n",
              "  'pixel393',\n",
              "  'pixel394',\n",
              "  'pixel395',\n",
              "  'pixel396',\n",
              "  'pixel397',\n",
              "  'pixel398',\n",
              "  'pixel399',\n",
              "  'pixel400',\n",
              "  'pixel401',\n",
              "  'pixel402',\n",
              "  'pixel403',\n",
              "  'pixel404',\n",
              "  'pixel405',\n",
              "  'pixel406',\n",
              "  'pixel407',\n",
              "  'pixel408',\n",
              "  'pixel409',\n",
              "  'pixel410',\n",
              "  'pixel411',\n",
              "  'pixel412',\n",
              "  'pixel413',\n",
              "  'pixel414',\n",
              "  'pixel415',\n",
              "  'pixel416',\n",
              "  'pixel417',\n",
              "  'pixel418',\n",
              "  'pixel419',\n",
              "  'pixel420',\n",
              "  'pixel421',\n",
              "  'pixel422',\n",
              "  'pixel423',\n",
              "  'pixel424',\n",
              "  'pixel425',\n",
              "  'pixel426',\n",
              "  'pixel427',\n",
              "  'pixel428',\n",
              "  'pixel429',\n",
              "  'pixel430',\n",
              "  'pixel431',\n",
              "  'pixel432',\n",
              "  'pixel433',\n",
              "  'pixel434',\n",
              "  'pixel435',\n",
              "  'pixel436',\n",
              "  'pixel437',\n",
              "  'pixel438',\n",
              "  'pixel439',\n",
              "  'pixel440',\n",
              "  'pixel441',\n",
              "  'pixel442',\n",
              "  'pixel443',\n",
              "  'pixel444',\n",
              "  'pixel445',\n",
              "  'pixel446',\n",
              "  'pixel447',\n",
              "  'pixel448',\n",
              "  'pixel449',\n",
              "  'pixel450',\n",
              "  'pixel451',\n",
              "  'pixel452',\n",
              "  'pixel453',\n",
              "  'pixel454',\n",
              "  'pixel455',\n",
              "  'pixel456',\n",
              "  'pixel457',\n",
              "  'pixel458',\n",
              "  'pixel459',\n",
              "  'pixel460',\n",
              "  'pixel461',\n",
              "  'pixel462',\n",
              "  'pixel463',\n",
              "  'pixel464',\n",
              "  'pixel465',\n",
              "  'pixel466',\n",
              "  'pixel467',\n",
              "  'pixel468',\n",
              "  'pixel469',\n",
              "  'pixel470',\n",
              "  'pixel471',\n",
              "  'pixel472',\n",
              "  'pixel473',\n",
              "  'pixel474',\n",
              "  'pixel475',\n",
              "  'pixel476',\n",
              "  'pixel477',\n",
              "  'pixel478',\n",
              "  'pixel479',\n",
              "  'pixel480',\n",
              "  'pixel481',\n",
              "  'pixel482',\n",
              "  'pixel483',\n",
              "  'pixel484',\n",
              "  'pixel485',\n",
              "  'pixel486',\n",
              "  'pixel487',\n",
              "  'pixel488',\n",
              "  'pixel489',\n",
              "  'pixel490',\n",
              "  'pixel491',\n",
              "  'pixel492',\n",
              "  'pixel493',\n",
              "  'pixel494',\n",
              "  'pixel495',\n",
              "  'pixel496',\n",
              "  'pixel497',\n",
              "  'pixel498',\n",
              "  'pixel499',\n",
              "  'pixel500',\n",
              "  'pixel501',\n",
              "  'pixel502',\n",
              "  'pixel503',\n",
              "  'pixel504',\n",
              "  'pixel505',\n",
              "  'pixel506',\n",
              "  'pixel507',\n",
              "  'pixel508',\n",
              "  'pixel509',\n",
              "  'pixel510',\n",
              "  'pixel511',\n",
              "  'pixel512',\n",
              "  'pixel513',\n",
              "  'pixel514',\n",
              "  'pixel515',\n",
              "  'pixel516',\n",
              "  'pixel517',\n",
              "  'pixel518',\n",
              "  'pixel519',\n",
              "  'pixel520',\n",
              "  'pixel521',\n",
              "  'pixel522',\n",
              "  'pixel523',\n",
              "  'pixel524',\n",
              "  'pixel525',\n",
              "  'pixel526',\n",
              "  'pixel527',\n",
              "  'pixel528',\n",
              "  'pixel529',\n",
              "  'pixel530',\n",
              "  'pixel531',\n",
              "  'pixel532',\n",
              "  'pixel533',\n",
              "  'pixel534',\n",
              "  'pixel535',\n",
              "  'pixel536',\n",
              "  'pixel537',\n",
              "  'pixel538',\n",
              "  'pixel539',\n",
              "  'pixel540',\n",
              "  'pixel541',\n",
              "  'pixel542',\n",
              "  'pixel543',\n",
              "  'pixel544',\n",
              "  'pixel545',\n",
              "  'pixel546',\n",
              "  'pixel547',\n",
              "  'pixel548',\n",
              "  'pixel549',\n",
              "  'pixel550',\n",
              "  'pixel551',\n",
              "  'pixel552',\n",
              "  'pixel553',\n",
              "  'pixel554',\n",
              "  'pixel555',\n",
              "  'pixel556',\n",
              "  'pixel557',\n",
              "  'pixel558',\n",
              "  'pixel559',\n",
              "  'pixel560',\n",
              "  'pixel561',\n",
              "  'pixel562',\n",
              "  'pixel563',\n",
              "  'pixel564',\n",
              "  'pixel565',\n",
              "  'pixel566',\n",
              "  'pixel567',\n",
              "  'pixel568',\n",
              "  'pixel569',\n",
              "  'pixel570',\n",
              "  'pixel571',\n",
              "  'pixel572',\n",
              "  'pixel573',\n",
              "  'pixel574',\n",
              "  'pixel575',\n",
              "  'pixel576',\n",
              "  'pixel577',\n",
              "  'pixel578',\n",
              "  'pixel579',\n",
              "  'pixel580',\n",
              "  'pixel581',\n",
              "  'pixel582',\n",
              "  'pixel583',\n",
              "  'pixel584',\n",
              "  'pixel585',\n",
              "  'pixel586',\n",
              "  'pixel587',\n",
              "  'pixel588',\n",
              "  'pixel589',\n",
              "  'pixel590',\n",
              "  'pixel591',\n",
              "  'pixel592',\n",
              "  'pixel593',\n",
              "  'pixel594',\n",
              "  'pixel595',\n",
              "  'pixel596',\n",
              "  'pixel597',\n",
              "  'pixel598',\n",
              "  'pixel599',\n",
              "  'pixel600',\n",
              "  'pixel601',\n",
              "  'pixel602',\n",
              "  'pixel603',\n",
              "  'pixel604',\n",
              "  'pixel605',\n",
              "  'pixel606',\n",
              "  'pixel607',\n",
              "  'pixel608',\n",
              "  'pixel609',\n",
              "  'pixel610',\n",
              "  'pixel611',\n",
              "  'pixel612',\n",
              "  'pixel613',\n",
              "  'pixel614',\n",
              "  'pixel615',\n",
              "  'pixel616',\n",
              "  'pixel617',\n",
              "  'pixel618',\n",
              "  'pixel619',\n",
              "  'pixel620',\n",
              "  'pixel621',\n",
              "  'pixel622',\n",
              "  'pixel623',\n",
              "  'pixel624',\n",
              "  'pixel625',\n",
              "  'pixel626',\n",
              "  'pixel627',\n",
              "  'pixel628',\n",
              "  'pixel629',\n",
              "  'pixel630',\n",
              "  'pixel631',\n",
              "  'pixel632',\n",
              "  'pixel633',\n",
              "  'pixel634',\n",
              "  'pixel635',\n",
              "  'pixel636',\n",
              "  'pixel637',\n",
              "  'pixel638',\n",
              "  'pixel639',\n",
              "  'pixel640',\n",
              "  'pixel641',\n",
              "  'pixel642',\n",
              "  'pixel643',\n",
              "  'pixel644',\n",
              "  'pixel645',\n",
              "  'pixel646',\n",
              "  'pixel647',\n",
              "  'pixel648',\n",
              "  'pixel649',\n",
              "  'pixel650',\n",
              "  'pixel651',\n",
              "  'pixel652',\n",
              "  'pixel653',\n",
              "  'pixel654',\n",
              "  'pixel655',\n",
              "  'pixel656',\n",
              "  'pixel657',\n",
              "  'pixel658',\n",
              "  'pixel659',\n",
              "  'pixel660',\n",
              "  'pixel661',\n",
              "  'pixel662',\n",
              "  'pixel663',\n",
              "  'pixel664',\n",
              "  'pixel665',\n",
              "  'pixel666',\n",
              "  'pixel667',\n",
              "  'pixel668',\n",
              "  'pixel669',\n",
              "  'pixel670',\n",
              "  'pixel671',\n",
              "  'pixel672',\n",
              "  'pixel673',\n",
              "  'pixel674',\n",
              "  'pixel675',\n",
              "  'pixel676',\n",
              "  'pixel677',\n",
              "  'pixel678',\n",
              "  'pixel679',\n",
              "  'pixel680',\n",
              "  'pixel681',\n",
              "  'pixel682',\n",
              "  'pixel683',\n",
              "  'pixel684',\n",
              "  'pixel685',\n",
              "  'pixel686',\n",
              "  'pixel687',\n",
              "  'pixel688',\n",
              "  'pixel689',\n",
              "  'pixel690',\n",
              "  'pixel691',\n",
              "  'pixel692',\n",
              "  'pixel693',\n",
              "  'pixel694',\n",
              "  'pixel695',\n",
              "  'pixel696',\n",
              "  'pixel697',\n",
              "  'pixel698',\n",
              "  'pixel699',\n",
              "  'pixel700',\n",
              "  'pixel701',\n",
              "  'pixel702',\n",
              "  'pixel703',\n",
              "  'pixel704',\n",
              "  'pixel705',\n",
              "  'pixel706',\n",
              "  'pixel707',\n",
              "  'pixel708',\n",
              "  'pixel709',\n",
              "  'pixel710',\n",
              "  'pixel711',\n",
              "  'pixel712',\n",
              "  'pixel713',\n",
              "  'pixel714',\n",
              "  'pixel715',\n",
              "  'pixel716',\n",
              "  'pixel717',\n",
              "  'pixel718',\n",
              "  'pixel719',\n",
              "  'pixel720',\n",
              "  'pixel721',\n",
              "  'pixel722',\n",
              "  'pixel723',\n",
              "  'pixel724',\n",
              "  'pixel725',\n",
              "  'pixel726',\n",
              "  'pixel727',\n",
              "  'pixel728',\n",
              "  'pixel729',\n",
              "  'pixel730',\n",
              "  'pixel731',\n",
              "  'pixel732',\n",
              "  'pixel733',\n",
              "  'pixel734',\n",
              "  'pixel735',\n",
              "  'pixel736',\n",
              "  'pixel737',\n",
              "  'pixel738',\n",
              "  'pixel739',\n",
              "  'pixel740',\n",
              "  'pixel741',\n",
              "  'pixel742',\n",
              "  'pixel743',\n",
              "  'pixel744',\n",
              "  'pixel745',\n",
              "  'pixel746',\n",
              "  'pixel747',\n",
              "  'pixel748',\n",
              "  'pixel749',\n",
              "  'pixel750',\n",
              "  'pixel751',\n",
              "  'pixel752',\n",
              "  'pixel753',\n",
              "  'pixel754',\n",
              "  'pixel755',\n",
              "  'pixel756',\n",
              "  'pixel757',\n",
              "  'pixel758',\n",
              "  'pixel759',\n",
              "  'pixel760',\n",
              "  'pixel761',\n",
              "  'pixel762',\n",
              "  'pixel763',\n",
              "  'pixel764',\n",
              "  'pixel765',\n",
              "  'pixel766',\n",
              "  'pixel767',\n",
              "  'pixel768',\n",
              "  'pixel769',\n",
              "  'pixel770',\n",
              "  'pixel771',\n",
              "  'pixel772',\n",
              "  'pixel773',\n",
              "  'pixel774',\n",
              "  'pixel775',\n",
              "  'pixel776',\n",
              "  'pixel777',\n",
              "  'pixel778',\n",
              "  'pixel779',\n",
              "  'pixel780',\n",
              "  'pixel781',\n",
              "  'pixel782',\n",
              "  'pixel783',\n",
              "  'pixel784'],\n",
              " 'frame': None,\n",
              " 'target': array([9, 0, 0, ..., 8, 1, 5]),\n",
              " 'target_names': ['class'],\n",
              " 'url': 'https://www.openml.org/d/40996'}"
            ]
          },
          "metadata": {
            "tags": []
          },
          "execution_count": 58
        }
      ]
    }
  ]
}