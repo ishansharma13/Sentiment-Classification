{
  "nbformat": 4,
  "nbformat_minor": 0,
  "metadata": {
    "colab": {
      "name": "combined_ds.ipynb",
      "provenance": [],
      "collapsed_sections": []
    },
    "kernelspec": {
      "name": "python3",
      "display_name": "Python 3"
    }
  },
  "cells": [
    {
      "cell_type": "code",
      "metadata": {
        "colab": {
          "base_uri": "https://localhost:8080/"
        },
        "id": "s9UiQoYcbtKb",
        "outputId": "7a25812b-54c8-4f69-b9cc-4cb57eea6f45"
      },
      "source": [
        "from google.colab import drive\n",
        "drive.mount('/content/drive')"
      ],
      "execution_count": null,
      "outputs": [
        {
          "output_type": "stream",
          "text": [
            "Mounted at /content/drive\n"
          ],
          "name": "stdout"
        }
      ]
    },
    {
      "cell_type": "code",
      "metadata": {
        "colab": {
          "base_uri": "https://localhost:8080/"
        },
        "id": "_5t_zlkcb2Ld",
        "outputId": "a3060e54-fd16-4d82-dfa3-bdb92ee36596"
      },
      "source": [
        "!pip install pyspark"
      ],
      "execution_count": null,
      "outputs": [
        {
          "output_type": "stream",
          "text": [
            "Collecting pyspark\n",
            "\u001b[?25l  Downloading https://files.pythonhosted.org/packages/45/b0/9d6860891ab14a39d4bddf80ba26ce51c2f9dc4805e5c6978ac0472c120a/pyspark-3.1.1.tar.gz (212.3MB)\n",
            "\u001b[K     |████████████████████████████████| 212.3MB 76kB/s \n",
            "\u001b[?25hCollecting py4j==0.10.9\n",
            "\u001b[?25l  Downloading https://files.pythonhosted.org/packages/9e/b6/6a4fb90cd235dc8e265a6a2067f2a2c99f0d91787f06aca4bcf7c23f3f80/py4j-0.10.9-py2.py3-none-any.whl (198kB)\n",
            "\u001b[K     |████████████████████████████████| 204kB 21.9MB/s \n",
            "\u001b[?25hBuilding wheels for collected packages: pyspark\n",
            "  Building wheel for pyspark (setup.py) ... \u001b[?25l\u001b[?25hdone\n",
            "  Created wheel for pyspark: filename=pyspark-3.1.1-py2.py3-none-any.whl size=212767604 sha256=9c049c31caea51d9ce253c0455f12f73e03b7b6f130d57bf2cd6125eb2dfab7c\n",
            "  Stored in directory: /root/.cache/pip/wheels/0b/90/c0/01de724414ef122bd05f056541fb6a0ecf47c7ca655f8b3c0f\n",
            "Successfully built pyspark\n",
            "Installing collected packages: py4j, pyspark\n",
            "Successfully installed py4j-0.10.9 pyspark-3.1.1\n"
          ],
          "name": "stdout"
        }
      ]
    },
    {
      "cell_type": "code",
      "metadata": {
        "id": "HmxLgq-ZcDwa"
      },
      "source": [
        "import os\n",
        "os.chdir('/content/drive/My Drive/Annotated/mean_sent_lex/final_sent_class')"
      ],
      "execution_count": null,
      "outputs": []
    },
    {
      "cell_type": "code",
      "metadata": {
        "id": "BKEqAEdKcNIV"
      },
      "source": [
        "from pyspark.sql import SparkSession as ss\n",
        "spark = ss.builder.getOrCreate()"
      ],
      "execution_count": null,
      "outputs": []
    },
    {
      "cell_type": "code",
      "metadata": {
        "id": "ny_2FLzfdZkv"
      },
      "source": [
        "files = [file for file in os.listdir()]"
      ],
      "execution_count": null,
      "outputs": []
    },
    {
      "cell_type": "code",
      "metadata": {
        "id": "FrWW-97Ndd88"
      },
      "source": [
        "files.remove('Combined Annotated')\n",
        "files.remove('total_combined_text_and_ids_preprocessed_upd_res')"
      ],
      "execution_count": null,
      "outputs": []
    },
    {
      "cell_type": "code",
      "metadata": {
        "id": "MFR8DVCI9_eq"
      },
      "source": [
        "files.remove('all_datasets_combined')"
      ],
      "execution_count": null,
      "outputs": []
    },
    {
      "cell_type": "code",
      "metadata": {
        "colab": {
          "base_uri": "https://localhost:8080/"
        },
        "id": "mA7sVcap-JoW",
        "outputId": "b8360303-5155-4329-bb4d-c775b685db7e"
      },
      "source": [
        "files"
      ],
      "execution_count": null,
      "outputs": [
        {
          "output_type": "execute_result",
          "data": {
            "text/plain": [
              "['EmoBank_cleaned.csv_preprocessed',\n",
              " 'SMILE_Twitter_Emotion_dataset_cleaned_preprocessed',\n",
              " 'Brands_and_Product_Emotions_cleaned.csv_preprocessed',\n",
              " 'The_Valence_and_Arousal_Facebook_Posts_cleaned_preprocessed',\n",
              " 'Affect_data_cleaned.csv_preprocessed',\n",
              " 'Sentiment_Labelled_Sentences_Data_Set_cleaned_preprocessed',\n",
              " 'Sentiment_Analysis_in_Text_cleaned.csv_preprocessed',\n",
              " 'Sentiment_Emotion_Mining_Toolkit_(EMTk)_cleaned_preprocessed',\n",
              " 'Primary_Emotions_of_Statements_cleaned_preprocessed',\n",
              " 'WASSA_2017_Shared_Task_on_Emotion_Intensity_cleaned.csv_preprocessed',\n",
              " 'sentiment140-combined']"
            ]
          },
          "metadata": {
            "tags": []
          },
          "execution_count": 17
        }
      ]
    },
    {
      "cell_type": "code",
      "metadata": {
        "id": "d4jebr5wdxly"
      },
      "source": [
        "dfs = []\n",
        "for f in files:\n",
        "  dfs.append(spark.read.csv(\"/content/drive/My Drive/Annotated/mean_sent_lex/final_sent_class/\"+f,header = True,multiLine=True,inferSchema=True))"
      ],
      "execution_count": null,
      "outputs": []
    },
    {
      "cell_type": "code",
      "metadata": {
        "id": "LmBTDWe1-NZx"
      },
      "source": [
        "df0,df1,df2,df3,df4,df5,df6,df7,df8,df9,df10 = dfs"
      ],
      "execution_count": null,
      "outputs": []
    },
    {
      "cell_type": "code",
      "metadata": {
        "id": "duGTz5Y4eCFd"
      },
      "source": [
        "from functools import reduce\n",
        "from pyspark.sql import DataFrame\n",
        "\n",
        "def unionAll(*dfs):\n",
        "    return reduce(DataFrame.unionAll, dfs)\n",
        "\n",
        "comb_df = unionAll(df0,df1,df2,df3,df4,df5,df6,df7,df8,df9,df10)"
      ],
      "execution_count": null,
      "outputs": []
    },
    {
      "cell_type": "code",
      "metadata": {
        "id": "TPYWxDmTgHxl"
      },
      "source": [
        "# comb_df.count()\n",
        "# comb_df = comb_df.distinct()\n",
        "# comb_df.count()\n",
        "from pyspark.sql.functions import sha2, concat_ws\n",
        "comb_df = comb_df.withColumn(\"u_id\", sha2(concat_ws(\"||\", *comb_df.columns), 256))\n",
        "\n",
        "\n",
        "# comb_df.write.option(\"maxRecordsPerFile\",10000).option(\"header\",\"true\").csv('/content/drive/My Drive/Annotated/mean_sent_lex/final_sent_class/all_datasets_combined')\n"
      ],
      "execution_count": null,
      "outputs": []
    },
    {
      "cell_type": "code",
      "metadata": {
        "colab": {
          "base_uri": "https://localhost:8080/"
        },
        "id": "LFnv1Jhc_WXi",
        "outputId": "c9a52f36-64fa-402a-8ebf-db0f13c6a50d"
      },
      "source": [
        "comb_df.show()"
      ],
      "execution_count": null,
      "outputs": [
        {
          "output_type": "stream",
          "text": [
            "+--------------------+--------------------+--------------------+-----------+-----------+-----------+-----------+-----------+----------+--------------------+----------------+--------------------+\n",
            "|                text|      pre_text_vader|    pre_text_all_upd|vader_score| blob_score|afinn_score|vader_class|afinn_class|blob_class|     mean_sent_score|final_sent_class|                u_id|\n",
            "+--------------------+--------------------+--------------------+-----------+-----------+-----------+-----------+-----------+----------+--------------------+----------------+--------------------+\n",
            "|\"Read for yoursel...|\"Read for yoursel...|read for yourself...|        0.0|        0.0|-0.13333334|        Neu|        Neg|       Neu|-0.04444444666666...|             Neg|a7c4e1b0deda2868f...|\n",
            "|Photographer kidn...|Photographer kidn...|photographer kidn...|    -0.4404|        0.0|-0.26666668|        Neg|        Neg|       Neu|-0.23568889333333334|             Neg|63782fd8b13d74c60...|\n",
            "|In return, Gailha...|In return, Gailha...|in return gailhag...|     0.4019|        0.0| 0.13333334|        Pos|        Pos|       Neu| 0.17841111333333334|             Pos|8bc69b21bfa112e89...|\n",
            "|Plus all the bird...|Plus all the bird...|plus all the bird...|        0.0|        0.0|        0.0|        Neu|        Neu|       Neu|                 0.0|             Neu|ca2315182c7486df6...|\n",
            "|He thought about ...|He thought about ...|he thought about ...|        0.0|        0.0|        0.0|        Neu|        Neu|       Neu|                 0.0|             Neu|1ad98727004d16bb3...|\n",
            "|\"After all, the s...|\"After all, the s...|after all the sam...|        0.0|0.108333334|        0.0|        Neu|        Neu|       Pos|0.036111111333333334|             Pos|79124e7e9dc0d35fa...|\n",
            "|       Puppet Shows.|       Puppet Shows.|        puppet shows|        0.0|        0.0|        0.0|        Neu|        Neu|       Neu|                 0.0|             Neu|ecdb557cececce8a3...|\n",
            "|Departures are fr...|Departures are fr...|departures are fr...|        0.0|        0.0|        0.0|        Neu|        Neu|       Neu|                 0.0|             Neu|b125099dba3ff115d...|\n",
            "|City folk marvel ...|City folk marvel ...|city folk marvel ...|     0.9081|        0.0|        0.4|       VPos|        Pos|       Neu| 0.43603333333333333|             Pos|aa625ea4c8f986d30...|\n",
            "|lowered school ab...|lowered school ab...|lowered school ab...|     -0.128|        0.0|        0.0|        Neg|        Neu|       Neu|-0.04266666666666...|             Neg|6a20db68ef81ef109...|\n",
            "|When we say “in F...|When we say in F,...|when we say in f ...|        0.0|  -0.009375|        0.0|        Neu|        Neu|       Neg|-0.00312499999999...|             Neg|7d37b4b1bba7f0d29...|\n",
            "|      Dear Defender,|      Dear Defender,|       dear defender|     0.4588|        0.0| 0.26666668|        Pos|        Pos|       Neu| 0.24182222666666667|             Pos|e13c53ee125582e2d...|\n",
            "|No, they would ha...|No, they would ha...|no they would hav...|    -0.2263|        0.2|-0.13333334|        Neg|        Neg|       Pos|-0.05321111333333333|             Neg|19458b1764e223bc6...|\n",
            "|“Impossible,” sai...|Impossible, said ...|impossible said z...|        0.0|-0.33333334|        0.0|        Neu|        Neu|       Neg|-0.11111111333333333|             Neg|cf1598fecec4a6794...|\n",
            "|I tried to slip a...|I tried to slip a...|i tried to slip a...|        0.0|        0.0|-0.06666667|        Neu|        Neg|       Neu|-0.02222222333333...|             Neg|566e09874b63f5225...|\n",
            "|When young people...|When young people...|when young people...|     0.1386|    -0.0125| 0.26666668|        Pos|        Pos|       Neg| 0.13092222666666667|             Pos|0d40ec4771e128885...|\n",
            "|Audubon establish...|Audubon establish...|audubon establish...|     0.3182|        0.0| 0.06666667|        Pos|        Pos|       Neu|          0.12828889|             Pos|396c90d19321783f8...|\n",
            "|“Eternal Prisoner...|Eternal Prisoner ...|eternal prisoner ...|    -0.5423|        0.0|-0.13333334|       VNeg|        Neg|       Neu|-0.22521111333333332|             Neg|cb02a7d85cc3eb856...|\n",
            "|They are ruled by...|hey are ruled by ...|hey are ruled by ...|        0.0|        0.0|        0.0|        Neu|        Neu|       Neu|                 0.0|             Neu|53fb130112190484b...|\n",
            "|Youngsters often ...|Youngsters often ...|youngsters often ...|     -0.128|        0.0|-0.06666667|        Neg|        Neg|       Neu|-0.06488888999999999|             Neg|0f5cf90df98473f82...|\n",
            "+--------------------+--------------------+--------------------+-----------+-----------+-----------+-----------+-----------+----------+--------------------+----------------+--------------------+\n",
            "only showing top 20 rows\n",
            "\n"
          ],
          "name": "stdout"
        }
      ]
    },
    {
      "cell_type": "code",
      "metadata": {
        "colab": {
          "base_uri": "https://localhost:8080/"
        },
        "id": "faIWpFLF_XQm",
        "outputId": "68318962-9563-46d0-c30a-7bfe0ed35c56"
      },
      "source": [
        "comb_df.select('final_sent_class').distinct().rdd.map(lambda r: r[0]).collect()"
      ],
      "execution_count": null,
      "outputs": [
        {
          "output_type": "execute_result",
          "data": {
            "text/plain": [
              "['Neg', 'VNeg', 'Pos', 'VPos', 'Neu']"
            ]
          },
          "metadata": {
            "tags": []
          },
          "execution_count": 35
        }
      ]
    },
    {
      "cell_type": "code",
      "metadata": {
        "id": "gvNATgOHfcRv"
      },
      "source": [
        "df0,df1,df2,df3,df4,df5,df6,df7,df8,df9,df10,df11,df12 = dfs"
      ],
      "execution_count": null,
      "outputs": []
    },
    {
      "cell_type": "code",
      "metadata": {
        "id": "-Zw3iUD3Vwge"
      },
      "source": [
        "comb_df = spark.read.csv(\"/content/drive/My Drive/Annotated/mean_sent_lex/final_sent_class/all_datasets_combined\",header = True,multiLine=True,inferSchema=True)"
      ],
      "execution_count": null,
      "outputs": []
    },
    {
      "cell_type": "code",
      "metadata": {
        "id": "T25boTxZWOx5"
      },
      "source": [
        "from pyspark.sql.functions import sha2, concat_ws\n",
        "comb_df = comb_df.withColumn(\"row_sha2\", sha2(concat_ws(\"||\", *comb_df.columns), 256))"
      ],
      "execution_count": null,
      "outputs": []
    },
    {
      "cell_type": "code",
      "metadata": {
        "colab": {
          "base_uri": "https://localhost:8080/"
        },
        "id": "EuTGtNJ3XIbH",
        "outputId": "771883e9-350a-4fee-c9d3-4b68d9d4af59"
      },
      "source": [
        "comb_df.drop_duplicates().count()"
      ],
      "execution_count": null,
      "outputs": [
        {
          "output_type": "execute_result",
          "data": {
            "text/plain": [
              "1650302"
            ]
          },
          "metadata": {
            "tags": []
          },
          "execution_count": 28
        }
      ]
    },
    {
      "cell_type": "code",
      "metadata": {
        "id": "ON_HePkeXVOn"
      },
      "source": [
        "comb_df = comb_df.withColumnRenamed('row_sha2','u_id')"
      ],
      "execution_count": null,
      "outputs": []
    },
    {
      "cell_type": "code",
      "metadata": {
        "id": "CwW8qYaoX0Vz"
      },
      "source": [
        "df_fin = comb_df.select(\"u_id\",\"text\",\"pre_text_vader\",\"pre_text_all_upd\",\"mean_sent_score\",\"final_sent_class\")"
      ],
      "execution_count": null,
      "outputs": []
    },
    {
      "cell_type": "code",
      "metadata": {
        "colab": {
          "base_uri": "https://localhost:8080/"
        },
        "id": "5oALIpH7_mNd",
        "outputId": "7011e672-829c-40ac-86a8-32ca7c0bbf77"
      },
      "source": [
        "df_fin.count()"
      ],
      "execution_count": null,
      "outputs": [
        {
          "output_type": "execute_result",
          "data": {
            "text/plain": [
              "1648310"
            ]
          },
          "metadata": {
            "tags": []
          },
          "execution_count": 22
        }
      ]
    },
    {
      "cell_type": "code",
      "metadata": {
        "id": "9bVEVHjSXlOo"
      },
      "source": [
        "comb_df.write.option(\"maxRecordsPerFile\",10000).option(\"header\",\"true\").csv('/content/drive/My Drive/Annotated/mean_sent_lex/final_sent_class/Combined Annotated/combined_dataset_with_uid')\n",
        "df_fin.write.option(\"maxRecordsPerFile\",10000).option(\"header\",\"true\").csv('/content/drive/My Drive/Annotated/mean_sent_lex/final_sent_class/Combined Annotated/dataset_final_with_uid')"
      ],
      "execution_count": null,
      "outputs": []
    },
    {
      "cell_type": "code",
      "metadata": {
        "id": "mS-iBWu7BjDQ"
      },
      "source": [
        "files.remove('IMDB_cleaned.csv_preprocessed')"
      ],
      "execution_count": null,
      "outputs": []
    },
    {
      "cell_type": "code",
      "metadata": {
        "colab": {
          "base_uri": "https://localhost:8080/"
        },
        "id": "38ir30XqB2FN",
        "outputId": "87920954-3a03-40a1-f1b7-46296c41c5ed"
      },
      "source": [
        "files"
      ],
      "execution_count": null,
      "outputs": [
        {
          "output_type": "execute_result",
          "data": {
            "text/plain": [
              "['EmoBank_cleaned.csv_preprocessed',\n",
              " 'SMILE_Twitter_Emotion_dataset_cleaned_preprocessed',\n",
              " 'Brands_and_Product_Emotions_cleaned.csv_preprocessed',\n",
              " 'The_Valence_and_Arousal_Facebook_Posts_cleaned_preprocessed',\n",
              " 'Affect_data_cleaned.csv_preprocessed',\n",
              " 'Sentiment_Labelled_Sentences_Data_Set_cleaned_preprocessed',\n",
              " 'Sentiment_Analysis_in_Text_cleaned.csv_preprocessed',\n",
              " 'Sentiment_Emotion_Mining_Toolkit_(EMTk)_cleaned_preprocessed',\n",
              " 'Primary_Emotions_of_Statements_cleaned_preprocessed',\n",
              " 'WASSA_2017_Shared_Task_on_Emotion_Intensity_cleaned.csv_preprocessed',\n",
              " 'sentiment140-combined']"
            ]
          },
          "metadata": {
            "tags": []
          },
          "execution_count": 10
        }
      ]
    },
    {
      "cell_type": "code",
      "metadata": {
        "id": "JN2jKym5Zcf6"
      },
      "source": [
        "test_df = spark.read.csv(\"/content/drive/My Drive/Annotated/mean_sent_lex/final_sent_class/total_combined_text_and_ids_preprocessed_upd_res\",header = True,multiLine=True,inferSchema=True)\n",
        "comb_df = spark.read.csv('/content/drive/My Drive/Annotated/mean_sent_lex/final_sent_class/Combined Annotated/dataset_final_with_uid',header = True,multiLine=True,inferSchema=True)"
      ],
      "execution_count": null,
      "outputs": []
    },
    {
      "cell_type": "code",
      "metadata": {
        "colab": {
          "base_uri": "https://localhost:8080/"
        },
        "id": "jJZI3mASZqr7",
        "outputId": "9f92e0d7-64db-4f8d-b217-4e0dd5b11931"
      },
      "source": [
        "test_df.select(\"text\",)"
      ],
      "execution_count": null,
      "outputs": [
        {
          "output_type": "execute_result",
          "data": {
            "text/plain": [
              "1702455"
            ]
          },
          "metadata": {
            "tags": []
          },
          "execution_count": 7
        }
      ]
    },
    {
      "cell_type": "code",
      "metadata": {
        "colab": {
          "base_uri": "https://localhost:8080/",
          "height": 458
        },
        "id": "kYVaF1zKankE",
        "outputId": "89b84f4b-9402-4491-e7bd-366a320f3749"
      },
      "source": [
        "comb_df.select('*').subtract(test_df.select('text')).count()"
      ],
      "execution_count": null,
      "outputs": [
        {
          "output_type": "error",
          "ename": "AnalysisException",
          "evalue": "ignored",
          "traceback": [
            "\u001b[0;31m---------------------------------------------------------------------------\u001b[0m",
            "\u001b[0;31mAnalysisException\u001b[0m                         Traceback (most recent call last)",
            "\u001b[0;32m<ipython-input-8-246956a82dee>\u001b[0m in \u001b[0;36m<module>\u001b[0;34m()\u001b[0m\n\u001b[0;32m----> 1\u001b[0;31m \u001b[0mcomb_df\u001b[0m\u001b[0;34m.\u001b[0m\u001b[0mselect\u001b[0m\u001b[0;34m(\u001b[0m\u001b[0;34m'*'\u001b[0m\u001b[0;34m)\u001b[0m\u001b[0;34m.\u001b[0m\u001b[0msubtract\u001b[0m\u001b[0;34m(\u001b[0m\u001b[0mtest_df\u001b[0m\u001b[0;34m.\u001b[0m\u001b[0mselect\u001b[0m\u001b[0;34m(\u001b[0m\u001b[0;34m'text'\u001b[0m\u001b[0;34m)\u001b[0m\u001b[0;34m)\u001b[0m\u001b[0;34m.\u001b[0m\u001b[0mcount\u001b[0m\u001b[0;34m(\u001b[0m\u001b[0;34m)\u001b[0m\u001b[0;34m\u001b[0m\u001b[0;34m\u001b[0m\u001b[0m\n\u001b[0m",
            "\u001b[0;32m/usr/local/lib/python3.7/dist-packages/pyspark/sql/dataframe.py\u001b[0m in \u001b[0;36msubtract\u001b[0;34m(self, other)\u001b[0m\n\u001b[1;32m   1928\u001b[0m \u001b[0;34m\u001b[0m\u001b[0m\n\u001b[1;32m   1929\u001b[0m         \"\"\"\n\u001b[0;32m-> 1930\u001b[0;31m         \u001b[0;32mreturn\u001b[0m \u001b[0mDataFrame\u001b[0m\u001b[0;34m(\u001b[0m\u001b[0mgetattr\u001b[0m\u001b[0;34m(\u001b[0m\u001b[0mself\u001b[0m\u001b[0;34m.\u001b[0m\u001b[0m_jdf\u001b[0m\u001b[0;34m,\u001b[0m \u001b[0;34m\"except\"\u001b[0m\u001b[0;34m)\u001b[0m\u001b[0;34m(\u001b[0m\u001b[0mother\u001b[0m\u001b[0;34m.\u001b[0m\u001b[0m_jdf\u001b[0m\u001b[0;34m)\u001b[0m\u001b[0;34m,\u001b[0m \u001b[0mself\u001b[0m\u001b[0;34m.\u001b[0m\u001b[0msql_ctx\u001b[0m\u001b[0;34m)\u001b[0m\u001b[0;34m\u001b[0m\u001b[0;34m\u001b[0m\u001b[0m\n\u001b[0m\u001b[1;32m   1931\u001b[0m \u001b[0;34m\u001b[0m\u001b[0m\n\u001b[1;32m   1932\u001b[0m     \u001b[0;32mdef\u001b[0m \u001b[0mdropDuplicates\u001b[0m\u001b[0;34m(\u001b[0m\u001b[0mself\u001b[0m\u001b[0;34m,\u001b[0m \u001b[0msubset\u001b[0m\u001b[0;34m=\u001b[0m\u001b[0;32mNone\u001b[0m\u001b[0;34m)\u001b[0m\u001b[0;34m:\u001b[0m\u001b[0;34m\u001b[0m\u001b[0;34m\u001b[0m\u001b[0m\n",
            "\u001b[0;32m/usr/local/lib/python3.7/dist-packages/py4j/java_gateway.py\u001b[0m in \u001b[0;36m__call__\u001b[0;34m(self, *args)\u001b[0m\n\u001b[1;32m   1303\u001b[0m         \u001b[0manswer\u001b[0m \u001b[0;34m=\u001b[0m \u001b[0mself\u001b[0m\u001b[0;34m.\u001b[0m\u001b[0mgateway_client\u001b[0m\u001b[0;34m.\u001b[0m\u001b[0msend_command\u001b[0m\u001b[0;34m(\u001b[0m\u001b[0mcommand\u001b[0m\u001b[0;34m)\u001b[0m\u001b[0;34m\u001b[0m\u001b[0;34m\u001b[0m\u001b[0m\n\u001b[1;32m   1304\u001b[0m         return_value = get_return_value(\n\u001b[0;32m-> 1305\u001b[0;31m             answer, self.gateway_client, self.target_id, self.name)\n\u001b[0m\u001b[1;32m   1306\u001b[0m \u001b[0;34m\u001b[0m\u001b[0m\n\u001b[1;32m   1307\u001b[0m         \u001b[0;32mfor\u001b[0m \u001b[0mtemp_arg\u001b[0m \u001b[0;32min\u001b[0m \u001b[0mtemp_args\u001b[0m\u001b[0;34m:\u001b[0m\u001b[0;34m\u001b[0m\u001b[0;34m\u001b[0m\u001b[0m\n",
            "\u001b[0;32m/usr/local/lib/python3.7/dist-packages/pyspark/sql/utils.py\u001b[0m in \u001b[0;36mdeco\u001b[0;34m(*a, **kw)\u001b[0m\n\u001b[1;32m    115\u001b[0m                 \u001b[0;31m# Hide where the exception came from that shows a non-Pythonic\u001b[0m\u001b[0;34m\u001b[0m\u001b[0;34m\u001b[0m\u001b[0;34m\u001b[0m\u001b[0m\n\u001b[1;32m    116\u001b[0m                 \u001b[0;31m# JVM exception message.\u001b[0m\u001b[0;34m\u001b[0m\u001b[0;34m\u001b[0m\u001b[0;34m\u001b[0m\u001b[0m\n\u001b[0;32m--> 117\u001b[0;31m                 \u001b[0;32mraise\u001b[0m \u001b[0mconverted\u001b[0m \u001b[0;32mfrom\u001b[0m \u001b[0;32mNone\u001b[0m\u001b[0;34m\u001b[0m\u001b[0;34m\u001b[0m\u001b[0m\n\u001b[0m\u001b[1;32m    118\u001b[0m             \u001b[0;32melse\u001b[0m\u001b[0;34m:\u001b[0m\u001b[0;34m\u001b[0m\u001b[0;34m\u001b[0m\u001b[0m\n\u001b[1;32m    119\u001b[0m                 \u001b[0;32mraise\u001b[0m\u001b[0;34m\u001b[0m\u001b[0;34m\u001b[0m\u001b[0m\n",
            "\u001b[0;31mAnalysisException\u001b[0m: Except can only be performed on tables with the same number of columns, but the first table has 6 columns and the second table has 1 columns;\n'Except false\n:- Project [u_id#22, text#23, pre_text_vader#24, pre_text_all_upd#25, mean_sent_score#26, final_sent_class#27]\n:  +- Relation[u_id#22,text#23,pre_text_vader#24,pre_text_all_upd#25,mean_sent_score#26,final_sent_class#27] csv\n+- Project [text#0]\n   +- Relation[text#0,pre_text_vader#1,pre_text_all_upd#2,vader_score#3,blob_score#4,afinn_score#5,vader_class#6,afinn_class#7,blob_class#8,mean_sent_score#9,final_sent_class#10] csv\n"
          ]
        }
      ]
    }
  ]
}