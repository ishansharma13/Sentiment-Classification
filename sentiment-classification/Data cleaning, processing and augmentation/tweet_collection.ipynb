{
  "nbformat": 4,
  "nbformat_minor": 0,
  "metadata": {
    "colab": {
      "name": "tweet_collection.ipynb",
      "provenance": [],
      "collapsed_sections": []
    },
    "kernelspec": {
      "name": "python3",
      "display_name": "Python 3"
    }
  },
  "cells": [
    {
      "cell_type": "code",
      "metadata": {
        "id": "B49UE7MfHxIv"
      },
      "source": [
        "import tweepy\n",
        "import pandas as pd"
      ],
      "execution_count": null,
      "outputs": []
    },
    {
      "cell_type": "code",
      "metadata": {
        "id": "PA-ydUsvKwmX"
      },
      "source": [
        "consumer_key = \"xW5oYEr5ToRYVu8fiNRG1RVY9\"\n",
        "consumer_secret = \"VfBZhbp9qNpbWbHf50K7XHecqHl6vUeEObfvofMeC4VajaPZmh\"\n",
        "access_token = \"1352153772982628354-yVH3RwrshDJeRhfvGTv2V2YHhuuO0y\"\n",
        "access_token_secret = \"hfvcqMzcsSCrsdWMKIk8h43r8v987OyPcaOC66chkbVB4\"\n",
        "\n"
      ],
      "execution_count": null,
      "outputs": []
    },
    {
      "cell_type": "code",
      "metadata": {
        "id": "e4PHa-qTV20N"
      },
      "source": [
        "class collect:\n",
        "  def __init__(self,ct,ck,at,ak):\n",
        "    self.auth = tweepy.OAuthHandler(ct, ck)\n",
        "    self.auth.set_access_token(at,ak)\n",
        "    self.api = tweepy.API(self.auth)\n",
        "    self.db = pd.DataFrame(columns=['username', 'description', 'location', 'following','followers', 'totaltweets', 'retweetcount', 'text', 'hashtags']) \n",
        "  \n",
        "  def get(self,words,datesince,numtweets):\n",
        "    return tweepy.Cursor(self.api.search, q=words, lang=\"en\", \n",
        "                           since=datesince, tweet_mode='extended').items(numtweets)\n",
        "  def scrape(self,tweets):\n",
        "    l = [tweet for tweet in tweets]\n",
        "    for tweet in l:\n",
        "      user = tweet.user.screen_name\n",
        "      description = tweet.user.description \n",
        "      location = tweet.user.location \n",
        "      following = tweet.user.friends_count \n",
        "      followers = tweet.user.followers_count \n",
        "      totaltweets = tweet.user.statuses_count \n",
        "      retweetcount = tweet.retweet_count\n",
        "      hashes1 = tweet.entities['hashtags']\n",
        "\n",
        "      try:\n",
        "        text = tweet.retweeted_status.full_text\n",
        "        hashes2 = tweet.retweeted_status.entities['hashtags']\n",
        "        # print(hashes2)\n",
        "      except AttributeError: \n",
        "        text = tweet.full_text\n",
        "        hashes2 = list()\n",
        "      final_hashes = hashes1 + hashes2\n",
        "      hashtext = list() \n",
        "      for j in range(0, len(final_hashes)): \n",
        "          hashtext.append(final_hashes[j]['text'])\n",
        "\n",
        "      hashtext = list(set(hashtext))\n",
        "      row = [user, description, location, following, followers, totaltweets, retweetcount, text, hashtext]\n",
        "      self.db.loc[len(self.db)] = row\n",
        "    \n",
        "\n",
        "  def get_df(self):\n",
        "    return self.db\n"
      ],
      "execution_count": null,
      "outputs": []
    },
    {
      "cell_type": "code",
      "metadata": {
        "id": "yxO-G-i6Vl9B"
      },
      "source": [
        "c = collect(consumer_key,consumer_secret,access_token,access_token_secret)"
      ],
      "execution_count": null,
      "outputs": []
    },
    {
      "cell_type": "code",
      "metadata": {
        "id": "5ivB0TicbwxJ"
      },
      "source": [
        "# words = [\"covid\",\"corona\",\"coronavirus\",\"covid-19\"]\n",
        "words=[\"ai\",\"ml\",\"artificial intelligence\",\"machine learning\",\"big data\"]\n",
        "datesince = 2021-4-1\n",
        "num = 100"
      ],
      "execution_count": null,
      "outputs": []
    },
    {
      "cell_type": "code",
      "metadata": {
        "id": "W1F9DIH3cOyA"
      },
      "source": [
        "tweets = c.get(words,datesince,num)\n",
        "c.scrape(tweets)"
      ],
      "execution_count": null,
      "outputs": []
    },
    {
      "cell_type": "code",
      "metadata": {
        "id": "UtZelwh1cfji"
      },
      "source": [
        "df = c.get_df()"
      ],
      "execution_count": null,
      "outputs": []
    },
    {
      "cell_type": "code",
      "metadata": {
        "colab": {
          "base_uri": "https://localhost:8080/"
        },
        "id": "E2Y1BMQCu3QH",
        "outputId": "1073f4e9-6c94-4aea-8100-dc110450e42d"
      },
      "source": [
        "df"
      ],
      "execution_count": null,
      "outputs": [
        {
          "output_type": "execute_result",
          "data": {
            "text/html": [
              "<div>\n",
              "<style scoped>\n",
              "    .dataframe tbody tr th:only-of-type {\n",
              "        vertical-align: middle;\n",
              "    }\n",
              "\n",
              "    .dataframe tbody tr th {\n",
              "        vertical-align: top;\n",
              "    }\n",
              "\n",
              "    .dataframe thead th {\n",
              "        text-align: right;\n",
              "    }\n",
              "</style>\n",
              "<table border=\"1\" class=\"dataframe\">\n",
              "  <thead>\n",
              "    <tr style=\"text-align: right;\">\n",
              "      <th></th>\n",
              "      <th>username</th>\n",
              "      <th>description</th>\n",
              "      <th>location</th>\n",
              "      <th>following</th>\n",
              "      <th>followers</th>\n",
              "      <th>totaltweets</th>\n",
              "      <th>retweetcount</th>\n",
              "      <th>text</th>\n",
              "      <th>hashtags</th>\n",
              "    </tr>\n",
              "  </thead>\n",
              "  <tbody>\n",
              "    <tr>\n",
              "      <th>0</th>\n",
              "      <td>ozyind</td>\n",
              "      <td>I help firms understand #Data, #AI, #HybridClo...</td>\n",
              "      <td>Australia / New Zealand</td>\n",
              "      <td>623</td>\n",
              "      <td>1467</td>\n",
              "      <td>39249</td>\n",
              "      <td>0</td>\n",
              "      <td>Implementing a successful #AI initiative requi...</td>\n",
              "      <td>[AI, ML]</td>\n",
              "    </tr>\n",
              "    <tr>\n",
              "      <th>1</th>\n",
              "      <td>ML_Tweet_Bot</td>\n",
              "      <td>A bot, which retweet tweets that have \"Machine...</td>\n",
              "      <td>Help us!</td>\n",
              "      <td>1</td>\n",
              "      <td>6371</td>\n",
              "      <td>480956</td>\n",
              "      <td>5</td>\n",
              "      <td>A new artificial intelligence landscape is eme...</td>\n",
              "      <td>[]</td>\n",
              "    </tr>\n",
              "    <tr>\n",
              "      <th>2</th>\n",
              "      <td>AsgardData</td>\n",
              "      <td></td>\n",
              "      <td></td>\n",
              "      <td>833</td>\n",
              "      <td>768</td>\n",
              "      <td>629</td>\n",
              "      <td>0</td>\n",
              "      <td>\"A new artificial intelligence landscape is em...</td>\n",
              "      <td>[AI, DataScience, DataMonetization, DataEcosys...</td>\n",
              "    </tr>\n",
              "    <tr>\n",
              "      <th>3</th>\n",
              "      <td>sheethalck</td>\n",
              "      <td>#Communications Manager @IBM, cricket/movie bu...</td>\n",
              "      <td></td>\n",
              "      <td>1080</td>\n",
              "      <td>500</td>\n",
              "      <td>8745</td>\n",
              "      <td>13</td>\n",
              "      <td>Implementing a successful #AI initiative requi...</td>\n",
              "      <td>[AI, ML]</td>\n",
              "    </tr>\n",
              "    <tr>\n",
              "      <th>4</th>\n",
              "      <td>KriszanP</td>\n",
              "      <td>emoprincesz</td>\n",
              "      <td>Philippines</td>\n",
              "      <td>80</td>\n",
              "      <td>43</td>\n",
              "      <td>5566</td>\n",
              "      <td>13</td>\n",
              "      <td>Implementing a successful #AI initiative requi...</td>\n",
              "      <td>[AI, ML]</td>\n",
              "    </tr>\n",
              "    <tr>\n",
              "      <th>5</th>\n",
              "      <td>ML_Tweet_Bot</td>\n",
              "      <td>A bot, which retweet tweets that have \"Machine...</td>\n",
              "      <td>Help us!</td>\n",
              "      <td>1</td>\n",
              "      <td>6371</td>\n",
              "      <td>480956</td>\n",
              "      <td>13</td>\n",
              "      <td>Experts Opinion: 100+ Best AI, Machine Learnin...</td>\n",
              "      <td>[DeepLearning, MachineLearning, DataScience, A...</td>\n",
              "    </tr>\n",
              "    <tr>\n",
              "      <th>6</th>\n",
              "      <td>education_24x7</td>\n",
              "      <td>All education content. Education changes the l...</td>\n",
              "      <td>Delhi</td>\n",
              "      <td>7</td>\n",
              "      <td>2183</td>\n",
              "      <td>203396</td>\n",
              "      <td>2</td>\n",
              "      <td>Your Artificial Intelligence Initiative Needs ...</td>\n",
              "      <td>[CIO, AI, CTO, ML]</td>\n",
              "    </tr>\n",
              "    <tr>\n",
              "      <th>7</th>\n",
              "      <td>Artificialbra1n</td>\n",
              "      <td>A basic AI driven bot, which retweet tweets th...</td>\n",
              "      <td></td>\n",
              "      <td>6</td>\n",
              "      <td>954</td>\n",
              "      <td>426244</td>\n",
              "      <td>2</td>\n",
              "      <td>Your Artificial Intelligence Initiative Needs ...</td>\n",
              "      <td>[CIO, AI, CTO, ML]</td>\n",
              "    </tr>\n",
              "    <tr>\n",
              "      <th>8</th>\n",
              "      <td>DougVFloyd</td>\n",
              "      <td>I am collaborative #leader for #software #prod...</td>\n",
              "      <td>San Francisco, CA</td>\n",
              "      <td>385</td>\n",
              "      <td>978</td>\n",
              "      <td>1112</td>\n",
              "      <td>2</td>\n",
              "      <td>Your Artificial Intelligence Initiative Needs ...</td>\n",
              "      <td>[CIO, AI, CTO, ML]</td>\n",
              "    </tr>\n",
              "    <tr>\n",
              "      <th>9</th>\n",
              "      <td>scottronne</td>\n",
              "      <td>IBM Ecosystem Sales Leader Passion about AI, I...</td>\n",
              "      <td>Houston, TX</td>\n",
              "      <td>938</td>\n",
              "      <td>107</td>\n",
              "      <td>1958</td>\n",
              "      <td>13</td>\n",
              "      <td>Implementing a successful #AI initiative requi...</td>\n",
              "      <td>[AI, ML]</td>\n",
              "    </tr>\n",
              "    <tr>\n",
              "      <th>10</th>\n",
              "      <td>LC_Insights</td>\n",
              "      <td>We publish research, educational, and advisory...</td>\n",
              "      <td>Austin, TX</td>\n",
              "      <td>17</td>\n",
              "      <td>230</td>\n",
              "      <td>1155</td>\n",
              "      <td>0</td>\n",
              "      <td>Design engineers are using big data in excitin...</td>\n",
              "      <td>[AI, ML]</td>\n",
              "    </tr>\n",
              "    <tr>\n",
              "      <th>11</th>\n",
              "      <td>ML_Tweet_Bot</td>\n",
              "      <td>A bot, which retweet tweets that have \"Machine...</td>\n",
              "      <td>Help us!</td>\n",
              "      <td>1</td>\n",
              "      <td>6371</td>\n",
              "      <td>480956</td>\n",
              "      <td>1</td>\n",
              "      <td>A new artificial intelligence landscape is eme...</td>\n",
              "      <td>[]</td>\n",
              "    </tr>\n",
              "    <tr>\n",
              "      <th>12</th>\n",
              "      <td>qualityisarul3</td>\n",
              "      <td>Tech-Science..&amp; Absurd Things 🇲🇽</td>\n",
              "      <td>@MicHAutoDidAct</td>\n",
              "      <td>257</td>\n",
              "      <td>342</td>\n",
              "      <td>146876</td>\n",
              "      <td>13</td>\n",
              "      <td>Implementing a successful #AI initiative requi...</td>\n",
              "      <td>[AI, ML]</td>\n",
              "    </tr>\n",
              "  </tbody>\n",
              "</table>\n",
              "</div>"
            ],
            "text/plain": [
              "           username  ...                                           hashtags\n",
              "0            ozyind  ...                                           [AI, ML]\n",
              "1      ML_Tweet_Bot  ...                                                 []\n",
              "2        AsgardData  ...  [AI, DataScience, DataMonetization, DataEcosys...\n",
              "3        sheethalck  ...                                           [AI, ML]\n",
              "4          KriszanP  ...                                           [AI, ML]\n",
              "5      ML_Tweet_Bot  ...  [DeepLearning, MachineLearning, DataScience, A...\n",
              "6    education_24x7  ...                                 [CIO, AI, CTO, ML]\n",
              "7   Artificialbra1n  ...                                 [CIO, AI, CTO, ML]\n",
              "8        DougVFloyd  ...                                 [CIO, AI, CTO, ML]\n",
              "9        scottronne  ...                                           [AI, ML]\n",
              "10      LC_Insights  ...                                           [AI, ML]\n",
              "11     ML_Tweet_Bot  ...                                                 []\n",
              "12   qualityisarul3  ...                                           [AI, ML]\n",
              "\n",
              "[13 rows x 9 columns]"
            ]
          },
          "metadata": {
            "tags": []
          },
          "execution_count": 88
        }
      ]
    },
    {
      "cell_type": "code",
      "metadata": {
        "id": "1E2eJ0Occatf"
      },
      "source": [
        "# db = pd.DataFrame(columns=['username', 'description', 'location', 'following','followers', 'totaltweets', 'retweetcount', 'text', 'hashtags']) \n",
        "# for tweet in l:\n",
        "#     user = tweet.user.screen_name\n",
        "#     description = tweet.user.description \n",
        "#     location = tweet.user.location \n",
        "#     following = tweet.user.friends_count \n",
        "#     followers = tweet.user.followers_count \n",
        "#     totaltweets = tweet.user.statuses_count \n",
        "#     retweetcount = tweet.retweet_count\n",
        "#     hashes1 = tweet.entities['hashtags']\n",
        "\n",
        "#     try:\n",
        "#       text = tweet.retweeted_status.full_text\n",
        "#       hashes2 = tweet.retweeted_status.entities['hashtags']\n",
        "#       # print(hashes2)\n",
        "#     except AttributeError: \n",
        "#       text = tweet.full_text\n",
        "#       hashes2 = list()\n",
        "#     final_hashes = hashes1 + hashes2\n",
        "#     hashtext = list() \n",
        "#     for j in range(0, len(final_hashes)): \n",
        "#         hashtext.append(final_hashes[j]['text'])\n",
        "\n",
        "#     hashtext = list(set(hashtext))\n",
        "#     row = [user, description, location, following, followers, totaltweets, retweetcount, text, hashtext]\n",
        "#     db.loc[len(db)] = row"
      ],
      "execution_count": null,
      "outputs": []
    },
    {
      "cell_type": "code",
      "metadata": {
        "colab": {
          "base_uri": "https://localhost:8080/",
          "height": 573
        },
        "id": "elje1cwkcnzO",
        "outputId": "e7e1666d-dcb3-495b-b64c-c259c9df036c"
      },
      "source": [
        "df"
      ],
      "execution_count": null,
      "outputs": [
        {
          "output_type": "execute_result",
          "data": {
            "text/html": [
              "<div>\n",
              "<style scoped>\n",
              "    .dataframe tbody tr th:only-of-type {\n",
              "        vertical-align: middle;\n",
              "    }\n",
              "\n",
              "    .dataframe tbody tr th {\n",
              "        vertical-align: top;\n",
              "    }\n",
              "\n",
              "    .dataframe thead th {\n",
              "        text-align: right;\n",
              "    }\n",
              "</style>\n",
              "<table border=\"1\" class=\"dataframe\">\n",
              "  <thead>\n",
              "    <tr style=\"text-align: right;\">\n",
              "      <th></th>\n",
              "      <th>username</th>\n",
              "      <th>description</th>\n",
              "      <th>location</th>\n",
              "      <th>following</th>\n",
              "      <th>followers</th>\n",
              "      <th>totaltweets</th>\n",
              "      <th>retweetcount</th>\n",
              "      <th>text</th>\n",
              "      <th>hashtags</th>\n",
              "    </tr>\n",
              "  </thead>\n",
              "  <tbody>\n",
              "    <tr>\n",
              "      <th>0</th>\n",
              "      <td>HeartVessTransp</td>\n",
              "      <td>Heart, Vessels and Transplantation is the peer...</td>\n",
              "      <td>Gulmira Kudaiberdieva EiC</td>\n",
              "      <td>141</td>\n",
              "      <td>131</td>\n",
              "      <td>3519</td>\n",
              "      <td>1</td>\n",
              "      <td>Coronavirus Covid-19  World Daily Report\\n5/5/...</td>\n",
              "      <td>[COVID19Pandemic, CoronavirusOutbreak, Covid_1...</td>\n",
              "    </tr>\n",
              "    <tr>\n",
              "      <th>1</th>\n",
              "      <td>dt_next</td>\n",
              "      <td>English language newspaper by the Daily Thanth...</td>\n",
              "      <td>Chennai, India</td>\n",
              "      <td>430</td>\n",
              "      <td>8649</td>\n",
              "      <td>143372</td>\n",
              "      <td>0</td>\n",
              "      <td>Actor @arunvijayno1 gets vaccinated for Covid-...</td>\n",
              "      <td>[ArunVijay, COVIDSecondWave, COVID19, Corona, ...</td>\n",
              "    </tr>\n",
              "    <tr>\n",
              "      <th>2</th>\n",
              "      <td>NYCfella85</td>\n",
              "      <td>“If you are not part of the solution you are p...</td>\n",
              "      <td>Philadelphia, Pa</td>\n",
              "      <td>97</td>\n",
              "      <td>212</td>\n",
              "      <td>31099</td>\n",
              "      <td>111</td>\n",
              "      <td>NYC mobile vaccination buses will be making st...</td>\n",
              "      <td>[]</td>\n",
              "    </tr>\n",
              "    <tr>\n",
              "      <th>3</th>\n",
              "      <td>alert_covid19</td>\n",
              "      <td>The account is connected to a server that is a...</td>\n",
              "      <td></td>\n",
              "      <td>62</td>\n",
              "      <td>18</td>\n",
              "      <td>1099</td>\n",
              "      <td>0</td>\n",
              "      <td>COVID19(05/06/2021 04:02:11)=&amp;gt;\\nConf(^)(+41...</td>\n",
              "      <td>[Lockdown, covid, COVID, pandemic, socialdista...</td>\n",
              "    </tr>\n",
              "    <tr>\n",
              "      <th>4</th>\n",
              "      <td>viralvideovlogs</td>\n",
              "      <td>news news news and trends\\n\\nhttps://t.co/2ScZ...</td>\n",
              "      <td>കേരളം</td>\n",
              "      <td>4563</td>\n",
              "      <td>6402</td>\n",
              "      <td>688590</td>\n",
              "      <td>5</td>\n",
              "      <td>#BREAKING: Sri Lanka bans entry of Indians due...</td>\n",
              "      <td>[COVID19, BREAKING, Corona, COVIDIndia]</td>\n",
              "    </tr>\n",
              "    <tr>\n",
              "      <th>...</th>\n",
              "      <td>...</td>\n",
              "      <td>...</td>\n",
              "      <td>...</td>\n",
              "      <td>...</td>\n",
              "      <td>...</td>\n",
              "      <td>...</td>\n",
              "      <td>...</td>\n",
              "      <td>...</td>\n",
              "      <td>...</td>\n",
              "    </tr>\n",
              "    <tr>\n",
              "      <th>95</th>\n",
              "      <td>xiyanf99</td>\n",
              "      <td></td>\n",
              "      <td></td>\n",
              "      <td>344</td>\n",
              "      <td>310</td>\n",
              "      <td>37789</td>\n",
              "      <td>953</td>\n",
              "      <td>Excellent work by #COVID19 detective @NFSC_007...</td>\n",
              "      <td>[UnrestrictedBioweapon, Covid_19, COVID19, Cor...</td>\n",
              "    </tr>\n",
              "    <tr>\n",
              "      <th>96</th>\n",
              "      <td>KangriCarrier</td>\n",
              "      <td>Pipli, Puri. From the land of cyclones to the ...</td>\n",
              "      <td></td>\n",
              "      <td>1</td>\n",
              "      <td>77987</td>\n",
              "      <td>2908</td>\n",
              "      <td>1</td>\n",
              "      <td>How to study in a pandemic and how to adjust y...</td>\n",
              "      <td>[]</td>\n",
              "    </tr>\n",
              "    <tr>\n",
              "      <th>97</th>\n",
              "      <td>POfW8373</td>\n",
              "      <td></td>\n",
              "      <td>United States</td>\n",
              "      <td>582</td>\n",
              "      <td>422</td>\n",
              "      <td>9656</td>\n",
              "      <td>953</td>\n",
              "      <td>Excellent work by #COVID19 detective @NFSC_007...</td>\n",
              "      <td>[UnrestrictedBioweapon, Covid_19, COVID19, Cor...</td>\n",
              "    </tr>\n",
              "    <tr>\n",
              "      <th>98</th>\n",
              "      <td>nitinbankar9</td>\n",
              "      <td>हम उनको भी दुआ देता है,\\r\\nजिनको हमारे नाम से ...</td>\n",
              "      <td>moradabad uttar Pradesh India</td>\n",
              "      <td>4924</td>\n",
              "      <td>1669</td>\n",
              "      <td>12358</td>\n",
              "      <td>0</td>\n",
              "      <td>Stop 5 G testing \\ncorona only 5G corona \\n#Co...</td>\n",
              "      <td>[Covid_19, Stop_5G_Testing_india, Corona, Stop...</td>\n",
              "    </tr>\n",
              "    <tr>\n",
              "      <th>99</th>\n",
              "      <td>nitinbankar9</td>\n",
              "      <td>हम उनको भी दुआ देता है,\\r\\nजिनको हमारे नाम से ...</td>\n",
              "      <td>moradabad uttar Pradesh India</td>\n",
              "      <td>4924</td>\n",
              "      <td>1669</td>\n",
              "      <td>12358</td>\n",
              "      <td>0</td>\n",
              "      <td>Stop 5 G testing \\ncorona only 5G corona \\n#Co...</td>\n",
              "      <td>[Covid_19, Stop_5G_Testing_india, Corona, Stop...</td>\n",
              "    </tr>\n",
              "  </tbody>\n",
              "</table>\n",
              "<p>100 rows × 9 columns</p>\n",
              "</div>"
            ],
            "text/plain": [
              "           username  ...                                           hashtags\n",
              "0   HeartVessTransp  ...  [COVID19Pandemic, CoronavirusOutbreak, Covid_1...\n",
              "1           dt_next  ...  [ArunVijay, COVIDSecondWave, COVID19, Corona, ...\n",
              "2        NYCfella85  ...                                                 []\n",
              "3     alert_covid19  ...  [Lockdown, covid, COVID, pandemic, socialdista...\n",
              "4   viralvideovlogs  ...            [COVID19, BREAKING, Corona, COVIDIndia]\n",
              "..              ...  ...                                                ...\n",
              "95         xiyanf99  ...  [UnrestrictedBioweapon, Covid_19, COVID19, Cor...\n",
              "96    KangriCarrier  ...                                                 []\n",
              "97         POfW8373  ...  [UnrestrictedBioweapon, Covid_19, COVID19, Cor...\n",
              "98     nitinbankar9  ...  [Covid_19, Stop_5G_Testing_india, Corona, Stop...\n",
              "99     nitinbankar9  ...  [Covid_19, Stop_5G_Testing_india, Corona, Stop...\n",
              "\n",
              "[100 rows x 9 columns]"
            ]
          },
          "metadata": {
            "tags": []
          },
          "execution_count": 70
        }
      ]
    },
    {
      "cell_type": "code",
      "metadata": {
        "colab": {
          "base_uri": "https://localhost:8080/",
          "height": 548
        },
        "id": "ZQNuotQDco5K",
        "outputId": "88cf7480-b950-4271-c48a-e7a78287b5ea"
      },
      "source": [
        "from google.colab import drive\n",
        "drive.mount('/drive')"
      ],
      "execution_count": null,
      "outputs": [
        {
          "output_type": "error",
          "ename": "KeyboardInterrupt",
          "evalue": "ignored",
          "traceback": [
            "\u001b[0;31m---------------------------------------------------------------------------\u001b[0m",
            "\u001b[0;31mKeyboardInterrupt\u001b[0m                         Traceback (most recent call last)",
            "\u001b[0;32m/usr/local/lib/python3.7/dist-packages/ipykernel/kernelbase.py\u001b[0m in \u001b[0;36m_input_request\u001b[0;34m(self, prompt, ident, parent, password)\u001b[0m\n\u001b[1;32m    728\u001b[0m             \u001b[0;32mtry\u001b[0m\u001b[0;34m:\u001b[0m\u001b[0;34m\u001b[0m\u001b[0;34m\u001b[0m\u001b[0m\n\u001b[0;32m--> 729\u001b[0;31m                 \u001b[0mident\u001b[0m\u001b[0;34m,\u001b[0m \u001b[0mreply\u001b[0m \u001b[0;34m=\u001b[0m \u001b[0mself\u001b[0m\u001b[0;34m.\u001b[0m\u001b[0msession\u001b[0m\u001b[0;34m.\u001b[0m\u001b[0mrecv\u001b[0m\u001b[0;34m(\u001b[0m\u001b[0mself\u001b[0m\u001b[0;34m.\u001b[0m\u001b[0mstdin_socket\u001b[0m\u001b[0;34m,\u001b[0m \u001b[0;36m0\u001b[0m\u001b[0;34m)\u001b[0m\u001b[0;34m\u001b[0m\u001b[0;34m\u001b[0m\u001b[0m\n\u001b[0m\u001b[1;32m    730\u001b[0m             \u001b[0;32mexcept\u001b[0m \u001b[0mException\u001b[0m\u001b[0;34m:\u001b[0m\u001b[0;34m\u001b[0m\u001b[0;34m\u001b[0m\u001b[0m\n",
            "\u001b[0;32m/usr/local/lib/python3.7/dist-packages/jupyter_client/session.py\u001b[0m in \u001b[0;36mrecv\u001b[0;34m(self, socket, mode, content, copy)\u001b[0m\n\u001b[1;32m    802\u001b[0m         \u001b[0;32mtry\u001b[0m\u001b[0;34m:\u001b[0m\u001b[0;34m\u001b[0m\u001b[0;34m\u001b[0m\u001b[0m\n\u001b[0;32m--> 803\u001b[0;31m             \u001b[0mmsg_list\u001b[0m \u001b[0;34m=\u001b[0m \u001b[0msocket\u001b[0m\u001b[0;34m.\u001b[0m\u001b[0mrecv_multipart\u001b[0m\u001b[0;34m(\u001b[0m\u001b[0mmode\u001b[0m\u001b[0;34m,\u001b[0m \u001b[0mcopy\u001b[0m\u001b[0;34m=\u001b[0m\u001b[0mcopy\u001b[0m\u001b[0;34m)\u001b[0m\u001b[0;34m\u001b[0m\u001b[0;34m\u001b[0m\u001b[0m\n\u001b[0m\u001b[1;32m    804\u001b[0m         \u001b[0;32mexcept\u001b[0m \u001b[0mzmq\u001b[0m\u001b[0;34m.\u001b[0m\u001b[0mZMQError\u001b[0m \u001b[0;32mas\u001b[0m \u001b[0me\u001b[0m\u001b[0;34m:\u001b[0m\u001b[0;34m\u001b[0m\u001b[0;34m\u001b[0m\u001b[0m\n",
            "\u001b[0;32m/usr/local/lib/python3.7/dist-packages/zmq/sugar/socket.py\u001b[0m in \u001b[0;36mrecv_multipart\u001b[0;34m(self, flags, copy, track)\u001b[0m\n\u001b[1;32m    582\u001b[0m         \"\"\"\n\u001b[0;32m--> 583\u001b[0;31m         \u001b[0mparts\u001b[0m \u001b[0;34m=\u001b[0m \u001b[0;34m[\u001b[0m\u001b[0mself\u001b[0m\u001b[0;34m.\u001b[0m\u001b[0mrecv\u001b[0m\u001b[0;34m(\u001b[0m\u001b[0mflags\u001b[0m\u001b[0;34m,\u001b[0m \u001b[0mcopy\u001b[0m\u001b[0;34m=\u001b[0m\u001b[0mcopy\u001b[0m\u001b[0;34m,\u001b[0m \u001b[0mtrack\u001b[0m\u001b[0;34m=\u001b[0m\u001b[0mtrack\u001b[0m\u001b[0;34m)\u001b[0m\u001b[0;34m]\u001b[0m\u001b[0;34m\u001b[0m\u001b[0;34m\u001b[0m\u001b[0m\n\u001b[0m\u001b[1;32m    584\u001b[0m         \u001b[0;31m# have first part already, only loop while more to receive\u001b[0m\u001b[0;34m\u001b[0m\u001b[0;34m\u001b[0m\u001b[0;34m\u001b[0m\u001b[0m\n",
            "\u001b[0;32mzmq/backend/cython/socket.pyx\u001b[0m in \u001b[0;36mzmq.backend.cython.socket.Socket.recv\u001b[0;34m()\u001b[0m\n",
            "\u001b[0;32mzmq/backend/cython/socket.pyx\u001b[0m in \u001b[0;36mzmq.backend.cython.socket.Socket.recv\u001b[0;34m()\u001b[0m\n",
            "\u001b[0;32mzmq/backend/cython/socket.pyx\u001b[0m in \u001b[0;36mzmq.backend.cython.socket._recv_copy\u001b[0;34m()\u001b[0m\n",
            "\u001b[0;32m/usr/local/lib/python3.7/dist-packages/zmq/backend/cython/checkrc.pxd\u001b[0m in \u001b[0;36mzmq.backend.cython.checkrc._check_rc\u001b[0;34m()\u001b[0m\n",
            "\u001b[0;31mKeyboardInterrupt\u001b[0m: ",
            "\nDuring handling of the above exception, another exception occurred:\n",
            "\u001b[0;31mKeyboardInterrupt\u001b[0m                         Traceback (most recent call last)",
            "\u001b[0;32m<ipython-input-53-6c21181b7660>\u001b[0m in \u001b[0;36m<module>\u001b[0;34m()\u001b[0m\n\u001b[1;32m      1\u001b[0m \u001b[0;32mfrom\u001b[0m \u001b[0mgoogle\u001b[0m\u001b[0;34m.\u001b[0m\u001b[0mcolab\u001b[0m \u001b[0;32mimport\u001b[0m \u001b[0mdrive\u001b[0m\u001b[0;34m\u001b[0m\u001b[0;34m\u001b[0m\u001b[0m\n\u001b[0;32m----> 2\u001b[0;31m \u001b[0mdrive\u001b[0m\u001b[0;34m.\u001b[0m\u001b[0mmount\u001b[0m\u001b[0;34m(\u001b[0m\u001b[0;34m'/drive'\u001b[0m\u001b[0;34m)\u001b[0m\u001b[0;34m\u001b[0m\u001b[0;34m\u001b[0m\u001b[0m\n\u001b[0m",
            "\u001b[0;32m/usr/local/lib/python3.7/dist-packages/google/colab/drive.py\u001b[0m in \u001b[0;36mmount\u001b[0;34m(mountpoint, force_remount, timeout_ms, use_metadata_server)\u001b[0m\n\u001b[1;32m    258\u001b[0m       \u001b[0;32mwith\u001b[0m \u001b[0m_output\u001b[0m\u001b[0;34m.\u001b[0m\u001b[0muse_tags\u001b[0m\u001b[0;34m(\u001b[0m\u001b[0;34m'dfs-auth-dance'\u001b[0m\u001b[0;34m)\u001b[0m\u001b[0;34m:\u001b[0m\u001b[0;34m\u001b[0m\u001b[0;34m\u001b[0m\u001b[0m\n\u001b[1;32m    259\u001b[0m         \u001b[0;32mwith\u001b[0m \u001b[0mopen\u001b[0m\u001b[0;34m(\u001b[0m\u001b[0mfifo\u001b[0m\u001b[0;34m,\u001b[0m \u001b[0;34m'w'\u001b[0m\u001b[0;34m)\u001b[0m \u001b[0;32mas\u001b[0m \u001b[0mfifo_file\u001b[0m\u001b[0;34m:\u001b[0m\u001b[0;34m\u001b[0m\u001b[0;34m\u001b[0m\u001b[0m\n\u001b[0;32m--> 260\u001b[0;31m           \u001b[0mfifo_file\u001b[0m\u001b[0;34m.\u001b[0m\u001b[0mwrite\u001b[0m\u001b[0;34m(\u001b[0m\u001b[0mget_code\u001b[0m\u001b[0;34m(\u001b[0m\u001b[0mauth_prompt\u001b[0m\u001b[0;34m)\u001b[0m \u001b[0;34m+\u001b[0m \u001b[0;34m'\\n'\u001b[0m\u001b[0;34m)\u001b[0m\u001b[0;34m\u001b[0m\u001b[0;34m\u001b[0m\u001b[0m\n\u001b[0m\u001b[1;32m    261\u001b[0m       \u001b[0mwrote_to_fifo\u001b[0m \u001b[0;34m=\u001b[0m \u001b[0;32mTrue\u001b[0m\u001b[0;34m\u001b[0m\u001b[0;34m\u001b[0m\u001b[0m\n\u001b[1;32m    262\u001b[0m     \u001b[0;32melif\u001b[0m \u001b[0mcase\u001b[0m \u001b[0;34m==\u001b[0m \u001b[0;36m5\u001b[0m\u001b[0;34m:\u001b[0m\u001b[0;34m\u001b[0m\u001b[0;34m\u001b[0m\u001b[0m\n",
            "\u001b[0;32m/usr/local/lib/python3.7/dist-packages/ipykernel/kernelbase.py\u001b[0m in \u001b[0;36mraw_input\u001b[0;34m(self, prompt)\u001b[0m\n\u001b[1;32m    702\u001b[0m             \u001b[0mself\u001b[0m\u001b[0;34m.\u001b[0m\u001b[0m_parent_ident\u001b[0m\u001b[0;34m,\u001b[0m\u001b[0;34m\u001b[0m\u001b[0;34m\u001b[0m\u001b[0m\n\u001b[1;32m    703\u001b[0m             \u001b[0mself\u001b[0m\u001b[0;34m.\u001b[0m\u001b[0m_parent_header\u001b[0m\u001b[0;34m,\u001b[0m\u001b[0;34m\u001b[0m\u001b[0;34m\u001b[0m\u001b[0m\n\u001b[0;32m--> 704\u001b[0;31m             \u001b[0mpassword\u001b[0m\u001b[0;34m=\u001b[0m\u001b[0;32mFalse\u001b[0m\u001b[0;34m,\u001b[0m\u001b[0;34m\u001b[0m\u001b[0;34m\u001b[0m\u001b[0m\n\u001b[0m\u001b[1;32m    705\u001b[0m         )\n\u001b[1;32m    706\u001b[0m \u001b[0;34m\u001b[0m\u001b[0m\n",
            "\u001b[0;32m/usr/local/lib/python3.7/dist-packages/ipykernel/kernelbase.py\u001b[0m in \u001b[0;36m_input_request\u001b[0;34m(self, prompt, ident, parent, password)\u001b[0m\n\u001b[1;32m    732\u001b[0m             \u001b[0;32mexcept\u001b[0m \u001b[0mKeyboardInterrupt\u001b[0m\u001b[0;34m:\u001b[0m\u001b[0;34m\u001b[0m\u001b[0;34m\u001b[0m\u001b[0m\n\u001b[1;32m    733\u001b[0m                 \u001b[0;31m# re-raise KeyboardInterrupt, to truncate traceback\u001b[0m\u001b[0;34m\u001b[0m\u001b[0;34m\u001b[0m\u001b[0;34m\u001b[0m\u001b[0m\n\u001b[0;32m--> 734\u001b[0;31m                 \u001b[0;32mraise\u001b[0m \u001b[0mKeyboardInterrupt\u001b[0m\u001b[0;34m\u001b[0m\u001b[0;34m\u001b[0m\u001b[0m\n\u001b[0m\u001b[1;32m    735\u001b[0m             \u001b[0;32melse\u001b[0m\u001b[0;34m:\u001b[0m\u001b[0;34m\u001b[0m\u001b[0;34m\u001b[0m\u001b[0m\n\u001b[1;32m    736\u001b[0m                 \u001b[0;32mbreak\u001b[0m\u001b[0;34m\u001b[0m\u001b[0;34m\u001b[0m\u001b[0m\n",
            "\u001b[0;31mKeyboardInterrupt\u001b[0m: "
          ]
        }
      ]
    },
    {
      "cell_type": "code",
      "metadata": {
        "id": "qBTJbhJZcRuu"
      },
      "source": [
        "df.to_excel('/drive/My Drive/scraped.xlsx',index = False)"
      ],
      "execution_count": null,
      "outputs": []
    },
    {
      "cell_type": "code",
      "metadata": {
        "id": "L7vgHJuNfQWD"
      },
      "source": [
        "df1 = pd.read_excel(\"/drive/My Drive/scraped.xlsx\")"
      ],
      "execution_count": null,
      "outputs": []
    },
    {
      "cell_type": "code",
      "metadata": {
        "colab": {
          "base_uri": "https://localhost:8080/",
          "height": 306
        },
        "id": "NsY8ydrWUT9U",
        "outputId": "ee22068e-81f4-49f3-9756-de75c79ed17f"
      },
      "source": [
        "df1.head()"
      ],
      "execution_count": null,
      "outputs": [
        {
          "output_type": "execute_result",
          "data": {
            "text/html": [
              "<div>\n",
              "<style scoped>\n",
              "    .dataframe tbody tr th:only-of-type {\n",
              "        vertical-align: middle;\n",
              "    }\n",
              "\n",
              "    .dataframe tbody tr th {\n",
              "        vertical-align: top;\n",
              "    }\n",
              "\n",
              "    .dataframe thead th {\n",
              "        text-align: right;\n",
              "    }\n",
              "</style>\n",
              "<table border=\"1\" class=\"dataframe\">\n",
              "  <thead>\n",
              "    <tr style=\"text-align: right;\">\n",
              "      <th></th>\n",
              "      <th>username</th>\n",
              "      <th>description</th>\n",
              "      <th>location</th>\n",
              "      <th>following</th>\n",
              "      <th>followers</th>\n",
              "      <th>totaltweets</th>\n",
              "      <th>retweetcount</th>\n",
              "      <th>text</th>\n",
              "      <th>hashtags</th>\n",
              "    </tr>\n",
              "  </thead>\n",
              "  <tbody>\n",
              "    <tr>\n",
              "      <th>0</th>\n",
              "      <td>PANGKAKISTOS</td>\n",
              "      <td>ΣΤΗΝ ΣΗΜΕΡΙΝΗ ΚΡΙΣΗ ΤΗΣ ΧΩΡΑΣ Η ΗΛΙΘΙΟΤΗΤΑ ΚΑΙ...</td>\n",
              "      <td>NaN</td>\n",
              "      <td>2451</td>\n",
              "      <td>2248</td>\n",
              "      <td>83222</td>\n",
              "      <td>1</td>\n",
              "      <td>HIGHWAY TO HELL...... #Covid_19 #COVID19 #Coro...</td>\n",
              "      <td>['coronavirus', 'CoronavirusOutbreak', 'Corona...</td>\n",
              "    </tr>\n",
              "    <tr>\n",
              "      <th>1</th>\n",
              "      <td>corona_scotnews</td>\n",
              "      <td>The latest #coronavirus #COVID19 news from @dc...</td>\n",
              "      <td>NaN</td>\n",
              "      <td>0</td>\n",
              "      <td>614</td>\n",
              "      <td>15420</td>\n",
              "      <td>0</td>\n",
              "      <td>Nearly half of north-east over-80s given first...</td>\n",
              "      <td>['coronavirus', 'covid19']</td>\n",
              "    </tr>\n",
              "    <tr>\n",
              "      <th>2</th>\n",
              "      <td>DailyNews_lk</td>\n",
              "      <td>Sri Lanka's premier daily newspaper, since 1918.</td>\n",
              "      <td>Lake House, Sri Lanka</td>\n",
              "      <td>80</td>\n",
              "      <td>6255</td>\n",
              "      <td>23093</td>\n",
              "      <td>0</td>\n",
              "      <td>353 COVID-19 positive cases reported\\n\\n#COVID...</td>\n",
              "      <td>['LakeHouseDigital', 'coronavirus', 'SriLanka'...</td>\n",
              "    </tr>\n",
              "    <tr>\n",
              "      <th>3</th>\n",
              "      <td>sadia_mufti</td>\n",
              "      <td>Fashion Designer/Stylist | Owner - Hangers The...</td>\n",
              "      <td>Kashmir</td>\n",
              "      <td>102</td>\n",
              "      <td>2559</td>\n",
              "      <td>1256</td>\n",
              "      <td>0</td>\n",
              "      <td>Seems Corona is in love with her 😂Shocking! Wo...</td>\n",
              "      <td>[]</td>\n",
              "    </tr>\n",
              "    <tr>\n",
              "      <th>4</th>\n",
              "      <td>Ociocentez</td>\n",
              "      <td>¡Que a todo el mundo le vaya bien!</td>\n",
              "      <td>NaN</td>\n",
              "      <td>1358</td>\n",
              "      <td>293</td>\n",
              "      <td>45421</td>\n",
              "      <td>9</td>\n",
              "      <td>This week, the WHO said the world is on the br...</td>\n",
              "      <td>['corona', 'coronavirus', 'pandemic', 'vaccine...</td>\n",
              "    </tr>\n",
              "  </tbody>\n",
              "</table>\n",
              "</div>"
            ],
            "text/plain": [
              "          username  ...                                           hashtags\n",
              "0     PANGKAKISTOS  ...  ['coronavirus', 'CoronavirusOutbreak', 'Corona...\n",
              "1  corona_scotnews  ...                         ['coronavirus', 'covid19']\n",
              "2     DailyNews_lk  ...  ['LakeHouseDigital', 'coronavirus', 'SriLanka'...\n",
              "3      sadia_mufti  ...                                                 []\n",
              "4       Ociocentez  ...  ['corona', 'coronavirus', 'pandemic', 'vaccine...\n",
              "\n",
              "[5 rows x 9 columns]"
            ]
          },
          "metadata": {
            "tags": []
          },
          "execution_count": 109
        }
      ]
    },
    {
      "cell_type": "code",
      "metadata": {
        "id": "Kb97_Oelfws3"
      },
      "source": [
        ""
      ],
      "execution_count": null,
      "outputs": []
    },
    {
      "cell_type": "code",
      "metadata": {
        "id": "Nmj3PtN-TjEu"
      },
      "source": [
        ""
      ],
      "execution_count": null,
      "outputs": []
    },
    {
      "cell_type": "code",
      "metadata": {
        "id": "XfFE7LRSTZAS"
      },
      "source": [
        ""
      ],
      "execution_count": null,
      "outputs": []
    },
    {
      "cell_type": "code",
      "metadata": {
        "id": "t09w0DBGS3yz"
      },
      "source": [
        ""
      ],
      "execution_count": null,
      "outputs": []
    },
    {
      "cell_type": "code",
      "metadata": {
        "id": "bIE3ALzGPyD_"
      },
      "source": [
        ""
      ],
      "execution_count": null,
      "outputs": []
    },
    {
      "cell_type": "code",
      "metadata": {
        "colab": {
          "base_uri": "https://localhost:8080/"
        },
        "id": "51G7txycOZt_",
        "outputId": "515f390b-4a11-4493-b493-0acb22829bb0"
      },
      "source": [
        "l[0].retweeted_status"
      ],
      "execution_count": null,
      "outputs": [
        {
          "output_type": "execute_result",
          "data": {
            "text/plain": [
              "Status(_api=<tweepy.api.API object at 0x7f6ccb00ae48>, _json={'created_at': 'Sat Jan 23 11:53:26 +0000 2021', 'id': 1352947547187326979, 'id_str': '1352947547187326979', 'full_text': \"Superintelligent AI May Be Impossible to Control; That's the Good News - IEEE Spectrum\\n\\nRead more here: https://t.co/m4nKi5OeA4\\n\\n#ArtificialIntelligence #AI #DataScience #MachineLearning #BigData #DeepLearning #NLP #Robots #IoT\", 'truncated': False, 'display_text_range': [0, 227], 'entities': {'hashtags': [{'text': 'ArtificialIntelligence', 'indices': [129, 152]}, {'text': 'AI', 'indices': [153, 156]}, {'text': 'DataScience', 'indices': [157, 169]}, {'text': 'MachineLearning', 'indices': [170, 186]}, {'text': 'BigData', 'indices': [187, 195]}, {'text': 'DeepLearning', 'indices': [196, 209]}, {'text': 'NLP', 'indices': [210, 214]}, {'text': 'Robots', 'indices': [215, 222]}, {'text': 'IoT', 'indices': [223, 227]}], 'symbols': [], 'user_mentions': [], 'urls': [{'url': 'https://t.co/m4nKi5OeA4', 'expanded_url': 'https://ift.tt/3bMbdAV', 'display_url': 'ift.tt/3bMbdAV', 'indices': [104, 127]}]}, 'metadata': {'iso_language_code': 'en', 'result_type': 'recent'}, 'source': '<a href=\"https://ifttt.com\" rel=\"nofollow\">IFTTT</a>', 'in_reply_to_status_id': None, 'in_reply_to_status_id_str': None, 'in_reply_to_user_id': None, 'in_reply_to_user_id_str': None, 'in_reply_to_screen_name': None, 'user': {'id': 467513287, 'id_str': '467513287', 'name': 'Iain Brown, PhD', 'screen_name': 'IainLJBrown', 'location': 'London', 'description': 'Head of #DataScience @SASSoftware | Adjunct Prof @UniSouthampton | Author | #DataScientist | Interests #AI #ML #DL #NLP #IoT #BigData | Opinions my own', 'url': 'https://t.co/wo8jxLIetd', 'entities': {'url': {'urls': [{'url': 'https://t.co/wo8jxLIetd', 'expanded_url': 'https://www.linkedin.com/in/iainljbrown/', 'display_url': 'linkedin.com/in/iainljbrown/', 'indices': [0, 23]}]}, 'description': {'urls': []}}, 'protected': False, 'followers_count': 115254, 'friends_count': 97782, 'listed_count': 411, 'created_at': 'Wed Jan 18 15:10:25 +0000 2012', 'favourites_count': 1652, 'utc_offset': None, 'time_zone': None, 'geo_enabled': False, 'verified': False, 'statuses_count': 47551, 'lang': None, 'contributors_enabled': False, 'is_translator': False, 'is_translation_enabled': False, 'profile_background_color': '000000', 'profile_background_image_url': 'http://abs.twimg.com/images/themes/theme1/bg.png', 'profile_background_image_url_https': 'https://abs.twimg.com/images/themes/theme1/bg.png', 'profile_background_tile': False, 'profile_image_url': 'http://pbs.twimg.com/profile_images/1352606177352364032/jQ7AI0vG_normal.jpg', 'profile_image_url_https': 'https://pbs.twimg.com/profile_images/1352606177352364032/jQ7AI0vG_normal.jpg', 'profile_banner_url': 'https://pbs.twimg.com/profile_banners/467513287/1611321703', 'profile_link_color': '3B7CBF', 'profile_sidebar_border_color': '000000', 'profile_sidebar_fill_color': '000000', 'profile_text_color': '000000', 'profile_use_background_image': False, 'has_extended_profile': True, 'default_profile': False, 'default_profile_image': False, 'following': False, 'follow_request_sent': False, 'notifications': False, 'translator_type': 'none'}, 'geo': None, 'coordinates': None, 'place': None, 'contributors': None, 'is_quote_status': False, 'retweet_count': 3, 'favorite_count': 1, 'favorited': False, 'retweeted': False, 'possibly_sensitive': False, 'lang': 'en'}, created_at=datetime.datetime(2021, 1, 23, 11, 53, 26), id=1352947547187326979, id_str='1352947547187326979', full_text=\"Superintelligent AI May Be Impossible to Control; That's the Good News - IEEE Spectrum\\n\\nRead more here: https://t.co/m4nKi5OeA4\\n\\n#ArtificialIntelligence #AI #DataScience #MachineLearning #BigData #DeepLearning #NLP #Robots #IoT\", truncated=False, display_text_range=[0, 227], entities={'hashtags': [{'text': 'ArtificialIntelligence', 'indices': [129, 152]}, {'text': 'AI', 'indices': [153, 156]}, {'text': 'DataScience', 'indices': [157, 169]}, {'text': 'MachineLearning', 'indices': [170, 186]}, {'text': 'BigData', 'indices': [187, 195]}, {'text': 'DeepLearning', 'indices': [196, 209]}, {'text': 'NLP', 'indices': [210, 214]}, {'text': 'Robots', 'indices': [215, 222]}, {'text': 'IoT', 'indices': [223, 227]}], 'symbols': [], 'user_mentions': [], 'urls': [{'url': 'https://t.co/m4nKi5OeA4', 'expanded_url': 'https://ift.tt/3bMbdAV', 'display_url': 'ift.tt/3bMbdAV', 'indices': [104, 127]}]}, metadata={'iso_language_code': 'en', 'result_type': 'recent'}, source='IFTTT', source_url='https://ifttt.com', in_reply_to_status_id=None, in_reply_to_status_id_str=None, in_reply_to_user_id=None, in_reply_to_user_id_str=None, in_reply_to_screen_name=None, author=User(_api=<tweepy.api.API object at 0x7f6ccb00ae48>, _json={'id': 467513287, 'id_str': '467513287', 'name': 'Iain Brown, PhD', 'screen_name': 'IainLJBrown', 'location': 'London', 'description': 'Head of #DataScience @SASSoftware | Adjunct Prof @UniSouthampton | Author | #DataScientist | Interests #AI #ML #DL #NLP #IoT #BigData | Opinions my own', 'url': 'https://t.co/wo8jxLIetd', 'entities': {'url': {'urls': [{'url': 'https://t.co/wo8jxLIetd', 'expanded_url': 'https://www.linkedin.com/in/iainljbrown/', 'display_url': 'linkedin.com/in/iainljbrown/', 'indices': [0, 23]}]}, 'description': {'urls': []}}, 'protected': False, 'followers_count': 115254, 'friends_count': 97782, 'listed_count': 411, 'created_at': 'Wed Jan 18 15:10:25 +0000 2012', 'favourites_count': 1652, 'utc_offset': None, 'time_zone': None, 'geo_enabled': False, 'verified': False, 'statuses_count': 47551, 'lang': None, 'contributors_enabled': False, 'is_translator': False, 'is_translation_enabled': False, 'profile_background_color': '000000', 'profile_background_image_url': 'http://abs.twimg.com/images/themes/theme1/bg.png', 'profile_background_image_url_https': 'https://abs.twimg.com/images/themes/theme1/bg.png', 'profile_background_tile': False, 'profile_image_url': 'http://pbs.twimg.com/profile_images/1352606177352364032/jQ7AI0vG_normal.jpg', 'profile_image_url_https': 'https://pbs.twimg.com/profile_images/1352606177352364032/jQ7AI0vG_normal.jpg', 'profile_banner_url': 'https://pbs.twimg.com/profile_banners/467513287/1611321703', 'profile_link_color': '3B7CBF', 'profile_sidebar_border_color': '000000', 'profile_sidebar_fill_color': '000000', 'profile_text_color': '000000', 'profile_use_background_image': False, 'has_extended_profile': True, 'default_profile': False, 'default_profile_image': False, 'following': False, 'follow_request_sent': False, 'notifications': False, 'translator_type': 'none'}, id=467513287, id_str='467513287', name='Iain Brown, PhD', screen_name='IainLJBrown', location='London', description='Head of #DataScience @SASSoftware | Adjunct Prof @UniSouthampton | Author | #DataScientist | Interests #AI #ML #DL #NLP #IoT #BigData | Opinions my own', url='https://t.co/wo8jxLIetd', entities={'url': {'urls': [{'url': 'https://t.co/wo8jxLIetd', 'expanded_url': 'https://www.linkedin.com/in/iainljbrown/', 'display_url': 'linkedin.com/in/iainljbrown/', 'indices': [0, 23]}]}, 'description': {'urls': []}}, protected=False, followers_count=115254, friends_count=97782, listed_count=411, created_at=datetime.datetime(2012, 1, 18, 15, 10, 25), favourites_count=1652, utc_offset=None, time_zone=None, geo_enabled=False, verified=False, statuses_count=47551, lang=None, contributors_enabled=False, is_translator=False, is_translation_enabled=False, profile_background_color='000000', profile_background_image_url='http://abs.twimg.com/images/themes/theme1/bg.png', profile_background_image_url_https='https://abs.twimg.com/images/themes/theme1/bg.png', profile_background_tile=False, profile_image_url='http://pbs.twimg.com/profile_images/1352606177352364032/jQ7AI0vG_normal.jpg', profile_image_url_https='https://pbs.twimg.com/profile_images/1352606177352364032/jQ7AI0vG_normal.jpg', profile_banner_url='https://pbs.twimg.com/profile_banners/467513287/1611321703', profile_link_color='3B7CBF', profile_sidebar_border_color='000000', profile_sidebar_fill_color='000000', profile_text_color='000000', profile_use_background_image=False, has_extended_profile=True, default_profile=False, default_profile_image=False, following=False, follow_request_sent=False, notifications=False, translator_type='none'), user=User(_api=<tweepy.api.API object at 0x7f6ccb00ae48>, _json={'id': 467513287, 'id_str': '467513287', 'name': 'Iain Brown, PhD', 'screen_name': 'IainLJBrown', 'location': 'London', 'description': 'Head of #DataScience @SASSoftware | Adjunct Prof @UniSouthampton | Author | #DataScientist | Interests #AI #ML #DL #NLP #IoT #BigData | Opinions my own', 'url': 'https://t.co/wo8jxLIetd', 'entities': {'url': {'urls': [{'url': 'https://t.co/wo8jxLIetd', 'expanded_url': 'https://www.linkedin.com/in/iainljbrown/', 'display_url': 'linkedin.com/in/iainljbrown/', 'indices': [0, 23]}]}, 'description': {'urls': []}}, 'protected': False, 'followers_count': 115254, 'friends_count': 97782, 'listed_count': 411, 'created_at': 'Wed Jan 18 15:10:25 +0000 2012', 'favourites_count': 1652, 'utc_offset': None, 'time_zone': None, 'geo_enabled': False, 'verified': False, 'statuses_count': 47551, 'lang': None, 'contributors_enabled': False, 'is_translator': False, 'is_translation_enabled': False, 'profile_background_color': '000000', 'profile_background_image_url': 'http://abs.twimg.com/images/themes/theme1/bg.png', 'profile_background_image_url_https': 'https://abs.twimg.com/images/themes/theme1/bg.png', 'profile_background_tile': False, 'profile_image_url': 'http://pbs.twimg.com/profile_images/1352606177352364032/jQ7AI0vG_normal.jpg', 'profile_image_url_https': 'https://pbs.twimg.com/profile_images/1352606177352364032/jQ7AI0vG_normal.jpg', 'profile_banner_url': 'https://pbs.twimg.com/profile_banners/467513287/1611321703', 'profile_link_color': '3B7CBF', 'profile_sidebar_border_color': '000000', 'profile_sidebar_fill_color': '000000', 'profile_text_color': '000000', 'profile_use_background_image': False, 'has_extended_profile': True, 'default_profile': False, 'default_profile_image': False, 'following': False, 'follow_request_sent': False, 'notifications': False, 'translator_type': 'none'}, id=467513287, id_str='467513287', name='Iain Brown, PhD', screen_name='IainLJBrown', location='London', description='Head of #DataScience @SASSoftware | Adjunct Prof @UniSouthampton | Author | #DataScientist | Interests #AI #ML #DL #NLP #IoT #BigData | Opinions my own', url='https://t.co/wo8jxLIetd', entities={'url': {'urls': [{'url': 'https://t.co/wo8jxLIetd', 'expanded_url': 'https://www.linkedin.com/in/iainljbrown/', 'display_url': 'linkedin.com/in/iainljbrown/', 'indices': [0, 23]}]}, 'description': {'urls': []}}, protected=False, followers_count=115254, friends_count=97782, listed_count=411, created_at=datetime.datetime(2012, 1, 18, 15, 10, 25), favourites_count=1652, utc_offset=None, time_zone=None, geo_enabled=False, verified=False, statuses_count=47551, lang=None, contributors_enabled=False, is_translator=False, is_translation_enabled=False, profile_background_color='000000', profile_background_image_url='http://abs.twimg.com/images/themes/theme1/bg.png', profile_background_image_url_https='https://abs.twimg.com/images/themes/theme1/bg.png', profile_background_tile=False, profile_image_url='http://pbs.twimg.com/profile_images/1352606177352364032/jQ7AI0vG_normal.jpg', profile_image_url_https='https://pbs.twimg.com/profile_images/1352606177352364032/jQ7AI0vG_normal.jpg', profile_banner_url='https://pbs.twimg.com/profile_banners/467513287/1611321703', profile_link_color='3B7CBF', profile_sidebar_border_color='000000', profile_sidebar_fill_color='000000', profile_text_color='000000', profile_use_background_image=False, has_extended_profile=True, default_profile=False, default_profile_image=False, following=False, follow_request_sent=False, notifications=False, translator_type='none'), geo=None, coordinates=None, place=None, contributors=None, is_quote_status=False, retweet_count=3, favorite_count=1, favorited=False, retweeted=False, possibly_sensitive=False, lang='en')"
            ]
          },
          "metadata": {
            "tags": []
          },
          "execution_count": 25
        }
      ]
    },
    {
      "cell_type": "code",
      "metadata": {
        "id": "qcjj2ozNQLe_"
      },
      "source": [
        ""
      ],
      "execution_count": null,
      "outputs": []
    },
    {
      "cell_type": "code",
      "metadata": {
        "id": "CccuEVQEPmkB"
      },
      "source": [
        ""
      ],
      "execution_count": null,
      "outputs": []
    },
    {
      "cell_type": "code",
      "metadata": {
        "id": "vpR-G2mEO2LO"
      },
      "source": [
        ""
      ],
      "execution_count": null,
      "outputs": []
    },
    {
      "cell_type": "code",
      "metadata": {
        "id": "7p0y9IKbOuYj"
      },
      "source": [
        ""
      ],
      "execution_count": null,
      "outputs": []
    },
    {
      "cell_type": "code",
      "metadata": {
        "id": "jXBG3Q2yNztN"
      },
      "source": [
        ""
      ],
      "execution_count": null,
      "outputs": []
    },
    {
      "cell_type": "code",
      "metadata": {
        "id": "TPmz4GENNvSc"
      },
      "source": [
        ""
      ],
      "execution_count": null,
      "outputs": []
    },
    {
      "cell_type": "code",
      "metadata": {
        "id": "xbuvR9LdNoOD"
      },
      "source": [
        ""
      ],
      "execution_count": null,
      "outputs": []
    },
    {
      "cell_type": "code",
      "metadata": {
        "id": "cRm1oLBJNgXh"
      },
      "source": [
        ""
      ],
      "execution_count": null,
      "outputs": []
    },
    {
      "cell_type": "code",
      "metadata": {
        "id": "7BHcwBJJNZAK"
      },
      "source": [
        ""
      ],
      "execution_count": null,
      "outputs": []
    }
  ]
}