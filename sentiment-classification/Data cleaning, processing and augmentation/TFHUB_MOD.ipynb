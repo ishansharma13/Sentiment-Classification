{
  "nbformat": 4,
  "nbformat_minor": 0,
  "metadata": {
    "colab": {
      "name": "TFHUB_MOD.ipynb",
      "provenance": [],
      "collapsed_sections": [],
      "machine_shape": "hm"
    },
    "kernelspec": {
      "name": "python3",
      "display_name": "Python 3"
    },
    "language_info": {
      "name": "python"
    },
    "accelerator": "TPU",
    "widgets": {
      "application/vnd.jupyter.widget-state+json": {
        "bc5e6b5812194a9aa7b7c2f1fd7be137": {
          "model_module": "@jupyter-widgets/controls",
          "model_name": "HBoxModel",
          "model_module_version": "1.5.0",
          "state": {
            "_view_name": "HBoxView",
            "_dom_classes": [],
            "_model_name": "HBoxModel",
            "_view_module": "@jupyter-widgets/controls",
            "_model_module_version": "1.5.0",
            "_view_count": null,
            "_view_module_version": "1.5.0",
            "box_style": "",
            "layout": "IPY_MODEL_6b924b073f89494bb82cc0d9f62b9d0b",
            "_model_module": "@jupyter-widgets/controls",
            "children": [
              "IPY_MODEL_46a742119c114c248ba4553f8325a06b",
              "IPY_MODEL_b3220002b3cd4046b7794f2de48e4fab"
            ]
          }
        },
        "6b924b073f89494bb82cc0d9f62b9d0b": {
          "model_module": "@jupyter-widgets/base",
          "model_name": "LayoutModel",
          "model_module_version": "1.2.0",
          "state": {
            "_view_name": "LayoutView",
            "grid_template_rows": null,
            "right": null,
            "justify_content": null,
            "_view_module": "@jupyter-widgets/base",
            "overflow": null,
            "_model_module_version": "1.2.0",
            "_view_count": null,
            "flex_flow": null,
            "width": null,
            "min_width": null,
            "border": null,
            "align_items": null,
            "bottom": null,
            "_model_module": "@jupyter-widgets/base",
            "top": null,
            "grid_column": null,
            "overflow_y": null,
            "overflow_x": null,
            "grid_auto_flow": null,
            "grid_area": null,
            "grid_template_columns": null,
            "flex": null,
            "_model_name": "LayoutModel",
            "justify_items": null,
            "grid_row": null,
            "max_height": null,
            "align_content": null,
            "visibility": null,
            "align_self": null,
            "height": null,
            "min_height": null,
            "padding": null,
            "grid_auto_rows": null,
            "grid_gap": null,
            "max_width": null,
            "order": null,
            "_view_module_version": "1.2.0",
            "grid_template_areas": null,
            "object_position": null,
            "object_fit": null,
            "grid_auto_columns": null,
            "margin": null,
            "display": null,
            "left": null
          }
        },
        "46a742119c114c248ba4553f8325a06b": {
          "model_module": "@jupyter-widgets/controls",
          "model_name": "FloatProgressModel",
          "model_module_version": "1.5.0",
          "state": {
            "_view_name": "ProgressView",
            "style": "IPY_MODEL_82246210fdcf4f4e9f9bb515bb1b9600",
            "_dom_classes": [],
            "description": "Downloading: 100%",
            "_model_name": "FloatProgressModel",
            "bar_style": "success",
            "max": 231508,
            "_view_module": "@jupyter-widgets/controls",
            "_model_module_version": "1.5.0",
            "value": 231508,
            "_view_count": null,
            "_view_module_version": "1.5.0",
            "orientation": "horizontal",
            "min": 0,
            "description_tooltip": null,
            "_model_module": "@jupyter-widgets/controls",
            "layout": "IPY_MODEL_46b6f08ef4844fb1ac660812128970dd"
          }
        },
        "b3220002b3cd4046b7794f2de48e4fab": {
          "model_module": "@jupyter-widgets/controls",
          "model_name": "HTMLModel",
          "model_module_version": "1.5.0",
          "state": {
            "_view_name": "HTMLView",
            "style": "IPY_MODEL_be95b5e59722439b996f214342b4cd06",
            "_dom_classes": [],
            "description": "",
            "_model_name": "HTMLModel",
            "placeholder": "​",
            "_view_module": "@jupyter-widgets/controls",
            "_model_module_version": "1.5.0",
            "value": " 232k/232k [00:00&lt;00:00, 1.48MB/s]",
            "_view_count": null,
            "_view_module_version": "1.5.0",
            "description_tooltip": null,
            "_model_module": "@jupyter-widgets/controls",
            "layout": "IPY_MODEL_b070f344e4f14abca03a2f376ee60c90"
          }
        },
        "82246210fdcf4f4e9f9bb515bb1b9600": {
          "model_module": "@jupyter-widgets/controls",
          "model_name": "ProgressStyleModel",
          "model_module_version": "1.5.0",
          "state": {
            "_view_name": "StyleView",
            "_model_name": "ProgressStyleModel",
            "description_width": "initial",
            "_view_module": "@jupyter-widgets/base",
            "_model_module_version": "1.5.0",
            "_view_count": null,
            "_view_module_version": "1.2.0",
            "bar_color": null,
            "_model_module": "@jupyter-widgets/controls"
          }
        },
        "46b6f08ef4844fb1ac660812128970dd": {
          "model_module": "@jupyter-widgets/base",
          "model_name": "LayoutModel",
          "model_module_version": "1.2.0",
          "state": {
            "_view_name": "LayoutView",
            "grid_template_rows": null,
            "right": null,
            "justify_content": null,
            "_view_module": "@jupyter-widgets/base",
            "overflow": null,
            "_model_module_version": "1.2.0",
            "_view_count": null,
            "flex_flow": null,
            "width": null,
            "min_width": null,
            "border": null,
            "align_items": null,
            "bottom": null,
            "_model_module": "@jupyter-widgets/base",
            "top": null,
            "grid_column": null,
            "overflow_y": null,
            "overflow_x": null,
            "grid_auto_flow": null,
            "grid_area": null,
            "grid_template_columns": null,
            "flex": null,
            "_model_name": "LayoutModel",
            "justify_items": null,
            "grid_row": null,
            "max_height": null,
            "align_content": null,
            "visibility": null,
            "align_self": null,
            "height": null,
            "min_height": null,
            "padding": null,
            "grid_auto_rows": null,
            "grid_gap": null,
            "max_width": null,
            "order": null,
            "_view_module_version": "1.2.0",
            "grid_template_areas": null,
            "object_position": null,
            "object_fit": null,
            "grid_auto_columns": null,
            "margin": null,
            "display": null,
            "left": null
          }
        },
        "be95b5e59722439b996f214342b4cd06": {
          "model_module": "@jupyter-widgets/controls",
          "model_name": "DescriptionStyleModel",
          "model_module_version": "1.5.0",
          "state": {
            "_view_name": "StyleView",
            "_model_name": "DescriptionStyleModel",
            "description_width": "",
            "_view_module": "@jupyter-widgets/base",
            "_model_module_version": "1.5.0",
            "_view_count": null,
            "_view_module_version": "1.2.0",
            "_model_module": "@jupyter-widgets/controls"
          }
        },
        "b070f344e4f14abca03a2f376ee60c90": {
          "model_module": "@jupyter-widgets/base",
          "model_name": "LayoutModel",
          "model_module_version": "1.2.0",
          "state": {
            "_view_name": "LayoutView",
            "grid_template_rows": null,
            "right": null,
            "justify_content": null,
            "_view_module": "@jupyter-widgets/base",
            "overflow": null,
            "_model_module_version": "1.2.0",
            "_view_count": null,
            "flex_flow": null,
            "width": null,
            "min_width": null,
            "border": null,
            "align_items": null,
            "bottom": null,
            "_model_module": "@jupyter-widgets/base",
            "top": null,
            "grid_column": null,
            "overflow_y": null,
            "overflow_x": null,
            "grid_auto_flow": null,
            "grid_area": null,
            "grid_template_columns": null,
            "flex": null,
            "_model_name": "LayoutModel",
            "justify_items": null,
            "grid_row": null,
            "max_height": null,
            "align_content": null,
            "visibility": null,
            "align_self": null,
            "height": null,
            "min_height": null,
            "padding": null,
            "grid_auto_rows": null,
            "grid_gap": null,
            "max_width": null,
            "order": null,
            "_view_module_version": "1.2.0",
            "grid_template_areas": null,
            "object_position": null,
            "object_fit": null,
            "grid_auto_columns": null,
            "margin": null,
            "display": null,
            "left": null
          }
        }
      }
    }
  },
  "cells": [
    {
      "cell_type": "code",
      "metadata": {
        "id": "UGmR4IZBxuMh"
      },
      "source": [
        "%tensorflow_version 2.x"
      ],
      "execution_count": null,
      "outputs": []
    },
    {
      "cell_type": "code",
      "metadata": {
        "id": "fifHH_SUxwPj",
        "colab": {
          "base_uri": "https://localhost:8080/"
        },
        "outputId": "4f763f3d-671c-43bd-c2e5-5b57eb829ffb"
      },
      "source": [
        "!pip install tensorflow"
      ],
      "execution_count": null,
      "outputs": [
        {
          "output_type": "stream",
          "text": [
            "Requirement already satisfied: tensorflow in /usr/local/lib/python3.7/dist-packages (2.4.1)\n",
            "Requirement already satisfied: absl-py~=0.10 in /usr/local/lib/python3.7/dist-packages (from tensorflow) (0.12.0)\n",
            "Requirement already satisfied: termcolor~=1.1.0 in /usr/local/lib/python3.7/dist-packages (from tensorflow) (1.1.0)\n",
            "Requirement already satisfied: tensorboard~=2.4 in /usr/local/lib/python3.7/dist-packages (from tensorflow) (2.4.1)\n",
            "Requirement already satisfied: wrapt~=1.12.1 in /usr/local/lib/python3.7/dist-packages (from tensorflow) (1.12.1)\n",
            "Requirement already satisfied: opt-einsum~=3.3.0 in /usr/local/lib/python3.7/dist-packages (from tensorflow) (3.3.0)\n",
            "Requirement already satisfied: typing-extensions~=3.7.4 in /usr/local/lib/python3.7/dist-packages (from tensorflow) (3.7.4.3)\n",
            "Requirement already satisfied: wheel~=0.35 in /usr/local/lib/python3.7/dist-packages (from tensorflow) (0.36.2)\n",
            "Requirement already satisfied: tensorflow-estimator<2.5.0,>=2.4.0 in /usr/local/lib/python3.7/dist-packages (from tensorflow) (2.4.0)\n",
            "Requirement already satisfied: google-pasta~=0.2 in /usr/local/lib/python3.7/dist-packages (from tensorflow) (0.2.0)\n",
            "Requirement already satisfied: h5py~=2.10.0 in /usr/local/lib/python3.7/dist-packages (from tensorflow) (2.10.0)\n",
            "Requirement already satisfied: flatbuffers~=1.12.0 in /usr/local/lib/python3.7/dist-packages (from tensorflow) (1.12)\n",
            "Requirement already satisfied: keras-preprocessing~=1.1.2 in /usr/local/lib/python3.7/dist-packages (from tensorflow) (1.1.2)\n",
            "Requirement already satisfied: gast==0.3.3 in /usr/local/lib/python3.7/dist-packages (from tensorflow) (0.3.3)\n",
            "Requirement already satisfied: numpy~=1.19.2 in /usr/local/lib/python3.7/dist-packages (from tensorflow) (1.19.5)\n",
            "Requirement already satisfied: astunparse~=1.6.3 in /usr/local/lib/python3.7/dist-packages (from tensorflow) (1.6.3)\n",
            "Requirement already satisfied: protobuf>=3.9.2 in /usr/local/lib/python3.7/dist-packages (from tensorflow) (3.12.4)\n",
            "Requirement already satisfied: grpcio~=1.32.0 in /usr/local/lib/python3.7/dist-packages (from tensorflow) (1.32.0)\n",
            "Requirement already satisfied: six~=1.15.0 in /usr/local/lib/python3.7/dist-packages (from tensorflow) (1.15.0)\n",
            "Requirement already satisfied: werkzeug>=0.11.15 in /usr/local/lib/python3.7/dist-packages (from tensorboard~=2.4->tensorflow) (1.0.1)\n",
            "Requirement already satisfied: requests<3,>=2.21.0 in /usr/local/lib/python3.7/dist-packages (from tensorboard~=2.4->tensorflow) (2.23.0)\n",
            "Requirement already satisfied: google-auth<2,>=1.6.3 in /usr/local/lib/python3.7/dist-packages (from tensorboard~=2.4->tensorflow) (1.28.1)\n",
            "Requirement already satisfied: setuptools>=41.0.0 in /usr/local/lib/python3.7/dist-packages (from tensorboard~=2.4->tensorflow) (56.0.0)\n",
            "Requirement already satisfied: markdown>=2.6.8 in /usr/local/lib/python3.7/dist-packages (from tensorboard~=2.4->tensorflow) (3.3.4)\n",
            "Requirement already satisfied: tensorboard-plugin-wit>=1.6.0 in /usr/local/lib/python3.7/dist-packages (from tensorboard~=2.4->tensorflow) (1.8.0)\n",
            "Requirement already satisfied: google-auth-oauthlib<0.5,>=0.4.1 in /usr/local/lib/python3.7/dist-packages (from tensorboard~=2.4->tensorflow) (0.4.4)\n",
            "Requirement already satisfied: urllib3!=1.25.0,!=1.25.1,<1.26,>=1.21.1 in /usr/local/lib/python3.7/dist-packages (from requests<3,>=2.21.0->tensorboard~=2.4->tensorflow) (1.24.3)\n",
            "Requirement already satisfied: certifi>=2017.4.17 in /usr/local/lib/python3.7/dist-packages (from requests<3,>=2.21.0->tensorboard~=2.4->tensorflow) (2020.12.5)\n",
            "Requirement already satisfied: chardet<4,>=3.0.2 in /usr/local/lib/python3.7/dist-packages (from requests<3,>=2.21.0->tensorboard~=2.4->tensorflow) (3.0.4)\n",
            "Requirement already satisfied: idna<3,>=2.5 in /usr/local/lib/python3.7/dist-packages (from requests<3,>=2.21.0->tensorboard~=2.4->tensorflow) (2.10)\n",
            "Requirement already satisfied: cachetools<5.0,>=2.0.0 in /usr/local/lib/python3.7/dist-packages (from google-auth<2,>=1.6.3->tensorboard~=2.4->tensorflow) (4.2.1)\n",
            "Requirement already satisfied: pyasn1-modules>=0.2.1 in /usr/local/lib/python3.7/dist-packages (from google-auth<2,>=1.6.3->tensorboard~=2.4->tensorflow) (0.2.8)\n",
            "Requirement already satisfied: rsa<5,>=3.1.4; python_version >= \"3.6\" in /usr/local/lib/python3.7/dist-packages (from google-auth<2,>=1.6.3->tensorboard~=2.4->tensorflow) (4.7.2)\n",
            "Requirement already satisfied: importlib-metadata; python_version < \"3.8\" in /usr/local/lib/python3.7/dist-packages (from markdown>=2.6.8->tensorboard~=2.4->tensorflow) (3.10.1)\n",
            "Requirement already satisfied: requests-oauthlib>=0.7.0 in /usr/local/lib/python3.7/dist-packages (from google-auth-oauthlib<0.5,>=0.4.1->tensorboard~=2.4->tensorflow) (1.3.0)\n",
            "Requirement already satisfied: pyasn1<0.5.0,>=0.4.6 in /usr/local/lib/python3.7/dist-packages (from pyasn1-modules>=0.2.1->google-auth<2,>=1.6.3->tensorboard~=2.4->tensorflow) (0.4.8)\n",
            "Requirement already satisfied: zipp>=0.5 in /usr/local/lib/python3.7/dist-packages (from importlib-metadata; python_version < \"3.8\"->markdown>=2.6.8->tensorboard~=2.4->tensorflow) (3.4.1)\n",
            "Requirement already satisfied: oauthlib>=3.0.0 in /usr/local/lib/python3.7/dist-packages (from requests-oauthlib>=0.7.0->google-auth-oauthlib<0.5,>=0.4.1->tensorboard~=2.4->tensorflow) (3.1.0)\n"
          ],
          "name": "stdout"
        }
      ]
    },
    {
      "cell_type": "code",
      "metadata": {
        "id": "qHqTDDUb2NQ0",
        "colab": {
          "base_uri": "https://localhost:8080/"
        },
        "outputId": "46bd2095-dc47-4651-b1f4-1e3c9ce057ef"
      },
      "source": [
        "!pip install transformers==3.0.2"
      ],
      "execution_count": null,
      "outputs": [
        {
          "output_type": "stream",
          "text": [
            "Collecting transformers==3.0.2\n",
            "\u001b[?25l  Downloading https://files.pythonhosted.org/packages/27/3c/91ed8f5c4e7ef3227b4119200fc0ed4b4fd965b1f0172021c25701087825/transformers-3.0.2-py3-none-any.whl (769kB)\n",
            "\u001b[K     |████████████████████████████████| 778kB 6.5MB/s \n",
            "\u001b[?25hRequirement already satisfied: numpy in /usr/local/lib/python3.7/dist-packages (from transformers==3.0.2) (1.19.5)\n",
            "Requirement already satisfied: regex!=2019.12.17 in /usr/local/lib/python3.7/dist-packages (from transformers==3.0.2) (2019.12.20)\n",
            "Requirement already satisfied: requests in /usr/local/lib/python3.7/dist-packages (from transformers==3.0.2) (2.23.0)\n",
            "Collecting tokenizers==0.8.1.rc1\n",
            "\u001b[?25l  Downloading https://files.pythonhosted.org/packages/02/59/68c7e3833f535615fb97d33ffcb7b30bbf62bc7477a9c59cd19ad8535d72/tokenizers-0.8.1rc1-cp37-cp37m-manylinux1_x86_64.whl (3.0MB)\n",
            "\u001b[K     |████████████████████████████████| 3.0MB 11.0MB/s \n",
            "\u001b[?25hCollecting sacremoses\n",
            "\u001b[?25l  Downloading https://files.pythonhosted.org/packages/75/ee/67241dc87f266093c533a2d4d3d69438e57d7a90abb216fa076e7d475d4a/sacremoses-0.0.45-py3-none-any.whl (895kB)\n",
            "\u001b[K     |████████████████████████████████| 901kB 47.9MB/s \n",
            "\u001b[?25hCollecting sentencepiece!=0.1.92\n",
            "\u001b[?25l  Downloading https://files.pythonhosted.org/packages/f5/99/e0808cb947ba10f575839c43e8fafc9cc44e4a7a2c8f79c60db48220a577/sentencepiece-0.1.95-cp37-cp37m-manylinux2014_x86_64.whl (1.2MB)\n",
            "\u001b[K     |████████████████████████████████| 1.2MB 49.0MB/s \n",
            "\u001b[?25hRequirement already satisfied: packaging in /usr/local/lib/python3.7/dist-packages (from transformers==3.0.2) (20.9)\n",
            "Requirement already satisfied: tqdm>=4.27 in /usr/local/lib/python3.7/dist-packages (from transformers==3.0.2) (4.41.1)\n",
            "Requirement already satisfied: filelock in /usr/local/lib/python3.7/dist-packages (from transformers==3.0.2) (3.0.12)\n",
            "Requirement already satisfied: chardet<4,>=3.0.2 in /usr/local/lib/python3.7/dist-packages (from requests->transformers==3.0.2) (3.0.4)\n",
            "Requirement already satisfied: certifi>=2017.4.17 in /usr/local/lib/python3.7/dist-packages (from requests->transformers==3.0.2) (2020.12.5)\n",
            "Requirement already satisfied: idna<3,>=2.5 in /usr/local/lib/python3.7/dist-packages (from requests->transformers==3.0.2) (2.10)\n",
            "Requirement already satisfied: urllib3!=1.25.0,!=1.25.1,<1.26,>=1.21.1 in /usr/local/lib/python3.7/dist-packages (from requests->transformers==3.0.2) (1.24.3)\n",
            "Requirement already satisfied: click in /usr/local/lib/python3.7/dist-packages (from sacremoses->transformers==3.0.2) (7.1.2)\n",
            "Requirement already satisfied: joblib in /usr/local/lib/python3.7/dist-packages (from sacremoses->transformers==3.0.2) (1.0.1)\n",
            "Requirement already satisfied: six in /usr/local/lib/python3.7/dist-packages (from sacremoses->transformers==3.0.2) (1.15.0)\n",
            "Requirement already satisfied: pyparsing>=2.0.2 in /usr/local/lib/python3.7/dist-packages (from packaging->transformers==3.0.2) (2.4.7)\n",
            "Installing collected packages: tokenizers, sacremoses, sentencepiece, transformers\n",
            "Successfully installed sacremoses-0.0.45 sentencepiece-0.1.95 tokenizers-0.8.1rc1 transformers-3.0.2\n"
          ],
          "name": "stdout"
        }
      ]
    },
    {
      "cell_type": "code",
      "metadata": {
        "id": "aRwxo-MUOn6w"
      },
      "source": [
        "import logging\n",
        "logging.getLogger(\"pytorch_pretrained_bert.tokenization\").setLevel(logging.ERROR)"
      ],
      "execution_count": null,
      "outputs": []
    },
    {
      "cell_type": "code",
      "metadata": {
        "id": "paDWZojg2o36",
        "colab": {
          "base_uri": "https://localhost:8080/"
        },
        "outputId": "4b755f4c-5e98-4f52-b20e-817d9b01cc89"
      },
      "source": [
        "from google.colab import drive\n",
        "drive.mount('/content/drive')"
      ],
      "execution_count": null,
      "outputs": [
        {
          "output_type": "stream",
          "text": [
            "Mounted at /content/drive\n"
          ],
          "name": "stdout"
        }
      ]
    },
    {
      "cell_type": "code",
      "metadata": {
        "id": "gOZuqkYW4YS2"
      },
      "source": [
        "import numpy as np\n",
        "import pandas as pd\n",
        "df = pd.read_csv('/content/drive/MyDrive/sentiment data/tr_sen_fin.csv')"
      ],
      "execution_count": null,
      "outputs": []
    },
    {
      "cell_type": "code",
      "metadata": {
        "id": "GnTAfs6z4qwn"
      },
      "source": [
        "ls = [len(i.split()) for i in list(df.text.values)]"
      ],
      "execution_count": null,
      "outputs": []
    },
    {
      "cell_type": "code",
      "metadata": {
        "id": "IG04EmhD41TG",
        "colab": {
          "base_uri": "https://localhost:8080/",
          "height": 282
        },
        "outputId": "c0000460-862a-4193-b493-8b9d380284ab"
      },
      "source": [
        "pd.Series(ls).hist(bins=30)"
      ],
      "execution_count": null,
      "outputs": [
        {
          "output_type": "execute_result",
          "data": {
            "text/plain": [
              "<matplotlib.axes._subplots.AxesSubplot at 0x7f7710ed59d0>"
            ]
          },
          "metadata": {
            "tags": []
          },
          "execution_count": 8
        },
        {
          "output_type": "display_data",
          "data": {
            "image/png": "[encoded data removed]",
            "text/plain": [
              "<Figure size 432x288 with 1 Axes>"
            ]
          },
          "metadata": {
            "tags": [],
            "needs_background": "light"
          }
        }
      ]
    },
    {
      "cell_type": "code",
      "metadata": {
        "id": "4YnKX6mA5iKS"
      },
      "source": [
        "max_seq_len = 35"
      ],
      "execution_count": null,
      "outputs": []
    },
    {
      "cell_type": "code",
      "metadata": {
        "id": "B1D1mOFw5pjl",
        "colab": {
          "base_uri": "https://localhost:8080/",
          "height": 66,
          "referenced_widgets": [
            "bc5e6b5812194a9aa7b7c2f1fd7be137",
            "6b924b073f89494bb82cc0d9f62b9d0b",
            "46a742119c114c248ba4553f8325a06b",
            "b3220002b3cd4046b7794f2de48e4fab",
            "82246210fdcf4f4e9f9bb515bb1b9600",
            "46b6f08ef4844fb1ac660812128970dd",
            "be95b5e59722439b996f214342b4cd06",
            "b070f344e4f14abca03a2f376ee60c90"
          ]
        },
        "outputId": "b6a9eb28-0293-461d-a7d3-74d1d724b662"
      },
      "source": [
        "from transformers import BertTokenizer\n",
        "bert_name = 'bert-base-uncased'\n",
        "tokenizer = BertTokenizer.from_pretrained(bert_name,add_special_tokens = True,max_length = max_seq_len,pad_to_max_length=True)"
      ],
      "execution_count": null,
      "outputs": [
        {
          "output_type": "display_data",
          "data": {
            "application/vnd.jupyter.widget-view+json": {
              "model_id": "bc5e6b5812194a9aa7b7c2f1fd7be137",
              "version_minor": 0,
              "version_major": 2
            },
            "text/plain": [
              "HBox(children=(FloatProgress(value=0.0, description='Downloading', max=231508.0, style=ProgressStyle(descripti…"
            ]
          },
          "metadata": {
            "tags": []
          }
        },
        {
          "output_type": "stream",
          "text": [
            "\n"
          ],
          "name": "stdout"
        }
      ]
    },
    {
      "cell_type": "code",
      "metadata": {
        "id": "BbblbziQ6qcJ"
      },
      "source": [
        "def bert_encoder(x):\n",
        "  encoded = tokenizer.encode_plus(x,add_special_tokens=True,max_length=max_seq_len,pad_to_max_length=True,truncation=True,return_attention_mask=True,return_tensors='np')\n",
        "  return encoded['input_ids'],encoded['attention_mask']"
      ],
      "execution_count": null,
      "outputs": []
    },
    {
      "cell_type": "code",
      "metadata": {
        "id": "n62aQ0wi8Vuk"
      },
      "source": [
        "y = bert_encoder(df['text'][0])"
      ],
      "execution_count": null,
      "outputs": []
    },
    {
      "cell_type": "code",
      "metadata": {
        "id": "USweu4E0Ly9W"
      },
      "source": [
        "df['encoded'] = df['text'].apply(bert_encoder)"
      ],
      "execution_count": null,
      "outputs": []
    },
    {
      "cell_type": "code",
      "metadata": {
        "id": "7vuNnDY-8vxi"
      },
      "source": [
        "dfs_tr = [df[df['kfold']!=f].reset_index(drop=True) for f in range(0,5)]\n",
        "dfs_ts = [df[df['kfold']==f].reset_index(drop=True) for f in range(0,5)]"
      ],
      "execution_count": null,
      "outputs": []
    },
    {
      "cell_type": "code",
      "metadata": {
        "id": "PvnHHmLJMCH6"
      },
      "source": [
        "z = dfs_tr[0]['encoded']"
      ],
      "execution_count": null,
      "outputs": []
    },
    {
      "cell_type": "code",
      "metadata": {
        "id": "Izs33jb-MnPr"
      },
      "source": [
        "k = list(z)"
      ],
      "execution_count": null,
      "outputs": []
    },
    {
      "cell_type": "code",
      "metadata": {
        "id": "QRl4Ce5nOREs"
      },
      "source": [
        "x_tr = np.array(k)"
      ],
      "execution_count": null,
      "outputs": []
    },
    {
      "cell_type": "code",
      "metadata": {
        "id": "3-O7_LntfNe5"
      },
      "source": [
        "x_tr_inp_ids,x_tr_att_mks = np.split(x_tr,2,axis = 1)"
      ],
      "execution_count": null,
      "outputs": []
    },
    {
      "cell_type": "code",
      "metadata": {
        "colab": {
          "base_uri": "https://localhost:8080/"
        },
        "id": "FNyMemO7fU0o",
        "outputId": "13ae7117-54c3-4c51-fa68-62a39ed9d6ae"
      },
      "source": [
        "print(x_tr_inp_ids.shape,x_tr_att_mks.shape)"
      ],
      "execution_count": null,
      "outputs": [
        {
          "output_type": "stream",
          "text": [
            "(552000, 1, 1, 35) (552000, 1, 1, 35)\n"
          ],
          "name": "stdout"
        }
      ]
    },
    {
      "cell_type": "code",
      "metadata": {
        "id": "Hs_5LeV4BJv1"
      },
      "source": [
        "import tensorflow as tf\n",
        "bert_tr =[bert_encoder(x) for x in list(df_tr.text.values)]\n",
        "bert_ts =[bert_encoder(x) for x in list(dfs_ts[0].text.values)]"
      ],
      "execution_count": null,
      "outputs": []
    },
    {
      "cell_type": "code",
      "metadata": {
        "id": "ktwncOo1CcwF",
        "colab": {
          "base_uri": "https://localhost:8080/"
        },
        "outputId": "b7ee71d9-1b71-498e-bd9e-c9f70059fd9d"
      },
      "source": [
        "from sklearn.preprocessing import LabelEncoder\n",
        "from keras.utils import np_utils\n",
        "import tensorflow as tf\n",
        "tr_fold_set = []\n",
        "ts_fold_set = []\n",
        "for i in range(len(dfs_tr)):\n",
        "  encoder = LabelEncoder()\n",
        "  bert_tr_lb = np_utils.to_categorical(encoder.fit_transform(dfs_tr[i].label.values))\n",
        "  bert_ts_lb = np_utils.to_categorical(encoder.fit_transform(dfs_ts[i].label.values))\n",
        "  tr = list(dfs_tr[i]['encoded'])\n",
        "  ts = list(dfs_ts[i]['encoded'])\n",
        "  x_tr = np.array(tr)\n",
        "  x_ts = np.array(ts)\n",
        "  x_tr_inp_ids,x_tr_att_mks = np.split(x_tr,2,axis = 1)\n",
        "  x_ts_inp_ids,x_ts_att_mks = np.split(x_ts,2,axis = 1)\n",
        "  x_tr_inp_ids = x_tr_inp_ids.squeeze()\n",
        "  x_tr_att_mks = x_tr_att_mks.squeeze()\n",
        "  x_ts_inp_ids = x_ts_inp_ids.squeeze()\n",
        "  x_ts_att_mks = x_ts_att_mks.squeeze()\n",
        "  print(x_tr_inp_ids.shape,x_tr_att_mks.shape)\n",
        "  print(x_ts_inp_ids.shape,x_ts_att_mks.shape)\n",
        "  # x_tr_fin=[tf.convert_to_tensor(x_tr_inp_ids,dtype=tf.int64),tf.convert_to_tensor(x_tr_att_mks,dtype=tf.int64)]\n",
        "  # y_tr_fin=tf.convert_to_tensor(bert_tr_lb,np.float32)\n",
        "  # x_ts_fin =[tf.convert_to_tensor(x_ts_inp_ids,dtype=tf.int64),tf.convert_to_tensor(x_ts_att_mks,dtype=tf.int64)]\n",
        "  # y_ts_fin = tf.convert_to_tensor(bert_ts_lb,np.float32)\n",
        "  # tr_fold_set.append((x_tr_fin,y_tr_fin))\n",
        "  # ts_fold_set.append((x_ts_fin,y_ts_fin))\n"
      ],
      "execution_count": null,
      "outputs": [
        {
          "output_type": "stream",
          "text": [
            "(552000, 35) (552000, 35)\n",
            "(138000, 35) (138000, 35)\n",
            "(552000, 35) (552000, 35)\n",
            "(138000, 35) (138000, 35)\n",
            "(552000, 35) (552000, 35)\n",
            "(138000, 35) (138000, 35)\n",
            "(552000, 35) (552000, 35)\n",
            "(138000, 35) (138000, 35)\n",
            "(552000, 35) (552000, 35)\n",
            "(138000, 35) (138000, 35)\n"
          ],
          "name": "stdout"
        }
      ]
    },
    {
      "cell_type": "code",
      "metadata": {
        "id": "LrfGpSqNAiby",
        "colab": {
          "base_uri": "https://localhost:8080/"
        },
        "outputId": "c5ee65a6-34e1-4290-dcde-a6d3aa47d474"
      },
      "source": [
        "tr_fold_set[0]"
      ],
      "execution_count": null,
      "outputs": [
        {
          "output_type": "execute_result",
          "data": {
            "text/plain": [
              "([<tf.Tensor: shape=(552000, 1, 1, 35), dtype=int64, numpy=\n",
              "  array([[[[  101, 22091,  2053, ...,     0,     0,     0]]],\n",
              "  \n",
              "  \n",
              "         [[[  101,  2044,  2048, ...,     0,     0,     0]]],\n",
              "  \n",
              "  \n",
              "         [[[  101,  1045,  5223, ...,     0,     0,     0]]],\n",
              "  \n",
              "  \n",
              "         ...,\n",
              "  \n",
              "  \n",
              "         [[[  101,  1030,  8226, ...,     0,     0,     0]]],\n",
              "  \n",
              "  \n",
              "         [[[  101,  9724,  3871, ...,     0,     0,     0]]],\n",
              "  \n",
              "  \n",
              "         [[[  101,  2821,  1037, ...,     0,     0,     0]]]])>,\n",
              "  <tf.Tensor: shape=(552000, 1, 1, 35), dtype=int64, numpy=\n",
              "  array([[[[1, 1, 1, ..., 0, 0, 0]]],\n",
              "  \n",
              "  \n",
              "         [[[1, 1, 1, ..., 0, 0, 0]]],\n",
              "  \n",
              "  \n",
              "         [[[1, 1, 1, ..., 0, 0, 0]]],\n",
              "  \n",
              "  \n",
              "         ...,\n",
              "  \n",
              "  \n",
              "         [[[1, 1, 1, ..., 0, 0, 0]]],\n",
              "  \n",
              "  \n",
              "         [[[1, 1, 1, ..., 0, 0, 0]]],\n",
              "  \n",
              "  \n",
              "         [[[1, 1, 1, ..., 0, 0, 0]]]])>],\n",
              " <tf.Tensor: shape=(552000, 5), dtype=float32, numpy=\n",
              " array([[0., 0., 0., 1., 0.],\n",
              "        [0., 0., 0., 1., 0.],\n",
              "        [0., 0., 0., 1., 0.],\n",
              "        ...,\n",
              "        [0., 0., 0., 0., 1.],\n",
              "        [0., 0., 0., 0., 1.],\n",
              "        [0., 0., 0., 0., 1.]], dtype=float32)>)"
            ]
          },
          "metadata": {
            "tags": []
          },
          "execution_count": 14
        }
      ]
    },
    {
      "cell_type": "code",
      "metadata": {
        "id": "SNxlRyUjEYY_"
      },
      "source": [
        "x_tr = np.array(k)\n",
        "# x_ts = np.array(bert_ts)"
      ],
      "execution_count": null,
      "outputs": []
    },
    {
      "cell_type": "code",
      "metadata": {
        "id": "ubwcTEMLG9Ho"
      },
      "source": [
        "x_tr_inp_ids,x_tr_att_mks = np.split(x_tr,2,axis = 1)\n",
        "# x_ts_inp_ids,x_ts_att_mks = np.split(x_ts,2,axis = 1)"
      ],
      "execution_count": null,
      "outputs": []
    },
    {
      "cell_type": "code",
      "metadata": {
        "id": "T8g2EWMTH7mI"
      },
      "source": [
        "x_tr_inp_ids = x_tr_inp_ids.squeeze()\n",
        "x_tr_att_mks = x_tr_att_mks.squeeze()\n",
        "# x_tr_tk_ids = x_tr_tk_ids.squeeze()\n",
        "# x_ts_tk_ids = x_ts_tk_ids.squeeze()\n",
        "# x_ts_inp_ids = x_ts_inp_ids.squeeze()\n",
        "# x_ts_att_mks = x_ts_att_mks.squeeze()"
      ],
      "execution_count": null,
      "outputs": []
    },
    {
      "cell_type": "code",
      "metadata": {
        "id": "Dg-1WloG88Si",
        "colab": {
          "base_uri": "https://localhost:8080/"
        },
        "outputId": "9a6f3cc9-1a67-468a-f08a-a20b6ab79302"
      },
      "source": [
        "x_tr_att_mks.shape"
      ],
      "execution_count": null,
      "outputs": [
        {
          "output_type": "execute_result",
          "data": {
            "text/plain": [
              "(552000, 35)"
            ]
          },
          "metadata": {
            "tags": []
          },
          "execution_count": 40
        }
      ]
    },
    {
      "cell_type": "code",
      "metadata": {
        "id": "9l1IHgXdGTdx"
      },
      "source": [
        "x_tr_fin=[tf.convert_to_tensor(x_tr_inp_ids,dtype=tf.int64),tf.convert_to_tensor(x_tr_att_mks,dtype=tf.int64)]\n",
        "y_tr_fin=tf.convert_to_tensor(bert_tr_lb,np.float32)\n",
        "x_ts_fin =[tf.convert_to_tensor(x_ts_inp_ids,dtype=tf.int64),tf.convert_to_tensor(x_ts_att_mks,dtype=tf.int64)]\n",
        "y_ts_fin = tf.convert_to_tensor(bert_ts_lb,np.float32)"
      ],
      "execution_count": null,
      "outputs": []
    },
    {
      "cell_type": "code",
      "metadata": {
        "id": "LwqGVKHtUXBu"
      },
      "source": [
        "def examples_to_features(inp_ids,att_mks,y):\n",
        "  return {\"input_ids\":inp_ids,\n",
        "          \"attention_mask\":att_mks\n",
        "          # \"token_type_ids\":tk_ids\n",
        "          },y"
      ],
      "execution_count": null,
      "outputs": []
    },
    {
      "cell_type": "code",
      "metadata": {
        "id": "AeBDXlKkHZIo"
      },
      "source": [
        "train_ds = tf.data.Dataset.from_tensor_slices((x_tr_inp_ids,x_tr_att_mks,bert_tr_lb)).map(examples_to_features)\n",
        "test_ds = tf.data.Dataset.from_tensor_slices((x_ts_inp_ids,x_ts_att_mks,bert_ts_lb)).map(examples_to_features)"
      ],
      "execution_count": null,
      "outputs": []
    },
    {
      "cell_type": "code",
      "metadata": {
        "id": "J3U_XLcz9IAT",
        "colab": {
          "base_uri": "https://localhost:8080/"
        },
        "outputId": "15517699-825a-45aa-a66d-a4d75d937cc9"
      },
      "source": [
        "test_ds.element_spec"
      ],
      "execution_count": null,
      "outputs": [
        {
          "output_type": "execute_result",
          "data": {
            "text/plain": [
              "({'attention_mask': TensorSpec(shape=(35,), dtype=tf.int64, name=None),\n",
              "  'input_ids': TensorSpec(shape=(35,), dtype=tf.int64, name=None)},\n",
              " TensorSpec(shape=(5,), dtype=tf.float32, name=None))"
            ]
          },
          "metadata": {
            "tags": []
          },
          "execution_count": 25
        }
      ]
    },
    {
      "cell_type": "code",
      "metadata": {
        "id": "h5swiz8AHHII",
        "colab": {
          "base_uri": "https://localhost:8080/"
        },
        "outputId": "0f1e4df9-0043-42b8-f2ee-c7a70114e6c2"
      },
      "source": [
        "from transformers import TFBertModel\n",
        "# bert = TFBertModel.from_pretrained(bert_name)\n",
        "bert = TFBertModel.from_pretrained(bert_name)"
      ],
      "execution_count": null,
      "outputs": [
        {
          "output_type": "stream",
          "text": [
            "WARNING:transformers.modeling_tf_utils:Some weights of the model checkpoint at bert-base-uncased were not used when initializing TFBertModel: ['nsp___cls', 'mlm___cls']\n",
            "- This IS expected if you are initializing TFBertModel from the checkpoint of a model trained on another task or with another architecture (e.g. initializing a BertForSequenceClassification model from a BertForPretraining model).\n",
            "- This IS NOT expected if you are initializing TFBertModel from the checkpoint of a model that you expect to be exactly identical (initializing a BertForSequenceClassification model from a BertForSequenceClassification model).\n",
            "WARNING:transformers.modeling_tf_utils:All the weights of TFBertModel were initialized from the model checkpoint at bert-base-uncased.\n",
            "If your task is similar to the task the model of the ckeckpoint was trained on, you can already use TFBertModel for predictions without further training.\n"
          ],
          "name": "stderr"
        }
      ]
    },
    {
      "cell_type": "code",
      "metadata": {
        "id": "SHtxf-FhWY7e"
      },
      "source": [
        "# 0: (None,35,768)\n",
        "# 1: (None,768)\n",
        "\n",
        "\n",
        "def create_model():\n",
        "    # bert = TFBertForSequenceClassification.from_pretrained(bert_name)\n",
        "    # bert.trainable = False\n",
        "    inputs = tf.keras.layers.Input((max_seq_len,), dtype=tf.int64,name=\"input_ids\")\n",
        "    mask = tf.keras.layers.Input((max_seq_len,), dtype=tf.int64,name=\"attention_mask\")\n",
        "    # tok = tf.keras.layers.Input((max_seq_len,), dtype=tf.int64,name=\"token_type_ids\")\n",
        "    preds = bert(\n",
        "        inputs=inputs,\n",
        "        attention_mask=mask\n",
        "        # token_type_ids=tok\n",
        "        # training = False\n",
        "    )[0]\n",
        "    # \n",
        "    # preds = tf.keras.layers.Reshape((768,1))(preds)\n",
        "    # x = tf.keras.layers.Dropout(0.2)(preds)\n",
        "    conv = tf.keras.layers.Conv1D(32,3,activation='relu',padding='same')\n",
        "    max_pool = tf.keras.layers.AveragePooling1D(padding='same')\n",
        "    conv1 = tf.keras.layers.Conv1D(32,3,activation='relu')\n",
        "    # max_pool1 = tf.keras.layers.MaxPool1D()\n",
        "    # # conv1 = tf.keras.layers.Conv1D(32,3,activation='relu')\n",
        "    # # max_pool1 = tf.keras.layers.MaxPool1D()\n",
        "    # flat = tf.keras.layers.Flatten()\n",
        "    # gru = tf.keras.layers.Bidirectional(tf.keras.layers.GRU(16,return_sequences=True,dropout=0.2, recurrent_dropout=0.3))\n",
        "    x = conv(preds)\n",
        "    x = max_pool(x)\n",
        "    \n",
        "    x = conv1(x)\n",
        "    # x = max_pool1(x)\n",
        "    # x = gru(x)\n",
        "    x = tf.keras.layers.GlobalAveragePooling1D()(x)\n",
        "    # # x = conv(x)\n",
        "    # # x = max_pool(x)\n",
        "    # # x = conv(x)\n",
        "    # x = max_pool1(x)\n",
        "    # x = flat(x)\n",
        "    # # # tf.keras.layers.Conv1D(32,3,activation='relu'),\n",
        "    # # # tf.keras.layers.MaxPool1D(),\n",
        "    # # # tf.keras.layers.Conv1D(32,3,activation='relu'),\n",
        "    # # # tf.keras.layers.MaxPool1D(),\n",
        "    # # tf.keras.layers.Dropout(0.5),\n",
        "    x = tf.keras.layers.Dropout(0.2)(x)\n",
        "    # x = tf.keras.layers.Dense(512,activation='relu')(x)\n",
        "    # x = tf.keras.layers.Dense(128,activation='relu')(x)\n",
        "    \n",
        "    x = tf.keras.layers.Dense(20,activation='relu')(x)\n",
        "    x = tf.keras.layers.Dense(5,activation='softmax')(x)\n",
        "    return tf.keras.Model([inputs, mask], x)"
      ],
      "execution_count": null,
      "outputs": []
    },
    {
      "cell_type": "code",
      "metadata": {
        "id": "AwToxYYMZAzi",
        "colab": {
          "base_uri": "https://localhost:8080/"
        },
        "outputId": "b2ead307-97ca-4afb-bb61-ea3d1324ab28"
      },
      "source": [
        "import os\n",
        "import pprint # for pretty printing our device stats\n",
        "\n",
        "if 'COLAB_TPU_ADDR' not in os.environ:\n",
        "    print('ERROR: Not connected to a TPU runtime; please see the first cell in this notebook for instructions!')\n",
        "else:\n",
        "    tpu_address = 'grpc://' + os.environ['COLAB_TPU_ADDR']\n",
        "    print ('TPU address is', tpu_address)\n",
        "\n",
        "    with tf.compat.v1.Session(tpu_address) as session:\n",
        "      devices = session.list_devices()\n",
        "\n",
        "    print('TPU devices:')\n",
        "    pprint.pprint(devices)"
      ],
      "execution_count": null,
      "outputs": [
        {
          "output_type": "stream",
          "text": [
            "TPU address is grpc://10.11.10.130:8470\n",
            "TPU devices:\n",
            "[_DeviceAttributes(/job:tpu_worker/replica:0/task:0/device:CPU:0, CPU, -1, -5409116454430183232),\n",
            " _DeviceAttributes(/job:tpu_worker/replica:0/task:0/device:TPU_SYSTEM:0, TPU_SYSTEM, 8589934592, -2557692911495921646),\n",
            " _DeviceAttributes(/job:tpu_worker/replica:0/task:0/device:XLA_CPU:0, XLA_CPU, 17179869184, 2267392562094382272),\n",
            " _DeviceAttributes(/job:tpu_worker/replica:0/task:0/device:TPU:0, TPU, 17179869184, 6907375839584699302),\n",
            " _DeviceAttributes(/job:tpu_worker/replica:0/task:0/device:TPU:1, TPU, 17179869184, 1873322624396006933),\n",
            " _DeviceAttributes(/job:tpu_worker/replica:0/task:0/device:TPU:2, TPU, 17179869184, 1138052983315972361),\n",
            " _DeviceAttributes(/job:tpu_worker/replica:0/task:0/device:TPU:3, TPU, 17179869184, 6314240442552438168),\n",
            " _DeviceAttributes(/job:tpu_worker/replica:0/task:0/device:TPU:4, TPU, 17179869184, 6384594806148501214),\n",
            " _DeviceAttributes(/job:tpu_worker/replica:0/task:0/device:TPU:5, TPU, 17179869184, -7978149568287296967),\n",
            " _DeviceAttributes(/job:tpu_worker/replica:0/task:0/device:TPU:6, TPU, 17179869184, 4319113149332773709),\n",
            " _DeviceAttributes(/job:tpu_worker/replica:0/task:0/device:TPU:7, TPU, 17179869184, 3980814121059994818)]\n"
          ],
          "name": "stdout"
        }
      ]
    },
    {
      "cell_type": "code",
      "metadata": {
        "id": "v-iD05PbZCqt",
        "colab": {
          "base_uri": "https://localhost:8080/"
        },
        "outputId": "dcf0a6b3-90d3-4301-c02d-82862f05a75c"
      },
      "source": [
        "resolver = tf.distribute.cluster_resolver.TPUClusterResolver(tpu='')\n",
        "tf.config.experimental_connect_to_cluster(resolver)\n",
        "# This is the TPU initialization code that has to be at the beginning.\n",
        "tf.tpu.experimental.initialize_tpu_system(resolver)\n",
        "print(\"All devices: \", tf.config.list_logical_devices('TPU'))\n",
        "strategy = tf.distribute.TPUStrategy(resolver)"
      ],
      "execution_count": null,
      "outputs": [
        {
          "output_type": "stream",
          "text": [
            "INFO:absl:Entering into master device scope: /job:worker/replica:0/task:0/device:CPU:0\n"
          ],
          "name": "stderr"
        },
        {
          "output_type": "stream",
          "text": [
            "INFO:tensorflow:Initializing the TPU system: grpc://10.11.10.130:8470\n"
          ],
          "name": "stdout"
        },
        {
          "output_type": "stream",
          "text": [
            "INFO:tensorflow:Initializing the TPU system: grpc://10.11.10.130:8470\n"
          ],
          "name": "stderr"
        },
        {
          "output_type": "stream",
          "text": [
            "INFO:tensorflow:Clearing out eager caches\n"
          ],
          "name": "stdout"
        },
        {
          "output_type": "stream",
          "text": [
            "INFO:tensorflow:Clearing out eager caches\n"
          ],
          "name": "stderr"
        },
        {
          "output_type": "stream",
          "text": [
            "INFO:tensorflow:Finished initializing TPU system.\n"
          ],
          "name": "stdout"
        },
        {
          "output_type": "stream",
          "text": [
            "INFO:tensorflow:Finished initializing TPU system.\n"
          ],
          "name": "stderr"
        },
        {
          "output_type": "stream",
          "text": [
            "All devices:  [LogicalDevice(name='/job:worker/replica:0/task:0/device:TPU:7', device_type='TPU'), LogicalDevice(name='/job:worker/replica:0/task:0/device:TPU:6', device_type='TPU'), LogicalDevice(name='/job:worker/replica:0/task:0/device:TPU:5', device_type='TPU'), LogicalDevice(name='/job:worker/replica:0/task:0/device:TPU:4', device_type='TPU'), LogicalDevice(name='/job:worker/replica:0/task:0/device:TPU:3', device_type='TPU'), LogicalDevice(name='/job:worker/replica:0/task:0/device:TPU:0', device_type='TPU'), LogicalDevice(name='/job:worker/replica:0/task:0/device:TPU:1', device_type='TPU'), LogicalDevice(name='/job:worker/replica:0/task:0/device:TPU:2', device_type='TPU')]\n",
            "INFO:tensorflow:Found TPU system:\n"
          ],
          "name": "stdout"
        },
        {
          "output_type": "stream",
          "text": [
            "INFO:tensorflow:Found TPU system:\n"
          ],
          "name": "stderr"
        },
        {
          "output_type": "stream",
          "text": [
            "INFO:tensorflow:*** Num TPU Cores: 8\n"
          ],
          "name": "stdout"
        },
        {
          "output_type": "stream",
          "text": [
            "INFO:tensorflow:*** Num TPU Cores: 8\n"
          ],
          "name": "stderr"
        },
        {
          "output_type": "stream",
          "text": [
            "INFO:tensorflow:*** Num TPU Workers: 1\n"
          ],
          "name": "stdout"
        },
        {
          "output_type": "stream",
          "text": [
            "INFO:tensorflow:*** Num TPU Workers: 1\n"
          ],
          "name": "stderr"
        },
        {
          "output_type": "stream",
          "text": [
            "INFO:tensorflow:*** Num TPU Cores Per Worker: 8\n"
          ],
          "name": "stdout"
        },
        {
          "output_type": "stream",
          "text": [
            "INFO:tensorflow:*** Num TPU Cores Per Worker: 8\n"
          ],
          "name": "stderr"
        },
        {
          "output_type": "stream",
          "text": [
            "INFO:tensorflow:*** Available Device: _DeviceAttributes(/job:localhost/replica:0/task:0/device:CPU:0, CPU, 0, 0)\n"
          ],
          "name": "stdout"
        },
        {
          "output_type": "stream",
          "text": [
            "INFO:tensorflow:*** Available Device: _DeviceAttributes(/job:localhost/replica:0/task:0/device:CPU:0, CPU, 0, 0)\n"
          ],
          "name": "stderr"
        },
        {
          "output_type": "stream",
          "text": [
            "INFO:tensorflow:*** Available Device: _DeviceAttributes(/job:worker/replica:0/task:0/device:CPU:0, CPU, 0, 0)\n"
          ],
          "name": "stdout"
        },
        {
          "output_type": "stream",
          "text": [
            "INFO:tensorflow:*** Available Device: _DeviceAttributes(/job:worker/replica:0/task:0/device:CPU:0, CPU, 0, 0)\n"
          ],
          "name": "stderr"
        },
        {
          "output_type": "stream",
          "text": [
            "INFO:tensorflow:*** Available Device: _DeviceAttributes(/job:worker/replica:0/task:0/device:TPU:0, TPU, 0, 0)\n"
          ],
          "name": "stdout"
        },
        {
          "output_type": "stream",
          "text": [
            "INFO:tensorflow:*** Available Device: _DeviceAttributes(/job:worker/replica:0/task:0/device:TPU:0, TPU, 0, 0)\n"
          ],
          "name": "stderr"
        },
        {
          "output_type": "stream",
          "text": [
            "INFO:tensorflow:*** Available Device: _DeviceAttributes(/job:worker/replica:0/task:0/device:TPU:1, TPU, 0, 0)\n"
          ],
          "name": "stdout"
        },
        {
          "output_type": "stream",
          "text": [
            "INFO:tensorflow:*** Available Device: _DeviceAttributes(/job:worker/replica:0/task:0/device:TPU:1, TPU, 0, 0)\n"
          ],
          "name": "stderr"
        },
        {
          "output_type": "stream",
          "text": [
            "INFO:tensorflow:*** Available Device: _DeviceAttributes(/job:worker/replica:0/task:0/device:TPU:2, TPU, 0, 0)\n"
          ],
          "name": "stdout"
        },
        {
          "output_type": "stream",
          "text": [
            "INFO:tensorflow:*** Available Device: _DeviceAttributes(/job:worker/replica:0/task:0/device:TPU:2, TPU, 0, 0)\n"
          ],
          "name": "stderr"
        },
        {
          "output_type": "stream",
          "text": [
            "INFO:tensorflow:*** Available Device: _DeviceAttributes(/job:worker/replica:0/task:0/device:TPU:3, TPU, 0, 0)\n"
          ],
          "name": "stdout"
        },
        {
          "output_type": "stream",
          "text": [
            "INFO:tensorflow:*** Available Device: _DeviceAttributes(/job:worker/replica:0/task:0/device:TPU:3, TPU, 0, 0)\n"
          ],
          "name": "stderr"
        },
        {
          "output_type": "stream",
          "text": [
            "INFO:tensorflow:*** Available Device: _DeviceAttributes(/job:worker/replica:0/task:0/device:TPU:4, TPU, 0, 0)\n"
          ],
          "name": "stdout"
        },
        {
          "output_type": "stream",
          "text": [
            "INFO:tensorflow:*** Available Device: _DeviceAttributes(/job:worker/replica:0/task:0/device:TPU:4, TPU, 0, 0)\n"
          ],
          "name": "stderr"
        },
        {
          "output_type": "stream",
          "text": [
            "INFO:tensorflow:*** Available Device: _DeviceAttributes(/job:worker/replica:0/task:0/device:TPU:5, TPU, 0, 0)\n"
          ],
          "name": "stdout"
        },
        {
          "output_type": "stream",
          "text": [
            "INFO:tensorflow:*** Available Device: _DeviceAttributes(/job:worker/replica:0/task:0/device:TPU:5, TPU, 0, 0)\n"
          ],
          "name": "stderr"
        },
        {
          "output_type": "stream",
          "text": [
            "INFO:tensorflow:*** Available Device: _DeviceAttributes(/job:worker/replica:0/task:0/device:TPU:6, TPU, 0, 0)\n"
          ],
          "name": "stdout"
        },
        {
          "output_type": "stream",
          "text": [
            "INFO:tensorflow:*** Available Device: _DeviceAttributes(/job:worker/replica:0/task:0/device:TPU:6, TPU, 0, 0)\n"
          ],
          "name": "stderr"
        },
        {
          "output_type": "stream",
          "text": [
            "INFO:tensorflow:*** Available Device: _DeviceAttributes(/job:worker/replica:0/task:0/device:TPU:7, TPU, 0, 0)\n"
          ],
          "name": "stdout"
        },
        {
          "output_type": "stream",
          "text": [
            "INFO:tensorflow:*** Available Device: _DeviceAttributes(/job:worker/replica:0/task:0/device:TPU:7, TPU, 0, 0)\n"
          ],
          "name": "stderr"
        },
        {
          "output_type": "stream",
          "text": [
            "INFO:tensorflow:*** Available Device: _DeviceAttributes(/job:worker/replica:0/task:0/device:TPU_SYSTEM:0, TPU_SYSTEM, 0, 0)\n"
          ],
          "name": "stdout"
        },
        {
          "output_type": "stream",
          "text": [
            "INFO:tensorflow:*** Available Device: _DeviceAttributes(/job:worker/replica:0/task:0/device:TPU_SYSTEM:0, TPU_SYSTEM, 0, 0)\n"
          ],
          "name": "stderr"
        },
        {
          "output_type": "stream",
          "text": [
            "INFO:tensorflow:*** Available Device: _DeviceAttributes(/job:worker/replica:0/task:0/device:XLA_CPU:0, XLA_CPU, 0, 0)\n"
          ],
          "name": "stdout"
        },
        {
          "output_type": "stream",
          "text": [
            "INFO:tensorflow:*** Available Device: _DeviceAttributes(/job:worker/replica:0/task:0/device:XLA_CPU:0, XLA_CPU, 0, 0)\n"
          ],
          "name": "stderr"
        }
      ]
    },
    {
      "cell_type": "code",
      "metadata": {
        "id": "uezXksM7Ewba",
        "colab": {
          "base_uri": "https://localhost:8080/"
        },
        "outputId": "b99d7932-a908-4431-cec7-4ec7d2aee30b"
      },
      "source": [
        "with strategy.scope():\n",
        "  bert = TFBertModel.from_pretrained(bert_name)\n",
        "  bert.trainable = False\n",
        "  "
      ],
      "execution_count": null,
      "outputs": [
        {
          "output_type": "stream",
          "text": [
            "WARNING:transformers.modeling_tf_utils:Some weights of the model checkpoint at bert-base-uncased were not used when initializing TFBertModel: ['nsp___cls', 'mlm___cls']\n",
            "- This IS expected if you are initializing TFBertModel from the checkpoint of a model trained on another task or with another architecture (e.g. initializing a BertForSequenceClassification model from a BertForPretraining model).\n",
            "- This IS NOT expected if you are initializing TFBertModel from the checkpoint of a model that you expect to be exactly identical (initializing a BertForSequenceClassification model from a BertForSequenceClassification model).\n",
            "WARNING:transformers.modeling_tf_utils:All the weights of TFBertModel were initialized from the model checkpoint at bert-base-uncased.\n",
            "If your task is similar to the task the model of the ckeckpoint was trained on, you can already use TFBertModel for predictions without further training.\n"
          ],
          "name": "stderr"
        }
      ]
    },
    {
      "cell_type": "code",
      "metadata": {
        "id": "ZEc7GIlmYhhJ"
      },
      "source": [
        "with strategy.scope():\n",
        "  model = create_model()\n",
        "  model.compile(loss=\"categorical_crossentropy\", optimizer=\"adam\", metrics=['accuracy'])"
      ],
      "execution_count": null,
      "outputs": []
    },
    {
      "cell_type": "code",
      "metadata": {
        "id": "S-iZv3t8FIbb",
        "colab": {
          "base_uri": "https://localhost:8080/"
        },
        "outputId": "2a7e301b-cbf6-429e-d491-f94c672f14e9"
      },
      "source": [
        "model.summary()"
      ],
      "execution_count": null,
      "outputs": [
        {
          "output_type": "stream",
          "text": [
            "Model: \"model_6\"\n",
            "__________________________________________________________________________________________________\n",
            "Layer (type)                    Output Shape         Param #     Connected to                     \n",
            "==================================================================================================\n",
            "input_ids (InputLayer)          [(None, 35)]         0                                            \n",
            "__________________________________________________________________________________________________\n",
            "attention_mask (InputLayer)     [(None, 35)]         0                                            \n",
            "__________________________________________________________________________________________________\n",
            "tf_bert_model_10 (TFBertModel)  ((None, 35, 768), (N 109482240   input_ids[0][0]                  \n",
            "                                                                 attention_mask[0][0]             \n",
            "__________________________________________________________________________________________________\n",
            "conv1d_6 (Conv1D)               (None, 35, 32)       73760       tf_bert_model_10[1][0]           \n",
            "__________________________________________________________________________________________________\n",
            "average_pooling1d_4 (AveragePoo (None, 18, 32)       0           conv1d_6[0][0]                   \n",
            "__________________________________________________________________________________________________\n",
            "conv1d_7 (Conv1D)               (None, 16, 32)       3104        average_pooling1d_4[0][0]        \n",
            "__________________________________________________________________________________________________\n",
            "global_average_pooling1d_1 (Glo (None, 32)           0           conv1d_7[0][0]                   \n",
            "__________________________________________________________________________________________________\n",
            "dropout_413 (Dropout)           (None, 32)           0           global_average_pooling1d_1[0][0] \n",
            "__________________________________________________________________________________________________\n",
            "dense_18 (Dense)                (None, 20)           660         dropout_413[0][0]                \n",
            "__________________________________________________________________________________________________\n",
            "dense_19 (Dense)                (None, 5)            105         dense_18[0][0]                   \n",
            "==================================================================================================\n",
            "Total params: 109,559,869\n",
            "Trainable params: 77,629\n",
            "Non-trainable params: 109,482,240\n",
            "__________________________________________________________________________________________________\n"
          ],
          "name": "stdout"
        }
      ]
    },
    {
      "cell_type": "code",
      "metadata": {
        "id": "HHpCNzRzE13n",
        "colab": {
          "base_uri": "https://localhost:8080/"
        },
        "outputId": "382200f6-24ed-4173-8c78-b5e1531f60de"
      },
      "source": [
        "from keras.callbacks import EarlyStopping\n",
        "# bert.trainable= False\n",
        "# tf.config.run_functions_eagerly(False)\n",
        "his = model.fit(x=x_tr_fin,y=y_tr_fin,validation_data=(x_ts_fin,y_ts_fin),epochs=100,callbacks=[EarlyStopping()])"
      ],
      "execution_count": null,
      "outputs": [
        {
          "output_type": "stream",
          "text": [
            "Epoch 1/100\n",
            "17250/17250 [==============================] - 380s 21ms/step - loss: 0.9429 - accuracy: 0.6240 - val_loss: 0.7074 - val_accuracy: 0.7345\n",
            "Epoch 2/100\n",
            "17250/17250 [==============================] - 360s 21ms/step - loss: 0.7303 - accuracy: 0.7234 - val_loss: 0.6898 - val_accuracy: 0.7397\n",
            "Epoch 3/100\n",
            "17250/17250 [==============================] - 363s 21ms/step - loss: 0.6920 - accuracy: 0.7397 - val_loss: 0.6599 - val_accuracy: 0.7518\n",
            "Epoch 4/100\n",
            "17250/17250 [==============================] - 362s 21ms/step - loss: 0.6732 - accuracy: 0.7475 - val_loss: 0.6418 - val_accuracy: 0.7621\n",
            "Epoch 5/100\n",
            "17250/17250 [==============================] - 362s 21ms/step - loss: 0.6563 - accuracy: 0.7545 - val_loss: 0.6356 - val_accuracy: 0.7605\n",
            "Epoch 6/100\n",
            "17250/17250 [==============================] - 360s 21ms/step - loss: 0.6488 - accuracy: 0.7569 - val_loss: 0.6204 - val_accuracy: 0.7701\n",
            "Epoch 7/100\n",
            "17250/17250 [==============================] - 358s 21ms/step - loss: 0.6415 - accuracy: 0.7604 - val_loss: 0.6220 - val_accuracy: 0.7687\n"
          ],
          "name": "stdout"
        }
      ]
    },
    {
      "cell_type": "code",
      "metadata": {
        "id": "FP9T5N1lmRlL",
        "colab": {
          "base_uri": "https://localhost:8080/"
        },
        "outputId": "8d8e9d19-2ce9-4cba-8590-9e61d118f1c3"
      },
      "source": [
        "his.history"
      ],
      "execution_count": null,
      "outputs": [
        {
          "output_type": "execute_result",
          "data": {
            "text/plain": [
              "{'accuracy': [0.670893132686615,\n",
              "  0.7272680997848511,\n",
              "  0.7422155737876892,\n",
              "  0.7492771744728088,\n",
              "  0.7540488839149475,\n",
              "  0.7575742602348328,\n",
              "  0.7604873180389404],\n",
              " 'loss': [0.8442266583442688,\n",
              "  0.7212066650390625,\n",
              "  0.6872373819351196,\n",
              "  0.6696718335151672,\n",
              "  0.6572243571281433,\n",
              "  0.6481632590293884,\n",
              "  0.6409372687339783],\n",
              " 'val_accuracy': [0.7344637513160706,\n",
              "  0.739673912525177,\n",
              "  0.7517753839492798,\n",
              "  0.762123167514801,\n",
              "  0.7604782581329346,\n",
              "  0.7700724601745605,\n",
              "  0.7687174081802368],\n",
              " 'val_loss': [0.7073525190353394,\n",
              "  0.689842939376831,\n",
              "  0.6598831415176392,\n",
              "  0.6417540311813354,\n",
              "  0.6355701088905334,\n",
              "  0.620424747467041,\n",
              "  0.6219537258148193]}"
            ]
          },
          "metadata": {
            "tags": []
          },
          "execution_count": 70
        }
      ]
    },
    {
      "cell_type": "code",
      "metadata": {
        "id": "vG9YGcEUfljs"
      },
      "source": [
        "# !pip install cloud-tpu-client\n",
        "\n",
        "# import tensorflow as tf\n",
        "# from cloud_tpu_client import Client\n",
        "# print(tf.__version__)\n",
        "\n",
        "# Client().configure_tpu_version(tf.__version__, restart_type='ifNeeded')\n",
        "\n",
        " "
      ],
      "execution_count": null,
      "outputs": []
    }
  ]
}