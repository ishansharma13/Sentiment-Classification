{
  "nbformat": 4,
  "nbformat_minor": 0,
  "metadata": {
    "colab": {
      "name": "sb_combined_dataset_no_covid_with_uid.ipynb",
      "provenance": [],
      "collapsed_sections": []
    },
    "kernelspec": {
      "name": "python3",
      "display_name": "Python 3"
    }
  },
  "cells": [
    {
      "cell_type": "code",
      "metadata": {
        "id": "hJOD44MJJJ_w"
      },
      "source": [
        "from google.colab import drive\n",
        "drive.mount('content/drive')"
      ],
      "execution_count": null,
      "outputs": []
    },
    {
      "cell_type": "code",
      "metadata": {
        "id": "CXjFbugPJNQm"
      },
      "source": [
        "!pip install sentence-transformers\n",
        "!pip install pyspark"
      ],
      "execution_count": null,
      "outputs": []
    },
    {
      "cell_type": "code",
      "metadata": {
        "id": "5aem75aGJWPD"
      },
      "source": [
        "from sentence_transformers import SentenceTransformer\n",
        "sbert_model = SentenceTransformer('bert-base-nli-mean-tokens')"
      ],
      "execution_count": null,
      "outputs": []
    },
    {
      "cell_type": "code",
      "metadata": {
        "id": "a5HDTvhMJaoF"
      },
      "source": [
        "from pyspark.sql import SparkSession as ss\n",
        "spark = ss.builder.getOrCreate()"
      ],
      "execution_count": null,
      "outputs": []
    },
    {
      "cell_type": "code",
      "metadata": {
        "id": "QVkfsRdUJhaU"
      },
      "source": [
        "df = spark.read.option(\"header\",\"true\").csv('/content/drive/My Drive/Annotated/mean_sent_lex/final_sent_class/Combined Annotated/combined_dataset_with_uid',multiLine=True,inferSchema = True)"
      ],
      "execution_count": null,
      "outputs": []
    },
    {
      "cell_type": "code",
      "metadata": {
        "id": "MdeC7jsDJiS3"
      },
      "source": [
        "import json\n",
        "class generate_embeddings:\n",
        "  def __init__(self,df):\n",
        "      self.df = df.select(\"u_id\",\"text\",\"pre_text_vader\",\"pre_text_all_upd\",\"mean_sent_score\",\"final_sent_class\")\n",
        "  \n",
        "  @staticmethod\n",
        "  @udf(returnType = StringType())\n",
        "  def embeddings(text):\n",
        "    return json.dumps(sbert_model.encode(text).tolist())\n",
        "\n",
        "  def process(self):\n",
        "    # self.df = self.df.withColumn(\"sb_text\",generate_embeddings.embeddings(\"text\"))\n",
        "    # self.df = self.df.withColumn(\"sb_pre_text_vader\",generate_embeddings.embeddings(\"pre_text_vader\"))\n",
        "    self.df = self.df.withColumn(\"sb_pre_text_all_upd\",generate_embeddings.embeddings(\"pre_text_all_upd\"))\n",
        "\n",
        "    # self.df1 = self.df1.withColumn(\"sb_text\",generate_embeddings.embeddings(\"text\"))\n",
        "    # self.df1 = self.df1.withColumn(\"sb_pre_text_vader\",generate_embeddings.embeddings(\"pre_text_vader\"))\n",
        "    # self.df1 = self.df1.withColumn(\"sb_pre_text_all_upd\",generate_embeddings.embeddings(\"pre_text_all_upd\"))\n",
        "\n",
        "    self.df.write.mode(\"overwrite\").option(\"header\",\"true\").csv('/content/drive/My Drive/Annotated/mean_sent_lex/final_sent_class/Combined Annotated/sb_combined_dataset_no_covid_with_uid')\n",
        "    # self.df1.write.mode(\"overwrite\").option(\"header\",\"true\").csv('/content/drive/My Drive/Annotated/mean_sent_lex/final_sent_class/Combined Annotated/sb_covid_dataset_final_with_uid')\n"
      ],
      "execution_count": null,
      "outputs": []
    },
    {
      "cell_type": "code",
      "metadata": {
        "id": "DeiNYQoFJqb3"
      },
      "source": [
        "g = generate_embeddings(df)\n",
        "g.process()"
      ],
      "execution_count": null,
      "outputs": []
    }
  ]
}