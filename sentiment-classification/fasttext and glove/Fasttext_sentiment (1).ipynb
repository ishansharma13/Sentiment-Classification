{
  "nbformat": 4,
  "nbformat_minor": 0,
  "metadata": {
    "colab": {
      "name": "Fasttext sentiment.ipynb",
      "provenance": []
    },
    "kernelspec": {
      "name": "python3",
      "display_name": "Python 3"
    },
    "language_info": {
      "name": "python"
    },
    "accelerator": "TPU"
  },
  "cells": [
    {
      "cell_type": "code",
      "metadata": {
        "colab": {
          "base_uri": "https://localhost:8080/"
        },
        "id": "SAMIX13QxLTq",
        "outputId": "48bcc10a-17a1-42a6-bc8a-c956bbe0f376"
      },
      "source": [
        "from google.colab import drive\n",
        "from tensorflow import keras\n",
        "from keras.preprocessing.text import Tokenizer\n",
        "from keras.preprocessing.sequence import pad_sequences\n",
        "import tensorflow as tf\n",
        "import numpy as np\n",
        "import pandas as pd\n",
        "from sklearn.preprocessing import LabelEncoder\n",
        "from keras.utils import np_utils\n",
        "from keras.callbacks import EarlyStopping,ModelCheckpoint\n",
        "from sklearn import model_selection\n",
        "from nltk.tokenize import word_tokenize\n",
        "import nltk\n",
        "from sklearn.metrics import accuracy_score\n",
        "nltk.download('punkt')\n",
        "import codecs"
      ],
      "execution_count": null,
      "outputs": [
        {
          "output_type": "stream",
          "text": [
            "[nltk_data] Downloading package punkt to /root/nltk_data...\n",
            "[nltk_data]   Unzipping tokenizers/punkt.zip.\n"
          ],
          "name": "stdout"
        }
      ]
    },
    {
      "cell_type": "code",
      "metadata": {
        "colab": {
          "base_uri": "https://localhost:8080/"
        },
        "id": "h_nRl1ioxR_R",
        "outputId": "f8d1575a-13c4-4384-8149-cbbd095598ba"
      },
      "source": [
        "drive.mount('/content/drive')"
      ],
      "execution_count": null,
      "outputs": [
        {
          "output_type": "stream",
          "text": [
            "Mounted at /content/drive\n"
          ],
          "name": "stdout"
        }
      ]
    },
    {
      "cell_type": "code",
      "metadata": {
        "colab": {
          "base_uri": "https://localhost:8080/"
        },
        "id": "njEnNscuxTvD",
        "outputId": "6166a7bc-339e-4963-c5ea-16908f325aca"
      },
      "source": [
        "import os\n",
        "import pprint # for pretty printing our device stats\n",
        "\n",
        "if 'COLAB_TPU_ADDR' not in os.environ:\n",
        "    print('ERROR: Not connected to a TPU runtime; please see the first cell in this notebook for instructions!')\n",
        "else:\n",
        "    tpu_address = 'grpc://' + os.environ['COLAB_TPU_ADDR']\n",
        "    print ('TPU address is', tpu_address)\n",
        "\n",
        "    with tf.compat.v1.Session(tpu_address) as session:\n",
        "      devices = session.list_devices()\n",
        "\n",
        "    print('TPU devices:')\n",
        "    pprint.pprint(devices)"
      ],
      "execution_count": null,
      "outputs": [
        {
          "output_type": "stream",
          "text": [
            "TPU address is grpc://10.82.235.242:8470\n",
            "TPU devices:\n",
            "[_DeviceAttributes(/job:tpu_worker/replica:0/task:0/device:CPU:0, CPU, -1, -5844535341722424470),\n",
            " _DeviceAttributes(/job:tpu_worker/replica:0/task:0/device:TPU_SYSTEM:0, TPU_SYSTEM, 8589934592, -4550017439063403169),\n",
            " _DeviceAttributes(/job:tpu_worker/replica:0/task:0/device:XLA_CPU:0, XLA_CPU, 17179869184, 413606623537819845),\n",
            " _DeviceAttributes(/job:tpu_worker/replica:0/task:0/device:TPU:0, TPU, 17179869184, 8341141000206418897),\n",
            " _DeviceAttributes(/job:tpu_worker/replica:0/task:0/device:TPU:1, TPU, 17179869184, -6709762387259065559),\n",
            " _DeviceAttributes(/job:tpu_worker/replica:0/task:0/device:TPU:2, TPU, 17179869184, -2644875381155987240),\n",
            " _DeviceAttributes(/job:tpu_worker/replica:0/task:0/device:TPU:3, TPU, 17179869184, 8156336762412113320),\n",
            " _DeviceAttributes(/job:tpu_worker/replica:0/task:0/device:TPU:4, TPU, 17179869184, -7312521236575599346),\n",
            " _DeviceAttributes(/job:tpu_worker/replica:0/task:0/device:TPU:5, TPU, 17179869184, 3637680324557546202),\n",
            " _DeviceAttributes(/job:tpu_worker/replica:0/task:0/device:TPU:6, TPU, 17179869184, -4078962992690875212),\n",
            " _DeviceAttributes(/job:tpu_worker/replica:0/task:0/device:TPU:7, TPU, 17179869184, 6671395205761256942)]\n"
          ],
          "name": "stdout"
        }
      ]
    },
    {
      "cell_type": "code",
      "metadata": {
        "colab": {
          "base_uri": "https://localhost:8080/"
        },
        "id": "kZExgplZxV0r",
        "outputId": "a8374539-cbf3-4144-b14b-1cf6f75ceb11"
      },
      "source": [
        "resolver = tf.distribute.cluster_resolver.TPUClusterResolver(tpu='')\n",
        "tf.config.experimental_connect_to_cluster(resolver)\n",
        "# This is the TPU initialization code that has to be at the beginning.\n",
        "tf.tpu.experimental.initialize_tpu_system(resolver)\n",
        "print(\"All devices: \", tf.config.list_logical_devices('TPU'))\n",
        "strategy = tf.distribute.TPUStrategy(resolver)"
      ],
      "execution_count": null,
      "outputs": [
        {
          "output_type": "stream",
          "text": [
            "INFO:tensorflow:Initializing the TPU system: grpc://10.82.235.242:8470\n"
          ],
          "name": "stdout"
        },
        {
          "output_type": "stream",
          "text": [
            "INFO:tensorflow:Initializing the TPU system: grpc://10.82.235.242:8470\n"
          ],
          "name": "stderr"
        },
        {
          "output_type": "stream",
          "text": [
            "INFO:tensorflow:Clearing out eager caches\n"
          ],
          "name": "stdout"
        },
        {
          "output_type": "stream",
          "text": [
            "INFO:tensorflow:Clearing out eager caches\n"
          ],
          "name": "stderr"
        },
        {
          "output_type": "stream",
          "text": [
            "INFO:tensorflow:Finished initializing TPU system.\n"
          ],
          "name": "stdout"
        },
        {
          "output_type": "stream",
          "text": [
            "INFO:tensorflow:Finished initializing TPU system.\n"
          ],
          "name": "stderr"
        },
        {
          "output_type": "stream",
          "text": [
            "All devices:  [LogicalDevice(name='/job:worker/replica:0/task:0/device:TPU:7', device_type='TPU'), LogicalDevice(name='/job:worker/replica:0/task:0/device:TPU:6', device_type='TPU'), LogicalDevice(name='/job:worker/replica:0/task:0/device:TPU:5', device_type='TPU'), LogicalDevice(name='/job:worker/replica:0/task:0/device:TPU:4', device_type='TPU'), LogicalDevice(name='/job:worker/replica:0/task:0/device:TPU:3', device_type='TPU'), LogicalDevice(name='/job:worker/replica:0/task:0/device:TPU:0', device_type='TPU'), LogicalDevice(name='/job:worker/replica:0/task:0/device:TPU:1', device_type='TPU'), LogicalDevice(name='/job:worker/replica:0/task:0/device:TPU:2', device_type='TPU')]\n",
            "INFO:tensorflow:Found TPU system:\n"
          ],
          "name": "stdout"
        },
        {
          "output_type": "stream",
          "text": [
            "INFO:tensorflow:Found TPU system:\n"
          ],
          "name": "stderr"
        },
        {
          "output_type": "stream",
          "text": [
            "INFO:tensorflow:*** Num TPU Cores: 8\n"
          ],
          "name": "stdout"
        },
        {
          "output_type": "stream",
          "text": [
            "INFO:tensorflow:*** Num TPU Cores: 8\n"
          ],
          "name": "stderr"
        },
        {
          "output_type": "stream",
          "text": [
            "INFO:tensorflow:*** Num TPU Workers: 1\n"
          ],
          "name": "stdout"
        },
        {
          "output_type": "stream",
          "text": [
            "INFO:tensorflow:*** Num TPU Workers: 1\n"
          ],
          "name": "stderr"
        },
        {
          "output_type": "stream",
          "text": [
            "INFO:tensorflow:*** Num TPU Cores Per Worker: 8\n"
          ],
          "name": "stdout"
        },
        {
          "output_type": "stream",
          "text": [
            "INFO:tensorflow:*** Num TPU Cores Per Worker: 8\n"
          ],
          "name": "stderr"
        },
        {
          "output_type": "stream",
          "text": [
            "INFO:tensorflow:*** Available Device: _DeviceAttributes(/job:localhost/replica:0/task:0/device:CPU:0, CPU, 0, 0)\n"
          ],
          "name": "stdout"
        },
        {
          "output_type": "stream",
          "text": [
            "INFO:tensorflow:*** Available Device: _DeviceAttributes(/job:localhost/replica:0/task:0/device:CPU:0, CPU, 0, 0)\n"
          ],
          "name": "stderr"
        },
        {
          "output_type": "stream",
          "text": [
            "INFO:tensorflow:*** Available Device: _DeviceAttributes(/job:worker/replica:0/task:0/device:CPU:0, CPU, 0, 0)\n"
          ],
          "name": "stdout"
        },
        {
          "output_type": "stream",
          "text": [
            "INFO:tensorflow:*** Available Device: _DeviceAttributes(/job:worker/replica:0/task:0/device:CPU:0, CPU, 0, 0)\n"
          ],
          "name": "stderr"
        },
        {
          "output_type": "stream",
          "text": [
            "INFO:tensorflow:*** Available Device: _DeviceAttributes(/job:worker/replica:0/task:0/device:TPU:0, TPU, 0, 0)\n"
          ],
          "name": "stdout"
        },
        {
          "output_type": "stream",
          "text": [
            "INFO:tensorflow:*** Available Device: _DeviceAttributes(/job:worker/replica:0/task:0/device:TPU:0, TPU, 0, 0)\n"
          ],
          "name": "stderr"
        },
        {
          "output_type": "stream",
          "text": [
            "INFO:tensorflow:*** Available Device: _DeviceAttributes(/job:worker/replica:0/task:0/device:TPU:1, TPU, 0, 0)\n"
          ],
          "name": "stdout"
        },
        {
          "output_type": "stream",
          "text": [
            "INFO:tensorflow:*** Available Device: _DeviceAttributes(/job:worker/replica:0/task:0/device:TPU:1, TPU, 0, 0)\n"
          ],
          "name": "stderr"
        },
        {
          "output_type": "stream",
          "text": [
            "INFO:tensorflow:*** Available Device: _DeviceAttributes(/job:worker/replica:0/task:0/device:TPU:2, TPU, 0, 0)\n"
          ],
          "name": "stdout"
        },
        {
          "output_type": "stream",
          "text": [
            "INFO:tensorflow:*** Available Device: _DeviceAttributes(/job:worker/replica:0/task:0/device:TPU:2, TPU, 0, 0)\n"
          ],
          "name": "stderr"
        },
        {
          "output_type": "stream",
          "text": [
            "INFO:tensorflow:*** Available Device: _DeviceAttributes(/job:worker/replica:0/task:0/device:TPU:3, TPU, 0, 0)\n"
          ],
          "name": "stdout"
        },
        {
          "output_type": "stream",
          "text": [
            "INFO:tensorflow:*** Available Device: _DeviceAttributes(/job:worker/replica:0/task:0/device:TPU:3, TPU, 0, 0)\n"
          ],
          "name": "stderr"
        },
        {
          "output_type": "stream",
          "text": [
            "INFO:tensorflow:*** Available Device: _DeviceAttributes(/job:worker/replica:0/task:0/device:TPU:4, TPU, 0, 0)\n"
          ],
          "name": "stdout"
        },
        {
          "output_type": "stream",
          "text": [
            "INFO:tensorflow:*** Available Device: _DeviceAttributes(/job:worker/replica:0/task:0/device:TPU:4, TPU, 0, 0)\n"
          ],
          "name": "stderr"
        },
        {
          "output_type": "stream",
          "text": [
            "INFO:tensorflow:*** Available Device: _DeviceAttributes(/job:worker/replica:0/task:0/device:TPU:5, TPU, 0, 0)\n"
          ],
          "name": "stdout"
        },
        {
          "output_type": "stream",
          "text": [
            "INFO:tensorflow:*** Available Device: _DeviceAttributes(/job:worker/replica:0/task:0/device:TPU:5, TPU, 0, 0)\n"
          ],
          "name": "stderr"
        },
        {
          "output_type": "stream",
          "text": [
            "INFO:tensorflow:*** Available Device: _DeviceAttributes(/job:worker/replica:0/task:0/device:TPU:6, TPU, 0, 0)\n"
          ],
          "name": "stdout"
        },
        {
          "output_type": "stream",
          "text": [
            "INFO:tensorflow:*** Available Device: _DeviceAttributes(/job:worker/replica:0/task:0/device:TPU:6, TPU, 0, 0)\n"
          ],
          "name": "stderr"
        },
        {
          "output_type": "stream",
          "text": [
            "INFO:tensorflow:*** Available Device: _DeviceAttributes(/job:worker/replica:0/task:0/device:TPU:7, TPU, 0, 0)\n"
          ],
          "name": "stdout"
        },
        {
          "output_type": "stream",
          "text": [
            "INFO:tensorflow:*** Available Device: _DeviceAttributes(/job:worker/replica:0/task:0/device:TPU:7, TPU, 0, 0)\n"
          ],
          "name": "stderr"
        },
        {
          "output_type": "stream",
          "text": [
            "INFO:tensorflow:*** Available Device: _DeviceAttributes(/job:worker/replica:0/task:0/device:TPU_SYSTEM:0, TPU_SYSTEM, 0, 0)\n"
          ],
          "name": "stdout"
        },
        {
          "output_type": "stream",
          "text": [
            "INFO:tensorflow:*** Available Device: _DeviceAttributes(/job:worker/replica:0/task:0/device:TPU_SYSTEM:0, TPU_SYSTEM, 0, 0)\n"
          ],
          "name": "stderr"
        },
        {
          "output_type": "stream",
          "text": [
            "INFO:tensorflow:*** Available Device: _DeviceAttributes(/job:worker/replica:0/task:0/device:XLA_CPU:0, XLA_CPU, 0, 0)\n"
          ],
          "name": "stdout"
        },
        {
          "output_type": "stream",
          "text": [
            "INFO:tensorflow:*** Available Device: _DeviceAttributes(/job:worker/replica:0/task:0/device:XLA_CPU:0, XLA_CPU, 0, 0)\n"
          ],
          "name": "stderr"
        }
      ]
    },
    {
      "cell_type": "code",
      "metadata": {
        "colab": {
          "base_uri": "https://localhost:8080/"
        },
        "id": "6NknehzexXw9",
        "outputId": "1367fced-cdba-4295-f745-240895123292"
      },
      "source": [
        "!wget https://dl.fbaipublicfiles.com/fasttext/vectors-english/wiki-news-300d-1M.vec.zip"
      ],
      "execution_count": null,
      "outputs": [
        {
          "output_type": "stream",
          "text": [
            "--2021-06-16 07:49:40--  https://dl.fbaipublicfiles.com/fasttext/vectors-english/wiki-news-300d-1M.vec.zip\n",
            "Resolving dl.fbaipublicfiles.com (dl.fbaipublicfiles.com)... 172.67.9.4, 104.22.75.142, 104.22.74.142, ...\n",
            "Connecting to dl.fbaipublicfiles.com (dl.fbaipublicfiles.com)|172.67.9.4|:443... connected.\n",
            "HTTP request sent, awaiting response... 200 OK\n",
            "Length: 681808098 (650M) [application/zip]\n",
            "Saving to: ‘wiki-news-300d-1M.vec.zip’\n",
            "\n",
            "wiki-news-300d-1M.v 100%[===================>] 650.22M  28.1MB/s    in 23s     \n",
            "\n",
            "2021-06-16 07:50:04 (27.7 MB/s) - ‘wiki-news-300d-1M.vec.zip’ saved [681808098/681808098]\n",
            "\n"
          ],
          "name": "stdout"
        }
      ]
    },
    {
      "cell_type": "code",
      "metadata": {
        "colab": {
          "base_uri": "https://localhost:8080/"
        },
        "id": "yapyB_l0xZlt",
        "outputId": "33467e7c-1bf1-4a20-a393-9014bae03862"
      },
      "source": [
        "!unzip wiki-news-300d-1M.vec.zip"
      ],
      "execution_count": null,
      "outputs": [
        {
          "output_type": "stream",
          "text": [
            "Archive:  wiki-news-300d-1M.vec.zip\n",
            "  inflating: wiki-news-300d-1M.vec   \n"
          ],
          "name": "stdout"
        }
      ]
    },
    {
      "cell_type": "code",
      "metadata": {
        "id": "Ge5vCdiWxbXH"
      },
      "source": [
        "class FasttextModels:\n",
        "  def __init__(self,path):\n",
        "    df = pd.read_csv(path)\n",
        "    df['text'] = df['text'].apply(lambda x: str(x))\n",
        "    self.dfs_train = df[df['kfold']!=0]\n",
        "    self.dfs_valid = df[df['kfold']==0]\n",
        "\n",
        "\n",
        "\n",
        "  def process(self):\n",
        "    self.read_fasttext()\n",
        "    self.data_per_fold_fasttext()\n",
        "    return self.fasttext_wt,self.lls\n",
        "    \n",
        "\n",
        "  def read_fasttext(self):\n",
        "      embeddings_index = {}\n",
        "      f = codecs.open('wiki-news-300d-1M.vec', encoding='utf-8')\n",
        "      for line in f:\n",
        "          values = line.rstrip().rsplit(' ')\n",
        "          word = values[0]\n",
        "          coefs = np.asarray(values[1:], dtype='float32')\n",
        "          embeddings_index[word] = coefs\n",
        "      f.close()\n",
        "      print('found %s word vectors' % len(embeddings_index))\n",
        "      self.fasttext_embeddings_index = embeddings_index\n",
        "  \n",
        "  def data_per_fold_fasttext(self):\n",
        "      # self.data_fasttext = {}\n",
        "      embed_dim = 300\n",
        "      self.data_fasttext = self.create_fasttext_embedding_matrix(embed_dim)\n",
        "\n",
        "  def create_fasttext_embedding_matrix(self,embed_dim):\n",
        "      train = self.dfs_train\n",
        "      test = self.dfs_valid\n",
        "      x_train = train.text.values\n",
        "      y_train = train.lbl_num.values\n",
        "      x_test = test.text.values\n",
        "      y_test = test.lbl_num.values\n",
        "      word_tokenizer = Tokenizer(num_words = 50000,oov_token=\"<OOV>\")\n",
        "      word_tokenizer.fit_on_texts(x_train)\n",
        "      vocab_length = len(word_tokenizer.word_index) + 1\n",
        "      x_train_emb = word_tokenizer.texts_to_sequences(x_train)\n",
        "      x_test_emb = word_tokenizer.texts_to_sequences(x_test)\n",
        "      \n",
        "      word_count = lambda sentence: len(word_tokenize(sentence))\n",
        "      longest_sentence = max(np.concatenate((x_train,x_test),axis = 0), key=word_count)\n",
        "      length_long_sentence = len(word_tokenize(longest_sentence))\n",
        "\n",
        "      self.fasttext_wt = word_tokenizer\n",
        "      self.lls = length_long_sentence\n",
        "      x_train_padded = pad_sequences(x_train_emb, length_long_sentence, padding='post',truncating = 'post')\n",
        "      x_test_padded = pad_sequences(x_test_emb, length_long_sentence, padding='post',truncating = 'post')\n",
        "\n",
        "      # encoded_Y_tr = self.encoder.fit_transform(y_train)\n",
        "      # encoded_Y_ts = self.encoder.fit_transform(y_test)\n",
        "      dummy_y_tr = np_utils.to_categorical(y_train)\n",
        "      dummy_y_ts = np_utils.to_categorical(y_test)\n",
        "      # self.df_labels = pd.DataFrame.from_dict({'y_train':y_train,'y_test':y_test,'dummy_tr':dummy_y_tr,'dummy_y_ts':dummy_y_ts})\n",
        "\n",
        "      embedding_matrix = np.zeros((vocab_length, embed_dim))\n",
        "      for word, index in word_tokenizer.word_index.items():\n",
        "          embedding_vector = self.fasttext_embeddings_index.get(word)\n",
        "          if embedding_vector is not None:\n",
        "              embedding_matrix[index] = embedding_vector\n",
        "\n",
        "      # print(x_train_padded)\n",
        "      # print(x_test_padded)\n",
        "      return ((tf.convert_to_tensor(x_train_padded,np.int32),tf.convert_to_tensor(dummy_y_tr,np.float32)),(tf.convert_to_tensor(x_test_padded,np.int32),tf.convert_to_tensor(dummy_y_ts,np.float32)),(vocab_length,embedding_matrix,embed_dim,length_long_sentence))\n",
        "\n",
        "  def CONV1D(self,v):\n",
        "      data = self.data_fasttext\n",
        "      x_tr,y_tr = data[0]\n",
        "      x_ts,y_ts = data[1]\n",
        "      vl,mat,dim,len_sen = data[2]\n",
        "      \n",
        "      \n",
        "      with strategy.scope():\n",
        "          model = tf.keras.models.Sequential([\n",
        "              tf.keras.layers.Embedding(vl,dim,weights=[mat],input_length=len_sen,trainable=False,name=\"FT_300D_CONV1D_embedding\"),\n",
        "              # tf.keras.layers.Embedding(vl,dim,weights=[mat],input_length=len_sen,trainable=False,name=\"GL_200_CONV1D_embedding\"),\n",
        "              # tf.keras.layers.Embedding(vl,dim,weights=[mat],input_length=len_sen,trainable=False,name=\"FT_300_CONV1D_embedding\"),\n",
        "              tf.keras.layers.Conv1D(32,3,activation='relu'),\n",
        "              tf.keras.layers.MaxPool1D(),\n",
        "              tf.keras.layers.Conv1D(32,3,activation='relu'),\n",
        "              tf.keras.layers.MaxPool1D(),\n",
        "              tf.keras.layers.Conv1D(32,3,activation='relu'),\n",
        "              tf.keras.layers.MaxPool1D(),\n",
        "              tf.keras.layers.Dropout(0.5),\n",
        "              tf.keras.layers.Flatten(),\n",
        "              tf.keras.layers.Dense(512, activation='sigmoid'),\n",
        "              tf.keras.layers.Dense(256, activation='sigmoid'),\n",
        "              tf.keras.layers.Dense(128, activation='sigmoid'),\n",
        "              tf.keras.layers.Dense(64, activation='sigmoid'),\n",
        "              tf.keras.layers.Dense(v, activation='softmax')])\n",
        "\n",
        "          model.compile(loss='categorical_crossentropy',\n",
        "          optimizer=tf.keras.optimizers.Adam(),\n",
        "          metrics=['accuracy'])\n",
        "      # x = model.to_json()\n",
        "      print(\"\\n CONV1D \\n\")\n",
        "      model.summary()\n",
        "      his = model.fit(x = x_tr,y=y_tr,validation_data=(x_ts,y_ts),epochs=100,callbacks=[EarlyStopping(monitor='val_loss',patience=2),ModelCheckpoint(filepath='/content/drive/MyDrive/FT_300/sentiment/sentiment_CONV1D.h5', monitor='val_loss', save_best_only=True)])\n",
        "      # y_pred = model.predict(x_ts)\n",
        "      return model,his#,accuracy_score(y_ts,y_pred)\n",
        "\n",
        "\n",
        "\n",
        "  def CONV1D_BiLSTM(self,v):\n",
        "      data = self.data_fasttext\n",
        "      x_tr,y_tr = data[0]\n",
        "      x_ts,y_ts = data[1]\n",
        "      vl,mat,dim,len_sen = data[2]\n",
        "      \n",
        "      with strategy.scope():\n",
        "          model = tf.keras.models.Sequential([\n",
        "              # tf.keras.layers.Embedding(vl,dim,weights=[mat],input_length=len_sen,trainable=False,name=\"GL_200_CONV1D_BiLSTM_embedding\"),\n",
        "              tf.keras.layers.Embedding(vl,dim,weights=[mat],input_length=len_sen,trainable=False,name=\"FT_300D_CONV1D_BiLSTM_embedding\"),\n",
        "              # tf.keras.layers.Embedding(vl,dim,weights=[mat],input_length=len_sen,trainable=False,name=\"FT_300_CONV1D_BiLSTM_embedding\"),\n",
        "              tf.keras.layers.Conv1D(32,3,activation='relu'),\n",
        "              tf.keras.layers.MaxPool1D(),\n",
        "              tf.keras.layers.Conv1D(32,3,activation='relu'),\n",
        "              tf.keras.layers.MaxPool1D(),\n",
        "              tf.keras.layers.Conv1D(32,3,activation='relu'),\n",
        "              tf.keras.layers.MaxPool1D(),\n",
        "              # tf.keras.layers.Dropout(0.5),\n",
        "              tf.keras.layers.Bidirectional(tf.keras.layers.LSTM(16,return_sequences=True, dropout=0.2, recurrent_dropout=0.3)),\n",
        "              tf.keras.layers.Flatten(),\n",
        "              tf.keras.layers.Dense(512, activation='sigmoid'),\n",
        "              tf.keras.layers.Dense(256, activation='sigmoid'),\n",
        "              tf.keras.layers.Dense(128, activation='sigmoid'),\n",
        "              tf.keras.layers.Dense(64, activation='sigmoid'),\n",
        "              tf.keras.layers.Dense(v, activation='softmax')])\n",
        "\n",
        "          model.compile(loss='categorical_crossentropy',\n",
        "          optimizer=tf.keras.optimizers.Adam(),\n",
        "          metrics=['accuracy'])\n",
        "      # x = model.to_json()\n",
        "      print(\"\\n CONV1D BiLSTM \\n\")\n",
        "      model.summary()\n",
        "      his = model.fit(x = x_tr,y=y_tr,validation_data=(x_ts,y_ts),epochs=100,callbacks=[EarlyStopping(monitor='val_loss',patience=2),ModelCheckpoint(filepath='/content/drive/MyDrive/FT_300/sentiment/sentiment_CONV1D_BiLSTM.h5', monitor='val_loss', save_best_only=True)])\n",
        "      # y_pred = model.predict(x_ts)\n",
        "      return model,his #,accuracy_score(y_ts,y_pred)\n",
        "\n",
        "\n",
        "    \n",
        "  \n",
        "  def BiGRU(self,v):\n",
        "      data = self.data_fasttext\n",
        "      x_tr,y_tr = data[0]\n",
        "      x_ts,y_ts = data[1]\n",
        "      vl,mat,dim,len_sen = data[2]\n",
        "      \n",
        "      \n",
        "      with strategy.scope():\n",
        "          model = tf.keras.models.Sequential([\n",
        "              tf.keras.layers.Embedding(vl,dim,weights=[mat],input_length=len_sen,trainable=False,name=\"FT_300D_BiGRU_embedding\"),\n",
        "              # tf.keras.layers.Embedding(vl,dim,weights=[mat],input_length=len_sen,trainable=False,name=\"GL_200_BiGRU_embedding\"),\n",
        "              # tf.keras.layers.Embedding(vl,dim,weights=[mat],input_length=len_sen,trainable=False,name=\"FT_300_BiGRU_embedding\"),\n",
        "              # tf.keras.layers.SeparableConv1D(32,3,activation='relu'),\n",
        "              # tf.keras.layers.MaxPool1D(),\n",
        "              # tf.keras.layers.SeparableConv1D(32,3,activation='relu'),\n",
        "              # tf.keras.layers.MaxPool1D(),\n",
        "              # tf.keras.layers.SeparableConv1D(32,3,activation='relu'),\n",
        "              # tf.keras.layers.MaxPool1D(),\n",
        "              # tf.keras.layers.Dropout(0.5),\n",
        "              tf.keras.layers.Bidirectional(tf.keras.layers.GRU(16,return_sequences=True, dropout=0.2, recurrent_dropout=0.3)),\n",
        "              tf.keras.layers.Flatten(),\n",
        "              tf.keras.layers.Dense(512, activation='sigmoid'),\n",
        "              tf.keras.layers.Dense(256, activation='sigmoid'),\n",
        "              tf.keras.layers.Dense(128, activation='sigmoid'),\n",
        "              tf.keras.layers.Dense(64, activation='sigmoid'),\n",
        "              tf.keras.layers.Dense(v, activation='softmax')])\n",
        "\n",
        "          model.compile(loss='categorical_crossentropy',\n",
        "          optimizer=tf.keras.optimizers.Adam(),\n",
        "          metrics=['accuracy'])\n",
        "      # x = model.to_json()\n",
        "      print(\"\\n BiGRU \\n\")\n",
        "      model.summary()\n",
        "      his = model.fit(x = x_tr,y=y_tr,validation_data=(x_ts,y_ts),epochs=100,callbacks=[EarlyStopping(monitor='val_loss',patience=2),ModelCheckpoint(filepath='/content/drive/MyDrive/FT_300/sentiment/sentiment_BiGRU.h5', monitor='val_loss', save_best_only=True)])\n",
        "      # y_pred = model.predict(x_ts)\n",
        "      return model,his #,accuracy_score(y_ts,y_pred)\n",
        "      \n",
        "  def BiLSTM(self,v):\n",
        "    data = self.data_fasttext\n",
        "    x_tr,y_tr = data[0]\n",
        "    x_ts,y_ts = data[1]\n",
        "    vl,mat,dim,len_sen = data[2]\n",
        "    \n",
        "    with strategy.scope():\n",
        "        model = tf.keras.models.Sequential([\n",
        "            tf.keras.layers.Embedding(vl,dim,weights=[mat],input_length=len_sen,trainable=False,name=\"FT_300D_BiLSTM_embedding\"),\n",
        "            # tf.keras.layers.Embedding(vl,dim,weights=[mat],input_length=len_sen,trainable=False,name=\"GL_200_BiLSTM_embedding\"),\n",
        "            # tf.keras.layers.Embedding(vl,dim,weights=[mat],input_length=len_sen,trainable=False,name=\"FT_300_BiLSTM_embedding\"),\n",
        "            # tf.keras.layers.SeparableConv1D(32,3,activation='relu'),\n",
        "            # tf.keras.layers.MaxPool1D(),\n",
        "            # tf.keras.layers.SeparableConv1D(32,3,activation='relu'),\n",
        "            # tf.keras.layers.MaxPool1D(),\n",
        "            # tf.keras.layers.SeparableConv1D(32,3,activation='relu'),\n",
        "            # tf.keras.layers.MaxPool1D(),\n",
        "            # tf.keras.layers.Dropout(0.5),\n",
        "            tf.keras.layers.Bidirectional(tf.keras.layers.LSTM(16,return_sequences=True, dropout=0.2, recurrent_dropout=0.3)),\n",
        "            tf.keras.layers.Flatten(),\n",
        "            tf.keras.layers.Dense(512, activation='sigmoid'),\n",
        "            tf.keras.layers.Dense(256, activation='sigmoid'),\n",
        "            tf.keras.layers.Dense(128, activation='sigmoid'),\n",
        "            tf.keras.layers.Dense(64, activation='sigmoid'),\n",
        "            # tf.keras.layers.Dense(5, activation='softmax')\n",
        "            tf.keras.layers.Dense(v, activation='softmax')])\n",
        "\n",
        "        model.compile(loss='categorical_crossentropy',\n",
        "        optimizer=tf.keras.optimizers.Adam(),\n",
        "        metrics=['accuracy'])\n",
        "\n",
        "    print(\"\\n BiLSTM \\n\")\n",
        "    model.summary()\n",
        "    his = model.fit(x = x_tr,y=y_tr,validation_data=(x_ts,y_ts),epochs=100,callbacks=[EarlyStopping(monitor='val_loss',patience=2),ModelCheckpoint(filepath='/content/drive/MyDrive/FT_300/sentiment/sentiment_BiLSTM.h5', monitor='val_loss', save_best_only=True)])\n",
        "    # y_pred = model.predict(x_ts)\n",
        "    return model,his#,accuracy_score(y_ts,y_pred)\n",
        "\n",
        "  def SEP_CONV1D(self,v):\n",
        "      data = self.data_fasttext\n",
        "      x_tr,y_tr = data[0]\n",
        "      x_ts,y_ts = data[1]\n",
        "      vl,mat,dim,len_sen = data[2]\n",
        "      \n",
        "      with strategy.scope():\n",
        "          model = tf.keras.models.Sequential([\n",
        "              tf.keras.layers.Embedding(vl,dim,weights=[mat],input_length=len_sen,trainable=False,name=\"FT_300D_SEP_CONV1D_embedding\"),\n",
        "              # tf.keras.layers.Embedding(vl,dim,weights=[mat],input_length=len_sen,trainable=False,name=\"GL_200_SEP_CONV1D_embedding\"),\n",
        "              # tf.keras.layers.Embedding(vl,dim,weights=[mat],input_length=len_sen,trainable=False,name=\"FT_300_SEP_CONV1D_embedding\"),\n",
        "              tf.keras.layers.SeparableConv1D(32,3,activation='relu'),\n",
        "              tf.keras.layers.MaxPool1D(),\n",
        "              tf.keras.layers.SeparableConv1D(32,3,activation='relu'),\n",
        "              tf.keras.layers.MaxPool1D(),\n",
        "              tf.keras.layers.SeparableConv1D(32,3,activation='relu'),\n",
        "              tf.keras.layers.MaxPool1D(),\n",
        "              tf.keras.layers.Dropout(0.5),\n",
        "              tf.keras.layers.Flatten(),\n",
        "              tf.keras.layers.Dense(512, activation='sigmoid'),\n",
        "              tf.keras.layers.Dense(256, activation='sigmoid'),\n",
        "              tf.keras.layers.Dense(128, activation='sigmoid'),\n",
        "              tf.keras.layers.Dense(64, activation='sigmoid'),\n",
        "              tf.keras.layers.Dense(v, activation='softmax')])\n",
        "\n",
        "          model.compile(loss='categorical_crossentropy',\n",
        "          optimizer=tf.keras.optimizers.Adam(),\n",
        "          metrics=['accuracy'])\n",
        "      # x = model.to_json()\n",
        "      print(\"\\n SEPERABLE CONV1D \\n\")\n",
        "      model.summary()\n",
        "      his = model.fit(x = x_tr,y=y_tr,validation_data=(x_ts,y_ts),epochs=100,callbacks=[EarlyStopping(monitor='val_loss',patience=2),ModelCheckpoint(filepath='/content/drive/MyDrive/FT_300/sentiment/sentiment_SEP_CONV1D.h5', monitor='val_loss', save_best_only=True)])\n",
        "      # y_pred = model.predict(x_ts)\n",
        "      return model,his\n"
      ],
      "execution_count": null,
      "outputs": []
    },
    {
      "cell_type": "code",
      "metadata": {
        "colab": {
          "base_uri": "https://localhost:8080/"
        },
        "id": "tgTMt8vxxsZb",
        "outputId": "66ed17de-7ab1-466f-e871-5dbe13951fa6"
      },
      "source": [
        "sent_models = {}\n",
        "sent_models_clf = FasttextModels('/content/drive/MyDrive/datasets/tr_sen_fin.csv')\n",
        "sent_param_fasttext = {}\n",
        "sent_param_fasttext['Tokenizer'],sent_param_fasttext['long_sen_num'] = sent_models_clf.process()\n",
        "# sent_models['CONV1D'] = sent_models_clf.CONV1D(5)\n",
        "# sent_models['CONV1D_BiLSTM'] = sent_models_clf.CONV1D_BiLSTM(5)\n",
        "# # # sent_models['CONV1D_BiGRU'] = sent_models_clf.CONV1D_BiGRU(2)\n",
        "# sent_models['BiLSTM'] = sent_models_clf.BiLSTM(5)\n",
        "# sent_models['BiGRU'] = sent_models_clf.BiGRU(5)\n",
        "sent_models['SEP_CONV1D'] = sent_models_clf.SEP_CONV1D(5)\n"
      ],
      "execution_count": null,
      "outputs": [
        {
          "output_type": "stream",
          "text": [
            "found 999995 word vectors\n",
            "\n",
            " SEPERABLE CONV1D \n",
            "\n",
            "Model: \"sequential_4\"\n",
            "_________________________________________________________________\n",
            "Layer (type)                 Output Shape              Param #   \n",
            "=================================================================\n",
            "FT_300D_SEP_CONV1D_embedding (None, 163, 300)          41135100  \n",
            "_________________________________________________________________\n",
            "separable_conv1d (SeparableC (None, 161, 32)           10532     \n",
            "_________________________________________________________________\n",
            "max_pooling1d_6 (MaxPooling1 (None, 80, 32)            0         \n",
            "_________________________________________________________________\n",
            "separable_conv1d_1 (Separabl (None, 78, 32)            1152      \n",
            "_________________________________________________________________\n",
            "max_pooling1d_7 (MaxPooling1 (None, 39, 32)            0         \n",
            "_________________________________________________________________\n",
            "separable_conv1d_2 (Separabl (None, 37, 32)            1152      \n",
            "_________________________________________________________________\n",
            "max_pooling1d_8 (MaxPooling1 (None, 18, 32)            0         \n",
            "_________________________________________________________________\n",
            "dropout_1 (Dropout)          (None, 18, 32)            0         \n",
            "_________________________________________________________________\n",
            "flatten_4 (Flatten)          (None, 576)               0         \n",
            "_________________________________________________________________\n",
            "dense_20 (Dense)             (None, 512)               295424    \n",
            "_________________________________________________________________\n",
            "dense_21 (Dense)             (None, 256)               131328    \n",
            "_________________________________________________________________\n",
            "dense_22 (Dense)             (None, 128)               32896     \n",
            "_________________________________________________________________\n",
            "dense_23 (Dense)             (None, 64)                8256      \n",
            "_________________________________________________________________\n",
            "dense_24 (Dense)             (None, 5)                 325       \n",
            "=================================================================\n",
            "Total params: 41,616,165\n",
            "Trainable params: 481,065\n",
            "Non-trainable params: 41,135,100\n",
            "_________________________________________________________________\n",
            "Epoch 1/100\n",
            "17250/17250 [==============================] - 217s 12ms/step - loss: 0.8739 - accuracy: 0.6606 - val_loss: 0.6783 - val_accuracy: 0.7604\n",
            "Epoch 2/100\n",
            "17250/17250 [==============================] - 214s 12ms/step - loss: 0.6752 - accuracy: 0.7621 - val_loss: 0.6458 - val_accuracy: 0.7759\n",
            "Epoch 3/100\n",
            "17250/17250 [==============================] - 215s 12ms/step - loss: 0.6466 - accuracy: 0.7736 - val_loss: 0.6268 - val_accuracy: 0.7833\n",
            "Epoch 4/100\n",
            "17250/17250 [==============================] - 216s 12ms/step - loss: 0.6295 - accuracy: 0.7800 - val_loss: 0.6237 - val_accuracy: 0.7842\n",
            "Epoch 5/100\n",
            "17250/17250 [==============================] - 219s 13ms/step - loss: 0.6159 - accuracy: 0.7846 - val_loss: 0.5932 - val_accuracy: 0.7920\n",
            "Epoch 6/100\n",
            "17250/17250 [==============================] - 216s 13ms/step - loss: 0.5998 - accuracy: 0.7895 - val_loss: 0.6079 - val_accuracy: 0.7810\n",
            "Epoch 7/100\n",
            "17250/17250 [==============================] - 216s 12ms/step - loss: 0.5884 - accuracy: 0.7927 - val_loss: 0.5825 - val_accuracy: 0.7935\n",
            "Epoch 8/100\n",
            "17250/17250 [==============================] - 217s 13ms/step - loss: 0.5815 - accuracy: 0.7950 - val_loss: 0.5770 - val_accuracy: 0.7968\n",
            "Epoch 9/100\n",
            "17250/17250 [==============================] - 216s 13ms/step - loss: 0.5749 - accuracy: 0.7976 - val_loss: 0.5754 - val_accuracy: 0.7963\n",
            "Epoch 10/100\n",
            "17250/17250 [==============================] - 217s 13ms/step - loss: 0.5705 - accuracy: 0.7993 - val_loss: 0.5767 - val_accuracy: 0.7923\n",
            "Epoch 11/100\n",
            "17250/17250 [==============================] - 215s 12ms/step - loss: 0.5662 - accuracy: 0.8006 - val_loss: 0.5636 - val_accuracy: 0.8025\n",
            "Epoch 12/100\n",
            "17250/17250 [==============================] - 216s 13ms/step - loss: 0.5623 - accuracy: 0.8019 - val_loss: 0.5650 - val_accuracy: 0.7988\n",
            "Epoch 13/100\n",
            "17250/17250 [==============================] - 216s 13ms/step - loss: 0.5595 - accuracy: 0.8030 - val_loss: 0.5780 - val_accuracy: 0.7970\n"
          ],
          "name": "stdout"
        }
      ]
    },
    {
      "cell_type": "code",
      "metadata": {
        "id": "M3ezrDOTxvCo"
      },
      "source": [
        "import pickle\n",
        "with open('/content/drive/MyDrive/FT_300/sentiment/sentiment_params.pickle','wb') as f:\n",
        "  pickle.dump(sent_param_fasttext,f)"
      ],
      "execution_count": null,
      "outputs": []
    }
  ]
}