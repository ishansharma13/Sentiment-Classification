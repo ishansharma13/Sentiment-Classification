{
  "nbformat": 4,
  "nbformat_minor": 0,
  "metadata": {
    "colab": {
      "name": "FASTTEXT SENTIMENT.ipynb",
      "provenance": []
    },
    "kernelspec": {
      "name": "python3",
      "display_name": "Python 3"
    },
    "language_info": {
      "name": "python"
    },
    "accelerator": "TPU"
  },
  "cells": [
    {
      "cell_type": "code",
      "metadata": {
        "colab": {
          "base_uri": "https://localhost:8080/"
        },
        "id": "9F7sUwhCsqb_",
        "outputId": "3595f4c1-373f-4a46-88d1-dadc557b138f"
      },
      "source": [
        "from google.colab import drive\n",
        "from tensorflow import keras\n",
        "from keras.preprocessing.text import Tokenizer\n",
        "from keras.preprocessing.sequence import pad_sequences\n",
        "import tensorflow as tf\n",
        "import numpy as np\n",
        "import pandas as pd\n",
        "from sklearn.preprocessing import LabelEncoder\n",
        "from keras.utils import np_utils\n",
        "from keras.callbacks import EarlyStopping\n",
        "from sklearn import model_selection\n",
        "from nltk.tokenize import word_tokenize\n",
        "import nltk\n",
        "from sklearn.metrics import accuracy_score\n",
        "nltk.download('punkt')\n",
        "import codecs"
      ],
      "execution_count": null,
      "outputs": [
        {
          "output_type": "stream",
          "text": [
            "[nltk_data] Downloading package punkt to /root/nltk_data...\n",
            "[nltk_data]   Unzipping tokenizers/punkt.zip.\n"
          ],
          "name": "stdout"
        }
      ]
    },
    {
      "cell_type": "code",
      "metadata": {
        "colab": {
          "base_uri": "https://localhost:8080/"
        },
        "id": "BD4-bhSWswyy",
        "outputId": "df90fe34-e7b4-4fbe-da70-cd406d8f067d"
      },
      "source": [
        "drive.mount('/content/drive')"
      ],
      "execution_count": null,
      "outputs": [
        {
          "output_type": "stream",
          "text": [
            "Mounted at /content/drive\n"
          ],
          "name": "stdout"
        }
      ]
    },
    {
      "cell_type": "code",
      "metadata": {
        "colab": {
          "base_uri": "https://localhost:8080/"
        },
        "id": "6mNxsTjWs57u",
        "outputId": "e61d1d8a-eaf0-473f-c7d5-0520505dffd5"
      },
      "source": [
        "import os\n",
        "import pprint # for pretty printing our device stats\n",
        "\n",
        "if 'COLAB_TPU_ADDR' not in os.environ:\n",
        "    print('ERROR: Not connected to a TPU runtime; please see the first cell in this notebook for instructions!')\n",
        "else:\n",
        "    tpu_address = 'grpc://' + os.environ['COLAB_TPU_ADDR']\n",
        "    print ('TPU address is', tpu_address)\n",
        "\n",
        "    with tf.compat.v1.Session(tpu_address) as session:\n",
        "      devices = session.list_devices()\n",
        "\n",
        "    print('TPU devices:')\n",
        "    pprint.pprint(devices)"
      ],
      "execution_count": null,
      "outputs": [
        {
          "output_type": "stream",
          "text": [
            "TPU address is grpc://10.71.72.106:8470\n",
            "TPU devices:\n",
            "[_DeviceAttributes(/job:tpu_worker/replica:0/task:0/device:CPU:0, CPU, -1, 6145056503130899981),\n",
            " _DeviceAttributes(/job:tpu_worker/replica:0/task:0/device:TPU_SYSTEM:0, TPU_SYSTEM, 8589934592, 2583947746098275243),\n",
            " _DeviceAttributes(/job:tpu_worker/replica:0/task:0/device:XLA_CPU:0, XLA_CPU, 17179869184, -3651025924268971260),\n",
            " _DeviceAttributes(/job:tpu_worker/replica:0/task:0/device:TPU:0, TPU, 17179869184, -6469696853502400923),\n",
            " _DeviceAttributes(/job:tpu_worker/replica:0/task:0/device:TPU:1, TPU, 17179869184, 3514717218816381940),\n",
            " _DeviceAttributes(/job:tpu_worker/replica:0/task:0/device:TPU:2, TPU, 17179869184, -219972069111696133),\n",
            " _DeviceAttributes(/job:tpu_worker/replica:0/task:0/device:TPU:3, TPU, 17179869184, -1250983248452068403),\n",
            " _DeviceAttributes(/job:tpu_worker/replica:0/task:0/device:TPU:4, TPU, 17179869184, 1816859983468790401),\n",
            " _DeviceAttributes(/job:tpu_worker/replica:0/task:0/device:TPU:5, TPU, 17179869184, 1240939413911449912),\n",
            " _DeviceAttributes(/job:tpu_worker/replica:0/task:0/device:TPU:6, TPU, 17179869184, 8793999997330172815),\n",
            " _DeviceAttributes(/job:tpu_worker/replica:0/task:0/device:TPU:7, TPU, 17179869184, -4819462070689701771)]\n"
          ],
          "name": "stdout"
        }
      ]
    },
    {
      "cell_type": "code",
      "metadata": {
        "colab": {
          "base_uri": "https://localhost:8080/"
        },
        "id": "QbNsesf9tANu",
        "outputId": "99ba6ae7-679d-4a60-edf4-70161bff2d19"
      },
      "source": [
        "resolver = tf.distribute.cluster_resolver.TPUClusterResolver(tpu='')\n",
        "tf.config.experimental_connect_to_cluster(resolver)\n",
        "# This is the TPU initialization code that has to be at the beginning.\n",
        "tf.tpu.experimental.initialize_tpu_system(resolver)\n",
        "print(\"All devices: \", tf.config.list_logical_devices('TPU'))\n",
        "strategy = tf.distribute.TPUStrategy(resolver)"
      ],
      "execution_count": null,
      "outputs": [
        {
          "output_type": "stream",
          "text": [
            "INFO:tensorflow:Initializing the TPU system: grpc://10.71.72.106:8470\n"
          ],
          "name": "stdout"
        },
        {
          "output_type": "stream",
          "text": [
            "INFO:tensorflow:Initializing the TPU system: grpc://10.71.72.106:8470\n"
          ],
          "name": "stderr"
        },
        {
          "output_type": "stream",
          "text": [
            "INFO:tensorflow:Clearing out eager caches\n"
          ],
          "name": "stdout"
        },
        {
          "output_type": "stream",
          "text": [
            "INFO:tensorflow:Clearing out eager caches\n"
          ],
          "name": "stderr"
        },
        {
          "output_type": "stream",
          "text": [
            "INFO:tensorflow:Finished initializing TPU system.\n"
          ],
          "name": "stdout"
        },
        {
          "output_type": "stream",
          "text": [
            "INFO:tensorflow:Finished initializing TPU system.\n"
          ],
          "name": "stderr"
        },
        {
          "output_type": "stream",
          "text": [
            "All devices:  [LogicalDevice(name='/job:worker/replica:0/task:0/device:TPU:7', device_type='TPU'), LogicalDevice(name='/job:worker/replica:0/task:0/device:TPU:6', device_type='TPU'), LogicalDevice(name='/job:worker/replica:0/task:0/device:TPU:5', device_type='TPU'), LogicalDevice(name='/job:worker/replica:0/task:0/device:TPU:4', device_type='TPU'), LogicalDevice(name='/job:worker/replica:0/task:0/device:TPU:3', device_type='TPU'), LogicalDevice(name='/job:worker/replica:0/task:0/device:TPU:0', device_type='TPU'), LogicalDevice(name='/job:worker/replica:0/task:0/device:TPU:1', device_type='TPU'), LogicalDevice(name='/job:worker/replica:0/task:0/device:TPU:2', device_type='TPU')]\n",
            "INFO:tensorflow:Found TPU system:\n"
          ],
          "name": "stdout"
        },
        {
          "output_type": "stream",
          "text": [
            "INFO:tensorflow:Found TPU system:\n"
          ],
          "name": "stderr"
        },
        {
          "output_type": "stream",
          "text": [
            "INFO:tensorflow:*** Num TPU Cores: 8\n"
          ],
          "name": "stdout"
        },
        {
          "output_type": "stream",
          "text": [
            "INFO:tensorflow:*** Num TPU Cores: 8\n"
          ],
          "name": "stderr"
        },
        {
          "output_type": "stream",
          "text": [
            "INFO:tensorflow:*** Num TPU Workers: 1\n"
          ],
          "name": "stdout"
        },
        {
          "output_type": "stream",
          "text": [
            "INFO:tensorflow:*** Num TPU Workers: 1\n"
          ],
          "name": "stderr"
        },
        {
          "output_type": "stream",
          "text": [
            "INFO:tensorflow:*** Num TPU Cores Per Worker: 8\n"
          ],
          "name": "stdout"
        },
        {
          "output_type": "stream",
          "text": [
            "INFO:tensorflow:*** Num TPU Cores Per Worker: 8\n"
          ],
          "name": "stderr"
        },
        {
          "output_type": "stream",
          "text": [
            "INFO:tensorflow:*** Available Device: _DeviceAttributes(/job:localhost/replica:0/task:0/device:CPU:0, CPU, 0, 0)\n"
          ],
          "name": "stdout"
        },
        {
          "output_type": "stream",
          "text": [
            "INFO:tensorflow:*** Available Device: _DeviceAttributes(/job:localhost/replica:0/task:0/device:CPU:0, CPU, 0, 0)\n"
          ],
          "name": "stderr"
        },
        {
          "output_type": "stream",
          "text": [
            "INFO:tensorflow:*** Available Device: _DeviceAttributes(/job:worker/replica:0/task:0/device:CPU:0, CPU, 0, 0)\n"
          ],
          "name": "stdout"
        },
        {
          "output_type": "stream",
          "text": [
            "INFO:tensorflow:*** Available Device: _DeviceAttributes(/job:worker/replica:0/task:0/device:CPU:0, CPU, 0, 0)\n"
          ],
          "name": "stderr"
        },
        {
          "output_type": "stream",
          "text": [
            "INFO:tensorflow:*** Available Device: _DeviceAttributes(/job:worker/replica:0/task:0/device:TPU:0, TPU, 0, 0)\n"
          ],
          "name": "stdout"
        },
        {
          "output_type": "stream",
          "text": [
            "INFO:tensorflow:*** Available Device: _DeviceAttributes(/job:worker/replica:0/task:0/device:TPU:0, TPU, 0, 0)\n"
          ],
          "name": "stderr"
        },
        {
          "output_type": "stream",
          "text": [
            "INFO:tensorflow:*** Available Device: _DeviceAttributes(/job:worker/replica:0/task:0/device:TPU:1, TPU, 0, 0)\n"
          ],
          "name": "stdout"
        },
        {
          "output_type": "stream",
          "text": [
            "INFO:tensorflow:*** Available Device: _DeviceAttributes(/job:worker/replica:0/task:0/device:TPU:1, TPU, 0, 0)\n"
          ],
          "name": "stderr"
        },
        {
          "output_type": "stream",
          "text": [
            "INFO:tensorflow:*** Available Device: _DeviceAttributes(/job:worker/replica:0/task:0/device:TPU:2, TPU, 0, 0)\n"
          ],
          "name": "stdout"
        },
        {
          "output_type": "stream",
          "text": [
            "INFO:tensorflow:*** Available Device: _DeviceAttributes(/job:worker/replica:0/task:0/device:TPU:2, TPU, 0, 0)\n"
          ],
          "name": "stderr"
        },
        {
          "output_type": "stream",
          "text": [
            "INFO:tensorflow:*** Available Device: _DeviceAttributes(/job:worker/replica:0/task:0/device:TPU:3, TPU, 0, 0)\n"
          ],
          "name": "stdout"
        },
        {
          "output_type": "stream",
          "text": [
            "INFO:tensorflow:*** Available Device: _DeviceAttributes(/job:worker/replica:0/task:0/device:TPU:3, TPU, 0, 0)\n"
          ],
          "name": "stderr"
        },
        {
          "output_type": "stream",
          "text": [
            "INFO:tensorflow:*** Available Device: _DeviceAttributes(/job:worker/replica:0/task:0/device:TPU:4, TPU, 0, 0)\n"
          ],
          "name": "stdout"
        },
        {
          "output_type": "stream",
          "text": [
            "INFO:tensorflow:*** Available Device: _DeviceAttributes(/job:worker/replica:0/task:0/device:TPU:4, TPU, 0, 0)\n"
          ],
          "name": "stderr"
        },
        {
          "output_type": "stream",
          "text": [
            "INFO:tensorflow:*** Available Device: _DeviceAttributes(/job:worker/replica:0/task:0/device:TPU:5, TPU, 0, 0)\n"
          ],
          "name": "stdout"
        },
        {
          "output_type": "stream",
          "text": [
            "INFO:tensorflow:*** Available Device: _DeviceAttributes(/job:worker/replica:0/task:0/device:TPU:5, TPU, 0, 0)\n"
          ],
          "name": "stderr"
        },
        {
          "output_type": "stream",
          "text": [
            "INFO:tensorflow:*** Available Device: _DeviceAttributes(/job:worker/replica:0/task:0/device:TPU:6, TPU, 0, 0)\n"
          ],
          "name": "stdout"
        },
        {
          "output_type": "stream",
          "text": [
            "INFO:tensorflow:*** Available Device: _DeviceAttributes(/job:worker/replica:0/task:0/device:TPU:6, TPU, 0, 0)\n"
          ],
          "name": "stderr"
        },
        {
          "output_type": "stream",
          "text": [
            "INFO:tensorflow:*** Available Device: _DeviceAttributes(/job:worker/replica:0/task:0/device:TPU:7, TPU, 0, 0)\n"
          ],
          "name": "stdout"
        },
        {
          "output_type": "stream",
          "text": [
            "INFO:tensorflow:*** Available Device: _DeviceAttributes(/job:worker/replica:0/task:0/device:TPU:7, TPU, 0, 0)\n"
          ],
          "name": "stderr"
        },
        {
          "output_type": "stream",
          "text": [
            "INFO:tensorflow:*** Available Device: _DeviceAttributes(/job:worker/replica:0/task:0/device:TPU_SYSTEM:0, TPU_SYSTEM, 0, 0)\n"
          ],
          "name": "stdout"
        },
        {
          "output_type": "stream",
          "text": [
            "INFO:tensorflow:*** Available Device: _DeviceAttributes(/job:worker/replica:0/task:0/device:TPU_SYSTEM:0, TPU_SYSTEM, 0, 0)\n"
          ],
          "name": "stderr"
        },
        {
          "output_type": "stream",
          "text": [
            "INFO:tensorflow:*** Available Device: _DeviceAttributes(/job:worker/replica:0/task:0/device:XLA_CPU:0, XLA_CPU, 0, 0)\n"
          ],
          "name": "stdout"
        },
        {
          "output_type": "stream",
          "text": [
            "INFO:tensorflow:*** Available Device: _DeviceAttributes(/job:worker/replica:0/task:0/device:XLA_CPU:0, XLA_CPU, 0, 0)\n"
          ],
          "name": "stderr"
        }
      ]
    },
    {
      "cell_type": "code",
      "metadata": {
        "colab": {
          "base_uri": "https://localhost:8080/"
        },
        "id": "hS-dxxGDtIJr",
        "outputId": "952696bd-7941-4846-f08a-756d3a70ef38"
      },
      "source": [
        "!wget https://dl.fbaipublicfiles.com/fasttext/vectors-english/wiki-news-300d-1M.vec.zip"
      ],
      "execution_count": null,
      "outputs": [
        {
          "output_type": "stream",
          "text": [
            "--2021-04-28 06:48:41--  https://dl.fbaipublicfiles.com/fasttext/vectors-english/wiki-news-300d-1M.vec.zip\n",
            "Resolving dl.fbaipublicfiles.com (dl.fbaipublicfiles.com)... 104.22.75.142, 172.67.9.4, 104.22.74.142, ...\n",
            "Connecting to dl.fbaipublicfiles.com (dl.fbaipublicfiles.com)|104.22.75.142|:443... connected.\n",
            "HTTP request sent, awaiting response... 200 OK\n",
            "Length: 681808098 (650M) [application/zip]\n",
            "Saving to: ‘wiki-news-300d-1M.vec.zip’\n",
            "\n",
            "wiki-news-300d-1M.v 100%[===================>] 650.22M  15.0MB/s    in 44s     \n",
            "\n",
            "2021-04-28 06:49:25 (14.9 MB/s) - ‘wiki-news-300d-1M.vec.zip’ saved [681808098/681808098]\n",
            "\n"
          ],
          "name": "stdout"
        }
      ]
    },
    {
      "cell_type": "code",
      "metadata": {
        "colab": {
          "base_uri": "https://localhost:8080/"
        },
        "id": "4dUdqAODtLqP",
        "outputId": "f583634e-e2a0-4fc8-9d17-9cc37c14ec7a"
      },
      "source": [
        "!unzip wiki-news-300d-1M.vec.zip"
      ],
      "execution_count": null,
      "outputs": [
        {
          "output_type": "stream",
          "text": [
            "Archive:  wiki-news-300d-1M.vec.zip\n",
            "  inflating: wiki-news-300d-1M.vec   \n"
          ],
          "name": "stdout"
        }
      ]
    },
    {
      "cell_type": "code",
      "metadata": {
        "id": "BVyr0zGetQbW"
      },
      "source": [
        "class word_emb_model:\n",
        "  def __init__(self,path):\n",
        "      df = pd.read_csv(path)\n",
        "      self.encoder = LabelEncoder()\n",
        "      self.models_fasttext = {}\n",
        "      self.history_fasttext = {}\n",
        "      # self.accuracy_glove ={}\n",
        "      df['text'] = df['text'].apply(lambda x: str(x))\n",
        "      self.dfs_train = df[df['kfold']!=0]\n",
        "      self.dfs_valid = df[df['kfold']==0]\n",
        "      self.read_fasttext()\n",
        "      self.data_per_fold_fasttext()\n",
        "\n",
        "  def read_glove(self):\n",
        "      embeddings_index = {}\n",
        "      f = open('glove.twitter.27B.200d.txt')\n",
        "      for line in f:\n",
        "          values = line.split()\n",
        "          word = values[0]\n",
        "          coefs = np.asarray(values[1:], dtype='float32')\n",
        "          embeddings_index[word] = coefs\n",
        "      f.close()\n",
        "\n",
        "      print('Found %s word vectors.' % len(embeddings_index))\n",
        "      self.glove_embeddings_index = embeddings_index\n",
        "\n",
        "  def read_fasttext(self):\n",
        "      embeddings_index = {}\n",
        "      f = codecs.open('wiki-news-300d-1M.vec', encoding='utf-8')\n",
        "      for line in f:\n",
        "          values = line.rstrip().rsplit(' ')\n",
        "          word = values[0]\n",
        "          coefs = np.asarray(values[1:], dtype='float32')\n",
        "          embeddings_index[word] = coefs\n",
        "      f.close()\n",
        "      print('found %s word vectors' % len(embeddings_index))\n",
        "      self.fasttext_embeddings_index = embeddings_index\n",
        "\n",
        "  # def create_glove_embedding_matrix(self,embed_dim):\n",
        "      # train = self.dfs_train\n",
        "      # test = self.dfs_valid\n",
        "      # x_train = train.text.values\n",
        "      # y_train = train.label.values\n",
        "      # x_test = test.text.values\n",
        "      # y_test = test.label.values\n",
        "      # word_tokenizer = Tokenizer()\n",
        "      # word_tokenizer.fit_on_texts(x_train)\n",
        "      # vocab_length = len(word_tokenizer.word_index) + 1\n",
        "      # x_train_emb = word_tokenizer.texts_to_sequences(x_train)\n",
        "      # x_test_emb = word_tokenizer.texts_to_sequences(x_test)\n",
        "      \n",
        "      # word_count = lambda sentence: len(word_tokenize(sentence))\n",
        "      # longest_sentence = max(np.concatenate((x_train,x_test),axis = 0), key=word_count)\n",
        "      # length_long_sentence = len(word_tokenize(longest_sentence))\n",
        "\n",
        "      # x_train_padded = pad_sequences(x_train_emb, length_long_sentence, padding='post',truncating = 'post')\n",
        "      # x_test_padded = pad_sequences(x_test_emb, length_long_sentence, padding='post',truncating = 'post')\n",
        "\n",
        "      # encoded_Y_tr = self.encoder.fit_transform(y_train)\n",
        "      # encoded_Y_ts = self.encoder.fit_transform(y_test)\n",
        "      # dummy_y_tr = np_utils.to_categorical(encoded_Y_tr)\n",
        "      # dummy_y_ts = np_utils.to_categorical(encoded_Y_ts)\n",
        "\n",
        "      # embedding_matrix = np.zeros((vocab_length, embed_dim))\n",
        "      # for word, index in word_tokenizer.word_index.items():\n",
        "      #     embedding_vector = self.glove_embeddings_index.get(word)\n",
        "      #     if embedding_vector is not None:\n",
        "      #         embedding_matrix[index] = embedding_vector\n",
        "\n",
        "      # # print(x_train_padded)\n",
        "      # # print(x_test_padded)\n",
        "      # return ((tf.convert_to_tensor(x_train_padded,np.int32),tf.convert_to_tensor(dummy_y_tr,np.float32)),(tf.convert_to_tensor(x_test_padded,np.int32),tf.convert_to_tensor(dummy_y_ts,np.float32)),(vocab_length,embedding_matrix,embed_dim,length_long_sentence))\n",
        "\n",
        "  def create_fasttext_embedding_matrix(self,embed_dim):\n",
        "      train = self.dfs_train\n",
        "      test = self.dfs_valid\n",
        "      x_train = train.text.values\n",
        "      y_train = train.label.values\n",
        "      x_test = test.text.values\n",
        "      y_test = test.label.values\n",
        "      word_tokenizer = Tokenizer()\n",
        "      word_tokenizer.fit_on_texts(x_train)\n",
        "      vocab_length = len(word_tokenizer.word_index) + 1\n",
        "      x_train_emb = word_tokenizer.texts_to_sequences(x_train)\n",
        "      x_test_emb = word_tokenizer.texts_to_sequences(x_test)\n",
        "      \n",
        "      word_count = lambda sentence: len(word_tokenize(sentence))\n",
        "      longest_sentence = max(np.concatenate((x_train,x_test),axis = 0), key=word_count)\n",
        "      length_long_sentence = len(word_tokenize(longest_sentence))\n",
        "\n",
        "      x_train_padded = pad_sequences(x_train_emb, length_long_sentence, padding='post',truncating = 'post')\n",
        "      x_test_padded = pad_sequences(x_test_emb, length_long_sentence, padding='post',truncating = 'post')\n",
        "\n",
        "      encoded_Y_tr = self.encoder.fit_transform(y_train)\n",
        "      encoded_Y_ts = self.encoder.fit_transform(y_test)\n",
        "      dummy_y_tr = np_utils.to_categorical(encoded_Y_tr)\n",
        "      dummy_y_ts = np_utils.to_categorical(encoded_Y_ts)\n",
        "\n",
        "      embedding_matrix = np.zeros((vocab_length, embed_dim))\n",
        "      for word, index in word_tokenizer.word_index.items():\n",
        "          embedding_vector = self.fasttext_embeddings_index.get(word)\n",
        "          if embedding_vector is not None:\n",
        "              embedding_matrix[index] = embedding_vector\n",
        "\n",
        "      # print(x_train_padded)\n",
        "      # print(x_test_padded)\n",
        "      return ((tf.convert_to_tensor(x_train_padded,np.int32),tf.convert_to_tensor(dummy_y_tr,np.float32)),(tf.convert_to_tensor(x_test_padded,np.int32),tf.convert_to_tensor(dummy_y_ts,np.float32)),(vocab_length,embedding_matrix,embed_dim,length_long_sentence))\n",
        "\n",
        "\n",
        "  def data_per_fold_glove(self):\n",
        "      # self.data_glove = {}\n",
        "      embed_dim = 200\n",
        "      self.data_glove = self.create_glove_embedding_matrix(embed_dim)\n",
        "\n",
        "  def data_per_fold_fasttext(self):\n",
        "      # self.data_fasttext = {}\n",
        "      embed_dim = 300\n",
        "      self.data_fasttext = self.create_fasttext_embedding_matrix(embed_dim)\n",
        "\n",
        "\n",
        "  def process_fasttext(self):\n",
        "      models = [self.CONV1D,self.SEP_CONV1D,self.CONV1D_BiLSTM,self.CONV1D_BiRNN,self.CONV1D_BiGRU,self.SEP_CONV1D_BiLSTM]\n",
        "      for mod in models:\n",
        "          name = str(mod)\n",
        "          name = name.replace('self.','')\n",
        "          m,h = self.run_training(mod)\n",
        "          self.models_fasttext[name] = m\n",
        "          self.history_fasttext[name] = h\n",
        "          # self.accuracy_glove['Test accuracy score for '+name] = acc\n",
        "    \n",
        "  def get_models_fasttext(self):\n",
        "    return self.models_fasttext\n",
        "\n",
        "  def get_history_fasttext(self):\n",
        "    return self.history_fasttext\n",
        "\n",
        "\n",
        "  def run_training(self,model):\n",
        "      mod = []\n",
        "      his = []\n",
        "      x,h= model()\n",
        "      mod.append(x)\n",
        "      his.append(h)\n",
        "    \n",
        "      \n",
        "      return mod,his\n",
        "\n",
        "  def SEP_CONV1D(self):\n",
        "      data = self.data_fasttext\n",
        "      x_tr,y_tr = data[0]\n",
        "      x_ts,y_ts = data[1]\n",
        "      vl,mat,dim,len_sen = data[2]\n",
        "      \n",
        "      with strategy.scope():\n",
        "          model = tf.keras.models.Sequential([\n",
        "              tf.keras.layers.Embedding(vl,dim,weights=[mat],input_length=len_sen,trainable=False),\n",
        "              tf.keras.layers.SeparableConv1D(32,3,activation='relu'),\n",
        "              tf.keras.layers.MaxPool1D(),\n",
        "              tf.keras.layers.SeparableConv1D(32,3,activation='relu'),\n",
        "              tf.keras.layers.MaxPool1D(),\n",
        "              tf.keras.layers.SeparableConv1D(32,3,activation='relu'),\n",
        "              tf.keras.layers.MaxPool1D(),\n",
        "              tf.keras.layers.Dropout(0.5),\n",
        "              tf.keras.layers.GlobalMaxPooling1D(),\n",
        "              tf.keras.layers.Dense(512, activation='sigmoid'),\n",
        "              tf.keras.layers.Dense(256, activation='sigmoid'),\n",
        "              tf.keras.layers.Dense(128, activation='sigmoid'),\n",
        "              tf.keras.layers.Dense(64, activation='sigmoid'),\n",
        "              tf.keras.layers.Dense(5, activation='softmax')])\n",
        "\n",
        "          model.compile(loss='categorical_crossentropy',\n",
        "          optimizer=tf.keras.optimizers.Adam(),\n",
        "          metrics=['accuracy'])\n",
        "      x = model.to_json()\n",
        "      print(\"\\n SEPERABLE CONV1D \\n\")\n",
        "      model.summary()\n",
        "      his = model.fit(x = x_tr,y=y_tr,validation_data=(x_ts,y_ts),epochs=100,callbacks=[EarlyStopping()])\n",
        "      # y_pred = model.predict(x_ts)\n",
        "      return x,his\n",
        "\n",
        "\n",
        "\n",
        "\n",
        "\n",
        "  def CONV1D(self):\n",
        "      data = self.data_fasttext\n",
        "      x_tr,y_tr = data[0]\n",
        "      x_ts,y_ts = data[1]\n",
        "      vl,mat,dim,len_sen = data[2]\n",
        "      \n",
        "      with strategy.scope():\n",
        "          model = tf.keras.models.Sequential([\n",
        "              tf.keras.layers.Embedding(vl,dim,weights=[mat],input_length=len_sen,trainable=False),\n",
        "              tf.keras.layers.Conv1D(32,3,activation='relu'),\n",
        "              tf.keras.layers.MaxPool1D(),\n",
        "              tf.keras.layers.Conv1D(32,3,activation='relu'),\n",
        "              tf.keras.layers.MaxPool1D(),\n",
        "              tf.keras.layers.Conv1D(32,3,activation='relu'),\n",
        "              tf.keras.layers.MaxPool1D(),\n",
        "              tf.keras.layers.Dropout(0.5),\n",
        "              tf.keras.layers.Flatten(),\n",
        "              tf.keras.layers.Dense(512, activation='sigmoid'),\n",
        "              tf.keras.layers.Dense(256, activation='sigmoid'),\n",
        "              tf.keras.layers.Dense(128, activation='sigmoid'),\n",
        "              tf.keras.layers.Dense(64, activation='sigmoid'),\n",
        "              tf.keras.layers.Dense(5, activation='softmax')])\n",
        "\n",
        "          model.compile(loss='categorical_crossentropy',\n",
        "          optimizer=tf.keras.optimizers.Adam(),\n",
        "          metrics=['accuracy'])\n",
        "      x = model.to_json()\n",
        "      print(\"\\n CONV1D \\n\")\n",
        "      model.summary()\n",
        "      his = model.fit(x = x_tr,y=y_tr,validation_data=(x_ts,y_ts),epochs=100,callbacks=[EarlyStopping()])\n",
        "      # y_pred = model.predict(x_ts)\n",
        "      return x,his#,accuracy_score(y_ts,y_pred)\n",
        "\n",
        "  def BiLSTM(self):\n",
        "      data = self.data_fasttext\n",
        "      x_tr,y_tr = data[0]\n",
        "      x_ts,y_ts = data[1]\n",
        "      vl,mat,dim,len_sen = data[2]\n",
        "      \n",
        "      with strategy.scope():\n",
        "          model = tf.keras.models.Sequential([\n",
        "              tf.keras.layers.Embedding(vl,dim,weights=[mat],input_length=len_sen,trainable=False),\n",
        "              # tf.keras.layers.SeparableConv1D(32,3,activation='relu'),\n",
        "              # tf.keras.layers.MaxPool1D(),\n",
        "              # tf.keras.layers.SeparableConv1D(32,3,activation='relu'),\n",
        "              # tf.keras.layers.MaxPool1D(),\n",
        "              # tf.keras.layers.SeparableConv1D(32,3,activation='relu'),\n",
        "              # tf.keras.layers.MaxPool1D(),\n",
        "              # tf.keras.layers.Dropout(0.5),\n",
        "              tf.keras.layers.Bidirectional(tf.keras.layers.LSTM(16,return_sequences=True, dropout=0.2, recurrent_dropout=0.3)),\n",
        "              tf.keras.layers.Flatten(),\n",
        "              tf.keras.layers.Dense(512, activation='sigmoid'),\n",
        "              tf.keras.layers.Dense(256, activation='sigmoid'),\n",
        "              tf.keras.layers.Dense(128, activation='sigmoid'),\n",
        "              tf.keras.layers.Dense(64, activation='sigmoid'),\n",
        "              tf.keras.layers.Dense(2, activation='softmax')])\n",
        "\n",
        "          model.compile(loss='categorical_crossentropy',\n",
        "          optimizer=tf.keras.optimizers.Adam(),\n",
        "          metrics=['accuracy'])\n",
        "      x = model.to_json()\n",
        "      print(\"\\n BiLSTM \\n\")\n",
        "      model.summary()\n",
        "      his = model.fit(x = x_tr,y=y_tr,validation_data=(x_ts,y_ts),epochs=100,callbacks=[EarlyStopping()])\n",
        "      # y_pred = model.predict(x_ts)\n",
        "      return x,his #,accuracy_score(y_ts,y_pred)\n",
        "\n",
        "  def SEP_CONV1D_BiLSTM(self):\n",
        "      data = self.data_fasttext\n",
        "      x_tr,y_tr = data[0]\n",
        "      x_ts,y_ts = data[1]\n",
        "      vl,mat,dim,len_sen = data[2]\n",
        "      \n",
        "      with strategy.scope():\n",
        "          model = tf.keras.models.Sequential([\n",
        "              tf.keras.layers.Embedding(vl,dim,weights=[mat],input_length=len_sen,trainable=False),\n",
        "              tf.keras.layers.SeparableConv1D(32,3,activation='relu'),\n",
        "              tf.keras.layers.MaxPool1D(),\n",
        "              tf.keras.layers.SeparableConv1D(32,3,activation='relu'),\n",
        "              tf.keras.layers.MaxPool1D(),\n",
        "              tf.keras.layers.SeparableConv1D(32,3,activation='relu'),\n",
        "              tf.keras.layers.MaxPool1D(),\n",
        "              # tf.keras.layers.Dropout(0.5),\n",
        "              tf.keras.layers.Bidirectional(tf.keras.layers.LSTM(16,return_sequences=True, dropout=0.2, recurrent_dropout=0.3)),\n",
        "              tf.keras.layers.Flatten(),\n",
        "              tf.keras.layers.Dense(512, activation='sigmoid'),\n",
        "              tf.keras.layers.Dense(256, activation='sigmoid'),\n",
        "              tf.keras.layers.Dense(128, activation='sigmoid'),\n",
        "              tf.keras.layers.Dense(64, activation='sigmoid'),\n",
        "              tf.keras.layers.Dense(5, activation='softmax')])\n",
        "\n",
        "          model.compile(loss='categorical_crossentropy',\n",
        "          optimizer=tf.keras.optimizers.Adam(),\n",
        "          metrics=['accuracy'])\n",
        "      x = model.to_json()\n",
        "      print(\"\\n SEPARABLE CONV1D BiLSTM \\n\")\n",
        "      model.summary()\n",
        "      his = model.fit(x = x_tr,y=y_tr,validation_data=(x_ts,y_ts),epochs=100,callbacks=[EarlyStopping()])\n",
        "      # y_pred = model.predict(x_ts)\n",
        "      return x,his #,accuracy_score(y_ts,y_pred)\n",
        "\n",
        "\n",
        "  def CONV1D_BiLSTM(self):\n",
        "      data = self.data_fasttext\n",
        "      x_tr,y_tr = data[0]\n",
        "      x_ts,y_ts = data[1]\n",
        "      vl,mat,dim,len_sen = data[2]\n",
        "      \n",
        "      with strategy.scope():\n",
        "          model = tf.keras.models.Sequential([\n",
        "              tf.keras.layers.Embedding(vl,dim,weights=[mat],input_length=len_sen,trainable=False),\n",
        "              tf.keras.layers.Conv1D(32,3,activation='relu'),\n",
        "              tf.keras.layers.MaxPool1D(),\n",
        "              tf.keras.layers.Conv1D(32,3,activation='relu'),\n",
        "              tf.keras.layers.MaxPool1D(),\n",
        "              tf.keras.layers.Conv1D(32,3,activation='relu'),\n",
        "              tf.keras.layers.MaxPool1D(),\n",
        "              # tf.keras.layers.Dropout(0.5),\n",
        "              tf.keras.layers.Bidirectional(tf.keras.layers.LSTM(16,return_sequences=True, dropout=0.2, recurrent_dropout=0.3)),\n",
        "              tf.keras.layers.Flatten(),\n",
        "              tf.keras.layers.Dense(512, activation='sigmoid'),\n",
        "              tf.keras.layers.Dense(256, activation='sigmoid'),\n",
        "              tf.keras.layers.Dense(128, activation='sigmoid'),\n",
        "              tf.keras.layers.Dense(64, activation='sigmoid'),\n",
        "              tf.keras.layers.Dense(5, activation='softmax')])\n",
        "\n",
        "          model.compile(loss='categorical_crossentropy',\n",
        "          optimizer=tf.keras.optimizers.Adam(),\n",
        "          metrics=['accuracy'])\n",
        "      x = model.to_json()\n",
        "      print(\"\\n CONV1D BiLSTM \\n\")\n",
        "      model.summary()\n",
        "      his = model.fit(x = x_tr,y=y_tr,validation_data=(x_ts,y_ts),epochs=100,callbacks=[EarlyStopping()])\n",
        "      # y_pred = model.predict(x_ts)\n",
        "      return x,his #,accuracy_score(y_ts,y_pred)\n",
        "\n",
        "\n",
        "  def BiRNN(self):\n",
        "      data = self.data_fasttext\n",
        "      x_tr,y_tr = data[0]\n",
        "      x_ts,y_ts = data[1]\n",
        "      vl,mat,dim,len_sen = data[2]\n",
        "      \n",
        "      with strategy.scope():\n",
        "          model = tf.keras.models.Sequential([\n",
        "              tf.keras.layers.Embedding(vl,dim,weights=[mat],input_length=len_sen,trainable=False),\n",
        "              # tf.keras.layers.SeparableConv1D(32,3,activation='relu'),\n",
        "              # tf.keras.layers.MaxPool1D(),\n",
        "              # tf.keras.layers.SeparableConv1D(32,3,activation='relu'),\n",
        "              # tf.keras.layers.MaxPool1D(),\n",
        "              # tf.keras.layers.SeparableConv1D(32,3,activation='relu'),\n",
        "              # tf.keras.layers.MaxPool1D(),\n",
        "              # tf.keras.layers.Dropout(0.5),\n",
        "              tf.keras.layers.Bidirectional(tf.keras.layers.SimpleRNN(16,return_sequences=True, dropout=0.2, recurrent_dropout=0.3)),\n",
        "              tf.keras.layers.Flatten(),\n",
        "              tf.keras.layers.Dense(512, activation='sigmoid'),\n",
        "              tf.keras.layers.Dense(256, activation='sigmoid'),\n",
        "              tf.keras.layers.Dense(128, activation='sigmoid'),\n",
        "              tf.keras.layers.Dense(64, activation='sigmoid'),\n",
        "              tf.keras.layers.Dense(2, activation='softmax')])\n",
        "\n",
        "          model.compile(loss='categorical_crossentropy',\n",
        "          optimizer=tf.keras.optimizers.Adam(),\n",
        "          metrics=['accuracy'])\n",
        "      x = model.to_json()\n",
        "      print(\"\\n BiRNN \\n\")\n",
        "      model.summary()\n",
        "      his = model.fit(x = x_tr,y=y_tr,validation_data=(x_ts,y_ts),epochs=100,callbacks=[EarlyStopping()])\n",
        "      # y_pred = model.predict(x_ts)\n",
        "      return x,his #,accuracy_score(y_ts,y_pred)\n",
        "\n",
        "  def SEP_CONV1D_BiRNN(self):\n",
        "      data = self.data_fasttext\n",
        "      x_tr,y_tr = data[0]\n",
        "      x_ts,y_ts = data[1]\n",
        "      vl,mat,dim,len_sen = data[2]\n",
        "      \n",
        "      with strategy.scope():\n",
        "          model = tf.keras.models.Sequential([\n",
        "              tf.keras.layers.Embedding(vl,dim,weights=[mat],input_length=len_sen,trainable=False),\n",
        "              tf.keras.layers.SeparableConv1D(32,3,activation='relu'),\n",
        "              tf.keras.layers.MaxPool1D(),\n",
        "              tf.keras.layers.SeparableConv1D(32,3,activation='relu'),\n",
        "              tf.keras.layers.MaxPool1D(),\n",
        "              tf.keras.layers.SeparableConv1D(32,3,activation='relu'),\n",
        "              tf.keras.layers.MaxPool1D(),\n",
        "              # tf.keras.layers.Dropout(0.5),\n",
        "              tf.keras.layers.Bidirectional(tf.keras.layers.SimpleRNN(16,return_sequences=True, dropout=0.2, recurrent_dropout=0.3)),\n",
        "              tf.keras.layers.Flatten(),\n",
        "              tf.keras.layers.Dense(512, activation='sigmoid'),\n",
        "              tf.keras.layers.Dense(256, activation='sigmoid'),\n",
        "              tf.keras.layers.Dense(128, activation='sigmoid'),\n",
        "              tf.keras.layers.Dense(64, activation='sigmoid'),\n",
        "              tf.keras.layers.Dense(2, activation='softmax')])\n",
        "\n",
        "          model.compile(loss='categorical_crossentropy',\n",
        "          optimizer=tf.keras.optimizers.Adam(),\n",
        "          metrics=['accuracy'])\n",
        "      x = model.to_json()\n",
        "      print(\"\\n SEPARABLE CONV1D BiRNN \\n\")\n",
        "      model.summary()\n",
        "      his = model.fit(x = x_tr,y=y_tr,validation_data=(x_ts,y_ts),epochs=100,callbacks=[EarlyStopping()])\n",
        "      # y_pred = model.predict(x_ts)\n",
        "      return x,his #,accuracy_score(y_ts,y_pred)\n",
        "\n",
        "  \n",
        "  def CONV1D_BiRNN(self):\n",
        "      data = self.data_fasttext\n",
        "      x_tr,y_tr = data[0]\n",
        "      x_ts,y_ts = data[1]\n",
        "      vl,mat,dim,len_sen = data[2]\n",
        "      \n",
        "      with strategy.scope():\n",
        "          model = tf.keras.models.Sequential([\n",
        "              tf.keras.layers.Embedding(vl,dim,weights=[mat],input_length=len_sen,trainable=False),\n",
        "              tf.keras.layers.Conv1D(32,3,activation='relu'),\n",
        "              tf.keras.layers.MaxPool1D(),\n",
        "              tf.keras.layers.Conv1D(32,3,activation='relu'),\n",
        "              tf.keras.layers.MaxPool1D(),\n",
        "              tf.keras.layers.Conv1D(32,3,activation='relu'),\n",
        "              tf.keras.layers.MaxPool1D(),\n",
        "              # tf.keras.layers.Dropout(0.5),\n",
        "              tf.keras.layers.Bidirectional(tf.keras.layers.SimpleRNN(16,return_sequences=True, dropout=0.2, recurrent_dropout=0.3)),\n",
        "              tf.keras.layers.Flatten(),\n",
        "              tf.keras.layers.Dense(512, activation='sigmoid'),\n",
        "              tf.keras.layers.Dense(256, activation='sigmoid'),\n",
        "              tf.keras.layers.Dense(128, activation='sigmoid'),\n",
        "              tf.keras.layers.Dense(64, activation='sigmoid'),\n",
        "              tf.keras.layers.Dense(5, activation='softmax')])\n",
        "\n",
        "          model.compile(loss='categorical_crossentropy',\n",
        "          optimizer=tf.keras.optimizers.Adam(),\n",
        "          metrics=['accuracy'])\n",
        "      x = model.to_json()\n",
        "      print(\"\\n CONV1D BiRNN \\n\")\n",
        "      model.summary()\n",
        "      his = model.fit(x = x_tr,y=y_tr,validation_data=(x_ts,y_ts),epochs=100,callbacks=[EarlyStopping()])\n",
        "      # y_pred = model.predict(x_ts)\n",
        "      return x,his #,accuracy_score(y_ts,y_pred)\n",
        "\n",
        "  def BiGRU(self):\n",
        "      data = self.data_fasttext\n",
        "      x_tr,y_tr = data[0]\n",
        "      x_ts,y_ts = data[1]\n",
        "      vl,mat,dim,len_sen = data[2]\n",
        "      \n",
        "      with strategy.scope():\n",
        "          model = tf.keras.models.Sequential([\n",
        "              tf.keras.layers.Embedding(vl,dim,weights=[mat],input_length=len_sen,trainable=False),\n",
        "              # tf.keras.layers.SeparableConv1D(32,3,activation='relu'),\n",
        "              # tf.keras.layers.MaxPool1D(),\n",
        "              # tf.keras.layers.SeparableConv1D(32,3,activation='relu'),\n",
        "              # tf.keras.layers.MaxPool1D(),\n",
        "              # tf.keras.layers.SeparableConv1D(32,3,activation='relu'),\n",
        "              # tf.keras.layers.MaxPool1D(),\n",
        "              # tf.keras.layers.Dropout(0.5),\n",
        "              tf.keras.layers.Bidirectional(tf.keras.layers.GRU(16,return_sequences=True, dropout=0.2, recurrent_dropout=0.3)),\n",
        "              tf.keras.layers.Flatten(),\n",
        "              tf.keras.layers.Dense(512, activation='sigmoid'),\n",
        "              tf.keras.layers.Dense(256, activation='sigmoid'),\n",
        "              tf.keras.layers.Dense(128, activation='sigmoid'),\n",
        "              tf.keras.layers.Dense(64, activation='sigmoid'),\n",
        "              tf.keras.layers.Dense(2, activation='softmax')])\n",
        "\n",
        "          model.compile(loss='categorical_crossentropy',\n",
        "          optimizer=tf.keras.optimizers.Adam(),\n",
        "          metrics=['accuracy'])\n",
        "      x = model.to_json()\n",
        "      print(\"\\n BiGRU \\n\")\n",
        "      model.summary()\n",
        "      his = model.fit(x = x_tr,y=y_tr,validation_data=(x_ts,y_ts),epochs=100,callbacks=[EarlyStopping()])\n",
        "      # y_pred = model.predict(x_ts)\n",
        "      return x,his #,accuracy_score(y_ts,y_pred)\n",
        "      \n",
        "  def CONV1D_BiGRU(self):\n",
        "      data = self.data_fasttext\n",
        "      x_tr,y_tr = data[0]\n",
        "      x_ts,y_ts = data[1]\n",
        "      vl,mat,dim,len_sen = data[2]\n",
        "      \n",
        "      with strategy.scope():\n",
        "          model = tf.keras.models.Sequential([\n",
        "              tf.keras.layers.Embedding(vl,dim,weights=[mat],input_length=len_sen,trainable=False),\n",
        "              tf.keras.layers.Conv1D(32,3,activation='relu'),\n",
        "              tf.keras.layers.MaxPool1D(),\n",
        "              tf.keras.layers.Conv1D(32,3,activation='relu'),\n",
        "              tf.keras.layers.MaxPool1D(),\n",
        "              tf.keras.layers.Conv1D(32,3,activation='relu'),\n",
        "              tf.keras.layers.MaxPool1D(),\n",
        "              # tf.keras.layers.Dropout(0.5),\n",
        "              tf.keras.layers.Bidirectional(tf.keras.layers.GRU(16,return_sequences=True, dropout=0.2, recurrent_dropout=0.3)),\n",
        "              tf.keras.layers.Flatten(),\n",
        "              tf.keras.layers.Dense(512, activation='sigmoid'),\n",
        "              tf.keras.layers.Dense(256, activation='sigmoid'),\n",
        "              tf.keras.layers.Dense(128, activation='sigmoid'),\n",
        "              tf.keras.layers.Dense(64, activation='sigmoid'),\n",
        "              tf.keras.layers.Dense(5, activation='softmax')])\n",
        "\n",
        "          model.compile(loss='categorical_crossentropy',\n",
        "          optimizer=tf.keras.optimizers.Adam(),\n",
        "          metrics=['accuracy'])\n",
        "      x = model.to_json()\n",
        "      print(\"\\n CONV1D BiGRU \\n\")\n",
        "      model.summary()\n",
        "      his = model.fit(x = x_tr,y=y_tr,validation_data=(x_ts,y_ts),epochs=100,callbacks=[EarlyStopping()])\n",
        "      # y_pred = model.predict(x_ts)\n",
        "      return x,his #,accuracy_score(y_ts,y_pred)\n",
        "      \n",
        "  def SEP_CONV1D_BiGRU(self):\n",
        "      data = self.data_fasttext\n",
        "      x_tr,y_tr = data[0]\n",
        "      x_ts,y_ts = data[1]\n",
        "      vl,mat,dim,len_sen = data[2]\n",
        "      \n",
        "      with strategy.scope():\n",
        "          model = tf.keras.models.Sequential([\n",
        "              tf.keras.layers.Embedding(vl,dim,weights=[mat],input_length=len_sen,trainable=False),\n",
        "              tf.keras.layers.SeparableConv1D(32,3,activation='relu'),\n",
        "              tf.keras.layers.MaxPool1D(),\n",
        "              tf.keras.layers.SeparableConv1D(32,3,activation='relu'),\n",
        "              tf.keras.layers.MaxPool1D(),\n",
        "              tf.keras.layers.SeparableConv1D(32,3,activation='relu'),\n",
        "              tf.keras.layers.MaxPool1D(),\n",
        "              # tf.keras.layers.Dropout(0.5),\n",
        "              tf.keras.layers.Bidirectional(tf.keras.layers.GRU(16,return_sequences=True, dropout=0.2, recurrent_dropout=0.3)),\n",
        "              tf.keras.layers.Flatten(),\n",
        "              tf.keras.layers.Dense(512, activation='sigmoid'),\n",
        "              tf.keras.layers.Dense(256, activation='sigmoid'),\n",
        "              tf.keras.layers.Dense(128, activation='sigmoid'),\n",
        "              tf.keras.layers.Dense(64, activation='sigmoid'),\n",
        "              tf.keras.layers.Dense(2, activation='softmax')])\n",
        "\n",
        "          model.compile(loss='categorical_crossentropy',\n",
        "          optimizer=tf.keras.optimizers.Adam(),\n",
        "          metrics=['accuracy'])\n",
        "      x = model.to_json()\n",
        "      print(\"\\n SEPARABLE CONV1D BiGRU \\n\")\n",
        "      model.summary()\n",
        "      his = model.fit(x = x_tr,y=y_tr,validation_data=(x_ts,y_ts),epochs=100,callbacks=[EarlyStopping()])\n",
        "      # y_pred = model.predict(x_ts)\n",
        "      return x,his #,accuracy_score(y_ts,y_pred)\n",
        "      \n",
        "    "
      ],
      "execution_count": null,
      "outputs": []
    },
    {
      "cell_type": "code",
      "metadata": {
        "colab": {
          "base_uri": "https://localhost:8080/"
        },
        "id": "K-G8cCKvtf57",
        "outputId": "d84d56fc-75a4-4f82-924a-d22ff92272e6"
      },
      "source": [
        "# wem = word_emb_model('/content/drive/MyDrive/sarcasm data/train_sarc_final_with_folds.csv')\n",
        "wem = word_emb_model('/content/drive/MyDrive/sentiment data/tr_sen_fin.csv')"
      ],
      "execution_count": null,
      "outputs": [
        {
          "output_type": "stream",
          "text": [
            "found 999995 word vectors\n"
          ],
          "name": "stdout"
        }
      ]
    },
    {
      "cell_type": "code",
      "metadata": {
        "colab": {
          "base_uri": "https://localhost:8080/"
        },
        "id": "Cu8l9Y9UtiyF",
        "outputId": "9c524147-24a3-4d9d-a64b-985c8f4dd8ff"
      },
      "source": [
        "wem.process_fasttext()"
      ],
      "execution_count": null,
      "outputs": [
        {
          "output_type": "stream",
          "text": [
            "\n",
            " CONV1D \n",
            "\n",
            "Model: \"sequential\"\n",
            "_________________________________________________________________\n",
            "Layer (type)                 Output Shape              Param #   \n",
            "=================================================================\n",
            "embedding (Embedding)        (None, 163, 300)          41134800  \n",
            "_________________________________________________________________\n",
            "conv1d (Conv1D)              (None, 161, 32)           28832     \n",
            "_________________________________________________________________\n",
            "max_pooling1d (MaxPooling1D) (None, 80, 32)            0         \n",
            "_________________________________________________________________\n",
            "conv1d_1 (Conv1D)            (None, 78, 32)            3104      \n",
            "_________________________________________________________________\n",
            "max_pooling1d_1 (MaxPooling1 (None, 39, 32)            0         \n",
            "_________________________________________________________________\n",
            "conv1d_2 (Conv1D)            (None, 37, 32)            3104      \n",
            "_________________________________________________________________\n",
            "max_pooling1d_2 (MaxPooling1 (None, 18, 32)            0         \n",
            "_________________________________________________________________\n",
            "dropout (Dropout)            (None, 18, 32)            0         \n",
            "_________________________________________________________________\n",
            "flatten (Flatten)            (None, 576)               0         \n",
            "_________________________________________________________________\n",
            "dense (Dense)                (None, 512)               295424    \n",
            "_________________________________________________________________\n",
            "dense_1 (Dense)              (None, 256)               131328    \n",
            "_________________________________________________________________\n",
            "dense_2 (Dense)              (None, 128)               32896     \n",
            "_________________________________________________________________\n",
            "dense_3 (Dense)              (None, 64)                8256      \n",
            "_________________________________________________________________\n",
            "dense_4 (Dense)              (None, 5)                 325       \n",
            "=================================================================\n",
            "Total params: 41,638,069\n",
            "Trainable params: 503,269\n",
            "Non-trainable params: 41,134,800\n",
            "_________________________________________________________________\n",
            "Epoch 1/100\n",
            "17250/17250 [==============================] - 308s 18ms/step - loss: 0.9070 - accuracy: 0.6464 - val_loss: 0.6470 - val_accuracy: 0.7736\n",
            "Epoch 2/100\n",
            "17250/17250 [==============================] - 311s 18ms/step - loss: 0.6493 - accuracy: 0.7700 - val_loss: 0.6147 - val_accuracy: 0.7877\n",
            "Epoch 3/100\n",
            "17250/17250 [==============================] - 301s 17ms/step - loss: 0.6118 - accuracy: 0.7862 - val_loss: 0.5832 - val_accuracy: 0.7943\n",
            "Epoch 4/100\n",
            "17250/17250 [==============================] - 296s 17ms/step - loss: 0.5844 - accuracy: 0.7944 - val_loss: 0.5794 - val_accuracy: 0.7965\n",
            "Epoch 5/100\n",
            "17250/17250 [==============================] - 295s 17ms/step - loss: 0.5689 - accuracy: 0.8007 - val_loss: 0.5711 - val_accuracy: 0.7966\n",
            "Epoch 6/100\n",
            "17250/17250 [==============================] - 296s 17ms/step - loss: 0.5630 - accuracy: 0.8031 - val_loss: 0.5778 - val_accuracy: 0.7982\n",
            "\n",
            " SEPERABLE CONV1D \n",
            "\n",
            "Model: \"sequential_1\"\n",
            "_________________________________________________________________\n",
            "Layer (type)                 Output Shape              Param #   \n",
            "=================================================================\n",
            "embedding_1 (Embedding)      (None, 163, 300)          41134800  \n",
            "_________________________________________________________________\n",
            "separable_conv1d (SeparableC (None, 161, 32)           10532     \n",
            "_________________________________________________________________\n",
            "max_pooling1d_3 (MaxPooling1 (None, 80, 32)            0         \n",
            "_________________________________________________________________\n",
            "separable_conv1d_1 (Separabl (None, 78, 32)            1152      \n",
            "_________________________________________________________________\n",
            "max_pooling1d_4 (MaxPooling1 (None, 39, 32)            0         \n",
            "_________________________________________________________________\n",
            "separable_conv1d_2 (Separabl (None, 37, 32)            1152      \n",
            "_________________________________________________________________\n",
            "max_pooling1d_5 (MaxPooling1 (None, 18, 32)            0         \n",
            "_________________________________________________________________\n",
            "dropout_1 (Dropout)          (None, 18, 32)            0         \n",
            "_________________________________________________________________\n",
            "global_max_pooling1d (Global (None, 32)                0         \n",
            "_________________________________________________________________\n",
            "dense_5 (Dense)              (None, 512)               16896     \n",
            "_________________________________________________________________\n",
            "dense_6 (Dense)              (None, 256)               131328    \n",
            "_________________________________________________________________\n",
            "dense_7 (Dense)              (None, 128)               32896     \n",
            "_________________________________________________________________\n",
            "dense_8 (Dense)              (None, 64)                8256      \n",
            "_________________________________________________________________\n",
            "dense_9 (Dense)              (None, 5)                 325       \n",
            "=================================================================\n",
            "Total params: 41,337,337\n",
            "Trainable params: 202,537\n",
            "Non-trainable params: 41,134,800\n",
            "_________________________________________________________________\n",
            "Epoch 1/100\n",
            "17250/17250 [==============================] - 297s 17ms/step - loss: 1.0443 - accuracy: 0.5608 - val_loss: 0.6722 - val_accuracy: 0.7625\n",
            "Epoch 2/100\n",
            "17250/17250 [==============================] - 300s 17ms/step - loss: 0.6685 - accuracy: 0.7642 - val_loss: 0.6312 - val_accuracy: 0.7784\n",
            "Epoch 3/100\n",
            "17250/17250 [==============================] - 305s 18ms/step - loss: 0.6322 - accuracy: 0.7777 - val_loss: 0.6162 - val_accuracy: 0.7835\n",
            "Epoch 4/100\n",
            "17250/17250 [==============================] - 300s 17ms/step - loss: 0.6150 - accuracy: 0.7837 - val_loss: 0.6023 - val_accuracy: 0.7884\n",
            "Epoch 5/100\n",
            "17250/17250 [==============================] - 304s 18ms/step - loss: 0.5989 - accuracy: 0.7884 - val_loss: 0.5894 - val_accuracy: 0.7907\n",
            "Epoch 6/100\n",
            "17250/17250 [==============================] - 300s 17ms/step - loss: 0.5913 - accuracy: 0.7906 - val_loss: 0.5894 - val_accuracy: 0.7964\n",
            "Epoch 7/100\n",
            "17250/17250 [==============================] - 300s 17ms/step - loss: 0.5854 - accuracy: 0.7933 - val_loss: 0.5808 - val_accuracy: 0.7970\n",
            "Epoch 8/100\n",
            "17250/17250 [==============================] - 303s 18ms/step - loss: 0.5791 - accuracy: 0.7955 - val_loss: 0.5745 - val_accuracy: 0.7978\n",
            "Epoch 9/100\n",
            "17250/17250 [==============================] - 306s 18ms/step - loss: 0.5763 - accuracy: 0.7964 - val_loss: 0.5810 - val_accuracy: 0.7956\n",
            "\n",
            " CONV1D BiLSTM \n",
            "\n",
            "Model: \"sequential_2\"\n",
            "_________________________________________________________________\n",
            "Layer (type)                 Output Shape              Param #   \n",
            "=================================================================\n",
            "embedding_2 (Embedding)      (None, 163, 300)          41134800  \n",
            "_________________________________________________________________\n",
            "conv1d_3 (Conv1D)            (None, 161, 32)           28832     \n",
            "_________________________________________________________________\n",
            "max_pooling1d_6 (MaxPooling1 (None, 80, 32)            0         \n",
            "_________________________________________________________________\n",
            "conv1d_4 (Conv1D)            (None, 78, 32)            3104      \n",
            "_________________________________________________________________\n",
            "max_pooling1d_7 (MaxPooling1 (None, 39, 32)            0         \n",
            "_________________________________________________________________\n",
            "conv1d_5 (Conv1D)            (None, 37, 32)            3104      \n",
            "_________________________________________________________________\n",
            "max_pooling1d_8 (MaxPooling1 (None, 18, 32)            0         \n",
            "_________________________________________________________________\n",
            "bidirectional (Bidirectional (None, 18, 32)            6272      \n",
            "_________________________________________________________________\n",
            "flatten_1 (Flatten)          (None, 576)               0         \n",
            "_________________________________________________________________\n",
            "dense_10 (Dense)             (None, 512)               295424    \n",
            "_________________________________________________________________\n",
            "dense_11 (Dense)             (None, 256)               131328    \n",
            "_________________________________________________________________\n",
            "dense_12 (Dense)             (None, 128)               32896     \n",
            "_________________________________________________________________\n",
            "dense_13 (Dense)             (None, 64)                8256      \n",
            "_________________________________________________________________\n",
            "dense_14 (Dense)             (None, 5)                 325       \n",
            "=================================================================\n",
            "Total params: 41,644,341\n",
            "Trainable params: 509,541\n",
            "Non-trainable params: 41,134,800\n",
            "_________________________________________________________________\n",
            "Epoch 1/100\n",
            "17250/17250 [==============================] - 342s 19ms/step - loss: 0.8800 - accuracy: 0.6547 - val_loss: 0.6342 - val_accuracy: 0.7736\n",
            "Epoch 2/100\n",
            "17250/17250 [==============================] - 325s 19ms/step - loss: 0.6063 - accuracy: 0.7869 - val_loss: 0.5788 - val_accuracy: 0.7943\n",
            "Epoch 3/100\n",
            "17250/17250 [==============================] - 327s 19ms/step - loss: 0.5623 - accuracy: 0.8019 - val_loss: 0.5681 - val_accuracy: 0.8005\n",
            "Epoch 4/100\n",
            "17250/17250 [==============================] - 333s 19ms/step - loss: 0.5415 - accuracy: 0.8093 - val_loss: 0.5520 - val_accuracy: 0.8043\n",
            "Epoch 5/100\n",
            "17250/17250 [==============================] - 343s 20ms/step - loss: 0.5331 - accuracy: 0.8122 - val_loss: 0.5486 - val_accuracy: 0.8068\n",
            "Epoch 6/100\n",
            "17250/17250 [==============================] - 339s 20ms/step - loss: 0.5195 - accuracy: 0.8170 - val_loss: 0.5523 - val_accuracy: 0.8034\n",
            "\n",
            " CONV1D BiRNN \n",
            "\n",
            "Model: \"sequential_3\"\n",
            "_________________________________________________________________\n",
            "Layer (type)                 Output Shape              Param #   \n",
            "=================================================================\n",
            "embedding_3 (Embedding)      (None, 163, 300)          41134800  \n",
            "_________________________________________________________________\n",
            "conv1d_6 (Conv1D)            (None, 161, 32)           28832     \n",
            "_________________________________________________________________\n",
            "max_pooling1d_9 (MaxPooling1 (None, 80, 32)            0         \n",
            "_________________________________________________________________\n",
            "conv1d_7 (Conv1D)            (None, 78, 32)            3104      \n",
            "_________________________________________________________________\n",
            "max_pooling1d_10 (MaxPooling (None, 39, 32)            0         \n",
            "_________________________________________________________________\n",
            "conv1d_8 (Conv1D)            (None, 37, 32)            3104      \n",
            "_________________________________________________________________\n",
            "max_pooling1d_11 (MaxPooling (None, 18, 32)            0         \n",
            "_________________________________________________________________\n",
            "bidirectional_1 (Bidirection (None, 18, 32)            1568      \n",
            "_________________________________________________________________\n",
            "flatten_2 (Flatten)          (None, 576)               0         \n",
            "_________________________________________________________________\n",
            "dense_15 (Dense)             (None, 512)               295424    \n",
            "_________________________________________________________________\n",
            "dense_16 (Dense)             (None, 256)               131328    \n",
            "_________________________________________________________________\n",
            "dense_17 (Dense)             (None, 128)               32896     \n",
            "_________________________________________________________________\n",
            "dense_18 (Dense)             (None, 64)                8256      \n",
            "_________________________________________________________________\n",
            "dense_19 (Dense)             (None, 5)                 325       \n",
            "=================================================================\n",
            "Total params: 41,639,637\n",
            "Trainable params: 504,837\n",
            "Non-trainable params: 41,134,800\n",
            "_________________________________________________________________\n",
            "Epoch 1/100\n",
            "17250/17250 [==============================] - 330s 19ms/step - loss: 0.9041 - accuracy: 0.6399 - val_loss: 0.6300 - val_accuracy: 0.7817\n",
            "Epoch 2/100\n",
            "17250/17250 [==============================] - 319s 18ms/step - loss: 0.6131 - accuracy: 0.7843 - val_loss: 0.5905 - val_accuracy: 0.7938\n",
            "Epoch 3/100\n",
            "17250/17250 [==============================] - 314s 18ms/step - loss: 0.5708 - accuracy: 0.7981 - val_loss: 0.5665 - val_accuracy: 0.8009\n",
            "Epoch 4/100\n",
            "17250/17250 [==============================] - 318s 18ms/step - loss: 0.5517 - accuracy: 0.8055 - val_loss: 0.5644 - val_accuracy: 0.8003\n",
            "Epoch 5/100\n",
            "17250/17250 [==============================] - 321s 19ms/step - loss: 0.5385 - accuracy: 0.8103 - val_loss: 0.5470 - val_accuracy: 0.8058\n",
            "Epoch 6/100\n",
            "17250/17250 [==============================] - 322s 19ms/step - loss: 0.5314 - accuracy: 0.8126 - val_loss: 0.5517 - val_accuracy: 0.8043\n",
            "\n",
            " CONV1D BiGRU \n",
            "\n",
            "Model: \"sequential_4\"\n",
            "_________________________________________________________________\n",
            "Layer (type)                 Output Shape              Param #   \n",
            "=================================================================\n",
            "embedding_4 (Embedding)      (None, 163, 300)          41134800  \n",
            "_________________________________________________________________\n",
            "conv1d_9 (Conv1D)            (None, 161, 32)           28832     \n",
            "_________________________________________________________________\n",
            "max_pooling1d_12 (MaxPooling (None, 80, 32)            0         \n",
            "_________________________________________________________________\n",
            "conv1d_10 (Conv1D)           (None, 78, 32)            3104      \n",
            "_________________________________________________________________\n",
            "max_pooling1d_13 (MaxPooling (None, 39, 32)            0         \n",
            "_________________________________________________________________\n",
            "conv1d_11 (Conv1D)           (None, 37, 32)            3104      \n",
            "_________________________________________________________________\n",
            "max_pooling1d_14 (MaxPooling (None, 18, 32)            0         \n",
            "_________________________________________________________________\n",
            "bidirectional_2 (Bidirection (None, 18, 32)            4800      \n",
            "_________________________________________________________________\n",
            "flatten_3 (Flatten)          (None, 576)               0         \n",
            "_________________________________________________________________\n",
            "dense_20 (Dense)             (None, 512)               295424    \n",
            "_________________________________________________________________\n",
            "dense_21 (Dense)             (None, 256)               131328    \n",
            "_________________________________________________________________\n",
            "dense_22 (Dense)             (None, 128)               32896     \n",
            "_________________________________________________________________\n",
            "dense_23 (Dense)             (None, 64)                8256      \n",
            "_________________________________________________________________\n",
            "dense_24 (Dense)             (None, 5)                 325       \n",
            "=================================================================\n",
            "Total params: 41,642,869\n",
            "Trainable params: 508,069\n",
            "Non-trainable params: 41,134,800\n",
            "_________________________________________________________________\n",
            "Epoch 1/100\n",
            "17250/17250 [==============================] - 351s 20ms/step - loss: 0.8524 - accuracy: 0.6718 - val_loss: 0.6477 - val_accuracy: 0.7715\n",
            "Epoch 2/100\n",
            "17250/17250 [==============================] - 336s 20ms/step - loss: 0.6149 - accuracy: 0.7838 - val_loss: 0.5767 - val_accuracy: 0.7971\n",
            "Epoch 3/100\n",
            "17250/17250 [==============================] - 335s 19ms/step - loss: 0.5624 - accuracy: 0.8013 - val_loss: 0.5683 - val_accuracy: 0.7998\n",
            "Epoch 4/100\n",
            "17250/17250 [==============================] - 334s 19ms/step - loss: 0.5400 - accuracy: 0.8095 - val_loss: 0.5532 - val_accuracy: 0.8071\n",
            "Epoch 5/100\n",
            "17250/17250 [==============================] - 334s 19ms/step - loss: 0.5279 - accuracy: 0.8132 - val_loss: 0.5442 - val_accuracy: 0.8083\n",
            "Epoch 6/100\n",
            "17250/17250 [==============================] - 335s 19ms/step - loss: 0.5198 - accuracy: 0.8171 - val_loss: 0.5444 - val_accuracy: 0.8053\n",
            "\n",
            " SEPARABLE CONV1D BiLSTM \n",
            "\n",
            "Model: \"sequential_5\"\n",
            "_________________________________________________________________\n",
            "Layer (type)                 Output Shape              Param #   \n",
            "=================================================================\n",
            "embedding_5 (Embedding)      (None, 163, 300)          41134800  \n",
            "_________________________________________________________________\n",
            "separable_conv1d_3 (Separabl (None, 161, 32)           10532     \n",
            "_________________________________________________________________\n",
            "max_pooling1d_15 (MaxPooling (None, 80, 32)            0         \n",
            "_________________________________________________________________\n",
            "separable_conv1d_4 (Separabl (None, 78, 32)            1152      \n",
            "_________________________________________________________________\n",
            "max_pooling1d_16 (MaxPooling (None, 39, 32)            0         \n",
            "_________________________________________________________________\n",
            "separable_conv1d_5 (Separabl (None, 37, 32)            1152      \n",
            "_________________________________________________________________\n",
            "max_pooling1d_17 (MaxPooling (None, 18, 32)            0         \n",
            "_________________________________________________________________\n",
            "bidirectional_3 (Bidirection (None, 18, 32)            6272      \n",
            "_________________________________________________________________\n",
            "flatten_4 (Flatten)          (None, 576)               0         \n",
            "_________________________________________________________________\n",
            "dense_25 (Dense)             (None, 512)               295424    \n",
            "_________________________________________________________________\n",
            "dense_26 (Dense)             (None, 256)               131328    \n",
            "_________________________________________________________________\n",
            "dense_27 (Dense)             (None, 128)               32896     \n",
            "_________________________________________________________________\n",
            "dense_28 (Dense)             (None, 64)                8256      \n",
            "_________________________________________________________________\n",
            "dense_29 (Dense)             (None, 5)                 325       \n",
            "=================================================================\n",
            "Total params: 41,622,137\n",
            "Trainable params: 487,337\n",
            "Non-trainable params: 41,134,800\n",
            "_________________________________________________________________\n",
            "Epoch 1/100\n",
            "17250/17250 [==============================] - 355s 20ms/step - loss: 1.6132 - accuracy: 0.1991 - val_loss: 1.6095 - val_accuracy: 0.2000\n",
            "Epoch 2/100\n",
            "17250/17250 [==============================] - 343s 20ms/step - loss: 1.6096 - accuracy: 0.2003 - val_loss: 1.6095 - val_accuracy: 0.2000\n",
            "Epoch 3/100\n",
            "17250/17250 [==============================] - 352s 20ms/step - loss: 1.6095 - accuracy: 0.1997 - val_loss: 1.6095 - val_accuracy: 0.2000\n"
          ],
          "name": "stdout"
        }
      ]
    },
    {
      "cell_type": "code",
      "metadata": {
        "id": "m4XavzA_Lr4s"
      },
      "source": [
        "y = wem.get_history_fasttext()"
      ],
      "execution_count": null,
      "outputs": []
    },
    {
      "cell_type": "code",
      "metadata": {
        "id": "wWNF02yBL5E9"
      },
      "source": [
        "dfs = []\n",
        "for k in y.keys():\n",
        "  z = y[k][0].history\n",
        "  df = pd.DataFrame.from_dict(z)\n",
        "  df['epoch'] = [i+1 for i in range(len(df))]\n",
        "  dfs.append(df)"
      ],
      "execution_count": null,
      "outputs": []
    },
    {
      "cell_type": "code",
      "metadata": {
        "colab": {
          "base_uri": "https://localhost:8080/"
        },
        "id": "rEh7fyev-y2p",
        "outputId": "a1feea06-7328-4c24-d375-199614755275"
      },
      "source": [
        "len(dfs)"
      ],
      "execution_count": null,
      "outputs": [
        {
          "output_type": "execute_result",
          "data": {
            "text/plain": [
              "6"
            ]
          },
          "metadata": {
            "tags": []
          },
          "execution_count": 14
        }
      ]
    },
    {
      "cell_type": "code",
      "metadata": {
        "colab": {
          "base_uri": "https://localhost:8080/"
        },
        "id": "id_a3mg7MBu7",
        "outputId": "b271b857-4640-4336-c6cb-25e3fb69d419"
      },
      "source": [
        "for k in y.keys():\n",
        "  print(k)"
      ],
      "execution_count": null,
      "outputs": [
        {
          "output_type": "stream",
          "text": [
            "<bound method word_emb_model.CONV1D of <__main__.word_emb_model object at 0x7f4d14e49b50>>\n",
            "<bound method word_emb_model.SEP_CONV1D of <__main__.word_emb_model object at 0x7f4d14e49b50>>\n",
            "<bound method word_emb_model.CONV1D_BiLSTM of <__main__.word_emb_model object at 0x7f4d14e49b50>>\n",
            "<bound method word_emb_model.CONV1D_BiRNN of <__main__.word_emb_model object at 0x7f4d14e49b50>>\n",
            "<bound method word_emb_model.CONV1D_BiGRU of <__main__.word_emb_model object at 0x7f4d14e49b50>>\n",
            "<bound method word_emb_model.SEP_CONV1D_BiLSTM of <__main__.word_emb_model object at 0x7f4d14e49b50>>\n"
          ],
          "name": "stdout"
        }
      ]
    },
    {
      "cell_type": "code",
      "metadata": {
        "id": "6AAHnwQ6MFIj"
      },
      "source": [
        "k = ['CONV1D','SEP_CONV1D','CONV1D_BiLSTM','CONV1D_BiRNN','CONV1D_BiGRU','SEP_CONV1D_BiLSTM']"
      ],
      "execution_count": null,
      "outputs": []
    },
    {
      "cell_type": "code",
      "metadata": {
        "id": "g-kbrwKIMnyO"
      },
      "source": [
        "for i in range(len(dfs)):\n",
        "  dfs[i].to_csv('/content/drive/MyDrive/sent_fasttext_300_'+k[i]+'.csv',index = False,header = True)"
      ],
      "execution_count": null,
      "outputs": []
    }
  ]
}