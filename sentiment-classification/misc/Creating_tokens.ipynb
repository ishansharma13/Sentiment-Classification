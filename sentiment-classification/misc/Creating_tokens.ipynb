{
  "nbformat": 4,
  "nbformat_minor": 0,
  "metadata": {
    "colab": {
      "name": "Creating tokens.ipynb",
      "provenance": [],
      "machine_shape": "hm"
    },
    "kernelspec": {
      "name": "python3",
      "display_name": "Python 3"
    },
    "language_info": {
      "name": "python"
    }
  },
  "cells": [
    {
      "cell_type": "code",
      "metadata": {
        "colab": {
          "base_uri": "https://localhost:8080/"
        },
        "id": "uwgu4ecRVkGH",
        "outputId": "cf3f4aea-d8b8-4e6e-e036-b44e424ccf8f"
      },
      "source": [
        "!pip install transformers==3.0.2\n",
        "!pip install sentencepiece"
      ],
      "execution_count": null,
      "outputs": [
        {
          "output_type": "stream",
          "text": [
            "Collecting transformers==3.0.2\n",
            "\u001b[?25l  Downloading https://files.pythonhosted.org/packages/27/3c/91ed8f5c4e7ef3227b4119200fc0ed4b4fd965b1f0172021c25701087825/transformers-3.0.2-py3-none-any.whl (769kB)\n",
            "\u001b[K     |████████████████████████████████| 778kB 11.3MB/s \n",
            "\u001b[?25hCollecting sacremoses\n",
            "\u001b[?25l  Downloading https://files.pythonhosted.org/packages/75/ee/67241dc87f266093c533a2d4d3d69438e57d7a90abb216fa076e7d475d4a/sacremoses-0.0.45-py3-none-any.whl (895kB)\n",
            "\u001b[K     |████████████████████████████████| 901kB 31.8MB/s \n",
            "\u001b[?25hRequirement already satisfied: packaging in /usr/local/lib/python3.7/dist-packages (from transformers==3.0.2) (20.9)\n",
            "Collecting sentencepiece!=0.1.92\n",
            "\u001b[?25l  Downloading https://files.pythonhosted.org/packages/f5/99/e0808cb947ba10f575839c43e8fafc9cc44e4a7a2c8f79c60db48220a577/sentencepiece-0.1.95-cp37-cp37m-manylinux2014_x86_64.whl (1.2MB)\n",
            "\u001b[K     |████████████████████████████████| 1.2MB 49.3MB/s \n",
            "\u001b[?25hRequirement already satisfied: filelock in /usr/local/lib/python3.7/dist-packages (from transformers==3.0.2) (3.0.12)\n",
            "Requirement already satisfied: numpy in /usr/local/lib/python3.7/dist-packages (from transformers==3.0.2) (1.19.5)\n",
            "Collecting tokenizers==0.8.1.rc1\n",
            "\u001b[?25l  Downloading https://files.pythonhosted.org/packages/02/59/68c7e3833f535615fb97d33ffcb7b30bbf62bc7477a9c59cd19ad8535d72/tokenizers-0.8.1rc1-cp37-cp37m-manylinux1_x86_64.whl (3.0MB)\n",
            "\u001b[K     |████████████████████████████████| 3.0MB 66.8MB/s \n",
            "\u001b[?25hRequirement already satisfied: tqdm>=4.27 in /usr/local/lib/python3.7/dist-packages (from transformers==3.0.2) (4.41.1)\n",
            "Requirement already satisfied: requests in /usr/local/lib/python3.7/dist-packages (from transformers==3.0.2) (2.23.0)\n",
            "Requirement already satisfied: regex!=2019.12.17 in /usr/local/lib/python3.7/dist-packages (from transformers==3.0.2) (2019.12.20)\n",
            "Requirement already satisfied: six in /usr/local/lib/python3.7/dist-packages (from sacremoses->transformers==3.0.2) (1.15.0)\n",
            "Requirement already satisfied: click in /usr/local/lib/python3.7/dist-packages (from sacremoses->transformers==3.0.2) (7.1.2)\n",
            "Requirement already satisfied: joblib in /usr/local/lib/python3.7/dist-packages (from sacremoses->transformers==3.0.2) (1.0.1)\n",
            "Requirement already satisfied: pyparsing>=2.0.2 in /usr/local/lib/python3.7/dist-packages (from packaging->transformers==3.0.2) (2.4.7)\n",
            "Requirement already satisfied: urllib3!=1.25.0,!=1.25.1,<1.26,>=1.21.1 in /usr/local/lib/python3.7/dist-packages (from requests->transformers==3.0.2) (1.24.3)\n",
            "Requirement already satisfied: chardet<4,>=3.0.2 in /usr/local/lib/python3.7/dist-packages (from requests->transformers==3.0.2) (3.0.4)\n",
            "Requirement already satisfied: certifi>=2017.4.17 in /usr/local/lib/python3.7/dist-packages (from requests->transformers==3.0.2) (2020.12.5)\n",
            "Requirement already satisfied: idna<3,>=2.5 in /usr/local/lib/python3.7/dist-packages (from requests->transformers==3.0.2) (2.10)\n",
            "Installing collected packages: sacremoses, sentencepiece, tokenizers, transformers\n",
            "Successfully installed sacremoses-0.0.45 sentencepiece-0.1.95 tokenizers-0.8.1rc1 transformers-3.0.2\n",
            "Requirement already satisfied: sentencepiece in /usr/local/lib/python3.7/dist-packages (0.1.95)\n"
          ],
          "name": "stdout"
        }
      ]
    },
    {
      "cell_type": "code",
      "metadata": {
        "colab": {
          "base_uri": "https://localhost:8080/"
        },
        "id": "xpfCfH7sVytZ",
        "outputId": "1a0299b9-b698-4e08-ccbd-c6f5b4563240"
      },
      "source": [
        "from transformers import AlbertTokenizer,DistilBertTokenizer,BertTokenizer,ElectraTokenizer\n",
        "import pandas as pd\n",
        "from google.colab import drive\n",
        "drive.mount('/content/drive')"
      ],
      "execution_count": null,
      "outputs": [
        {
          "output_type": "stream",
          "text": [
            "Mounted at /content/drive\n"
          ],
          "name": "stdout"
        }
      ]
    },
    {
      "cell_type": "code",
      "metadata": {
        "id": "Yo2lcxH5V5Sx"
      },
      "source": [
        "df1 = pd.read_csv('/content/drive/MyDrive/sarcasm data/train_sarc_final_with_folds.csv')\n",
        "df2 = pd.read_csv('/content/drive/MyDrive/sarcasm data/train_sarc_final_with_folds.csv')\n",
        "df3 = pd.read_csv('/content/drive/MyDrive/sarcasm data/train_sarc_final_with_folds.csv')\n",
        "df4 = pd.read_csv('/content/drive/MyDrive/sarcasm data/train_sarc_final_with_folds.csv')"
      ],
      "execution_count": null,
      "outputs": []
    },
    {
      "cell_type": "code",
      "metadata": {
        "id": "hHKdsIOOV5-x"
      },
      "source": [
        "elec_tok = ElectraTokenizer.from_pretrained('google/electra-small-discriminator',add_special_tokens=True,max_length =35,pad_to_max_length = True)\n",
        "distilbert_tok = DistilBertTokenizer.from_pretrained('distilbert-base-uncased',add_special_tokens=True,max_length =35,pad_to_max_length = True)\n",
        "albert_tok = AlbertTokenizer.from_pretrained('albert-base-v2',add_special_tokens=True,max_length =35,pad_to_max_length = True)\n",
        "bert_tok = BertTokenizer.from_pretrained('bert-base-uncased',add_special_tokens=True,max_length =35,pad_to_max_length = True)"
      ],
      "execution_count": null,
      "outputs": []
    },
    {
      "cell_type": "code",
      "metadata": {
        "id": "2lMcmHhFV_1D"
      },
      "source": [
        "def encode_data(x,tokenizer):\n",
        "    encoded = tokenizer.encode_plus(x,add_special_tokens=True,max_length =35,padding = 'max_length',truncation=True,return_token_type_ids = False,return_attention_mask=True,return_tensors='np')\n",
        "    return [encoded['input_ids'].tolist(),encoded['attention_mask'].tolist()]"
      ],
      "execution_count": null,
      "outputs": []
    },
    {
      "cell_type": "code",
      "metadata": {
        "id": "k7TwYNMf4ocB"
      },
      "source": [
        "# k = df1['text'][0]"
      ],
      "execution_count": null,
      "outputs": []
    },
    {
      "cell_type": "code",
      "metadata": {
        "id": "bFUy8uBZ4uia"
      },
      "source": [
        "# y = encode_data(k,elec_tok)"
      ],
      "execution_count": null,
      "outputs": []
    },
    {
      "cell_type": "code",
      "metadata": {
        "id": "g-li4jdt40E-"
      },
      "source": [
        "# df2['encoded'][0].to_dict()"
      ],
      "execution_count": null,
      "outputs": []
    },
    {
      "cell_type": "code",
      "metadata": {
        "id": "FIIlnRCY5-KL"
      },
      "source": [
        "# df2 = pd.read_csv('/content/drive/MyDrive/sentiment data/tr_sen_fin_elec_trans_inps.csv')"
      ],
      "execution_count": null,
      "outputs": []
    },
    {
      "cell_type": "code",
      "metadata": {
        "id": "NzQjiQQs48LB"
      },
      "source": [
        "# z = json.dumps(y)"
      ],
      "execution_count": null,
      "outputs": []
    },
    {
      "cell_type": "code",
      "metadata": {
        "id": "P_mVeDe78YkC"
      },
      "source": [
        "# ki = json.loads(z)"
      ],
      "execution_count": null,
      "outputs": []
    },
    {
      "cell_type": "code",
      "metadata": {
        "id": "DH1lgv6Q8dG-"
      },
      "source": [
        "# import numpy as np\n",
        "# np.array(ki[0]).shape"
      ],
      "execution_count": null,
      "outputs": []
    },
    {
      "cell_type": "code",
      "metadata": {
        "id": "i2AwExx0WCiT"
      },
      "source": [
        "df1['bert_encoded'] = df1['text'].apply(lambda x: encode_data(x,bert_tok))\n",
        "df2['albert_encoded'] = df2['text'].apply(lambda x: encode_data(x,albert_tok))\n",
        "df3['distilbert_encoded'] = df3['text'].apply(lambda x: encode_data(x,distilbert_tok))\n",
        "df4['elec_encoded'] = df4['text'].apply(lambda x: encode_data(x,elec_tok))"
      ],
      "execution_count": null,
      "outputs": []
    },
    {
      "cell_type": "code",
      "metadata": {
        "colab": {
          "base_uri": "https://localhost:8080/",
          "height": 406
        },
        "id": "quZ7xK9MJpdE",
        "outputId": "c378f12b-b1d1-410b-b940-4e80341f2cf1"
      },
      "source": [
        ""
      ],
      "execution_count": null,
      "outputs": [
        {
          "output_type": "execute_result",
          "data": {
            "text/html": [
              "<div>\n",
              "<style scoped>\n",
              "    .dataframe tbody tr th:only-of-type {\n",
              "        vertical-align: middle;\n",
              "    }\n",
              "\n",
              "    .dataframe tbody tr th {\n",
              "        vertical-align: top;\n",
              "    }\n",
              "\n",
              "    .dataframe thead th {\n",
              "        text-align: right;\n",
              "    }\n",
              "</style>\n",
              "<table border=\"1\" class=\"dataframe\">\n",
              "  <thead>\n",
              "    <tr style=\"text-align: right;\">\n",
              "      <th></th>\n",
              "      <th>u_id</th>\n",
              "      <th>text</th>\n",
              "      <th>label</th>\n",
              "      <th>kfold</th>\n",
              "      <th>bert_encoded</th>\n",
              "    </tr>\n",
              "  </thead>\n",
              "  <tbody>\n",
              "    <tr>\n",
              "      <th>0</th>\n",
              "      <td>30c09bb7414411eefe6dee09a33bdf15ae380d0a00e15a...</td>\n",
              "      <td>spent weekend being plagued by hayfever my sid...</td>\n",
              "      <td>sarcasm</td>\n",
              "      <td>0.0</td>\n",
              "      <td>[[[101, 2985, 5353, 2108, 17808, 2011, 10974, ...</td>\n",
              "    </tr>\n",
              "    <tr>\n",
              "      <th>1</th>\n",
              "      <td>44f44cc82c659219433181641314753aecff83a5e842ae...</td>\n",
              "      <td>oh no i had strep five times in a row once med...</td>\n",
              "      <td>sarcasm</td>\n",
              "      <td>0.0</td>\n",
              "      <td>[[[101, 2821, 2053, 1045, 2018, 2358, 2890, 23...</td>\n",
              "    </tr>\n",
              "    <tr>\n",
              "      <th>2</th>\n",
              "      <td>6474df6d3bbbc4c5c61ef273dd2c7bd345c5ef12422697...</td>\n",
              "      <td>i wish we had something amazing to do for spri...</td>\n",
              "      <td>sarcasm</td>\n",
              "      <td>0.0</td>\n",
              "      <td>[[[101, 1045, 4299, 2057, 2018, 2242, 6429, 20...</td>\n",
              "    </tr>\n",
              "    <tr>\n",
              "      <th>3</th>\n",
              "      <td>11903b6d411ab0790f7d82598ab6b4419c545628414a4d...</td>\n",
              "      <td>sometimes i just wished breakfast would cook i...</td>\n",
              "      <td>sarcasm</td>\n",
              "      <td>0.0</td>\n",
              "      <td>[[[101, 2823, 1045, 2074, 6257, 6350, 2052, 56...</td>\n",
              "    </tr>\n",
              "    <tr>\n",
              "      <th>4</th>\n",
              "      <td>5afc61ff8dba0dd2066ef12716c075e1d6fec4ea8e1155...</td>\n",
              "      <td>recovering from my crazy family i love them bu...</td>\n",
              "      <td>sarcasm</td>\n",
              "      <td>0.0</td>\n",
              "      <td>[[[101, 13400, 2013, 2026, 4689, 2155, 1045, 2...</td>\n",
              "    </tr>\n",
              "    <tr>\n",
              "      <th>...</th>\n",
              "      <td>...</td>\n",
              "      <td>...</td>\n",
              "      <td>...</td>\n",
              "      <td>...</td>\n",
              "      <td>...</td>\n",
              "    </tr>\n",
              "    <tr>\n",
              "      <th>293995</th>\n",
              "      <td>ffbffcc7e1e638709d88851edf89027a6521da93d8108e...</td>\n",
              "      <td>the ball does not touch the ground over the tr...</td>\n",
              "      <td>normal</td>\n",
              "      <td>4.0</td>\n",
              "      <td>[[[101, 1996, 3608, 2515, 2025, 3543, 1996, 25...</td>\n",
              "    </tr>\n",
              "    <tr>\n",
              "      <th>293996</th>\n",
              "      <td>3361180b3bc4ef682f12371a79a4681df6b19257324f9f...</td>\n",
              "      <td>twitter seems empty today</td>\n",
              "      <td>normal</td>\n",
              "      <td>4.0</td>\n",
              "      <td>[[[101, 10474, 3849, 4064, 2651, 102, 0, 0, 0,...</td>\n",
              "    </tr>\n",
              "    <tr>\n",
              "      <th>293997</th>\n",
              "      <td>90b2b11a0218559513d973697aeab27cb92fb5e83081fc...</td>\n",
              "      <td>that is evil</td>\n",
              "      <td>normal</td>\n",
              "      <td>4.0</td>\n",
              "      <td>[[[101, 2008, 2003, 4763, 102, 0, 0, 0, 0, 0, ...</td>\n",
              "    </tr>\n",
              "    <tr>\n",
              "      <th>293998</th>\n",
              "      <td>d50afb07f428fb519a1c85a1d84acc5f269360b1b7555a...</td>\n",
              "      <td>i love chasing pavements on my ipod too actual...</td>\n",
              "      <td>normal</td>\n",
              "      <td>4.0</td>\n",
              "      <td>[[[101, 1045, 2293, 11777, 14271, 2015, 2006, ...</td>\n",
              "    </tr>\n",
              "    <tr>\n",
              "      <th>293999</th>\n",
              "      <td>62eecfd1f6c7e74480a27b07ddd25fe7d0ac83de427aa3...</td>\n",
              "      <td>grrr are you saying that steve mcqueen never m...</td>\n",
              "      <td>normal</td>\n",
              "      <td>4.0</td>\n",
              "      <td>[[[101, 24665, 12171, 2024, 2017, 3038, 2008, ...</td>\n",
              "    </tr>\n",
              "  </tbody>\n",
              "</table>\n",
              "<p>294000 rows × 5 columns</p>\n",
              "</div>"
            ],
            "text/plain": [
              "                                                     u_id  ...                                       bert_encoded\n",
              "0       30c09bb7414411eefe6dee09a33bdf15ae380d0a00e15a...  ...  [[[101, 2985, 5353, 2108, 17808, 2011, 10974, ...\n",
              "1       44f44cc82c659219433181641314753aecff83a5e842ae...  ...  [[[101, 2821, 2053, 1045, 2018, 2358, 2890, 23...\n",
              "2       6474df6d3bbbc4c5c61ef273dd2c7bd345c5ef12422697...  ...  [[[101, 1045, 4299, 2057, 2018, 2242, 6429, 20...\n",
              "3       11903b6d411ab0790f7d82598ab6b4419c545628414a4d...  ...  [[[101, 2823, 1045, 2074, 6257, 6350, 2052, 56...\n",
              "4       5afc61ff8dba0dd2066ef12716c075e1d6fec4ea8e1155...  ...  [[[101, 13400, 2013, 2026, 4689, 2155, 1045, 2...\n",
              "...                                                   ...  ...                                                ...\n",
              "293995  ffbffcc7e1e638709d88851edf89027a6521da93d8108e...  ...  [[[101, 1996, 3608, 2515, 2025, 3543, 1996, 25...\n",
              "293996  3361180b3bc4ef682f12371a79a4681df6b19257324f9f...  ...  [[[101, 10474, 3849, 4064, 2651, 102, 0, 0, 0,...\n",
              "293997  90b2b11a0218559513d973697aeab27cb92fb5e83081fc...  ...  [[[101, 2008, 2003, 4763, 102, 0, 0, 0, 0, 0, ...\n",
              "293998  d50afb07f428fb519a1c85a1d84acc5f269360b1b7555a...  ...  [[[101, 1045, 2293, 11777, 14271, 2015, 2006, ...\n",
              "293999  62eecfd1f6c7e74480a27b07ddd25fe7d0ac83de427aa3...  ...  [[[101, 24665, 12171, 2024, 2017, 3038, 2008, ...\n",
              "\n",
              "[294000 rows x 5 columns]"
            ]
          },
          "metadata": {
            "tags": []
          },
          "execution_count": 8
        }
      ]
    },
    {
      "cell_type": "code",
      "metadata": {
        "id": "9S0fUx7GWGpL"
      },
      "source": [
        "df1 = df1.drop('text',axis =1)\n",
        "df2 = df2.drop('text',axis =1)\n",
        "df3 = df3.drop('text',axis =1)\n",
        "df4 = df4.drop('text',axis =1)\n",
        "df1 = df1.rename({'bert_encoded':'encoded'},axis = 1)\n",
        "df2 = df2.rename({'albert_encoded':'encoded'},axis = 1)\n",
        "df3 = df3.rename({'distilbert_encoded':'encoded'},axis = 1)\n",
        "df4 = df4.rename({'elec_encoded':'encoded'},axis = 1)\n",
        "df1.to_csv('/content/drive/MyDrive/sarcasm data/tr_sarc_fin_bert_trans_inps.csv',index=False,header=True)\n",
        "df2.to_csv('/content/drive/MyDrive/sarcasm data/tr_sarc_fin_albert_trans_inps.csv',index=False,header=True)\n",
        "df3.to_csv('/content/drive/MyDrive/sarcasm data/tr_sarc_fin_distilbert_trans_inps.csv',index=False,header=True)\n",
        "df4.to_csv('/content/drive/MyDrive/sarcasm data/tr_sarc_fin_elec_trans_inps.csv',index=False,header=True)"
      ],
      "execution_count": null,
      "outputs": []
    }
  ]
}