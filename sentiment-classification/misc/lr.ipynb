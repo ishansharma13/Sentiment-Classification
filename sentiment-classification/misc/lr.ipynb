{
  "nbformat": 4,
  "nbformat_minor": 0,
  "metadata": {
    "colab": {
      "name": "lr.ipynb",
      "provenance": [],
      "machine_shape": "hm"
    },
    "kernelspec": {
      "display_name": "Python 3",
      "name": "python3"
    },
    "language_info": {
      "name": "python"
    }
  },
  "cells": [
    {
      "cell_type": "code",
      "metadata": {
        "colab": {
          "base_uri": "https://localhost:8080/"
        },
        "id": "MvGWbNA35VT-",
        "outputId": "4606cbd0-e021-499e-dafe-a3909e10614f"
      },
      "source": [
        "#import libraries\n",
        "#divide data into training and test set\n",
        "#initialize repeated k-fold stratified on training data\n",
        "#find accuracy on test set\n",
        "#save the model"
      ],
      "execution_count": null,
      "outputs": [
        {
          "name": "stdout",
          "output_type": "stream",
          "text": [
            "Requirement already satisfied: tune_sklearn in /usr/local/lib/python3.7/dist-packages (0.2.1)\n",
            "Requirement already satisfied: scipy in /usr/local/lib/python3.7/dist-packages (from tune_sklearn) (1.4.1)\n",
            "Requirement already satisfied: scikit-learn in /usr/local/lib/python3.7/dist-packages (from tune_sklearn) (0.22.2.post1)\n",
            "Requirement already satisfied: numpy>=1.16 in /usr/local/lib/python3.7/dist-packages (from tune_sklearn) (1.19.5)\n",
            "Requirement already satisfied: ray[tune] in /usr/local/lib/python3.7/dist-packages (from tune_sklearn) (1.2.0)\n",
            "Requirement already satisfied: joblib>=0.11 in /usr/local/lib/python3.7/dist-packages (from scikit-learn->tune_sklearn) (1.0.1)\n",
            "Requirement already satisfied: aioredis in /usr/local/lib/python3.7/dist-packages (from ray[tune]->tune_sklearn) (1.3.1)\n",
            "Requirement already satisfied: gpustat in /usr/local/lib/python3.7/dist-packages (from ray[tune]->tune_sklearn) (0.6.0)\n",
            "Requirement already satisfied: click>=7.0 in /usr/local/lib/python3.7/dist-packages (from ray[tune]->tune_sklearn) (7.1.2)\n",
            "Requirement already satisfied: py-spy>=0.2.0 in /usr/local/lib/python3.7/dist-packages (from ray[tune]->tune_sklearn) (0.3.5)\n",
            "Requirement already satisfied: aiohttp in /usr/local/lib/python3.7/dist-packages (from ray[tune]->tune_sklearn) (3.7.4.post0)\n",
            "Requirement already satisfied: colorama in /usr/local/lib/python3.7/dist-packages (from ray[tune]->tune_sklearn) (0.4.4)\n",
            "Requirement already satisfied: jsonschema in /usr/local/lib/python3.7/dist-packages (from ray[tune]->tune_sklearn) (2.6.0)\n",
            "Requirement already satisfied: grpcio>=1.28.1 in /usr/local/lib/python3.7/dist-packages (from ray[tune]->tune_sklearn) (1.32.0)\n",
            "Requirement already satisfied: prometheus-client>=0.7.1 in /usr/local/lib/python3.7/dist-packages (from ray[tune]->tune_sklearn) (0.10.0)\n",
            "Requirement already satisfied: protobuf>=3.8.0 in /usr/local/lib/python3.7/dist-packages (from ray[tune]->tune_sklearn) (3.12.4)\n",
            "Requirement already satisfied: aiohttp-cors in /usr/local/lib/python3.7/dist-packages (from ray[tune]->tune_sklearn) (0.7.0)\n",
            "Requirement already satisfied: requests in /usr/local/lib/python3.7/dist-packages (from ray[tune]->tune_sklearn) (2.23.0)\n",
            "Requirement already satisfied: redis>=3.5.0 in /usr/local/lib/python3.7/dist-packages (from ray[tune]->tune_sklearn) (3.5.3)\n",
            "Requirement already satisfied: opencensus in /usr/local/lib/python3.7/dist-packages (from ray[tune]->tune_sklearn) (0.7.12)\n",
            "Requirement already satisfied: pyyaml in /usr/local/lib/python3.7/dist-packages (from ray[tune]->tune_sklearn) (3.13)\n",
            "Requirement already satisfied: filelock in /usr/local/lib/python3.7/dist-packages (from ray[tune]->tune_sklearn) (3.0.12)\n",
            "Requirement already satisfied: colorful in /usr/local/lib/python3.7/dist-packages (from ray[tune]->tune_sklearn) (0.5.4)\n",
            "Requirement already satisfied: msgpack<2.0.0,>=1.0.0 in /usr/local/lib/python3.7/dist-packages (from ray[tune]->tune_sklearn) (1.0.2)\n",
            "Requirement already satisfied: tabulate; extra == \"tune\" in /usr/local/lib/python3.7/dist-packages (from ray[tune]->tune_sklearn) (0.8.9)\n",
            "Requirement already satisfied: pandas; extra == \"tune\" in /usr/local/lib/python3.7/dist-packages (from ray[tune]->tune_sklearn) (1.1.5)\n",
            "Requirement already satisfied: tensorboardX; extra == \"tune\" in /usr/local/lib/python3.7/dist-packages (from ray[tune]->tune_sklearn) (2.2)\n",
            "Requirement already satisfied: hiredis in /usr/local/lib/python3.7/dist-packages (from aioredis->ray[tune]->tune_sklearn) (2.0.0)\n",
            "Requirement already satisfied: async-timeout in /usr/local/lib/python3.7/dist-packages (from aioredis->ray[tune]->tune_sklearn) (3.0.1)\n",
            "Requirement already satisfied: psutil in /usr/local/lib/python3.7/dist-packages (from gpustat->ray[tune]->tune_sklearn) (5.4.8)\n",
            "Requirement already satisfied: nvidia-ml-py3>=7.352.0 in /usr/local/lib/python3.7/dist-packages (from gpustat->ray[tune]->tune_sklearn) (7.352.0)\n",
            "Requirement already satisfied: six>=1.7 in /usr/local/lib/python3.7/dist-packages (from gpustat->ray[tune]->tune_sklearn) (1.15.0)\n",
            "Requirement already satisfied: blessings>=1.6 in /usr/local/lib/python3.7/dist-packages (from gpustat->ray[tune]->tune_sklearn) (1.7)\n",
            "Requirement already satisfied: chardet<5.0,>=2.0 in /usr/local/lib/python3.7/dist-packages (from aiohttp->ray[tune]->tune_sklearn) (3.0.4)\n",
            "Requirement already satisfied: typing-extensions>=3.6.5 in /usr/local/lib/python3.7/dist-packages (from aiohttp->ray[tune]->tune_sklearn) (3.7.4.3)\n",
            "Requirement already satisfied: yarl<2.0,>=1.0 in /usr/local/lib/python3.7/dist-packages (from aiohttp->ray[tune]->tune_sklearn) (1.6.3)\n",
            "Requirement already satisfied: attrs>=17.3.0 in /usr/local/lib/python3.7/dist-packages (from aiohttp->ray[tune]->tune_sklearn) (20.3.0)\n",
            "Requirement already satisfied: multidict<7.0,>=4.5 in /usr/local/lib/python3.7/dist-packages (from aiohttp->ray[tune]->tune_sklearn) (5.1.0)\n",
            "Requirement already satisfied: setuptools in /usr/local/lib/python3.7/dist-packages (from protobuf>=3.8.0->ray[tune]->tune_sklearn) (54.2.0)\n",
            "Requirement already satisfied: certifi>=2017.4.17 in /usr/local/lib/python3.7/dist-packages (from requests->ray[tune]->tune_sklearn) (2020.12.5)\n",
            "Requirement already satisfied: urllib3!=1.25.0,!=1.25.1,<1.26,>=1.21.1 in /usr/local/lib/python3.7/dist-packages (from requests->ray[tune]->tune_sklearn) (1.24.3)\n",
            "Requirement already satisfied: idna<3,>=2.5 in /usr/local/lib/python3.7/dist-packages (from requests->ray[tune]->tune_sklearn) (2.10)\n",
            "Requirement already satisfied: google-api-core<2.0.0,>=1.0.0 in /usr/local/lib/python3.7/dist-packages (from opencensus->ray[tune]->tune_sklearn) (1.26.2)\n",
            "Requirement already satisfied: opencensus-context==0.1.2 in /usr/local/lib/python3.7/dist-packages (from opencensus->ray[tune]->tune_sklearn) (0.1.2)\n",
            "Requirement already satisfied: pytz>=2017.2 in /usr/local/lib/python3.7/dist-packages (from pandas; extra == \"tune\"->ray[tune]->tune_sklearn) (2018.9)\n",
            "Requirement already satisfied: python-dateutil>=2.7.3 in /usr/local/lib/python3.7/dist-packages (from pandas; extra == \"tune\"->ray[tune]->tune_sklearn) (2.8.1)\n",
            "Requirement already satisfied: google-auth<2.0dev,>=1.21.1 in /usr/local/lib/python3.7/dist-packages (from google-api-core<2.0.0,>=1.0.0->opencensus->ray[tune]->tune_sklearn) (1.28.0)\n",
            "Requirement already satisfied: packaging>=14.3 in /usr/local/lib/python3.7/dist-packages (from google-api-core<2.0.0,>=1.0.0->opencensus->ray[tune]->tune_sklearn) (20.9)\n",
            "Requirement already satisfied: googleapis-common-protos<2.0dev,>=1.6.0 in /usr/local/lib/python3.7/dist-packages (from google-api-core<2.0.0,>=1.0.0->opencensus->ray[tune]->tune_sklearn) (1.53.0)\n",
            "Requirement already satisfied: pyasn1-modules>=0.2.1 in /usr/local/lib/python3.7/dist-packages (from google-auth<2.0dev,>=1.21.1->google-api-core<2.0.0,>=1.0.0->opencensus->ray[tune]->tune_sklearn) (0.2.8)\n",
            "Requirement already satisfied: rsa<5,>=3.1.4; python_version >= \"3.6\" in /usr/local/lib/python3.7/dist-packages (from google-auth<2.0dev,>=1.21.1->google-api-core<2.0.0,>=1.0.0->opencensus->ray[tune]->tune_sklearn) (4.7.2)\n",
            "Requirement already satisfied: cachetools<5.0,>=2.0.0 in /usr/local/lib/python3.7/dist-packages (from google-auth<2.0dev,>=1.21.1->google-api-core<2.0.0,>=1.0.0->opencensus->ray[tune]->tune_sklearn) (4.2.1)\n",
            "Requirement already satisfied: pyparsing>=2.0.2 in /usr/local/lib/python3.7/dist-packages (from packaging>=14.3->google-api-core<2.0.0,>=1.0.0->opencensus->ray[tune]->tune_sklearn) (2.4.7)\n",
            "Requirement already satisfied: pyasn1<0.5.0,>=0.4.6 in /usr/local/lib/python3.7/dist-packages (from pyasn1-modules>=0.2.1->google-auth<2.0dev,>=1.21.1->google-api-core<2.0.0,>=1.0.0->opencensus->ray[tune]->tune_sklearn) (0.4.8)\n"
          ]
        }
      ]
    },
    {
      "cell_type": "code",
      "metadata": {
        "id": "KL7W2eCU370N"
      },
      "source": [
        "from tune_sklearn import TuneSearchCV\n",
        "from sklearn.linear_model import LogisticRegression\n",
        "from sklearn.pipeline import Pipeline\n",
        "from ray.tune.schedulers import MedianStoppingRule\n",
        "from sklearn.model_selection import train_test_split\n",
        "pipe = Pipeline([(\"classify\",LogisticRegression(max_iter=1000,solver = 'saga',n_jobs = -1))])\n",
        "param_grid = [\n",
        "    {\n",
        "        \"classify__C\": [100, 10, 1.0, 0.1, 0.01]\n",
        "    },\n",
        "]\n",
        "scheduler = MedianStoppingRule(grace_period=10.0)\n",
        "x_train, x_test, y_train, y_test = train_test_split(x, y, test_size=.2)\n",
        "random = TuneSearchCV(\n",
        "    pipe,\n",
        "    param_grid,\n",
        "    search_optimization=\"random\",\n",
        "    early_stopping=scheduler,\n",
        "    max_iters=50,\n",
        "    pipeline_auto_early_stop=True)\n",
        "random.fit(x_train,y_train)\n",
        "print(random.cv_results_)"
      ],
      "execution_count": null,
      "outputs": []
    },
    {
      "cell_type": "code",
      "metadata": {
        "id": "CwMH2Nc1dLi-"
      },
      "source": [
        "y_pred = random.predict(x_test)"
      ],
      "execution_count": null,
      "outputs": []
    },
    {
      "cell_type": "code",
      "metadata": {
        "colab": {
          "base_uri": "https://localhost:8080/"
        },
        "id": "1fzgvbjUdi7w",
        "outputId": "7c37b819-d6a0-42c9-d26f-14c8582c69d6"
      },
      "source": [
        "from sklearn.metrics import accuracy_score\n",
        "clf = LogisticRegression(C=1.0,solver='saga',max_iter = 10000,n_jobs=-1)\n",
        "clf.fit(x_train,y_train)\n",
        "y_pred = clf.predict(x_test)\n",
        "print(accuracy_score(y_pred,y_test))"
      ],
      "execution_count": null,
      "outputs": [
        {
          "name": "stdout",
          "output_type": "stream",
          "text": [
            "0.7670666666666667\n"
          ]
        }
      ]
    },
    {
      "cell_type": "code",
      "metadata": {
        "colab": {
          "base_uri": "https://localhost:8080/"
        },
        "id": "JZhXaqCk39KJ",
        "outputId": "2a6ee26a-af92-4b37-838b-91f89e56d0ac"
      },
      "source": [
        "from google.colab import drive\n",
        "drive.mount('/content/drive')"
      ],
      "execution_count": null,
      "outputs": [
        {
          "name": "stdout",
          "output_type": "stream",
          "text": [
            "Mounted at /content/drive\n"
          ]
        }
      ]
    },
    {
      "cell_type": "code",
      "metadata": {
        "id": "J0rDT3MV4LN-"
      },
      "source": [
        "import pandas as pd\n",
        "import numpy as np\n",
        "import json\n",
        "def prepare_data(path):\n",
        "  df = pd.read_csv(path)\n",
        "  mat = np.matrix([x for x in  df['ELEC_embed'].apply(lambda x: json.loads(x))])\n",
        "  x= np.squeeze(np.asarray(mat))\n",
        "  y = df.sentiment.values\n",
        "  print(\"Data Prepared\")\n",
        "  return x,y"
      ],
      "execution_count": null,
      "outputs": []
    },
    {
      "cell_type": "code",
      "metadata": {
        "colab": {
          "base_uri": "https://localhost:8080/"
        },
        "id": "7BpdM-2K4alM",
        "outputId": "2ec41965-3e4e-4592-f06e-756951970602"
      },
      "source": [
        "x,y = prepare_data('/content/drive/MyDrive/sentiment data/train_sent_5folds.csv')"
      ],
      "execution_count": null,
      "outputs": [
        {
          "name": "stdout",
          "output_type": "stream",
          "text": [
            "Data Prepared\n"
          ]
        }
      ]
    },
    {
      "cell_type": "code",
      "metadata": {
        "colab": {
          "base_uri": "https://localhost:8080/"
        },
        "id": "TzriJnYLc8gW",
        "outputId": "251a850e-42f8-480f-9512-cccefe15c377"
      },
      "source": [
        "y.shape"
      ],
      "execution_count": null,
      "outputs": [
        {
          "data": {
            "text/plain": [
              "(750000,)"
            ]
          },
          "execution_count": 7,
          "metadata": {
            "tags": []
          },
          "output_type": "execute_result"
        }
      ]
    },
    {
      "cell_type": "code",
      "metadata": {
        "colab": {
          "base_uri": "https://localhost:8080/"
        },
        "id": "5tIgUWU8FRsa",
        "outputId": "6a7a73d5-2a91-4cf4-d4f5-0e265e0dac2a"
      },
      "source": [
        "!pip install scikit-optimize"
      ],
      "execution_count": null,
      "outputs": [
        {
          "name": "stdout",
          "output_type": "stream",
          "text": [
            "Collecting scikit-optimize\n",
            "\u001b[?25l  Downloading https://files.pythonhosted.org/packages/8b/03/be33e89f55866065a02e515c5b319304a801a9f1027a9b311a9b1d1f8dc7/scikit_optimize-0.8.1-py2.py3-none-any.whl (101kB)\n",
            "\r\u001b[K     |███▎                            | 10kB 12.9MB/s eta 0:00:01\r\u001b[K     |██████▌                         | 20kB 19.2MB/s eta 0:00:01\r\u001b[K     |█████████▊                      | 30kB 11.4MB/s eta 0:00:01\r\u001b[K     |█████████████                   | 40kB 13.3MB/s eta 0:00:01\r\u001b[K     |████████████████▏               | 51kB 13.4MB/s eta 0:00:01\r\u001b[K     |███████████████████▍            | 61kB 12.6MB/s eta 0:00:01\r\u001b[K     |██████████████████████▊         | 71kB 10.4MB/s eta 0:00:01\r\u001b[K     |██████████████████████████      | 81kB 10.8MB/s eta 0:00:01\r\u001b[K     |█████████████████████████████▏  | 92kB 10.3MB/s eta 0:00:01\r\u001b[K     |████████████████████████████████| 102kB 4.1MB/s \n",
            "\u001b[?25hRequirement already satisfied: joblib>=0.11 in /usr/local/lib/python3.7/dist-packages (from scikit-optimize) (1.0.1)\n",
            "Collecting pyaml>=16.9\n",
            "  Downloading https://files.pythonhosted.org/packages/15/c4/1310a054d33abc318426a956e7d6df0df76a6ddfa9c66f6310274fb75d42/pyaml-20.4.0-py2.py3-none-any.whl\n",
            "Requirement already satisfied: scipy>=0.19.1 in /usr/local/lib/python3.7/dist-packages (from scikit-optimize) (1.4.1)\n",
            "Requirement already satisfied: numpy>=1.13.3 in /usr/local/lib/python3.7/dist-packages (from scikit-optimize) (1.19.5)\n",
            "Requirement already satisfied: scikit-learn>=0.20.0 in /usr/local/lib/python3.7/dist-packages (from scikit-optimize) (0.22.2.post1)\n",
            "Requirement already satisfied: PyYAML in /usr/local/lib/python3.7/dist-packages (from pyaml>=16.9->scikit-optimize) (3.13)\n",
            "Installing collected packages: pyaml, scikit-optimize\n",
            "Successfully installed pyaml-20.4.0 scikit-optimize-0.8.1\n"
          ]
        }
      ]
    },
    {
      "cell_type": "code",
      "metadata": {
        "id": "bMtNBa1bFTFi"
      },
      "source": [
        ""
      ],
      "execution_count": null,
      "outputs": []
    },
    {
      "cell_type": "code",
      "metadata": {
        "id": "VUYynTt0DbBQ"
      },
      "source": [
        "from sklearn.model_selection import RepeatedStratifiedKFold"
      ],
      "execution_count": null,
      "outputs": []
    },
    {
      "cell_type": "code",
      "metadata": {
        "id": "vvxzIysXDqob"
      },
      "source": [
        "from skopt import BayesSearchCV\n",
        "from sklearn.model_selection import RepeatedStratifiedKFold,train_test_split\n",
        "from sklearn.svm import SVC\n",
        "X_train, X_test, y_train, y_test = train_test_split(x, y, train_size=0.75, test_size=.25, random_state=0,stratify = y)\n",
        "rskf = RepeatedStratifiedKFold(n_splits=10,n_repeats=2,random_state=1)\n",
        "opt = BayesSearchCV(\n",
        "    SVC(),\n",
        "    {\n",
        "        'C': (1e-6, 1e+6, 'log-uniform'),\n",
        "        'gamma': (1e-6, 1e+1, 'log-uniform'),\n",
        "        'degree': (1, 8),  # integer valued parameter\n",
        "        'kernel': ['linear', 'poly', 'rbf'],  # categorical parameter\n",
        "    },\n",
        "    n_iter=32,\n",
        "    cv=rskf\n",
        ")\n",
        "\n",
        "opt.fit(X_train, y_train)\n",
        "\n",
        "print(\"val. score: %s\" % opt.best_score_)\n",
        "print(\"test score: %s\" % opt.score(X_test, y_test))"
      ],
      "execution_count": null,
      "outputs": []
    },
    {
      "cell_type": "code",
      "metadata": {
        "colab": {
          "base_uri": "https://localhost:8080/"
        },
        "id": "AKG6_Ef3EPXr",
        "outputId": "f45029ae-1e96-4b08-af49-7ba36e28fca8"
      },
      "source": [
        "Y_tr.shape"
      ],
      "execution_count": null,
      "outputs": [
        {
          "data": {
            "text/plain": [
              "(270000,)"
            ]
          },
          "execution_count": 9,
          "metadata": {
            "tags": []
          },
          "output_type": "execute_result"
        }
      ]
    },
    {
      "cell_type": "code",
      "metadata": {
        "id": "z6Xlq9K3EWUh"
      },
      "source": [
        "rskf = RepeatedStratifiedKFold(n_splits=10,n_repeats=2,random_state=1)\n",
        "for tr_in,ts_in in rskf.split(x,y):\n",
        "  X_tr_1,X_ts_1 = x[tr_in],x[ts_in]\n",
        "  Y_tr_1,Y_ts_1 = y[tr_in],y[ts_in]"
      ],
      "execution_count": null,
      "outputs": []
    },
    {
      "cell_type": "code",
      "metadata": {
        "colab": {
          "base_uri": "https://localhost:8080/"
        },
        "id": "L19k1UhEEfcT",
        "outputId": "31e2efa7-9f53-4260-e0ef-cd0b0f9819cf"
      },
      "source": [
        "len(Y_ts == Y_ts_1)"
      ],
      "execution_count": null,
      "outputs": [
        {
          "data": {
            "text/plain": [
              "30000"
            ]
          },
          "execution_count": 16,
          "metadata": {
            "tags": []
          },
          "output_type": "execute_result"
        }
      ]
    },
    {
      "cell_type": "code",
      "metadata": {
        "id": "1trnMXgzcA-V"
      },
      "source": [
        "from sklearn.model_selection import RepeatedStratifiedKFold,train_test_split,cross_val_score\n",
        "rskf = RepeatedStratifiedKFold(n_splits=10,n_repeats=2,random_state=1)\n",
        "x_tr,x_ts,y_tr,y_ts = train_test_split(x, y, train_size=0.75, test_size=.25, random_state=0,stratify = y)"
      ],
      "execution_count": null,
      "outputs": []
    },
    {
      "cell_type": "code",
      "metadata": {
        "colab": {
          "background_save": true
        },
        "id": "HJ-Thyv8Eobo",
        "outputId": "decd8778-3fd9-4ad0-bf9a-ad640998b7f3"
      },
      "source": [
        "#try svc()\n",
        "# from sklearn.linear_model import RidgeClassifier\n",
        "# from sklearn.svm import LinearSVC\n",
        "from sklearn.ensemble import RandomForestClassifier\n",
        "# from sklearn.ensemble import AdaBoostClassifier\n",
        "from sklearn.naive_bayes import GaussianNB\n",
        "from sklearn.metrics import accuracy_score\n",
        "import numpy as np\n",
        "# import pandas as pd\n",
        "\n",
        "# x,y = prepare_data('/content/drive/MyDrive/sarcasm data/train_sarc_5folds.csv')\n",
        "\n",
        "# model = AdaBoostClassifier(n_estimators=10, random_state=1, algorithm='SAMME')\n",
        "model = RandomForestClassifier()\n",
        "# model = LogisticRegression(C=0.1)\n",
        "# n_estimators = number of decision trees\n",
        "# rf = \n",
        "# rf.fit(x_train, y_train)\n",
        "# model = RandomForestClassifier(n_estimators=30, max_depth=9)\n",
        "scores = cross_val_score(model, x_tr, y_tr,scoring='accuracy', cv=rskf,n_jobs=-1)\n",
        "print('Accuracy: %.3f (%.3f)' % (np.mean(scores), np.std(scores)))"
      ],
      "execution_count": null,
      "outputs": [
        {
          "name": "stdout",
          "output_type": "stream",
          "text": [
            "Accuracy: 0.628 (0.002)\n"
          ]
        }
      ]
    },
    {
      "cell_type": "code",
      "metadata": {
        "colab": {
          "base_uri": "https://localhost:8080/"
        },
        "id": "VtpU0_-SEigl",
        "outputId": "a11fd1e3-d9ef-4ee2-ce78-2c77fa6e5a9b"
      },
      "source": [
        "from sklearn.metrics import accuracy_score\n",
        "model.fit(x_tr,y_tr)\n",
        "y_pred = model.predict(x_ts)\n",
        "print(accuracy_score(y_pred,y_ts))"
      ],
      "execution_count": null,
      "outputs": [
        {
          "name": "stdout",
          "output_type": "stream",
          "text": [
            "0.4804853333333333\n"
          ]
        }
      ]
    },
    {
      "cell_type": "code",
      "metadata": {
        "colab": {
          "base_uri": "https://localhost:8080/"
        },
        "id": "SLCrQDW8ETGl",
        "outputId": "e1356103-a120-4b15-d476-bc3df3e6acd6"
      },
      "source": [
        "model.fit(x,y)"
      ],
      "execution_count": null,
      "outputs": [
        {
          "data": {
            "text/plain": [
              "RidgeClassifier(alpha=1.0, class_weight=None, copy_X=True, fit_intercept=True,\n",
              "                max_iter=None, normalize=False, random_state=None,\n",
              "                solver='auto', tol=0.001)"
            ]
          },
          "execution_count": 29,
          "metadata": {
            "tags": []
          },
          "output_type": "execute_result"
        }
      ]
    },
    {
      "cell_type": "code",
      "metadata": {
        "colab": {
          "base_uri": "https://localhost:8080/"
        },
        "id": "IHMNhtA3hpZ0",
        "outputId": "ef2d6250-2b92-44ed-fe18-5d8e6cefc63f"
      },
      "source": [
        "import joblib\n",
        "filename = '/content/drive/MyDrive/sentiment data/final_rid_class.sav'\n",
        "joblib.dump(model, filename)"
      ],
      "execution_count": null,
      "outputs": [
        {
          "data": {
            "text/plain": [
              "['/content/drive/MyDrive/sentiment data/final_rid_class.sav']"
            ]
          },
          "execution_count": 30,
          "metadata": {
            "tags": []
          },
          "output_type": "execute_result"
        }
      ]
    },
    {
      "cell_type": "code",
      "metadata": {
        "id": "IJHUlnWMEQ7U"
      },
      "source": [
        ""
      ],
      "execution_count": null,
      "outputs": []
    }
  ]
}