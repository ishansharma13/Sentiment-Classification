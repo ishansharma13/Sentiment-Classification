{
  "nbformat": 4,
  "nbformat_minor": 0,
  "metadata": {
    "colab": {
      "name": "Sarcasm DL.ipynb",
      "provenance": [],
      "collapsed_sections": []
    },
    "kernelspec": {
      "name": "python3",
      "display_name": "Python 3"
    },
    "language_info": {
      "name": "python"
    },
    "accelerator": "TPU"
  },
  "cells": [
    {
      "cell_type": "code",
      "metadata": {
        "colab": {
          "base_uri": "https://localhost:8080/"
        },
        "id": "FrVTtqutnGwr",
        "outputId": "841326aa-ec98-4509-d8fb-a67f8ca124a2"
      },
      "source": [
        "import tensorflow as tf\n",
        "from google.colab import drive\n",
        "drive.mount('/content/drive',force_remount=True)\n",
        "import json\n",
        "import numpy as np\n",
        "import pandas as pd\n",
        "from sklearn.preprocessing import LabelEncoder\n",
        "from keras.utils import np_utils\n",
        "from keras.callbacks import EarlyStopping\n",
        "from sklearn import model_selection"
      ],
      "execution_count": null,
      "outputs": [
        {
          "output_type": "stream",
          "text": [
            "Mounted at /content/drive\n"
          ],
          "name": "stdout"
        }
      ]
    },
    {
      "cell_type": "code",
      "metadata": {
        "colab": {
          "base_uri": "https://localhost:8080/"
        },
        "id": "CDyPuQxVhNhD",
        "outputId": "7dac559c-0341-4c4a-9bae-49b130594bc1"
      },
      "source": [
        "import os\n",
        "import pprint # for pretty printing our device stats\n",
        "\n",
        "if 'COLAB_TPU_ADDR' not in os.environ:\n",
        "    print('ERROR: Not connected to a TPU runtime; please see the first cell in this notebook for instructions!')\n",
        "else:\n",
        "    tpu_address = 'grpc://' + os.environ['COLAB_TPU_ADDR']\n",
        "    print ('TPU address is', tpu_address)\n",
        "\n",
        "    with tf.compat.v1.Session(tpu_address) as session:\n",
        "      devices = session.list_devices()\n",
        "\n",
        "    print('TPU devices:')\n",
        "    pprint.pprint(devices)"
      ],
      "execution_count": null,
      "outputs": [
        {
          "output_type": "stream",
          "text": [
            "TPU address is grpc://10.35.197.226:8470\n",
            "TPU devices:\n",
            "[_DeviceAttributes(/job:tpu_worker/replica:0/task:0/device:CPU:0, CPU, -1, 1387322569101108182),\n",
            " _DeviceAttributes(/job:tpu_worker/replica:0/task:0/device:TPU_SYSTEM:0, TPU_SYSTEM, 8589934592, -4271433558254527203),\n",
            " _DeviceAttributes(/job:tpu_worker/replica:0/task:0/device:XLA_CPU:0, XLA_CPU, 17179869184, -2702295881910584540),\n",
            " _DeviceAttributes(/job:tpu_worker/replica:0/task:0/device:TPU:0, TPU, 17179869184, -1018064070307114394),\n",
            " _DeviceAttributes(/job:tpu_worker/replica:0/task:0/device:TPU:1, TPU, 17179869184, 3947570167131390569),\n",
            " _DeviceAttributes(/job:tpu_worker/replica:0/task:0/device:TPU:2, TPU, 17179869184, -7128575080053306105),\n",
            " _DeviceAttributes(/job:tpu_worker/replica:0/task:0/device:TPU:3, TPU, 17179869184, -7040212790462838741),\n",
            " _DeviceAttributes(/job:tpu_worker/replica:0/task:0/device:TPU:4, TPU, 17179869184, -5386975876186348188),\n",
            " _DeviceAttributes(/job:tpu_worker/replica:0/task:0/device:TPU:5, TPU, 17179869184, -7024513217395725908),\n",
            " _DeviceAttributes(/job:tpu_worker/replica:0/task:0/device:TPU:6, TPU, 17179869184, -5594171987553575897),\n",
            " _DeviceAttributes(/job:tpu_worker/replica:0/task:0/device:TPU:7, TPU, 17179869184, 3875605223512583065)]\n"
          ],
          "name": "stdout"
        }
      ]
    },
    {
      "cell_type": "code",
      "metadata": {
        "colab": {
          "base_uri": "https://localhost:8080/"
        },
        "id": "yJMspGkNhi8g",
        "outputId": "4671588b-22a6-4917-e3b7-71974617d0d9"
      },
      "source": [
        "resolver = tf.distribute.cluster_resolver.TPUClusterResolver(tpu='')\n",
        "tf.config.experimental_connect_to_cluster(resolver)\n",
        "# This is the TPU initialization code that has to be at the beginning.\n",
        "tf.tpu.experimental.initialize_tpu_system(resolver)\n",
        "print(\"All devices: \", tf.config.list_logical_devices('TPU'))\n",
        "strategy = tf.distribute.TPUStrategy(resolver)"
      ],
      "execution_count": null,
      "outputs": [
        {
          "output_type": "stream",
          "text": [
            "INFO:tensorflow:Initializing the TPU system: grpc://10.35.197.226:8470\n"
          ],
          "name": "stdout"
        },
        {
          "output_type": "stream",
          "text": [
            "INFO:tensorflow:Initializing the TPU system: grpc://10.35.197.226:8470\n"
          ],
          "name": "stderr"
        },
        {
          "output_type": "stream",
          "text": [
            "INFO:tensorflow:Clearing out eager caches\n"
          ],
          "name": "stdout"
        },
        {
          "output_type": "stream",
          "text": [
            "INFO:tensorflow:Clearing out eager caches\n"
          ],
          "name": "stderr"
        },
        {
          "output_type": "stream",
          "text": [
            "INFO:tensorflow:Finished initializing TPU system.\n"
          ],
          "name": "stdout"
        },
        {
          "output_type": "stream",
          "text": [
            "INFO:tensorflow:Finished initializing TPU system.\n"
          ],
          "name": "stderr"
        },
        {
          "output_type": "stream",
          "text": [
            "All devices:  [LogicalDevice(name='/job:worker/replica:0/task:0/device:TPU:7', device_type='TPU'), LogicalDevice(name='/job:worker/replica:0/task:0/device:TPU:6', device_type='TPU'), LogicalDevice(name='/job:worker/replica:0/task:0/device:TPU:5', device_type='TPU'), LogicalDevice(name='/job:worker/replica:0/task:0/device:TPU:4', device_type='TPU'), LogicalDevice(name='/job:worker/replica:0/task:0/device:TPU:3', device_type='TPU'), LogicalDevice(name='/job:worker/replica:0/task:0/device:TPU:0', device_type='TPU'), LogicalDevice(name='/job:worker/replica:0/task:0/device:TPU:1', device_type='TPU'), LogicalDevice(name='/job:worker/replica:0/task:0/device:TPU:2', device_type='TPU')]\n",
            "INFO:tensorflow:Found TPU system:\n"
          ],
          "name": "stdout"
        },
        {
          "output_type": "stream",
          "text": [
            "INFO:tensorflow:Found TPU system:\n"
          ],
          "name": "stderr"
        },
        {
          "output_type": "stream",
          "text": [
            "INFO:tensorflow:*** Num TPU Cores: 8\n"
          ],
          "name": "stdout"
        },
        {
          "output_type": "stream",
          "text": [
            "INFO:tensorflow:*** Num TPU Cores: 8\n"
          ],
          "name": "stderr"
        },
        {
          "output_type": "stream",
          "text": [
            "INFO:tensorflow:*** Num TPU Workers: 1\n"
          ],
          "name": "stdout"
        },
        {
          "output_type": "stream",
          "text": [
            "INFO:tensorflow:*** Num TPU Workers: 1\n"
          ],
          "name": "stderr"
        },
        {
          "output_type": "stream",
          "text": [
            "INFO:tensorflow:*** Num TPU Cores Per Worker: 8\n"
          ],
          "name": "stdout"
        },
        {
          "output_type": "stream",
          "text": [
            "INFO:tensorflow:*** Num TPU Cores Per Worker: 8\n"
          ],
          "name": "stderr"
        },
        {
          "output_type": "stream",
          "text": [
            "INFO:tensorflow:*** Available Device: _DeviceAttributes(/job:localhost/replica:0/task:0/device:CPU:0, CPU, 0, 0)\n"
          ],
          "name": "stdout"
        },
        {
          "output_type": "stream",
          "text": [
            "INFO:tensorflow:*** Available Device: _DeviceAttributes(/job:localhost/replica:0/task:0/device:CPU:0, CPU, 0, 0)\n"
          ],
          "name": "stderr"
        },
        {
          "output_type": "stream",
          "text": [
            "INFO:tensorflow:*** Available Device: _DeviceAttributes(/job:worker/replica:0/task:0/device:CPU:0, CPU, 0, 0)\n"
          ],
          "name": "stdout"
        },
        {
          "output_type": "stream",
          "text": [
            "INFO:tensorflow:*** Available Device: _DeviceAttributes(/job:worker/replica:0/task:0/device:CPU:0, CPU, 0, 0)\n"
          ],
          "name": "stderr"
        },
        {
          "output_type": "stream",
          "text": [
            "INFO:tensorflow:*** Available Device: _DeviceAttributes(/job:worker/replica:0/task:0/device:TPU:0, TPU, 0, 0)\n"
          ],
          "name": "stdout"
        },
        {
          "output_type": "stream",
          "text": [
            "INFO:tensorflow:*** Available Device: _DeviceAttributes(/job:worker/replica:0/task:0/device:TPU:0, TPU, 0, 0)\n"
          ],
          "name": "stderr"
        },
        {
          "output_type": "stream",
          "text": [
            "INFO:tensorflow:*** Available Device: _DeviceAttributes(/job:worker/replica:0/task:0/device:TPU:1, TPU, 0, 0)\n"
          ],
          "name": "stdout"
        },
        {
          "output_type": "stream",
          "text": [
            "INFO:tensorflow:*** Available Device: _DeviceAttributes(/job:worker/replica:0/task:0/device:TPU:1, TPU, 0, 0)\n"
          ],
          "name": "stderr"
        },
        {
          "output_type": "stream",
          "text": [
            "INFO:tensorflow:*** Available Device: _DeviceAttributes(/job:worker/replica:0/task:0/device:TPU:2, TPU, 0, 0)\n"
          ],
          "name": "stdout"
        },
        {
          "output_type": "stream",
          "text": [
            "INFO:tensorflow:*** Available Device: _DeviceAttributes(/job:worker/replica:0/task:0/device:TPU:2, TPU, 0, 0)\n"
          ],
          "name": "stderr"
        },
        {
          "output_type": "stream",
          "text": [
            "INFO:tensorflow:*** Available Device: _DeviceAttributes(/job:worker/replica:0/task:0/device:TPU:3, TPU, 0, 0)\n"
          ],
          "name": "stdout"
        },
        {
          "output_type": "stream",
          "text": [
            "INFO:tensorflow:*** Available Device: _DeviceAttributes(/job:worker/replica:0/task:0/device:TPU:3, TPU, 0, 0)\n"
          ],
          "name": "stderr"
        },
        {
          "output_type": "stream",
          "text": [
            "INFO:tensorflow:*** Available Device: _DeviceAttributes(/job:worker/replica:0/task:0/device:TPU:4, TPU, 0, 0)\n"
          ],
          "name": "stdout"
        },
        {
          "output_type": "stream",
          "text": [
            "INFO:tensorflow:*** Available Device: _DeviceAttributes(/job:worker/replica:0/task:0/device:TPU:4, TPU, 0, 0)\n"
          ],
          "name": "stderr"
        },
        {
          "output_type": "stream",
          "text": [
            "INFO:tensorflow:*** Available Device: _DeviceAttributes(/job:worker/replica:0/task:0/device:TPU:5, TPU, 0, 0)\n"
          ],
          "name": "stdout"
        },
        {
          "output_type": "stream",
          "text": [
            "INFO:tensorflow:*** Available Device: _DeviceAttributes(/job:worker/replica:0/task:0/device:TPU:5, TPU, 0, 0)\n"
          ],
          "name": "stderr"
        },
        {
          "output_type": "stream",
          "text": [
            "INFO:tensorflow:*** Available Device: _DeviceAttributes(/job:worker/replica:0/task:0/device:TPU:6, TPU, 0, 0)\n"
          ],
          "name": "stdout"
        },
        {
          "output_type": "stream",
          "text": [
            "INFO:tensorflow:*** Available Device: _DeviceAttributes(/job:worker/replica:0/task:0/device:TPU:6, TPU, 0, 0)\n"
          ],
          "name": "stderr"
        },
        {
          "output_type": "stream",
          "text": [
            "INFO:tensorflow:*** Available Device: _DeviceAttributes(/job:worker/replica:0/task:0/device:TPU:7, TPU, 0, 0)\n"
          ],
          "name": "stdout"
        },
        {
          "output_type": "stream",
          "text": [
            "INFO:tensorflow:*** Available Device: _DeviceAttributes(/job:worker/replica:0/task:0/device:TPU:7, TPU, 0, 0)\n"
          ],
          "name": "stderr"
        },
        {
          "output_type": "stream",
          "text": [
            "INFO:tensorflow:*** Available Device: _DeviceAttributes(/job:worker/replica:0/task:0/device:TPU_SYSTEM:0, TPU_SYSTEM, 0, 0)\n"
          ],
          "name": "stdout"
        },
        {
          "output_type": "stream",
          "text": [
            "INFO:tensorflow:*** Available Device: _DeviceAttributes(/job:worker/replica:0/task:0/device:TPU_SYSTEM:0, TPU_SYSTEM, 0, 0)\n"
          ],
          "name": "stderr"
        },
        {
          "output_type": "stream",
          "text": [
            "INFO:tensorflow:*** Available Device: _DeviceAttributes(/job:worker/replica:0/task:0/device:XLA_CPU:0, XLA_CPU, 0, 0)\n"
          ],
          "name": "stdout"
        },
        {
          "output_type": "stream",
          "text": [
            "INFO:tensorflow:*** Available Device: _DeviceAttributes(/job:worker/replica:0/task:0/device:XLA_CPU:0, XLA_CPU, 0, 0)\n"
          ],
          "name": "stderr"
        }
      ]
    },
    {
      "cell_type": "code",
      "metadata": {
        "id": "1Qa-nk8WCbpI"
      },
      "source": [
        "class Conv1D:\n",
        "  def __init__(self):\n",
        "    \n",
        "    self.encoder = LabelEncoder()\n",
        "    self.summary = []\n",
        "\n",
        "  def read_dataset(self,path):\n",
        "    df = pd.read_csv(path)\n",
        "    if 'USE_embed' in list(df.columns):\n",
        "      df = df.drop('Unnamed: 0',axis = 1)\n",
        "      df = df.rename({'USE_embed':'embeddings'},axis = 1)\n",
        "    elif 'ELEC_embed' in list(df.columns):\n",
        "      df = df.rename({'ELEC_embed':'embeddings'},axis = 1)\n",
        "    \n",
        "    d = {1:'VNeg',2:'Neg',3:'Neu',4:'Pos',5:'VPos'}\n",
        "    df['label'] = df['label'].apply(lambda x: d[x])\n",
        "\n",
        "    skf = model_selection.StratifiedKFold(n_splits = 5)\n",
        "\n",
        "    for f, (t_,v_) in enumerate(skf.split(X=df,y=df.label.values)):\n",
        "        df.loc[v_,\"kfold\"] = f\n",
        "\n",
        "    self.dfs_train = [df[df['kfold']!=f] for f in range(0,5)]\n",
        "    self.dfs_valid = [df[df['kfold']==f] for f in range(0,5)]\n",
        "    \n",
        "  def process(self,model):\n",
        "    self.history = self.run_train(model)\n",
        "    return {'summary':self.summary,'history':self.history}\n",
        "  \n",
        "  def get_history(self):\n",
        "    return self.history  \n",
        "\n",
        "  def prepare_data(self,i):\n",
        "    mat_tr = np.matrix([x for x in  self.dfs_train[i]['embeddings'].apply(lambda x: json.loads(x))])\n",
        "    mat_ts = np.matrix([x for x in  self.dfs_valid[i]['embeddings'].apply(lambda x: json.loads(x))])\n",
        "    y_tr = self.dfs_train[i].label.values\n",
        "    y_ts = self.dfs_valid[i].label.values\n",
        "    x_tr = np.squeeze(np.asarray(mat_tr))\n",
        "    x_ts = np.squeeze(np.asarray(mat_ts))\n",
        "    x_tr = x_tr.reshape((x_tr.shape[0],x_tr.shape[1],1))\n",
        "    x_ts = x_ts.reshape((x_ts.shape[0],x_ts.shape[1],1))\n",
        "    encoded_Y_tr = self.encoder.fit_transform(y_tr)\n",
        "    encoded_Y_ts = self.encoder.fit_transform(y_ts)\n",
        "    y_tr = np_utils.to_categorical(encoded_Y_tr)\n",
        "    y_ts = np_utils.to_categorical(encoded_Y_ts)\n",
        "    x_tr = tf.convert_to_tensor(x_tr, np.float32)\n",
        "    y_tr = tf.convert_to_tensor(y_tr, np.float32)\n",
        "    x_ts = tf.convert_to_tensor(x_ts, np.float32)\n",
        "    y_ts = tf.convert_to_tensor(y_ts, np.float32)\n",
        "    # train_ds = tf.data.Dataset.from_tensor_slices((x_tr, y_tr))\n",
        "    # # print(train_ds)\n",
        "    # test_ds = tf.data.Dataset.from_tensor_slices((x_ts, y_ts))\n",
        "    return x_tr,y_tr,x_ts,y_ts\n",
        "\n",
        "  def get_summary(self):\n",
        "    return self.summary\n",
        "\n",
        "\n",
        "  def Conv1D_model(self,sh):\n",
        "    with strategy.scope():\n",
        "      model = tf.keras.models.Sequential([\n",
        "        tf.keras.layers.Input(shape=(sh,1)),\n",
        "        tf.keras.layers.Conv1D(32,3, activation='relu',padding='valid'),\n",
        "        tf.keras.layers.MaxPooling1D(pool_size=3),\n",
        "        tf.keras.layers.Conv1D(32,3, activation='relu',padding='valid'),\n",
        "        tf.keras.layers.MaxPooling1D(pool_size=3),\n",
        "        tf.keras.layers.Dropout(0.5),\n",
        "        tf.keras.layers.Flatten(),\n",
        "        tf.keras.layers.Dense(512, activation='sigmoid'),\n",
        "        tf.keras.layers.Dense(256, activation='sigmoid'),\n",
        "        tf.keras.layers.Dense(128, activation='sigmoid'),\n",
        "        tf.keras.layers.Dense(64, activation='sigmoid'),\n",
        "        tf.keras.layers.Dense(5, activation='softmax')        \n",
        "        ])\n",
        "      model.compile(loss='categorical_crossentropy',\n",
        "                optimizer=tf.keras.optimizers.Adam(),\n",
        "                metrics=['accuracy'])\n",
        "      model.summary()\n",
        "    return model\n",
        "\n",
        "  def Conv1D_BiRNN_model(self,sh):\n",
        "    with strategy.scope():\n",
        "      model = tf.keras.models.Sequential([\n",
        "        tf.keras.layers.Input(shape=(sh,1)),\n",
        "        # tf.keras.layers.Conv1D(32,3, activation='relu',padding='valid'),\n",
        "        # tf.keras.layers.MaxPooling1D(pool_size=3),\n",
        "        # tf.keras.layers.Conv1D(32,3, activation='relu',padding='valid'),\n",
        "        # tf.keras.layers.MaxPooling1D(pool_size=3),\n",
        "        # tf.keras.layers.Dropout(0.5),\n",
        "        tf.keras.layers.Bidirectional(tf.keras.layers.SimpleRNN(16,return_sequences=True, dropout=0.2, recurrent_dropout=0.3)),\n",
        "        tf.keras.layers.Flatten(),\n",
        "        tf.keras.layers.Dense(512, activation='sigmoid'),\n",
        "        tf.keras.layers.Dense(256, activation='sigmoid'),\n",
        "        tf.keras.layers.Dense(128, activation='sigmoid'),\n",
        "        tf.keras.layers.Dense(64, activation='sigmoid'),\n",
        "        tf.keras.layers.Dense(5, activation='softmax')        \n",
        "        ])\n",
        "      model.compile(loss='categorical_crossentropy',\n",
        "                optimizer=tf.keras.optimizers.Adam(),\n",
        "                metrics=['accuracy'])\n",
        "      model.summary()\n",
        "    return model\n",
        "  \n",
        "  def Conv1D_BiLSTM_model(self,sh):\n",
        "    with strategy.scope():\n",
        "      model = tf.keras.models.Sequential([\n",
        "        tf.keras.layers.Input(shape=(sh,1)),\n",
        "        # tf.keras.layers.Conv1D(32,3, activation='relu',padding='valid'),\n",
        "        # tf.keras.layers.MaxPooling1D(pool_size=3),\n",
        "        # tf.keras.layers.Conv1D(32,3, activation='relu',padding='valid'),\n",
        "        # tf.keras.layers.MaxPooling1D(pool_size=3),\n",
        "        # tf.keras.layers.Dropout(0.5),\n",
        "        tf.keras.layers.Bidirectional(tf.keras.layers.LSTM(16,return_sequences=True, dropout=0.2, recurrent_dropout=0.3)),\n",
        "        tf.keras.layers.Flatten(),\n",
        "        tf.keras.layers.Dense(512, activation='sigmoid'),\n",
        "        tf.keras.layers.Dense(256, activation='sigmoid'),\n",
        "        tf.keras.layers.Dense(128, activation='sigmoid'),\n",
        "        tf.keras.layers.Dense(64, activation='sigmoid'),\n",
        "        tf.keras.layers.Dense(5, activation='softmax')        \n",
        "        ])\n",
        "      model.compile(loss='categorical_crossentropy',\n",
        "                optimizer=tf.keras.optimizers.Adam(),\n",
        "                metrics=['accuracy'])\n",
        "      model.summary()\n",
        "    return model\n",
        "  \n",
        "  def Conv1D_BiGRU_model(self,sh):\n",
        "    with strategy.scope():\n",
        "      model = tf.keras.models.Sequential([\n",
        "        # tf.keras.layers.Input(shape=(sh,1)),\n",
        "        # tf.keras.layers.Conv1D(32,3, activation='relu',padding='valid'),\n",
        "        # tf.keras.layers.MaxPooling1D(pool_size=3),\n",
        "        # tf.keras.layers.Conv1D(32,3, activation='relu',padding='valid'),\n",
        "        # tf.keras.layers.MaxPooling1D(pool_size=3),\n",
        "        # tf.keras.layers.Dropout(0.5),\n",
        "        tf.keras.layers.Bidirectional(tf.keras.layers.GRU(16,return_sequences=True, dropout=0.2, recurrent_dropout=0.3)),\n",
        "        tf.keras.layers.Flatten(),\n",
        "        tf.keras.layers.Dense(512, activation='sigmoid'),\n",
        "        tf.keras.layers.Dense(256, activation='sigmoid'),\n",
        "        tf.keras.layers.Dense(128, activation='sigmoid'),\n",
        "        tf.keras.layers.Dense(64, activation='sigmoid'),\n",
        "        tf.keras.layers.Dense(5, activation='softmax')        \n",
        "        ])\n",
        "      model.compile(loss='categorical_crossentropy',\n",
        "                optimizer=tf.keras.optimizers.Adam(),\n",
        "                metrics=['accuracy'])\n",
        "      model.summary()\n",
        "    return model\n",
        "\n",
        "  def run_train(self,model):\n",
        "    his = []\n",
        "    for i in range(5):\n",
        "      x_tr,y_tr,x_ts,y_ts = self.prepare_data(i)\n",
        "      # print(train_ds.shape)\n",
        "      # print(test_ds.shape)\n",
        "      his.append(model.fit(x = x_tr,y=y_tr,validation_data=(x_ts,y_ts),epochs=100,callbacks=[EarlyStopping()]))\n",
        "      # eval_loss, eval_acc = model.evaluate(x_ts,y_ts)\n",
        "      # his.append((eval_loss,eval_acc))\n",
        "      \n",
        "    return his\n"
      ],
      "execution_count": null,
      "outputs": []
    },
    {
      "cell_type": "code",
      "metadata": {
        "id": "XkxsXLPrf0kK"
      },
      "source": [
        "c = Conv1D()\n",
        "c.read_dataset('/content/drive/MyDrive/sent_elec_690k.csv')"
      ],
      "execution_count": null,
      "outputs": []
    },
    {
      "cell_type": "code",
      "metadata": {
        "colab": {
          "base_uri": "https://localhost:8080/"
        },
        "id": "vVrwhH5OiF9q",
        "outputId": "07dc6e99-d2bc-44f3-b00d-36d956ae80cc"
      },
      "source": [
        "c1d = c.Conv1D_BiLSTM_model(256)\n",
        "x_c1d = c.process(c1d)"
      ],
      "execution_count": null,
      "outputs": [
        {
          "output_type": "stream",
          "text": [
            "Model: \"sequential\"\n",
            "_________________________________________________________________\n",
            "Layer (type)                 Output Shape              Param #   \n",
            "=================================================================\n",
            "bidirectional (Bidirectional (None, 256, 32)           2304      \n",
            "_________________________________________________________________\n",
            "flatten (Flatten)            (None, 8192)              0         \n",
            "_________________________________________________________________\n",
            "dense (Dense)                (None, 512)               4194816   \n",
            "_________________________________________________________________\n",
            "dense_1 (Dense)              (None, 256)               131328    \n",
            "_________________________________________________________________\n",
            "dense_2 (Dense)              (None, 128)               32896     \n",
            "_________________________________________________________________\n",
            "dense_3 (Dense)              (None, 64)                8256      \n",
            "_________________________________________________________________\n",
            "dense_4 (Dense)              (None, 5)                 325       \n",
            "=================================================================\n",
            "Total params: 4,369,925\n",
            "Trainable params: 4,369,925\n",
            "Non-trainable params: 0\n",
            "_________________________________________________________________\n",
            "Epoch 1/100\n",
            "17250/17250 [==============================] - 576s 33ms/step - loss: 1.1957 - accuracy: 0.5018 - val_loss: 1.0284 - val_accuracy: 0.5821\n",
            "Epoch 2/100\n",
            "17250/17250 [==============================] - 565s 33ms/step - loss: 1.0425 - accuracy: 0.5739 - val_loss: 0.9987 - val_accuracy: 0.5937\n",
            "Epoch 3/100\n",
            "17250/17250 [==============================] - 563s 33ms/step - loss: 1.0010 - accuracy: 0.5932 - val_loss: 0.9802 - val_accuracy: 0.6022\n",
            "Epoch 4/100\n",
            "17250/17250 [==============================] - 563s 33ms/step - loss: 0.9724 - accuracy: 0.6040 - val_loss: 0.9511 - val_accuracy: 0.6144\n",
            "Epoch 5/100\n",
            "17250/17250 [==============================] - 566s 33ms/step - loss: 0.9505 - accuracy: 0.6148 - val_loss: 0.9379 - val_accuracy: 0.6193\n",
            "Epoch 6/100\n",
            "17250/17250 [==============================] - 563s 33ms/step - loss: 0.9281 - accuracy: 0.6244 - val_loss: 0.9279 - val_accuracy: 0.6244\n",
            "Epoch 7/100\n",
            "17250/17250 [==============================] - 562s 33ms/step - loss: 0.9077 - accuracy: 0.6327 - val_loss: 0.9271 - val_accuracy: 0.6250\n",
            "Epoch 8/100\n",
            "17250/17250 [==============================] - 563s 33ms/step - loss: 0.8885 - accuracy: 0.6403 - val_loss: 0.9474 - val_accuracy: 0.6164\n",
            "Epoch 1/100\n",
            "17250/17250 [==============================] - 565s 33ms/step - loss: 0.8937 - accuracy: 0.6385 - val_loss: 0.8531 - val_accuracy: 0.6579\n",
            "Epoch 2/100\n",
            "17250/17250 [==============================] - 569s 33ms/step - loss: 0.8741 - accuracy: 0.6462 - val_loss: 0.8677 - val_accuracy: 0.6507\n",
            "Epoch 1/100\n",
            "17250/17250 [==============================] - 568s 33ms/step - loss: 0.8668 - accuracy: 0.6501 - val_loss: 0.8245 - val_accuracy: 0.6688\n",
            "Epoch 2/100\n",
            "17250/17250 [==============================] - 566s 33ms/step - loss: 0.8484 - accuracy: 0.6569 - val_loss: 0.8292 - val_accuracy: 0.6664\n",
            "Epoch 1/100\n",
            "17250/17250 [==============================] - 570s 33ms/step - loss: 0.8412 - accuracy: 0.6607 - val_loss: 0.8112 - val_accuracy: 0.6751\n",
            "Epoch 2/100\n",
            "17250/17250 [==============================] - 573s 33ms/step - loss: 0.8232 - accuracy: 0.6679 - val_loss: 0.8039 - val_accuracy: 0.6772\n",
            "Epoch 3/100\n",
            "17250/17250 [==============================] - 572s 33ms/step - loss: 0.8067 - accuracy: 0.6740 - val_loss: 0.8251 - val_accuracy: 0.6680\n",
            "Epoch 1/100\n",
            "17250/17250 [==============================] - 569s 33ms/step - loss: 0.8086 - accuracy: 0.6732 - val_loss: 0.7640 - val_accuracy: 0.6989\n",
            "Epoch 2/100\n",
            "17250/17250 [==============================] - 572s 33ms/step - loss: 0.7905 - accuracy: 0.6807 - val_loss: 0.7861 - val_accuracy: 0.6852\n"
          ],
          "name": "stdout"
        }
      ]
    },
    {
      "cell_type": "code",
      "metadata": {
        "id": "Brc4JGqI3gAK"
      },
      "source": [
        "dfs = []\n",
        "for i in range(len(x_c1d['history'])):\n",
        "  df = pd.DataFrame.from_dict(x_c1d['history'][i].history)\n",
        "  df['fold'] = i+1\n",
        "  df['epoch'] = [i+1 for i in range(len(df))]\n",
        "  dfs.append(df)"
      ],
      "execution_count": null,
      "outputs": []
    },
    {
      "cell_type": "code",
      "metadata": {
        "id": "XdIdWjv03u7p"
      },
      "source": [
        "df_fin = pd.concat(dfs,ignore_index=True)\n",
        "df_fin.to_csv('/content/drive/MyDrive/sent_elec_BiLSTM.csv',index = False,header = True)"
      ],
      "execution_count": null,
      "outputs": []
    },
    {
      "cell_type": "code",
      "metadata": {
        "colab": {
          "base_uri": "https://localhost:8080/",
          "height": 235
        },
        "id": "OQgSL_ZFzAsd",
        "outputId": "f45ecae5-8fe9-4166-8a28-ab2a3b1857fc"
      },
      "source": [
        "acc = []\n",
        "val_acc = []\n",
        "loss = []\n",
        "val_loss = []\n",
        "for i in range(len(x['history'])):\n",
        "  acc.append(x['history'][i].history['accuracy'][-1])\n",
        "  loss.append(x['history'][i].history['loss'][-1])\n",
        "  val_acc.append(x['history'][i].history['val_accuracy'][-1])\n",
        "  val_loss.append(x['history'][i].history['val_loss'][-1])"
      ],
      "execution_count": null,
      "outputs": [
        {
          "output_type": "error",
          "ename": "NameError",
          "evalue": "ignored",
          "traceback": [
            "\u001b[0;31m---------------------------------------------------------------------------\u001b[0m",
            "\u001b[0;31mNameError\u001b[0m                                 Traceback (most recent call last)",
            "\u001b[0;32m<ipython-input-1-8a94c92470f4>\u001b[0m in \u001b[0;36m<module>\u001b[0;34m()\u001b[0m\n\u001b[1;32m      3\u001b[0m \u001b[0mloss\u001b[0m \u001b[0;34m=\u001b[0m \u001b[0;34m[\u001b[0m\u001b[0;34m]\u001b[0m\u001b[0;34m\u001b[0m\u001b[0;34m\u001b[0m\u001b[0m\n\u001b[1;32m      4\u001b[0m \u001b[0mval_loss\u001b[0m \u001b[0;34m=\u001b[0m \u001b[0;34m[\u001b[0m\u001b[0;34m]\u001b[0m\u001b[0;34m\u001b[0m\u001b[0;34m\u001b[0m\u001b[0m\n\u001b[0;32m----> 5\u001b[0;31m \u001b[0;32mfor\u001b[0m \u001b[0mi\u001b[0m \u001b[0;32min\u001b[0m \u001b[0mrange\u001b[0m\u001b[0;34m(\u001b[0m\u001b[0mlen\u001b[0m\u001b[0;34m(\u001b[0m\u001b[0mx\u001b[0m\u001b[0;34m[\u001b[0m\u001b[0;34m'history'\u001b[0m\u001b[0;34m]\u001b[0m\u001b[0;34m)\u001b[0m\u001b[0;34m)\u001b[0m\u001b[0;34m:\u001b[0m\u001b[0;34m\u001b[0m\u001b[0;34m\u001b[0m\u001b[0m\n\u001b[0m\u001b[1;32m      6\u001b[0m   \u001b[0macc\u001b[0m\u001b[0;34m.\u001b[0m\u001b[0mappend\u001b[0m\u001b[0;34m(\u001b[0m\u001b[0mx\u001b[0m\u001b[0;34m[\u001b[0m\u001b[0;34m'history'\u001b[0m\u001b[0;34m]\u001b[0m\u001b[0;34m[\u001b[0m\u001b[0mi\u001b[0m\u001b[0;34m]\u001b[0m\u001b[0;34m.\u001b[0m\u001b[0mhistory\u001b[0m\u001b[0;34m[\u001b[0m\u001b[0;34m'accuracy'\u001b[0m\u001b[0;34m]\u001b[0m\u001b[0;34m[\u001b[0m\u001b[0;34m-\u001b[0m\u001b[0;36m1\u001b[0m\u001b[0;34m]\u001b[0m\u001b[0;34m)\u001b[0m\u001b[0;34m\u001b[0m\u001b[0;34m\u001b[0m\u001b[0m\n\u001b[1;32m      7\u001b[0m   \u001b[0mloss\u001b[0m\u001b[0;34m.\u001b[0m\u001b[0mappend\u001b[0m\u001b[0;34m(\u001b[0m\u001b[0mx\u001b[0m\u001b[0;34m[\u001b[0m\u001b[0;34m'history'\u001b[0m\u001b[0;34m]\u001b[0m\u001b[0;34m[\u001b[0m\u001b[0mi\u001b[0m\u001b[0;34m]\u001b[0m\u001b[0;34m.\u001b[0m\u001b[0mhistory\u001b[0m\u001b[0;34m[\u001b[0m\u001b[0;34m'loss'\u001b[0m\u001b[0;34m]\u001b[0m\u001b[0;34m[\u001b[0m\u001b[0;34m-\u001b[0m\u001b[0;36m1\u001b[0m\u001b[0;34m]\u001b[0m\u001b[0;34m)\u001b[0m\u001b[0;34m\u001b[0m\u001b[0;34m\u001b[0m\u001b[0m\n",
            "\u001b[0;31mNameError\u001b[0m: name 'x' is not defined"
          ]
        }
      ]
    },
    {
      "cell_type": "code",
      "metadata": {
        "colab": {
          "base_uri": "https://localhost:8080/"
        },
        "id": "i7mzd794Fsn8",
        "outputId": "40160dd3-8d15-476b-c40b-796e585fc72a"
      },
      "source": [
        "x['history'][i].history.items()"
      ],
      "execution_count": null,
      "outputs": [
        {
          "output_type": "execute_result",
          "data": {
            "text/plain": [
              "dict_items([('loss', [0.5154834389686584, 0.5145599842071533, 0.5148510336875916]), ('accuracy', [0.745518684387207, 0.746662437915802, 0.7463775277137756]), ('val_loss', [0.49613091349601746, 0.4944232702255249, 0.49505171179771423]), ('val_accuracy', [0.7572959065437317, 0.7606122493743896, 0.7589966058731079])])"
            ]
          },
          "metadata": {
            "tags": []
          },
          "execution_count": 18
        }
      ]
    },
    {
      "cell_type": "code",
      "metadata": {
        "id": "sDluVCkIERhr"
      },
      "source": [
        "res = {'Conv1D accuracy': acc,'Conv1D loss':loss,'Conv1D val_loss':val_loss,'Conv1D val_accuracy':val_acc}"
      ],
      "execution_count": null,
      "outputs": []
    },
    {
      "cell_type": "code",
      "metadata": {
        "colab": {
          "base_uri": "https://localhost:8080/"
        },
        "id": "hg4JUsavEjaG",
        "outputId": "3099d7fa-057f-4bfb-91fc-76fe3680fdec"
      },
      "source": [
        "res"
      ],
      "execution_count": null,
      "outputs": [
        {
          "output_type": "execute_result",
          "data": {
            "text/plain": [
              "{'Conv1D accuracy': [0.7419090270996094,\n",
              "  0.7462712526321411,\n",
              "  0.7448129057884216,\n",
              "  0.7440263628959656,\n",
              "  0.7463775277137756],\n",
              " 'Conv1D loss': [0.5190023183822632,\n",
              "  0.514137864112854,\n",
              "  0.5159708261489868,\n",
              "  0.5161250233650208,\n",
              "  0.5148510336875916],\n",
              " 'Conv1D val_accuracy': [0.7615816593170166,\n",
              "  0.7594558000564575,\n",
              "  0.7586564421653748,\n",
              "  0.7592856884002686,\n",
              "  0.7589966058731079],\n",
              " 'Conv1D val_loss': [0.5027748346328735,\n",
              "  0.5013351440429688,\n",
              "  0.4960257112979889,\n",
              "  0.4949069619178772,\n",
              "  0.49505171179771423]}"
            ]
          },
          "metadata": {
            "tags": []
          },
          "execution_count": 21
        }
      ]
    },
    {
      "cell_type": "code",
      "metadata": {
        "colab": {
          "base_uri": "https://localhost:8080/"
        },
        "id": "E8x_NDMZsQoM",
        "outputId": "8335033b-ce01-4350-f0ee-23a280272c6a"
      },
      "source": [
        "c = Conv1D()\n",
        "c.read_dataset('/content/drive/MyDrive/sar_elec_294k.csv')\n",
        "x = c.process(256)"
      ],
      "execution_count": null,
      "outputs": [
        {
          "output_type": "stream",
          "text": [
            "Model: \"sequential_4\"\n",
            "_________________________________________________________________\n",
            "Layer (type)                 Output Shape              Param #   \n",
            "=================================================================\n",
            "conv1d_8 (Conv1D)            (None, 254, 32)           128       \n",
            "_________________________________________________________________\n",
            "max_pooling1d_7 (MaxPooling1 (None, 84, 32)            0         \n",
            "_________________________________________________________________\n",
            "conv1d_9 (Conv1D)            (None, 82, 32)            3104      \n",
            "_________________________________________________________________\n",
            "max_pooling1d_8 (MaxPooling1 (None, 27, 32)            0         \n",
            "_________________________________________________________________\n",
            "dropout_4 (Dropout)          (None, 27, 32)            0         \n",
            "_________________________________________________________________\n",
            "bidirectional_2 (Bidirection (None, 27, 32)            4800      \n",
            "_________________________________________________________________\n",
            "flatten_4 (Flatten)          (None, 864)               0         \n",
            "_________________________________________________________________\n",
            "dense_20 (Dense)             (None, 512)               442880    \n",
            "_________________________________________________________________\n",
            "dense_21 (Dense)             (None, 256)               131328    \n",
            "_________________________________________________________________\n",
            "dense_22 (Dense)             (None, 128)               32896     \n",
            "_________________________________________________________________\n",
            "dense_23 (Dense)             (None, 64)                8256      \n",
            "_________________________________________________________________\n",
            "dense_24 (Dense)             (None, 2)                 130       \n",
            "=================================================================\n",
            "Total params: 623,522\n",
            "Trainable params: 623,522\n",
            "Non-trainable params: 0\n",
            "_________________________________________________________________\n",
            "Epoch 1/100\n",
            "7350/7350 [==============================] - 153s 20ms/step - loss: 0.6110 - accuracy: 0.6583 - val_loss: 0.5373 - val_accuracy: 0.7321\n",
            "Epoch 2/100\n",
            "7350/7350 [==============================] - 146s 20ms/step - loss: 0.5565 - accuracy: 0.7132 - val_loss: 0.5183 - val_accuracy: 0.7452\n",
            "Epoch 3/100\n",
            "7350/7350 [==============================] - 146s 20ms/step - loss: 0.5475 - accuracy: 0.7193 - val_loss: 0.5196 - val_accuracy: 0.7433\n",
            "Epoch 1/100\n",
            "7350/7350 [==============================] - 154s 21ms/step - loss: 0.5370 - accuracy: 0.7279 - val_loss: 0.5107 - val_accuracy: 0.7489\n",
            "Epoch 2/100\n",
            "7350/7350 [==============================] - 148s 20ms/step - loss: 0.5329 - accuracy: 0.7312 - val_loss: 0.5134 - val_accuracy: 0.7451\n",
            "Epoch 1/100\n",
            "7350/7350 [==============================] - 149s 20ms/step - loss: 0.5300 - accuracy: 0.7337 - val_loss: 0.5047 - val_accuracy: 0.7502\n",
            "Epoch 2/100\n",
            "7350/7350 [==============================] - 152s 21ms/step - loss: 0.5267 - accuracy: 0.7360 - val_loss: 0.5090 - val_accuracy: 0.7489\n",
            "Epoch 1/100\n",
            "7350/7350 [==============================] - 147s 20ms/step - loss: 0.5247 - accuracy: 0.7365 - val_loss: 0.5014 - val_accuracy: 0.7518\n",
            "Epoch 2/100\n",
            "7350/7350 [==============================] - 147s 20ms/step - loss: 0.5223 - accuracy: 0.7388 - val_loss: 0.4961 - val_accuracy: 0.7574\n",
            "Epoch 3/100\n",
            "7350/7350 [==============================] - 146s 20ms/step - loss: 0.5206 - accuracy: 0.7399 - val_loss: 0.4979 - val_accuracy: 0.7568\n",
            "Epoch 1/100\n",
            "7350/7350 [==============================] - 154s 21ms/step - loss: 0.5196 - accuracy: 0.7412 - val_loss: 0.4963 - val_accuracy: 0.7540\n",
            "Epoch 2/100\n",
            "7350/7350 [==============================] - 146s 20ms/step - loss: 0.5185 - accuracy: 0.7412 - val_loss: 0.4971 - val_accuracy: 0.7562\n"
          ],
          "name": "stdout"
        }
      ]
    },
    {
      "cell_type": "code",
      "metadata": {
        "id": "7V0QHOvBttJs"
      },
      "source": [
        "df = pd.DataFrame.from_dict(x['history'][0].history)"
      ],
      "execution_count": null,
      "outputs": []
    },
    {
      "cell_type": "code",
      "metadata": {
        "id": "2rkGUhodsRJL"
      },
      "source": [
        "df['epoch'] = [i+1 for i in range(len(df))]"
      ],
      "execution_count": null,
      "outputs": []
    },
    {
      "cell_type": "code",
      "metadata": {
        "id": "91XV87hWsh0b"
      },
      "source": [
        "dfs = []\n",
        "for i in range(len(x['history'])):\n",
        "  df = pd.DataFrame.from_dict(x['history'][i].history)\n",
        "  df['fold'] = i+1\n",
        "  df['epoch'] = [i+1 for i in range(len(df))]\n",
        "  dfs.append(df)"
      ],
      "execution_count": null,
      "outputs": []
    },
    {
      "cell_type": "code",
      "metadata": {
        "id": "CDFRSvhWtFQJ"
      },
      "source": [
        "df_fin = pd.concat(dfs,ignore_index=True)"
      ],
      "execution_count": null,
      "outputs": []
    },
    {
      "cell_type": "code",
      "metadata": {
        "id": "e8nV-xLZtJ5E"
      },
      "source": [
        "df_fin.to_csv('/content/drive/MyDrive/sar_elec_CONV-1D-2-BiGRU.csv',index = False,header = True)"
      ],
      "execution_count": null,
      "outputs": []
    },
    {
      "cell_type": "code",
      "metadata": {
        "colab": {
          "base_uri": "https://localhost:8080/"
        },
        "id": "LlKhlIYf8Iql",
        "outputId": "893a84eb-9e5f-44f4-cbeb-26c7b5c14f24"
      },
      "source": [
        "x2.shape"
      ],
      "execution_count": null,
      "outputs": [
        {
          "output_type": "execute_result",
          "data": {
            "text/plain": [
              "(58800, 256, 1)"
            ]
          },
          "metadata": {
            "tags": []
          },
          "execution_count": 33
        }
      ]
    },
    {
      "cell_type": "code",
      "metadata": {
        "colab": {
          "base_uri": "https://localhost:8080/"
        },
        "id": "eNvRg2Ju6sqZ",
        "outputId": "5310b7b0-de22-4ad1-be06-5b6f34a4dfb7"
      },
      "source": [
        "type(x1)"
      ],
      "execution_count": null,
      "outputs": [
        {
          "output_type": "execute_result",
          "data": {
            "text/plain": [
              "numpy.matrix"
            ]
          },
          "metadata": {
            "tags": []
          },
          "execution_count": 28
        }
      ]
    },
    {
      "cell_type": "code",
      "metadata": {
        "colab": {
          "base_uri": "https://localhost:8080/"
        },
        "id": "noUAZFYS63RG",
        "outputId": "cd3ce7d2-bc59-4769-fa55-171a65b84a1a"
      },
      "source": [
        "z.shape"
      ],
      "execution_count": null,
      "outputs": [
        {
          "output_type": "execute_result",
          "data": {
            "text/plain": [
              "(235200, 256)"
            ]
          },
          "metadata": {
            "tags": []
          },
          "execution_count": 27
        }
      ]
    },
    {
      "cell_type": "code",
      "metadata": {
        "colab": {
          "base_uri": "https://localhost:8080/"
        },
        "id": "c0hrGWfNt1vE",
        "outputId": "14a4970d-11c5-4e3f-c906-329ea57b0b4b"
      },
      "source": [
        "y2.shape"
      ],
      "execution_count": null,
      "outputs": [
        {
          "output_type": "execute_result",
          "data": {
            "text/plain": [
              "(58800, 2)"
            ]
          },
          "metadata": {
            "tags": []
          },
          "execution_count": 10
        }
      ]
    },
    {
      "cell_type": "code",
      "metadata": {
        "id": "EAibZv38naJA"
      },
      "source": [
        "import pandas as pd\n",
        "# df = pd.read_csv()"
      ],
      "execution_count": null,
      "outputs": []
    },
    {
      "cell_type": "code",
      "metadata": {
        "colab": {
          "base_uri": "https://localhost:8080/"
        },
        "id": "vKAaubfinwoR",
        "outputId": "8301f7f9-2f60-4649-cedc-9542150fc7b3"
      },
      "source": [
        "df.columns"
      ],
      "execution_count": null,
      "outputs": [
        {
          "output_type": "execute_result",
          "data": {
            "text/plain": [
              "Index(['id', 'embeddings', 'label', 'kfold'], dtype='object')"
            ]
          },
          "metadata": {
            "tags": []
          },
          "execution_count": 7
        }
      ]
    },
    {
      "cell_type": "code",
      "metadata": {
        "id": "-_zIIe_Snysk"
      },
      "source": [
        "from collections import Counter\n",
        "c = Counter(list(df.label.values))"
      ],
      "execution_count": null,
      "outputs": []
    },
    {
      "cell_type": "code",
      "metadata": {
        "colab": {
          "base_uri": "https://localhost:8080/"
        },
        "id": "8QhaSOBTn-sS",
        "outputId": "b5241ee4-1640-4423-dd5d-f18b326066ee"
      },
      "source": [
        "c.keys()"
      ],
      "execution_count": null,
      "outputs": [
        {
          "output_type": "execute_result",
          "data": {
            "text/plain": [
              "dict_keys(['sarcasm', 'normal'])"
            ]
          },
          "metadata": {
            "tags": []
          },
          "execution_count": 9
        }
      ]
    },
    {
      "cell_type": "code",
      "metadata": {
        "id": "OBsNW46wnNq_"
      },
      "source": [
        "model = tf.keras.models.Sequential([\n",
        "        tf.keras.layers.Input(shape=(256,1)),\n",
        "        tf.keras.layers.Conv1D(32,3, activation='relu',padding='valid'),\n",
        "        # tf.keras.layers.AveragePooling1D(pool_size=3, strides=1),\n",
        "        tf.keras.layers.Conv1D(32,3, activation='relu',padding='valid'),\n",
        "        # tf.keras.layers.AveragePooling1D(pool_size=3, strides=1),\n",
        "      #   tf.keras.layers.Conv1D(32,3,activation='relu',padding='valid'),\n",
        "      #   # tf.keras.layers.AveragePooling1D(pool_size=3, strides=1),\n",
        "      #  tf.keras.layers.Conv1D(32,3,activation='relu',padding='valid'),\n",
        "        # tf.keras.layers.AveragePooling1D(pool_size=3, strides=1),\n",
        "        tf.keras.layers.MaxPooling1D(pool_size=3),\n",
        "        tf.keras.layers.Bidirectional(tf.keras.layers.LSTM(256, dropout=0.2, recurrent_dropout=0.3)),\n",
        "        # tf.keras.layers.Dropout(0.25),\n",
        "        # tf.keras.layers.MaxPooling1D(pool_size=3),\n",
        "        # tf.keras.layers.Dropout(0.25),\n",
        "        # tf.keras.layers.AveragePooling1D(pool_size=3, strides=1),\n",
        "        # tf.keras.layers.GlobalMaxPooling1D(),\n",
        "        # tf.keras.layers.GRU(512,dropout=0.2,recurrent_dropout=0.3),\n",
        "        # tf.keras.layers.Flatten(),\n",
        "        tf.keras.layers.Dropout(0.5),\n",
        "        # tf.keras.layers.GlobalAveragePooling1D(),\n",
        "        tf.keras.layers.Dense(512, activation='sigmoid'),\n",
        "        # tf.keras.layers.Dense(512, activation='sigmoid'),\n",
        "        # tf.keras.layers.Dense(256, activation='sigmoid'),\n",
        "        tf.keras.layers.Dense(256, activation='sigmoid'),\n",
        "        # tf.keras.layers.GlobalMaxPooling1D(),\n",
        "        # tf.keras.layers.Dropout(0.25),\n",
        "        tf.keras.layers.Dense(5, activation='softmax')\n",
        "# # model.add(Dense(512, activation='sigmoid'))\n",
        "# # model.add(Dropout(0.25))\n",
        "        \n",
        "])"
      ],
      "execution_count": null,
      "outputs": []
    },
    {
      "cell_type": "code",
      "metadata": {
        "colab": {
          "base_uri": "https://localhost:8080/"
        },
        "id": "sf8yb3i9rJFs",
        "outputId": "df65e0df-daf6-411d-fb7b-9d8730c3d72c"
      },
      "source": [
        "model.summary()"
      ],
      "execution_count": null,
      "outputs": [
        {
          "output_type": "stream",
          "text": [
            "Model: \"sequential_4\"\n",
            "_________________________________________________________________\n",
            "Layer (type)                 Output Shape              Param #   \n",
            "=================================================================\n",
            "conv1d_8 (Conv1D)            (None, 254, 32)           128       \n",
            "_________________________________________________________________\n",
            "conv1d_9 (Conv1D)            (None, 252, 32)           3104      \n",
            "_________________________________________________________________\n",
            "max_pooling1d_4 (MaxPooling1 (None, 84, 32)            0         \n",
            "_________________________________________________________________\n",
            "bidirectional_3 (Bidirection (None, 512)               591872    \n",
            "_________________________________________________________________\n",
            "dropout_4 (Dropout)          (None, 512)               0         \n",
            "_________________________________________________________________\n",
            "dense_20 (Dense)             (None, 512)               262656    \n",
            "_________________________________________________________________\n",
            "dense_21 (Dense)             (None, 512)               262656    \n",
            "_________________________________________________________________\n",
            "dense_22 (Dense)             (None, 256)               131328    \n",
            "_________________________________________________________________\n",
            "dense_23 (Dense)             (None, 256)               65792     \n",
            "_________________________________________________________________\n",
            "dense_24 (Dense)             (None, 5)                 1285      \n",
            "=================================================================\n",
            "Total params: 1,318,821\n",
            "Trainable params: 1,318,821\n",
            "Non-trainable params: 0\n",
            "_________________________________________________________________\n"
          ],
          "name": "stdout"
        }
      ]
    }
  ]
}