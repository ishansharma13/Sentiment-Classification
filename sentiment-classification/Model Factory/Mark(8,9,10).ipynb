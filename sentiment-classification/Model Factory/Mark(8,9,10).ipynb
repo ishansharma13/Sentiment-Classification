{
  "nbformat": 4,
  "nbformat_minor": 0,
  "metadata": {
    "colab": {
      "name": "Mark(8,9,10).ipynb",
      "provenance": []
    },
    "kernelspec": {
      "name": "python3",
      "display_name": "Python 3"
    },
    "language_info": {
      "name": "python"
    },
    "accelerator": "TPU"
  },
  "cells": [
    {
      "cell_type": "code",
      "metadata": {
        "colab": {
          "base_uri": "https://localhost:8080/"
        },
        "id": "Eelq4ogN2aO3",
        "outputId": "85a8aba5-58f2-4c8d-9d3d-ea2a4d696ee2"
      },
      "source": [
        "!pip install transformers==3.0.2"
      ],
      "execution_count": null,
      "outputs": [
        {
          "output_type": "stream",
          "text": [
            "Collecting transformers==3.0.2\n",
            "\u001b[?25l  Downloading https://files.pythonhosted.org/packages/27/3c/91ed8f5c4e7ef3227b4119200fc0ed4b4fd965b1f0172021c25701087825/transformers-3.0.2-py3-none-any.whl (769kB)\n",
            "\u001b[K     |████████████████████████████████| 778kB 6.4MB/s \n",
            "\u001b[?25hCollecting tokenizers==0.8.1.rc1\n",
            "\u001b[?25l  Downloading https://files.pythonhosted.org/packages/02/59/68c7e3833f535615fb97d33ffcb7b30bbf62bc7477a9c59cd19ad8535d72/tokenizers-0.8.1rc1-cp37-cp37m-manylinux1_x86_64.whl (3.0MB)\n",
            "\u001b[K     |████████████████████████████████| 3.0MB 11.0MB/s \n",
            "\u001b[?25hRequirement already satisfied: regex!=2019.12.17 in /usr/local/lib/python3.7/dist-packages (from transformers==3.0.2) (2019.12.20)\n",
            "Collecting sentencepiece!=0.1.92\n",
            "\u001b[?25l  Downloading https://files.pythonhosted.org/packages/f5/99/e0808cb947ba10f575839c43e8fafc9cc44e4a7a2c8f79c60db48220a577/sentencepiece-0.1.95-cp37-cp37m-manylinux2014_x86_64.whl (1.2MB)\n",
            "\u001b[K     |████████████████████████████████| 1.2MB 42.1MB/s \n",
            "\u001b[?25hCollecting sacremoses\n",
            "\u001b[?25l  Downloading https://files.pythonhosted.org/packages/75/ee/67241dc87f266093c533a2d4d3d69438e57d7a90abb216fa076e7d475d4a/sacremoses-0.0.45-py3-none-any.whl (895kB)\n",
            "\u001b[K     |████████████████████████████████| 901kB 35.8MB/s \n",
            "\u001b[?25hRequirement already satisfied: packaging in /usr/local/lib/python3.7/dist-packages (from transformers==3.0.2) (20.9)\n",
            "Requirement already satisfied: requests in /usr/local/lib/python3.7/dist-packages (from transformers==3.0.2) (2.23.0)\n",
            "Requirement already satisfied: tqdm>=4.27 in /usr/local/lib/python3.7/dist-packages (from transformers==3.0.2) (4.41.1)\n",
            "Requirement already satisfied: numpy in /usr/local/lib/python3.7/dist-packages (from transformers==3.0.2) (1.19.5)\n",
            "Requirement already satisfied: filelock in /usr/local/lib/python3.7/dist-packages (from transformers==3.0.2) (3.0.12)\n",
            "Requirement already satisfied: six in /usr/local/lib/python3.7/dist-packages (from sacremoses->transformers==3.0.2) (1.15.0)\n",
            "Requirement already satisfied: click in /usr/local/lib/python3.7/dist-packages (from sacremoses->transformers==3.0.2) (7.1.2)\n",
            "Requirement already satisfied: joblib in /usr/local/lib/python3.7/dist-packages (from sacremoses->transformers==3.0.2) (1.0.1)\n",
            "Requirement already satisfied: pyparsing>=2.0.2 in /usr/local/lib/python3.7/dist-packages (from packaging->transformers==3.0.2) (2.4.7)\n",
            "Requirement already satisfied: urllib3!=1.25.0,!=1.25.1,<1.26,>=1.21.1 in /usr/local/lib/python3.7/dist-packages (from requests->transformers==3.0.2) (1.24.3)\n",
            "Requirement already satisfied: idna<3,>=2.5 in /usr/local/lib/python3.7/dist-packages (from requests->transformers==3.0.2) (2.10)\n",
            "Requirement already satisfied: certifi>=2017.4.17 in /usr/local/lib/python3.7/dist-packages (from requests->transformers==3.0.2) (2020.12.5)\n",
            "Requirement already satisfied: chardet<4,>=3.0.2 in /usr/local/lib/python3.7/dist-packages (from requests->transformers==3.0.2) (3.0.4)\n",
            "Installing collected packages: tokenizers, sentencepiece, sacremoses, transformers\n",
            "Successfully installed sacremoses-0.0.45 sentencepiece-0.1.95 tokenizers-0.8.1rc1 transformers-3.0.2\n"
          ],
          "name": "stdout"
        }
      ]
    },
    {
      "cell_type": "code",
      "metadata": {
        "colab": {
          "base_uri": "https://localhost:8080/"
        },
        "id": "F5hMAY3B2pyR",
        "outputId": "452a7c7c-ebf2-4407-a8ed-9819066948e4"
      },
      "source": [
        "import numpy as np\n",
        "import pandas as pd\n",
        "from transformers import BertTokenizer,TFBertModel\n",
        "import os\n",
        "import pprint\n",
        "from keras.callbacks import EarlyStopping\n",
        "import tensorflow as tf\n",
        "from sklearn.preprocessing import LabelEncoder\n",
        "from keras.utils import np_utils\n",
        "from google.colab import drive\n",
        "drive.mount('/content/drive')"
      ],
      "execution_count": null,
      "outputs": [
        {
          "output_type": "stream",
          "text": [
            "Mounted at /content/drive\n"
          ],
          "name": "stdout"
        }
      ]
    },
    {
      "cell_type": "code",
      "metadata": {
        "colab": {
          "base_uri": "https://localhost:8080/"
        },
        "id": "J2B96IrI2_8m",
        "outputId": "e014f3d5-0593-49f3-c391-e27401f3eef6"
      },
      "source": [
        "import os\n",
        "import pprint # for pretty printing our device stats\n",
        "\n",
        "if 'COLAB_TPU_ADDR' not in os.environ:\n",
        "    print('ERROR: Not connected to a TPU runtime; please see the first cell in this notebook for instructions!')\n",
        "else:\n",
        "    tpu_address = 'grpc://' + os.environ['COLAB_TPU_ADDR']\n",
        "    print ('TPU address is', tpu_address)\n",
        "\n",
        "    with tf.compat.v1.Session(tpu_address) as session:\n",
        "      devices = session.list_devices()\n",
        "\n",
        "    print('TPU devices:')\n",
        "    pprint.pprint(devices)"
      ],
      "execution_count": null,
      "outputs": [
        {
          "output_type": "stream",
          "text": [
            "TPU address is grpc://10.23.163.50:8470\n",
            "TPU devices:\n",
            "[_DeviceAttributes(/job:tpu_worker/replica:0/task:0/device:CPU:0, CPU, -1, -4130983382769546672),\n",
            " _DeviceAttributes(/job:tpu_worker/replica:0/task:0/device:TPU_SYSTEM:0, TPU_SYSTEM, 8589934592, -7792359222927356599),\n",
            " _DeviceAttributes(/job:tpu_worker/replica:0/task:0/device:XLA_CPU:0, XLA_CPU, 17179869184, -5919684349313568827),\n",
            " _DeviceAttributes(/job:tpu_worker/replica:0/task:0/device:TPU:0, TPU, 17179869184, -8771316656228816728),\n",
            " _DeviceAttributes(/job:tpu_worker/replica:0/task:0/device:TPU:1, TPU, 17179869184, -8146121197153692174),\n",
            " _DeviceAttributes(/job:tpu_worker/replica:0/task:0/device:TPU:2, TPU, 17179869184, 1330578680871673460),\n",
            " _DeviceAttributes(/job:tpu_worker/replica:0/task:0/device:TPU:3, TPU, 17179869184, 6606214884929371618),\n",
            " _DeviceAttributes(/job:tpu_worker/replica:0/task:0/device:TPU:4, TPU, 17179869184, 8361985550473448631),\n",
            " _DeviceAttributes(/job:tpu_worker/replica:0/task:0/device:TPU:5, TPU, 17179869184, -8311809863979055904),\n",
            " _DeviceAttributes(/job:tpu_worker/replica:0/task:0/device:TPU:6, TPU, 17179869184, -8878298237418580798),\n",
            " _DeviceAttributes(/job:tpu_worker/replica:0/task:0/device:TPU:7, TPU, 17179869184, -6899224131137527172)]\n"
          ],
          "name": "stdout"
        }
      ]
    },
    {
      "cell_type": "code",
      "metadata": {
        "colab": {
          "base_uri": "https://localhost:8080/"
        },
        "id": "5EfZgDwC3EHn",
        "outputId": "92c11d92-eaff-4c0c-951d-0ae9cbb71b45"
      },
      "source": [
        "resolver = tf.distribute.cluster_resolver.TPUClusterResolver(tpu='')\n",
        "tf.config.experimental_connect_to_cluster(resolver)\n",
        "# This is the TPU initialization code that has to be at the beginning.\n",
        "tf.tpu.experimental.initialize_tpu_system(resolver)\n",
        "print(\"All devices: \", tf.config.list_logical_devices('TPU'))\n",
        "strategy = tf.distribute.TPUStrategy(resolver)"
      ],
      "execution_count": null,
      "outputs": [
        {
          "output_type": "stream",
          "text": [
            "INFO:absl:Entering into master device scope: /job:worker/replica:0/task:0/device:CPU:0\n"
          ],
          "name": "stderr"
        },
        {
          "output_type": "stream",
          "text": [
            "INFO:tensorflow:Initializing the TPU system: grpc://10.23.163.50:8470\n"
          ],
          "name": "stdout"
        },
        {
          "output_type": "stream",
          "text": [
            "INFO:tensorflow:Initializing the TPU system: grpc://10.23.163.50:8470\n"
          ],
          "name": "stderr"
        },
        {
          "output_type": "stream",
          "text": [
            "INFO:tensorflow:Clearing out eager caches\n"
          ],
          "name": "stdout"
        },
        {
          "output_type": "stream",
          "text": [
            "INFO:tensorflow:Clearing out eager caches\n"
          ],
          "name": "stderr"
        },
        {
          "output_type": "stream",
          "text": [
            "INFO:tensorflow:Finished initializing TPU system.\n"
          ],
          "name": "stdout"
        },
        {
          "output_type": "stream",
          "text": [
            "INFO:tensorflow:Finished initializing TPU system.\n"
          ],
          "name": "stderr"
        },
        {
          "output_type": "stream",
          "text": [
            "All devices:  [LogicalDevice(name='/job:worker/replica:0/task:0/device:TPU:7', device_type='TPU'), LogicalDevice(name='/job:worker/replica:0/task:0/device:TPU:6', device_type='TPU'), LogicalDevice(name='/job:worker/replica:0/task:0/device:TPU:5', device_type='TPU'), LogicalDevice(name='/job:worker/replica:0/task:0/device:TPU:4', device_type='TPU'), LogicalDevice(name='/job:worker/replica:0/task:0/device:TPU:3', device_type='TPU'), LogicalDevice(name='/job:worker/replica:0/task:0/device:TPU:0', device_type='TPU'), LogicalDevice(name='/job:worker/replica:0/task:0/device:TPU:1', device_type='TPU'), LogicalDevice(name='/job:worker/replica:0/task:0/device:TPU:2', device_type='TPU')]\n",
            "INFO:tensorflow:Found TPU system:\n"
          ],
          "name": "stdout"
        },
        {
          "output_type": "stream",
          "text": [
            "INFO:tensorflow:Found TPU system:\n"
          ],
          "name": "stderr"
        },
        {
          "output_type": "stream",
          "text": [
            "INFO:tensorflow:*** Num TPU Cores: 8\n"
          ],
          "name": "stdout"
        },
        {
          "output_type": "stream",
          "text": [
            "INFO:tensorflow:*** Num TPU Cores: 8\n"
          ],
          "name": "stderr"
        },
        {
          "output_type": "stream",
          "text": [
            "INFO:tensorflow:*** Num TPU Workers: 1\n"
          ],
          "name": "stdout"
        },
        {
          "output_type": "stream",
          "text": [
            "INFO:tensorflow:*** Num TPU Workers: 1\n"
          ],
          "name": "stderr"
        },
        {
          "output_type": "stream",
          "text": [
            "INFO:tensorflow:*** Num TPU Cores Per Worker: 8\n"
          ],
          "name": "stdout"
        },
        {
          "output_type": "stream",
          "text": [
            "INFO:tensorflow:*** Num TPU Cores Per Worker: 8\n"
          ],
          "name": "stderr"
        },
        {
          "output_type": "stream",
          "text": [
            "INFO:tensorflow:*** Available Device: _DeviceAttributes(/job:localhost/replica:0/task:0/device:CPU:0, CPU, 0, 0)\n"
          ],
          "name": "stdout"
        },
        {
          "output_type": "stream",
          "text": [
            "INFO:tensorflow:*** Available Device: _DeviceAttributes(/job:localhost/replica:0/task:0/device:CPU:0, CPU, 0, 0)\n"
          ],
          "name": "stderr"
        },
        {
          "output_type": "stream",
          "text": [
            "INFO:tensorflow:*** Available Device: _DeviceAttributes(/job:worker/replica:0/task:0/device:CPU:0, CPU, 0, 0)\n"
          ],
          "name": "stdout"
        },
        {
          "output_type": "stream",
          "text": [
            "INFO:tensorflow:*** Available Device: _DeviceAttributes(/job:worker/replica:0/task:0/device:CPU:0, CPU, 0, 0)\n"
          ],
          "name": "stderr"
        },
        {
          "output_type": "stream",
          "text": [
            "INFO:tensorflow:*** Available Device: _DeviceAttributes(/job:worker/replica:0/task:0/device:TPU:0, TPU, 0, 0)\n"
          ],
          "name": "stdout"
        },
        {
          "output_type": "stream",
          "text": [
            "INFO:tensorflow:*** Available Device: _DeviceAttributes(/job:worker/replica:0/task:0/device:TPU:0, TPU, 0, 0)\n"
          ],
          "name": "stderr"
        },
        {
          "output_type": "stream",
          "text": [
            "INFO:tensorflow:*** Available Device: _DeviceAttributes(/job:worker/replica:0/task:0/device:TPU:1, TPU, 0, 0)\n"
          ],
          "name": "stdout"
        },
        {
          "output_type": "stream",
          "text": [
            "INFO:tensorflow:*** Available Device: _DeviceAttributes(/job:worker/replica:0/task:0/device:TPU:1, TPU, 0, 0)\n"
          ],
          "name": "stderr"
        },
        {
          "output_type": "stream",
          "text": [
            "INFO:tensorflow:*** Available Device: _DeviceAttributes(/job:worker/replica:0/task:0/device:TPU:2, TPU, 0, 0)\n"
          ],
          "name": "stdout"
        },
        {
          "output_type": "stream",
          "text": [
            "INFO:tensorflow:*** Available Device: _DeviceAttributes(/job:worker/replica:0/task:0/device:TPU:2, TPU, 0, 0)\n"
          ],
          "name": "stderr"
        },
        {
          "output_type": "stream",
          "text": [
            "INFO:tensorflow:*** Available Device: _DeviceAttributes(/job:worker/replica:0/task:0/device:TPU:3, TPU, 0, 0)\n"
          ],
          "name": "stdout"
        },
        {
          "output_type": "stream",
          "text": [
            "INFO:tensorflow:*** Available Device: _DeviceAttributes(/job:worker/replica:0/task:0/device:TPU:3, TPU, 0, 0)\n"
          ],
          "name": "stderr"
        },
        {
          "output_type": "stream",
          "text": [
            "INFO:tensorflow:*** Available Device: _DeviceAttributes(/job:worker/replica:0/task:0/device:TPU:4, TPU, 0, 0)\n"
          ],
          "name": "stdout"
        },
        {
          "output_type": "stream",
          "text": [
            "INFO:tensorflow:*** Available Device: _DeviceAttributes(/job:worker/replica:0/task:0/device:TPU:4, TPU, 0, 0)\n"
          ],
          "name": "stderr"
        },
        {
          "output_type": "stream",
          "text": [
            "INFO:tensorflow:*** Available Device: _DeviceAttributes(/job:worker/replica:0/task:0/device:TPU:5, TPU, 0, 0)\n"
          ],
          "name": "stdout"
        },
        {
          "output_type": "stream",
          "text": [
            "INFO:tensorflow:*** Available Device: _DeviceAttributes(/job:worker/replica:0/task:0/device:TPU:5, TPU, 0, 0)\n"
          ],
          "name": "stderr"
        },
        {
          "output_type": "stream",
          "text": [
            "INFO:tensorflow:*** Available Device: _DeviceAttributes(/job:worker/replica:0/task:0/device:TPU:6, TPU, 0, 0)\n"
          ],
          "name": "stdout"
        },
        {
          "output_type": "stream",
          "text": [
            "INFO:tensorflow:*** Available Device: _DeviceAttributes(/job:worker/replica:0/task:0/device:TPU:6, TPU, 0, 0)\n"
          ],
          "name": "stderr"
        },
        {
          "output_type": "stream",
          "text": [
            "INFO:tensorflow:*** Available Device: _DeviceAttributes(/job:worker/replica:0/task:0/device:TPU:7, TPU, 0, 0)\n"
          ],
          "name": "stdout"
        },
        {
          "output_type": "stream",
          "text": [
            "INFO:tensorflow:*** Available Device: _DeviceAttributes(/job:worker/replica:0/task:0/device:TPU:7, TPU, 0, 0)\n"
          ],
          "name": "stderr"
        },
        {
          "output_type": "stream",
          "text": [
            "INFO:tensorflow:*** Available Device: _DeviceAttributes(/job:worker/replica:0/task:0/device:TPU_SYSTEM:0, TPU_SYSTEM, 0, 0)\n"
          ],
          "name": "stdout"
        },
        {
          "output_type": "stream",
          "text": [
            "INFO:tensorflow:*** Available Device: _DeviceAttributes(/job:worker/replica:0/task:0/device:TPU_SYSTEM:0, TPU_SYSTEM, 0, 0)\n"
          ],
          "name": "stderr"
        },
        {
          "output_type": "stream",
          "text": [
            "INFO:tensorflow:*** Available Device: _DeviceAttributes(/job:worker/replica:0/task:0/device:XLA_CPU:0, XLA_CPU, 0, 0)\n"
          ],
          "name": "stdout"
        },
        {
          "output_type": "stream",
          "text": [
            "INFO:tensorflow:*** Available Device: _DeviceAttributes(/job:worker/replica:0/task:0/device:XLA_CPU:0, XLA_CPU, 0, 0)\n"
          ],
          "name": "stderr"
        }
      ]
    },
    {
      "cell_type": "code",
      "metadata": {
        "id": "WXM54EqM3Hh6"
      },
      "source": [
        "class bertModels:\n",
        "\tdef __init__(self,path):\n",
        "\t\tdf = pd.read_csv(path)\n",
        "\t\tself.max_seq_len = 35\n",
        "\t\tbert_name = 'bert-base-uncased'\n",
        "\t\tself.tokenizer = BertTokenizer.from_pretrained(bert_name,add_special_tokens=True,max_length =self.max_seq_len,pad_to_max_length = True)\n",
        "\t\tself.train_set,self.test_set = self.prepare_data(df)\n",
        "\t\twith strategy.scope():\n",
        "\t\t\tself.bert = TFBertModel.from_pretrained(bert_name)\n",
        "\t\t\tself.bert.trainable = False\n",
        "\t\t\n",
        "\t\t\n",
        "\tdef prepare_data(self,df):\t\n",
        "\t\tdf_tr = df[df['kfold'] != 0].reset_index(drop=True)\n",
        "\t\tdf_ts = df[df['kfold'] == 0].reset_index(drop=True)\n",
        "\t\t\n",
        "\t\tbert_tr = [self.encode_data(x) for x in list(df_tr.text.values)]\n",
        "\t\tbert_ts = [self.encode_data(x) for x in list(df_ts.text.values)]\n",
        "\t\t\n",
        "\t\tencoder = LabelEncoder()\n",
        "\t\tbert_tr_lb = tf.convert_to_tensor(np_utils.to_categorical(encoder.fit_transform(df_tr.label.values)),tf.float32)\n",
        "\t\tbert_ts_lb = tf.convert_to_tensor(np_utils.to_categorical(encoder.fit_transform(df_ts.label.values)),tf.float32)\n",
        "\t\t\n",
        "\t\tx_tr = np.array(bert_tr)\n",
        "\t\tx_ts = np.array(bert_ts)\n",
        "\t\t\n",
        "\t\tx_tr_inp_ids,x_tr_att_mks = np.split(x_tr,2,axis = 1)\n",
        "\t\tx_ts_inp_ids,x_ts_att_mks = np.split(x_ts,2,axis = 1)\n",
        "\t\t\n",
        "\t\tx_tr_inp_ids = tf.convert_to_tensor(x_tr_inp_ids.squeeze(),dtype=tf.int64)\n",
        "\t\tx_tr_att_mks = tf.convert_to_tensor(x_tr_att_mks.squeeze(),dtype=tf.int64)\n",
        "\t\t\n",
        "\t\tx_ts_inp_ids = tf.convert_to_tensor(x_ts_inp_ids.squeeze(),dtype=tf.int64)\n",
        "\t\tx_ts_att_mks = tf.convert_to_tensor(x_ts_att_mks.squeeze(),dtype=tf.int64)\n",
        "\t\t\n",
        "\t\tx_tr_fin = [x_tr_inp_ids,x_tr_att_mks]\n",
        "\t\tx_ts_fin = [x_ts_inp_ids,x_ts_att_mks]\n",
        "\t\t\n",
        "\t\treturn (x_tr_fin,bert_tr_lb),(x_ts_fin,bert_ts_lb)\n",
        "\t\n",
        "\t\n",
        "\t\n",
        "\tdef encode_data(self,x):\n",
        "\t\tencoded = self.tokenizer.encode_plus(x,add_special_tokens=True,max_length =self.max_seq_len,pad_to_max_length = True,truncation=True,return_attention_mask=True,return_tensors='np')\n",
        "\t\treturn encoded['input_ids'],encoded['attention_mask']\n",
        "\t\t\n",
        "\t\t\n",
        "\t\t\n",
        "\t\n",
        "\tdef process(self,ls):\n",
        "\t\tfor name in ls:\n",
        "\t\t\this = self.compile_model(name)\n",
        "\t\t\tdf = pd.DataFrame.from_dict(his.history)\n",
        "\t\t\tdf['epoch'] = [i+1 for i in range(len(df))]\n",
        "\t\t\tdf.to_csv('/content/drive/MyDrive/Bert/sent_'+name+'.csv',index=False,header=True)\n",
        "\t\n",
        "\t\n",
        "\tdef compile_model(self,name):\n",
        "\t\twith strategy.scope():\n",
        "\t\t\tmodel = self.create_model(name)\n",
        "\t\t\tmodel.compile(loss='categorical_crossentropy',optimizer = 'adam',metrics=['accuracy'])\n",
        "\t\t\n",
        "\t\t\n",
        "\t\tprint('\\n------------------ '+name+' ------------------\\n')\n",
        "\t\tmodel.summary()\n",
        "\t\treturn model.fit(x = self.train_set[0],y = self.train_set[1],validation_data=(self.test_set[0],self.test_set[1]),epochs=100,callbacks=[EarlyStopping()])\n",
        "\t\t\n",
        "\tdef create_model(self,name):\n",
        "\t\tinputs = tf.keras.layers.Input((self.max_seq_len,),dtype = tf.int64,name=\"input_ids\")\n",
        "\t\tmask = tf.keras.layers.Input((self.max_seq_len,),dtype = tf.int64,name=\"attention_mask\")\n",
        "\t\t\n",
        "\t\tpred = self.bert(inputs=inputs,attention_mask = mask)[0]\n",
        "\t\t\n",
        "\t\tif name == 'CONV1D GRU MK5':\n",
        "\t\t\tx = tf.keras.layers.Conv1D(32,3,activation='relu',padding='same')(pred)\n",
        "\t\t\tx = tf.keras.layers.MaxPooling1D()(x)\n",
        "\t\t\tx = tf.keras.layers.Bidirectional(tf.keras.layers.GRU(16,return_sequences=True,dropout=0.2,recurrent_dropout=0.3))(x)\n",
        "\t\t\tx = tf.keras.layers.MaxPooling1D()(x)\n",
        "\t\t\tx = tf.keras.layers.Flatten()(x)\n",
        "\t\t\tx = tf.keras.layers.Dropout(0.2)(x)\n",
        "\t\t\tx = tf.keras.layers.Dense(256,activation='relu')(x)\n",
        "\t\t\tx = tf.keras.layers.Dense(64,activation='relu')(x)\n",
        "\t\t\tx = tf.keras.layers.Dense(16,activation='relu')(x)\n",
        "\t\t\tx = tf.keras.layers.Dense(5,activation='softmax')(x)\n",
        "\t\t\t\n",
        "\t\tif name == 'CONV1D GRU MK6':\n",
        "\t\t\tx = tf.keras.layers.Conv1D(32,3,activation='relu',padding='same')(pred)\n",
        "\t\t\tx = tf.keras.layers.MaxPooling1D()(x)\n",
        "\t\t\tx = tf.keras.layers.Bidirectional(tf.keras.layers.GRU(16,return_sequences=True,dropout=0.2,recurrent_dropout=0.3))(x)\n",
        "\t\t\tx = tf.keras.layers.AveragePooling1D()(x)\n",
        "\t\t\tx = tf.keras.layers.Flatten()(x)\n",
        "\t\t\tx = tf.keras.layers.Dropout(0.2)(x)\n",
        "\t\t\tx = tf.keras.layers.Dense(256,activation='relu')(x)\n",
        "\t\t\tx = tf.keras.layers.Dense(64,activation='relu')(x)\n",
        "\t\t\tx = tf.keras.layers.Dense(16,activation='relu')(x)\n",
        "\t\t\tx = tf.keras.layers.Dense(5,activation='softmax')(x)\n",
        "\t\t\t\n",
        "\t\tif name == 'CONV1D MK7':\n",
        "\t\t\tx = tf.keras.layers.Conv1D(32,3,activation='relu',padding='same')(pred)\n",
        "\t\t\tx = tf.keras.layers.AveragePooling1D()(x)\n",
        "\t\t\tx = tf.keras.layers.Conv1D(32,3,activation='relu',padding='same')(x)\n",
        "\t\t\tx = tf.keras.layers.GlobalAveragePooling1D()(x)\n",
        "\t\t\tx = tf.keras.layers.Dropout(0.2)(x)\n",
        "\t\t\tx = tf.keras.layers.Dense(20,activation='relu')(x)\n",
        "\t\t\tx = tf.keras.layers.Dense(5,activation='softmax')(x)\n",
        "\t\t\n",
        "\t\tif name == 'CONV1D MK8':\n",
        "\t\t\tx = tf.keras.layers.Conv1D(32,3,activation='relu',padding='same')(pred)\n",
        "\t\t\tx = tf.keras.layers.MaxPooling1D()(x)\n",
        "\t\t\tx = tf.keras.layers.Conv1D(32,3,activation='relu',padding='same')(x)\n",
        "\t\t\tx = tf.keras.layers.MaxPooling1D()(x)\n",
        "\t\t\tx = tf.keras.layers.Flatten()(x)\n",
        "\t\t\tx = tf.keras.layers.Dropout(0.2)(x)\n",
        "\t\t\tx = tf.keras.layers.Dense(512,activation='relu')(x)\n",
        "\t\t\tx = tf.keras.layers.Dense(128,activation='relu')(x)\n",
        "\t\t\tx = tf.keras.layers.Dense(32,activation='relu')(x)\n",
        "\t\t\tx = tf.keras.layers.Dense(5,activation='softmax')(x)\n",
        "\t\t\n",
        "\t\tif name == 'CONV1D MK9':\n",
        "\t\t\tx = tf.keras.layers.Conv1D(32,3,activation='relu',padding='same')(pred)\n",
        "\t\t\tx = tf.keras.layers.AveragePooling1D()(x)\n",
        "\t\t\tx = tf.keras.layers.Conv1D(32,3,activation='relu',padding='same')(x)\n",
        "\t\t\tx = tf.keras.layers.AveragePooling1D()(x)\n",
        "\t\t\tx = tf.keras.layers.Flatten()(x)\n",
        "\t\t\tx = tf.keras.layers.Dropout(0.2)(x)\n",
        "\t\t\tx = tf.keras.layers.Dense(512,activation='relu')(x)\n",
        "\t\t\tx = tf.keras.layers.Dense(128,activation='relu')(x)\n",
        "\t\t\tx = tf.keras.layers.Dense(32,activation='relu')(x)\n",
        "\t\t\tx = tf.keras.layers.Dense(5,activation='softmax')(x)\n",
        "\t\t\t\n",
        "\t\tif name == 'SEP CONV1D MK10':\n",
        "\t\t\tx = tf.keras.layers.SeparableConv1D(32,3,activation='relu',padding='same')(pred)\n",
        "\t\t\tx = tf.keras.layers.MaxPooling1D()(x)\n",
        "\t\t\tx = tf.keras.layers.SeparableConv1D(32,3,activation='relu',padding='same')(x)\n",
        "\t\t\tx = tf.keras.layers.GlobalMaxPooling1D()(x)\n",
        "\t\t\tx = tf.keras.layers.Dropout(0.2)(x)\n",
        "\t\t\tx = tf.keras.layers.Dense(20,activation='relu')(x)\n",
        "\t\t\tx = tf.keras.layers.Dense(5,activation='softmax')(x)\n",
        "\t\t\t\n",
        "\t\tif name == 'SEP CONV1D MK11':\n",
        "\t\t\tx = tf.keras.layers.SeparableConv1D(32,3,activation='relu',padding='same')(pred)\n",
        "\t\t\tx = tf.keras.layers.AveragePooling1D()(x)\n",
        "\t\t\tx = tf.keras.layers.SeparableConv1D(32,3,activation='relu',padding='same')(x)\n",
        "\t\t\tx = tf.keras.layers.GlobalAveragePooling1D()(x)\n",
        "\t\t\tx = tf.keras.layers.Dropout(0.2)(x)\n",
        "\t\t\tx = tf.keras.layers.Dense(20,activation='relu')(x)\n",
        "\t\t\tx = tf.keras.layers.Dense(5,activation='softmax')(x)\n",
        "\t\t\n",
        "\t\tif name == 'SEP CONV1D MK12':\n",
        "\t\t\tx = tf.keras.layers.SeparableConv1D(32,3,activation='relu',padding='same')(pred)\n",
        "\t\t\tx = tf.keras.layers.AveragePooling1D()(x)\n",
        "\t\t\tx = tf.keras.layers.SeparableConv1D(32,3,activation='relu',padding='same')(x)\n",
        "\t\t\tx = tf.keras.layers.AveragePooling1D()(x)\n",
        "\t\t\tx = tf.keras.layers.Flatten()(x)\n",
        "\t\t\tx = tf.keras.layers.Dropout(0.2)(x)\n",
        "\t\t\tx = tf.keras.layers.Dense(512,activation='relu')(x)\n",
        "\t\t\tx = tf.keras.layers.Dense(128,activation='relu')(x)\n",
        "\t\t\tx = tf.keras.layers.Dense(32,activation='relu')(x)\n",
        "\t\t\tx = tf.keras.layers.Dense(5,activation='softmax')(x)\n",
        "\t\t\t\n",
        "\t\tif name == 'SEP CONV1D MK13':\n",
        "\t\t\tx = tf.keras.layers.SeparableConv1D(32,3,activation='relu',padding='same')(pred)\n",
        "\t\t\tx = tf.keras.layers.MaxPooling1D()(x)\n",
        "\t\t\tx = tf.keras.layers.SeparableConv1D(32,3,activation='relu',padding='same')(x)\n",
        "\t\t\tx = tf.keras.layers.MaxPooling1D()(x)\n",
        "\t\t\tx = tf.keras.layers.Flatten()(x)\n",
        "\t\t\tx = tf.keras.layers.Dropout(0.2)(x)\n",
        "\t\t\tx = tf.keras.layers.Dense(512,activation='relu')(x)\n",
        "\t\t\tx = tf.keras.layers.Dense(128,activation='relu')(x)\n",
        "\t\t\tx = tf.keras.layers.Dense(32,activation='relu')(x)\n",
        "\t\t\tx = tf.keras.layers.Dense(5,activation='softmax')(x)\n",
        "\t\t\t\n",
        "\t\tif name == 'SEP CONV1D GRU MK14':\n",
        "\t\t\tx = tf.keras.layers.SeparableConv1D(32,3,activation='relu',padding='same')(pred)\n",
        "\t\t\tx = tf.keras.layers.MaxPooling1D()(x)\n",
        "\t\t\tx = tf.keras.layers.Bidirectional(tf.keras.layers.GRU(16,return_sequences=True,dropout=0.2,recurrent_dropout=0.3))(x)\n",
        "\t\t\tx = tf.keras.layers.GlobalMaxPooling1D()(x)\n",
        "\t\t\tx = tf.keras.layers.Dropout(0.2)(x)\n",
        "\t\t\tx = tf.keras.layers.Dense(20,activation='relu')(x)\n",
        "\t\t\tx = tf.keras.layers.Dense(5,activation='softmax')(x)\n",
        "\t\t\t\n",
        "\t\tif name == 'SEP CONV1D GRU MK15':\n",
        "\t\t\tx = tf.keras.layers.SeparableConv1D(32,3,activation='relu',padding='same')(pred)\n",
        "\t\t\tx = tf.keras.layers.AveragePooling1D()(x)\n",
        "\t\t\tx = tf.keras.layers.Bidirectional(tf.keras.layers.GRU(16,return_sequences=True,dropout=0.2,recurrent_dropout=0.3))(x)\n",
        "\t\t\tx = tf.keras.layers.GlobalAveragePooling1D()(x)\n",
        "\t\t\tx = tf.keras.layers.Dropout(0.2)(x)\n",
        "\t\t\tx = tf.keras.layers.Dense(20,activation='relu')(x)\n",
        "\t\t\tx = tf.keras.layers.Dense(5,activation='softmax')(x)\n",
        "\t\t\t\n",
        "\t\tif name == 'SEP CONV1D GRU MK16':\n",
        "\t\t\tx = tf.keras.layers.SeparableConv1D(32,3,activation='relu',padding='same')(pred)\n",
        "\t\t\tx = tf.keras.layers.AveragePooling1D()(x)\n",
        "\t\t\tx = tf.keras.layers.Bidirectional(tf.keras.layers.GRU(16,return_sequences=True,dropout=0.2,recurrent_dropout=0.3))(x)\n",
        "\t\t\tx = tf.keras.layers.AveragePooling1D()(x)\n",
        "\t\t\tx = tf.keras.layers.Flatten()(x)\n",
        "\t\t\tx = tf.keras.layers.Dropout(0.2)(x)\n",
        "\t\t\tx = tf.keras.layers.Dense(256,activation='relu')(x)\n",
        "\t\t\tx = tf.keras.layers.Dense(64,activation='relu')(x)\n",
        "\t\t\tx = tf.keras.layers.Dense(16,activation='relu')(x)\n",
        "\t\t\tx = tf.keras.layers.Dense(5,activation='softmax')(x)\n",
        "\t\t\t\n",
        "\t\tif name == 'SEP CONV1D MK17':\n",
        "\t\t\tx = tf.keras.layers.SeparableConv1D(32,3,activation='relu',padding='same')(pred)\n",
        "\t\t\tx = tf.keras.layers.MaxPooling1D()(x)\n",
        "\t\t\tx = tf.keras.layers.Bidirectional(tf.keras.layers.GRU(16,return_sequences=True,dropout=0.2,recurrent_dropout=0.3))(x)\n",
        "\t\t\tx = tf.keras.layers.MaxPooling1D()(x)\n",
        "\t\t\tx = tf.keras.layers.Flatten()(x)\n",
        "\t\t\tx = tf.keras.layers.Dropout(0.2)(x)\n",
        "\t\t\tx = tf.keras.layers.Dense(256,activation='relu')(x)\n",
        "\t\t\tx = tf.keras.layers.Dense(64,activation='relu')(x)\n",
        "\t\t\tx = tf.keras.layers.Dense(16,activation='relu')(x)\n",
        "\t\t\tx = tf.keras.layers.Dense(5,activation='softmax')(x)\n",
        "\t\t\t\n",
        "\t\tif name == 'BiGRU MK18':\n",
        "\t\t\tx = tf.keras.layers.Bidirectional(tf.keras.layers.GRU(16,return_sequences=True,dropout=0.2,recurrent_dropout=0.3))(x)\n",
        "\t\t\tx = tf.keras.layers.GlobalMaxPooling1D()(x)\n",
        "\t\t\tx = tf.keras.layers.Dropout(0.2)(x)\n",
        "\t\t\tx = tf.keras.layers.Dense(20,activation='relu')(x)\n",
        "\t\t\tx = tf.keras.layers.Dense(5,activation='softmax')(x)\n",
        "\t\t\t\n",
        "\t\tif name == 'BiGRU MK19':\n",
        "\t\t\tx = tf.keras.layers.Bidirectional(tf.keras.layers.GRU(16,return_sequences=True,dropout=0.2,recurrent_dropout=0.3))(x)\n",
        "\t\t\tx = tf.keras.layers.GlobalAveragePooling1D()(x)\n",
        "\t\t\tx = tf.keras.layers.Dropout(0.2)(x)\n",
        "\t\t\tx = tf.keras.layers.Dense(20,activation='relu')(x)\n",
        "\t\t\tx = tf.keras.layers.Dense(5,activation='softmax')(x)\n",
        "\t\t\t\n",
        "\t\tif name == 'BiGRU MK20':\n",
        "\t\t\tx = tf.keras.layers.Bidirectional(tf.keras.layers.GRU(16,return_sequences=True,dropout=0.2,recurrent_dropout=0.3))(x)\n",
        "\t\t\tx = tf.keras.layers.AveragePooling1D()(x)\n",
        "\t\t\tx = tf.keras.layers.Flatten()(x)\n",
        "\t\t\tx = tf.keras.layers.Dropout(0.2)(x)\n",
        "\t\t\tx = tf.keras.layers.Dense(256,activation='relu')(x)\n",
        "\t\t\tx = tf.keras.layers.Dense(64,activation='relu')(x)\n",
        "\t\t\tx = tf.keras.layers.Dense(16,activation='relu')(x)\n",
        "\t\t\tx = tf.keras.layers.Dense(5,activation='softmax')(x)\n",
        "\t\t\t\n",
        "\t\tif name == 'BiGRU MK21':\n",
        "\t\t\tx = tf.keras.layers.Bidirectional(tf.keras.layers.GRU(16,return_sequences=True,dropout=0.2,recurrent_dropout=0.3))(x)\n",
        "\t\t\tx = tf.keras.layers.MaxPooling1D()(x)\n",
        "\t\t\tx = tf.keras.layers.Flatten()(x)\n",
        "\t\t\tx = tf.keras.layers.Dropout(0.2)(x)\n",
        "\t\t\tx = tf.keras.layers.Dense(256,activation='relu')(x)\n",
        "\t\t\tx = tf.keras.layers.Dense(64,activation='relu')(x)\n",
        "\t\t\tx = tf.keras.layers.Dense(16,activation='relu')(x)\n",
        "\t\t\tx = tf.keras.layers.Dense(5,activation='softmax')(x)\n",
        "\t\t\t\n",
        "\t\tif name == 'BiGRU MK22':\n",
        "\t\t\tx = tf.keras.layers.Bidirectional(tf.keras.layers.GRU(16,return_sequences=True,dropout=0.2,recurrent_dropout=0.3))(x)\n",
        "\t\t\tx = tf.keras.layers.Flatten()(x)\n",
        "\t\t\tx = tf.keras.layers.Dropout(0.2)(x)\n",
        "\t\t\tx = tf.keras.layers.Dense(512,activation='relu')(x)\n",
        "\t\t\tx = tf.keras.layers.Dense(128,activation='relu')(x)\n",
        "\t\t\tx = tf.keras.layers.Dense(32,activation='relu')(x)\n",
        "\t\t\tx = tf.keras.layers.Dense(5,activation='softmax')(x)\n",
        "\t\t\t\n",
        "\t\treturn tf.keras.Model([inputs,mask],x)\n",
        "\t\t\n",
        "\t\t\n",
        "\t\t\n",
        "\t\n",
        "\t\t"
      ],
      "execution_count": null,
      "outputs": []
    },
    {
      "cell_type": "code",
      "metadata": {
        "colab": {
          "base_uri": "https://localhost:8080/"
        },
        "id": "TUa5gNvs3LV-",
        "outputId": "883ac3cb-2c12-4ca6-f929-f0a1fb605133"
      },
      "source": [
        "bert = bertModels('/content/drive/MyDrive/sentiment data/tr_sen_fin.csv')"
      ],
      "execution_count": null,
      "outputs": [
        {
          "output_type": "stream",
          "text": [
            "WARNING:transformers.modeling_tf_utils:Some weights of the model checkpoint at bert-base-uncased were not used when initializing TFBertModel: ['nsp___cls', 'mlm___cls']\n",
            "- This IS expected if you are initializing TFBertModel from the checkpoint of a model trained on another task or with another architecture (e.g. initializing a BertForSequenceClassification model from a BertForPretraining model).\n",
            "- This IS NOT expected if you are initializing TFBertModel from the checkpoint of a model that you expect to be exactly identical (initializing a BertForSequenceClassification model from a BertForSequenceClassification model).\n",
            "WARNING:transformers.modeling_tf_utils:All the weights of TFBertModel were initialized from the model checkpoint at bert-base-uncased.\n",
            "If your task is similar to the task the model of the ckeckpoint was trained on, you can already use TFBertModel for predictions without further training.\n"
          ],
          "name": "stderr"
        }
      ]
    },
    {
      "cell_type": "code",
      "metadata": {
        "id": "0qG0yZmg3Qho",
        "colab": {
          "base_uri": "https://localhost:8080/"
        },
        "outputId": "98ac97a1-f348-4e09-a3ce-90180131dace"
      },
      "source": [
        "bert.process(['CONV1D MK8','CONV1D MK9','SEP CONV1D MK10'])"
      ],
      "execution_count": null,
      "outputs": [
        {
          "output_type": "stream",
          "text": [
            "\n",
            "------------------ CONV1D MK8 ------------------\n",
            "\n",
            "Model: \"model_2\"\n",
            "__________________________________________________________________________________________________\n",
            "Layer (type)                    Output Shape         Param #     Connected to                     \n",
            "==================================================================================================\n",
            "input_ids (InputLayer)          [(None, 35)]         0                                            \n",
            "__________________________________________________________________________________________________\n",
            "attention_mask (InputLayer)     [(None, 35)]         0                                            \n",
            "__________________________________________________________________________________________________\n",
            "tf_bert_model_1 (TFBertModel)   ((None, 35, 768), (N 109482240   input_ids[0][0]                  \n",
            "                                                                 attention_mask[0][0]             \n",
            "__________________________________________________________________________________________________\n",
            "conv1d_4 (Conv1D)               (None, 35, 32)       73760       tf_bert_model_1[0][0]            \n",
            "__________________________________________________________________________________________________\n",
            "max_pooling1d_4 (MaxPooling1D)  (None, 17, 32)       0           conv1d_4[0][0]                   \n",
            "__________________________________________________________________________________________________\n",
            "conv1d_5 (Conv1D)               (None, 17, 32)       3104        max_pooling1d_4[0][0]            \n",
            "__________________________________________________________________________________________________\n",
            "max_pooling1d_5 (MaxPooling1D)  (None, 8, 32)        0           conv1d_5[0][0]                   \n",
            "__________________________________________________________________________________________________\n",
            "flatten_2 (Flatten)             (None, 256)          0           max_pooling1d_5[0][0]            \n",
            "__________________________________________________________________________________________________\n",
            "dropout_76 (Dropout)            (None, 256)          0           flatten_2[0][0]                  \n",
            "__________________________________________________________________________________________________\n",
            "dense_8 (Dense)                 (None, 512)          131584      dropout_76[0][0]                 \n",
            "__________________________________________________________________________________________________\n",
            "dense_9 (Dense)                 (None, 128)          65664       dense_8[0][0]                    \n",
            "__________________________________________________________________________________________________\n",
            "dense_10 (Dense)                (None, 32)           4128        dense_9[0][0]                    \n",
            "__________________________________________________________________________________________________\n",
            "dense_11 (Dense)                (None, 5)            165         dense_10[0][0]                   \n",
            "==================================================================================================\n",
            "Total params: 109,760,645\n",
            "Trainable params: 278,405\n",
            "Non-trainable params: 109,482,240\n",
            "__________________________________________________________________________________________________\n",
            "Epoch 1/100\n",
            "17250/17250 [==============================] - 445s 25ms/step - loss: 0.9006 - accuracy: 0.6432 - val_loss: 0.7303 - val_accuracy: 0.7245\n",
            "Epoch 2/100\n",
            "17250/17250 [==============================] - 423s 25ms/step - loss: 0.7375 - accuracy: 0.7219 - val_loss: 0.6910 - val_accuracy: 0.7374\n",
            "Epoch 3/100\n",
            "17250/17250 [==============================] - 420s 24ms/step - loss: 0.7060 - accuracy: 0.7350 - val_loss: 0.6737 - val_accuracy: 0.7473\n",
            "Epoch 4/100\n",
            "17250/17250 [==============================] - 418s 24ms/step - loss: 0.6939 - accuracy: 0.7391 - val_loss: 0.6518 - val_accuracy: 0.7566\n",
            "Epoch 5/100\n",
            "17250/17250 [==============================] - 418s 24ms/step - loss: 0.6840 - accuracy: 0.7447 - val_loss: 0.6680 - val_accuracy: 0.7481\n",
            "\n",
            "------------------ CONV1D MK9 ------------------\n",
            "\n",
            "Model: \"model_3\"\n",
            "__________________________________________________________________________________________________\n",
            "Layer (type)                    Output Shape         Param #     Connected to                     \n",
            "==================================================================================================\n",
            "input_ids (InputLayer)          [(None, 35)]         0                                            \n",
            "__________________________________________________________________________________________________\n",
            "attention_mask (InputLayer)     [(None, 35)]         0                                            \n",
            "__________________________________________________________________________________________________\n",
            "tf_bert_model_1 (TFBertModel)   ((None, 35, 768), (N 109482240   input_ids[0][0]                  \n",
            "                                                                 attention_mask[0][0]             \n",
            "__________________________________________________________________________________________________\n",
            "conv1d_6 (Conv1D)               (None, 35, 32)       73760       tf_bert_model_1[1][0]            \n",
            "__________________________________________________________________________________________________\n",
            "average_pooling1d (AveragePooli (None, 17, 32)       0           conv1d_6[0][0]                   \n",
            "__________________________________________________________________________________________________\n",
            "conv1d_7 (Conv1D)               (None, 17, 32)       3104        average_pooling1d[0][0]          \n",
            "__________________________________________________________________________________________________\n",
            "average_pooling1d_1 (AveragePoo (None, 8, 32)        0           conv1d_7[0][0]                   \n",
            "__________________________________________________________________________________________________\n",
            "flatten_3 (Flatten)             (None, 256)          0           average_pooling1d_1[0][0]        \n",
            "__________________________________________________________________________________________________\n",
            "dropout_77 (Dropout)            (None, 256)          0           flatten_3[0][0]                  \n",
            "__________________________________________________________________________________________________\n",
            "dense_12 (Dense)                (None, 512)          131584      dropout_77[0][0]                 \n",
            "__________________________________________________________________________________________________\n",
            "dense_13 (Dense)                (None, 128)          65664       dense_12[0][0]                   \n",
            "__________________________________________________________________________________________________\n",
            "dense_14 (Dense)                (None, 32)           4128        dense_13[0][0]                   \n",
            "__________________________________________________________________________________________________\n",
            "dense_15 (Dense)                (None, 5)            165         dense_14[0][0]                   \n",
            "==================================================================================================\n",
            "Total params: 109,760,645\n",
            "Trainable params: 278,405\n",
            "Non-trainable params: 109,482,240\n",
            "__________________________________________________________________________________________________\n",
            "Epoch 1/100\n",
            "17250/17250 [==============================] - 445s 25ms/step - loss: 0.9130 - accuracy: 0.6384 - val_loss: 0.7139 - val_accuracy: 0.7298\n",
            "Epoch 2/100\n",
            "17250/17250 [==============================] - 414s 24ms/step - loss: 0.7348 - accuracy: 0.7218 - val_loss: 0.6840 - val_accuracy: 0.7439\n",
            "Epoch 3/100\n",
            "17250/17250 [==============================] - 415s 24ms/step - loss: 0.7010 - accuracy: 0.7357 - val_loss: 0.6842 - val_accuracy: 0.7539\n",
            "\n",
            "------------------ SEP CONV1D MK10 ------------------\n",
            "\n",
            "Model: \"model_4\"\n",
            "__________________________________________________________________________________________________\n",
            "Layer (type)                    Output Shape         Param #     Connected to                     \n",
            "==================================================================================================\n",
            "input_ids (InputLayer)          [(None, 35)]         0                                            \n",
            "__________________________________________________________________________________________________\n",
            "attention_mask (InputLayer)     [(None, 35)]         0                                            \n",
            "__________________________________________________________________________________________________\n",
            "tf_bert_model_1 (TFBertModel)   ((None, 35, 768), (N 109482240   input_ids[0][0]                  \n",
            "                                                                 attention_mask[0][0]             \n",
            "__________________________________________________________________________________________________\n",
            "separable_conv1d (SeparableConv (None, 35, 32)       26912       tf_bert_model_1[2][0]            \n",
            "__________________________________________________________________________________________________\n",
            "max_pooling1d_6 (MaxPooling1D)  (None, 17, 32)       0           separable_conv1d[0][0]           \n",
            "__________________________________________________________________________________________________\n",
            "separable_conv1d_1 (SeparableCo (None, 17, 32)       1152        max_pooling1d_6[0][0]            \n",
            "__________________________________________________________________________________________________\n",
            "global_max_pooling1d (GlobalMax (None, 32)           0           separable_conv1d_1[0][0]         \n",
            "__________________________________________________________________________________________________\n",
            "dropout_78 (Dropout)            (None, 32)           0           global_max_pooling1d[0][0]       \n",
            "__________________________________________________________________________________________________\n",
            "dense_16 (Dense)                (None, 20)           660         dropout_78[0][0]                 \n",
            "__________________________________________________________________________________________________\n",
            "dense_17 (Dense)                (None, 5)            105         dense_16[0][0]                   \n",
            "==================================================================================================\n",
            "Total params: 109,511,069\n",
            "Trainable params: 28,829\n",
            "Non-trainable params: 109,482,240\n",
            "__________________________________________________________________________________________________\n",
            "Epoch 1/100\n",
            "17250/17250 [==============================] - 445s 25ms/step - loss: 0.9598 - accuracy: 0.6138 - val_loss: 0.7313 - val_accuracy: 0.7206\n",
            "Epoch 2/100\n",
            "17250/17250 [==============================] - 416s 24ms/step - loss: 0.7651 - accuracy: 0.7084 - val_loss: 0.6790 - val_accuracy: 0.7429\n",
            "Epoch 3/100\n",
            "17250/17250 [==============================] - 416s 24ms/step - loss: 0.7267 - accuracy: 0.7258 - val_loss: 0.6606 - val_accuracy: 0.7531\n",
            "Epoch 4/100\n",
            "17250/17250 [==============================] - 418s 24ms/step - loss: 0.7084 - accuracy: 0.7330 - val_loss: 0.6503 - val_accuracy: 0.7567\n",
            "Epoch 5/100\n",
            "17250/17250 [==============================] - 421s 24ms/step - loss: 0.6977 - accuracy: 0.7381 - val_loss: 0.6592 - val_accuracy: 0.7526\n"
          ],
          "name": "stdout"
        }
      ]
    }
  ]
}