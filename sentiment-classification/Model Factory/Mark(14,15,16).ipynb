{
  "nbformat": 4,
  "nbformat_minor": 0,
  "metadata": {
    "colab": {
      "name": "Mark(14,15,16).ipynb",
      "provenance": []
    },
    "kernelspec": {
      "name": "python3",
      "display_name": "Python 3"
    },
    "language_info": {
      "name": "python"
    },
    "accelerator": "TPU"
  },
  "cells": [
    {
      "cell_type": "code",
      "metadata": {
        "colab": {
          "base_uri": "https://localhost:8080/"
        },
        "id": "okOQ_CQQ55G5",
        "outputId": "1d1b2149-0536-4901-ee88-dcf003df7842"
      },
      "source": [
        "!pip install transformers==3.0.2"
      ],
      "execution_count": null,
      "outputs": [
        {
          "output_type": "stream",
          "text": [
            "Collecting transformers==3.0.2\n",
            "\u001b[?25l  Downloading https://files.pythonhosted.org/packages/27/3c/91ed8f5c4e7ef3227b4119200fc0ed4b4fd965b1f0172021c25701087825/transformers-3.0.2-py3-none-any.whl (769kB)\n",
            "\u001b[K     |████████████████████████████████| 778kB 6.8MB/s \n",
            "\u001b[?25hCollecting sacremoses\n",
            "\u001b[?25l  Downloading https://files.pythonhosted.org/packages/75/ee/67241dc87f266093c533a2d4d3d69438e57d7a90abb216fa076e7d475d4a/sacremoses-0.0.45-py3-none-any.whl (895kB)\n",
            "\u001b[K     |████████████████████████████████| 901kB 29.7MB/s \n",
            "\u001b[?25hRequirement already satisfied: numpy in /usr/local/lib/python3.7/dist-packages (from transformers==3.0.2) (1.19.5)\n",
            "Requirement already satisfied: tqdm>=4.27 in /usr/local/lib/python3.7/dist-packages (from transformers==3.0.2) (4.41.1)\n",
            "Collecting sentencepiece!=0.1.92\n",
            "\u001b[?25l  Downloading https://files.pythonhosted.org/packages/f5/99/e0808cb947ba10f575839c43e8fafc9cc44e4a7a2c8f79c60db48220a577/sentencepiece-0.1.95-cp37-cp37m-manylinux2014_x86_64.whl (1.2MB)\n",
            "\u001b[K     |████████████████████████████████| 1.2MB 43.7MB/s \n",
            "\u001b[?25hRequirement already satisfied: requests in /usr/local/lib/python3.7/dist-packages (from transformers==3.0.2) (2.23.0)\n",
            "Requirement already satisfied: regex!=2019.12.17 in /usr/local/lib/python3.7/dist-packages (from transformers==3.0.2) (2019.12.20)\n",
            "Requirement already satisfied: packaging in /usr/local/lib/python3.7/dist-packages (from transformers==3.0.2) (20.9)\n",
            "Requirement already satisfied: filelock in /usr/local/lib/python3.7/dist-packages (from transformers==3.0.2) (3.0.12)\n",
            "Collecting tokenizers==0.8.1.rc1\n",
            "\u001b[?25l  Downloading https://files.pythonhosted.org/packages/02/59/68c7e3833f535615fb97d33ffcb7b30bbf62bc7477a9c59cd19ad8535d72/tokenizers-0.8.1rc1-cp37-cp37m-manylinux1_x86_64.whl (3.0MB)\n",
            "\u001b[K     |████████████████████████████████| 3.0MB 41.4MB/s \n",
            "\u001b[?25hRequirement already satisfied: joblib in /usr/local/lib/python3.7/dist-packages (from sacremoses->transformers==3.0.2) (1.0.1)\n",
            "Requirement already satisfied: six in /usr/local/lib/python3.7/dist-packages (from sacremoses->transformers==3.0.2) (1.15.0)\n",
            "Requirement already satisfied: click in /usr/local/lib/python3.7/dist-packages (from sacremoses->transformers==3.0.2) (7.1.2)\n",
            "Requirement already satisfied: chardet<4,>=3.0.2 in /usr/local/lib/python3.7/dist-packages (from requests->transformers==3.0.2) (3.0.4)\n",
            "Requirement already satisfied: certifi>=2017.4.17 in /usr/local/lib/python3.7/dist-packages (from requests->transformers==3.0.2) (2020.12.5)\n",
            "Requirement already satisfied: idna<3,>=2.5 in /usr/local/lib/python3.7/dist-packages (from requests->transformers==3.0.2) (2.10)\n",
            "Requirement already satisfied: urllib3!=1.25.0,!=1.25.1,<1.26,>=1.21.1 in /usr/local/lib/python3.7/dist-packages (from requests->transformers==3.0.2) (1.24.3)\n",
            "Requirement already satisfied: pyparsing>=2.0.2 in /usr/local/lib/python3.7/dist-packages (from packaging->transformers==3.0.2) (2.4.7)\n",
            "Installing collected packages: sacremoses, sentencepiece, tokenizers, transformers\n",
            "Successfully installed sacremoses-0.0.45 sentencepiece-0.1.95 tokenizers-0.8.1rc1 transformers-3.0.2\n"
          ],
          "name": "stdout"
        }
      ]
    },
    {
      "cell_type": "code",
      "metadata": {
        "colab": {
          "base_uri": "https://localhost:8080/"
        },
        "id": "OavQDxuN6H6S",
        "outputId": "a9082691-8649-4646-8c7d-9be5c04b4b15"
      },
      "source": [
        "import numpy as np\n",
        "import pandas as pd\n",
        "from transformers import BertTokenizer,TFBertModel\n",
        "import os\n",
        "import pprint\n",
        "from keras.callbacks import EarlyStopping\n",
        "import tensorflow as tf\n",
        "from sklearn.preprocessing import LabelEncoder\n",
        "from keras.utils import np_utils\n",
        "from google.colab import drive\n",
        "drive.mount('/content/drive')"
      ],
      "execution_count": null,
      "outputs": [
        {
          "output_type": "stream",
          "text": [
            "Mounted at /content/drive\n"
          ],
          "name": "stdout"
        }
      ]
    },
    {
      "cell_type": "code",
      "metadata": {
        "colab": {
          "base_uri": "https://localhost:8080/"
        },
        "id": "nwyE4NjF6Km7",
        "outputId": "df3aa5a5-f7e7-4986-fb28-c3d0eae79ef2"
      },
      "source": [
        "import os\n",
        "import pprint # for pretty printing our device stats\n",
        "\n",
        "if 'COLAB_TPU_ADDR' not in os.environ:\n",
        "    print('ERROR: Not connected to a TPU runtime; please see the first cell in this notebook for instructions!')\n",
        "else:\n",
        "    tpu_address = 'grpc://' + os.environ['COLAB_TPU_ADDR']\n",
        "    print ('TPU address is', tpu_address)\n",
        "\n",
        "    with tf.compat.v1.Session(tpu_address) as session:\n",
        "      devices = session.list_devices()\n",
        "\n",
        "    print('TPU devices:')\n",
        "    pprint.pprint(devices)"
      ],
      "execution_count": null,
      "outputs": [
        {
          "output_type": "stream",
          "text": [
            "TPU address is grpc://10.34.86.250:8470\n",
            "TPU devices:\n",
            "[_DeviceAttributes(/job:tpu_worker/replica:0/task:0/device:CPU:0, CPU, -1, -2722692021576606072),\n",
            " _DeviceAttributes(/job:tpu_worker/replica:0/task:0/device:TPU_SYSTEM:0, TPU_SYSTEM, 8589934592, -7267272559703813291),\n",
            " _DeviceAttributes(/job:tpu_worker/replica:0/task:0/device:XLA_CPU:0, XLA_CPU, 17179869184, -3694919107934443458),\n",
            " _DeviceAttributes(/job:tpu_worker/replica:0/task:0/device:TPU:0, TPU, 17179869184, -6908969679260137009),\n",
            " _DeviceAttributes(/job:tpu_worker/replica:0/task:0/device:TPU:1, TPU, 17179869184, 2269839681798848546),\n",
            " _DeviceAttributes(/job:tpu_worker/replica:0/task:0/device:TPU:2, TPU, 17179869184, -2160941188875629046),\n",
            " _DeviceAttributes(/job:tpu_worker/replica:0/task:0/device:TPU:3, TPU, 17179869184, 4794394995292377496),\n",
            " _DeviceAttributes(/job:tpu_worker/replica:0/task:0/device:TPU:4, TPU, 17179869184, -1051301741490710759),\n",
            " _DeviceAttributes(/job:tpu_worker/replica:0/task:0/device:TPU:5, TPU, 17179869184, 6827019117991325418),\n",
            " _DeviceAttributes(/job:tpu_worker/replica:0/task:0/device:TPU:6, TPU, 17179869184, -3056660426457323402),\n",
            " _DeviceAttributes(/job:tpu_worker/replica:0/task:0/device:TPU:7, TPU, 17179869184, -3052321990949251040)]\n"
          ],
          "name": "stdout"
        }
      ]
    },
    {
      "cell_type": "code",
      "metadata": {
        "colab": {
          "base_uri": "https://localhost:8080/"
        },
        "id": "KB9nEGJ86R51",
        "outputId": "5ade0b62-d5d8-4310-945f-4b9999f113d6"
      },
      "source": [
        "resolver = tf.distribute.cluster_resolver.TPUClusterResolver(tpu='')\n",
        "tf.config.experimental_connect_to_cluster(resolver)\n",
        "# This is the TPU initialization code that has to be at the beginning.\n",
        "tf.tpu.experimental.initialize_tpu_system(resolver)\n",
        "print(\"All devices: \", tf.config.list_logical_devices('TPU'))\n",
        "strategy = tf.distribute.TPUStrategy(resolver)"
      ],
      "execution_count": null,
      "outputs": [
        {
          "output_type": "stream",
          "text": [
            "INFO:absl:Entering into master device scope: /job:worker/replica:0/task:0/device:CPU:0\n"
          ],
          "name": "stderr"
        },
        {
          "output_type": "stream",
          "text": [
            "INFO:tensorflow:Initializing the TPU system: grpc://10.34.86.250:8470\n"
          ],
          "name": "stdout"
        },
        {
          "output_type": "stream",
          "text": [
            "INFO:tensorflow:Initializing the TPU system: grpc://10.34.86.250:8470\n"
          ],
          "name": "stderr"
        },
        {
          "output_type": "stream",
          "text": [
            "INFO:tensorflow:Clearing out eager caches\n"
          ],
          "name": "stdout"
        },
        {
          "output_type": "stream",
          "text": [
            "INFO:tensorflow:Clearing out eager caches\n"
          ],
          "name": "stderr"
        },
        {
          "output_type": "stream",
          "text": [
            "INFO:tensorflow:Finished initializing TPU system.\n"
          ],
          "name": "stdout"
        },
        {
          "output_type": "stream",
          "text": [
            "INFO:tensorflow:Finished initializing TPU system.\n"
          ],
          "name": "stderr"
        },
        {
          "output_type": "stream",
          "text": [
            "All devices:  [LogicalDevice(name='/job:worker/replica:0/task:0/device:TPU:7', device_type='TPU'), LogicalDevice(name='/job:worker/replica:0/task:0/device:TPU:6', device_type='TPU'), LogicalDevice(name='/job:worker/replica:0/task:0/device:TPU:5', device_type='TPU'), LogicalDevice(name='/job:worker/replica:0/task:0/device:TPU:4', device_type='TPU'), LogicalDevice(name='/job:worker/replica:0/task:0/device:TPU:3', device_type='TPU'), LogicalDevice(name='/job:worker/replica:0/task:0/device:TPU:0', device_type='TPU'), LogicalDevice(name='/job:worker/replica:0/task:0/device:TPU:1', device_type='TPU'), LogicalDevice(name='/job:worker/replica:0/task:0/device:TPU:2', device_type='TPU')]\n",
            "INFO:tensorflow:Found TPU system:\n"
          ],
          "name": "stdout"
        },
        {
          "output_type": "stream",
          "text": [
            "INFO:tensorflow:Found TPU system:\n"
          ],
          "name": "stderr"
        },
        {
          "output_type": "stream",
          "text": [
            "INFO:tensorflow:*** Num TPU Cores: 8\n"
          ],
          "name": "stdout"
        },
        {
          "output_type": "stream",
          "text": [
            "INFO:tensorflow:*** Num TPU Cores: 8\n"
          ],
          "name": "stderr"
        },
        {
          "output_type": "stream",
          "text": [
            "INFO:tensorflow:*** Num TPU Workers: 1\n"
          ],
          "name": "stdout"
        },
        {
          "output_type": "stream",
          "text": [
            "INFO:tensorflow:*** Num TPU Workers: 1\n"
          ],
          "name": "stderr"
        },
        {
          "output_type": "stream",
          "text": [
            "INFO:tensorflow:*** Num TPU Cores Per Worker: 8\n"
          ],
          "name": "stdout"
        },
        {
          "output_type": "stream",
          "text": [
            "INFO:tensorflow:*** Num TPU Cores Per Worker: 8\n"
          ],
          "name": "stderr"
        },
        {
          "output_type": "stream",
          "text": [
            "INFO:tensorflow:*** Available Device: _DeviceAttributes(/job:localhost/replica:0/task:0/device:CPU:0, CPU, 0, 0)\n"
          ],
          "name": "stdout"
        },
        {
          "output_type": "stream",
          "text": [
            "INFO:tensorflow:*** Available Device: _DeviceAttributes(/job:localhost/replica:0/task:0/device:CPU:0, CPU, 0, 0)\n"
          ],
          "name": "stderr"
        },
        {
          "output_type": "stream",
          "text": [
            "INFO:tensorflow:*** Available Device: _DeviceAttributes(/job:worker/replica:0/task:0/device:CPU:0, CPU, 0, 0)\n"
          ],
          "name": "stdout"
        },
        {
          "output_type": "stream",
          "text": [
            "INFO:tensorflow:*** Available Device: _DeviceAttributes(/job:worker/replica:0/task:0/device:CPU:0, CPU, 0, 0)\n"
          ],
          "name": "stderr"
        },
        {
          "output_type": "stream",
          "text": [
            "INFO:tensorflow:*** Available Device: _DeviceAttributes(/job:worker/replica:0/task:0/device:TPU:0, TPU, 0, 0)\n"
          ],
          "name": "stdout"
        },
        {
          "output_type": "stream",
          "text": [
            "INFO:tensorflow:*** Available Device: _DeviceAttributes(/job:worker/replica:0/task:0/device:TPU:0, TPU, 0, 0)\n"
          ],
          "name": "stderr"
        },
        {
          "output_type": "stream",
          "text": [
            "INFO:tensorflow:*** Available Device: _DeviceAttributes(/job:worker/replica:0/task:0/device:TPU:1, TPU, 0, 0)\n"
          ],
          "name": "stdout"
        },
        {
          "output_type": "stream",
          "text": [
            "INFO:tensorflow:*** Available Device: _DeviceAttributes(/job:worker/replica:0/task:0/device:TPU:1, TPU, 0, 0)\n"
          ],
          "name": "stderr"
        },
        {
          "output_type": "stream",
          "text": [
            "INFO:tensorflow:*** Available Device: _DeviceAttributes(/job:worker/replica:0/task:0/device:TPU:2, TPU, 0, 0)\n"
          ],
          "name": "stdout"
        },
        {
          "output_type": "stream",
          "text": [
            "INFO:tensorflow:*** Available Device: _DeviceAttributes(/job:worker/replica:0/task:0/device:TPU:2, TPU, 0, 0)\n"
          ],
          "name": "stderr"
        },
        {
          "output_type": "stream",
          "text": [
            "INFO:tensorflow:*** Available Device: _DeviceAttributes(/job:worker/replica:0/task:0/device:TPU:3, TPU, 0, 0)\n"
          ],
          "name": "stdout"
        },
        {
          "output_type": "stream",
          "text": [
            "INFO:tensorflow:*** Available Device: _DeviceAttributes(/job:worker/replica:0/task:0/device:TPU:3, TPU, 0, 0)\n"
          ],
          "name": "stderr"
        },
        {
          "output_type": "stream",
          "text": [
            "INFO:tensorflow:*** Available Device: _DeviceAttributes(/job:worker/replica:0/task:0/device:TPU:4, TPU, 0, 0)\n"
          ],
          "name": "stdout"
        },
        {
          "output_type": "stream",
          "text": [
            "INFO:tensorflow:*** Available Device: _DeviceAttributes(/job:worker/replica:0/task:0/device:TPU:4, TPU, 0, 0)\n"
          ],
          "name": "stderr"
        },
        {
          "output_type": "stream",
          "text": [
            "INFO:tensorflow:*** Available Device: _DeviceAttributes(/job:worker/replica:0/task:0/device:TPU:5, TPU, 0, 0)\n"
          ],
          "name": "stdout"
        },
        {
          "output_type": "stream",
          "text": [
            "INFO:tensorflow:*** Available Device: _DeviceAttributes(/job:worker/replica:0/task:0/device:TPU:5, TPU, 0, 0)\n"
          ],
          "name": "stderr"
        },
        {
          "output_type": "stream",
          "text": [
            "INFO:tensorflow:*** Available Device: _DeviceAttributes(/job:worker/replica:0/task:0/device:TPU:6, TPU, 0, 0)\n"
          ],
          "name": "stdout"
        },
        {
          "output_type": "stream",
          "text": [
            "INFO:tensorflow:*** Available Device: _DeviceAttributes(/job:worker/replica:0/task:0/device:TPU:6, TPU, 0, 0)\n"
          ],
          "name": "stderr"
        },
        {
          "output_type": "stream",
          "text": [
            "INFO:tensorflow:*** Available Device: _DeviceAttributes(/job:worker/replica:0/task:0/device:TPU:7, TPU, 0, 0)\n"
          ],
          "name": "stdout"
        },
        {
          "output_type": "stream",
          "text": [
            "INFO:tensorflow:*** Available Device: _DeviceAttributes(/job:worker/replica:0/task:0/device:TPU:7, TPU, 0, 0)\n"
          ],
          "name": "stderr"
        },
        {
          "output_type": "stream",
          "text": [
            "INFO:tensorflow:*** Available Device: _DeviceAttributes(/job:worker/replica:0/task:0/device:TPU_SYSTEM:0, TPU_SYSTEM, 0, 0)\n"
          ],
          "name": "stdout"
        },
        {
          "output_type": "stream",
          "text": [
            "INFO:tensorflow:*** Available Device: _DeviceAttributes(/job:worker/replica:0/task:0/device:TPU_SYSTEM:0, TPU_SYSTEM, 0, 0)\n"
          ],
          "name": "stderr"
        },
        {
          "output_type": "stream",
          "text": [
            "INFO:tensorflow:*** Available Device: _DeviceAttributes(/job:worker/replica:0/task:0/device:XLA_CPU:0, XLA_CPU, 0, 0)\n"
          ],
          "name": "stdout"
        },
        {
          "output_type": "stream",
          "text": [
            "INFO:tensorflow:*** Available Device: _DeviceAttributes(/job:worker/replica:0/task:0/device:XLA_CPU:0, XLA_CPU, 0, 0)\n"
          ],
          "name": "stderr"
        }
      ]
    },
    {
      "cell_type": "code",
      "metadata": {
        "id": "X8yg_GmT6U5h"
      },
      "source": [
        "class bertModels:\n",
        "\tdef __init__(self,path):\n",
        "\t\tdf = pd.read_csv(path)\n",
        "\t\tself.max_seq_len = 35\n",
        "\t\tbert_name = 'bert-base-uncased'\n",
        "\t\tself.tokenizer = BertTokenizer.from_pretrained(bert_name,add_special_tokens=True,max_length =self.max_seq_len,pad_to_max_length = True)\n",
        "\t\tself.train_set,self.test_set = self.prepare_data(df)\n",
        "\t\twith strategy.scope():\n",
        "\t\t\tself.bert = TFBertModel.from_pretrained(bert_name)\n",
        "\t\t\tself.bert.trainable = False\n",
        "\t\t\n",
        "\t\t\n",
        "\tdef prepare_data(self,df):\t\n",
        "\t\tdf_tr = df[df['kfold'] != 0].reset_index(drop=True)\n",
        "\t\tdf_ts = df[df['kfold'] == 0].reset_index(drop=True)\n",
        "\t\t\n",
        "\t\tbert_tr = [self.encode_data(x) for x in list(df_tr.text.values)]\n",
        "\t\tbert_ts = [self.encode_data(x) for x in list(df_ts.text.values)]\n",
        "\t\t\n",
        "\t\tencoder = LabelEncoder()\n",
        "\t\tbert_tr_lb = tf.convert_to_tensor(np_utils.to_categorical(encoder.fit_transform(df_tr.label.values)),tf.float32)\n",
        "\t\tbert_ts_lb = tf.convert_to_tensor(np_utils.to_categorical(encoder.fit_transform(df_ts.label.values)),tf.float32)\n",
        "\t\t\n",
        "\t\tx_tr = np.array(bert_tr)\n",
        "\t\tx_ts = np.array(bert_ts)\n",
        "\t\t\n",
        "\t\tx_tr_inp_ids,x_tr_att_mks = np.split(x_tr,2,axis = 1)\n",
        "\t\tx_ts_inp_ids,x_ts_att_mks = np.split(x_ts,2,axis = 1)\n",
        "\t\t\n",
        "\t\tx_tr_inp_ids = tf.convert_to_tensor(x_tr_inp_ids.squeeze(),dtype=tf.int64)\n",
        "\t\tx_tr_att_mks = tf.convert_to_tensor(x_tr_att_mks.squeeze(),dtype=tf.int64)\n",
        "\t\t\n",
        "\t\tx_ts_inp_ids = tf.convert_to_tensor(x_ts_inp_ids.squeeze(),dtype=tf.int64)\n",
        "\t\tx_ts_att_mks = tf.convert_to_tensor(x_ts_att_mks.squeeze(),dtype=tf.int64)\n",
        "\t\t\n",
        "\t\tx_tr_fin = [x_tr_inp_ids,x_tr_att_mks]\n",
        "\t\tx_ts_fin = [x_ts_inp_ids,x_ts_att_mks]\n",
        "\t\t\n",
        "\t\treturn (x_tr_fin,bert_tr_lb),(x_ts_fin,bert_ts_lb)\n",
        "\t\n",
        "\t\n",
        "\t\n",
        "\tdef encode_data(self,x):\n",
        "\t\tencoded = self.tokenizer.encode_plus(x,add_special_tokens=True,max_length =self.max_seq_len,pad_to_max_length = True,truncation=True,return_attention_mask=True,return_tensors='np')\n",
        "\t\treturn encoded['input_ids'],encoded['attention_mask']\n",
        "\t\t\n",
        "\t\t\n",
        "\t\t\n",
        "\t\n",
        "\tdef process(self,ls):\n",
        "\t\tfor name in ls:\n",
        "\t\t\this = self.compile_model(name)\n",
        "\t\t\tdf = pd.DataFrame.from_dict(his.history)\n",
        "\t\t\tdf['epoch'] = [i+1 for i in range(len(df))]\n",
        "\t\t\tdf.to_csv('/content/drive/MyDrive/Bert/sent_'+name+'.csv',index=False,header=True)\n",
        "\t\n",
        "\t\n",
        "\tdef compile_model(self,name):\n",
        "\t\twith strategy.scope():\n",
        "\t\t\tmodel = self.create_model(name)\n",
        "\t\t\tmodel.compile(loss='categorical_crossentropy',optimizer = 'adam',metrics=['accuracy'])\n",
        "\t\t\n",
        "\t\t\n",
        "\t\tprint('\\n------------------ '+name+' ------------------\\n')\n",
        "\t\tmodel.summary()\n",
        "\t\treturn model.fit(x = self.train_set[0],y = self.train_set[1],validation_data=(self.test_set[0],self.test_set[1]),epochs=100,callbacks=[EarlyStopping()])\n",
        "\t\t\n",
        "\tdef create_model(self,name):\n",
        "\t\tinputs = tf.keras.layers.Input((self.max_seq_len,),dtype = tf.int64,name=\"input_ids\")\n",
        "\t\tmask = tf.keras.layers.Input((self.max_seq_len,),dtype = tf.int64,name=\"attention_mask\")\n",
        "\t\t\n",
        "\t\tpred = self.bert(inputs=inputs,attention_mask = mask)[0]\n",
        "\t\t\n",
        "\t\tif name == 'CONV1D GRU MK5':\n",
        "\t\t\tx = tf.keras.layers.Conv1D(32,3,activation='relu',padding='same')(pred)\n",
        "\t\t\tx = tf.keras.layers.MaxPooling1D()(x)\n",
        "\t\t\tx = tf.keras.layers.Bidirectional(tf.keras.layers.GRU(16,return_sequences=True,dropout=0.2,recurrent_dropout=0.3))(x)\n",
        "\t\t\tx = tf.keras.layers.MaxPooling1D()(x)\n",
        "\t\t\tx = tf.keras.layers.Flatten()(x)\n",
        "\t\t\tx = tf.keras.layers.Dropout(0.2)(x)\n",
        "\t\t\tx = tf.keras.layers.Dense(256,activation='relu')(x)\n",
        "\t\t\tx = tf.keras.layers.Dense(64,activation='relu')(x)\n",
        "\t\t\tx = tf.keras.layers.Dense(16,activation='relu')(x)\n",
        "\t\t\tx = tf.keras.layers.Dense(5,activation='softmax')(x)\n",
        "\t\t\t\n",
        "\t\tif name == 'CONV1D GRU MK6':\n",
        "\t\t\tx = tf.keras.layers.Conv1D(32,3,activation='relu',padding='same')(pred)\n",
        "\t\t\tx = tf.keras.layers.MaxPooling1D()(x)\n",
        "\t\t\tx = tf.keras.layers.Bidirectional(tf.keras.layers.GRU(16,return_sequences=True,dropout=0.2,recurrent_dropout=0.3))(x)\n",
        "\t\t\tx = tf.keras.layers.AveragePooling1D()(x)\n",
        "\t\t\tx = tf.keras.layers.Flatten()(x)\n",
        "\t\t\tx = tf.keras.layers.Dropout(0.2)(x)\n",
        "\t\t\tx = tf.keras.layers.Dense(256,activation='relu')(x)\n",
        "\t\t\tx = tf.keras.layers.Dense(64,activation='relu')(x)\n",
        "\t\t\tx = tf.keras.layers.Dense(16,activation='relu')(x)\n",
        "\t\t\tx = tf.keras.layers.Dense(5,activation='softmax')(x)\n",
        "\t\t\t\n",
        "\t\tif name == 'CONV1D MK7':\n",
        "\t\t\tx = tf.keras.layers.Conv1D(32,3,activation='relu',padding='same')(pred)\n",
        "\t\t\tx = tf.keras.layers.AveragePooling1D()(x)\n",
        "\t\t\tx = tf.keras.layers.Conv1D(32,3,activation='relu',padding='same')(x)\n",
        "\t\t\tx = tf.keras.layers.GlobalAveragePooling1D()(x)\n",
        "\t\t\tx = tf.keras.layers.Dropout(0.2)(x)\n",
        "\t\t\tx = tf.keras.layers.Dense(20,activation='relu')(x)\n",
        "\t\t\tx = tf.keras.layers.Dense(5,activation='softmax')(x)\n",
        "\t\t\n",
        "\t\tif name == 'CONV1D MK8':\n",
        "\t\t\tx = tf.keras.layers.Conv1D(32,3,activation='relu',padding='same')(pred)\n",
        "\t\t\tx = tf.keras.layers.MaxPooling1D()(x)\n",
        "\t\t\tx = tf.keras.layers.Conv1D(32,3,activation='relu',padding='same')(x)\n",
        "\t\t\tx = tf.keras.layers.MaxPooling1D()(x)\n",
        "\t\t\tx = tf.keras.layers.Flatten()(x)\n",
        "\t\t\tx = tf.keras.layers.Dropout(0.2)(x)\n",
        "\t\t\tx = tf.keras.layers.Dense(512,activation='relu')(x)\n",
        "\t\t\tx = tf.keras.layers.Dense(128,activation='relu')(x)\n",
        "\t\t\tx = tf.keras.layers.Dense(32,activation='relu')(x)\n",
        "\t\t\tx = tf.keras.layers.Dense(5,activation='softmax')(x)\n",
        "\t\t\n",
        "\t\tif name == 'CONV1D MK9':\n",
        "\t\t\tx = tf.keras.layers.Conv1D(32,3,activation='relu',padding='same')(pred)\n",
        "\t\t\tx = tf.keras.layers.AveragePooling1D()(x)\n",
        "\t\t\tx = tf.keras.layers.Conv1D(32,3,activation='relu',padding='same')(x)\n",
        "\t\t\tx = tf.keras.layers.AveragePooling1D()(x)\n",
        "\t\t\tx = tf.keras.layers.Flatten()(x)\n",
        "\t\t\tx = tf.keras.layers.Dropout(0.2)(x)\n",
        "\t\t\tx = tf.keras.layers.Dense(512,activation='relu')(x)\n",
        "\t\t\tx = tf.keras.layers.Dense(128,activation='relu')(x)\n",
        "\t\t\tx = tf.keras.layers.Dense(32,activation='relu')(x)\n",
        "\t\t\tx = tf.keras.layers.Dense(5,activation='softmax')(x)\n",
        "\t\t\t\n",
        "\t\tif name == 'SEP CONV1D MK10':\n",
        "\t\t\tx = tf.keras.layers.SeperableConv1D(32,3,activation='relu',padding='same')(pred)\n",
        "\t\t\tx = tf.keras.layers.MaxPooling1D()(x)\n",
        "\t\t\tx = tf.keras.layers.SeparableConv1D(32,3,activation='relu',padding='same')(x)\n",
        "\t\t\tx = tf.keras.layers.GlobalMaxPooling1D()(x)\n",
        "\t\t\tx = tf.keras.layers.Dropout(0.2)(x)\n",
        "\t\t\tx = tf.keras.layers.Dense(20,activation='relu')(x)\n",
        "\t\t\tx = tf.keras.layers.Dense(5,activation='softmax')(x)\n",
        "\t\t\t\n",
        "\t\tif name == 'SEP CONV1D MK11':\n",
        "\t\t\tx = tf.keras.layers.SeperableConv1D(32,3,activation='relu',padding='same')(pred)\n",
        "\t\t\tx = tf.keras.layers.AveragePooling1D()(x)\n",
        "\t\t\tx = tf.keras.layers.SeparableConv1D(32,3,activation='relu',padding='same')(x)\n",
        "\t\t\tx = tf.keras.layers.GlobalAveragePooling1D()(x)\n",
        "\t\t\tx = tf.keras.layers.Dropout(0.2)(x)\n",
        "\t\t\tx = tf.keras.layers.Dense(20,activation='relu')(x)\n",
        "\t\t\tx = tf.keras.layers.Dense(5,activation='softmax')(x)\n",
        "\t\t\n",
        "\t\tif name == 'SEP CONV1D MK12':\n",
        "\t\t\tx = tf.keras.layers.SeparableConv1D(32,3,activation='relu',padding='same')(pred)\n",
        "\t\t\tx = tf.keras.layers.AveragePooling1D()(x)\n",
        "\t\t\tx = tf.keras.layers.SeparableConv1D(32,3,activation='relu',padding='same')(x)\n",
        "\t\t\tx = tf.keras.layers.AveragePooling1D()(x)\n",
        "\t\t\tx = tf.keras.layers.Flatten()(x)\n",
        "\t\t\tx = tf.keras.layers.Dropout(0.2)(x)\n",
        "\t\t\tx = tf.keras.layers.Dense(512,activation='relu')(x)\n",
        "\t\t\tx = tf.keras.layers.Dense(128,activation='relu')(x)\n",
        "\t\t\tx = tf.keras.layers.Dense(32,activation='relu')(x)\n",
        "\t\t\tx = tf.keras.layers.Dense(5,activation='softmax')(x)\n",
        "\t\t\t\n",
        "\t\tif name == 'SEP CONV1D MK13':\n",
        "\t\t\tx = tf.keras.layers.SeparableConv1D(32,3,activation='relu',padding='same')(pred)\n",
        "\t\t\tx = tf.keras.layers.MaxPooling1D()(x)\n",
        "\t\t\tx = tf.keras.layers.SeparableConv1D(32,3,activation='relu',padding='same')(x)\n",
        "\t\t\tx = tf.keras.layers.MaxPooling1D()(x)\n",
        "\t\t\tx = tf.keras.layers.Flatten()(x)\n",
        "\t\t\tx = tf.keras.layers.Dropout(0.2)(x)\n",
        "\t\t\tx = tf.keras.layers.Dense(512,activation='relu')(x)\n",
        "\t\t\tx = tf.keras.layers.Dense(128,activation='relu')(x)\n",
        "\t\t\tx = tf.keras.layers.Dense(32,activation='relu')(x)\n",
        "\t\t\tx = tf.keras.layers.Dense(5,activation='softmax')(x)\n",
        "\t\t\t\n",
        "\t\tif name == 'SEP CONV1D GRU MK14':\n",
        "\t\t\tx = tf.keras.layers.SeparableConv1D(32,3,activation='relu',padding='same')(pred)\n",
        "\t\t\tx = tf.keras.layers.MaxPooling1D()(x)\n",
        "\t\t\tx = tf.keras.layers.Bidirectional(tf.keras.layers.GRU(16,return_sequences=True,dropout=0.2,recurrent_dropout=0.3))(x)\n",
        "\t\t\tx = tf.keras.layers.GlobalMaxPooling1D()(x)\n",
        "\t\t\tx = tf.keras.layers.Dropout(0.2)(x)\n",
        "\t\t\tx = tf.keras.layers.Dense(20,activation='relu')(x)\n",
        "\t\t\tx = tf.keras.layers.Dense(5,activation='softmax')(x)\n",
        "\t\t\t\n",
        "\t\tif name == 'SEP CONV1D GRU MK15':\n",
        "\t\t\tx = tf.keras.layers.SeparableConv1D(32,3,activation='relu',padding='same')(pred)\n",
        "\t\t\tx = tf.keras.layers.AveragePooling1D()(x)\n",
        "\t\t\tx = tf.keras.layers.Bidirectional(tf.keras.layers.GRU(16,return_sequences=True,dropout=0.2,recurrent_dropout=0.3))(x)\n",
        "\t\t\tx = tf.keras.layers.GlobalAveragePooling1D()(x)\n",
        "\t\t\tx = tf.keras.layers.Dropout(0.2)(x)\n",
        "\t\t\tx = tf.keras.layers.Dense(20,activation='relu')(x)\n",
        "\t\t\tx = tf.keras.layers.Dense(5,activation='softmax')(x)\n",
        "\t\t\t\n",
        "\t\tif name == 'SEP CONV1D GRU MK16':\n",
        "\t\t\tx = tf.keras.layers.SeparableConv1D(32,3,activation='relu',padding='same')(pred)\n",
        "\t\t\tx = tf.keras.layers.AveragePooling1D()(x)\n",
        "\t\t\tx = tf.keras.layers.Bidirectional(tf.keras.layers.GRU(16,return_sequences=True,dropout=0.2,recurrent_dropout=0.3))(x)\n",
        "\t\t\tx = tf.keras.layers.AveragePooling1D()(x)\n",
        "\t\t\tx = tf.keras.layers.Flatten()(x)\n",
        "\t\t\tx = tf.keras.layers.Dropout(0.2)(x)\n",
        "\t\t\tx = tf.keras.layers.Dense(256,activation='relu')(x)\n",
        "\t\t\tx = tf.keras.layers.Dense(64,activation='relu')(x)\n",
        "\t\t\tx = tf.keras.layers.Dense(16,activation='relu')(x)\n",
        "\t\t\tx = tf.keras.layers.Dense(5,activation='softmax')(x)\n",
        "\t\t\t\n",
        "\t\tif name == 'SEP CONV1D MK17':\n",
        "\t\t\tx = tf.keras.layers.SeparableConv1D(32,3,activation='relu',padding='same')(pred)\n",
        "\t\t\tx = tf.keras.layers.MaxPooling1D()(x)\n",
        "\t\t\tx = tf.keras.layers.Bidirectional(tf.keras.layers.GRU(16,return_sequences=True,dropout=0.2,recurrent_dropout=0.3))(x)\n",
        "\t\t\tx = tf.keras.layers.MaxPooling1D()(x)\n",
        "\t\t\tx = tf.keras.layers.Flatten()(x)\n",
        "\t\t\tx = tf.keras.layers.Dropout(0.2)(x)\n",
        "\t\t\tx = tf.keras.layers.Dense(256,activation='relu')(x)\n",
        "\t\t\tx = tf.keras.layers.Dense(64,activation='relu')(x)\n",
        "\t\t\tx = tf.keras.layers.Dense(16,activation='relu')(x)\n",
        "\t\t\tx = tf.keras.layers.Dense(5,activation='softmax')(x)\n",
        "\t\t\t\n",
        "\t\tif name == 'BiGRU MK18':\n",
        "\t\t\tx = tf.keras.layers.Bidirectional(tf.keras.layers.GRU(16,return_sequences=True,dropout=0.2,recurrent_dropout=0.3))(x)\n",
        "\t\t\tx = tf.keras.layers.GlobalMaxPooling1D()(x)\n",
        "\t\t\tx = tf.keras.layers.Dropout(0.2)(x)\n",
        "\t\t\tx = tf.keras.layers.Dense(20,activation='relu')(x)\n",
        "\t\t\tx = tf.keras.layers.Dense(5,activation='softmax')(x)\n",
        "\t\t\t\n",
        "\t\tif name == 'BiGRU MK19':\n",
        "\t\t\tx = tf.keras.layers.Bidirectional(tf.keras.layers.GRU(16,return_sequences=True,dropout=0.2,recurrent_dropout=0.3))(x)\n",
        "\t\t\tx = tf.keras.layers.GlobalAveragePooling1D()(x)\n",
        "\t\t\tx = tf.keras.layers.Dropout(0.2)(x)\n",
        "\t\t\tx = tf.keras.layers.Dense(20,activation='relu')(x)\n",
        "\t\t\tx = tf.keras.layers.Dense(5,activation='softmax')(x)\n",
        "\t\t\t\n",
        "\t\tif name == 'BiGRU MK20':\n",
        "\t\t\tx = tf.keras.layers.Bidirectional(tf.keras.layers.GRU(16,return_sequences=True,dropout=0.2,recurrent_dropout=0.3))(x)\n",
        "\t\t\tx = tf.keras.layers.AveragePooling1D()(x)\n",
        "\t\t\tx = tf.keras.layers.Flatten()(x)\n",
        "\t\t\tx = tf.keras.layers.Dropout(0.2)(x)\n",
        "\t\t\tx = tf.keras.layers.Dense(256,activation='relu')(x)\n",
        "\t\t\tx = tf.keras.layers.Dense(64,activation='relu')(x)\n",
        "\t\t\tx = tf.keras.layers.Dense(16,activation='relu')(x)\n",
        "\t\t\tx = tf.keras.layers.Dense(5,activation='softmax')(x)\n",
        "\t\t\t\n",
        "\t\tif name == 'BiGRU MK21':\n",
        "\t\t\tx = tf.keras.layers.Bidirectional(tf.keras.layers.GRU(16,return_sequences=True,dropout=0.2,recurrent_dropout=0.3))(x)\n",
        "\t\t\tx = tf.keras.layers.MaxPooling1D()(x)\n",
        "\t\t\tx = tf.keras.layers.Flatten()(x)\n",
        "\t\t\tx = tf.keras.layers.Dropout(0.2)(x)\n",
        "\t\t\tx = tf.keras.layers.Dense(256,activation='relu')(x)\n",
        "\t\t\tx = tf.keras.layers.Dense(64,activation='relu')(x)\n",
        "\t\t\tx = tf.keras.layers.Dense(16,activation='relu')(x)\n",
        "\t\t\tx = tf.keras.layers.Dense(5,activation='softmax')(x)\n",
        "\t\t\t\n",
        "\t\tif name == 'BiGRU MK22':\n",
        "\t\t\tx = tf.keras.layers.Bidirectional(tf.keras.layers.GRU(16,return_sequences=True,dropout=0.2,recurrent_dropout=0.3))(x)\n",
        "\t\t\tx = tf.keras.layers.Flatten()(x)\n",
        "\t\t\tx = tf.keras.layers.Dropout(0.2)(x)\n",
        "\t\t\tx = tf.keras.layers.Dense(512,activation='relu')(x)\n",
        "\t\t\tx = tf.keras.layers.Dense(128,activation='relu')(x)\n",
        "\t\t\tx = tf.keras.layers.Dense(32,activation='relu')(x)\n",
        "\t\t\tx = tf.keras.layers.Dense(5,activation='softmax')(x)\n",
        "\t\t\t\n",
        "\t\treturn tf.keras.Model([inputs,mask],x)\n",
        "\t\t\n",
        "\t\t\n",
        "\t\t\n",
        "\t\n",
        "\t\t"
      ],
      "execution_count": null,
      "outputs": []
    },
    {
      "cell_type": "code",
      "metadata": {
        "colab": {
          "base_uri": "https://localhost:8080/"
        },
        "id": "XPTzpCIu6crc",
        "outputId": "74fe0851-e867-41c5-db89-c439b680eee7"
      },
      "source": [
        "bert = bertModels('/content/drive/MyDrive/sentiment data/tr_sen_fin.csv')"
      ],
      "execution_count": null,
      "outputs": [
        {
          "output_type": "stream",
          "text": [
            "WARNING:transformers.modeling_tf_utils:Some weights of the model checkpoint at bert-base-uncased were not used when initializing TFBertModel: ['nsp___cls', 'mlm___cls']\n",
            "- This IS expected if you are initializing TFBertModel from the checkpoint of a model trained on another task or with another architecture (e.g. initializing a BertForSequenceClassification model from a BertForPretraining model).\n",
            "- This IS NOT expected if you are initializing TFBertModel from the checkpoint of a model that you expect to be exactly identical (initializing a BertForSequenceClassification model from a BertForSequenceClassification model).\n",
            "WARNING:transformers.modeling_tf_utils:All the weights of TFBertModel were initialized from the model checkpoint at bert-base-uncased.\n",
            "If your task is similar to the task the model of the ckeckpoint was trained on, you can already use TFBertModel for predictions without further training.\n"
          ],
          "name": "stderr"
        }
      ]
    },
    {
      "cell_type": "code",
      "metadata": {
        "colab": {
          "base_uri": "https://localhost:8080/"
        },
        "id": "FedIym7L6ds4",
        "outputId": "94f5554a-88bf-413d-ccdc-c8aa5a0a1ffb"
      },
      "source": [
        "bert.process(['SEP CONV1D GRU MK14','SEP CONV1D GRU MK15','SEP CONV1D GRU MK16'])"
      ],
      "execution_count": null,
      "outputs": [
        {
          "output_type": "stream",
          "text": [
            "\n",
            "------------------ SEP CONV1D GRU MK14 ------------------\n",
            "\n",
            "Model: \"model\"\n",
            "__________________________________________________________________________________________________\n",
            "Layer (type)                    Output Shape         Param #     Connected to                     \n",
            "==================================================================================================\n",
            "input_ids (InputLayer)          [(None, 35)]         0                                            \n",
            "__________________________________________________________________________________________________\n",
            "attention_mask (InputLayer)     [(None, 35)]         0                                            \n",
            "__________________________________________________________________________________________________\n",
            "tf_bert_model_1 (TFBertModel)   ((None, 35, 768), (N 109482240   input_ids[0][0]                  \n",
            "                                                                 attention_mask[0][0]             \n",
            "__________________________________________________________________________________________________\n",
            "separable_conv1d (SeparableConv (None, 35, 32)       26912       tf_bert_model_1[0][0]            \n",
            "__________________________________________________________________________________________________\n",
            "max_pooling1d (MaxPooling1D)    (None, 17, 32)       0           separable_conv1d[0][0]           \n",
            "__________________________________________________________________________________________________\n",
            "bidirectional (Bidirectional)   (None, 17, 32)       4800        max_pooling1d[0][0]              \n",
            "__________________________________________________________________________________________________\n",
            "global_max_pooling1d (GlobalMax (None, 32)           0           bidirectional[0][0]              \n",
            "__________________________________________________________________________________________________\n",
            "dropout_74 (Dropout)            (None, 32)           0           global_max_pooling1d[0][0]       \n",
            "__________________________________________________________________________________________________\n",
            "dense (Dense)                   (None, 20)           660         dropout_74[0][0]                 \n",
            "__________________________________________________________________________________________________\n",
            "dense_1 (Dense)                 (None, 5)            105         dense[0][0]                      \n",
            "==================================================================================================\n",
            "Total params: 109,514,717\n",
            "Trainable params: 32,477\n",
            "Non-trainable params: 109,482,240\n",
            "__________________________________________________________________________________________________\n",
            "Epoch 1/100\n",
            "17250/17250 [==============================] - 453s 25ms/step - loss: 0.9339 - accuracy: 0.6267 - val_loss: 0.6996 - val_accuracy: 0.7334\n",
            "Epoch 2/100\n",
            "17250/17250 [==============================] - 422s 24ms/step - loss: 0.7440 - accuracy: 0.7184 - val_loss: 0.6500 - val_accuracy: 0.7570\n",
            "Epoch 3/100\n",
            "17250/17250 [==============================] - 424s 25ms/step - loss: 0.7124 - accuracy: 0.7319 - val_loss: 0.6476 - val_accuracy: 0.7599\n",
            "Epoch 4/100\n",
            "17250/17250 [==============================] - 422s 24ms/step - loss: 0.6949 - accuracy: 0.7394 - val_loss: 0.6464 - val_accuracy: 0.7591\n",
            "Epoch 5/100\n",
            "17250/17250 [==============================] - 424s 25ms/step - loss: 0.6847 - accuracy: 0.7444 - val_loss: 0.6239 - val_accuracy: 0.7690\n",
            "Epoch 6/100\n",
            "17250/17250 [==============================] - 423s 25ms/step - loss: 0.6779 - accuracy: 0.7459 - val_loss: 0.6173 - val_accuracy: 0.7706\n",
            "Epoch 7/100\n",
            "17250/17250 [==============================] - 425s 25ms/step - loss: 0.6732 - accuracy: 0.7481 - val_loss: 0.6184 - val_accuracy: 0.7694\n",
            "\n",
            "------------------ SEP CONV1D GRU MK15 ------------------\n",
            "\n",
            "Model: \"model_1\"\n",
            "__________________________________________________________________________________________________\n",
            "Layer (type)                    Output Shape         Param #     Connected to                     \n",
            "==================================================================================================\n",
            "input_ids (InputLayer)          [(None, 35)]         0                                            \n",
            "__________________________________________________________________________________________________\n",
            "attention_mask (InputLayer)     [(None, 35)]         0                                            \n",
            "__________________________________________________________________________________________________\n",
            "tf_bert_model_1 (TFBertModel)   ((None, 35, 768), (N 109482240   input_ids[0][0]                  \n",
            "                                                                 attention_mask[0][0]             \n",
            "__________________________________________________________________________________________________\n",
            "separable_conv1d_1 (SeparableCo (None, 35, 32)       26912       tf_bert_model_1[1][0]            \n",
            "__________________________________________________________________________________________________\n",
            "average_pooling1d (AveragePooli (None, 17, 32)       0           separable_conv1d_1[0][0]         \n",
            "__________________________________________________________________________________________________\n",
            "bidirectional_1 (Bidirectional) (None, 17, 32)       4800        average_pooling1d[0][0]          \n",
            "__________________________________________________________________________________________________\n",
            "global_average_pooling1d (Globa (None, 32)           0           bidirectional_1[0][0]            \n",
            "__________________________________________________________________________________________________\n",
            "dropout_75 (Dropout)            (None, 32)           0           global_average_pooling1d[0][0]   \n",
            "__________________________________________________________________________________________________\n",
            "dense_2 (Dense)                 (None, 20)           660         dropout_75[0][0]                 \n",
            "__________________________________________________________________________________________________\n",
            "dense_3 (Dense)                 (None, 5)            105         dense_2[0][0]                    \n",
            "==================================================================================================\n",
            "Total params: 109,514,717\n",
            "Trainable params: 32,477\n",
            "Non-trainable params: 109,482,240\n",
            "__________________________________________________________________________________________________\n",
            "Epoch 1/100\n",
            "17250/17250 [==============================] - 455s 25ms/step - loss: 0.9563 - accuracy: 0.6153 - val_loss: 0.7135 - val_accuracy: 0.7272\n",
            "Epoch 2/100\n",
            "17250/17250 [==============================] - 431s 25ms/step - loss: 0.7528 - accuracy: 0.7122 - val_loss: 0.6579 - val_accuracy: 0.7530\n",
            "Epoch 3/100\n",
            "17250/17250 [==============================] - 430s 25ms/step - loss: 0.7113 - accuracy: 0.7306 - val_loss: 0.6438 - val_accuracy: 0.7599\n",
            "Epoch 4/100\n",
            "17250/17250 [==============================] - 433s 25ms/step - loss: 0.6902 - accuracy: 0.7404 - val_loss: 0.6460 - val_accuracy: 0.7605\n",
            "\n",
            "------------------ SEP CONV1D GRU MK16 ------------------\n",
            "\n",
            "Model: \"model_2\"\n",
            "__________________________________________________________________________________________________\n",
            "Layer (type)                    Output Shape         Param #     Connected to                     \n",
            "==================================================================================================\n",
            "input_ids (InputLayer)          [(None, 35)]         0                                            \n",
            "__________________________________________________________________________________________________\n",
            "attention_mask (InputLayer)     [(None, 35)]         0                                            \n",
            "__________________________________________________________________________________________________\n",
            "tf_bert_model_1 (TFBertModel)   ((None, 35, 768), (N 109482240   input_ids[0][0]                  \n",
            "                                                                 attention_mask[0][0]             \n",
            "__________________________________________________________________________________________________\n",
            "separable_conv1d_2 (SeparableCo (None, 35, 32)       26912       tf_bert_model_1[2][0]            \n",
            "__________________________________________________________________________________________________\n",
            "average_pooling1d_1 (AveragePoo (None, 17, 32)       0           separable_conv1d_2[0][0]         \n",
            "__________________________________________________________________________________________________\n",
            "bidirectional_2 (Bidirectional) (None, 17, 32)       4800        average_pooling1d_1[0][0]        \n",
            "__________________________________________________________________________________________________\n",
            "average_pooling1d_2 (AveragePoo (None, 8, 32)        0           bidirectional_2[0][0]            \n",
            "__________________________________________________________________________________________________\n",
            "flatten (Flatten)               (None, 256)          0           average_pooling1d_2[0][0]        \n",
            "__________________________________________________________________________________________________\n",
            "dropout_76 (Dropout)            (None, 256)          0           flatten[0][0]                    \n",
            "__________________________________________________________________________________________________\n",
            "dense_4 (Dense)                 (None, 256)          65792       dropout_76[0][0]                 \n",
            "__________________________________________________________________________________________________\n",
            "dense_5 (Dense)                 (None, 64)           16448       dense_4[0][0]                    \n",
            "__________________________________________________________________________________________________\n",
            "dense_6 (Dense)                 (None, 16)           1040        dense_5[0][0]                    \n",
            "__________________________________________________________________________________________________\n",
            "dense_7 (Dense)                 (None, 5)            85          dense_6[0][0]                    \n",
            "==================================================================================================\n",
            "Total params: 109,597,317\n",
            "Trainable params: 115,077\n",
            "Non-trainable params: 109,482,240\n",
            "__________________________________________________________________________________________________\n",
            "Epoch 1/100\n",
            "17250/17250 [==============================] - 474s 26ms/step - loss: 0.9428 - accuracy: 0.6197 - val_loss: 0.6965 - val_accuracy: 0.7356\n",
            "Epoch 2/100\n",
            "17250/17250 [==============================] - 440s 26ms/step - loss: 0.7354 - accuracy: 0.7198 - val_loss: 0.6513 - val_accuracy: 0.7554\n",
            "Epoch 3/100\n",
            "17250/17250 [==============================] - 439s 25ms/step - loss: 0.6972 - accuracy: 0.7356 - val_loss: 0.6670 - val_accuracy: 0.7515\n"
          ],
          "name": "stdout"
        }
      ]
    }
  ]
}