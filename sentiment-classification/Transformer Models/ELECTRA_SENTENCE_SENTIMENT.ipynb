{
  "nbformat": 4,
  "nbformat_minor": 0,
  "metadata": {
    "colab": {
      "name": "ELECTRA SENTENCE SENTIMENT.ipynb",
      "provenance": [],
      "collapsed_sections": []
    },
    "kernelspec": {
      "name": "python3",
      "display_name": "Python 3"
    },
    "language_info": {
      "name": "python"
    },
    "accelerator": "TPU"
  },
  "cells": [
    {
      "cell_type": "code",
      "metadata": {
        "colab": {
          "base_uri": "https://localhost:8080/"
        },
        "id": "qQGi-LwSrPJb",
        "outputId": "1c060446-192f-405b-f080-83d790d88e1e"
      },
      "source": [
        "import tensorflow as tf\n",
        "from google.colab import drive\n",
        "drive.mount('/content/drive',force_remount=True)\n",
        "import json\n",
        "import numpy as np\n",
        "import pandas as pd\n",
        "from sklearn.preprocessing import LabelEncoder\n",
        "from keras.utils import np_utils\n",
        "from keras.callbacks import EarlyStopping\n",
        "from sklearn import model_selection"
      ],
      "execution_count": null,
      "outputs": [
        {
          "output_type": "stream",
          "text": [
            "Mounted at /content/drive\n"
          ],
          "name": "stdout"
        }
      ]
    },
    {
      "cell_type": "code",
      "metadata": {
        "colab": {
          "base_uri": "https://localhost:8080/"
        },
        "id": "7oc18CzKsP5g",
        "outputId": "aa82aaf1-bd07-4a7a-ff5f-dbb70129070a"
      },
      "source": [
        "import os\n",
        "import pprint # for pretty printing our device stats\n",
        "\n",
        "if 'COLAB_TPU_ADDR' not in os.environ:\n",
        "    print('ERROR: Not connected to a TPU runtime; please see the first cell in this notebook for instructions!')\n",
        "else:\n",
        "    tpu_address = 'grpc://' + os.environ['COLAB_TPU_ADDR']\n",
        "    print ('TPU address is', tpu_address)\n",
        "\n",
        "    with tf.compat.v1.Session(tpu_address) as session:\n",
        "      devices = session.list_devices()\n",
        "\n",
        "    print('TPU devices:')\n",
        "    pprint.pprint(devices)"
      ],
      "execution_count": null,
      "outputs": [
        {
          "output_type": "stream",
          "text": [
            "TPU address is grpc://10.114.138.226:8470\n",
            "TPU devices:\n",
            "[_DeviceAttributes(/job:tpu_worker/replica:0/task:0/device:CPU:0, CPU, -1, 5316360807497066971),\n",
            " _DeviceAttributes(/job:tpu_worker/replica:0/task:0/device:TPU_SYSTEM:0, TPU_SYSTEM, 8589934592, 5894471499628947671),\n",
            " _DeviceAttributes(/job:tpu_worker/replica:0/task:0/device:XLA_CPU:0, XLA_CPU, 17179869184, 507843696412499820),\n",
            " _DeviceAttributes(/job:tpu_worker/replica:0/task:0/device:TPU:0, TPU, 17179869184, 6377913460836333619),\n",
            " _DeviceAttributes(/job:tpu_worker/replica:0/task:0/device:TPU:1, TPU, 17179869184, -3509206159023295054),\n",
            " _DeviceAttributes(/job:tpu_worker/replica:0/task:0/device:TPU:2, TPU, 17179869184, -2036437699629903303),\n",
            " _DeviceAttributes(/job:tpu_worker/replica:0/task:0/device:TPU:3, TPU, 17179869184, 6122588851052021867),\n",
            " _DeviceAttributes(/job:tpu_worker/replica:0/task:0/device:TPU:4, TPU, 17179869184, -6187566947558879929),\n",
            " _DeviceAttributes(/job:tpu_worker/replica:0/task:0/device:TPU:5, TPU, 17179869184, -842894068242971116),\n",
            " _DeviceAttributes(/job:tpu_worker/replica:0/task:0/device:TPU:6, TPU, 17179869184, -6067855201077382920),\n",
            " _DeviceAttributes(/job:tpu_worker/replica:0/task:0/device:TPU:7, TPU, 17179869184, 7862924366849396170)]\n"
          ],
          "name": "stdout"
        }
      ]
    },
    {
      "cell_type": "code",
      "metadata": {
        "colab": {
          "base_uri": "https://localhost:8080/"
        },
        "id": "T7YJzJSMsZ85",
        "outputId": "53f43a1e-3f0f-4f02-e8d3-b81bb5b80155"
      },
      "source": [
        "resolver = tf.distribute.cluster_resolver.TPUClusterResolver(tpu='')\n",
        "tf.config.experimental_connect_to_cluster(resolver)\n",
        "# This is the TPU initialization code that has to be at the beginning.\n",
        "tf.tpu.experimental.initialize_tpu_system(resolver)\n",
        "print(\"All devices: \", tf.config.list_logical_devices('TPU'))\n",
        "strategy = tf.distribute.TPUStrategy(resolver)"
      ],
      "execution_count": null,
      "outputs": [
        {
          "output_type": "stream",
          "text": [
            "INFO:tensorflow:Initializing the TPU system: grpc://10.114.138.226:8470\n"
          ],
          "name": "stdout"
        },
        {
          "output_type": "stream",
          "text": [
            "INFO:tensorflow:Initializing the TPU system: grpc://10.114.138.226:8470\n"
          ],
          "name": "stderr"
        },
        {
          "output_type": "stream",
          "text": [
            "INFO:tensorflow:Clearing out eager caches\n"
          ],
          "name": "stdout"
        },
        {
          "output_type": "stream",
          "text": [
            "INFO:tensorflow:Clearing out eager caches\n"
          ],
          "name": "stderr"
        },
        {
          "output_type": "stream",
          "text": [
            "INFO:tensorflow:Finished initializing TPU system.\n"
          ],
          "name": "stdout"
        },
        {
          "output_type": "stream",
          "text": [
            "INFO:tensorflow:Finished initializing TPU system.\n"
          ],
          "name": "stderr"
        },
        {
          "output_type": "stream",
          "text": [
            "All devices:  [LogicalDevice(name='/job:worker/replica:0/task:0/device:TPU:7', device_type='TPU'), LogicalDevice(name='/job:worker/replica:0/task:0/device:TPU:6', device_type='TPU'), LogicalDevice(name='/job:worker/replica:0/task:0/device:TPU:5', device_type='TPU'), LogicalDevice(name='/job:worker/replica:0/task:0/device:TPU:4', device_type='TPU'), LogicalDevice(name='/job:worker/replica:0/task:0/device:TPU:3', device_type='TPU'), LogicalDevice(name='/job:worker/replica:0/task:0/device:TPU:0', device_type='TPU'), LogicalDevice(name='/job:worker/replica:0/task:0/device:TPU:1', device_type='TPU'), LogicalDevice(name='/job:worker/replica:0/task:0/device:TPU:2', device_type='TPU')]\n",
            "INFO:tensorflow:Found TPU system:\n"
          ],
          "name": "stdout"
        },
        {
          "output_type": "stream",
          "text": [
            "INFO:tensorflow:Found TPU system:\n"
          ],
          "name": "stderr"
        },
        {
          "output_type": "stream",
          "text": [
            "INFO:tensorflow:*** Num TPU Cores: 8\n"
          ],
          "name": "stdout"
        },
        {
          "output_type": "stream",
          "text": [
            "INFO:tensorflow:*** Num TPU Cores: 8\n"
          ],
          "name": "stderr"
        },
        {
          "output_type": "stream",
          "text": [
            "INFO:tensorflow:*** Num TPU Workers: 1\n"
          ],
          "name": "stdout"
        },
        {
          "output_type": "stream",
          "text": [
            "INFO:tensorflow:*** Num TPU Workers: 1\n"
          ],
          "name": "stderr"
        },
        {
          "output_type": "stream",
          "text": [
            "INFO:tensorflow:*** Num TPU Cores Per Worker: 8\n"
          ],
          "name": "stdout"
        },
        {
          "output_type": "stream",
          "text": [
            "INFO:tensorflow:*** Num TPU Cores Per Worker: 8\n"
          ],
          "name": "stderr"
        },
        {
          "output_type": "stream",
          "text": [
            "INFO:tensorflow:*** Available Device: _DeviceAttributes(/job:localhost/replica:0/task:0/device:CPU:0, CPU, 0, 0)\n"
          ],
          "name": "stdout"
        },
        {
          "output_type": "stream",
          "text": [
            "INFO:tensorflow:*** Available Device: _DeviceAttributes(/job:localhost/replica:0/task:0/device:CPU:0, CPU, 0, 0)\n"
          ],
          "name": "stderr"
        },
        {
          "output_type": "stream",
          "text": [
            "INFO:tensorflow:*** Available Device: _DeviceAttributes(/job:worker/replica:0/task:0/device:CPU:0, CPU, 0, 0)\n"
          ],
          "name": "stdout"
        },
        {
          "output_type": "stream",
          "text": [
            "INFO:tensorflow:*** Available Device: _DeviceAttributes(/job:worker/replica:0/task:0/device:CPU:0, CPU, 0, 0)\n"
          ],
          "name": "stderr"
        },
        {
          "output_type": "stream",
          "text": [
            "INFO:tensorflow:*** Available Device: _DeviceAttributes(/job:worker/replica:0/task:0/device:TPU:0, TPU, 0, 0)\n"
          ],
          "name": "stdout"
        },
        {
          "output_type": "stream",
          "text": [
            "INFO:tensorflow:*** Available Device: _DeviceAttributes(/job:worker/replica:0/task:0/device:TPU:0, TPU, 0, 0)\n"
          ],
          "name": "stderr"
        },
        {
          "output_type": "stream",
          "text": [
            "INFO:tensorflow:*** Available Device: _DeviceAttributes(/job:worker/replica:0/task:0/device:TPU:1, TPU, 0, 0)\n"
          ],
          "name": "stdout"
        },
        {
          "output_type": "stream",
          "text": [
            "INFO:tensorflow:*** Available Device: _DeviceAttributes(/job:worker/replica:0/task:0/device:TPU:1, TPU, 0, 0)\n"
          ],
          "name": "stderr"
        },
        {
          "output_type": "stream",
          "text": [
            "INFO:tensorflow:*** Available Device: _DeviceAttributes(/job:worker/replica:0/task:0/device:TPU:2, TPU, 0, 0)\n"
          ],
          "name": "stdout"
        },
        {
          "output_type": "stream",
          "text": [
            "INFO:tensorflow:*** Available Device: _DeviceAttributes(/job:worker/replica:0/task:0/device:TPU:2, TPU, 0, 0)\n"
          ],
          "name": "stderr"
        },
        {
          "output_type": "stream",
          "text": [
            "INFO:tensorflow:*** Available Device: _DeviceAttributes(/job:worker/replica:0/task:0/device:TPU:3, TPU, 0, 0)\n"
          ],
          "name": "stdout"
        },
        {
          "output_type": "stream",
          "text": [
            "INFO:tensorflow:*** Available Device: _DeviceAttributes(/job:worker/replica:0/task:0/device:TPU:3, TPU, 0, 0)\n"
          ],
          "name": "stderr"
        },
        {
          "output_type": "stream",
          "text": [
            "INFO:tensorflow:*** Available Device: _DeviceAttributes(/job:worker/replica:0/task:0/device:TPU:4, TPU, 0, 0)\n"
          ],
          "name": "stdout"
        },
        {
          "output_type": "stream",
          "text": [
            "INFO:tensorflow:*** Available Device: _DeviceAttributes(/job:worker/replica:0/task:0/device:TPU:4, TPU, 0, 0)\n"
          ],
          "name": "stderr"
        },
        {
          "output_type": "stream",
          "text": [
            "INFO:tensorflow:*** Available Device: _DeviceAttributes(/job:worker/replica:0/task:0/device:TPU:5, TPU, 0, 0)\n"
          ],
          "name": "stdout"
        },
        {
          "output_type": "stream",
          "text": [
            "INFO:tensorflow:*** Available Device: _DeviceAttributes(/job:worker/replica:0/task:0/device:TPU:5, TPU, 0, 0)\n"
          ],
          "name": "stderr"
        },
        {
          "output_type": "stream",
          "text": [
            "INFO:tensorflow:*** Available Device: _DeviceAttributes(/job:worker/replica:0/task:0/device:TPU:6, TPU, 0, 0)\n"
          ],
          "name": "stdout"
        },
        {
          "output_type": "stream",
          "text": [
            "INFO:tensorflow:*** Available Device: _DeviceAttributes(/job:worker/replica:0/task:0/device:TPU:6, TPU, 0, 0)\n"
          ],
          "name": "stderr"
        },
        {
          "output_type": "stream",
          "text": [
            "INFO:tensorflow:*** Available Device: _DeviceAttributes(/job:worker/replica:0/task:0/device:TPU:7, TPU, 0, 0)\n"
          ],
          "name": "stdout"
        },
        {
          "output_type": "stream",
          "text": [
            "INFO:tensorflow:*** Available Device: _DeviceAttributes(/job:worker/replica:0/task:0/device:TPU:7, TPU, 0, 0)\n"
          ],
          "name": "stderr"
        },
        {
          "output_type": "stream",
          "text": [
            "INFO:tensorflow:*** Available Device: _DeviceAttributes(/job:worker/replica:0/task:0/device:TPU_SYSTEM:0, TPU_SYSTEM, 0, 0)\n"
          ],
          "name": "stdout"
        },
        {
          "output_type": "stream",
          "text": [
            "INFO:tensorflow:*** Available Device: _DeviceAttributes(/job:worker/replica:0/task:0/device:TPU_SYSTEM:0, TPU_SYSTEM, 0, 0)\n"
          ],
          "name": "stderr"
        },
        {
          "output_type": "stream",
          "text": [
            "INFO:tensorflow:*** Available Device: _DeviceAttributes(/job:worker/replica:0/task:0/device:XLA_CPU:0, XLA_CPU, 0, 0)\n"
          ],
          "name": "stdout"
        },
        {
          "output_type": "stream",
          "text": [
            "INFO:tensorflow:*** Available Device: _DeviceAttributes(/job:worker/replica:0/task:0/device:XLA_CPU:0, XLA_CPU, 0, 0)\n"
          ],
          "name": "stderr"
        }
      ]
    },
    {
      "cell_type": "code",
      "metadata": {
        "id": "gI3VwzZQqomm"
      },
      "source": [
        "class Conv1D:\n",
        "  def __init__(self):\n",
        "    \n",
        "    self.encoder = LabelEncoder()\n",
        "    self.summary = []\n",
        "\n",
        "  def read_dataset(self,path):\n",
        "    df = pd.read_csv(path)\n",
        "    if 'USE_embed' in list(df.columns):\n",
        "      df = df.drop('Unnamed: 0',axis = 1)\n",
        "      df = df.rename({'USE_embed':'embeddings'},axis = 1)\n",
        "    elif 'ELEC_embed' in list(df.columns):\n",
        "      df = df.rename({'ELEC_embed':'embeddings'},axis = 1)\n",
        "    \n",
        "    d = {1:'VNeg',2:'Neg',3:'Neu',4:'Pos',5:'VPos'}\n",
        "    df['label'] = df['label'].apply(lambda x: d[x])\n",
        "\n",
        "    skf = model_selection.StratifiedKFold(n_splits = 5)\n",
        "\n",
        "    for f, (t_,v_) in enumerate(skf.split(X=df,y=df.label.values)):\n",
        "        df.loc[v_,\"kfold\"] = f\n",
        "\n",
        "    self.dfs_train = [df[df['kfold']!=f] for f in range(0,5)]\n",
        "    self.dfs_valid = [df[df['kfold']==f] for f in range(0,5)]\n",
        "    \n",
        "  def process(self,model):\n",
        "    self.history = self.run_train(model)\n",
        "    return {'summary':self.summary,'history':self.history}\n",
        "  \n",
        "  def get_history(self):\n",
        "    return self.history  \n",
        "\n",
        "  def prepare_data(self,i):\n",
        "    mat_tr = np.matrix([x for x in  self.dfs_train[i]['embeddings'].apply(lambda x: json.loads(x))])\n",
        "    mat_ts = np.matrix([x for x in  self.dfs_valid[i]['embeddings'].apply(lambda x: json.loads(x))])\n",
        "    y_tr = self.dfs_train[i].label.values\n",
        "    y_ts = self.dfs_valid[i].label.values\n",
        "    x_tr = np.squeeze(np.asarray(mat_tr))\n",
        "    x_ts = np.squeeze(np.asarray(mat_ts))\n",
        "    x_tr = x_tr.reshape((x_tr.shape[0],x_tr.shape[1],1))\n",
        "    x_ts = x_ts.reshape((x_ts.shape[0],x_ts.shape[1],1))\n",
        "    encoded_Y_tr = self.encoder.fit_transform(y_tr)\n",
        "    encoded_Y_ts = self.encoder.fit_transform(y_ts)\n",
        "    y_tr = np_utils.to_categorical(encoded_Y_tr)\n",
        "    y_ts = np_utils.to_categorical(encoded_Y_ts)\n",
        "    x_tr = tf.convert_to_tensor(x_tr, np.float32)\n",
        "    y_tr = tf.convert_to_tensor(y_tr, np.float32)\n",
        "    x_ts = tf.convert_to_tensor(x_ts, np.float32)\n",
        "    y_ts = tf.convert_to_tensor(y_ts, np.float32)\n",
        "    # train_ds = tf.data.Dataset.from_tensor_slices((x_tr, y_tr))\n",
        "    # # print(train_ds)\n",
        "    # test_ds = tf.data.Dataset.from_tensor_slices((x_ts, y_ts))\n",
        "    return x_tr,y_tr,x_ts,y_ts\n",
        "\n",
        "  def get_summary(self):\n",
        "    return self.summary\n",
        "\n",
        "  def BiRNN_model(self,sh):\n",
        "    with strategy.scope():\n",
        "      model = tf.keras.models.Sequential([\n",
        "        tf.keras.layers.Input(shape=(sh,1)),\n",
        "        # tf.keras.layers.Conv1D(32,3, activation='relu',padding='valid'),\n",
        "        # tf.keras.layers.MaxPooling1D(pool_size=3),\n",
        "        # tf.keras.layers.Conv1D(32,3, activation='relu',padding='valid'),\n",
        "        # tf.keras.layers.MaxPooling1D(pool_size=3),\n",
        "        # tf.keras.layers.Dropout(0.5),\n",
        "        tf.keras.layers.Bidirectional(tf.keras.layers.SimpleRNN(32,return_sequences=True, dropout=0.2, recurrent_dropout=0.3)),\n",
        "        tf.keras.layers.Flatten(),\n",
        "        tf.keras.layers.Dense(512, activation='sigmoid'),\n",
        "        tf.keras.layers.Dense(256, activation='sigmoid'),\n",
        "        tf.keras.layers.Dense(128, activation='sigmoid'),\n",
        "        tf.keras.layers.Dense(64, activation='sigmoid'),\n",
        "        tf.keras.layers.Dense(2, activation='softmax')        \n",
        "        ])\n",
        "      model.compile(loss='categorical_crossentropy',\n",
        "                optimizer=tf.keras.optimizers.Adam(),\n",
        "                metrics=['accuracy'])\n",
        "      model.summary()\n",
        "    return model\n",
        "  \n",
        "  def BiLSTM_model(self,sh):\n",
        "    with strategy.scope():\n",
        "      model = tf.keras.models.Sequential([\n",
        "        tf.keras.layers.Input(shape=(sh,1)),\n",
        "        # tf.keras.layers.Conv1D(32,3, activation='relu',padding='valid'),\n",
        "        # tf.keras.layers.MaxPooling1D(pool_size=3),\n",
        "        # tf.keras.layers.Conv1D(32,3, activation='relu',padding='valid'),\n",
        "        # tf.keras.layers.MaxPooling1D(pool_size=3),\n",
        "        # tf.keras.layers.Dropout(0.5),\n",
        "        tf.keras.layers.Bidirectional(tf.keras.layers.LSTM(32,return_sequences=True, dropout=0.2, recurrent_dropout=0.3)),\n",
        "        tf.keras.layers.Flatten(),\n",
        "        tf.keras.layers.Dense(512, activation='sigmoid'),\n",
        "        tf.keras.layers.Dense(256, activation='sigmoid'),\n",
        "        tf.keras.layers.Dense(128, activation='sigmoid'),\n",
        "        tf.keras.layers.Dense(64, activation='sigmoid'),\n",
        "        tf.keras.layers.Dense(2, activation='softmax')        \n",
        "        ])\n",
        "      model.compile(loss='categorical_crossentropy',\n",
        "                optimizer=tf.keras.optimizers.Adam(),\n",
        "                metrics=['accuracy'])\n",
        "      model.summary()\n",
        "    return model\n",
        "  \n",
        "  def BiGRU_model(self,sh):\n",
        "    with strategy.scope():\n",
        "      model = tf.keras.models.Sequential([\n",
        "        tf.keras.layers.Input(shape=(sh,1)),\n",
        "        # tf.keras.layers.Conv1D(32,3, activation='relu',padding='valid'),\n",
        "        # tf.keras.layers.MaxPooling1D(pool_size=3),\n",
        "        # tf.keras.layers.Conv1D(32,3, activation='relu',padding='valid'),\n",
        "        # tf.keras.layers.MaxPooling1D(pool_size=3),\n",
        "        # tf.keras.layers.Dropout(0.5),\n",
        "        tf.keras.layers.Bidirectional(tf.keras.layers.GRU(16,return_sequences=True, dropout=0.2, recurrent_dropout=0.3)),\n",
        "        tf.keras.layers.Flatten(),\n",
        "        tf.keras.layers.Dense(512, activation='sigmoid'),\n",
        "        tf.keras.layers.Dense(256, activation='sigmoid'),\n",
        "        tf.keras.layers.Dense(128, activation='sigmoid'),\n",
        "        tf.keras.layers.Dense(64, activation='sigmoid'),\n",
        "        tf.keras.layers.Dense(5, activation='softmax')        \n",
        "        ])\n",
        "      model.compile(loss='categorical_crossentropy',\n",
        "                optimizer=tf.keras.optimizers.Adam(),\n",
        "                metrics=['accuracy'])\n",
        "      model.summary()\n",
        "    return model\n",
        "\n",
        "  def run_train(self,model):\n",
        "    his = []\n",
        "    for i in range(5):\n",
        "      x_tr,y_tr,x_ts,y_ts = self.prepare_data(i)\n",
        "      # print(train_ds.shape)\n",
        "      # print(test_ds.shape)\n",
        "      his.append(model.fit(x = x_tr,y=y_tr,validation_data=(x_ts,y_ts),epochs=100,callbacks=[EarlyStopping()]))\n",
        "      # eval_loss, eval_acc = model.evaluate(x_ts,y_ts)\n",
        "      # his.append((eval_loss,eval_acc))\n",
        "      \n",
        "    return his\n"
      ],
      "execution_count": null,
      "outputs": []
    },
    {
      "cell_type": "code",
      "metadata": {
        "id": "GmyzlgvCrMAq"
      },
      "source": [
        "c = Conv1D()\n",
        "c.read_dataset('/content/drive/MyDrive/sent_elec_690k.csv')"
      ],
      "execution_count": null,
      "outputs": []
    },
    {
      "cell_type": "code",
      "metadata": {
        "colab": {
          "base_uri": "https://localhost:8080/"
        },
        "id": "dSbRi3yBr98E",
        "outputId": "6669f62b-50e3-40d6-b1df-9bd059b2a558"
      },
      "source": [
        "x = c.BiGRU_model(256)"
      ],
      "execution_count": null,
      "outputs": [
        {
          "output_type": "stream",
          "text": [
            "Model: \"sequential\"\n",
            "_________________________________________________________________\n",
            "Layer (type)                 Output Shape              Param #   \n",
            "=================================================================\n",
            "bidirectional (Bidirectional (None, 256, 32)           1824      \n",
            "_________________________________________________________________\n",
            "flatten (Flatten)            (None, 8192)              0         \n",
            "_________________________________________________________________\n",
            "dense (Dense)                (None, 512)               4194816   \n",
            "_________________________________________________________________\n",
            "dense_1 (Dense)              (None, 256)               131328    \n",
            "_________________________________________________________________\n",
            "dense_2 (Dense)              (None, 128)               32896     \n",
            "_________________________________________________________________\n",
            "dense_3 (Dense)              (None, 64)                8256      \n",
            "_________________________________________________________________\n",
            "dense_4 (Dense)              (None, 5)                 325       \n",
            "=================================================================\n",
            "Total params: 4,369,445\n",
            "Trainable params: 4,369,445\n",
            "Non-trainable params: 0\n",
            "_________________________________________________________________\n"
          ],
          "name": "stdout"
        }
      ]
    },
    {
      "cell_type": "code",
      "metadata": {
        "colab": {
          "base_uri": "https://localhost:8080/"
        },
        "id": "JPelWfbVs0Db",
        "outputId": "0c8d8c0f-71ae-4e20-9693-27875eef0440"
      },
      "source": [
        "y = c.process(x)"
      ],
      "execution_count": null,
      "outputs": [
        {
          "output_type": "stream",
          "text": [
            "Epoch 1/100\n",
            "17250/17250 [==============================] - 550s 31ms/step - loss: 1.1686 - accuracy: 0.5143 - val_loss: 1.0050 - val_accuracy: 0.5894\n",
            "Epoch 2/100\n",
            "17250/17250 [==============================] - 540s 31ms/step - loss: 1.0322 - accuracy: 0.5776 - val_loss: 0.9852 - val_accuracy: 0.6007\n",
            "Epoch 3/100\n",
            "17250/17250 [==============================] - 543s 31ms/step - loss: 1.0027 - accuracy: 0.5913 - val_loss: 0.9650 - val_accuracy: 0.6078\n",
            "Epoch 4/100\n",
            "17250/17250 [==============================] - 545s 32ms/step - loss: 0.9785 - accuracy: 0.6020 - val_loss: 0.9533 - val_accuracy: 0.6140\n",
            "Epoch 5/100\n",
            "17250/17250 [==============================] - 537s 31ms/step - loss: 0.9608 - accuracy: 0.6098 - val_loss: 0.9476 - val_accuracy: 0.6176\n",
            "Epoch 6/100\n",
            "17250/17250 [==============================] - 544s 32ms/step - loss: 0.9448 - accuracy: 0.6169 - val_loss: 0.9429 - val_accuracy: 0.6185\n",
            "Epoch 7/100\n",
            "17250/17250 [==============================] - 543s 31ms/step - loss: 0.9298 - accuracy: 0.6223 - val_loss: 0.9328 - val_accuracy: 0.6244\n",
            "Epoch 8/100\n",
            "17250/17250 [==============================] - 540s 31ms/step - loss: 0.9156 - accuracy: 0.6279 - val_loss: 0.9353 - val_accuracy: 0.6243\n",
            "Epoch 1/100\n",
            "17250/17250 [==============================] - 542s 31ms/step - loss: 0.9245 - accuracy: 0.6253 - val_loss: 0.8757 - val_accuracy: 0.6478\n",
            "Epoch 2/100\n",
            "17250/17250 [==============================] - 553s 32ms/step - loss: 0.9113 - accuracy: 0.6314 - val_loss: 0.8846 - val_accuracy: 0.6425\n",
            "Epoch 1/100\n",
            "17250/17250 [==============================] - 541s 31ms/step - loss: 0.9067 - accuracy: 0.6336 - val_loss: 0.8446 - val_accuracy: 0.6612\n",
            "Epoch 2/100\n",
            "17250/17250 [==============================] - 540s 31ms/step - loss: 0.8953 - accuracy: 0.6374 - val_loss: 0.8592 - val_accuracy: 0.6561\n",
            "Epoch 1/100\n",
            "17250/17250 [==============================] - 547s 32ms/step - loss: 0.8918 - accuracy: 0.6396 - val_loss: 0.8535 - val_accuracy: 0.6575\n",
            "Epoch 2/100\n",
            "17250/17250 [==============================] - 546s 32ms/step - loss: 0.8800 - accuracy: 0.6444 - val_loss: 0.8587 - val_accuracy: 0.6553\n",
            "Epoch 1/100\n",
            "17250/17250 [==============================] - 544s 32ms/step - loss: 0.8805 - accuracy: 0.6441 - val_loss: 0.8329 - val_accuracy: 0.6634\n",
            "Epoch 2/100\n",
            "17250/17250 [==============================] - 545s 32ms/step - loss: 0.8712 - accuracy: 0.6482 - val_loss: 0.8283 - val_accuracy: 0.6671\n",
            "Epoch 3/100\n",
            "17250/17250 [==============================] - 547s 32ms/step - loss: 0.8626 - accuracy: 0.6509 - val_loss: 0.8652 - val_accuracy: 0.6537\n"
          ],
          "name": "stdout"
        }
      ]
    },
    {
      "cell_type": "code",
      "metadata": {
        "id": "A_iDFRlbA-SZ"
      },
      "source": [
        "dfs = []\n",
        "for i in range(len(y['history'])):\n",
        "  df = pd.DataFrame.from_dict(y['history'][i].history)\n",
        "  df['fold'] = i+1\n",
        "  df['epoch'] = [i+1 for i in range(len(df))]\n",
        "  dfs.append(df)"
      ],
      "execution_count": null,
      "outputs": []
    },
    {
      "cell_type": "code",
      "metadata": {
        "id": "vcjWOJirBHkk"
      },
      "source": [
        "df_fin = pd.concat(dfs,ignore_index=True)\n",
        "df_fin.to_csv('/content/drive/MyDrive/sent_elec_BiGRU.csv',index = False,header = True)"
      ],
      "execution_count": null,
      "outputs": []
    }
  ]
}